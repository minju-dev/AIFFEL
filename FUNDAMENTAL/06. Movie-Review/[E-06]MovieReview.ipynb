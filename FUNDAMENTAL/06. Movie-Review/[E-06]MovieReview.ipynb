{
 "cells": [
  {
   "cell_type": "markdown",
   "id": "a40b693b",
   "metadata": {},
   "source": [
    "## 🎥🎬 영화리뷰 텍스트 감성분석하기 "
   ]
  },
  {
   "cell_type": "code",
   "execution_count": 1,
   "id": "aa107538",
   "metadata": {},
   "outputs": [],
   "source": [
    "# 필요한 라이브러리 불러오기\n",
    "import re\n",
    "import os\n",
    "import gensim\n",
    "import tensorflow as tf\n",
    "import pandas as pd\n",
    "import numpy as np\n",
    "\n",
    "import matplotlib.pyplot as plt\n",
    "%matplotlib inline\n",
    "\n",
    "from gensim.models import KeyedVectors\n",
    "from gensim.models import word2vec\n",
    "from collections import Counter\n",
    "from konlpy.tag import Mecab\n",
    "from tensorflow.keras.layers import SimpleRNN, Embedding, Dense\n",
    "from tensorflow.keras.layers import GRU, LSTM, Bidirectional\n",
    "from tensorflow.keras.layers import Dropout, Conv1D, MaxPooling1D, GlobalMaxPooling1D\n",
    "from tensorflow.keras.models import Sequential\n",
    "from tensorflow.keras.models import load_model\n",
    "from tensorflow.keras.datasets import imdb\n",
    "from tensorflow.keras.preprocessing.sequence import pad_sequences\n",
    "from tensorflow.keras.callbacks import EarlyStopping, ModelCheckpoint\n",
    "from tensorflow.keras.initializers import Constant\n",
    "from gensim.models.keyedvectors import Word2VecKeyedVectors\n",
    "from tensorflow.keras.layers import Dense, Embedding, Bidirectional, LSTM, Concatenate, Dropout\n",
    "from tensorflow.keras import Input, Model\n",
    "from tensorflow.keras import optimizers"
   ]
  },
  {
   "cell_type": "markdown",
   "id": "c3471f82",
   "metadata": {},
   "source": [
    "### 1. 데이터 준비와 확인"
   ]
  },
  {
   "cell_type": "code",
   "execution_count": 2,
   "id": "9b692543",
   "metadata": {},
   "outputs": [],
   "source": [
    "# 데이터 읽어오기\n",
    "train_data = pd.read_table('~/aiffel/sentiment_classification/data/ratings_train.txt')\n",
    "test_data = pd.read_table('~/aiffel/sentiment_classification/data/ratings_test.txt')"
   ]
  },
  {
   "cell_type": "markdown",
   "id": "33f978b8",
   "metadata": {},
   "source": [
    "### 1.1 Train Data 확인"
   ]
  },
  {
   "cell_type": "code",
   "execution_count": 3,
   "id": "f93481ab",
   "metadata": {},
   "outputs": [
    {
     "name": "stdout",
     "output_type": "stream",
     "text": [
      "(150000, 3)\n"
     ]
    },
    {
     "data": {
      "text/html": [
       "<div>\n",
       "<style scoped>\n",
       "    .dataframe tbody tr th:only-of-type {\n",
       "        vertical-align: middle;\n",
       "    }\n",
       "\n",
       "    .dataframe tbody tr th {\n",
       "        vertical-align: top;\n",
       "    }\n",
       "\n",
       "    .dataframe thead th {\n",
       "        text-align: right;\n",
       "    }\n",
       "</style>\n",
       "<table border=\"1\" class=\"dataframe\">\n",
       "  <thead>\n",
       "    <tr style=\"text-align: right;\">\n",
       "      <th></th>\n",
       "      <th>id</th>\n",
       "      <th>document</th>\n",
       "      <th>label</th>\n",
       "    </tr>\n",
       "  </thead>\n",
       "  <tbody>\n",
       "    <tr>\n",
       "      <th>0</th>\n",
       "      <td>9976970</td>\n",
       "      <td>아 더빙.. 진짜 짜증나네요 목소리</td>\n",
       "      <td>0</td>\n",
       "    </tr>\n",
       "    <tr>\n",
       "      <th>1</th>\n",
       "      <td>3819312</td>\n",
       "      <td>흠...포스터보고 초딩영화줄....오버연기조차 가볍지 않구나</td>\n",
       "      <td>1</td>\n",
       "    </tr>\n",
       "    <tr>\n",
       "      <th>2</th>\n",
       "      <td>10265843</td>\n",
       "      <td>너무재밓었다그래서보는것을추천한다</td>\n",
       "      <td>0</td>\n",
       "    </tr>\n",
       "    <tr>\n",
       "      <th>3</th>\n",
       "      <td>9045019</td>\n",
       "      <td>교도소 이야기구먼 ..솔직히 재미는 없다..평점 조정</td>\n",
       "      <td>0</td>\n",
       "    </tr>\n",
       "    <tr>\n",
       "      <th>4</th>\n",
       "      <td>6483659</td>\n",
       "      <td>사이몬페그의 익살스런 연기가 돋보였던 영화!스파이더맨에서 늙어보이기만 했던 커스틴 ...</td>\n",
       "      <td>1</td>\n",
       "    </tr>\n",
       "  </tbody>\n",
       "</table>\n",
       "</div>"
      ],
      "text/plain": [
       "         id                                           document  label\n",
       "0   9976970                                아 더빙.. 진짜 짜증나네요 목소리      0\n",
       "1   3819312                  흠...포스터보고 초딩영화줄....오버연기조차 가볍지 않구나      1\n",
       "2  10265843                                  너무재밓었다그래서보는것을추천한다      0\n",
       "3   9045019                      교도소 이야기구먼 ..솔직히 재미는 없다..평점 조정      0\n",
       "4   6483659  사이몬페그의 익살스런 연기가 돋보였던 영화!스파이더맨에서 늙어보이기만 했던 커스틴 ...      1"
      ]
     },
     "execution_count": 3,
     "metadata": {},
     "output_type": "execute_result"
    }
   ],
   "source": [
    "print(train_data.shape)\n",
    "train_data.head()"
   ]
  },
  {
   "cell_type": "markdown",
   "id": "ac1dc015",
   "metadata": {},
   "source": [
    "### 1.2 Test Data 확인"
   ]
  },
  {
   "cell_type": "code",
   "execution_count": 4,
   "id": "563b5c59",
   "metadata": {},
   "outputs": [
    {
     "name": "stdout",
     "output_type": "stream",
     "text": [
      "(50000, 3)\n"
     ]
    },
    {
     "data": {
      "text/html": [
       "<div>\n",
       "<style scoped>\n",
       "    .dataframe tbody tr th:only-of-type {\n",
       "        vertical-align: middle;\n",
       "    }\n",
       "\n",
       "    .dataframe tbody tr th {\n",
       "        vertical-align: top;\n",
       "    }\n",
       "\n",
       "    .dataframe thead th {\n",
       "        text-align: right;\n",
       "    }\n",
       "</style>\n",
       "<table border=\"1\" class=\"dataframe\">\n",
       "  <thead>\n",
       "    <tr style=\"text-align: right;\">\n",
       "      <th></th>\n",
       "      <th>id</th>\n",
       "      <th>document</th>\n",
       "      <th>label</th>\n",
       "    </tr>\n",
       "  </thead>\n",
       "  <tbody>\n",
       "    <tr>\n",
       "      <th>0</th>\n",
       "      <td>6270596</td>\n",
       "      <td>굳 ㅋ</td>\n",
       "      <td>1</td>\n",
       "    </tr>\n",
       "    <tr>\n",
       "      <th>1</th>\n",
       "      <td>9274899</td>\n",
       "      <td>GDNTOPCLASSINTHECLUB</td>\n",
       "      <td>0</td>\n",
       "    </tr>\n",
       "    <tr>\n",
       "      <th>2</th>\n",
       "      <td>8544678</td>\n",
       "      <td>뭐야 이 평점들은.... 나쁘진 않지만 10점 짜리는 더더욱 아니잖아</td>\n",
       "      <td>0</td>\n",
       "    </tr>\n",
       "    <tr>\n",
       "      <th>3</th>\n",
       "      <td>6825595</td>\n",
       "      <td>지루하지는 않은데 완전 막장임... 돈주고 보기에는....</td>\n",
       "      <td>0</td>\n",
       "    </tr>\n",
       "    <tr>\n",
       "      <th>4</th>\n",
       "      <td>6723715</td>\n",
       "      <td>3D만 아니었어도 별 다섯 개 줬을텐데.. 왜 3D로 나와서 제 심기를 불편하게 하죠??</td>\n",
       "      <td>0</td>\n",
       "    </tr>\n",
       "  </tbody>\n",
       "</table>\n",
       "</div>"
      ],
      "text/plain": [
       "        id                                           document  label\n",
       "0  6270596                                                굳 ㅋ      1\n",
       "1  9274899                               GDNTOPCLASSINTHECLUB      0\n",
       "2  8544678             뭐야 이 평점들은.... 나쁘진 않지만 10점 짜리는 더더욱 아니잖아      0\n",
       "3  6825595                   지루하지는 않은데 완전 막장임... 돈주고 보기에는....      0\n",
       "4  6723715  3D만 아니었어도 별 다섯 개 줬을텐데.. 왜 3D로 나와서 제 심기를 불편하게 하죠??      0"
      ]
     },
     "execution_count": 4,
     "metadata": {},
     "output_type": "execute_result"
    }
   ],
   "source": [
    "print(test_data.shape)\n",
    "test_data.head()"
   ]
  },
  {
   "cell_type": "markdown",
   "id": "ba6790c8",
   "metadata": {},
   "source": [
    "* 라벨 0이 부정적인 리뷰, 라벨 1이 긍정적인 리뷰\n",
    "* 150,000개의 train data와 50,000개의 test data"
   ]
  },
  {
   "cell_type": "markdown",
   "id": "ad14713b",
   "metadata": {},
   "source": [
    "### 2. 데이터로더 구성"
   ]
  },
  {
   "cell_type": "markdown",
   "id": "4c167367",
   "metadata": {},
   "source": [
    "* 프로젝트에서 다루는 Naver sentiment movie corpus 데이터에 속한 텍스트는 가공되지 않은 상태\n",
    "* 데이터 로더를 구성하는 절차는 `imdb.data_loader()` 메소드와 동일하게 동작하도록 설정하는 절차"
   ]
  },
  {
   "cell_type": "markdown",
   "id": "07842d75",
   "metadata": {},
   "source": [
    "### 2.1 데이터 정제부터 세트 분리까지"
   ]
  },
  {
   "cell_type": "markdown",
   "id": "75b07f5d",
   "metadata": {},
   "source": [
    "* 데이터의 중복 제거\n",
    "* NaN 결측치 제거\n",
    "* 한국어 토크나이저로 토큰화\n",
    "* 불용어(Stopwords) 제거\n",
    "* 사전 word_to_index 구성\n",
    "* 텍스트 스트링을 사전 인덱스 스트링으로 변환\n",
    "* `X_train`, `y_train`, `X_test`, `y_test`, `word_to_index` 리턴"
   ]
  },
  {
   "cell_type": "markdown",
   "id": "b04531d6",
   "metadata": {},
   "source": [
    "* 한글 정규표현식 적용 \\\n",
    "https://wikidocs.net/44249"
   ]
  },
  {
   "cell_type": "code",
   "execution_count": 5,
   "id": "5f04a952",
   "metadata": {},
   "outputs": [],
   "source": [
    "tokenizer = Mecab()\n",
    "# stopwords: 불용어\n",
    "stopwords = ['의','가','이','은','들','는','좀','잘','걍','과','도','를','으로','자','에','와','한','하다']\n",
    "\n",
    "def load_data(train_data, test_data, num_words=10000):\n",
    "    # train data 전처리\n",
    "    # 중복, 특수문자 제거, 공백을 NULL로 변경, 결측치 제거\n",
    "    train_data.drop_duplicates(subset=['document'], inplace=True)\n",
    "    train_data['document'] = train_data['document']\n",
    "    train_data['document'].replace('', np.nan, inplace=True)\n",
    "    train_data = train_data.dropna(how = 'any')\n",
    "\n",
    "    # test data 전처리\n",
    "    # 중복, 특수문자 제거, 공백을 NULL로 변경, 결측치 제거\n",
    "    test_data.drop_duplicates(subset=['document'], inplace=True)\n",
    "    test_data['document'] = test_data['document']\n",
    "    test_data['document'].replace('', np.nan, inplace=True)\n",
    "    test_data = test_data.dropna(how = 'any')\n",
    "    \n",
    "    X_train = []\n",
    "    for sentence in train_data['document']:\n",
    "        temp_X = tokenizer.morphs(sentence) # 토큰화\n",
    "        temp_X = [word for word in temp_X if not word in stopwords] # 불용어 제거\n",
    "        X_train.append(temp_X)\n",
    "\n",
    "    X_test = []\n",
    "    for sentence in test_data['document']:\n",
    "        temp_X = tokenizer.morphs(sentence) # 토큰화\n",
    "        temp_X = [word for word in temp_X if not word in stopwords] # 불용어 제거\n",
    "        X_test.append(temp_X)\n",
    "    \n",
    "    # 단어 사전\n",
    "    # <BOS>: 문장의 시작지점, <PAD>: 패딩용 단어, <UNK>: 사전에 없는(Unknown) 단어\n",
    "    words = np.concatenate(X_train).tolist()\n",
    "    counter = Counter(words)\n",
    "    counter = counter.most_common(10000-4)\n",
    "    vocab = ['<PAD>', '<BOS>', '<UNK>', '<UNUSED>'] + [key for key, _ in counter]\n",
    "    word_to_index = {word:index for index, word in enumerate(vocab)}  # {단어:숫자} 딕셔너리 구조\n",
    "    \n",
    "    # 텍스트를 단어 사전 인덱스로 변환하는 함수\n",
    "    def wordlist_to_indexlist(wordlist):\n",
    "        return [word_to_index[word] if word in word_to_index else word_to_index['<UNK>'] for word in wordlist]\n",
    "        \n",
    "    X_train = list(map(wordlist_to_indexlist, X_train))\n",
    "    X_test = list(map(wordlist_to_indexlist, X_test))\n",
    "        \n",
    "    return X_train, np.array(list(train_data['label'])), X_test, np.array(list(test_data['label'])), word_to_index\n",
    "\n",
    "X_train, y_train, X_test, y_test, word_to_index = load_data(train_data, test_data)"
   ]
  },
  {
   "cell_type": "markdown",
   "id": "5fb066ce",
   "metadata": {},
   "source": [
    "* `load_data()`: data set 전처리 과정 포함. 중복, 특수문자, 결측치를 제거하고 공백을 NULL로 변경하는 동작 수행\n",
    "* 토큰화 진행 후 `{단어:숫자}` 의 딕셔너리 `word_to_index`가 생성되는 동시에 각 단어에 고유한 정수가 부여된다.\n",
    "* 전체 훈련 데이터에서 등장 빈도수가 높은 순서대로 부여된다. \n",
    "* 높은 정수가 부여된 단어들은 등장 빈도수가 매우 낮다는 것을 의미한다.\n",
    "* 등장 빈도수가 3회 미만인 단어들이 이 데이터에서 얼만큼의 비중을 차지하는지 확인해본다.\n",
    "* collections.Counter함수 참조 \\\n",
    "https://www.daleseo.com/python-collections-counter/\n",
    "* 빨간 경고창 참고 \\\n",
    "https://stackoverflow.com/questions/66603854/futurewarning-the-default-value-of-regex-will-change-from-true-to-false-in-a-fu"
   ]
  },
  {
   "cell_type": "code",
   "execution_count": 6,
   "id": "ce2e7e31",
   "metadata": {},
   "outputs": [
    {
     "name": "stdout",
     "output_type": "stream",
     "text": [
      "단어 집합의 크기 : 10000\n",
      "등장 빈도가 2번 이하인 희귀 단어의 수: 3\n",
      "단어 집합에서 희귀 단어의 비율: 0.03\n",
      "전체 등장 빈도에서 희귀 단어 등장 빈도 비율: 6.000600060006001e-06\n"
     ]
    }
   ],
   "source": [
    "threshold = 3\n",
    "total_cnt = len(word_to_index) # 단어의 수\n",
    "rare_cnt = 0 # 등장 빈도수가 threshold보다 작은 단어의 개수를 카운트\n",
    "total_freq = 0 # 훈련 데이터의 전체 단어 빈도수 총 합\n",
    "rare_freq = 0 # 등장 빈도수가 threshold보다 작은 단어의 등장 빈도수의 총 합\n",
    "\n",
    "# 단어와 빈도수의 쌍(pair)을 key와 value로 받는다.\n",
    "for key, value in word_to_index.items():\n",
    "    total_freq = total_freq + value\n",
    "\n",
    "    # 단어의 등장 빈도수가 threshold보다 작으면\n",
    "    if(value < threshold):\n",
    "        rare_cnt = rare_cnt + 1\n",
    "        rare_freq = rare_freq + value\n",
    "\n",
    "print('단어 집합의 크기 :',total_cnt)\n",
    "print('등장 빈도가 %s번 이하인 희귀 단어의 수: %s'%(threshold - 1, rare_cnt))\n",
    "print(\"단어 집합에서 희귀 단어의 비율:\", (rare_cnt / total_cnt)*100)\n",
    "print(\"전체 등장 빈도에서 희귀 단어 등장 빈도 비율:\", (rare_freq / total_freq)*100)"
   ]
  },
  {
   "cell_type": "markdown",
   "id": "ca97cbf3",
   "metadata": {},
   "source": [
    "* 등장 빈도가 낮은 단어가 많지도 않고, 단어의 비율도 커보이지는 않으나,\n",
    "* 원래 단어사전의 크기가 그렇게 큰 편도 아닐 뿐더러\n",
    "* 삭제하지 않더라도 큰 영향은 없어보이므로 그냥 둔다."
   ]
  },
  {
   "cell_type": "code",
   "execution_count": 7,
   "id": "8ac092ad",
   "metadata": {},
   "outputs": [
    {
     "name": "stdout",
     "output_type": "stream",
     "text": [
      "number of train data: 146182, number of test data: 49157\n"
     ]
    }
   ],
   "source": [
    "print(\"number of train data: {}, number of test data: {}\".format(len(X_train), len(X_test)))"
   ]
  },
  {
   "cell_type": "markdown",
   "id": "a9b53599",
   "metadata": {},
   "source": [
    "### 2.2 단어사전 만들기"
   ]
  },
  {
   "cell_type": "code",
   "execution_count": 8,
   "id": "7b60b29c",
   "metadata": {},
   "outputs": [],
   "source": [
    "# {숫자:단어}의 index_to_word 단어 사전 생성\n",
    "index_to_word = {index:word for word, index in word_to_index.items()}"
   ]
  },
  {
   "cell_type": "markdown",
   "id": "556a632c",
   "metadata": {},
   "source": [
    "### 2.3 encode, decode"
   ]
  },
  {
   "cell_type": "markdown",
   "id": "d3b4f02e",
   "metadata": {},
   "source": [
    "* `get_encoded_sentence` : 문장 1개를 활용할 딕셔너리와 함께 주면, 단어 인덱스 리스트 벡터로 변환해 주는 함수\n",
    "* `get_encoded_sentences` : 여러 개의 문장 리스트를 한꺼번에 단어 인덱스 리스트 벡터로 encode해 주는 함수\n",
    "* `get_decoded_sentence` : 숫자 벡터로 encode된 문장을 원래대로 decode하는 함수\n",
    "* `get_decoded_sentences` : 여러 개의 숫자 벡터로 encode된 문장을 한꺼번에 원래대로 decode하는 함수"
   ]
  },
  {
   "cell_type": "code",
   "execution_count": 9,
   "id": "d41f344b",
   "metadata": {},
   "outputs": [],
   "source": [
    "# 모든 문장은 <BOS>로 시작하는 것으로 한다.\n",
    "def get_encoded_sentence(sentence, word_to_index):\n",
    "    return [word_to_index['<BOS>']]+[word_to_index[word] if word in word_to_index else word_to_index['<UNK>'] for word in sentence.split()]\n",
    "\n",
    "def get_encoded_sentences(sentences, word_to_index):\n",
    "    return [get_encoded_sentence(sentence, word_to_index) for sentence in sentences]\n",
    "\n",
    "def get_decoded_sentence(encoded_sentence, index_to_word):                                                   \n",
    "    return ' '.join(index_to_word[index] if index in index_to_word else '<UNK>' for index in encoded_sentence[1:])  #[1:]를 통해 <BOS>를 제외\n",
    "\n",
    "def get_decoded_sentences(encoded_sentences, index_to_word):\n",
    "    return [get_decoded_sentence(encoded_sentence, index_to_word) for encoded_sentence in encoded_sentences]"
   ]
  },
  {
   "cell_type": "code",
   "execution_count": 10,
   "id": "421bdc08",
   "metadata": {},
   "outputs": [
    {
     "name": "stdout",
     "output_type": "stream",
     "text": [
      "[32, 74, 919, 4, 4, 39, 228, 20, 33, 748]\n",
      "더 빙 . . 진짜 짜증 나 네요 목소리\n",
      "Label:  0\n"
     ]
    }
   ],
   "source": [
    "# encode된 텍스트가 정상적으로 decode되는지 확인\n",
    "# 첫번째 리뷰 데이터\n",
    "print(X_train[0])\n",
    "print(get_decoded_sentence(X_train[0], index_to_word))\n",
    "print('Label: ', y_train[0])"
   ]
  },
  {
   "cell_type": "markdown",
   "id": "25bb45f4",
   "metadata": {},
   "source": [
    "### 3. 모델 구성을 위한 데이터 분석"
   ]
  },
  {
   "cell_type": "markdown",
   "id": "cdf6077f",
   "metadata": {},
   "source": [
    "### 3.1 데이터셋 내 문장 길이 분포 확인하기"
   ]
  },
  {
   "cell_type": "markdown",
   "id": "31c02479",
   "metadata": {},
   "source": [
    "### 3.1.1 문장길이 평균, 최대, 표준편차"
   ]
  },
  {
   "cell_type": "code",
   "execution_count": 11,
   "id": "696fb76f",
   "metadata": {},
   "outputs": [
    {
     "name": "stdout",
     "output_type": "stream",
     "text": [
      "문장길이 평균 :  15.9694\n",
      "문장길이 최대 :  116\n",
      "문장길이 표준편차 :  12.8436\n",
      "문장길이 중간 값: 12.0\n",
      "문장길이 제 1 사분위: 7.0\n",
      "문장길이 제 3 사분위: 19.0\n",
      "pad_sequences maxlen :  41\n",
      "전체 문장의 0.9343%가 maxlen 설정값 이내에 포함됩니다!\n"
     ]
    }
   ],
   "source": [
    "# 전체 데이터\n",
    "total_data_text = list(X_train) + list(X_test)\n",
    "\n",
    "# 텍스트데이터 문장길이의 리스트를 생성한 후\n",
    "num_tokens = [len(tokens) for tokens in total_data_text]\n",
    "num_tokens = np.array(num_tokens)\n",
    "\n",
    "# 문장길이의 평균값, 최대값, 표준편차를 계산해 본다. \n",
    "print('문장길이 평균 : ', '%.4f'%np.mean(num_tokens))\n",
    "print('문장길이 최대 : ', np.max(num_tokens))\n",
    "print('문장길이 표준편차 : ', '%.4f'%np.std(num_tokens))\n",
    "print('문장길이 중간 값: {}'.format(np.median(num_tokens)))\n",
    "# 사분위의 대한 경우는 0~100 스케일로 되어있음\n",
    "print('문장길이 제 1 사분위: {}'.format(np.percentile(num_tokens, 25)))\n",
    "print('문장길이 제 3 사분위: {}'.format(np.percentile(num_tokens, 75)))\n",
    "\n",
    "# 예를들어, 최대 길이를 (평균 + 2*표준편차)로 한다면,  \n",
    "max_tokens = np.mean(num_tokens) + 2 * np.std(num_tokens)\n",
    "maxlen = int(max_tokens)\n",
    "print('pad_sequences maxlen : ', maxlen)\n",
    "print('전체 문장의 {:.4f}%가 maxlen 설정값 이내에 포함됩니다!'.format(np.sum(num_tokens < max_tokens) / len(num_tokens)))"
   ]
  },
  {
   "cell_type": "markdown",
   "id": "80e34119",
   "metadata": {},
   "source": [
    "* 문장의 길이가 평균이 16정도이고, 최댓값이 116으로 확인이 된다.\n",
    "* 위에서는 `maxlen`= 41 이 된다.\n",
    "* 평균과 중간값에 차이가 좀 있는 것으로 보아 문장의 길이가 한 쪽으로 치우친 경향이 있을 것으로 예상된다."
   ]
  },
  {
   "cell_type": "markdown",
   "id": "b944a56e",
   "metadata": {},
   "source": [
    "### 3.1.2 문장길이 분포"
   ]
  },
  {
   "cell_type": "code",
   "execution_count": 12,
   "id": "dd688ba2",
   "metadata": {},
   "outputs": [
    {
     "data": {
      "image/png": "[encoded data removed]",
      "text/plain": [
       "<Figure size 432x288 with 1 Axes>"
      ]
     },
     "metadata": {
      "needs_background": "light"
     },
     "output_type": "display_data"
    }
   ],
   "source": [
    "plt.hist(num_tokens, bins=50, color='salmon', label='word')\n",
    "plt.xlabel('length of sentence')\n",
    "plt.ylabel('number of sentence')\n",
    "plt.show()"
   ]
  },
  {
   "cell_type": "markdown",
   "id": "b35c0e38",
   "metadata": {},
   "source": [
    "* 대부분 20이하에 분포되어 있음을 알 수 있다."
   ]
  },
  {
   "cell_type": "code",
   "execution_count": 13,
   "id": "64acc603",
   "metadata": {},
   "outputs": [
    {
     "data": {
      "text/plain": [
       "{'whiskers': [<matplotlib.lines.Line2D at 0x7efc7756a8e0>,\n",
       "  <matplotlib.lines.Line2D at 0x7efc7756abb0>],\n",
       " 'caps': [<matplotlib.lines.Line2D at 0x7efc7756af40>,\n",
       "  <matplotlib.lines.Line2D at 0x7efc7757e310>],\n",
       " 'boxes': [<matplotlib.lines.Line2D at 0x7efc7756a490>],\n",
       " 'medians': [<matplotlib.lines.Line2D at 0x7efc7757e6a0>],\n",
       " 'fliers': [<matplotlib.lines.Line2D at 0x7efc7757edf0>],\n",
       " 'means': [<matplotlib.lines.Line2D at 0x7efc7757ea60>]}"
      ]
     },
     "execution_count": 13,
     "metadata": {},
     "output_type": "execute_result"
    },
    {
     "data": {
      "image/png": "[encoded data removed]",
      "text/plain": [
       "<Figure size 864x360 with 1 Axes>"
      ]
     },
     "metadata": {
      "needs_background": "light"
     },
     "output_type": "display_data"
    }
   ],
   "source": [
    "plt.figure(figsize=(12,5))\n",
    "plt.boxplot(num_tokens, labels=['counts'], showmeans=True)"
   ]
  },
  {
   "cell_type": "markdown",
   "id": "542ac77a",
   "metadata": {},
   "source": [
    "* 이상치가 좀 많이 확인이 되는 것을 볼 수 있다.\n",
    "* 문장길이의 분포가 20이하에서 대부분 몰려 있어 위와 같은 현상이 나타난 듯하다.\n",
    "* 문장길이를 `maxlen`인 41에 맞춰 진행하면 이상치가 어느 정도 삭제되어질 것으로 보여진다."
   ]
  },
  {
   "cell_type": "markdown",
   "id": "07fc8d6e",
   "metadata": {},
   "source": [
    "### 4. 모델 구성을 위한 데이터 가공"
   ]
  },
  {
   "cell_type": "markdown",
   "id": "beb7cce6",
   "metadata": {},
   "source": [
    "* `keras.preprocessing.sequence.pad_sequences`을 활용하여 패딩을 추가\n",
    "* RNN은 입력데이터의 처리 순서 때문에 pre가 훨씬 유리하며, 10% 이상의 테스트 성능 차이를 보이게 된다.\n",
    "* 실제로 그러한지 확인해본다."
   ]
  },
  {
   "cell_type": "markdown",
   "id": "354290a0",
   "metadata": {},
   "source": [
    "### 4.1 pre padding"
   ]
  },
  {
   "cell_type": "code",
   "execution_count": 14,
   "id": "e1190d73",
   "metadata": {},
   "outputs": [
    {
     "name": "stdout",
     "output_type": "stream",
     "text": [
      "(146182, 41)\n",
      "(49157, 41)\n"
     ]
    }
   ],
   "source": [
    "X_train_pre = tf.keras.preprocessing.sequence.pad_sequences(X_train, value=word_to_index[\"<PAD>\"],\n",
    "                                                        padding='pre', maxlen=maxlen)\n",
    "\n",
    "X_test_pre = tf.keras.preprocessing.sequence.pad_sequences(X_test, value=word_to_index[\"<PAD>\"],\n",
    "                                                        padding='pre', maxlen=maxlen)\n",
    "\n",
    "print(X_train_pre.shape)\n",
    "print(X_test_pre.shape)"
   ]
  },
  {
   "cell_type": "code",
   "execution_count": 15,
   "id": "5ffd6b60",
   "metadata": {},
   "outputs": [
    {
     "name": "stdout",
     "output_type": "stream",
     "text": [
      "[  0   0   0   0   0   0   0   0   0   0   0   0   0   0   0   0   0   0\n",
      "   0   0   0   0   0   0   0   0   0   0   0   0   0  32  74 919   4   4\n",
      "  39 228  20  33 748]\n",
      "<PAD> <PAD> <PAD> <PAD> <PAD> <PAD> <PAD> <PAD> <PAD> <PAD> <PAD> <PAD> <PAD> <PAD> <PAD> <PAD> <PAD> <PAD> <PAD> <PAD> <PAD> <PAD> <PAD> <PAD> <PAD> <PAD> <PAD> <PAD> <PAD> <PAD> 아 더 빙 . . 진짜 짜증 나 네요 목소리\n",
      "Label:  0\n"
     ]
    }
   ],
   "source": [
    "# 첫 번째 리뷰데이터\n",
    "# 문장 앞에 padding\n",
    "print(X_train_pre[0])\n",
    "print(get_decoded_sentence(X_train_pre[0], index_to_word))\n",
    "print('Label: ', y_train[0])  "
   ]
  },
  {
   "cell_type": "markdown",
   "id": "b4786a10",
   "metadata": {},
   "source": [
    "### 4.1 post padding"
   ]
  },
  {
   "cell_type": "code",
   "execution_count": 16,
   "id": "317833db",
   "metadata": {},
   "outputs": [
    {
     "name": "stdout",
     "output_type": "stream",
     "text": [
      "(146182, 41)\n",
      "(49157, 41)\n"
     ]
    }
   ],
   "source": [
    "X_train_post = tf.keras.preprocessing.sequence.pad_sequences(X_train, value=word_to_index[\"<PAD>\"],\n",
    "                                                        padding='post', maxlen=maxlen)\n",
    "\n",
    "X_test_post = tf.keras.preprocessing.sequence.pad_sequences(X_test, value=word_to_index[\"<PAD>\"],\n",
    "                                                        padding='post', maxlen=maxlen)\n",
    "\n",
    "print(X_train_post.shape)\n",
    "print(X_test_post.shape)"
   ]
  },
  {
   "cell_type": "code",
   "execution_count": 17,
   "id": "6b35d33a",
   "metadata": {},
   "outputs": [
    {
     "name": "stdout",
     "output_type": "stream",
     "text": [
      "[ 32  74 919   4   4  39 228  20  33 748   0   0   0   0   0   0   0   0\n",
      "   0   0   0   0   0   0   0   0   0   0   0   0   0   0   0   0   0   0\n",
      "   0   0   0   0   0]\n",
      "더 빙 . . 진짜 짜증 나 네요 목소리 <PAD> <PAD> <PAD> <PAD> <PAD> <PAD> <PAD> <PAD> <PAD> <PAD> <PAD> <PAD> <PAD> <PAD> <PAD> <PAD> <PAD> <PAD> <PAD> <PAD> <PAD> <PAD> <PAD> <PAD> <PAD> <PAD> <PAD> <PAD> <PAD> <PAD> <PAD>\n",
      "Label:  0\n"
     ]
    }
   ],
   "source": [
    "# 첫 번째 리뷰데이터\n",
    "# 문장 뒤에 padding\n",
    "print(X_train_post[0])\n",
    "print(get_decoded_sentence(X_train_post[0], index_to_word))\n",
    "print('Label: ', y_train[0])  "
   ]
  },
  {
   "cell_type": "markdown",
   "id": "44c03041",
   "metadata": {},
   "source": [
    "### 5. validation set 및 모델 구성"
   ]
  },
  {
   "cell_type": "markdown",
   "id": "e5e252aa",
   "metadata": {},
   "source": [
    "### 5.1 validation set 준비"
   ]
  },
  {
   "cell_type": "markdown",
   "id": "5c478b03",
   "metadata": {},
   "source": [
    "* 146182개의 train 세트 중에 43000개를 validation 세트로 사용한다. (약 0.3%)"
   ]
  },
  {
   "cell_type": "code",
   "execution_count": 18,
   "id": "b9c4cb33",
   "metadata": {},
   "outputs": [
    {
     "name": "stdout",
     "output_type": "stream",
     "text": [
      "X_val_pre : (43000, 41)\n",
      "X_val_post : (43000, 41)\n",
      "y_val : (43000,)\n",
      "partial_X_train_pre : (103182, 41)\n",
      "partial_X_train_post : (103182, 41)\n",
      "partial_y_train : (103182,)\n"
     ]
    }
   ],
   "source": [
    "# validation set 43000건 분리\n",
    "X_val_pre = X_train_pre[:43000]    # pre 패딩된 train set 분리\n",
    "X_val_post = X_train_post[:43000]  # post 패딩된 train set 분리\n",
    "y_val = y_train[:43000]\n",
    "\n",
    "# validation set을 제외한 나머지\n",
    "partial_X_train_pre = X_train_pre[43000:]\n",
    "partial_X_train_post = X_train_post[43000:]\n",
    "partial_y_train = y_train[43000:]\n",
    "\n",
    "\n",
    "# validation set 갯수 \n",
    "print('X_val_pre :', X_val_pre.shape)\n",
    "print('X_val_post :', X_val_post.shape)\n",
    "print('y_val :', y_val.shape)\n",
    "\n",
    "# 나머지 train set 갯수\n",
    "print('partial_X_train_pre :', partial_X_train_pre.shape)\n",
    "print('partial_X_train_post :', partial_X_train_post.shape)\n",
    "print('partial_y_train :', partial_y_train.shape)"
   ]
  },
  {
   "cell_type": "markdown",
   "id": "1151c8d3",
   "metadata": {},
   "source": [
    "### 5.2 모델 구성"
   ]
  },
  {
   "cell_type": "markdown",
   "id": "55d96f3f",
   "metadata": {},
   "source": [
    "* 다양한 RNN모델 사용\n",
    "  * RNN(Recurrent Neural Network) \\\n",
    "  https://jiho-ml.com/weekly-nlp-18/\n",
    "  * GRU(Gated Recurrent Unit) : LSTM의 간소버전 \\\n",
    "  https://hyen4110.tistory.com/26\n",
    "  * LSTM(Long Term Short Memory) \\\n",
    "  https://dgkim5360.tistory.com/entry/understanding-long-short-term-memory-lstm-kr\n",
    "  * BiLSTM \\\n",
    "  https://ratsgo.github.io/natural%20language%20processing/2017/10/22/manning/ \\\n",
    "  https://keras.io/api/layers/recurrent_layers/bidirectional/\n",
    "* 1D CNN(Convolutional Neural Network) \\\n",
    "https://gmnam.tistory.com/274"
   ]
  },
  {
   "cell_type": "markdown",
   "id": "6b744298",
   "metadata": {},
   "source": [
    "### 5.2.1 RNN(Recurrent Neural Network)"
   ]
  },
  {
   "cell_type": "code",
   "execution_count": 19,
   "id": "4e3c3baa",
   "metadata": {},
   "outputs": [
    {
     "name": "stdout",
     "output_type": "stream",
     "text": [
      "Model: \"sequential\"\n",
      "_________________________________________________________________\n",
      "Layer (type)                 Output Shape              Param #   \n",
      "=================================================================\n",
      "embedding (Embedding)        (None, None, 16)          160000    \n",
      "_________________________________________________________________\n",
      "simple_rnn (SimpleRNN)       (None, 32)                1568      \n",
      "_________________________________________________________________\n",
      "dense (Dense)                (None, 1)                 33        \n",
      "=================================================================\n",
      "Total params: 161,601\n",
      "Trainable params: 161,601\n",
      "Non-trainable params: 0\n",
      "_________________________________________________________________\n"
     ]
    }
   ],
   "source": [
    "# RNN(Recurrent Neural Network)_pre\n",
    "\n",
    "vocab_size = 10000    # 어휘 사전의 크기(10,000개의 단어)\n",
    "word_vector_dim = 16  # 단어 하나를 표현하는 임베딩 벡터의 차원수 (변경가능)\n",
    "\n",
    "# 모델은 다 대 일 구조의 RNN 사용\n",
    "# 마지막 시점에서 두 개의 선택지 중 하나를 예측하는 이진 분류 문제를 수행하는 모델\n",
    "# 활성화 함수로는 relu, sigmoid 사용\n",
    "model1 = Sequential()\n",
    "model1.add(Embedding(vocab_size, word_vector_dim, input_shape=(None,)))\n",
    "model1.add(SimpleRNN(32))\n",
    "model1.add(Dense(1, activation='sigmoid'))\n",
    "\n",
    "model1.summary()"
   ]
  },
  {
   "cell_type": "code",
   "execution_count": 20,
   "id": "b9ba7e32",
   "metadata": {},
   "outputs": [
    {
     "name": "stdout",
     "output_type": "stream",
     "text": [
      "Model: \"sequential_1\"\n",
      "_________________________________________________________________\n",
      "Layer (type)                 Output Shape              Param #   \n",
      "=================================================================\n",
      "embedding_1 (Embedding)      (None, None, 16)          160000    \n",
      "_________________________________________________________________\n",
      "simple_rnn_1 (SimpleRNN)     (None, 32)                1568      \n",
      "_________________________________________________________________\n",
      "dense_1 (Dense)              (None, 1)                 33        \n",
      "=================================================================\n",
      "Total params: 161,601\n",
      "Trainable params: 161,601\n",
      "Non-trainable params: 0\n",
      "_________________________________________________________________\n"
     ]
    }
   ],
   "source": [
    "# RNN(Recurrent Neural Network)_post\n",
    "\n",
    "vocab_size = 10000    # 어휘 사전의 크기(10,000개의 단어)\n",
    "word_vector_dim = 16  # 단어 하나를 표현하는 임베딩 벡터의 차원수 (변경가능)\n",
    "\n",
    "# 모델은 다 대 일 구조의 RNN 사용\n",
    "# 마지막 시점에서 두 개의 선택지 중 하나를 예측하는 이진 분류 문제를 수행하는 모델\n",
    "# 활성화 함수로는 relu, sigmoid 사용\n",
    "model2 = Sequential()\n",
    "model2.add(Embedding(vocab_size, word_vector_dim, input_shape=(None,)))\n",
    "model2.add(SimpleRNN(32))\n",
    "model2.add(Dense(1, activation='sigmoid'))\n",
    "\n",
    "model2.summary()"
   ]
  },
  {
   "cell_type": "markdown",
   "id": "18000a65",
   "metadata": {},
   "source": [
    "### 5.2.2 GRU(Gated Recurrent Unit)"
   ]
  },
  {
   "cell_type": "code",
   "execution_count": 21,
   "id": "f83dd159",
   "metadata": {},
   "outputs": [
    {
     "name": "stdout",
     "output_type": "stream",
     "text": [
      "Model: \"sequential_2\"\n",
      "_________________________________________________________________\n",
      "Layer (type)                 Output Shape              Param #   \n",
      "=================================================================\n",
      "embedding_2 (Embedding)      (None, None, 16)          160000    \n",
      "_________________________________________________________________\n",
      "gru (GRU)                    (None, 128)               56064     \n",
      "_________________________________________________________________\n",
      "dense_2 (Dense)              (None, 1)                 129       \n",
      "=================================================================\n",
      "Total params: 216,193\n",
      "Trainable params: 216,193\n",
      "Non-trainable params: 0\n",
      "_________________________________________________________________\n"
     ]
    }
   ],
   "source": [
    "# GRU(Gated Recurrent Unit)_pre\n",
    "\n",
    "vocab_size = 10000    # 어휘 사전의 크기(10,000개의 단어)\n",
    "word_vector_dim = 16  # 단어 하나를 표현하는 임베딩 벡터의 차원수 (변경가능)\n",
    "\n",
    "# 모델은 다 대 일 구조의 GRU 사용\n",
    "# 마지막 시점에서 두 개의 선택지 중 하나를 예측하는 이진 분류 문제를 수행하는 모델\n",
    "# 활성화 함수로는 sigmoid 사용\n",
    "model3 = Sequential()\n",
    "model3.add(Embedding(vocab_size, word_vector_dim, input_shape=(None,)))\n",
    "model3.add(GRU(128))\n",
    "model3.add(Dense(1, activation='sigmoid'))\n",
    "\n",
    "model3.summary()"
   ]
  },
  {
   "cell_type": "code",
   "execution_count": 22,
   "id": "383dd0f6",
   "metadata": {},
   "outputs": [
    {
     "name": "stdout",
     "output_type": "stream",
     "text": [
      "Model: \"sequential_3\"\n",
      "_________________________________________________________________\n",
      "Layer (type)                 Output Shape              Param #   \n",
      "=================================================================\n",
      "embedding_3 (Embedding)      (None, None, 16)          160000    \n",
      "_________________________________________________________________\n",
      "gru_1 (GRU)                  (None, 128)               56064     \n",
      "_________________________________________________________________\n",
      "dense_3 (Dense)              (None, 1)                 129       \n",
      "=================================================================\n",
      "Total params: 216,193\n",
      "Trainable params: 216,193\n",
      "Non-trainable params: 0\n",
      "_________________________________________________________________\n"
     ]
    }
   ],
   "source": [
    "# GRU(Gated Recurrent Unit)_post\n",
    "\n",
    "vocab_size = 10000    # 어휘 사전의 크기(10,000개의 단어)\n",
    "word_vector_dim = 16  # 단어 하나를 표현하는 임베딩 벡터의 차원수 (변경가능)\n",
    "\n",
    "# 모델은 다 대 일 구조의 GRU 사용\n",
    "# 마지막 시점에서 두 개의 선택지 중 하나를 예측하는 이진 분류 문제를 수행하는 모델\n",
    "# 활성화 함수로는 sigmoid 사용\n",
    "model4 = Sequential()\n",
    "model4.add(Embedding(vocab_size, word_vector_dim, input_shape=(None,)))\n",
    "model4.add(GRU(128))\n",
    "model4.add(Dense(1, activation='sigmoid'))\n",
    "\n",
    "model4.summary()"
   ]
  },
  {
   "cell_type": "markdown",
   "id": "205d5c8b",
   "metadata": {},
   "source": [
    "### 5.2.3 LSTM(Long Term Short Memory)"
   ]
  },
  {
   "cell_type": "code",
   "execution_count": 23,
   "id": "a417f79c",
   "metadata": {},
   "outputs": [
    {
     "name": "stdout",
     "output_type": "stream",
     "text": [
      "Model: \"sequential_4\"\n",
      "_________________________________________________________________\n",
      "Layer (type)                 Output Shape              Param #   \n",
      "=================================================================\n",
      "embedding_4 (Embedding)      (None, None, 16)          160000    \n",
      "_________________________________________________________________\n",
      "lstm (LSTM)                  (None, 8)                 800       \n",
      "_________________________________________________________________\n",
      "dense_4 (Dense)              (None, 8)                 72        \n",
      "_________________________________________________________________\n",
      "dense_5 (Dense)              (None, 1)                 9         \n",
      "=================================================================\n",
      "Total params: 160,881\n",
      "Trainable params: 160,881\n",
      "Non-trainable params: 0\n",
      "_________________________________________________________________\n"
     ]
    }
   ],
   "source": [
    "# LSTM(Long Term Short Memory)_pre\n",
    "\n",
    "vocab_size = 10000    # 어휘 사전의 크기(10,000개의 단어)\n",
    "word_vector_dim = 16  # 단어 하나를 표현하는 임베딩 벡터의 차원수 (변경가능)\n",
    "\n",
    "#  모델은 다 대 일 구조의 LSTM 사용\n",
    "# 마지막 시점에서 두 개의 선택지 중 하나를 예측하는 이진 분류 문제를 수행하는 모델\n",
    "# 활성화 함수로는 relu, softmax 사용\n",
    "model5 = Sequential()\n",
    "model5.add(Embedding(vocab_size, word_vector_dim, input_shape=(None,)))\n",
    "model5.add(LSTM(8))  # LSTM state 벡터의 차원수 (변경가능)\n",
    "model5.add(Dense(8, activation='relu'))\n",
    "model5.add(Dense(1, activation='softmax'))  \n",
    "\n",
    "model5.summary()"
   ]
  },
  {
   "cell_type": "code",
   "execution_count": 24,
   "id": "102678cf",
   "metadata": {},
   "outputs": [
    {
     "name": "stdout",
     "output_type": "stream",
     "text": [
      "Model: \"sequential_5\"\n",
      "_________________________________________________________________\n",
      "Layer (type)                 Output Shape              Param #   \n",
      "=================================================================\n",
      "embedding_5 (Embedding)      (None, None, 16)          160000    \n",
      "_________________________________________________________________\n",
      "lstm_1 (LSTM)                (None, 8)                 800       \n",
      "_________________________________________________________________\n",
      "dense_6 (Dense)              (None, 8)                 72        \n",
      "_________________________________________________________________\n",
      "dense_7 (Dense)              (None, 1)                 9         \n",
      "=================================================================\n",
      "Total params: 160,881\n",
      "Trainable params: 160,881\n",
      "Non-trainable params: 0\n",
      "_________________________________________________________________\n"
     ]
    }
   ],
   "source": [
    "# LSTM(Long Term Short Memory)_post\n",
    "\n",
    "vocab_size = 10000    # 어휘 사전의 크기(10,000개의 단어)\n",
    "word_vector_dim = 16  # 단어 하나를 표현하는 임베딩 벡터의 차원수 (변경가능)\n",
    "\n",
    "#  모델은 다 대 일 구조의 LSTM 사용\n",
    "# 마지막 시점에서 두 개의 선택지 중 하나를 예측하는 이진 분류 문제를 수행하는 모델\n",
    "# 활성화 함수로는 relu, softmax 사용\n",
    "model6 = Sequential()\n",
    "model6.add(Embedding(vocab_size, word_vector_dim, input_shape=(None,)))\n",
    "model6.add(LSTM(8))  # LSTM state 벡터의 차원수 (변경가능)\n",
    "model6.add(Dense(8, activation='relu'))\n",
    "model6.add(Dense(1, activation='softmax'))  \n",
    "\n",
    "model6.summary()"
   ]
  },
  {
   "cell_type": "markdown",
   "id": "127dc3e1",
   "metadata": {},
   "source": [
    "### 5.2.4 BiLSTM(양방향 LSTM)"
   ]
  },
  {
   "cell_type": "code",
   "execution_count": 25,
   "id": "9249ced1",
   "metadata": {},
   "outputs": [
    {
     "name": "stdout",
     "output_type": "stream",
     "text": [
      "Model: \"sequential_6\"\n",
      "_________________________________________________________________\n",
      "Layer (type)                 Output Shape              Param #   \n",
      "=================================================================\n",
      "embedding_6 (Embedding)      (None, None, 16)          160000    \n",
      "_________________________________________________________________\n",
      "bidirectional (Bidirectional (None, 256)               148480    \n",
      "_________________________________________________________________\n",
      "dense_8 (Dense)              (None, 1)                 257       \n",
      "=================================================================\n",
      "Total params: 308,737\n",
      "Trainable params: 308,737\n",
      "Non-trainable params: 0\n",
      "_________________________________________________________________\n"
     ]
    }
   ],
   "source": [
    "# BiLSTM_pre\n",
    "\n",
    "vocab_size = 10000    # 어휘 사전의 크기(10,000개의 단어)\n",
    "word_vector_dim = 16  # 단어 하나를 표현하는 임베딩 벡터의 차원수 (변경가능)\n",
    "\n",
    "model7 = Sequential()\n",
    "model7.add(Embedding(vocab_size, word_vector_dim, input_shape=(None,)))\n",
    "model7.add(Bidirectional(LSTM(128))) # Bidirectional LSTM을 사용\n",
    "model7.add(Dense(1, activation='sigmoid'))\n",
    "\n",
    "model7.summary()"
   ]
  },
  {
   "cell_type": "code",
   "execution_count": 26,
   "id": "dbe9a5b5",
   "metadata": {},
   "outputs": [
    {
     "name": "stdout",
     "output_type": "stream",
     "text": [
      "Model: \"sequential_7\"\n",
      "_________________________________________________________________\n",
      "Layer (type)                 Output Shape              Param #   \n",
      "=================================================================\n",
      "embedding_7 (Embedding)      (None, None, 16)          160000    \n",
      "_________________________________________________________________\n",
      "bidirectional_1 (Bidirection (None, 256)               148480    \n",
      "_________________________________________________________________\n",
      "dense_9 (Dense)              (None, 1)                 257       \n",
      "=================================================================\n",
      "Total params: 308,737\n",
      "Trainable params: 308,737\n",
      "Non-trainable params: 0\n",
      "_________________________________________________________________\n"
     ]
    }
   ],
   "source": [
    "# BiLSTM_post\n",
    "\n",
    "vocab_size = 10000    # 어휘 사전의 크기(10,000개의 단어)\n",
    "word_vector_dim = 16  # 단어 하나를 표현하는 임베딩 벡터의 차원수 (변경가능)\n",
    "\n",
    "model8 = Sequential()\n",
    "model8.add(Embedding(vocab_size, word_vector_dim, input_shape=(None,)))\n",
    "model8.add(Bidirectional(LSTM(128))) # Bidirectional LSTM을 사용\n",
    "model8.add(Dense(1, activation='sigmoid'))\n",
    "\n",
    "model8.summary()"
   ]
  },
  {
   "cell_type": "markdown",
   "id": "0ffb60be",
   "metadata": {},
   "source": [
    "### 5.2.5 1-D CNN(Convolution Neural Network)"
   ]
  },
  {
   "cell_type": "code",
   "execution_count": 27,
   "id": "335f05d5",
   "metadata": {},
   "outputs": [
    {
     "name": "stdout",
     "output_type": "stream",
     "text": [
      "Model: \"sequential_8\"\n",
      "_________________________________________________________________\n",
      "Layer (type)                 Output Shape              Param #   \n",
      "=================================================================\n",
      "embedding_8 (Embedding)      (None, None, 16)          160000    \n",
      "_________________________________________________________________\n",
      "conv1d (Conv1D)              (None, None, 16)          784       \n",
      "_________________________________________________________________\n",
      "max_pooling1d (MaxPooling1D) (None, None, 16)          0         \n",
      "_________________________________________________________________\n",
      "conv1d_1 (Conv1D)            (None, None, 16)          784       \n",
      "_________________________________________________________________\n",
      "global_max_pooling1d (Global (None, 16)                0         \n",
      "_________________________________________________________________\n",
      "dense_10 (Dense)             (None, 8)                 136       \n",
      "_________________________________________________________________\n",
      "dense_11 (Dense)             (None, 1)                 9         \n",
      "=================================================================\n",
      "Total params: 161,713\n",
      "Trainable params: 161,713\n",
      "Non-trainable params: 0\n",
      "_________________________________________________________________\n"
     ]
    }
   ],
   "source": [
    "# 1-D CNN_pre\n",
    "\n",
    "vocab_size = 10000    # 어휘 사전의 크기(10,000개의 단어)\n",
    "word_vector_dim = 16  # 단어 하나를 표현하는 임베딩 벡터의 차원수 (변경가능)\n",
    "\n",
    "# 커널의 크기는 3이며 해당 커널은 총 16개 사용\n",
    "#  해당 모델은 마지막 시점에서 두 개의 선택지 중 하나를 예측하는 이진 분류 문제를 수행하는 모델\n",
    "# 활성화 함수로는 relu, sigmoid 사용\n",
    "model9 = Sequential()\n",
    "model9.add(Embedding(vocab_size, word_vector_dim, input_shape=(None,)))\n",
    "model9.add(Conv1D(16, 3, activation='relu'))\n",
    "model9.add(MaxPooling1D(5))\n",
    "model9.add(Conv1D(16, 3, activation='relu'))\n",
    "model9.add(GlobalMaxPooling1D())\n",
    "model9.add(Dense(8, activation='relu'))\n",
    "model9.add(Dense(1, activation='sigmoid'))\n",
    "\n",
    "model9.summary()"
   ]
  },
  {
   "cell_type": "code",
   "execution_count": 28,
   "id": "e296d501",
   "metadata": {},
   "outputs": [
    {
     "name": "stdout",
     "output_type": "stream",
     "text": [
      "Model: \"sequential_9\"\n",
      "_________________________________________________________________\n",
      "Layer (type)                 Output Shape              Param #   \n",
      "=================================================================\n",
      "embedding_9 (Embedding)      (None, None, 16)          160000    \n",
      "_________________________________________________________________\n",
      "conv1d_2 (Conv1D)            (None, None, 16)          784       \n",
      "_________________________________________________________________\n",
      "max_pooling1d_1 (MaxPooling1 (None, None, 16)          0         \n",
      "_________________________________________________________________\n",
      "conv1d_3 (Conv1D)            (None, None, 16)          784       \n",
      "_________________________________________________________________\n",
      "global_max_pooling1d_1 (Glob (None, 16)                0         \n",
      "_________________________________________________________________\n",
      "dense_12 (Dense)             (None, 8)                 136       \n",
      "_________________________________________________________________\n",
      "dense_13 (Dense)             (None, 1)                 9         \n",
      "=================================================================\n",
      "Total params: 161,713\n",
      "Trainable params: 161,713\n",
      "Non-trainable params: 0\n",
      "_________________________________________________________________\n"
     ]
    }
   ],
   "source": [
    "# 1-D CNN_post\n",
    "\n",
    "vocab_size = 10000    # 어휘 사전의 크기(10,000개의 단어)\n",
    "word_vector_dim = 16  # 단어 하나를 표현하는 임베딩 벡터의 차원수 (변경가능)\n",
    "\n",
    "# 커널의 크기는 3이며 해당 커널은 총 16개 사용\n",
    "# 해당 모델은 마지막 시점에서 두 개의 선택지 중 하나를 예측하는 이진 분류 문제를 수행하는 모델\n",
    "# 활성화 함수로는 relu, sigmoid 사용\n",
    "model10 = Sequential()\n",
    "model10.add(Embedding(vocab_size, word_vector_dim, input_shape=(None,)))\n",
    "model10.add(Conv1D(16, 3, activation='relu'))\n",
    "model10.add(MaxPooling1D(5))\n",
    "model10.add(Conv1D(16, 3, activation='relu'))\n",
    "model10.add(GlobalMaxPooling1D())\n",
    "model10.add(Dense(8, activation='relu'))\n",
    "model10.add(Dense(1, activation='sigmoid'))\n",
    "\n",
    "model10.summary()"
   ]
  },
  {
   "cell_type": "markdown",
   "id": "a1993d92",
   "metadata": {},
   "source": [
    "### 6. 모델 학습 및  평가"
   ]
  },
  {
   "cell_type": "markdown",
   "id": "c882918b",
   "metadata": {},
   "source": [
    "### 6.1 RNN(Recurrent Neural Network)"
   ]
  },
  {
   "cell_type": "markdown",
   "id": "307fdf12",
   "metadata": {},
   "source": [
    "### 6.1.1 RNN(Recurrent Neural Network)_pre 모델 학습"
   ]
  },
  {
   "cell_type": "code",
   "execution_count": 29,
   "id": "bf41a4c6",
   "metadata": {},
   "outputs": [
    {
     "name": "stdout",
     "output_type": "stream",
     "text": [
      "Epoch 1/10\n",
      "807/807 [==============================] - 29s 34ms/step - loss: 0.4322 - acc: 0.7938 - val_loss: 0.3520 - val_acc: 0.8480\n",
      "Epoch 2/10\n",
      "807/807 [==============================] - 27s 34ms/step - loss: 0.3277 - acc: 0.8607 - val_loss: 0.3608 - val_acc: 0.8415\n",
      "Epoch 3/10\n",
      "807/807 [==============================] - 27s 34ms/step - loss: 0.2828 - acc: 0.8837 - val_loss: 0.3793 - val_acc: 0.8377\n",
      "Epoch 4/10\n",
      "807/807 [==============================] - 27s 33ms/step - loss: 0.2301 - acc: 0.9088 - val_loss: 0.4109 - val_acc: 0.8332\n",
      "Epoch 5/10\n",
      "807/807 [==============================] - 27s 34ms/step - loss: 0.1849 - acc: 0.9301 - val_loss: 0.4733 - val_acc: 0.8282\n",
      "Epoch 6/10\n",
      "807/807 [==============================] - 27s 34ms/step - loss: 0.1512 - acc: 0.9442 - val_loss: 0.5145 - val_acc: 0.8225\n",
      "Epoch 7/10\n",
      "807/807 [==============================] - 27s 34ms/step - loss: 0.1261 - acc: 0.9553 - val_loss: 0.5969 - val_acc: 0.8115\n",
      "Epoch 8/10\n",
      "807/807 [==============================] - 27s 34ms/step - loss: 0.1093 - acc: 0.9616 - val_loss: 0.6346 - val_acc: 0.8114\n",
      "Epoch 9/10\n",
      "807/807 [==============================] - 27s 34ms/step - loss: 0.0978 - acc: 0.9656 - val_loss: 0.7397 - val_acc: 0.7991\n",
      "Epoch 10/10\n",
      "807/807 [==============================] - 27s 34ms/step - loss: 0.0894 - acc: 0.9688 - val_loss: 0.7840 - val_acc: 0.7970\n"
     ]
    }
   ],
   "source": [
    "# RNN(Recurrent Neural Network)_pre\n",
    "# 검증 데이터 손실이 2회 증가하면 정해진 에포크가 도달하지 못하였더라도 학습을 조기 종료(Early Stopping)\n",
    "# ModelCheckpoint를 사용하여 검증 데이터의 정확도(val_acc)가 이전보다 좋아질 경우에만 모델을 저장\n",
    "es = EarlyStopping(monitor='val_loss', mode='min', verbose=1, patience=2)\n",
    "mc = ModelCheckpoint('RNN_pre_model.h5', monitor='val_acc', mode='max', verbose=1, save_best_only=True)\n",
    "\n",
    "# 손실 함수로 크로스 엔트로피 함수 사용\n",
    "model1.compile(optimizer='adam', loss='binary_crossentropy', metrics=['acc'])\n",
    "history_RNN_pre = model1.fit(partial_X_train_pre, partial_y_train, epochs=10, \n",
    "                             batch_size=128, validation_data=(X_val_pre, y_val),verbose=1)"
   ]
  },
  {
   "cell_type": "markdown",
   "id": "9996bd4a",
   "metadata": {},
   "source": [
    "### 6.1.2 RNN(Recurrent Neural Network)_pre 모델 평가"
   ]
  },
  {
   "cell_type": "code",
   "execution_count": 30,
   "id": "292214ec",
   "metadata": {},
   "outputs": [
    {
     "data": {
      "image/png": "[encoded data removed]",
      "text/plain": [
       "<Figure size 864x432 with 2 Axes>"
      ]
     },
     "metadata": {
      "needs_background": "light"
     },
     "output_type": "display_data"
    }
   ],
   "source": [
    "history_RNN_pre_dict = history_RNN_pre.history\n",
    "\n",
    "acc = history_RNN_pre_dict['acc']\n",
    "val_acc = history_RNN_pre_dict['val_acc']\n",
    "loss = history_RNN_pre_dict['loss']\n",
    "val_loss = history_RNN_pre_dict['val_loss']\n",
    "\n",
    "epochs = range(1, len(acc) + 1)\n",
    "\n",
    "plt.figure(figsize=(12,6))\n",
    "\n",
    "# loss 그래프\n",
    "plt.subplot(1,2,1)\n",
    "plt.plot(epochs, loss, marker='.', c='red', label='Training loss')\n",
    "plt.plot(epochs, val_loss, marker='.', c='blue', label='Validation loss')\n",
    "plt.title('Training and validation loss')\n",
    "plt.xlabel('Epochs')\n",
    "plt.ylabel('Loss')\n",
    "plt.legend()\n",
    "\n",
    "# accuracy 그래프\n",
    "plt.subplot(1,2,2)\n",
    "plt.plot(epochs, acc, 'g--', label='Training acc')\n",
    "plt.plot(epochs, val_acc, 'k--', label='Validation acc')\n",
    "plt.title('Training and validation accuracy')\n",
    "plt.xlabel('Epochs')\n",
    "plt.ylabel('Accuracy')\n",
    "plt.legend()\n",
    "\n",
    "plt.show()"
   ]
  },
  {
   "cell_type": "code",
   "execution_count": 31,
   "id": "31fd81b6",
   "metadata": {},
   "outputs": [
    {
     "name": "stdout",
     "output_type": "stream",
     "text": [
      "1537/1537 - 6s - loss: 0.8071 - acc: 0.7928\n",
      "[0.8070661425590515, 0.7927660346031189]\n"
     ]
    }
   ],
   "source": [
    "# 모델 평가\n",
    "results = model1.evaluate(X_test_pre, y_test, verbose=2)\n",
    "print(results)"
   ]
  },
  {
   "cell_type": "markdown",
   "id": "449aeace",
   "metadata": {},
   "source": [
    "### 6.1.3 RNN(Recurrent Neural Network)_post 모델 학습"
   ]
  },
  {
   "cell_type": "code",
   "execution_count": 32,
   "id": "a1633172",
   "metadata": {},
   "outputs": [
    {
     "name": "stdout",
     "output_type": "stream",
     "text": [
      "Epoch 1/10\n",
      "807/807 [==============================] - 28s 34ms/step - loss: 0.4734 - acc: 0.7746 - val_loss: 0.4310 - val_acc: 0.8110\n",
      "Epoch 2/10\n",
      "807/807 [==============================] - 27s 34ms/step - loss: 0.3715 - acc: 0.8416 - val_loss: 0.3817 - val_acc: 0.8326\n",
      "Epoch 3/10\n",
      "807/807 [==============================] - 27s 34ms/step - loss: 0.3280 - acc: 0.8644 - val_loss: 0.3704 - val_acc: 0.8382\n",
      "Epoch 4/10\n",
      "807/807 [==============================] - 27s 34ms/step - loss: 0.2948 - acc: 0.8802 - val_loss: 0.3812 - val_acc: 0.8428\n",
      "Epoch 5/10\n",
      "807/807 [==============================] - 27s 34ms/step - loss: 0.2689 - acc: 0.8921 - val_loss: 0.3959 - val_acc: 0.8266\n",
      "Epoch 6/10\n",
      "807/807 [==============================] - 27s 34ms/step - loss: 0.2447 - acc: 0.9041 - val_loss: 0.4010 - val_acc: 0.8349\n",
      "Epoch 7/10\n",
      "807/807 [==============================] - 27s 34ms/step - loss: 0.2255 - acc: 0.9131 - val_loss: 0.4319 - val_acc: 0.8332\n",
      "Epoch 8/10\n",
      "807/807 [==============================] - 27s 34ms/step - loss: 0.2091 - acc: 0.9211 - val_loss: 0.4396 - val_acc: 0.8313\n",
      "Epoch 9/10\n",
      "807/807 [==============================] - 27s 34ms/step - loss: 0.1937 - acc: 0.9281 - val_loss: 0.4828 - val_acc: 0.8097\n",
      "Epoch 10/10\n",
      "807/807 [==============================] - 27s 34ms/step - loss: 0.1820 - acc: 0.9332 - val_loss: 0.4947 - val_acc: 0.8241\n"
     ]
    }
   ],
   "source": [
    "# RNN(Recurrent Neural Network)_post\n",
    "# 검증 데이터 손실이 2회 증가하면 정해진 에포크가 도달하지 못하였더라도 학습을 조기 종료(Early Stopping)\n",
    "# ModelCheckpoint를 사용하여 검증 데이터의 정확도(val_acc)가 이전보다 좋아질 경우에만 모델을 저장\n",
    "es = EarlyStopping(monitor='val_loss', mode='min', verbose=1, patience=2)\n",
    "mc = ModelCheckpoint('RNN_post_model.h5', monitor='val_acc', mode='max', verbose=1, save_best_only=True)\n",
    "\n",
    "# 손실 함수로 크로스 엔트로피 함수 사용\n",
    "model2.compile(optimizer='adam', loss='binary_crossentropy', metrics=['acc'])\n",
    "history_RNN_post = model2.fit(partial_X_train_post, partial_y_train, epochs=10, \n",
    "                              batch_size=128, validation_data=(X_val_post, y_val),verbose=1)"
   ]
  },
  {
   "cell_type": "markdown",
   "id": "d6661a79",
   "metadata": {},
   "source": [
    "### 6.1.4 RNN(Recurrent Neural Network)_post 모델 평가"
   ]
  },
  {
   "cell_type": "code",
   "execution_count": 33,
   "id": "42e47f1e",
   "metadata": {},
   "outputs": [
    {
     "data": {
      "image/png": "[encoded data removed]",
      "text/plain": [
       "<Figure size 864x432 with 2 Axes>"
      ]
     },
     "metadata": {
      "needs_background": "light"
     },
     "output_type": "display_data"
    }
   ],
   "source": [
    "history_RNN_post_dict = history_RNN_post.history\n",
    "\n",
    "acc = history_RNN_post_dict['acc']\n",
    "val_acc = history_RNN_post_dict['val_acc']\n",
    "loss = history_RNN_post_dict['loss']\n",
    "val_loss = history_RNN_post_dict['val_loss']\n",
    "\n",
    "epochs = range(1, len(acc) + 1)\n",
    "\n",
    "plt.figure(figsize=(12,6))\n",
    "\n",
    "# loss 그래프\n",
    "plt.subplot(1,2,1)\n",
    "plt.plot(epochs, loss, marker='.', c='red', label='Training loss')\n",
    "plt.plot(epochs, val_loss, marker='.', c='blue', label='Validation loss')\n",
    "plt.title('Training and validation loss')\n",
    "plt.xlabel('Epochs')\n",
    "plt.ylabel('Loss')\n",
    "plt.legend()\n",
    "\n",
    "# accuracy 그래프\n",
    "plt.subplot(1,2,2)\n",
    "plt.plot(epochs, acc, 'g--', label='Training acc')\n",
    "plt.plot(epochs, val_acc, 'k--', label='Validation acc')\n",
    "plt.title('Training and validation accuracy')\n",
    "plt.xlabel('Epochs')\n",
    "plt.ylabel('Accuracy')\n",
    "plt.legend()\n",
    "\n",
    "plt.show()"
   ]
  },
  {
   "cell_type": "code",
   "execution_count": 34,
   "id": "3483a2a0",
   "metadata": {},
   "outputs": [
    {
     "name": "stdout",
     "output_type": "stream",
     "text": [
      "1537/1537 - 6s - loss: 0.5015 - acc: 0.8210\n",
      "[0.5015251040458679, 0.8210224509239197]\n"
     ]
    }
   ],
   "source": [
    "# 모델 평가\n",
    "results = model2.evaluate(X_test_post, y_test, verbose=2)\n",
    "print(results)"
   ]
  },
  {
   "cell_type": "markdown",
   "id": "10e57ce9",
   "metadata": {},
   "source": [
    "### 6.2 GRU(Gated Recurrent Unit)"
   ]
  },
  {
   "cell_type": "markdown",
   "id": "d86c4557",
   "metadata": {},
   "source": [
    "### 6.2.1 GRU(Gated Recurrent Unit)_pre 모델 학습"
   ]
  },
  {
   "cell_type": "code",
   "execution_count": 35,
   "id": "ad6b143f",
   "metadata": {},
   "outputs": [
    {
     "name": "stdout",
     "output_type": "stream",
     "text": [
      "Epoch 1/10\n",
      "807/807 [==============================] - 8s 6ms/step - loss: 0.4079 - acc: 0.8102 - val_loss: 0.3578 - val_acc: 0.8430\n",
      "Epoch 2/10\n",
      "807/807 [==============================] - 5s 6ms/step - loss: 0.3266 - acc: 0.8599 - val_loss: 0.3402 - val_acc: 0.8519\n",
      "Epoch 3/10\n",
      "807/807 [==============================] - 5s 6ms/step - loss: 0.2955 - acc: 0.8764 - val_loss: 0.3335 - val_acc: 0.8563\n",
      "Epoch 4/10\n",
      "807/807 [==============================] - 5s 6ms/step - loss: 0.2678 - acc: 0.8899 - val_loss: 0.3326 - val_acc: 0.8580\n",
      "Epoch 5/10\n",
      "807/807 [==============================] - 5s 6ms/step - loss: 0.2429 - acc: 0.9021 - val_loss: 0.3494 - val_acc: 0.8546\n",
      "Epoch 6/10\n",
      "807/807 [==============================] - 5s 6ms/step - loss: 0.2202 - acc: 0.9120 - val_loss: 0.3687 - val_acc: 0.8519\n",
      "Epoch 7/10\n",
      "807/807 [==============================] - 5s 6ms/step - loss: 0.2010 - acc: 0.9213 - val_loss: 0.3946 - val_acc: 0.8509\n",
      "Epoch 8/10\n",
      "807/807 [==============================] - 5s 6ms/step - loss: 0.1830 - acc: 0.9280 - val_loss: 0.4209 - val_acc: 0.8500\n",
      "Epoch 9/10\n",
      "807/807 [==============================] - 5s 6ms/step - loss: 0.1660 - acc: 0.9361 - val_loss: 0.4616 - val_acc: 0.8460\n",
      "Epoch 10/10\n",
      "807/807 [==============================] - 5s 6ms/step - loss: 0.1508 - acc: 0.9424 - val_loss: 0.4980 - val_acc: 0.8426\n"
     ]
    }
   ],
   "source": [
    "# GRU(Gated Recurrent Unit)_pre\n",
    "# 검증 데이터 손실이 2회 증가하면 정해진 에포크가 도달하지 못하였더라도 학습을 조기 종료(Early Stopping)\n",
    "# ModelCheckpoint를 사용하여 검증 데이터의 정확도(val_acc)가 이전보다 좋아질 경우에만 모델을 저장\n",
    "es = EarlyStopping(monitor='val_loss', mode='min', verbose=1, patience=2)\n",
    "mc = ModelCheckpoint('GRU_pre_model.h5', monitor='val_acc', mode='max', verbose=1, save_best_only=True)\n",
    "\n",
    "# 손실 함수로 크로스 엔트로피 함수 사용\n",
    "model3.compile(optimizer='adam', loss='binary_crossentropy', metrics=['acc'])\n",
    "history_GRU_pre = model3.fit(partial_X_train_pre, partial_y_train, epochs=10, \n",
    "                             batch_size=128, validation_data=(X_val_pre, y_val),verbose=1)"
   ]
  },
  {
   "cell_type": "markdown",
   "id": "0605dabf",
   "metadata": {},
   "source": [
    "### 6.2.2 GRU(Gated Recurrent Unit)_pre 모델 평가"
   ]
  },
  {
   "cell_type": "code",
   "execution_count": 36,
   "id": "c2fa8f63",
   "metadata": {},
   "outputs": [
    {
     "data": {
      "image/png": "[encoded data removed]",
      "text/plain": [
       "<Figure size 864x432 with 2 Axes>"
      ]
     },
     "metadata": {
      "needs_background": "light"
     },
     "output_type": "display_data"
    }
   ],
   "source": [
    "history_GRU_pre_dict = history_GRU_pre.history\n",
    "\n",
    "acc = history_GRU_pre_dict['acc']\n",
    "val_acc = history_GRU_pre_dict['val_acc']\n",
    "loss = history_GRU_pre_dict['loss']\n",
    "val_loss = history_GRU_pre_dict['val_loss']\n",
    "\n",
    "epochs = range(1, len(acc) + 1)\n",
    "\n",
    "plt.figure(figsize=(12,6))\n",
    "\n",
    "# loss 그래프\n",
    "plt.subplot(1,2,1)\n",
    "plt.plot(epochs, loss, marker='.', c='red', label='Training loss')\n",
    "plt.plot(epochs, val_loss, marker='.', c='blue', label='Validation loss')\n",
    "plt.title('Training and validation loss')\n",
    "plt.xlabel('Epochs')\n",
    "plt.ylabel('Loss')\n",
    "plt.legend()\n",
    "\n",
    "# accuracy 그래프\n",
    "plt.subplot(1,2,2)\n",
    "plt.plot(epochs, acc, 'g--', label='Training acc')\n",
    "plt.plot(epochs, val_acc, 'k--', label='Validation acc')\n",
    "plt.title('Training and validation accuracy')\n",
    "plt.xlabel('Epochs')\n",
    "plt.ylabel('Accuracy')\n",
    "plt.legend()\n",
    "\n",
    "plt.show()"
   ]
  },
  {
   "cell_type": "code",
   "execution_count": 37,
   "id": "e5c49037",
   "metadata": {},
   "outputs": [
    {
     "name": "stdout",
     "output_type": "stream",
     "text": [
      "1537/1537 - 3s - loss: 0.5040 - acc: 0.8392\n",
      "[0.5040484666824341, 0.8392497301101685]\n"
     ]
    }
   ],
   "source": [
    "# 모델 평가\n",
    "results = model3.evaluate(X_test_pre, y_test, verbose=2)\n",
    "print(results)"
   ]
  },
  {
   "cell_type": "markdown",
   "id": "b2ef61c9",
   "metadata": {},
   "source": [
    "### 6.2.3 GRU(Gated Recurrent Unit)_post 모델학습"
   ]
  },
  {
   "cell_type": "code",
   "execution_count": 38,
   "id": "3aa0be3d",
   "metadata": {},
   "outputs": [
    {
     "name": "stdout",
     "output_type": "stream",
     "text": [
      "Epoch 1/10\n",
      "807/807 [==============================] - 6s 6ms/step - loss: 0.5685 - acc: 0.6508 - val_loss: 0.3655 - val_acc: 0.8408\n",
      "Epoch 2/10\n",
      "807/807 [==============================] - 5s 6ms/step - loss: 0.3475 - acc: 0.8513 - val_loss: 0.3390 - val_acc: 0.8531\n",
      "Epoch 3/10\n",
      "807/807 [==============================] - 5s 6ms/step - loss: 0.3027 - acc: 0.8738 - val_loss: 0.3262 - val_acc: 0.8580\n",
      "Epoch 4/10\n",
      "807/807 [==============================] - 5s 6ms/step - loss: 0.2712 - acc: 0.8883 - val_loss: 0.3352 - val_acc: 0.8580\n",
      "Epoch 5/10\n",
      "807/807 [==============================] - 5s 6ms/step - loss: 0.2475 - acc: 0.8990 - val_loss: 0.3472 - val_acc: 0.8585\n",
      "Epoch 6/10\n",
      "807/807 [==============================] - 5s 6ms/step - loss: 0.2277 - acc: 0.9081 - val_loss: 0.3535 - val_acc: 0.8532\n",
      "Epoch 7/10\n",
      "807/807 [==============================] - 5s 6ms/step - loss: 0.2129 - acc: 0.9140 - val_loss: 0.4057 - val_acc: 0.8503\n",
      "Epoch 8/10\n",
      "807/807 [==============================] - 5s 6ms/step - loss: 0.1991 - acc: 0.9206 - val_loss: 0.3841 - val_acc: 0.8532\n",
      "Epoch 9/10\n",
      "807/807 [==============================] - 5s 6ms/step - loss: 0.1853 - acc: 0.9264 - val_loss: 0.4120 - val_acc: 0.8477\n",
      "Epoch 10/10\n",
      "807/807 [==============================] - 5s 6ms/step - loss: 0.1721 - acc: 0.9329 - val_loss: 0.4385 - val_acc: 0.8471\n"
     ]
    }
   ],
   "source": [
    "# GRU(Gated Recurrent Unit)_post\n",
    "# 검증 데이터 손실이 2회 증가하면 정해진 에포크가 도달하지 못하였더라도 학습을 조기 종료(Early Stopping)\n",
    "# ModelCheckpoint를 사용하여 검증 데이터의 정확도(val_acc)가 이전보다 좋아질 경우에만 모델을 저장\n",
    "es = EarlyStopping(monitor='val_loss', mode='min', verbose=1, patience=2)\n",
    "mc = ModelCheckpoint('GRU_post_model.h5', monitor='val_acc', mode='max', verbose=1, save_best_only=True)\n",
    "\n",
    "# 손실 함수로 크로스 엔트로피 함수를 사용\n",
    "model4.compile(optimizer='adam', loss='binary_crossentropy', metrics=['acc'])\n",
    "history_GRU_post = model4.fit(partial_X_train_post, partial_y_train, epochs=10, \n",
    "                              batch_size=128, validation_data=(X_val_post, y_val),verbose=1)"
   ]
  },
  {
   "cell_type": "markdown",
   "id": "578b6842",
   "metadata": {},
   "source": [
    "### 6.2.4 GRU(Gated Recurrent Unit)_post 모델평가"
   ]
  },
  {
   "cell_type": "code",
   "execution_count": 39,
   "id": "5534bece",
   "metadata": {},
   "outputs": [
    {
     "data": {
      "image/png": "[encoded data removed]",
      "text/plain": [
       "<Figure size 864x432 with 2 Axes>"
      ]
     },
     "metadata": {
      "needs_background": "light"
     },
     "output_type": "display_data"
    }
   ],
   "source": [
    "history_GRU_post_dict = history_GRU_post.history\n",
    "\n",
    "acc = history_GRU_post_dict['acc']\n",
    "val_acc = history_GRU_post_dict['val_acc']\n",
    "loss = history_GRU_post_dict['loss']\n",
    "val_loss = history_GRU_post_dict['val_loss']\n",
    "\n",
    "epochs = range(1, len(acc) + 1)\n",
    "\n",
    "plt.figure(figsize=(12,6))\n",
    "\n",
    "# loss 그래프\n",
    "plt.subplot(1,2,1)\n",
    "plt.plot(epochs, loss, marker='.', c='red', label='Training loss')\n",
    "plt.plot(epochs, val_loss, marker='.', c='blue', label='Validation loss')\n",
    "plt.title('Training and validation loss')\n",
    "plt.xlabel('Epochs')\n",
    "plt.ylabel('Loss')\n",
    "plt.legend()\n",
    "\n",
    "# accuracy 그래프\n",
    "plt.subplot(1,2,2)\n",
    "plt.plot(epochs, acc, 'g--', label='Training acc')\n",
    "plt.plot(epochs, val_acc, 'k--', label='Validation acc')\n",
    "plt.title('Training and validation accuracy')\n",
    "plt.xlabel('Epochs')\n",
    "plt.ylabel('Accuracy')\n",
    "plt.legend()\n",
    "\n",
    "plt.show()"
   ]
  },
  {
   "cell_type": "code",
   "execution_count": 40,
   "id": "c393a41d",
   "metadata": {},
   "outputs": [
    {
     "name": "stdout",
     "output_type": "stream",
     "text": [
      "1537/1537 - 3s - loss: 0.4506 - acc: 0.8402\n",
      "[0.4506499171257019, 0.8401651978492737]\n"
     ]
    }
   ],
   "source": [
    "# 모델 평가\n",
    "results = model4.evaluate(X_test_post, y_test, verbose=2)\n",
    "print(results)"
   ]
  },
  {
   "cell_type": "markdown",
   "id": "7f2a30c4",
   "metadata": {},
   "source": [
    "### 6.3 LSTM(Long Term Short Memory)"
   ]
  },
  {
   "cell_type": "markdown",
   "id": "c63b8c58",
   "metadata": {},
   "source": [
    "### 6.3.1 LSTM(Long Term Short Memory)_pre 모델학습"
   ]
  },
  {
   "cell_type": "code",
   "execution_count": 41,
   "id": "a8f2e7b9",
   "metadata": {},
   "outputs": [
    {
     "name": "stdout",
     "output_type": "stream",
     "text": [
      "Epoch 1/10\n",
      "807/807 [==============================] - 6s 6ms/step - loss: 0.4371 - acc: 0.4978 - val_loss: 0.3526 - val_acc: 0.4994\n",
      "Epoch 2/10\n",
      "807/807 [==============================] - 4s 6ms/step - loss: 0.3323 - acc: 0.4978 - val_loss: 0.3471 - val_acc: 0.4994\n",
      "Epoch 3/10\n",
      "807/807 [==============================] - 4s 6ms/step - loss: 0.3074 - acc: 0.4978 - val_loss: 0.3444 - val_acc: 0.4994\n",
      "Epoch 4/10\n",
      "807/807 [==============================] - 4s 6ms/step - loss: 0.2874 - acc: 0.4978 - val_loss: 0.3481 - val_acc: 0.4994\n",
      "Epoch 5/10\n",
      "807/807 [==============================] - 5s 6ms/step - loss: 0.2672 - acc: 0.4978 - val_loss: 0.3573 - val_acc: 0.4994\n",
      "Epoch 6/10\n",
      "807/807 [==============================] - 4s 6ms/step - loss: 0.2485 - acc: 0.4978 - val_loss: 0.3721 - val_acc: 0.4994\n",
      "Epoch 7/10\n",
      "807/807 [==============================] - 5s 6ms/step - loss: 0.2290 - acc: 0.4978 - val_loss: 0.3601 - val_acc: 0.4994\n",
      "Epoch 8/10\n",
      "807/807 [==============================] - 4s 6ms/step - loss: 0.2113 - acc: 0.4978 - val_loss: 0.3749 - val_acc: 0.4994\n",
      "Epoch 9/10\n",
      "807/807 [==============================] - 5s 6ms/step - loss: 0.1950 - acc: 0.4978 - val_loss: 0.3952 - val_acc: 0.4994\n",
      "Epoch 10/10\n",
      "807/807 [==============================] - 5s 6ms/step - loss: 0.1805 - acc: 0.4978 - val_loss: 0.4406 - val_acc: 0.4994\n"
     ]
    }
   ],
   "source": [
    "# LSTM(Long Term Short Memory)_pre\n",
    "# 검증 데이터 손실이 2회 증가하면 정해진 에포크가 도달하지 못하였더라도 학습을 조기 종료(Early Stopping)\n",
    "# ModelCheckpoint를 사용하여 검증 데이터의 정확도(val_acc)가 이전보다 좋아질 경우에만 모델을 저장\n",
    "es = EarlyStopping(monitor='val_loss', mode='min', verbose=1, patience=2)\n",
    "mc = ModelCheckpoint('LSTM_pre_model.h5', monitor='val_acc', mode='max', verbose=1, save_best_only=True)\n",
    "\n",
    "# 손실 함수로 크로스 엔트로피 함수 사용\n",
    "model5.compile(optimizer='adam', loss='binary_crossentropy', metrics=['acc'])\n",
    "history_LSTM_pre = model5.fit(partial_X_train_pre, partial_y_train, epochs=10, \n",
    "                              batch_size=128, validation_data=(X_val_pre, y_val),verbose=1)"
   ]
  },
  {
   "cell_type": "markdown",
   "id": "e5d4615b",
   "metadata": {},
   "source": [
    "### 6.3.2 LSTM(Long Term Short Memory)_pre 모델평가"
   ]
  },
  {
   "cell_type": "code",
   "execution_count": 42,
   "id": "9648ae5b",
   "metadata": {},
   "outputs": [
    {
     "data": {
      "image/png": "[encoded data removed]",
      "text/plain": [
       "<Figure size 864x432 with 2 Axes>"
      ]
     },
     "metadata": {
      "needs_background": "light"
     },
     "output_type": "display_data"
    }
   ],
   "source": [
    "history_LSTM_pre_dict = history_LSTM_pre.history\n",
    "\n",
    "acc = history_LSTM_pre_dict['acc']\n",
    "val_acc = history_LSTM_pre_dict['val_acc']\n",
    "loss = history_LSTM_pre_dict['loss']\n",
    "val_loss = history_LSTM_pre_dict['val_loss']\n",
    "\n",
    "epochs = range(1, len(acc) + 1)\n",
    "\n",
    "plt.figure(figsize=(12,6))\n",
    "\n",
    "# loss 그래프\n",
    "plt.subplot(1,2,1)\n",
    "plt.plot(epochs, loss, marker='.', c='red', label='Training loss')\n",
    "plt.plot(epochs, val_loss, marker='.', c='blue', label='Validation loss')\n",
    "plt.title('Training and validation loss')\n",
    "plt.xlabel('Epochs')\n",
    "plt.ylabel('Loss')\n",
    "plt.legend()\n",
    "\n",
    "# accuracy 그래프\n",
    "plt.subplot(1,2,2)\n",
    "plt.plot(epochs, acc, 'g--', label='Training acc')\n",
    "plt.plot(epochs, val_acc, 'k--', label='Validation acc')\n",
    "plt.title('Training and validation accuracy')\n",
    "plt.xlabel('Epochs')\n",
    "plt.ylabel('Accuracy')\n",
    "plt.legend()\n",
    "\n",
    "plt.show()"
   ]
  },
  {
   "cell_type": "code",
   "execution_count": 43,
   "id": "27c965f1",
   "metadata": {},
   "outputs": [
    {
     "name": "stdout",
     "output_type": "stream",
     "text": [
      "1537/1537 - 3s - loss: 0.4533 - acc: 0.5027\n",
      "[0.4533293545246124, 0.5026954412460327]\n"
     ]
    }
   ],
   "source": [
    "# 모델 평가\n",
    "results = model5.evaluate(X_test_pre, y_test, verbose=2)\n",
    "print(results)"
   ]
  },
  {
   "cell_type": "markdown",
   "id": "b9e33826",
   "metadata": {},
   "source": [
    "### 6.3.3 LSTM(Long Term Short Memory)_post 모델학습"
   ]
  },
  {
   "cell_type": "code",
   "execution_count": 44,
   "id": "823660ba",
   "metadata": {},
   "outputs": [
    {
     "name": "stdout",
     "output_type": "stream",
     "text": [
      "Epoch 1/10\n",
      "807/807 [==============================] - 6s 6ms/step - loss: 0.4761 - acc: 0.4978 - val_loss: 0.3532 - val_acc: 0.4994\n",
      "Epoch 2/10\n",
      "807/807 [==============================] - 4s 6ms/step - loss: 0.3338 - acc: 0.4978 - val_loss: 0.3434 - val_acc: 0.4994\n",
      "Epoch 3/10\n",
      "807/807 [==============================] - 5s 6ms/step - loss: 0.3105 - acc: 0.4978 - val_loss: 0.3597 - val_acc: 0.4994\n",
      "Epoch 4/10\n",
      "807/807 [==============================] - 5s 6ms/step - loss: 0.2945 - acc: 0.4978 - val_loss: 0.3512 - val_acc: 0.4994\n",
      "Epoch 5/10\n",
      "807/807 [==============================] - 5s 6ms/step - loss: 0.2795 - acc: 0.4978 - val_loss: 0.3670 - val_acc: 0.4994\n",
      "Epoch 6/10\n",
      "807/807 [==============================] - 5s 6ms/step - loss: 0.2653 - acc: 0.4978 - val_loss: 0.3772 - val_acc: 0.4994\n",
      "Epoch 7/10\n",
      "807/807 [==============================] - 5s 6ms/step - loss: 0.2513 - acc: 0.4978 - val_loss: 0.3888 - val_acc: 0.4994\n",
      "Epoch 8/10\n",
      "807/807 [==============================] - 5s 6ms/step - loss: 0.2375 - acc: 0.4978 - val_loss: 0.3971 - val_acc: 0.4994\n",
      "Epoch 9/10\n",
      "807/807 [==============================] - 5s 6ms/step - loss: 0.2243 - acc: 0.4978 - val_loss: 0.4209 - val_acc: 0.4994\n",
      "Epoch 10/10\n",
      "807/807 [==============================] - 5s 6ms/step - loss: 0.2130 - acc: 0.4978 - val_loss: 0.4128 - val_acc: 0.4994\n"
     ]
    }
   ],
   "source": [
    "# LSTM(Long Term Short Memory)_post\n",
    "# 검증 데이터 손실이 2회 증가하면 정해진 에포크가 도달하지 못하였더라도 학습을 조기 종료(Early Stopping)\n",
    "# ModelCheckpoint를 사용하여 검증 데이터의 정확도(val_acc)가 이전보다 좋아질 경우에만 모델을 저장\n",
    "es = EarlyStopping(monitor='val_loss', mode='min', verbose=1, patience=2)\n",
    "mc = ModelCheckpoint('LSTM_post_model.h5', monitor='val_acc', mode='max', verbose=1, save_best_only=True)\n",
    "\n",
    "# 손실 함수로 크로스 엔트로피 함수 사용\n",
    "model6.compile(optimizer='adam', loss='binary_crossentropy', metrics=['acc'])\n",
    "history_LSTM_post = model6.fit(partial_X_train_post, partial_y_train, epochs=10, \n",
    "                               batch_size=128, validation_data=(X_val_post, y_val),verbose=1)"
   ]
  },
  {
   "cell_type": "markdown",
   "id": "7e9380e0",
   "metadata": {},
   "source": [
    "### 6.3.4 LSTM(Long Term Short Memory)_post 모델평가"
   ]
  },
  {
   "cell_type": "code",
   "execution_count": 45,
   "id": "c0a95fda",
   "metadata": {},
   "outputs": [
    {
     "data": {
      "image/png": "[encoded data removed]",
      "text/plain": [
       "<Figure size 864x432 with 2 Axes>"
      ]
     },
     "metadata": {
      "needs_background": "light"
     },
     "output_type": "display_data"
    }
   ],
   "source": [
    "history_LSTM_post_dict = history_LSTM_post.history\n",
    "\n",
    "acc = history_LSTM_post_dict['acc']\n",
    "val_acc = history_LSTM_post_dict['val_acc']\n",
    "loss = history_LSTM_post_dict['loss']\n",
    "val_loss = history_LSTM_post_dict['val_loss']\n",
    "\n",
    "epochs = range(1, len(acc) + 1)\n",
    "\n",
    "plt.figure(figsize=(12,6))\n",
    "\n",
    "# loss 그래프\n",
    "plt.subplot(1,2,1)\n",
    "plt.plot(epochs, loss, marker='.', c='red', label='Training loss')\n",
    "plt.plot(epochs, val_loss, marker='.', c='blue', label='Validation loss')\n",
    "plt.title('Training and validation loss')\n",
    "plt.xlabel('Epochs')\n",
    "plt.ylabel('Loss')\n",
    "plt.legend()\n",
    "\n",
    "# accuracy 그래프\n",
    "plt.subplot(1,2,2)\n",
    "plt.plot(epochs, acc, 'g--', label='Training acc')\n",
    "plt.plot(epochs, val_acc, 'k--', label='Validation acc')\n",
    "plt.title('Training and validation accuracy')\n",
    "plt.xlabel('Epochs')\n",
    "plt.ylabel('Accuracy')\n",
    "plt.legend()\n",
    "\n",
    "plt.show()"
   ]
  },
  {
   "cell_type": "code",
   "execution_count": 46,
   "id": "73790bb4",
   "metadata": {},
   "outputs": [
    {
     "name": "stdout",
     "output_type": "stream",
     "text": [
      "1537/1537 - 3s - loss: 0.4203 - acc: 0.5027\n",
      "[0.42034462094306946, 0.5026954412460327]\n"
     ]
    }
   ],
   "source": [
    "# 모델 평가\n",
    "results = model6.evaluate(X_test_post, y_test, verbose=2)\n",
    "print(results)"
   ]
  },
  {
   "cell_type": "markdown",
   "id": "d4e3d022",
   "metadata": {},
   "source": [
    "### 6.4 BiLSTM"
   ]
  },
  {
   "cell_type": "markdown",
   "id": "56ef15f4",
   "metadata": {},
   "source": [
    "### 6.3.1 BiLSTM_pre 모델학습"
   ]
  },
  {
   "cell_type": "code",
   "execution_count": 47,
   "id": "ad6301ae",
   "metadata": {},
   "outputs": [
    {
     "name": "stdout",
     "output_type": "stream",
     "text": [
      "Epoch 1/10\n",
      "807/807 [==============================] - 10s 10ms/step - loss: 0.4124 - acc: 0.8086 - val_loss: 0.3485 - val_acc: 0.8483\n",
      "Epoch 2/10\n",
      "807/807 [==============================] - 7s 8ms/step - loss: 0.3326 - acc: 0.8585 - val_loss: 0.3476 - val_acc: 0.8501\n",
      "Epoch 3/10\n",
      "807/807 [==============================] - 7s 9ms/step - loss: 0.3102 - acc: 0.8695 - val_loss: 0.3412 - val_acc: 0.8500\n",
      "Epoch 4/10\n",
      "807/807 [==============================] - 7s 9ms/step - loss: 0.2834 - acc: 0.8821 - val_loss: 0.3390 - val_acc: 0.8554\n",
      "Epoch 5/10\n",
      "807/807 [==============================] - 7s 9ms/step - loss: 0.2568 - acc: 0.8943 - val_loss: 0.3552 - val_acc: 0.8554\n",
      "Epoch 6/10\n",
      "807/807 [==============================] - 7s 9ms/step - loss: 0.2327 - acc: 0.9053 - val_loss: 0.3529 - val_acc: 0.8557\n",
      "Epoch 7/10\n",
      "807/807 [==============================] - 7s 9ms/step - loss: 0.2114 - acc: 0.9152 - val_loss: 0.3958 - val_acc: 0.8509\n",
      "Epoch 8/10\n",
      "807/807 [==============================] - 7s 9ms/step - loss: 0.1933 - acc: 0.9231 - val_loss: 0.4117 - val_acc: 0.8520\n",
      "Epoch 9/10\n",
      "807/807 [==============================] - 7s 9ms/step - loss: 0.1743 - acc: 0.9316 - val_loss: 0.4356 - val_acc: 0.8477\n",
      "Epoch 10/10\n",
      "807/807 [==============================] - 7s 8ms/step - loss: 0.1577 - acc: 0.9394 - val_loss: 0.4715 - val_acc: 0.8480\n"
     ]
    }
   ],
   "source": [
    "# BiLSTM_pre\n",
    "# 검증 데이터 손실이 2회 증가하면 정해진 에포크가 도달하지 못하였더라도 학습을 조기 종료(Early Stopping)\n",
    "# ModelCheckpoint를 사용하여 검증 데이터의 정확도(val_acc)가 이전보다 좋아질 경우에만 모델을 저장\n",
    "es = EarlyStopping(monitor='val_loss', mode='min', verbose=1, patience=2)\n",
    "mc = ModelCheckpoint('BiLSTM_pre_model.h5', monitor='val_acc', mode='max', verbose=1, save_best_only=True)\n",
    "\n",
    "# 손실 함수로 크로스 엔트로피 함수 사용\n",
    "model7.compile(optimizer='adam', loss='binary_crossentropy', metrics=['acc'])\n",
    "history_BiLSTM_pre = model7.fit(partial_X_train_pre, partial_y_train, epochs=10, \n",
    "                                batch_size=128, validation_data=(X_val_pre, y_val),verbose=1)"
   ]
  },
  {
   "cell_type": "markdown",
   "id": "043f5043",
   "metadata": {},
   "source": [
    "### 6.3.2 BiLSTM_pre 모델평가"
   ]
  },
  {
   "cell_type": "code",
   "execution_count": 48,
   "id": "19e22df3",
   "metadata": {},
   "outputs": [
    {
     "data": {
      "image/png": "[encoded data removed]",
      "text/plain": [
       "<Figure size 864x432 with 2 Axes>"
      ]
     },
     "metadata": {
      "needs_background": "light"
     },
     "output_type": "display_data"
    }
   ],
   "source": [
    "history_BiLSTM_pre_dict = history_BiLSTM_pre.history\n",
    "\n",
    "acc = history_BiLSTM_pre_dict['acc']\n",
    "val_acc = history_BiLSTM_pre_dict['val_acc']\n",
    "loss = history_BiLSTM_pre_dict['loss']\n",
    "val_loss = history_BiLSTM_pre_dict['val_loss']\n",
    "\n",
    "epochs = range(1, len(acc) + 1)\n",
    "\n",
    "plt.figure(figsize=(12,6))\n",
    "\n",
    "# loss 그래프\n",
    "plt.subplot(1,2,1)\n",
    "plt.plot(epochs, loss, marker='.', c='red', label='Training loss')\n",
    "plt.plot(epochs, val_loss, marker='.', c='blue', label='Validation loss')\n",
    "plt.title('Training and validation loss')\n",
    "plt.xlabel('Epochs')\n",
    "plt.ylabel('Loss')\n",
    "plt.legend()\n",
    "\n",
    "# accuracy 그래프\n",
    "plt.subplot(1,2,2)\n",
    "plt.plot(epochs, acc, 'g--', label='Training acc')\n",
    "plt.plot(epochs, val_acc, 'k--', label='Validation acc')\n",
    "plt.title('Training and validation accuracy')\n",
    "plt.xlabel('Epochs')\n",
    "plt.ylabel('Accuracy')\n",
    "plt.legend()\n",
    "\n",
    "plt.show()"
   ]
  },
  {
   "cell_type": "code",
   "execution_count": 49,
   "id": "2b99e8ac",
   "metadata": {},
   "outputs": [
    {
     "name": "stdout",
     "output_type": "stream",
     "text": [
      "1537/1537 - 4s - loss: 0.4801 - acc: 0.8435\n",
      "[0.4800625741481781, 0.843460738658905]\n"
     ]
    }
   ],
   "source": [
    "# 모델 평가\n",
    "results = model7.evaluate(X_test_pre, y_test, verbose=2)\n",
    "print(results)"
   ]
  },
  {
   "cell_type": "markdown",
   "id": "78312f63",
   "metadata": {},
   "source": [
    "### 6.3.3 BiLSTM_post 모델학습"
   ]
  },
  {
   "cell_type": "code",
   "execution_count": 50,
   "id": "484297ea",
   "metadata": {},
   "outputs": [
    {
     "name": "stdout",
     "output_type": "stream",
     "text": [
      "Epoch 1/10\n",
      "807/807 [==============================] - 10s 9ms/step - loss: 0.4136 - acc: 0.8075 - val_loss: 0.3625 - val_acc: 0.8467\n",
      "Epoch 2/10\n",
      "807/807 [==============================] - 7s 9ms/step - loss: 0.3344 - acc: 0.8575 - val_loss: 0.3661 - val_acc: 0.8396\n",
      "Epoch 3/10\n",
      "807/807 [==============================] - 7s 9ms/step - loss: 0.3043 - acc: 0.8737 - val_loss: 0.3353 - val_acc: 0.8538\n",
      "Epoch 4/10\n",
      "807/807 [==============================] - 7s 9ms/step - loss: 0.2756 - acc: 0.8870 - val_loss: 0.3445 - val_acc: 0.8549\n",
      "Epoch 5/10\n",
      "807/807 [==============================] - 7s 9ms/step - loss: 0.2482 - acc: 0.8998 - val_loss: 0.3556 - val_acc: 0.8538\n",
      "Epoch 6/10\n",
      "807/807 [==============================] - 7s 9ms/step - loss: 0.2248 - acc: 0.9104 - val_loss: 0.3693 - val_acc: 0.8524\n",
      "Epoch 7/10\n",
      "807/807 [==============================] - 7s 9ms/step - loss: 0.2057 - acc: 0.9190 - val_loss: 0.3914 - val_acc: 0.8508\n",
      "Epoch 8/10\n",
      "807/807 [==============================] - 7s 9ms/step - loss: 0.1866 - acc: 0.9279 - val_loss: 0.4151 - val_acc: 0.8501\n",
      "Epoch 9/10\n",
      "807/807 [==============================] - 7s 8ms/step - loss: 0.1705 - acc: 0.9343 - val_loss: 0.4300 - val_acc: 0.8455\n",
      "Epoch 10/10\n",
      "807/807 [==============================] - 7s 9ms/step - loss: 0.1548 - acc: 0.9407 - val_loss: 0.4612 - val_acc: 0.8436\n"
     ]
    }
   ],
   "source": [
    "# BiLSTM_post\n",
    "# 검증 데이터 손실이 2회 증가하면 정해진 에포크가 도달하지 못하였더라도 학습을 조기 종료(Early Stopping)\n",
    "# ModelCheckpoint를 사용하여 검증 데이터의 정확도(val_acc)가 이전보다 좋아질 경우에만 모델을 저장\n",
    "es = EarlyStopping(monitor='val_loss', mode='min', verbose=1, patience=2)\n",
    "mc = ModelCheckpoint('BiLSTM_post_model.h5', monitor='val_acc', mode='max', verbose=1, save_best_only=True)\n",
    "\n",
    "# 손실 함수로 크로스 엔트로피 함수 사용\n",
    "model8.compile(optimizer='adam', loss='binary_crossentropy', metrics=['acc'])\n",
    "history_BiLSTM_post = model8.fit(partial_X_train_post, partial_y_train, epochs=10, \n",
    "                                 batch_size=128, validation_data=(X_val_post, y_val),verbose=1)"
   ]
  },
  {
   "cell_type": "markdown",
   "id": "5c886135",
   "metadata": {},
   "source": [
    "### 6.3.4 BiLSTM_post 모델평가"
   ]
  },
  {
   "cell_type": "code",
   "execution_count": 51,
   "id": "1ddb9999",
   "metadata": {},
   "outputs": [
    {
     "data": {
      "image/png": "[encoded data removed]",
      "text/plain": [
       "<Figure size 864x432 with 2 Axes>"
      ]
     },
     "metadata": {
      "needs_background": "light"
     },
     "output_type": "display_data"
    }
   ],
   "source": [
    "history_BiLSTM_post_dict = history_BiLSTM_post.history\n",
    "\n",
    "acc = history_BiLSTM_post_dict['acc']\n",
    "val_acc = history_BiLSTM_post_dict['val_acc']\n",
    "loss = history_BiLSTM_post_dict['loss']\n",
    "val_loss = history_BiLSTM_post_dict['val_loss']\n",
    "\n",
    "epochs = range(1, len(acc) + 1)\n",
    "\n",
    "plt.figure(figsize=(12,6))\n",
    "\n",
    "# loss 그래프\n",
    "plt.subplot(1,2,1)\n",
    "plt.plot(epochs, loss, marker='.', c='red', label='Training loss')\n",
    "plt.plot(epochs, val_loss, marker='.', c='blue', label='Validation loss')\n",
    "plt.title('Training and validation loss')\n",
    "plt.xlabel('Epochs')\n",
    "plt.ylabel('Loss')\n",
    "plt.legend()\n",
    "\n",
    "# accuracy 그래프\n",
    "plt.subplot(1,2,2)\n",
    "plt.plot(epochs, acc, 'g--', label='Training acc')\n",
    "plt.plot(epochs, val_acc, 'k--', label='Validation acc')\n",
    "plt.title('Training and validation accuracy')\n",
    "plt.xlabel('Epochs')\n",
    "plt.ylabel('Accuracy')\n",
    "plt.legend()\n",
    "\n",
    "plt.show()"
   ]
  },
  {
   "cell_type": "code",
   "execution_count": 52,
   "id": "fe2f559d",
   "metadata": {},
   "outputs": [
    {
     "name": "stdout",
     "output_type": "stream",
     "text": [
      "1537/1537 - 4s - loss: 0.4728 - acc: 0.8393\n",
      "[0.4728246033191681, 0.8393311500549316]\n"
     ]
    }
   ],
   "source": [
    "# 모델 평가\n",
    "results = model8.evaluate(X_test_post, y_test, verbose=2)\n",
    "print(results)"
   ]
  },
  {
   "cell_type": "markdown",
   "id": "2a53ebd3",
   "metadata": {},
   "source": [
    "### 6.4 1-D CNN"
   ]
  },
  {
   "cell_type": "markdown",
   "id": "08ac1280",
   "metadata": {},
   "source": [
    "### 6.4.1 1-D CNN_pre 모델학습"
   ]
  },
  {
   "cell_type": "code",
   "execution_count": 53,
   "id": "3d1c433c",
   "metadata": {},
   "outputs": [
    {
     "name": "stdout",
     "output_type": "stream",
     "text": [
      "Epoch 1/10\n",
      "807/807 [==============================] - 5s 5ms/step - loss: 0.5301 - acc: 0.7113 - val_loss: 0.4584 - val_acc: 0.7667\n",
      "Epoch 2/10\n",
      "807/807 [==============================] - 4s 5ms/step - loss: 0.4252 - acc: 0.7914 - val_loss: 0.4606 - val_acc: 0.7661\n",
      "Epoch 3/10\n",
      "807/807 [==============================] - 4s 5ms/step - loss: 0.3858 - acc: 0.8132 - val_loss: 0.4673 - val_acc: 0.7683\n",
      "Epoch 4/10\n",
      "807/807 [==============================] - 4s 5ms/step - loss: 0.3482 - acc: 0.8332 - val_loss: 0.4849 - val_acc: 0.7667\n",
      "Epoch 5/10\n",
      "807/807 [==============================] - 4s 5ms/step - loss: 0.3111 - acc: 0.8529 - val_loss: 0.5215 - val_acc: 0.7608\n",
      "Epoch 6/10\n",
      "807/807 [==============================] - 4s 5ms/step - loss: 0.2782 - acc: 0.8693 - val_loss: 0.5593 - val_acc: 0.7578\n",
      "Epoch 7/10\n",
      "807/807 [==============================] - 4s 5ms/step - loss: 0.2485 - acc: 0.8823 - val_loss: 0.6193 - val_acc: 0.7525\n",
      "Epoch 8/10\n",
      "807/807 [==============================] - 4s 5ms/step - loss: 0.2237 - acc: 0.8938 - val_loss: 0.6874 - val_acc: 0.7521\n",
      "Epoch 9/10\n",
      "807/807 [==============================] - 4s 5ms/step - loss: 0.2047 - acc: 0.9017 - val_loss: 0.7376 - val_acc: 0.7466\n",
      "Epoch 10/10\n",
      "807/807 [==============================] - 4s 5ms/step - loss: 0.1891 - acc: 0.9083 - val_loss: 0.8131 - val_acc: 0.7465\n"
     ]
    }
   ],
   "source": [
    "# 1-D CNN_pre\n",
    "# 검증 데이터 손실이 2회 증가하면 정해진 에포크가 도달하지 못하였더라도 학습을 조기 종료(Early Stopping)\n",
    "# ModelCheckpoint를 사용하여 검증 데이터의 정확도(val_acc)가 이전보다 좋아질 경우에만 모델을 저장\n",
    "es = EarlyStopping(monitor='val_loss', mode='min', verbose=1, patience=2)\n",
    "mc = ModelCheckpoint('1DCNN_pre_model.h5', monitor='val_acc', mode='max', verbose=1, save_best_only=True)\n",
    "\n",
    "# 손실 함수로 크로스 엔트로피 함수 사용\n",
    "model9.compile(optimizer='adam', loss='binary_crossentropy', metrics=['acc'])\n",
    "history_1DCNN_pre = model9.fit(partial_X_train_pre, partial_y_train, epochs=10, \n",
    "                               batch_size=128, validation_data=(X_val_pre, y_val),verbose=1)"
   ]
  },
  {
   "cell_type": "markdown",
   "id": "ede63f42",
   "metadata": {},
   "source": [
    "### 6.4.2 1-D CNN_pre 모델평가"
   ]
  },
  {
   "cell_type": "code",
   "execution_count": 54,
   "id": "131f8a75",
   "metadata": {},
   "outputs": [
    {
     "data": {
      "image/png": "[encoded data removed]",
      "text/plain": [
       "<Figure size 864x432 with 2 Axes>"
      ]
     },
     "metadata": {
      "needs_background": "light"
     },
     "output_type": "display_data"
    }
   ],
   "source": [
    "history_1DCNN_pre_dict = history_1DCNN_pre.history\n",
    "\n",
    "acc = history_1DCNN_pre_dict['acc']\n",
    "val_acc = history_1DCNN_pre_dict['val_acc']\n",
    "loss = history_1DCNN_pre_dict['loss']\n",
    "val_loss = history_1DCNN_pre_dict['val_loss']\n",
    "\n",
    "epochs = range(1, len(acc) + 1)\n",
    "\n",
    "plt.figure(figsize=(12,6))\n",
    "\n",
    "# loss 그래프\n",
    "plt.subplot(1,2,1)\n",
    "plt.plot(epochs, loss, marker='.', c='red', label='Training loss')\n",
    "plt.plot(epochs, val_loss, marker='.', c='blue', label='Validation loss')\n",
    "plt.title('Training and validation loss')\n",
    "plt.xlabel('Epochs')\n",
    "plt.ylabel('Loss')\n",
    "plt.legend()\n",
    "\n",
    "# accuracy 그래프\n",
    "plt.subplot(1,2,2)\n",
    "plt.plot(epochs, acc, 'g--', label='Training acc')\n",
    "plt.plot(epochs, val_acc, 'k--', label='Validation acc')\n",
    "plt.title('Training and validation accuracy')\n",
    "plt.xlabel('Epochs')\n",
    "plt.ylabel('Accuracy')\n",
    "plt.legend()\n",
    "\n",
    "plt.show()"
   ]
  },
  {
   "cell_type": "code",
   "execution_count": 55,
   "id": "0f92c16f",
   "metadata": {},
   "outputs": [
    {
     "name": "stdout",
     "output_type": "stream",
     "text": [
      "1537/1537 - 2s - loss: 0.8221 - acc: 0.7440\n",
      "[0.8220548629760742, 0.7439835667610168]\n"
     ]
    }
   ],
   "source": [
    "# 모델 평가\n",
    "results = model9.evaluate(X_test_pre, y_test, verbose=2)\n",
    "print(results)"
   ]
  },
  {
   "cell_type": "markdown",
   "id": "ba4ab3c7",
   "metadata": {},
   "source": [
    "### 6.4.3 1-D CNN_post 모델학습"
   ]
  },
  {
   "cell_type": "code",
   "execution_count": 56,
   "id": "f03ce2e1",
   "metadata": {},
   "outputs": [
    {
     "name": "stdout",
     "output_type": "stream",
     "text": [
      "Epoch 1/10\n",
      "807/807 [==============================] - 4s 5ms/step - loss: 0.4413 - acc: 0.7880 - val_loss: 0.3523 - val_acc: 0.8458\n",
      "Epoch 2/10\n",
      "807/807 [==============================] - 4s 5ms/step - loss: 0.3172 - acc: 0.8664 - val_loss: 0.3425 - val_acc: 0.8522\n",
      "Epoch 3/10\n",
      "807/807 [==============================] - 4s 5ms/step - loss: 0.2761 - acc: 0.8863 - val_loss: 0.3476 - val_acc: 0.8505\n",
      "Epoch 4/10\n",
      "807/807 [==============================] - 4s 5ms/step - loss: 0.2410 - acc: 0.9048 - val_loss: 0.3681 - val_acc: 0.8446\n",
      "Epoch 5/10\n",
      "807/807 [==============================] - 4s 5ms/step - loss: 0.2073 - acc: 0.9209 - val_loss: 0.3902 - val_acc: 0.8440\n",
      "Epoch 6/10\n",
      "807/807 [==============================] - 4s 5ms/step - loss: 0.1759 - acc: 0.9363 - val_loss: 0.4151 - val_acc: 0.8398\n",
      "Epoch 7/10\n",
      "807/807 [==============================] - 4s 5ms/step - loss: 0.1475 - acc: 0.9480 - val_loss: 0.4675 - val_acc: 0.8372\n",
      "Epoch 8/10\n",
      "807/807 [==============================] - 4s 5ms/step - loss: 0.1249 - acc: 0.9575 - val_loss: 0.5117 - val_acc: 0.8328\n",
      "Epoch 9/10\n",
      "807/807 [==============================] - 4s 5ms/step - loss: 0.1055 - acc: 0.9656 - val_loss: 0.5759 - val_acc: 0.8292\n",
      "Epoch 10/10\n",
      "807/807 [==============================] - 4s 5ms/step - loss: 0.0914 - acc: 0.9705 - val_loss: 0.6186 - val_acc: 0.8285\n"
     ]
    }
   ],
   "source": [
    "# 1-D CNN_post\n",
    "# 검증 데이터 손실이 2회 증가하면 정해진 에포크가 도달하지 못하였더라도 학습을 조기 종료(Early Stopping)\n",
    "# ModelCheckpoint를 사용하여 검증 데이터의 정확도(val_acc)가 이전보다 좋아질 경우에만 모델을 저장\n",
    "es = EarlyStopping(monitor='val_loss', mode='min', verbose=1, patience=2)\n",
    "mc = ModelCheckpoint('1DCNN_post_model.h5', monitor='val_acc', mode='max', verbose=1, save_best_only=True)\n",
    "\n",
    "# 손실 함수로 크로스 엔트로피 함수 사용\n",
    "model10.compile(optimizer='adam', loss='binary_crossentropy', metrics=['acc'])\n",
    "history_1DCNN_post = model10.fit(partial_X_train_post, partial_y_train, epochs=10, \n",
    "                                 batch_size=128, validation_data=(X_val_post, y_val),verbose=1)"
   ]
  },
  {
   "cell_type": "markdown",
   "id": "41971e2d",
   "metadata": {},
   "source": [
    "### 6.4.4 1-D CNN_post 모델평가"
   ]
  },
  {
   "cell_type": "code",
   "execution_count": 57,
   "id": "e6db0a84",
   "metadata": {},
   "outputs": [
    {
     "data": {
      "image/png": "[encoded data removed]",
      "text/plain": [
       "<Figure size 864x432 with 2 Axes>"
      ]
     },
     "metadata": {
      "needs_background": "light"
     },
     "output_type": "display_data"
    }
   ],
   "source": [
    "history_1DCNN_post_dict = history_1DCNN_post.history\n",
    "\n",
    "acc = history_1DCNN_post_dict['acc']\n",
    "val_acc = history_1DCNN_post_dict['val_acc']\n",
    "loss = history_1DCNN_post_dict['loss']\n",
    "val_loss = history_1DCNN_post_dict['val_loss']\n",
    "\n",
    "epochs = range(1, len(acc) + 1)\n",
    "\n",
    "plt.figure(figsize=(12,6))\n",
    "\n",
    "# loss 그래프\n",
    "plt.subplot(1,2,1)\n",
    "plt.plot(epochs, loss, marker='.', c='red', label='Training loss')\n",
    "plt.plot(epochs, val_loss, marker='.', c='blue', label='Validation loss')\n",
    "plt.title('Training and validation loss')\n",
    "plt.xlabel('Epochs')\n",
    "plt.ylabel('Loss')\n",
    "plt.legend()\n",
    "\n",
    "# accuracy 그래프\n",
    "plt.subplot(1,2,2)\n",
    "plt.plot(epochs, acc, 'g--', label='Training acc')\n",
    "plt.plot(epochs, val_acc, 'k--', label='Validation acc')\n",
    "plt.title('Training and validation accuracy')\n",
    "plt.xlabel('Epochs')\n",
    "plt.ylabel('Accuracy')\n",
    "plt.legend()\n",
    "\n",
    "plt.show()"
   ]
  },
  {
   "cell_type": "code",
   "execution_count": 58,
   "id": "df8d8eb7",
   "metadata": {},
   "outputs": [
    {
     "name": "stdout",
     "output_type": "stream",
     "text": [
      "1537/1537 - 2s - loss: 0.6249 - acc: 0.8236\n",
      "[0.6248660087585449, 0.8236466646194458]\n"
     ]
    }
   ],
   "source": [
    "# 모델 평가\n",
    "results = model10.evaluate(X_test_post, y_test, verbose=2)\n",
    "print(results)"
   ]
  },
  {
   "cell_type": "markdown",
   "id": "008e37c2",
   "metadata": {},
   "source": [
    "### 6.5 결과정리"
   ]
  },
  {
   "cell_type": "markdown",
   "id": "50765dc5",
   "metadata": {},
   "source": [
    "|Model|Loss|Accuracy|\n",
    "|:---:|:---:|:---:|\n",
    "|RNN(pre)|0.8071|0.7928|\n",
    "|RNN(post)|0.5015|0.8210|\n",
    "|GRU(pre)|0.5040|0.8392|\n",
    "|GRU(post)|0.4506|0.8402|\n",
    "|LSTM(pre)|0.4533|0.5027|\n",
    "|LSTM(post)|0.4203|0.5027|\n",
    "|BiLSTM(pre)|0.4801|0.8435|\n",
    "|BiLSTM(post)|0.4728|0.8393|\n",
    "|1-D CNN(pre)|0.8221|0.7440|\n",
    "|1-D CNN(post)|0.6249|0.8236|"
   ]
  },
  {
   "cell_type": "markdown",
   "id": "8f9c4fb6",
   "metadata": {},
   "source": [
    "* pre와 post를 비교했을 때, post의 정확도가 오히려 더 높게 나오는 경향이 있었다.\n",
    "* RNN의 경우 모델 자체가 그렇게 복잡한 모델이 아니여서 큰 영향이 없었던게 아닐까 추정해본다.\n",
    "* 다른 모델들의 경우 차이 확인되지만 유의미한 차이라고 볼 수는 없을 것으로 판단된다.\n",
    "* BiLSTM의 경우 pre에서 정확도가 좀 더 높게 확인되었다.\n",
    "* 1-D CNN은 post에서 정확도가 더 높게 확인되었다. (왤까?)"
   ]
  },
  {
   "cell_type": "markdown",
   "id": "5b7496bb",
   "metadata": {},
   "source": [
    "### 7. 학습된 Embedding 레이어 분석"
   ]
  },
  {
   "cell_type": "markdown",
   "id": "8ff89929",
   "metadata": {},
   "source": [
    "* 각 모델(pre)별로 확인해본다. \n",
    "* 1-D CNN 모델은 post로 확인해본다."
   ]
  },
  {
   "cell_type": "markdown",
   "id": "c1abb98e",
   "metadata": {},
   "source": [
    "### 7.1 RNN(Recurrent Neural Network)"
   ]
  },
  {
   "cell_type": "code",
   "execution_count": 59,
   "id": "274b7736",
   "metadata": {},
   "outputs": [
    {
     "name": "stdout",
     "output_type": "stream",
     "text": [
      "(10000, 16)\n"
     ]
    }
   ],
   "source": [
    "embedding_layer = model1.layers[0]\n",
    "weights = embedding_layer.get_weights()[0]\n",
    "print(weights.shape)    # shape: (vocab_size, embedding_dim)"
   ]
  },
  {
   "cell_type": "code",
   "execution_count": 60,
   "id": "4a14b819",
   "metadata": {},
   "outputs": [],
   "source": [
    "# 학습한 Embedding 파라미터를 파일에 써서 저장합니다. \n",
    "word2vec_file_path = os.getenv('HOME')+'/aiffel/sentiment_classification/data/word2vec.txt'\n",
    "f = open(word2vec_file_path, 'w')\n",
    "f.write('{} {}\\n'.format(vocab_size-4, word_vector_dim))  # 몇개의 벡터를 얼마 사이즈로 기재할지 타이틀을 씁니다.\n",
    "\n",
    "# 단어 개수(에서 특수문자 4개는 제외하고)만큼의 워드 벡터를 파일에 기록합니다. \n",
    "vectors = model1.get_weights()[0]\n",
    "for i in range(4,vocab_size):\n",
    "    f.write('{} {}\\n'.format(index_to_word[i], ' '.join(map(str, list(vectors[i, :])))))\n",
    "f.close()"
   ]
  },
  {
   "cell_type": "code",
   "execution_count": 61,
   "id": "97d9300c",
   "metadata": {},
   "outputs": [
    {
     "data": {
      "text/plain": [
       "[('슬퍼요', 0.9107797145843506),\n",
       " ('이영애', 0.9085221290588379),\n",
       " ('이제서야', 0.9017857909202576),\n",
       " ('탄탄', 0.8974224328994751),\n",
       " ('흠잡', 0.8959842920303345),\n",
       " ('훌쩍', 0.8940876126289368),\n",
       " ('눈물나', 0.8932272791862488),\n",
       " ('심장', 0.8890641927719116),\n",
       " ('비범', 0.8889443874359131),\n",
       " ('울컥', 0.8847728371620178)]"
      ]
     },
     "execution_count": 61,
     "metadata": {},
     "output_type": "execute_result"
    }
   ],
   "source": [
    "word_vectors = Word2VecKeyedVectors.load_word2vec_format(word2vec_file_path, binary=False)\n",
    "word_vectors.similar_by_word(\"사랑\")"
   ]
  },
  {
   "cell_type": "markdown",
   "id": "b58235c5",
   "metadata": {},
   "source": [
    "### 7.2 GRU(Gated Recurrent Unit)"
   ]
  },
  {
   "cell_type": "code",
   "execution_count": 62,
   "id": "d9813d78",
   "metadata": {},
   "outputs": [
    {
     "name": "stdout",
     "output_type": "stream",
     "text": [
      "(10000, 16)\n"
     ]
    }
   ],
   "source": [
    "embedding_layer = model3.layers[0]\n",
    "weights = embedding_layer.get_weights()[0]\n",
    "print(weights.shape)    # shape: (vocab_size, embedding_dim)"
   ]
  },
  {
   "cell_type": "code",
   "execution_count": 63,
   "id": "8adedd5e",
   "metadata": {},
   "outputs": [],
   "source": [
    "# 학습한 Embedding 파라미터를 파일에 써서 저장합니다. \n",
    "word2vec_file_path = os.getenv('HOME')+'/aiffel/sentiment_classification/data/word2vec.txt'\n",
    "f = open(word2vec_file_path, 'w')\n",
    "f.write('{} {}\\n'.format(vocab_size-4, word_vector_dim))  # 몇개의 벡터를 얼마 사이즈로 기재할지 타이틀을 씁니다.\n",
    "\n",
    "# 단어 개수(에서 특수문자 4개는 제외하고)만큼의 워드 벡터를 파일에 기록합니다. \n",
    "vectors = model3.get_weights()[0]\n",
    "for i in range(4,vocab_size):\n",
    "    f.write('{} {}\\n'.format(index_to_word[i], ' '.join(map(str, list(vectors[i, :])))))\n",
    "f.close()"
   ]
  },
  {
   "cell_type": "code",
   "execution_count": 64,
   "id": "4d0bb7f4",
   "metadata": {},
   "outputs": [
    {
     "data": {
      "text/plain": [
       "[('느낀', 0.9651418328285217),\n",
       " ('소위', 0.9531208276748657),\n",
       " ('순수', 0.9523293375968933),\n",
       " ('다섯', 0.9498942494392395),\n",
       " ('푹', 0.9436818957328796),\n",
       " ('달랐', 0.9425501227378845),\n",
       " ('사악', 0.9422340989112854),\n",
       " ('감사', 0.94188392162323),\n",
       " ('꼬박꼬박', 0.9415031671524048),\n",
       " ('설레였', 0.9403830766677856)]"
      ]
     },
     "execution_count": 64,
     "metadata": {},
     "output_type": "execute_result"
    }
   ],
   "source": [
    "word_vectors = Word2VecKeyedVectors.load_word2vec_format(word2vec_file_path, binary=False)\n",
    "word_vectors.similar_by_word(\"사랑\")"
   ]
  },
  {
   "cell_type": "markdown",
   "id": "ba3edaa9",
   "metadata": {},
   "source": [
    "### 7.3 LSTM(Long Term Short Memory)"
   ]
  },
  {
   "cell_type": "code",
   "execution_count": 65,
   "id": "c1c91d24",
   "metadata": {},
   "outputs": [
    {
     "name": "stdout",
     "output_type": "stream",
     "text": [
      "(10000, 16)\n"
     ]
    }
   ],
   "source": [
    "embedding_layer = model5.layers[0]\n",
    "weights = embedding_layer.get_weights()[0]\n",
    "print(weights.shape)    # shape: (vocab_size, embedding_dim)"
   ]
  },
  {
   "cell_type": "code",
   "execution_count": 66,
   "id": "70dd8b6f",
   "metadata": {},
   "outputs": [],
   "source": [
    "# 학습한 Embedding 파라미터를 파일에 써서 저장합니다. \n",
    "word2vec_file_path = os.getenv('HOME')+'/aiffel/sentiment_classification/data/word2vec.txt'\n",
    "f = open(word2vec_file_path, 'w')\n",
    "f.write('{} {}\\n'.format(vocab_size-4, word_vector_dim))  # 몇개의 벡터를 얼마 사이즈로 기재할지 타이틀을 씁니다.\n",
    "\n",
    "# 단어 개수(에서 특수문자 4개는 제외하고)만큼의 워드 벡터를 파일에 기록합니다. \n",
    "vectors = model5.get_weights()[0]\n",
    "for i in range(4,vocab_size):\n",
    "    f.write('{} {}\\n'.format(index_to_word[i], ' '.join(map(str, list(vectors[i, :])))))\n",
    "f.close()"
   ]
  },
  {
   "cell_type": "code",
   "execution_count": 67,
   "id": "2027ba5d",
   "metadata": {},
   "outputs": [
    {
     "data": {
      "text/plain": [
       "[('데요', 0.9670685529708862),\n",
       " ('잘생긴', 0.9599155187606812),\n",
       " ('웰', 0.957840085029602),\n",
       " ('굵', 0.9573618173599243),\n",
       " ('갈증', 0.9544306993484497),\n",
       " ('깨달음', 0.9519877433776855),\n",
       " ('좋아해서', 0.9480651617050171),\n",
       " ('퍼센트', 0.9467475414276123),\n",
       " ('계시', 0.9456287622451782),\n",
       " ('밉', 0.9443857669830322)]"
      ]
     },
     "execution_count": 67,
     "metadata": {},
     "output_type": "execute_result"
    }
   ],
   "source": [
    "word_vectors = Word2VecKeyedVectors.load_word2vec_format(word2vec_file_path, binary=False)\n",
    "word_vectors.similar_by_word(\"사랑\")"
   ]
  },
  {
   "cell_type": "markdown",
   "id": "8201c807",
   "metadata": {},
   "source": [
    "### 7.4 BiLSTM"
   ]
  },
  {
   "cell_type": "code",
   "execution_count": 68,
   "id": "0f6eccbd",
   "metadata": {},
   "outputs": [
    {
     "name": "stdout",
     "output_type": "stream",
     "text": [
      "(10000, 16)\n"
     ]
    }
   ],
   "source": [
    "embedding_layer = model7.layers[0]\n",
    "weights = embedding_layer.get_weights()[0]\n",
    "print(weights.shape)    # shape: (vocab_size, embedding_dim)"
   ]
  },
  {
   "cell_type": "code",
   "execution_count": 69,
   "id": "c003a751",
   "metadata": {},
   "outputs": [],
   "source": [
    "# 학습한 Embedding 파라미터를 파일에 써서 저장합니다. \n",
    "word2vec_file_path = os.getenv('HOME')+'/aiffel/sentiment_classification/data/word2vec.txt'\n",
    "f = open(word2vec_file_path, 'w')\n",
    "f.write('{} {}\\n'.format(vocab_size-4, word_vector_dim))  # 몇개의 벡터를 얼마 사이즈로 기재할지 타이틀을 씁니다.\n",
    "\n",
    "# 단어 개수(에서 특수문자 4개는 제외하고)만큼의 워드 벡터를 파일에 기록합니다. \n",
    "vectors = model7.get_weights()[0]\n",
    "for i in range(4,vocab_size):\n",
    "    f.write('{} {}\\n'.format(index_to_word[i], ' '.join(map(str, list(vectors[i, :])))))\n",
    "f.close()"
   ]
  },
  {
   "cell_type": "code",
   "execution_count": 70,
   "id": "ee8fabbb",
   "metadata": {},
   "outputs": [
    {
     "data": {
      "text/plain": [
       "[('느낀', 0.9663518667221069),\n",
       " ('으로써', 0.9629613161087036),\n",
       " ('반해', 0.9598175883293152),\n",
       " ('귀여운', 0.9597281217575073),\n",
       " ('강추', 0.9582736492156982),\n",
       " ('이영애', 0.955153226852417),\n",
       " ('만능', 0.9543163776397705),\n",
       " ('여운', 0.9524645805358887),\n",
       " ('망설이', 0.9519038200378418),\n",
       " ('소주', 0.9510482549667358)]"
      ]
     },
     "execution_count": 70,
     "metadata": {},
     "output_type": "execute_result"
    }
   ],
   "source": [
    "word_vectors = Word2VecKeyedVectors.load_word2vec_format(word2vec_file_path, binary=False)\n",
    "word_vectors.similar_by_word(\"사랑\")"
   ]
  },
  {
   "cell_type": "markdown",
   "id": "0e471e8d",
   "metadata": {},
   "source": [
    "### 7.5 1-D CNN"
   ]
  },
  {
   "cell_type": "code",
   "execution_count": 71,
   "id": "20624270",
   "metadata": {},
   "outputs": [
    {
     "name": "stdout",
     "output_type": "stream",
     "text": [
      "(10000, 16)\n"
     ]
    }
   ],
   "source": [
    "embedding_layer = model10.layers[0]\n",
    "weights = embedding_layer.get_weights()[0]\n",
    "print(weights.shape)    # shape: (vocab_size, embedding_dim)"
   ]
  },
  {
   "cell_type": "code",
   "execution_count": 72,
   "id": "bf19245b",
   "metadata": {},
   "outputs": [],
   "source": [
    "# 학습한 Embedding 파라미터를 파일에 써서 저장합니다. \n",
    "word2vec_file_path = os.getenv('HOME')+'/aiffel/sentiment_classification/data/word2vec.txt'\n",
    "f = open(word2vec_file_path, 'w')\n",
    "f.write('{} {}\\n'.format(vocab_size-4, word_vector_dim))  # 몇개의 벡터를 얼마 사이즈로 기재할지 타이틀을 씁니다.\n",
    "\n",
    "# 단어 개수(에서 특수문자 4개는 제외하고)만큼의 워드 벡터를 파일에 기록합니다. \n",
    "vectors = model10.get_weights()[0]\n",
    "for i in range(4,vocab_size):\n",
    "    f.write('{} {}\\n'.format(index_to_word[i], ' '.join(map(str, list(vectors[i, :])))))\n",
    "f.close()"
   ]
  },
  {
   "cell_type": "code",
   "execution_count": 73,
   "id": "6eca2db1",
   "metadata": {},
   "outputs": [
    {
     "data": {
      "text/plain": [
       "[('멋졌', 0.9075969457626343),\n",
       " ('고급', 0.8588581085205078),\n",
       " ('붉', 0.8527008295059204),\n",
       " ('직업', 0.8493726849555969),\n",
       " ('자존심', 0.8429847955703735),\n",
       " ('따뜻', 0.8395630717277527),\n",
       " ('밤', 0.8392130136489868),\n",
       " ('소화', 0.8342572450637817),\n",
       " ('패배', 0.8272861838340759),\n",
       " ('스마트폰', 0.8238996267318726)]"
      ]
     },
     "execution_count": 73,
     "metadata": {},
     "output_type": "execute_result"
    }
   ],
   "source": [
    "word_vectors = Word2VecKeyedVectors.load_word2vec_format(word2vec_file_path, binary=False)\n",
    "word_vectors.similar_by_word(\"사랑\")"
   ]
  },
  {
   "cell_type": "markdown",
   "id": "d610e2ff",
   "metadata": {},
   "source": [
    "* 전반적으로 `사랑`과 관련없는 단어들이 출력된다."
   ]
  },
  {
   "cell_type": "markdown",
   "id": "a843aa8a",
   "metadata": {},
   "source": [
    "### 8. 한국어 Word2Vec 임베딩 활용하여 성능 개선"
   ]
  },
  {
   "cell_type": "markdown",
   "id": "de04b21d",
   "metadata": {},
   "source": [
    "### 8.1 한국어 Word2Vec 임베딩 확인"
   ]
  },
  {
   "cell_type": "code",
   "execution_count": 74,
   "id": "3106d95c",
   "metadata": {},
   "outputs": [
    {
     "data": {
      "text/plain": [
       "'3.8.3'"
      ]
     },
     "execution_count": 74,
     "metadata": {},
     "output_type": "execute_result"
    }
   ],
   "source": [
    "# gensim 패키지 버전 알아보기\n",
    "\n",
    "import gensim\n",
    "gensim.__version__"
   ]
  },
  {
   "cell_type": "code",
   "execution_count": 75,
   "id": "90576a81",
   "metadata": {},
   "outputs": [
    {
     "name": "stdout",
     "output_type": "stream",
     "text": [
      "Requirement already satisfied: gensim==3.8.3 in /opt/conda/lib/python3.9/site-packages (3.8.3)\n",
      "Requirement already satisfied: smart-open>=1.8.1 in /opt/conda/lib/python3.9/site-packages (from gensim==3.8.3) (5.2.1)\n",
      "Requirement already satisfied: six>=1.5.0 in /opt/conda/lib/python3.9/site-packages (from gensim==3.8.3) (1.16.0)\n",
      "Requirement already satisfied: scipy>=0.18.1 in /opt/conda/lib/python3.9/site-packages (from gensim==3.8.3) (1.7.1)\n",
      "Requirement already satisfied: numpy>=1.11.3 in /opt/conda/lib/python3.9/site-packages (from gensim==3.8.3) (1.21.4)\n",
      "\u001b[33mWARNING: Running pip as the 'root' user can result in broken permissions and conflicting behaviour with the system package manager. It is recommended to use a virtual environment instead: https://pip.pypa.io/warnings/venv\u001b[0m\n"
     ]
    }
   ],
   "source": [
    "# gensim 패키지 버전 down grade\n",
    "!pip install --upgrade gensim==3.8.3"
   ]
  },
  {
   "cell_type": "code",
   "execution_count": 76,
   "id": "ad72970f",
   "metadata": {},
   "outputs": [],
   "source": [
    "# 한국어 Word2Vec 파일 불러와 ko_model에 저장하기\n",
    "\n",
    "word2vec_path = os.getenv('HOME')+'/aiffel/sentiment_classification/data/ko.bin'\n",
    "ko_model = gensim.models.Word2Vec.load(word2vec_path)"
   ]
  },
  {
   "cell_type": "code",
   "execution_count": 77,
   "id": "9f8560b1",
   "metadata": {},
   "outputs": [
    {
     "data": {
      "text/plain": [
       "[('슬픔', 0.7216662764549255),\n",
       " ('행복', 0.6759077310562134),\n",
       " ('절망', 0.6468985080718994),\n",
       " ('기쁨', 0.6458414196968079),\n",
       " ('이별', 0.6334798336029053),\n",
       " ('추억', 0.6320937275886536),\n",
       " ('인생', 0.6216273307800293),\n",
       " ('애정', 0.6206069588661194),\n",
       " ('연인', 0.6186063289642334),\n",
       " ('유혹', 0.5965287685394287)]"
      ]
     },
     "execution_count": 77,
     "metadata": {},
     "output_type": "execute_result"
    }
   ],
   "source": [
    "# 유사한 단어와 그 유사도 확인\n",
    "ko_model.wv.most_similar(\"사랑\")"
   ]
  },
  {
   "cell_type": "markdown",
   "id": "841d940c",
   "metadata": {},
   "source": [
    "* 역시 거인! 사랑이랑 비슷한 단어들을 출력한다."
   ]
  },
  {
   "cell_type": "markdown",
   "id": "bd431406",
   "metadata": {},
   "source": [
    "### 8.2 각 모델 별 성능 개선 확인"
   ]
  },
  {
   "cell_type": "markdown",
   "id": "3018f947",
   "metadata": {},
   "source": [
    "* 이제 한국어 Word2Vec을 사용해서 이전의 모델을 다시 학습시키고 평가한다."
   ]
  },
  {
   "cell_type": "code",
   "execution_count": 78,
   "id": "3e763763",
   "metadata": {},
   "outputs": [
    {
     "name": "stderr",
     "output_type": "stream",
     "text": [
      "/tmp/ipykernel_1012/3143846063.py:9: DeprecationWarning: Call to deprecated `__contains__` (Method will be removed in 4.0.0, use self.wv.__contains__() instead).\n",
      "  if index_to_word[i] in ko_model:\n",
      "/tmp/ipykernel_1012/3143846063.py:10: DeprecationWarning: Call to deprecated `__getitem__` (Method will be removed in 4.0.0, use self.wv.__getitem__() instead).\n",
      "  embedding_matrix[i] = ko_model[index_to_word[i]]\n"
     ]
    }
   ],
   "source": [
    "vocab_size = 10000    # 어휘 사전의 크기입니다(10,000개의 단어)\n",
    "word_vector_dim = 200  # 워드 벡터의 차원수 (변경가능한 하이퍼파라미터)\n",
    "\n",
    "# 사전학습된 임베딩 레이어의 차원 수 그대로 따라가는 것이 좋다\n",
    "embedding_matrix = np.random.rand(vocab_size, word_vector_dim) \n",
    "\n",
    "# embedding_matrix에 Word2Vec 워드 벡터를 단어 하나씩마다 차례차례 카피한다.\n",
    "for i in range(4,vocab_size):\n",
    "    if index_to_word[i] in ko_model:\n",
    "        embedding_matrix[i] = ko_model[index_to_word[i]]"
   ]
  },
  {
   "cell_type": "code",
   "execution_count": 79,
   "id": "aa9309f6",
   "metadata": {},
   "outputs": [],
   "source": [
    "early_stopping = EarlyStopping(monitor='val_loss', mode='min', verbose=1, patience=4)"
   ]
  },
  {
   "cell_type": "markdown",
   "id": "71145853",
   "metadata": {},
   "source": [
    "### 8.2.1 RNN(Recurrent Neural Network)"
   ]
  },
  {
   "cell_type": "code",
   "execution_count": 80,
   "id": "e6933986",
   "metadata": {},
   "outputs": [
    {
     "name": "stdout",
     "output_type": "stream",
     "text": [
      "Model: \"sequential_10\"\n",
      "_________________________________________________________________\n",
      "Layer (type)                 Output Shape              Param #   \n",
      "=================================================================\n",
      "embedding_10 (Embedding)     (None, None, 200)         2000000   \n",
      "_________________________________________________________________\n",
      "simple_rnn_2 (SimpleRNN)     (None, 32)                7456      \n",
      "_________________________________________________________________\n",
      "dense_14 (Dense)             (None, 1)                 33        \n",
      "=================================================================\n",
      "Total params: 2,007,489\n",
      "Trainable params: 2,007,489\n",
      "Non-trainable params: 0\n",
      "_________________________________________________________________\n"
     ]
    }
   ],
   "source": [
    "model_rnn = Sequential()\n",
    "model_rnn.add(Embedding(vocab_size, word_vector_dim, input_shape=(None,)))\n",
    "model_rnn.add(SimpleRNN(32))\n",
    "model_rnn.add(Dense(1, activation='sigmoid'))\n",
    "\n",
    "model_rnn.summary()"
   ]
  },
  {
   "cell_type": "code",
   "execution_count": 81,
   "id": "052c2dc6",
   "metadata": {},
   "outputs": [
    {
     "name": "stdout",
     "output_type": "stream",
     "text": [
      "Epoch 1/10\n",
      "807/807 [==============================] - 29s 35ms/step - loss: 0.4031 - acc: 0.8165 - val_loss: 0.3466 - val_acc: 0.8499\n",
      "Epoch 2/10\n",
      "807/807 [==============================] - 28s 35ms/step - loss: 0.2985 - acc: 0.8753 - val_loss: 0.3571 - val_acc: 0.8481\n",
      "Epoch 3/10\n",
      "807/807 [==============================] - 28s 35ms/step - loss: 0.2210 - acc: 0.9136 - val_loss: 0.4038 - val_acc: 0.8378\n",
      "Epoch 4/10\n",
      "807/807 [==============================] - 29s 35ms/step - loss: 0.1577 - acc: 0.9413 - val_loss: 0.4664 - val_acc: 0.8231\n",
      "Epoch 5/10\n",
      "807/807 [==============================] - 28s 35ms/step - loss: 0.1173 - acc: 0.9580 - val_loss: 0.5320 - val_acc: 0.8254\n",
      "Epoch 00005: early stopping\n"
     ]
    }
   ],
   "source": [
    "model_rnn.compile(optimizer='adam', loss='binary_crossentropy', metrics=['acc'])\n",
    "\n",
    "history_rnn = model_rnn.fit(partial_X_train_pre, partial_y_train, epochs=10, \n",
    "                            batch_size=128, validation_data=(X_val_pre, y_val), callbacks=[early_stopping], verbose=1)"
   ]
  },
  {
   "cell_type": "code",
   "execution_count": 82,
   "id": "cbdb82e8",
   "metadata": {},
   "outputs": [
    {
     "name": "stdout",
     "output_type": "stream",
     "text": [
      "1537/1537 - 7s - loss: 0.5486 - acc: 0.8209\n",
      "[0.548614501953125, 0.8208800554275513]\n"
     ]
    }
   ],
   "source": [
    "# 모델 평가\n",
    "results = model_rnn.evaluate(X_test_pre, y_test, verbose=2)\n",
    "print(results)"
   ]
  },
  {
   "cell_type": "markdown",
   "id": "b053c054",
   "metadata": {},
   "source": [
    "### 8.2.2 GRU(Gated Recurrent Unit)"
   ]
  },
  {
   "cell_type": "code",
   "execution_count": 83,
   "id": "e02b5e7f",
   "metadata": {},
   "outputs": [
    {
     "name": "stdout",
     "output_type": "stream",
     "text": [
      "Model: \"sequential_11\"\n",
      "_________________________________________________________________\n",
      "Layer (type)                 Output Shape              Param #   \n",
      "=================================================================\n",
      "embedding_11 (Embedding)     (None, None, 200)         2000000   \n",
      "_________________________________________________________________\n",
      "gru_2 (GRU)                  (None, 128)               126720    \n",
      "_________________________________________________________________\n",
      "dense_15 (Dense)             (None, 1)                 129       \n",
      "=================================================================\n",
      "Total params: 2,126,849\n",
      "Trainable params: 2,126,849\n",
      "Non-trainable params: 0\n",
      "_________________________________________________________________\n"
     ]
    }
   ],
   "source": [
    "model_gru = Sequential()\n",
    "model_gru.add(Embedding(vocab_size, word_vector_dim, input_shape=(None,)))\n",
    "model_gru.add(GRU(128))\n",
    "model_gru.add(Dense(1, activation='sigmoid'))\n",
    "\n",
    "model_gru.summary()"
   ]
  },
  {
   "cell_type": "code",
   "execution_count": 84,
   "id": "c6d8af87",
   "metadata": {},
   "outputs": [
    {
     "name": "stdout",
     "output_type": "stream",
     "text": [
      "Epoch 1/10\n",
      "807/807 [==============================] - 7s 7ms/step - loss: 0.3830 - acc: 0.8261 - val_loss: 0.3280 - val_acc: 0.8563\n",
      "Epoch 2/10\n",
      "807/807 [==============================] - 5s 7ms/step - loss: 0.2912 - acc: 0.8771 - val_loss: 0.3181 - val_acc: 0.8620\n",
      "Epoch 3/10\n",
      "807/807 [==============================] - 5s 7ms/step - loss: 0.2482 - acc: 0.8974 - val_loss: 0.3280 - val_acc: 0.8589\n",
      "Epoch 4/10\n",
      "807/807 [==============================] - 5s 7ms/step - loss: 0.2104 - acc: 0.9144 - val_loss: 0.3481 - val_acc: 0.8577\n",
      "Epoch 5/10\n",
      "807/807 [==============================] - 5s 7ms/step - loss: 0.1747 - acc: 0.9307 - val_loss: 0.3916 - val_acc: 0.8520\n",
      "Epoch 6/10\n",
      "807/807 [==============================] - 5s 7ms/step - loss: 0.1428 - acc: 0.9447 - val_loss: 0.4386 - val_acc: 0.8501\n",
      "Epoch 00006: early stopping\n"
     ]
    }
   ],
   "source": [
    "model_gru.compile(optimizer='adam', loss='binary_crossentropy', metrics=['acc'])\n",
    "\n",
    "history_gru = model_gru.fit(partial_X_train_pre, partial_y_train, epochs=10, \n",
    "                            batch_size=128, validation_data=(X_val_pre, y_val), callbacks=[early_stopping], verbose=1)"
   ]
  },
  {
   "cell_type": "code",
   "execution_count": 85,
   "id": "ffd7b74c",
   "metadata": {},
   "outputs": [
    {
     "name": "stdout",
     "output_type": "stream",
     "text": [
      "1537/1537 - 3s - loss: 0.4422 - acc: 0.8463\n",
      "[0.442204087972641, 0.8462680578231812]\n"
     ]
    }
   ],
   "source": [
    "# 모델 평가\n",
    "results = model_gru.evaluate(X_test_pre, y_test, verbose=2)\n",
    "print(results)"
   ]
  },
  {
   "cell_type": "markdown",
   "id": "d6d112f0",
   "metadata": {},
   "source": [
    "### 8.2.3 LSTM(Long Term Short Memory)"
   ]
  },
  {
   "cell_type": "code",
   "execution_count": 86,
   "id": "6f9b2ee1",
   "metadata": {},
   "outputs": [
    {
     "name": "stdout",
     "output_type": "stream",
     "text": [
      "Model: \"sequential_12\"\n",
      "_________________________________________________________________\n",
      "Layer (type)                 Output Shape              Param #   \n",
      "=================================================================\n",
      "embedding_12 (Embedding)     (None, None, 200)         2000000   \n",
      "_________________________________________________________________\n",
      "lstm_4 (LSTM)                (None, 8)                 6688      \n",
      "_________________________________________________________________\n",
      "dense_16 (Dense)             (None, 8)                 72        \n",
      "_________________________________________________________________\n",
      "dense_17 (Dense)             (None, 1)                 9         \n",
      "=================================================================\n",
      "Total params: 2,006,769\n",
      "Trainable params: 2,006,769\n",
      "Non-trainable params: 0\n",
      "_________________________________________________________________\n"
     ]
    }
   ],
   "source": [
    "# 모델 구성(LMST 사용)\n",
    "\n",
    "model_lstm = Sequential()\n",
    "model_lstm.add(Embedding(vocab_size, word_vector_dim, input_shape=(None,)))\n",
    "model_lstm.add(LSTM(8))  # LSTM state 벡터의 차원수 (변경가능)\n",
    "model_lstm.add(Dense(8, activation='relu'))\n",
    "model_lstm.add(Dense(1, activation='softmax'))  \n",
    "\n",
    "model_lstm.summary()"
   ]
  },
  {
   "cell_type": "code",
   "execution_count": 87,
   "id": "1ae3cb54",
   "metadata": {},
   "outputs": [
    {
     "name": "stdout",
     "output_type": "stream",
     "text": [
      "Epoch 1/10\n",
      "807/807 [==============================] - 6s 6ms/step - loss: 0.3955 - acc: 0.4978 - val_loss: 0.3350 - val_acc: 0.4994\n",
      "Epoch 2/10\n",
      "807/807 [==============================] - 5s 6ms/step - loss: 0.3005 - acc: 0.4978 - val_loss: 0.3301 - val_acc: 0.4994\n",
      "Epoch 3/10\n",
      "807/807 [==============================] - 5s 6ms/step - loss: 0.2597 - acc: 0.4978 - val_loss: 0.3449 - val_acc: 0.4994\n",
      "Epoch 4/10\n",
      "807/807 [==============================] - 5s 6ms/step - loss: 0.2253 - acc: 0.4978 - val_loss: 0.3676 - val_acc: 0.4994\n",
      "Epoch 5/10\n",
      "807/807 [==============================] - 5s 6ms/step - loss: 0.1951 - acc: 0.4978 - val_loss: 0.3994 - val_acc: 0.4994\n",
      "Epoch 6/10\n",
      "807/807 [==============================] - 5s 6ms/step - loss: 0.1686 - acc: 0.4978 - val_loss: 0.4213 - val_acc: 0.4994\n",
      "Epoch 00006: early stopping\n"
     ]
    }
   ],
   "source": [
    "model_lstm.compile(optimizer='adam', loss='binary_crossentropy', metrics=['acc'])\n",
    "              \n",
    "history = model_lstm.fit(partial_X_train_pre, partial_y_train, epochs=10, \n",
    "                         batch_size=128, validation_data=(X_val_pre, y_val), callbacks=[early_stopping], verbose=1)"
   ]
  },
  {
   "cell_type": "code",
   "execution_count": 88,
   "id": "51a2e887",
   "metadata": {},
   "outputs": [
    {
     "name": "stdout",
     "output_type": "stream",
     "text": [
      "1537/1537 - 3s - loss: 0.4302 - acc: 0.5027\n",
      "[0.4302070736885071, 0.5026954412460327]\n"
     ]
    }
   ],
   "source": [
    "# 모델 평가\n",
    "results = model_lstm.evaluate(X_test_pre, y_test, verbose=2)\n",
    "print(results)"
   ]
  },
  {
   "cell_type": "markdown",
   "id": "1830a47c",
   "metadata": {},
   "source": [
    "### 8.2.4 BiLSTM"
   ]
  },
  {
   "cell_type": "code",
   "execution_count": 89,
   "id": "3ed96971",
   "metadata": {},
   "outputs": [
    {
     "name": "stdout",
     "output_type": "stream",
     "text": [
      "Model: \"sequential_13\"\n",
      "_________________________________________________________________\n",
      "Layer (type)                 Output Shape              Param #   \n",
      "=================================================================\n",
      "embedding_13 (Embedding)     (None, None, 200)         2000000   \n",
      "_________________________________________________________________\n",
      "bidirectional_2 (Bidirection (None, 256)               336896    \n",
      "_________________________________________________________________\n",
      "dense_18 (Dense)             (None, 1)                 257       \n",
      "=================================================================\n",
      "Total params: 2,337,153\n",
      "Trainable params: 2,337,153\n",
      "Non-trainable params: 0\n",
      "_________________________________________________________________\n"
     ]
    }
   ],
   "source": [
    "model_bilstm = Sequential()\n",
    "model_bilstm.add(Embedding(vocab_size, word_vector_dim, input_shape=(None,)))\n",
    "model_bilstm.add(Bidirectional(LSTM(128))) # Bidirectional LSTM을 사용\n",
    "model_bilstm.add(Dense(1, activation='sigmoid'))\n",
    "\n",
    "model_bilstm.summary()"
   ]
  },
  {
   "cell_type": "code",
   "execution_count": 90,
   "id": "f779092d",
   "metadata": {},
   "outputs": [
    {
     "name": "stdout",
     "output_type": "stream",
     "text": [
      "Epoch 1/10\n",
      "807/807 [==============================] - 12s 12ms/step - loss: 0.3866 - acc: 0.8244 - val_loss: 0.3325 - val_acc: 0.8538\n",
      "Epoch 2/10\n",
      "807/807 [==============================] - 9s 11ms/step - loss: 0.2939 - acc: 0.8753 - val_loss: 0.3144 - val_acc: 0.8660\n",
      "Epoch 3/10\n",
      "807/807 [==============================] - 9s 11ms/step - loss: 0.2483 - acc: 0.8970 - val_loss: 0.3217 - val_acc: 0.8621\n",
      "Epoch 4/10\n",
      "807/807 [==============================] - 9s 11ms/step - loss: 0.2089 - acc: 0.9151 - val_loss: 0.3519 - val_acc: 0.8587\n",
      "Epoch 5/10\n",
      "807/807 [==============================] - 9s 11ms/step - loss: 0.1734 - acc: 0.9309 - val_loss: 0.4195 - val_acc: 0.8564\n",
      "Epoch 6/10\n",
      "807/807 [==============================] - 9s 11ms/step - loss: 0.1439 - acc: 0.9431 - val_loss: 0.4563 - val_acc: 0.8543\n",
      "Epoch 00006: early stopping\n"
     ]
    }
   ],
   "source": [
    "model_bilstm.compile(optimizer='adam', loss='binary_crossentropy', metrics=['acc'])\n",
    "              \n",
    "history = model_bilstm.fit(partial_X_train_pre, partial_y_train, epochs=10, \n",
    "                           batch_size=128, validation_data=(X_val_pre, y_val), callbacks=[early_stopping], verbose=1)"
   ]
  },
  {
   "cell_type": "code",
   "execution_count": 91,
   "id": "319cd5a3",
   "metadata": {},
   "outputs": [
    {
     "name": "stdout",
     "output_type": "stream",
     "text": [
      "1537/1537 - 5s - loss: 0.4578 - acc: 0.8517\n",
      "[0.45782315731048584, 0.8517199754714966]\n"
     ]
    }
   ],
   "source": [
    "# 모델 평가\n",
    "results = model_bilstm.evaluate(X_test_pre, y_test, verbose=2)\n",
    "print(results)"
   ]
  },
  {
   "cell_type": "markdown",
   "id": "e6f9b552",
   "metadata": {},
   "source": [
    "### 8.2.5 1-D CNN"
   ]
  },
  {
   "cell_type": "code",
   "execution_count": 92,
   "id": "73a2a065",
   "metadata": {},
   "outputs": [
    {
     "name": "stdout",
     "output_type": "stream",
     "text": [
      "Model: \"sequential_14\"\n",
      "_________________________________________________________________\n",
      "Layer (type)                 Output Shape              Param #   \n",
      "=================================================================\n",
      "embedding_14 (Embedding)     (None, None, 200)         2000000   \n",
      "_________________________________________________________________\n",
      "conv1d_4 (Conv1D)            (None, None, 16)          9616      \n",
      "_________________________________________________________________\n",
      "max_pooling1d_2 (MaxPooling1 (None, None, 16)          0         \n",
      "_________________________________________________________________\n",
      "conv1d_5 (Conv1D)            (None, None, 16)          784       \n",
      "_________________________________________________________________\n",
      "global_max_pooling1d_2 (Glob (None, 16)                0         \n",
      "_________________________________________________________________\n",
      "dense_19 (Dense)             (None, 8)                 136       \n",
      "_________________________________________________________________\n",
      "dense_20 (Dense)             (None, 1)                 9         \n",
      "=================================================================\n",
      "Total params: 2,010,545\n",
      "Trainable params: 2,010,545\n",
      "Non-trainable params: 0\n",
      "_________________________________________________________________\n"
     ]
    }
   ],
   "source": [
    "model_cnn = Sequential()\n",
    "model_cnn.add(Embedding(vocab_size, word_vector_dim, input_shape=(None,)))\n",
    "model_cnn.add(Conv1D(16, 3, activation='relu'))\n",
    "model_cnn.add(MaxPooling1D(5))\n",
    "model_cnn.add(Conv1D(16, 3, activation='relu'))\n",
    "model_cnn.add(GlobalMaxPooling1D())\n",
    "model_cnn.add(Dense(8, activation='relu'))\n",
    "model_cnn.add(Dense(1, activation='sigmoid'))\n",
    "\n",
    "model_cnn.summary()"
   ]
  },
  {
   "cell_type": "code",
   "execution_count": 93,
   "id": "754637d1",
   "metadata": {},
   "outputs": [
    {
     "name": "stdout",
     "output_type": "stream",
     "text": [
      "Epoch 1/10\n",
      "807/807 [==============================] - 5s 5ms/step - loss: 0.4972 - acc: 0.7417 - val_loss: 0.4502 - val_acc: 0.7721\n",
      "Epoch 2/10\n",
      "807/807 [==============================] - 4s 5ms/step - loss: 0.3928 - acc: 0.8092 - val_loss: 0.4509 - val_acc: 0.7734\n",
      "Epoch 3/10\n",
      "807/807 [==============================] - 4s 5ms/step - loss: 0.3174 - acc: 0.8492 - val_loss: 0.4900 - val_acc: 0.7667\n",
      "Epoch 4/10\n",
      "807/807 [==============================] - 4s 5ms/step - loss: 0.2521 - acc: 0.8801 - val_loss: 0.5498 - val_acc: 0.7608\n",
      "Epoch 5/10\n",
      "807/807 [==============================] - 4s 5ms/step - loss: 0.2041 - acc: 0.9003 - val_loss: 0.6385 - val_acc: 0.7562\n",
      "Epoch 00005: early stopping\n"
     ]
    }
   ],
   "source": [
    "model_cnn.compile(optimizer='adam', loss='binary_crossentropy', metrics=['acc'])\n",
    "              \n",
    "history = model_cnn.fit(partial_X_train_pre, partial_y_train, epochs=10, \n",
    "                        batch_size=128, validation_data=(X_val_pre, y_val), callbacks=[early_stopping], verbose=1)"
   ]
  },
  {
   "cell_type": "code",
   "execution_count": 94,
   "id": "4dcc6345",
   "metadata": {},
   "outputs": [
    {
     "name": "stdout",
     "output_type": "stream",
     "text": [
      "1537/1537 - 2s - loss: 0.6509 - acc: 0.7529\n",
      "[0.6508544683456421, 0.752934455871582]\n"
     ]
    }
   ],
   "source": [
    "# 모델 평가\n",
    "results = model_cnn.evaluate(X_test_pre, y_test, verbose=2)\n",
    "print(results)"
   ]
  },
  {
   "cell_type": "markdown",
   "id": "201abaa4",
   "metadata": {},
   "source": [
    "### 8.3 결과 정리"
   ]
  },
  {
   "cell_type": "markdown",
   "id": "279c8698",
   "metadata": {},
   "source": [
    "|Model|Loss|Accuracy|개선된 Loss|개선된 Accuracy|\n",
    "|:---:|:---:|:---:|:---:|:---:|\n",
    "|RNN(pre)|0.8071|0.7928|0.5486|0.8209|\n",
    "|RNN(post)|0.5015|0.8210|-|-|\n",
    "|GRU(pre)|0.5040|0.8392|0.4422|0.8463|\n",
    "|GRU(post)|0.4506|0.8402|-|-|\n",
    "|LSTM(pre)|0.4533|0.5027|0.4302|0.5027|\n",
    "|LSTM(post)|0.4203|0.5027|-|-|\n",
    "|BiLSTM(pre)|0.4801|0.8435|0.4578|0.8517|\n",
    "|BiLSTM(post)|0.4728|0.8393|-|-|\n",
    "|1-D CNN(pre)|0.8221|0.7440|0.6509|0.7529|\n",
    "|1-D CNN(post)|0.6249|0.8236|-|-|"
   ]
  },
  {
   "cell_type": "markdown",
   "id": "0fb84ae9",
   "metadata": {},
   "source": [
    "* 역시 거인의 어깨! 전체적으로 정확도가 개선된 것을 확인할 수 있다!"
   ]
  },
  {
   "cell_type": "markdown",
   "id": "b598afcc",
   "metadata": {},
   "source": [
    "### 9. 다른 모델도 사용해보자 🤔"
   ]
  },
  {
   "cell_type": "markdown",
   "id": "b3559cec",
   "metadata": {},
   "source": [
    "* Multi-Kernel 1D CNN \\\n",
    "https://velog.io/@yelim421/Multi-Kernel-1D-CNN\n",
    "* BiLSTM with Attention Mechanism \\\n",
    "https://mangastorytelling.tistory.com/entry/%EB%94%A5%EB%9F%AC%EB%8B%9D%EC%9D%84%EC%9D%B4%EC%9A%A9%ED%95%9C-%EC%9E%90%EC%97%B0%EC%96%B4-%EC%B2%98%EB%A6%AC-%EC%9E%85%EB%AC%B8-1604-%EC%96%91%EB%B0%A9%ED%96%A5-LSTM%EA%B3%BC-%EC%96%B4%ED%85%90%EC%85%98-%EB%A9%94%EC%BB%A4%EB%8B%88%EC%A6%98BiLSTM-with-Attention-mechanism"
   ]
  },
  {
   "cell_type": "markdown",
   "id": "07eaedee",
   "metadata": {},
   "source": [
    "### 9.1 1D CNN(Convolutional Neural Network) - Dropout"
   ]
  },
  {
   "cell_type": "code",
   "execution_count": 95,
   "id": "09fc7855",
   "metadata": {},
   "outputs": [
    {
     "name": "stdout",
     "output_type": "stream",
     "text": [
      "Model: \"sequential_15\"\n",
      "_________________________________________________________________\n",
      "Layer (type)                 Output Shape              Param #   \n",
      "=================================================================\n",
      "embedding_15 (Embedding)     (None, None, 16)          160000    \n",
      "_________________________________________________________________\n",
      "dropout (Dropout)            (None, None, 16)          0         \n",
      "_________________________________________________________________\n",
      "conv1d_6 (Conv1D)            (None, None, 16)          784       \n",
      "_________________________________________________________________\n",
      "max_pooling1d_3 (MaxPooling1 (None, None, 16)          0         \n",
      "_________________________________________________________________\n",
      "conv1d_7 (Conv1D)            (None, None, 16)          784       \n",
      "_________________________________________________________________\n",
      "global_max_pooling1d_3 (Glob (None, 16)                0         \n",
      "_________________________________________________________________\n",
      "dense_21 (Dense)             (None, 8)                 136       \n",
      "_________________________________________________________________\n",
      "dropout_1 (Dropout)          (None, 8)                 0         \n",
      "_________________________________________________________________\n",
      "dense_22 (Dense)             (None, 1)                 9         \n",
      "=================================================================\n",
      "Total params: 161,713\n",
      "Trainable params: 161,713\n",
      "Non-trainable params: 0\n",
      "_________________________________________________________________\n"
     ]
    }
   ],
   "source": [
    "vocab_size = 10000    # 어휘 사전의 크기(10,000개의 단어)\n",
    "word_vector_dim = 16  # 단어 하나를 표현하는 임베딩 벡터의 차원수 (변경가능)\n",
    "\n",
    "# 드롭 아웃 비율은 0.3\n",
    "# 커널의 크기는 3이며 해당 커널은 총 16개 사용\n",
    "# 해당 모델은 마지막 시점에서 두 개의 선택지 중 하나를 예측하는 이진 분류 문제를 수행하는 모델\n",
    "# 활성화 함수로는 relu, sigmoid 사용\n",
    "model_ccn_out = Sequential()\n",
    "model_ccn_out.add(Embedding(vocab_size, word_vector_dim, input_shape=(None,)))\n",
    "model_ccn_out.add(Dropout(0.4))\n",
    "model_ccn_out.add(Conv1D(16, 3, activation='relu'))\n",
    "model_ccn_out.add(MaxPooling1D(5))\n",
    "model_ccn_out.add(Conv1D(16, 3, activation='relu'))\n",
    "model_ccn_out.add(GlobalMaxPooling1D())\n",
    "model_ccn_out.add(Dense(8, activation='relu'))\n",
    "model_ccn_out.add(Dropout(0.3))\n",
    "model_ccn_out.add(Dense(1, activation='sigmoid'))\n",
    "\n",
    "model_ccn_out.summary()"
   ]
  },
  {
   "cell_type": "code",
   "execution_count": 96,
   "id": "c291ca10",
   "metadata": {},
   "outputs": [
    {
     "name": "stdout",
     "output_type": "stream",
     "text": [
      "Epoch 1/10\n",
      "807/807 [==============================] - 5s 5ms/step - loss: 0.5497 - acc: 0.7454 - val_loss: 0.4411 - val_acc: 0.8338\n",
      "Epoch 2/10\n",
      "807/807 [==============================] - 4s 5ms/step - loss: 0.4283 - acc: 0.8340 - val_loss: 0.3987 - val_acc: 0.8371\n",
      "Epoch 3/10\n",
      "807/807 [==============================] - 4s 5ms/step - loss: 0.3896 - acc: 0.8452 - val_loss: 0.3773 - val_acc: 0.8430\n",
      "Epoch 4/10\n",
      "807/807 [==============================] - 4s 5ms/step - loss: 0.3653 - acc: 0.8527 - val_loss: 0.3716 - val_acc: 0.8405\n",
      "Epoch 5/10\n",
      "807/807 [==============================] - 4s 5ms/step - loss: 0.3489 - acc: 0.8593 - val_loss: 0.3708 - val_acc: 0.8430\n",
      "Epoch 6/10\n",
      "807/807 [==============================] - 4s 5ms/step - loss: 0.3401 - acc: 0.8624 - val_loss: 0.3721 - val_acc: 0.8413\n",
      "Epoch 7/10\n",
      "807/807 [==============================] - 4s 5ms/step - loss: 0.3293 - acc: 0.8672 - val_loss: 0.3733 - val_acc: 0.8413\n",
      "Epoch 8/10\n",
      "807/807 [==============================] - 4s 5ms/step - loss: 0.3227 - acc: 0.8709 - val_loss: 0.3866 - val_acc: 0.8344\n",
      "Epoch 9/10\n",
      "807/807 [==============================] - 4s 5ms/step - loss: 0.3172 - acc: 0.8723 - val_loss: 0.3790 - val_acc: 0.8411\n",
      "Epoch 00009: early stopping\n"
     ]
    }
   ],
   "source": [
    "# 모델학습\n",
    "model_ccn_out.compile(optimizer='adam', loss='binary_crossentropy', metrics=['acc'])\n",
    "history_ccn_out = model_ccn_out.fit(partial_X_train_post, partial_y_train, epochs=10, \n",
    "                                    batch_size=128, validation_data=(X_val_post, y_val), callbacks=[early_stopping], verbose=1)"
   ]
  },
  {
   "cell_type": "code",
   "execution_count": 97,
   "id": "10efe916",
   "metadata": {},
   "outputs": [
    {
     "name": "stdout",
     "output_type": "stream",
     "text": [
      "1537/1537 - 2s - loss: 0.3854 - acc: 0.8372\n",
      "[0.385369211435318, 0.8372154235839844]\n"
     ]
    }
   ],
   "source": [
    "# 모델평가\n",
    "results = model_ccn_out.evaluate(X_test_post, y_test, verbose=2)\n",
    "print(results)"
   ]
  },
  {
   "cell_type": "markdown",
   "id": "fe22774b",
   "metadata": {},
   "source": [
    "### 9.2 Multi-Kernel 1D CNN"
   ]
  },
  {
   "cell_type": "markdown",
   "id": "58d4e84f",
   "metadata": {},
   "source": [
    "* 다양한 크키의 커널을 혼합한 1D CNN"
   ]
  },
  {
   "cell_type": "code",
   "execution_count": 98,
   "id": "1e8de7b3",
   "metadata": {},
   "outputs": [],
   "source": [
    "from tensorflow.keras.models import Sequential, Model\n",
    "from tensorflow.keras.layers import Embedding, Dropout, Conv1D, GlobalMaxPooling1D, Dense, Input, Flatten, Concatenate\n",
    "from tensorflow.keras.callbacks import EarlyStopping, ModelCheckpoint\n",
    "from tensorflow.keras.models import load_model\n",
    "\n",
    "# 입력 층과 임베딩 층을 정의\n",
    "# 임베딩 층 이후에는 드롭아웃의 인자값이 0.5. 즉, 50% 드롭아웃\n",
    "embedding_dim = 128\n",
    "dropout_ratio = (0.5, 0.8)\n",
    "num_filters = 128\n",
    "hidden_units = 128\n",
    "\n",
    "model_input = Input(shape = (maxlen,))\n",
    "z = Embedding(vocab_size, embedding_dim, input_length = maxlen, name=\"embedding\")(model_input)\n",
    "z = Dropout(dropout_ratio[0])(z)\n",
    "\n",
    "# 3, 4, 5의 크기를 가지는 커널을 각각 128개 사용\n",
    "# 그 다음 맥스풀링\n",
    "conv_blocks = []\n",
    "\n",
    "for sz in [3, 4, 5]:\n",
    "    conv = Conv1D(filters = num_filters, kernel_size = sz, padding = \"valid\", activation = \"relu\", strides = 1)(z)\n",
    "    conv = GlobalMaxPooling1D()(conv)\n",
    "    conv_blocks.append(conv)\n",
    "\n",
    "# 각 맥스풀링한 결과 연결\n",
    "z = Concatenate()(conv_blocks) if len(conv_blocks) > 1 else conv_blocks[0]\n",
    "z = Dropout(dropout_ratio[1])(z)\n",
    "z = Dense(hidden_units, activation=\"relu\")(z)\n",
    "model_output = Dense(1, activation=\"sigmoid\")(z)"
   ]
  },
  {
   "cell_type": "code",
   "execution_count": 99,
   "id": "3b2a44b0",
   "metadata": {},
   "outputs": [
    {
     "name": "stdout",
     "output_type": "stream",
     "text": [
      "Epoch 1/10\n",
      "1613/1613 [==============================] - 12s 7ms/step - loss: 0.4348 - acc: 0.7911 - val_loss: 0.3470 - val_acc: 0.8500\n",
      "Epoch 2/10\n",
      "1613/1613 [==============================] - 10s 6ms/step - loss: 0.3423 - acc: 0.8532 - val_loss: 0.3349 - val_acc: 0.8571\n",
      "Epoch 3/10\n",
      "1613/1613 [==============================] - 10s 6ms/step - loss: 0.3135 - acc: 0.8674 - val_loss: 0.3334 - val_acc: 0.8558\n",
      "Epoch 4/10\n",
      "1613/1613 [==============================] - 10s 6ms/step - loss: 0.2956 - acc: 0.8776 - val_loss: 0.3341 - val_acc: 0.8569\n",
      "Epoch 5/10\n",
      "1613/1613 [==============================] - 10s 6ms/step - loss: 0.2795 - acc: 0.8842 - val_loss: 0.3380 - val_acc: 0.8566\n",
      "Epoch 6/10\n",
      "1613/1613 [==============================] - 10s 6ms/step - loss: 0.2667 - acc: 0.8892 - val_loss: 0.3426 - val_acc: 0.8563\n",
      "Epoch 7/10\n",
      "1613/1613 [==============================] - 11s 7ms/step - loss: 0.2563 - acc: 0.8950 - val_loss: 0.3459 - val_acc: 0.8563\n",
      "Epoch 00007: early stopping\n"
     ]
    }
   ],
   "source": [
    "# 모델학습 \n",
    "model = Model(model_input, model_output)\n",
    "model.compile(optimizer=\"adam\", loss=\"binary_crossentropy\", metrics=[\"acc\"])\n",
    "\n",
    "history_1DCNN_drop = model.fit(partial_X_train_post, partial_y_train, epochs=10, \n",
    "                               batch_size=64, validation_data=(X_val_post, y_val), callbacks=[early_stopping], verbose=1)"
   ]
  },
  {
   "cell_type": "code",
   "execution_count": 100,
   "id": "78cf5ceb",
   "metadata": {},
   "outputs": [
    {
     "name": "stdout",
     "output_type": "stream",
     "text": [
      "1537/1537 - 3s - loss: 0.3520 - acc: 0.8507\n",
      "[0.3520107567310333, 0.8506824970245361]\n"
     ]
    }
   ],
   "source": [
    "# 모델평가 \n",
    "results = model.evaluate(X_test_post, y_test, verbose=2)\n",
    "print(results)"
   ]
  },
  {
   "cell_type": "markdown",
   "id": "61a1d37b",
   "metadata": {},
   "source": [
    "### 9.3 BiLSTM with Attention Mechanism"
   ]
  },
  {
   "cell_type": "markdown",
   "id": "cb2a95a9",
   "metadata": {},
   "source": [
    "### 바다나우 어텐션(Bahdanau Attention)"
   ]
  },
  {
   "cell_type": "markdown",
   "id": "49fd6d01",
   "metadata": {},
   "source": [
    "* 바다나우 어텐션은 아래와 같은 어텐션 스코어 함수를 사용\n",
    "$$\n",
    "score(query, key) = V^T tanh(W_1key+W_2query)\n",
    "$$\n",
    "* 텍스트 분류에서 어텐션 메커니즘을 사용하는 이유는 RNN의 마지막 은닉 상태는 예측을 위해 사용\n",
    "* 그런데 이 RNN의 마지막 은닉 상태는 몇 가지 유용한 정보들을 손실한 상태\n",
    "* 그래서 RNN이 time step을 지나며 손실했던 정보들을 다시 참고하고자 한다.\n",
    "* 이는 다시 말해 RNN의 모든 은닉 상태들을 다시 한 번 참고하겠다는 것\n",
    "* 참고 \\\n",
    "https://wikidocs.net/48920"
   ]
  },
  {
   "cell_type": "code",
   "execution_count": 101,
   "id": "4ebcd4c8",
   "metadata": {},
   "outputs": [],
   "source": [
    "import tensorflow as tf\n",
    "\n",
    "class BahdanauAttention(tf.keras.Model):\n",
    "  def __init__(self, units):\n",
    "    super(BahdanauAttention, self).__init__()\n",
    "    self.W1 = Dense(units)\n",
    "    self.W2 = Dense(units)\n",
    "    self.V = Dense(1)\n",
    "\n",
    "  def call(self, values, query): # 단, key와 value는 같음\n",
    "    # query shape == (batch_size, hidden size)\n",
    "    # hidden_with_time_axis shape == (batch_size, 1, hidden size)\n",
    "    # score 계산을 위해 뒤에서 할 덧셈을 위해서 차원을 변경해줍니다.\n",
    "    hidden_with_time_axis = tf.expand_dims(query, 1)\n",
    "\n",
    "    # score shape == (batch_size, max_length, 1)\n",
    "    # we get 1 at the last axis because we are applying score to self.V\n",
    "    # the shape of the tensor before applying self.V is (batch_size, max_length, units)\n",
    "    score = self.V(tf.nn.tanh(\n",
    "        self.W1(values) + self.W2(hidden_with_time_axis)))\n",
    "\n",
    "    # attention_weights shape == (batch_size, max_length, 1)\n",
    "    attention_weights = tf.nn.softmax(score, axis=1)\n",
    "\n",
    "    # context_vector shape after sum == (batch_size, hidden_size)\n",
    "    context_vector = attention_weights * values\n",
    "    context_vector = tf.reduce_sum(context_vector, axis=1)\n",
    "\n",
    "    return context_vector, attention_weights"
   ]
  },
  {
   "cell_type": "code",
   "execution_count": 102,
   "id": "f6dff5c0",
   "metadata": {},
   "outputs": [
    {
     "name": "stdout",
     "output_type": "stream",
     "text": [
      "(None, 41, 128) (None, 64) (None, 64) (None, 64) (None, 64)\n"
     ]
    }
   ],
   "source": [
    "sequence_input = Input(shape=(maxlen,), dtype='int32')\n",
    "embedded_sequences = Embedding(vocab_size, 128, input_length=maxlen, mask_zero = True)(sequence_input)\n",
    "\n",
    "lstm = Bidirectional(LSTM(64, dropout=0.5, return_sequences = True))(embedded_sequences)\n",
    "\n",
    "lstm, forward_h, forward_c, backward_h, backward_c = Bidirectional \\\n",
    "  (LSTM(64, dropout=0.5, return_sequences=True, return_state=True))(lstm)\n",
    "\n",
    "print(lstm.shape, forward_h.shape, forward_c.shape, backward_h.shape, backward_c.shape)"
   ]
  },
  {
   "cell_type": "code",
   "execution_count": 103,
   "id": "16f36268",
   "metadata": {},
   "outputs": [],
   "source": [
    "state_h = Concatenate()([forward_h, backward_h]) # 은닉 상태\n",
    "state_c = Concatenate()([forward_c, backward_c]) # 셀 상태\n",
    "\n",
    "attention = BahdanauAttention(64) # 가중치 크기 정의\n",
    "context_vector, attention_weights = attention(lstm, state_h)\n",
    "\n",
    "dense1 = Dense(20, activation=\"relu\")(context_vector)\n",
    "dropout = Dropout(0.5)(dense1)\n",
    "output = Dense(1, activation=\"sigmoid\")(dropout)\n",
    "model = Model(inputs=sequence_input, outputs=output)"
   ]
  },
  {
   "cell_type": "code",
   "execution_count": 104,
   "id": "ddaa3342",
   "metadata": {},
   "outputs": [
    {
     "name": "stdout",
     "output_type": "stream",
     "text": [
      "Epoch 1/10\n",
      "1613/1613 [==============================] - 54s 26ms/step - loss: 0.4175 - accuracy: 0.8142 - val_loss: 0.3339 - val_accuracy: 0.8537\n",
      "Epoch 2/10\n",
      "1613/1613 [==============================] - 38s 23ms/step - loss: 0.3296 - accuracy: 0.8649 - val_loss: 0.3242 - val_accuracy: 0.8604\n",
      "Epoch 3/10\n",
      "1613/1613 [==============================] - 38s 23ms/step - loss: 0.2945 - accuracy: 0.8812 - val_loss: 0.3203 - val_accuracy: 0.8631\n",
      "Epoch 4/10\n",
      "1613/1613 [==============================] - 38s 23ms/step - loss: 0.2655 - accuracy: 0.8937 - val_loss: 0.3461 - val_accuracy: 0.8602\n",
      "Epoch 5/10\n",
      "1613/1613 [==============================] - 38s 23ms/step - loss: 0.2440 - accuracy: 0.9033 - val_loss: 0.3423 - val_accuracy: 0.8620\n",
      "Epoch 6/10\n",
      "1613/1613 [==============================] - 38s 23ms/step - loss: 0.2219 - accuracy: 0.9118 - val_loss: 0.3804 - val_accuracy: 0.8608\n",
      "Epoch 7/10\n",
      "1613/1613 [==============================] - 37s 23ms/step - loss: 0.2033 - accuracy: 0.9194 - val_loss: 0.4223 - val_accuracy: 0.8598\n",
      "Epoch 00007: early stopping\n"
     ]
    }
   ],
   "source": [
    "# 모델학습\n",
    "model.compile(optimizer='adam', loss='binary_crossentropy', metrics=['accuracy'])\n",
    "history = model.fit(partial_X_train_post, partial_y_train, epochs=10, \n",
    "                    batch_size=64, validation_data=(X_val_post, y_val), callbacks=[early_stopping], verbose=1)"
   ]
  },
  {
   "cell_type": "code",
   "execution_count": 105,
   "id": "24a3dd2c",
   "metadata": {},
   "outputs": [
    {
     "name": "stdout",
     "output_type": "stream",
     "text": [
      "1537/1537 - 10s - loss: 0.4307 - accuracy: 0.8540\n",
      "[0.43070048093795776, 0.8539577126502991]\n"
     ]
    }
   ],
   "source": [
    "# 모델평가\n",
    "results = model.evaluate(X_test_post, y_test, verbose=2)\n",
    "print(results)"
   ]
  },
  {
   "cell_type": "markdown",
   "id": "15422f01",
   "metadata": {},
   "source": [
    "### 9.4 결과"
   ]
  },
  {
   "cell_type": "markdown",
   "id": "8bfa6fcc",
   "metadata": {},
   "source": [
    "|Model|Loss|Accuracy|\n",
    "|:---:|:---:|:---:|\n",
    "|1-D CNN|0.6249|0.8236|\n",
    "|1D CNN+Dropout|0.3854|0.8372|\n",
    "|Multi-Kernel 1D CNN|0.3520|0.8507|\n",
    "|BiLSTM(pre)|0.4801|0.8435|\n",
    "|BiLSTM(post)|0.4728|0.8393|\n",
    "|BiLSTM with Attention Mechanism|0.4307|0.8540|"
   ]
  },
  {
   "cell_type": "markdown",
   "id": "2806b17a",
   "metadata": {},
   "source": [
    "* 1-D CNN 모델에 Dropout을 고려했을 때 정확도가 어느정도 개선된 것을 확인할 수 있다.\n",
    "* 보통 CNN은 이미지 분야에서 핵심적인 역할을 하지만 위 결과를 통해 NLP 분야에서도 꽤 동작을 잘 하는 것을 확인할 수 있었다. \\\n",
    "https://m.blog.naver.com/PostView.naver?isHttpsRedirect=true&blogId=superbag2010&logNo=220833722278\n",
    "* 적용할 수 있는 여러 가지 모델들을 찾아보다가 발견한 Attention Mechanism이다.\n",
    "* 그냥 BiLSTM을 사용했을 때보다 정확도가 개선된 것을 확인 할 수 있었다."
   ]
  },
  {
   "cell_type": "markdown",
   "id": "3e99500a",
   "metadata": {},
   "source": [
    "### 10. 회고"
   ]
  },
  {
   "cell_type": "markdown",
   "id": "05a10f4d",
   "metadata": {},
   "source": [
    "### 10.1 어려웠던 점"
   ]
  },
  {
   "cell_type": "markdown",
   "id": "fcd736ca",
   "metadata": {},
   "source": [
    "* 정확도 85%가 생각보다 잘 안나와서 85% 맞추는게 힘들었다."
   ]
  },
  {
   "cell_type": "markdown",
   "id": "84fec374",
   "metadata": {},
   "source": [
    "### 10.2 알게된 점, 모호한 점"
   ]
  },
  {
   "cell_type": "markdown",
   "id": "32e3d794",
   "metadata": {},
   "source": [
    "* 알게된 점\n",
    "  * 거인의 어깨는 대단하구나. 많이 써먹어야지..\n",
    "  * gensim을 사용해서 유사어를 출력했을 때 전혀 관련이 없는 단어들이 많이 출력되었다. gensim은 한국어와는 잘 맞지 않는 라이브러리가 아닐까 하는 생각이 든다. \n",
    "  * CNN이 생각외로 자연어처리에 잘 작동한다는 점이 신기했다.\n",
    "  * 일반적으로 한국어가 NLP분야에서 제일 어려운 난이도의 언어라고들 이야기하는데, 한국어만의 다채로운 표현, 줄임말, 다양한 비속어 같은 것들 때문에 더 어려운 것이 아닌가 하는 생각이 들었다.\n",
    "  * 여전히 흥미가 가는 건 CV분야이기는 하나 NLP도 나쁘지 않구나하는 생각이 들었다. 재밌었다.\n",
    "  \n",
    "* 모호한 점\n",
    "  * 분명히 RNN에서는 pre 패딩을 썼을 때 정확도가 더 높게 나온다고 했었는데, 위에서 확인했을 때는 그렇지 않았다.\n",
    "  * 이유..를 잘 모르겠다. \n",
    "  * 1-D CNN은 post에서 정확도가 더 높게 확인되었다. 왜 일까? \\\n",
    "  https://www.researchgate.net/publication/331858065_Effects_of_padding_on_LSTMs_and_CNNs"
   ]
  },
  {
   "cell_type": "markdown",
   "id": "fa0cf0e2",
   "metadata": {},
   "source": [
    "### 10.3 시도한 것들"
   ]
  },
  {
   "cell_type": "markdown",
   "id": "c3ca4cb4",
   "metadata": {},
   "source": [
    "* 결과를 따로 기재하지 않았으나 파라미터를 이것, 저것 많이 수정해보았다.\n",
    "* Dropout을 통해 정확도를 개선시켜 보았다. \n",
    "* Attention Mechanism을 사용해 보았다."
   ]
  },
  {
   "cell_type": "markdown",
   "id": "b18bc50f",
   "metadata": {},
   "source": [
    "### 10.4 자기 다짐"
   ]
  },
  {
   "cell_type": "markdown",
   "id": "e77f7638",
   "metadata": {},
   "source": [
    "* Exploration을 진행해 나가면서 여러 가지 적용해보는게 재미있으나,\n",
    "* 어느 정도껏 해야 할 듯하다. 몸이 너무 힘들다.\n",
    "* 인간의 욕심을 끝이 없고..같은 실수를 반복하려나?\n",
    "* 뭐든지 첫 인상이 중요하다고 하지만, 보면 볼 수록 매력있는 것들이 있다. 나한테는 NLP가 약간 그런 존재인 것 같다.\n",
    "* 앞으로 공부해 가면서 NLP에 대해 더 알아보고 싶다."
   ]
  },
  {
   "cell_type": "markdown",
   "id": "f4be6ea9",
   "metadata": {},
   "source": [
    "### 11. 참고"
   ]
  },
  {
   "cell_type": "markdown",
   "id": "000ea0da",
   "metadata": {},
   "source": [
    "* Attention Mechanism 참고 \\\n",
    "https://wikidocs.net/22893"
   ]
  }
 ],
 "metadata": {
  "kernelspec": {
   "display_name": "Python 3 (ipykernel)",
   "language": "python",
   "name": "python3"
  },
  "language_info": {
   "codemirror_mode": {
    "name": "ipython",
    "version": 3
   },
   "file_extension": ".py",
   "mimetype": "text/x-python",
   "name": "python",
   "nbconvert_exporter": "python",
   "pygments_lexer": "ipython3",
   "version": "3.9.7"
  }
 },
 "nbformat": 4,
 "nbformat_minor": 5
}
