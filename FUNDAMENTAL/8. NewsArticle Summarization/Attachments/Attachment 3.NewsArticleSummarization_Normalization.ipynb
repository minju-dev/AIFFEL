{
 "cells": [
  {
   "cell_type": "markdown",
   "id": "93d0e827",
   "metadata": {},
   "source": [
    "## Exploration 8. New Article Summarization 📰"
   ]
  },
  {
   "cell_type": "markdown",
   "id": "44fb05af",
   "metadata": {},
   "source": [
    "### Checking the degree of model performance improvement by Changing the Normalization Method"
   ]
  },
  {
   "cell_type": "markdown",
   "id": "faf23f8c",
   "metadata": {},
   "source": [
    "* See the table contents of `2.2.2 Text Normalization and Remove Stopword` for changes"
   ]
  },
  {
   "cell_type": "markdown",
   "id": "5c0dc6aa",
   "metadata": {},
   "source": [
    "### 1. Experiment Environment Set-up"
   ]
  },
  {
   "cell_type": "markdown",
   "id": "2748d09a",
   "metadata": {},
   "source": [
    "### 1.1 Import Libraries"
   ]
  },
  {
   "cell_type": "code",
   "execution_count": 1,
   "id": "987dd265",
   "metadata": {},
   "outputs": [
    {
     "name": "stderr",
     "output_type": "stream",
     "text": [
      "[nltk_data] Downloading package stopwords to /aiffel/nltk_data...\n",
      "[nltk_data]   Package stopwords is already up-to-date!\n"
     ]
    }
   ],
   "source": [
    "# 사용하는 라이브러리 불러오기\n",
    "import nltk\n",
    "nltk.download('stopwords')\n",
    "\n",
    "import seaborn as sns\n",
    "import matplotlib.pyplot as plt\n",
    "from random import randint\n",
    "from wordcloud import STOPWORDS, WordCloud\n",
    "\n",
    "import numpy as np\n",
    "import pandas as pd\n",
    "import os\n",
    "import re\n",
    "import matplotlib.pyplot as plt\n",
    "from nltk.corpus import stopwords\n",
    "from bs4 import BeautifulSoup \n",
    "from tensorflow.keras.preprocessing.text import Tokenizer \n",
    "from tensorflow.keras.preprocessing.sequence import pad_sequences\n",
    "import urllib.request\n",
    "import warnings\n",
    "warnings.filterwarnings(\"ignore\", category=UserWarning, module='bs4')"
   ]
  },
  {
   "cell_type": "markdown",
   "id": "903aba56",
   "metadata": {},
   "source": [
    "### 2. Load and Preprocessing Data"
   ]
  },
  {
   "cell_type": "markdown",
   "id": "4df15d72",
   "metadata": {},
   "source": [
    "### 2.1 Load Data"
   ]
  },
  {
   "cell_type": "code",
   "execution_count": 2,
   "id": "1b5bc871",
   "metadata": {},
   "outputs": [],
   "source": [
    "# 데이터 다운로드\n",
    "urllib.request.urlretrieve(\"https://raw.githubusercontent.com/sunnysai12345/News_Summary/master/news_summary_more.csv\", filename=\"news_summary_more.csv\")\n",
    "data = pd.read_csv('news_summary_more.csv', encoding='iso-8859-1')"
   ]
  },
  {
   "cell_type": "code",
   "execution_count": 3,
   "id": "58ded795",
   "metadata": {},
   "outputs": [
    {
     "data": {
      "text/html": [
       "<div>\n",
       "<style scoped>\n",
       "    .dataframe tbody tr th:only-of-type {\n",
       "        vertical-align: middle;\n",
       "    }\n",
       "\n",
       "    .dataframe tbody tr th {\n",
       "        vertical-align: top;\n",
       "    }\n",
       "\n",
       "    .dataframe thead th {\n",
       "        text-align: right;\n",
       "    }\n",
       "</style>\n",
       "<table border=\"1\" class=\"dataframe\">\n",
       "  <thead>\n",
       "    <tr style=\"text-align: right;\">\n",
       "      <th></th>\n",
       "      <th>headlines</th>\n",
       "      <th>text</th>\n",
       "    </tr>\n",
       "  </thead>\n",
       "  <tbody>\n",
       "    <tr>\n",
       "      <th>93533</th>\n",
       "      <td>Andhra CM lays foundation stone for Ã¢ÂÂ¹100-...</td>\n",
       "      <td>Andhra Pradesh Chief Minister N Chandrababu Na...</td>\n",
       "    </tr>\n",
       "    <tr>\n",
       "      <th>31198</th>\n",
       "      <td>iPhone explodes, catches fire at repair shop i...</td>\n",
       "      <td>An iPhone exploded and caught fire at a repair...</td>\n",
       "    </tr>\n",
       "    <tr>\n",
       "      <th>23085</th>\n",
       "      <td>Ex-world no. 1 withdraws from c'ship after tea...</td>\n",
       "      <td>Former world number one Andy Murray withdrew f...</td>\n",
       "    </tr>\n",
       "    <tr>\n",
       "      <th>32066</th>\n",
       "      <td>Kim Jong-un visits China for second time in tw...</td>\n",
       "      <td>North Korean leader Kim Jong-un made his secon...</td>\n",
       "    </tr>\n",
       "    <tr>\n",
       "      <th>82204</th>\n",
       "      <td>500 Startups' General Partner quits over haras...</td>\n",
       "      <td>Silicon Valley venture fund 500 Startups' Co-f...</td>\n",
       "    </tr>\n",
       "    <tr>\n",
       "      <th>31739</th>\n",
       "      <td>Bank of India files $6.25 million lawsuit agai...</td>\n",
       "      <td>Bank of India has filed a lawsuit against jewe...</td>\n",
       "    </tr>\n",
       "    <tr>\n",
       "      <th>51761</th>\n",
       "      <td>Will let users disable battery slowdown update...</td>\n",
       "      <td>Apple CEO Tim Cook has said the next iOS updat...</td>\n",
       "    </tr>\n",
       "    <tr>\n",
       "      <th>36439</th>\n",
       "      <td>Canadian firm gets Ã¢ÂÂ¹77 lakh to make egg o...</td>\n",
       "      <td>Canada-based Orijin Design Company has raised ...</td>\n",
       "    </tr>\n",
       "    <tr>\n",
       "      <th>40267</th>\n",
       "      <td>I was destined to portray Sunil Dutt: Paresh R...</td>\n",
       "      <td>Paresh Rawal, who portrays Sunil Dutt in 'Sanj...</td>\n",
       "    </tr>\n",
       "    <tr>\n",
       "      <th>56596</th>\n",
       "      <td>Tanzania pardons rapists, calls for arrest of ...</td>\n",
       "      <td>Tanzanian President John Magufuli pardoned the...</td>\n",
       "    </tr>\n",
       "  </tbody>\n",
       "</table>\n",
       "</div>"
      ],
      "text/plain": [
       "                                               headlines  \\\n",
       "93533  Andhra CM lays foundation stone for Ã¢ÂÂ¹100-...   \n",
       "31198  iPhone explodes, catches fire at repair shop i...   \n",
       "23085  Ex-world no. 1 withdraws from c'ship after tea...   \n",
       "32066  Kim Jong-un visits China for second time in tw...   \n",
       "82204  500 Startups' General Partner quits over haras...   \n",
       "31739  Bank of India files $6.25 million lawsuit agai...   \n",
       "51761  Will let users disable battery slowdown update...   \n",
       "36439  Canadian firm gets Ã¢ÂÂ¹77 lakh to make egg o...   \n",
       "40267  I was destined to portray Sunil Dutt: Paresh R...   \n",
       "56596  Tanzania pardons rapists, calls for arrest of ...   \n",
       "\n",
       "                                                    text  \n",
       "93533  Andhra Pradesh Chief Minister N Chandrababu Na...  \n",
       "31198  An iPhone exploded and caught fire at a repair...  \n",
       "23085  Former world number one Andy Murray withdrew f...  \n",
       "32066  North Korean leader Kim Jong-un made his secon...  \n",
       "82204  Silicon Valley venture fund 500 Startups' Co-f...  \n",
       "31739  Bank of India has filed a lawsuit against jewe...  \n",
       "51761  Apple CEO Tim Cook has said the next iOS updat...  \n",
       "36439  Canada-based Orijin Design Company has raised ...  \n",
       "40267  Paresh Rawal, who portrays Sunil Dutt in 'Sanj...  \n",
       "56596  Tanzanian President John Magufuli pardoned the...  "
      ]
     },
     "execution_count": 3,
     "metadata": {},
     "output_type": "execute_result"
    }
   ],
   "source": [
    "data.sample(10)"
   ]
  },
  {
   "cell_type": "markdown",
   "id": "772243c7",
   "metadata": {},
   "source": [
    "* 이 데이터는 기사의 본문에 해당되는 text와 headlines 두 가지 열로 구성되어져 있다. \n",
    "* 추상적 요약 : text를 본문, headlines를 이미 요약된 데이터로 삼아서 모델을 학습\n",
    "* 추출적 요약 : 오직 text열만을 사용"
   ]
  },
  {
   "cell_type": "markdown",
   "id": "a867fe85",
   "metadata": {},
   "source": [
    "### 2.2 Preprocessing Data"
   ]
  },
  {
   "cell_type": "markdown",
   "id": "bd464a5d",
   "metadata": {},
   "source": [
    "### 2.2.1 Dropping Duplicate Samples and Null Values"
   ]
  },
  {
   "cell_type": "code",
   "execution_count": 4,
   "id": "5cc7afb8",
   "metadata": {},
   "outputs": [
    {
     "name": "stdout",
     "output_type": "stream",
     "text": [
      "headlines 열에서 중복을 배제한 유일한 샘플의 수 : 98280\n",
      "text 열에서 중복을 배제한 유일한 샘플의 수 : 98360\n"
     ]
    }
   ],
   "source": [
    "print('headlines 열에서 중복을 배제한 유일한 샘플의 수 :', data['headlines'].nunique())\n",
    "print('text 열에서 중복을 배제한 유일한 샘플의 수 :', data['text'].nunique())"
   ]
  },
  {
   "cell_type": "code",
   "execution_count": 5,
   "id": "31dba3e9",
   "metadata": {},
   "outputs": [
    {
     "name": "stdout",
     "output_type": "stream",
     "text": [
      "전체 샘플수 : 98280\n"
     ]
    }
   ],
   "source": [
    "# inplace=True 를 설정하면 DataFrame 타입 값을 return 하지 않고 data 내부를 직접적으로 바꿉니다\n",
    "data.drop_duplicates(subset = ['headlines'], inplace=True)\n",
    "print('전체 샘플수 :', (len(data)))"
   ]
  },
  {
   "cell_type": "code",
   "execution_count": 6,
   "id": "2db6db7e",
   "metadata": {},
   "outputs": [
    {
     "name": "stdout",
     "output_type": "stream",
     "text": [
      "headlines    0\n",
      "text         0\n",
      "dtype: int64\n"
     ]
    }
   ],
   "source": [
    "print(data.isnull().sum())"
   ]
  },
  {
   "cell_type": "markdown",
   "id": "d8fefe9a",
   "metadata": {},
   "source": [
    "### 2.2.2 Text Normalization and Remove Stopword"
   ]
  },
  {
   "cell_type": "code",
   "execution_count": 7,
   "id": "56107690",
   "metadata": {},
   "outputs": [
    {
     "name": "stdout",
     "output_type": "stream",
     "text": [
      "정규화 사전의 수:  120\n"
     ]
    }
   ],
   "source": [
    "contractions = {\"ain't\": \"is not\", \"aren't\": \"are not\",\"can't\": \"cannot\", \"'cause\": \"because\", \"could've\": \"could have\", \"couldn't\": \"could not\",\n",
    "                           \"didn't\": \"did not\",  \"doesn't\": \"does not\", \"don't\": \"do not\", \"hadn't\": \"had not\", \"hasn't\": \"has not\", \"haven't\": \"have not\",\n",
    "                           \"he'd\": \"he would\",\"he'll\": \"he will\", \"he's\": \"he is\", \"how'd\": \"how did\", \"how'd'y\": \"how do you\", \"how'll\": \"how will\", \"how's\": \"how is\",\n",
    "                           \"I'd\": \"I would\", \"I'd've\": \"I would have\", \"I'll\": \"I will\", \"I'll've\": \"I will have\",\"I'm\": \"I am\", \"I've\": \"I have\", \"i'd\": \"i would\",\n",
    "                           \"i'd've\": \"i would have\", \"i'll\": \"i will\",  \"i'll've\": \"i will have\",\"i'm\": \"i am\", \"i've\": \"i have\", \"isn't\": \"is not\", \"it'd\": \"it would\",\n",
    "                           \"it'd've\": \"it would have\", \"it'll\": \"it will\", \"it'll've\": \"it will have\",\"it's\": \"it is\", \"let's\": \"let us\", \"ma'am\": \"madam\",\n",
    "                           \"mayn't\": \"may not\", \"might've\": \"might have\",\"mightn't\": \"might not\",\"mightn't've\": \"might not have\", \"must've\": \"must have\",\n",
    "                           \"mustn't\": \"must not\", \"mustn't've\": \"must not have\", \"needn't\": \"need not\", \"needn't've\": \"need not have\",\"o'clock\": \"of the clock\",\n",
    "                           \"oughtn't\": \"ought not\", \"oughtn't've\": \"ought not have\", \"shan't\": \"shall not\", \"sha'n't\": \"shall not\", \"shan't've\": \"shall not have\",\n",
    "                           \"she'd\": \"she would\", \"she'd've\": \"she would have\", \"she'll\": \"she will\", \"she'll've\": \"she will have\", \"she's\": \"she is\",\n",
    "                           \"should've\": \"should have\", \"shouldn't\": \"should not\", \"shouldn't've\": \"should not have\", \"so've\": \"so have\",\"so's\": \"so as\",\n",
    "                           \"this's\": \"this is\",\"that'd\": \"that would\", \"that'd've\": \"that would have\", \"that's\": \"that is\", \"there'd\": \"there would\",\n",
    "                           \"there'd've\": \"there would have\", \"there's\": \"there is\", \"here's\": \"here is\",\"they'd\": \"they would\", \"they'd've\": \"they would have\",\n",
    "                           \"they'll\": \"they will\", \"they'll've\": \"they will have\", \"they're\": \"they are\", \"they've\": \"they have\", \"to've\": \"to have\",\n",
    "                           \"wasn't\": \"was not\", \"we'd\": \"we would\", \"we'd've\": \"we would have\", \"we'll\": \"we will\", \"we'll've\": \"we will have\", \"we're\": \"we are\",\n",
    "                           \"we've\": \"we have\", \"weren't\": \"were not\", \"what'll\": \"what will\", \"what'll've\": \"what will have\", \"what're\": \"what are\",\n",
    "                           \"what's\": \"what is\", \"what've\": \"what have\", \"when's\": \"when is\", \"when've\": \"when have\", \"where'd\": \"where did\", \"where's\": \"where is\",\n",
    "                           \"where've\": \"where have\", \"who'll\": \"who will\", \"who'll've\": \"who will have\", \"who's\": \"who is\", \"who've\": \"who have\",\n",
    "                           \"why's\": \"why is\", \"why've\": \"why have\", \"will've\": \"will have\", \"won't\": \"will not\", \"won't've\": \"will not have\",\n",
    "                           \"would've\": \"would have\", \"wouldn't\": \"would not\", \"wouldn't've\": \"would not have\", \"y'all\": \"you all\",\n",
    "                           \"y'all'd\": \"you all would\",\"y'all'd've\": \"you all would have\",\"y'all're\": \"you all are\",\"y'all've\": \"you all have\",\n",
    "                           \"you'd\": \"you would\", \"you'd've\": \"you would have\", \"you'll\": \"you will\", \"you'll've\": \"you will have\",\n",
    "                           \"you're\": \"you are\", \"you've\": \"you have\"}\n",
    "\n",
    "print(\"정규화 사전의 수: \", len(contractions))"
   ]
  },
  {
   "cell_type": "code",
   "execution_count": 8,
   "id": "9edf1175",
   "metadata": {},
   "outputs": [
    {
     "name": "stdout",
     "output_type": "stream",
     "text": [
      "불용어 개수 : 179\n",
      "['i', 'me', 'my', 'myself', 'we', 'our', 'ours', 'ourselves', 'you', \"you're\", \"you've\", \"you'll\", \"you'd\", 'your', 'yours', 'yourself', 'yourselves', 'he', 'him', 'his', 'himself', 'she', \"she's\", 'her', 'hers', 'herself', 'it', \"it's\", 'its', 'itself', 'they', 'them', 'their', 'theirs', 'themselves', 'what', 'which', 'who', 'whom', 'this', 'that', \"that'll\", 'these', 'those', 'am', 'is', 'are', 'was', 'were', 'be', 'been', 'being', 'have', 'has', 'had', 'having', 'do', 'does', 'did', 'doing', 'a', 'an', 'the', 'and', 'but', 'if', 'or', 'because', 'as', 'until', 'while', 'of', 'at', 'by', 'for', 'with', 'about', 'against', 'between', 'into', 'through', 'during', 'before', 'after', 'above', 'below', 'to', 'from', 'up', 'down', 'in', 'out', 'on', 'off', 'over', 'under', 'again', 'further', 'then', 'once', 'here', 'there', 'when', 'where', 'why', 'how', 'all', 'any', 'both', 'each', 'few', 'more', 'most', 'other', 'some', 'such', 'no', 'nor', 'not', 'only', 'own', 'same', 'so', 'than', 'too', 'very', 's', 't', 'can', 'will', 'just', 'don', \"don't\", 'should', \"should've\", 'now', 'd', 'll', 'm', 'o', 're', 've', 'y', 'ain', 'aren', \"aren't\", 'couldn', \"couldn't\", 'didn', \"didn't\", 'doesn', \"doesn't\", 'hadn', \"hadn't\", 'hasn', \"hasn't\", 'haven', \"haven't\", 'isn', \"isn't\", 'ma', 'mightn', \"mightn't\", 'mustn', \"mustn't\", 'needn', \"needn't\", 'shan', \"shan't\", 'shouldn', \"shouldn't\", 'wasn', \"wasn't\", 'weren', \"weren't\", 'won', \"won't\", 'wouldn', \"wouldn't\"]\n"
     ]
    }
   ],
   "source": [
    "print('불용어 개수 :', len(stopwords.words('english') ))\n",
    "print(stopwords.words('english'))"
   ]
  },
  {
   "cell_type": "code",
   "execution_count": 9,
   "id": "40967d9e",
   "metadata": {},
   "outputs": [],
   "source": [
    "# 데이터 전처리 함수\n",
    "def preprocess_sentence(sentence, remove_stopwords=True):\n",
    "    sentence = BeautifulSoup(sentence, \"lxml\").text # <br />, <a href = ...> 등의 html 태그 제거\n",
    "    sentence = re.sub(\"(\\\\t)\", ' ', sentence).lower()\n",
    "    sentence = re.sub(\"(\\\\r)\", ' ', sentence).lower()\n",
    "    sentence = re.sub(\"(\\\\n)\", ' ', sentence).lower()\n",
    "    \n",
    "    sentence = re.sub(\"(__+)\", ' ', sentence).lower()\n",
    "    sentence = re.sub(\"(--+)\", ' ', sentence).lower()\n",
    "    sentence = re.sub(\"(~~+)\", ' ', sentence).lower()\n",
    "    sentence = re.sub(\"(\\+\\++)\", ' ', sentence).lower()\n",
    "    sentence = re.sub(\"(\\.\\.+)\", ' ', sentence).lower()\n",
    "    \n",
    "    sentence = re.sub(r\"[<>()|&©ø\\[\\]\\'\\\",;?~*!]\", ' ', sentence).lower()\n",
    "    \n",
    "    sentence = re.sub(r\"'s\\b\",\"\", sentence) # 소유격 제거. Ex) roland's -> roland\n",
    "    sentence = re.sub(\"(mailto:)\", ' ', sentence).lower()\n",
    "    sentence = re.sub(r\"(\\\\x9\\d)\", ' ', sentence).lower()\n",
    "    sentence = re.sub(r'\\([^)]*\\)', '', sentence).lower()\n",
    "    sentence = re.sub(\"[^a-zA-Z]\", \" \", sentence) # 영어 외 문자(숫자, 특수문자 등) 공백으로 변환\n",
    "    sentence = re.sub(\"([iI][nN][cC]\\d+)\", 'INC_NUM', sentence).lower()\n",
    "    sentence = re.sub(\"([cC][mM]\\d+)|([cC][hH][gG]\\d+)\", 'CM_NUM', sentence).lower()\n",
    "    sentence = ' '.join([contractions[t] if t in contractions else t for t in sentence.split(\" \")]) # 약어 정규화\n",
    "    sentence = re.sub('[m]{2,}', 'mm', sentence) # m이 3개 이상이면 2개로 변경. Ex) ummmmmmm yeah -> umm yeah\n",
    "    \n",
    "    try:\n",
    "        url = re.search(r'((https*:\\/*)([^\\/\\s]+))(.[^\\s]+)', sentence)\n",
    "        repl_url = url.group(3)\n",
    "        sentence = re.sub(r'((https*:\\/*)([^\\/\\s]+))(.[^\\s]+)',repl_url, sentence)\n",
    "    except:\n",
    "        pass #there might be emails with no url in them\n",
    "    \n",
    "    sentence = re.sub(\"(\\s+)\",' ',sentence).lower() #remove multiple spaces\n",
    "        \n",
    "    #Should always be last\n",
    "    sentence = re.sub(\"(\\s+.\\s+)\", ' ', sentence).lower() #remove any single charecters hanging between 2 spaces\n",
    "        \n",
    "\n",
    "    # 불용어 제거 (Text)\n",
    "    if remove_stopwords:\n",
    "        tokens = ' '.join(word for word in sentence.split() if not word in stopwords.words('english') if len(word) > 1)\n",
    "    # 불용어 미제거 (headlines)\n",
    "    else:\n",
    "        tokens = ' '.join(word for word in sentence.split() if len(word) > 1)\n",
    "    \n",
    "    return tokens    "
   ]
  },
  {
   "cell_type": "code",
   "execution_count": 10,
   "id": "fc0d2054",
   "metadata": {},
   "outputs": [
    {
     "name": "stdout",
     "output_type": "stream",
     "text": [
      "text 전처리 후 결과:  ['saurav kant alumnus upgrad iiit pg program machine learning artificial intelligence sr systems engineer infosys almost years work experience program upgrad degree career support helped transition data scientist tech mahindra salary hike upgrad online power learning powered lakh careers', 'kunal shah credit card bill payment platform cred gave users chance win free food swiggy one year pranav kaushik delhi techie bagged reward spending cred coins users get one cred coin per rupee bill paid used avail rewards brands like ixigo bookmyshow ubereats cult fit', 'new zealand defeated india wickets fourth odi hamilton thursday win first match five match odi series india lost international match rohit sharma captaincy consecutive victories dating back march match witnessed india getting seventh lowest total odi cricket history', 'aegon life iterm insurance plan customers enjoy tax benefits premiums paid save taxes plan provides life cover age years also customers options insure critical illnesses disability accidental death benefit rider life cover age years', 'speaking sexual harassment allegations rajkumar hirani sonam kapoor said known hirani many years true metoo movement get derailed metoo movement always believe woman case need reserve judgment added hirani accused assistant worked sanju']\n"
     ]
    }
   ],
   "source": [
    "clean_text = []\n",
    "# 전체 Text 데이터에 대한 전처리 : 10분 이상 시간이 걸릴 수 있습니다. \n",
    "for s in data['text']:\n",
    "    clean_text.append(preprocess_sentence(s))\n",
    "\n",
    "# 전처리 후 출력\n",
    "print(\"text 전처리 후 결과: \", clean_text[:5])"
   ]
  },
  {
   "cell_type": "code",
   "execution_count": 11,
   "id": "1211b5c9",
   "metadata": {},
   "outputs": [
    {
     "name": "stdout",
     "output_type": "stream",
     "text": [
      "headlines 전처리 후 결과:  ['upgrad learner switches to career in ml al with salary hike', 'delhi techie wins free food from swiggy for one year on cred', 'new zealand end rohit sharma led india match winning streak', 'aegon life iterm insurance plan helps customers save tax', 'have known hirani for yrs what if metoo claims are not true sonam']\n"
     ]
    }
   ],
   "source": [
    "clean_headlines = []\n",
    "# 전체 headlines 데이터에 대한 전처리 : 5분 이상 시간이 걸릴 수 있습니다. \n",
    "for s in data['headlines']:\n",
    "    clean_headlines.append(preprocess_sentence(s, False))\n",
    "\n",
    "print(\"headlines 전처리 후 결과: \", clean_headlines[:5])"
   ]
  },
  {
   "cell_type": "code",
   "execution_count": 12,
   "id": "64072632",
   "metadata": {},
   "outputs": [],
   "source": [
    "# 텍스트 정제의 과정을 거친 후에는 다시 한번 빈(empty) 샘플이 생겼는지 확인\n",
    "# 정제 전에는 데이터가 존재했지만, 정제 과정에서 문장의 모든 단어가 사라지는 경우가 있을 수 있다. \n",
    "data['text'] = clean_text\n",
    "data['headlines'] = clean_headlines\n",
    "\n",
    "# 빈 값을 Null 값으로 변환\n",
    "data.replace('', np.nan, inplace=True)"
   ]
  },
  {
   "cell_type": "code",
   "execution_count": 13,
   "id": "ca1b7398",
   "metadata": {},
   "outputs": [
    {
     "data": {
      "text/plain": [
       "headlines    0\n",
       "text         0\n",
       "dtype: int64"
      ]
     },
     "execution_count": 13,
     "metadata": {},
     "output_type": "execute_result"
    }
   ],
   "source": [
    "data.isnull().sum()"
   ]
  },
  {
   "cell_type": "code",
   "execution_count": 14,
   "id": "f60ead89",
   "metadata": {},
   "outputs": [
    {
     "name": "stdout",
     "output_type": "stream",
     "text": [
      "전체 샘플수 : 98280\n"
     ]
    }
   ],
   "source": [
    "# 전체 샘플수 확인\n",
    "print('전체 샘플수 :', (len(data)))"
   ]
  },
  {
   "cell_type": "markdown",
   "id": "264a3f33",
   "metadata": {},
   "source": [
    "### 2.2.3 Dividing Dataset into Train & Test"
   ]
  },
  {
   "cell_type": "markdown",
   "id": "7ca079bb",
   "metadata": {},
   "source": [
    "### A. Set the maximum sample length"
   ]
  },
  {
   "cell_type": "code",
   "execution_count": 15,
   "id": "9cba8ded",
   "metadata": {},
   "outputs": [
    {
     "name": "stdout",
     "output_type": "stream",
     "text": [
      "텍스트의 최소 길이 : 1\n",
      "텍스트의 최대 길이 : 60\n",
      "텍스트의 평균 길이 : 35.258109483109486\n",
      "헤드라인의 최소 길이 : 1\n",
      "헤드라인의 최대 길이 : 16\n",
      "헤드라인의 평균 길이 : 9.264438339438339\n"
     ]
    },
    {
     "data": {
      "image/png": "[encoded data removed]",
      "text/plain": [
       "<Figure size 432x288 with 2 Axes>"
      ]
     },
     "metadata": {
      "needs_background": "light"
     },
     "output_type": "display_data"
    },
    {
     "data": {
      "image/png": "[encoded data removed]",
      "text/plain": [
       "<Figure size 432x288 with 1 Axes>"
      ]
     },
     "metadata": {
      "needs_background": "light"
     },
     "output_type": "display_data"
    },
    {
     "data": {
      "image/png": "[encoded data removed]",
      "text/plain": [
       "<Figure size 432x288 with 1 Axes>"
      ]
     },
     "metadata": {
      "needs_background": "light"
     },
     "output_type": "display_data"
    }
   ],
   "source": [
    "# 길이 분포 출력\n",
    "import matplotlib.pyplot as plt\n",
    "\n",
    "text_len = [len(s.split()) for s in data['text']]\n",
    "headlines_len = [len(s.split()) for s in data['headlines']]\n",
    "\n",
    "print('텍스트의 최소 길이 : {}'.format(np.min(text_len)))\n",
    "print('텍스트의 최대 길이 : {}'.format(np.max(text_len)))\n",
    "print('텍스트의 평균 길이 : {}'.format(np.mean(text_len)))\n",
    "print('헤드라인의 최소 길이 : {}'.format(np.min(headlines_len)))\n",
    "print('헤드라인의 최대 길이 : {}'.format(np.max(headlines_len)))\n",
    "print('헤드라인의 평균 길이 : {}'.format(np.mean(headlines_len)))\n",
    "\n",
    "plt.subplot(1,2,1)\n",
    "plt.boxplot(text_len)\n",
    "plt.title('text')\n",
    "plt.subplot(1,2,2)\n",
    "plt.boxplot(headlines_len)\n",
    "plt.title('headlines')\n",
    "plt.tight_layout()\n",
    "plt.show()\n",
    "\n",
    "plt.title('text')\n",
    "plt.hist(text_len, bins = 40)\n",
    "plt.xlabel('length of samples')\n",
    "plt.ylabel('number of samples')\n",
    "plt.show()\n",
    "\n",
    "plt.title('headlines')\n",
    "plt.hist(headlines_len, bins = 40)\n",
    "plt.xlabel('length of samples')\n",
    "plt.ylabel('number of samples')\n",
    "plt.show()"
   ]
  },
  {
   "cell_type": "markdown",
   "id": "d523d9e9",
   "metadata": {},
   "source": [
    "* text의 경우 최소 길이가 1, 최대 길이가 60으로 그 차이가 좀 있다. 하지만 평균 길이는 35로 시각화된 그래프로 봤을 때는 대체적으로는 30~40 내외의 길이를 가진다는 것을 확인할 수 있다.\n",
    "\n",
    "* headlines의 경우 최소 길이가 1, 최대 길이가 16, 그리고 평균 길이가 9로 text에 비해 상대적으로 길이가 매우 짧다. 그래프로 봤을 때에도 대체적으로 8~10의 길이를 가지고 있다."
   ]
  },
  {
   "cell_type": "code",
   "execution_count": 16,
   "id": "b4335bf1",
   "metadata": {},
   "outputs": [],
   "source": [
    "# 통계적으로 확인하기 위한 함수\n",
    "# 통계로 확인해 객관적으로 길이 결정\n",
    "def below_threshold_len(max_len, nested_list):\n",
    "    cnt = 0\n",
    "    for s in nested_list:\n",
    "        if(len(s.split()) <= max_len):\n",
    "            cnt = cnt + 1\n",
    "    print('전체 샘플 중 길이가 %s 이하인 샘플의 비율: %s'%(max_len, (cnt / len(nested_list))))"
   ]
  },
  {
   "cell_type": "code",
   "execution_count": 17,
   "id": "4c285129",
   "metadata": {},
   "outputs": [
    {
     "name": "stdout",
     "output_type": "stream",
     "text": [
      "전체 샘플 중 길이가 38 이하인 샘플의 비율: 0.8044261294261295\n",
      "전체 샘플 중 길이가 11 이하인 샘플의 비율: 0.952014652014652\n"
     ]
    }
   ],
   "source": [
    "# 각각 38과 11로 정했는데 이 길이를 선택했을 때, 얼마나 많은 샘플들을 자르지 않고 포함할 수 있는지 통계로 확인\n",
    "text_max_len = 38\n",
    "headlines_max_len = 11\n",
    "\n",
    "below_threshold_len(text_max_len, data['text'])\n",
    "below_threshold_len(headlines_max_len,  data['headlines'])"
   ]
  },
  {
   "cell_type": "markdown",
   "id": "a4cd77d4",
   "metadata": {},
   "source": [
    "* Box plot으로 확인했을 때 3Q지점에 해당하는 38(text), 11(headlines)로 지정한다.\n",
    "* 38과 11로 패딩을 하게되면 text는 약 19%, headlines는 약 6% 정도의 샘플들 내용이 망가지게 된다.\n",
    "* 정해진 길이에 맞춰 자르는 것이 아니라, 정해진 길이보다 길면 제외하는 방법으로 데이터를 정제한다."
   ]
  },
  {
   "cell_type": "code",
   "execution_count": 18,
   "id": "4c439c52",
   "metadata": {},
   "outputs": [
    {
     "name": "stdout",
     "output_type": "stream",
     "text": [
      "전체 샘플수 : 75215\n"
     ]
    }
   ],
   "source": [
    "data = data[data['text'].apply(lambda x: len(x.split()) <= text_max_len)]\n",
    "data = data[data['headlines'].apply(lambda x: len(x.split()) <= headlines_max_len)]\n",
    "print('전체 샘플수 :', (len(data)))"
   ]
  },
  {
   "cell_type": "markdown",
   "id": "565803fc",
   "metadata": {},
   "source": [
    "### B. Add sostok and eostok"
   ]
  },
  {
   "cell_type": "code",
   "execution_count": 19,
   "id": "94908910",
   "metadata": {},
   "outputs": [
    {
     "data": {
      "text/html": [
       "<div>\n",
       "<style scoped>\n",
       "    .dataframe tbody tr th:only-of-type {\n",
       "        vertical-align: middle;\n",
       "    }\n",
       "\n",
       "    .dataframe tbody tr th {\n",
       "        vertical-align: top;\n",
       "    }\n",
       "\n",
       "    .dataframe thead th {\n",
       "        text-align: right;\n",
       "    }\n",
       "</style>\n",
       "<table border=\"1\" class=\"dataframe\">\n",
       "  <thead>\n",
       "    <tr style=\"text-align: right;\">\n",
       "      <th></th>\n",
       "      <th>headlines</th>\n",
       "      <th>text</th>\n",
       "      <th>decoder_input</th>\n",
       "      <th>decoder_target</th>\n",
       "    </tr>\n",
       "  </thead>\n",
       "  <tbody>\n",
       "    <tr>\n",
       "      <th>2</th>\n",
       "      <td>new zealand end rohit sharma led india match w...</td>\n",
       "      <td>new zealand defeated india wickets fourth odi ...</td>\n",
       "      <td>sostoken new zealand end rohit sharma led indi...</td>\n",
       "      <td>new zealand end rohit sharma led india match w...</td>\n",
       "    </tr>\n",
       "    <tr>\n",
       "      <th>3</th>\n",
       "      <td>aegon life iterm insurance plan helps customer...</td>\n",
       "      <td>aegon life iterm insurance plan customers enjo...</td>\n",
       "      <td>sostoken aegon life iterm insurance plan helps...</td>\n",
       "      <td>aegon life iterm insurance plan helps customer...</td>\n",
       "    </tr>\n",
       "    <tr>\n",
       "      <th>5</th>\n",
       "      <td>rahat fateh ali khan denies getting notice for...</td>\n",
       "      <td>pakistani singer rahat fateh ali khan denied r...</td>\n",
       "      <td>sostoken rahat fateh ali khan denies getting n...</td>\n",
       "      <td>rahat fateh ali khan denies getting notice for...</td>\n",
       "    </tr>\n",
       "    <tr>\n",
       "      <th>7</th>\n",
       "      <td>govt directs alok verma to join work day befor...</td>\n",
       "      <td>weeks ex cbi director alok verma told departme...</td>\n",
       "      <td>sostoken govt directs alok verma to join work ...</td>\n",
       "      <td>govt directs alok verma to join work day befor...</td>\n",
       "    </tr>\n",
       "    <tr>\n",
       "      <th>8</th>\n",
       "      <td>called pm modi sir times to satisfy his ego an...</td>\n",
       "      <td>andhra pradesh cm chandrababu naidu said met u...</td>\n",
       "      <td>sostoken called pm modi sir times to satisfy h...</td>\n",
       "      <td>called pm modi sir times to satisfy his ego an...</td>\n",
       "    </tr>\n",
       "  </tbody>\n",
       "</table>\n",
       "</div>"
      ],
      "text/plain": [
       "                                           headlines  \\\n",
       "2  new zealand end rohit sharma led india match w...   \n",
       "3  aegon life iterm insurance plan helps customer...   \n",
       "5  rahat fateh ali khan denies getting notice for...   \n",
       "7  govt directs alok verma to join work day befor...   \n",
       "8  called pm modi sir times to satisfy his ego an...   \n",
       "\n",
       "                                                text  \\\n",
       "2  new zealand defeated india wickets fourth odi ...   \n",
       "3  aegon life iterm insurance plan customers enjo...   \n",
       "5  pakistani singer rahat fateh ali khan denied r...   \n",
       "7  weeks ex cbi director alok verma told departme...   \n",
       "8  andhra pradesh cm chandrababu naidu said met u...   \n",
       "\n",
       "                                       decoder_input  \\\n",
       "2  sostoken new zealand end rohit sharma led indi...   \n",
       "3  sostoken aegon life iterm insurance plan helps...   \n",
       "5  sostoken rahat fateh ali khan denies getting n...   \n",
       "7  sostoken govt directs alok verma to join work ...   \n",
       "8  sostoken called pm modi sir times to satisfy h...   \n",
       "\n",
       "                                      decoder_target  \n",
       "2  new zealand end rohit sharma led india match w...  \n",
       "3  aegon life iterm insurance plan helps customer...  \n",
       "5  rahat fateh ali khan denies getting notice for...  \n",
       "7  govt directs alok verma to join work day befor...  \n",
       "8  called pm modi sir times to satisfy his ego an...  "
      ]
     },
     "execution_count": 19,
     "metadata": {},
     "output_type": "execute_result"
    }
   ],
   "source": [
    "# 요약 데이터에는 시작 토큰과 종료 토큰을 추가한다.\n",
    "data['decoder_input'] = data['headlines'].apply(lambda x : 'sostoken '+ x)\n",
    "data['decoder_target'] = data['headlines'].apply(lambda x : x + ' eostoken')\n",
    "data.head()"
   ]
  },
  {
   "cell_type": "markdown",
   "id": "dc1280f8",
   "metadata": {},
   "source": [
    "* 'decoder_input'의 앞에 'sostoken' 을 추가, 'decoder_target'의 끝에는 'eostoken'을 추가"
   ]
  },
  {
   "cell_type": "markdown",
   "id": "6db52d63",
   "metadata": {},
   "source": [
    "### C.  Data suffle and split"
   ]
  },
  {
   "cell_type": "code",
   "execution_count": 20,
   "id": "00bb6808",
   "metadata": {},
   "outputs": [],
   "source": [
    "encoder_input = np.array(data['text']) # 인코더의 입력\n",
    "decoder_input = np.array(data['decoder_input']) # 디코더의 입력\n",
    "decoder_target = np.array(data['decoder_target']) # 디코더의 레이블"
   ]
  },
  {
   "cell_type": "code",
   "execution_count": 21,
   "id": "f792756a",
   "metadata": {},
   "outputs": [
    {
     "name": "stdout",
     "output_type": "stream",
     "text": [
      "[13238 22843 37283 ... 73352 73311 47207]\n"
     ]
    }
   ],
   "source": [
    "indices = np.arange(encoder_input.shape[0])\n",
    "np.random.shuffle(indices)\n",
    "print(indices)"
   ]
  },
  {
   "cell_type": "code",
   "execution_count": 22,
   "id": "cef23f08",
   "metadata": {},
   "outputs": [],
   "source": [
    "encoder_input = encoder_input[indices]\n",
    "decoder_input = decoder_input[indices]\n",
    "decoder_target = decoder_target[indices]"
   ]
  },
  {
   "cell_type": "code",
   "execution_count": 23,
   "id": "1c033050",
   "metadata": {},
   "outputs": [
    {
     "name": "stdout",
     "output_type": "stream",
     "text": [
      "테스트 데이터의 수 : 15043\n"
     ]
    }
   ],
   "source": [
    "n_of_val = int(len(encoder_input)*0.2)\n",
    "print('테스트 데이터의 수 :', n_of_val)"
   ]
  },
  {
   "cell_type": "code",
   "execution_count": 24,
   "id": "26cb3274",
   "metadata": {},
   "outputs": [
    {
     "name": "stdout",
     "output_type": "stream",
     "text": [
      "훈련 데이터의 개수 : 60172\n",
      "훈련 레이블의 개수 : 60172\n",
      "테스트 데이터의 개수 : 15043\n",
      "테스트 레이블의 개수 : 15043\n"
     ]
    }
   ],
   "source": [
    "encoder_input_train = encoder_input[:-n_of_val]\n",
    "decoder_input_train = decoder_input[:-n_of_val]\n",
    "decoder_target_train = decoder_target[:-n_of_val]\n",
    "\n",
    "encoder_input_test = encoder_input[-n_of_val:]\n",
    "decoder_input_test = decoder_input[-n_of_val:]   \n",
    "decoder_target_test = decoder_target[-n_of_val:]\n",
    "\n",
    "print('훈련 데이터의 개수 :', len(encoder_input_train))\n",
    "print('훈련 레이블의 개수 :', len(decoder_input_train))\n",
    "print('테스트 데이터의 개수 :', len(encoder_input_test))\n",
    "print('테스트 레이블의 개수 :', len(decoder_input_test))"
   ]
  },
  {
   "cell_type": "markdown",
   "id": "e630b38b",
   "metadata": {},
   "source": [
    "### 2.2.4 Creating Vocabulary and Integer Encoding"
   ]
  },
  {
   "cell_type": "markdown",
   "id": "1c5d4d9a",
   "metadata": {},
   "source": [
    "### A. Encoder Train Data"
   ]
  },
  {
   "cell_type": "code",
   "execution_count": 25,
   "id": "6eb7ecd8",
   "metadata": {},
   "outputs": [],
   "source": [
    "src_tokenizer = Tokenizer() # 토크나이저 정의\n",
    "src_tokenizer.fit_on_texts(encoder_input_train) # 입력된 데이터로부터 단어 집합 생성"
   ]
  },
  {
   "cell_type": "code",
   "execution_count": 26,
   "id": "739d70d7",
   "metadata": {},
   "outputs": [
    {
     "name": "stdout",
     "output_type": "stream",
     "text": [
      "단어 집합(vocabulary)의 크기 : 60059\n",
      "등장 빈도가 6번 이하인 희귀 단어의 수: 41037\n",
      "단어 집합에서 희귀 단어를 제외시킬 경우의 단어 집합의 크기 19022\n",
      "단어 집합에서 희귀 단어의 비율: 68.3278109858639\n",
      "전체 등장 빈도에서 희귀 단어 등장 빈도 비율: 4.115515481622759\n"
     ]
    }
   ],
   "source": [
    "threshold = 7\n",
    "total_cnt = len(src_tokenizer.word_index) # 단어의 수\n",
    "rare_cnt = 0 # 등장 빈도수가 threshold보다 작은 단어의 개수를 카운트\n",
    "total_freq = 0 # 훈련 데이터의 전체 단어 빈도수 총 합\n",
    "rare_freq = 0 # 등장 빈도수가 threshold보다 작은 단어의 등장 빈도수의 총 합\n",
    "\n",
    "# 단어와 빈도수의 쌍(pair)을 key와 value로 받는다.\n",
    "for key, value in src_tokenizer.word_counts.items():\n",
    "    total_freq = total_freq + value\n",
    "\n",
    "    # 단어의 등장 빈도수가 threshold보다 작으면\n",
    "    if(value < threshold):\n",
    "        rare_cnt = rare_cnt + 1\n",
    "        rare_freq = rare_freq + value\n",
    "\n",
    "print('단어 집합(vocabulary)의 크기 :', total_cnt)\n",
    "print('등장 빈도가 %s번 이하인 희귀 단어의 수: %s'%(threshold - 1, rare_cnt))\n",
    "print('단어 집합에서 희귀 단어를 제외시킬 경우의 단어 집합의 크기 %s'%(total_cnt - rare_cnt))\n",
    "print(\"단어 집합에서 희귀 단어의 비율:\", (rare_cnt / total_cnt)*100)\n",
    "print(\"전체 등장 빈도에서 희귀 단어 등장 빈도 비율:\", (rare_freq / total_freq)*100)"
   ]
  },
  {
   "cell_type": "markdown",
   "id": "bac915ad",
   "metadata": {},
   "source": [
    "* encoder_input_train에는 6만여 개의 단어가 있다.\n",
    "* 등장 빈도가 threshold 값인 7회 미만, 즉 6회 이하인 단어들은 단어 집합에서 무려 68% 이상을 차지\n",
    "* 하지만 실제로 훈련 데이터에서 등장 빈도로 차지하는 비중은 상대적으로 적은 수치인 4.1%밖에 되지 않는다.\n",
    "* 그래서 등장 빈도가 6회 이하인 단어들은 정수 인코딩 과정에서 빼고, 훈련 데이터에서 제거\n",
    "* 위에서 이를 제외한 단어 집합의 크기를 만 9천여 개로 계산\n",
    "* 이와 비슷한 값으로 어림잡아 단어 집합의 크기를 19,000으로 제한"
   ]
  },
  {
   "cell_type": "code",
   "execution_count": 27,
   "id": "59aa082f",
   "metadata": {},
   "outputs": [],
   "source": [
    "src_vocab = 19000\n",
    "src_tokenizer = Tokenizer(num_words=src_vocab) # 단어 집합의 크기를 19,000으로 제한\n",
    "src_tokenizer.fit_on_texts(encoder_input_train) # 단어 집합 재생성"
   ]
  },
  {
   "cell_type": "markdown",
   "id": "23b9d252",
   "metadata": {},
   "source": [
    "* 현재 단어 집합의 크기를 19,000으로 제한했으므로 이제 19,000이 넘는 숫자들은 정수 인코딩 후에는 데이터에 존재하지 않는다."
   ]
  },
  {
   "cell_type": "code",
   "execution_count": 28,
   "id": "fd5e513c",
   "metadata": {},
   "outputs": [
    {
     "name": "stdout",
     "output_type": "stream",
     "text": [
      "[[6385, 2941, 14, 113, 151, 54, 41, 53, 11999, 4897, 282, 59, 76, 2904, 105, 13576, 2941, 1359, 7, 1394, 782, 280, 7, 1, 72, 976, 3452, 3810, 6385, 988, 376, 4897, 290], [75, 143, 74, 9409, 3256, 10527, 264, 16656, 7021, 4378, 2267, 650, 340, 13, 46, 2267, 429, 56, 2638, 15695, 11184, 14225, 2251, 151, 54, 4, 2267, 126, 513, 476, 14925, 4898, 320, 75, 74, 1, 549], [117, 2319, 4953, 2611, 9171, 1037, 3985, 3934, 5997, 995, 95, 2319, 1907, 9171, 6203, 11, 46, 95, 6, 1286, 2611, 2319, 531, 2611, 934, 20]]\n"
     ]
    }
   ],
   "source": [
    "# 텍스트 시퀀스를 정수 시퀀스로 변환\n",
    "encoder_input_train = src_tokenizer.texts_to_sequences(encoder_input_train) \n",
    "encoder_input_test = src_tokenizer.texts_to_sequences(encoder_input_test)\n",
    "\n",
    "# 잘 진행되었는지 샘플 출력\n",
    "print(encoder_input_train[:3])"
   ]
  },
  {
   "cell_type": "markdown",
   "id": "6e86feb2",
   "metadata": {},
   "source": [
    "### B. Decoder Train Data"
   ]
  },
  {
   "cell_type": "code",
   "execution_count": 29,
   "id": "cbb54f50",
   "metadata": {},
   "outputs": [],
   "source": [
    "tar_tokenizer = Tokenizer()\n",
    "tar_tokenizer.fit_on_texts(decoder_input_train)"
   ]
  },
  {
   "cell_type": "code",
   "execution_count": 30,
   "id": "5533cd45",
   "metadata": {},
   "outputs": [
    {
     "name": "stdout",
     "output_type": "stream",
     "text": [
      "단어 집합(vocabulary)의 크기 : 26859\n",
      "등장 빈도가 5번 이하인 희귀 단어의 수: 17854\n",
      "단어 집합에서 희귀 단어를 제외시킬 경우의 단어 집합의 크기 9005\n",
      "단어 집합에서 희귀 단어의 비율: 66.47306303287539\n",
      "전체 등장 빈도에서 희귀 단어 등장 빈도 비율: 5.615371220360033\n"
     ]
    }
   ],
   "source": [
    "threshold = 6\n",
    "total_cnt = len(tar_tokenizer.word_index) # 단어의 수\n",
    "rare_cnt = 0 # 등장 빈도수가 threshold보다 작은 단어의 개수를 카운트\n",
    "total_freq = 0 # 훈련 데이터의 전체 단어 빈도수 총 합\n",
    "rare_freq = 0 # 등장 빈도수가 threshold보다 작은 단어의 등장 빈도수의 총 합\n",
    "\n",
    "# 단어와 빈도수의 쌍(pair)을 key와 value로 받는다.\n",
    "for key, value in tar_tokenizer.word_counts.items():\n",
    "    total_freq = total_freq + value\n",
    "\n",
    "    # 단어의 등장 빈도수가 threshold보다 작으면\n",
    "    if(value < threshold):\n",
    "        rare_cnt = rare_cnt + 1\n",
    "        rare_freq = rare_freq + value\n",
    "\n",
    "print('단어 집합(vocabulary)의 크기 :', total_cnt)\n",
    "print('등장 빈도가 %s번 이하인 희귀 단어의 수: %s'%(threshold - 1, rare_cnt))\n",
    "print('단어 집합에서 희귀 단어를 제외시킬 경우의 단어 집합의 크기 %s'%(total_cnt - rare_cnt))\n",
    "print(\"단어 집합에서 희귀 단어의 비율:\", (rare_cnt / total_cnt)*100)\n",
    "print(\"전체 등장 빈도에서 희귀 단어 등장 빈도 비율:\", (rare_freq / total_freq)*100)"
   ]
  },
  {
   "cell_type": "markdown",
   "id": "1f6fbf8c",
   "metadata": {},
   "source": [
    "* encoder_input_train에는 2만여 개의 단어가 있다.\n",
    "* 등장 빈도가 threshold 값인 6회 미만, 즉 5회 이하인 단어들은 단어 집합에서 무려 66% 이상을 차지\n",
    "* 하지만 실제로 훈련 데이터에서 등장 빈도로 차지하는 비중은 상대적으로 적은 수치인 5.6%밖에 되지 않는다.\n",
    "* 그래서 등장 빈도가 5회 이하인 단어들은 정수 인코딩 과정에서 빼고, 훈련 데이터에서 제거\n",
    "* 위에서 이를 제외한 단어 집합의 크기를 8500개로 계산"
   ]
  },
  {
   "cell_type": "code",
   "execution_count": 31,
   "id": "139c379e",
   "metadata": {},
   "outputs": [
    {
     "name": "stdout",
     "output_type": "stream",
     "text": [
      "input\n",
      "input  [[1, 3519, 132, 4706, 7593, 338, 103, 4, 23, 131], [1, 25, 1730, 51, 5423, 103, 10, 1364, 372, 620], [1, 242, 645, 185, 1300, 354, 2395], [1, 136, 77, 141, 3, 184, 285, 1264, 4026, 1515], [1, 6502, 1475, 1193, 53, 59, 420, 13, 4337, 3747]]\n",
      "target\n",
      "decoder  [[3519, 132, 4706, 7593, 338, 103, 4, 23, 131, 2], [25, 1730, 51, 5423, 103, 10, 1364, 372, 620, 2], [242, 645, 185, 1300, 354, 2395, 2], [136, 77, 141, 3, 184, 285, 1264, 4026, 1515, 2], [6502, 1475, 1193, 53, 59, 420, 13, 4337, 3747, 2]]\n"
     ]
    }
   ],
   "source": [
    "tar_vocab = 8500\n",
    "tar_tokenizer = Tokenizer(num_words=tar_vocab) \n",
    "tar_tokenizer.fit_on_texts(decoder_input_train)\n",
    "tar_tokenizer.fit_on_texts(decoder_target_train)\n",
    "\n",
    "# 텍스트 시퀀스를 정수 시퀀스로 변환\n",
    "decoder_input_train = tar_tokenizer.texts_to_sequences(decoder_input_train) \n",
    "decoder_target_train = tar_tokenizer.texts_to_sequences(decoder_target_train)\n",
    "decoder_input_test = tar_tokenizer.texts_to_sequences(decoder_input_test)\n",
    "decoder_target_test = tar_tokenizer.texts_to_sequences(decoder_target_test)\n",
    "\n",
    "# 잘 변환되었는지 확인\n",
    "print('input')\n",
    "print('input ',decoder_input_train[:5])\n",
    "print('target')\n",
    "print('decoder ',decoder_target_train[:5])"
   ]
  },
  {
   "cell_type": "markdown",
   "id": "8b9f9a05",
   "metadata": {},
   "source": [
    "* 현재 단어 집합의 크기를 9000으로 제한했으므로 이제 9000이 넘는 숫자들은 정수 인코딩 후에는 데이터에 존재하지 않는다.\n",
    "* 그런데 전체 데이터에서 빈도수가 낮은 단어가 삭제되었다는 것은 빈도수가 낮은 단어만으로 구성되었던 샘플들은 이제 빈(empty) 샘플이 되었을 가능성이 있다. \n",
    "* 훈련 데이터와 테스트 데이터에 대해서 요약문의 길이가 1인 경우의 인덱스를 각각 drop_train과 drop_test에 라는 변수에 저장하고 확인해본다.\n",
    "* 만약 있다면 삭제한다."
   ]
  },
  {
   "cell_type": "code",
   "execution_count": 32,
   "id": "72bfb3fc",
   "metadata": {},
   "outputs": [
    {
     "name": "stdout",
     "output_type": "stream",
     "text": [
      "삭제할 훈련 데이터의 개수 : 0\n",
      "삭제할 테스트 데이터의 개수 : 0\n",
      "훈련 데이터의 개수 : 60172\n",
      "훈련 레이블의 개수 : 60172\n",
      "테스트 데이터의 개수 : 15043\n",
      "테스트 레이블의 개수 : 15043\n"
     ]
    }
   ],
   "source": [
    "drop_train = [index for index, sentence in enumerate(decoder_input_train) if len(sentence) == 1]\n",
    "drop_test = [index for index, sentence in enumerate(decoder_input_test) if len(sentence) == 1]\n",
    "\n",
    "print('삭제할 훈련 데이터의 개수 :', len(drop_train))\n",
    "print('삭제할 테스트 데이터의 개수 :', len(drop_test))\n",
    "\n",
    "encoder_input_train = [sentence for index, sentence in enumerate(encoder_input_train) if index not in drop_train]\n",
    "decoder_input_train = [sentence for index, sentence in enumerate(decoder_input_train) if index not in drop_train]\n",
    "decoder_target_train = [sentence for index, sentence in enumerate(decoder_target_train) if index not in drop_train]\n",
    "\n",
    "encoder_input_test = [sentence for index, sentence in enumerate(encoder_input_test) if index not in drop_test]\n",
    "decoder_input_test = [sentence for index, sentence in enumerate(decoder_input_test) if index not in drop_test]\n",
    "decoder_target_test = [sentence for index, sentence in enumerate(decoder_target_test) if index not in drop_test]\n",
    "\n",
    "print('훈련 데이터의 개수 :', len(encoder_input_train))\n",
    "print('훈련 레이블의 개수 :', len(decoder_input_train))\n",
    "print('테스트 데이터의 개수 :', len(encoder_input_test))\n",
    "print('테스트 레이블의 개수 :', len(decoder_input_test))"
   ]
  },
  {
   "cell_type": "markdown",
   "id": "d5333936",
   "metadata": {},
   "source": [
    "### C. Padding"
   ]
  },
  {
   "cell_type": "code",
   "execution_count": 33,
   "id": "92d4f0f6",
   "metadata": {},
   "outputs": [],
   "source": [
    "encoder_input_train = pad_sequences(encoder_input_train, maxlen=text_max_len, padding='post')\n",
    "encoder_input_test = pad_sequences(encoder_input_test, maxlen=text_max_len, padding='post')\n",
    "decoder_input_train = pad_sequences(decoder_input_train, maxlen=headlines_max_len, padding='post')\n",
    "decoder_target_train = pad_sequences(decoder_target_train, maxlen=headlines_max_len, padding='post')\n",
    "decoder_input_test = pad_sequences(decoder_input_test, maxlen=headlines_max_len, padding='post')\n",
    "decoder_target_test = pad_sequences(decoder_target_test, maxlen=headlines_max_len, padding='post')"
   ]
  },
  {
   "cell_type": "markdown",
   "id": "2226ea5c",
   "metadata": {},
   "source": [
    "### 3. Creating seq2seq with attention Model"
   ]
  },
  {
   "cell_type": "markdown",
   "id": "0fe54690",
   "metadata": {},
   "source": [
    "### 3.1 Building Encoder & Decoder"
   ]
  },
  {
   "cell_type": "code",
   "execution_count": 34,
   "id": "e87dee40",
   "metadata": {},
   "outputs": [
    {
     "name": "stdout",
     "output_type": "stream",
     "text": [
      "WARNING:tensorflow:Layer lstm will not use cuDNN kernels since it doesn't meet the criteria. It will use a generic GPU kernel as fallback when running on GPU.\n",
      "WARNING:tensorflow:Layer lstm_1 will not use cuDNN kernels since it doesn't meet the criteria. It will use a generic GPU kernel as fallback when running on GPU.\n",
      "WARNING:tensorflow:Layer lstm_2 will not use cuDNN kernels since it doesn't meet the criteria. It will use a generic GPU kernel as fallback when running on GPU.\n"
     ]
    }
   ],
   "source": [
    "from tensorflow.keras.layers import Input, LSTM, Embedding, Dense, Concatenate, TimeDistributed\n",
    "from tensorflow.keras.models import Model\n",
    "from tensorflow.keras.callbacks import EarlyStopping, ModelCheckpoint\n",
    "\n",
    "\n",
    "# 인코더 설계 시작\n",
    "embedding_dim = 128\n",
    "hidden_size = 256\n",
    "\n",
    "# 인코더\n",
    "encoder_inputs = Input(shape=(text_max_len,))\n",
    "\n",
    "# 인코더의 임베딩 층\n",
    "enc_emb = Embedding(src_vocab, embedding_dim)(encoder_inputs)\n",
    "\n",
    "# 인코더의 LSTM 1\n",
    "encoder_lstm1 = LSTM(hidden_size, return_sequences=True, return_state=True ,dropout = 0.4, recurrent_dropout = 0.4)\n",
    "encoder_output1, state_h1, state_c1 = encoder_lstm1(enc_emb)\n",
    "\n",
    "# 인코더의 LSTM 2\n",
    "encoder_lstm2 = LSTM(hidden_size, return_sequences=True, return_state=True, dropout=0.4, recurrent_dropout=0.4)\n",
    "encoder_output2, state_h2, state_c2 = encoder_lstm2(encoder_output1)\n",
    "\n",
    "# 인코더의 LSTM 3\n",
    "encoder_lstm3 = LSTM(hidden_size, return_state=True, return_sequences=True, dropout=0.4, recurrent_dropout=0.4)\n",
    "encoder_outputs, state_h, state_c= encoder_lstm3(encoder_output2)"
   ]
  },
  {
   "cell_type": "code",
   "execution_count": 35,
   "id": "bb98e1b4",
   "metadata": {},
   "outputs": [
    {
     "name": "stdout",
     "output_type": "stream",
     "text": [
      "WARNING:tensorflow:Layer lstm_3 will not use cuDNN kernels since it doesn't meet the criteria. It will use a generic GPU kernel as fallback when running on GPU.\n"
     ]
    }
   ],
   "source": [
    "# 디코더 설계\n",
    "decoder_inputs = Input(shape=(None,))\n",
    "\n",
    "# 디코더의 임베딩 층\n",
    "dec_emb_layer = Embedding(tar_vocab, embedding_dim)\n",
    "dec_emb = dec_emb_layer(decoder_inputs)\n",
    "\n",
    "# 디코더의 LSTM\n",
    "decoder_lstm = LSTM(hidden_size, return_sequences=True, return_state=True, dropout=0.4, recurrent_dropout=0.2)\n",
    "decoder_outputs, _, _ = decoder_lstm(dec_emb, initial_state=[state_h, state_c])"
   ]
  },
  {
   "cell_type": "code",
   "execution_count": 36,
   "id": "858bdd79",
   "metadata": {},
   "outputs": [
    {
     "name": "stdout",
     "output_type": "stream",
     "text": [
      "Model: \"model\"\n",
      "__________________________________________________________________________________________________\n",
      "Layer (type)                    Output Shape         Param #     Connected to                     \n",
      "==================================================================================================\n",
      "input_1 (InputLayer)            [(None, 38)]         0                                            \n",
      "__________________________________________________________________________________________________\n",
      "embedding (Embedding)           (None, 38, 128)      2432000     input_1[0][0]                    \n",
      "__________________________________________________________________________________________________\n",
      "lstm (LSTM)                     [(None, 38, 256), (N 394240      embedding[0][0]                  \n",
      "__________________________________________________________________________________________________\n",
      "input_2 (InputLayer)            [(None, None)]       0                                            \n",
      "__________________________________________________________________________________________________\n",
      "lstm_1 (LSTM)                   [(None, 38, 256), (N 525312      lstm[0][0]                       \n",
      "__________________________________________________________________________________________________\n",
      "embedding_1 (Embedding)         (None, None, 128)    1088000     input_2[0][0]                    \n",
      "__________________________________________________________________________________________________\n",
      "lstm_2 (LSTM)                   [(None, 38, 256), (N 525312      lstm_1[0][0]                     \n",
      "__________________________________________________________________________________________________\n",
      "lstm_3 (LSTM)                   [(None, None, 256),  394240      embedding_1[0][0]                \n",
      "                                                                 lstm_2[0][1]                     \n",
      "                                                                 lstm_2[0][2]                     \n",
      "__________________________________________________________________________________________________\n",
      "dense (Dense)                   (None, None, 8500)   2184500     lstm_3[0][0]                     \n",
      "==================================================================================================\n",
      "Total params: 7,543,604\n",
      "Trainable params: 7,543,604\n",
      "Non-trainable params: 0\n",
      "__________________________________________________________________________________________________\n"
     ]
    }
   ],
   "source": [
    "# 디코더의 출력층\n",
    "decoder_softmax_layer = Dense(tar_vocab, activation='softmax')\n",
    "decoder_softmax_outputs = decoder_softmax_layer(decoder_outputs) \n",
    "\n",
    "# 모델 정의\n",
    "model = Model([encoder_inputs, decoder_inputs], decoder_softmax_outputs)\n",
    "model.summary()"
   ]
  },
  {
   "cell_type": "markdown",
   "id": "b5c05b30",
   "metadata": {},
   "source": [
    "### 3.2 Building Attention Mechanism"
   ]
  },
  {
   "cell_type": "code",
   "execution_count": 37,
   "id": "f6aa10df",
   "metadata": {},
   "outputs": [
    {
     "name": "stdout",
     "output_type": "stream",
     "text": [
      "Model: \"model_1\"\n",
      "__________________________________________________________________________________________________\n",
      "Layer (type)                    Output Shape         Param #     Connected to                     \n",
      "==================================================================================================\n",
      "input_1 (InputLayer)            [(None, 38)]         0                                            \n",
      "__________________________________________________________________________________________________\n",
      "embedding (Embedding)           (None, 38, 128)      2432000     input_1[0][0]                    \n",
      "__________________________________________________________________________________________________\n",
      "lstm (LSTM)                     [(None, 38, 256), (N 394240      embedding[0][0]                  \n",
      "__________________________________________________________________________________________________\n",
      "input_2 (InputLayer)            [(None, None)]       0                                            \n",
      "__________________________________________________________________________________________________\n",
      "lstm_1 (LSTM)                   [(None, 38, 256), (N 525312      lstm[0][0]                       \n",
      "__________________________________________________________________________________________________\n",
      "embedding_1 (Embedding)         (None, None, 128)    1088000     input_2[0][0]                    \n",
      "__________________________________________________________________________________________________\n",
      "lstm_2 (LSTM)                   [(None, 38, 256), (N 525312      lstm_1[0][0]                     \n",
      "__________________________________________________________________________________________________\n",
      "lstm_3 (LSTM)                   [(None, None, 256),  394240      embedding_1[0][0]                \n",
      "                                                                 lstm_2[0][1]                     \n",
      "                                                                 lstm_2[0][2]                     \n",
      "__________________________________________________________________________________________________\n",
      "attention_layer (AdditiveAttent (None, None, 256)    256         lstm_3[0][0]                     \n",
      "                                                                 lstm_2[0][0]                     \n",
      "__________________________________________________________________________________________________\n",
      "concat_layer (Concatenate)      (None, None, 512)    0           lstm_3[0][0]                     \n",
      "                                                                 attention_layer[0][0]            \n",
      "__________________________________________________________________________________________________\n",
      "dense_1 (Dense)                 (None, None, 8500)   4360500     concat_layer[0][0]               \n",
      "==================================================================================================\n",
      "Total params: 9,719,860\n",
      "Trainable params: 9,719,860\n",
      "Non-trainable params: 0\n",
      "__________________________________________________________________________________________________\n"
     ]
    }
   ],
   "source": [
    "from tensorflow.keras.layers import AdditiveAttention\n",
    "\n",
    "# 어텐션 층(어텐션 함수)\n",
    "attn_layer = AdditiveAttention(name='attention_layer')\n",
    "\n",
    "# 인코더와 디코더의 모든 time step의 hidden state를 어텐션 층에 전달하고 결과를 리턴\n",
    "attn_out = attn_layer([decoder_outputs, encoder_outputs])\n",
    "\n",
    "\n",
    "# 어텐션의 결과와 디코더의 hidden state들을 연결\n",
    "decoder_concat_input = Concatenate(axis=-1, name='concat_layer')([decoder_outputs, attn_out])\n",
    "\n",
    "# 디코더의 출력층\n",
    "decoder_softmax_layer = Dense(tar_vocab, activation='softmax')\n",
    "decoder_softmax_outputs = decoder_softmax_layer(decoder_concat_input)\n",
    "\n",
    "# 모델 정의\n",
    "model = Model([encoder_inputs, decoder_inputs], decoder_softmax_outputs)\n",
    "model.summary()"
   ]
  },
  {
   "cell_type": "markdown",
   "id": "171b1ed8",
   "metadata": {},
   "source": [
    "### 4. Training Model "
   ]
  },
  {
   "cell_type": "markdown",
   "id": "a5bdd839",
   "metadata": {},
   "source": [
    "### 4.1 Fitting the Model With Data"
   ]
  },
  {
   "cell_type": "code",
   "execution_count": 38,
   "id": "bd505499",
   "metadata": {
    "scrolled": false
   },
   "outputs": [
    {
     "name": "stdout",
     "output_type": "stream",
     "text": [
      "Epoch 1/50\n",
      "236/236 [==============================] - 134s 531ms/step - loss: 5.9458 - val_loss: 5.5186\n",
      "Epoch 2/50\n",
      "236/236 [==============================] - 125s 529ms/step - loss: 5.4021 - val_loss: 5.2563\n",
      "Epoch 3/50\n",
      "236/236 [==============================] - 125s 528ms/step - loss: 5.0801 - val_loss: 4.9975\n",
      "Epoch 4/50\n",
      "236/236 [==============================] - 125s 529ms/step - loss: 4.8318 - val_loss: 4.8265\n",
      "Epoch 5/50\n",
      "236/236 [==============================] - 125s 530ms/step - loss: 4.6212 - val_loss: 4.6714\n",
      "Epoch 6/50\n",
      "236/236 [==============================] - 126s 532ms/step - loss: 4.4376 - val_loss: 4.5514\n",
      "Epoch 7/50\n",
      "236/236 [==============================] - 125s 528ms/step - loss: 4.2810 - val_loss: 4.4342\n",
      "Epoch 8/50\n",
      "236/236 [==============================] - 124s 527ms/step - loss: 4.1403 - val_loss: 4.3406\n",
      "Epoch 9/50\n",
      "236/236 [==============================] - 124s 526ms/step - loss: 4.0119 - val_loss: 4.2642\n",
      "Epoch 10/50\n",
      "236/236 [==============================] - 124s 524ms/step - loss: 3.8993 - val_loss: 4.2339\n",
      "Epoch 11/50\n",
      "236/236 [==============================] - 124s 526ms/step - loss: 3.7997 - val_loss: 4.1808\n",
      "Epoch 12/50\n",
      "236/236 [==============================] - 124s 527ms/step - loss: 3.7093 - val_loss: 4.1298\n",
      "Epoch 13/50\n",
      "236/236 [==============================] - 124s 525ms/step - loss: 3.6222 - val_loss: 4.0980\n",
      "Epoch 14/50\n",
      "236/236 [==============================] - 123s 521ms/step - loss: 3.5435 - val_loss: 4.0643\n",
      "Epoch 15/50\n",
      "236/236 [==============================] - 123s 521ms/step - loss: 3.4715 - val_loss: 4.0557\n",
      "Epoch 16/50\n",
      "236/236 [==============================] - 124s 525ms/step - loss: 3.4046 - val_loss: 4.0337\n",
      "Epoch 17/50\n",
      "236/236 [==============================] - 124s 527ms/step - loss: 3.3413 - val_loss: 4.0049\n",
      "Epoch 18/50\n",
      "236/236 [==============================] - 124s 525ms/step - loss: 3.2806 - val_loss: 4.0143\n",
      "Epoch 19/50\n",
      "236/236 [==============================] - 125s 528ms/step - loss: 3.2271 - val_loss: 3.9988\n",
      "Epoch 20/50\n",
      "236/236 [==============================] - 124s 524ms/step - loss: 3.1767 - val_loss: 3.9882\n",
      "Epoch 21/50\n",
      "236/236 [==============================] - 124s 526ms/step - loss: 3.1239 - val_loss: 3.9914\n",
      "Epoch 22/50\n",
      "236/236 [==============================] - 124s 525ms/step - loss: 3.0746 - val_loss: 3.9797\n",
      "Epoch 23/50\n",
      "236/236 [==============================] - 124s 523ms/step - loss: 3.0324 - val_loss: 3.9798\n",
      "Epoch 24/50\n",
      "236/236 [==============================] - 123s 523ms/step - loss: 2.9930 - val_loss: 3.9712\n",
      "Epoch 25/50\n",
      "236/236 [==============================] - 123s 522ms/step - loss: 2.9518 - val_loss: 3.9700\n",
      "Epoch 26/50\n",
      "236/236 [==============================] - 124s 525ms/step - loss: 2.9137 - val_loss: 3.9629\n",
      "Epoch 27/50\n",
      "236/236 [==============================] - 124s 524ms/step - loss: 2.8763 - val_loss: 3.9748\n",
      "Epoch 28/50\n",
      "236/236 [==============================] - 124s 524ms/step - loss: 2.8394 - val_loss: 3.9761\n",
      "Restoring model weights from the end of the best epoch.\n",
      "Epoch 00028: early stopping\n"
     ]
    }
   ],
   "source": [
    "model.compile(optimizer='rmsprop', loss='sparse_categorical_crossentropy')\n",
    "es = EarlyStopping(monitor='val_loss', patience=2, verbose=1, restore_best_weights = True)\n",
    "history = model.fit(x=[encoder_input_train, decoder_input_train], y=decoder_target_train, \\\n",
    "          validation_data=([encoder_input_test, decoder_input_test], decoder_target_test), \\\n",
    "          batch_size=256, callbacks=[es], epochs=50)"
   ]
  },
  {
   "cell_type": "markdown",
   "id": "ba3e52f4",
   "metadata": {},
   "source": [
    "* `EarlyStopping`을 통해 validation loss가 증가할 때 fitting을 멈춘다.\n",
    "* 변수 `restore_best_weights`을 `True`로 설정하여 모델의 성능이 가장 좋은 시점(가중치가 가장 좋은 시점)을 저장한다."
   ]
  },
  {
   "cell_type": "markdown",
   "id": "600aa2c3",
   "metadata": {},
   "source": [
    "### 4.2 Visualization the Validation Loss"
   ]
  },
  {
   "cell_type": "code",
   "execution_count": 39,
   "id": "94cc649b",
   "metadata": {},
   "outputs": [
    {
     "data": {
      "image/png": "[encoded data removed]",
      "text/plain": [
       "<Figure size 432x288 with 1 Axes>"
      ]
     },
     "metadata": {
      "needs_background": "light"
     },
     "output_type": "display_data"
    }
   ],
   "source": [
    "plt.plot(history.history['loss'], label='train')\n",
    "plt.plot(history.history['val_loss'], label='test')\n",
    "plt.legend()\n",
    "plt.show()"
   ]
  },
  {
   "cell_type": "markdown",
   "id": "bf061360",
   "metadata": {},
   "source": [
    "### 5. Testing Model "
   ]
  },
  {
   "cell_type": "markdown",
   "id": "581778a7",
   "metadata": {},
   "source": [
    "### 5.1 Implementing the Inference Model"
   ]
  },
  {
   "cell_type": "markdown",
   "id": "f8172406",
   "metadata": {},
   "source": [
    "### 5.1.1 convert the index to word "
   ]
  },
  {
   "cell_type": "code",
   "execution_count": 40,
   "id": "21084e45",
   "metadata": {},
   "outputs": [],
   "source": [
    "# 정수 인덱스 행렬로 존재하던 텍스트 데이터를 실제 데이터로 복원해야 하므로, 필요한 3개의 사전 준비\n",
    "\n",
    "src_index_to_word = src_tokenizer.index_word # 원문 단어 집합에서 정수 -> 단어를 얻음\n",
    "tar_word_to_index = tar_tokenizer.word_index # 요약 단어 집합에서 단어 -> 정수를 얻음\n",
    "tar_index_to_word = tar_tokenizer.index_word # 요약 단어 집합에서 정수 -> 단어를 얻음"
   ]
  },
  {
   "cell_type": "markdown",
   "id": "7ca11fc4",
   "metadata": {},
   "source": [
    "### 5.1.2 Setting up the Inference For the Encoder and Decoder"
   ]
  },
  {
   "cell_type": "code",
   "execution_count": 41,
   "id": "e0fa4dc7",
   "metadata": {},
   "outputs": [],
   "source": [
    "# 인코더 설계\n",
    "encoder_model = Model(inputs=encoder_inputs, outputs=[encoder_outputs, state_h, state_c])\n",
    "\n",
    "# 이전 시점의 상태들을 저장하는 텐서\n",
    "decoder_state_input_h = Input(shape=(hidden_size,))\n",
    "decoder_state_input_c = Input(shape=(hidden_size,))\n",
    "\n",
    "dec_emb2 = dec_emb_layer(decoder_inputs)\n",
    "\n",
    "# 문장의 다음 단어를 예측하기 위해서 초기 상태(initial_state)를 이전 시점의 상태로 사용. 이는 뒤의 함수 decode_sequence()에 구현\n",
    "# 훈련 과정에서와 달리 LSTM의 리턴하는 은닉 상태와 셀 상태인 state_h와 state_c를 버리지 않음.\n",
    "decoder_outputs2, state_h2, state_c2 = \\\n",
    "decoder_lstm(dec_emb2, initial_state=[decoder_state_input_h, decoder_state_input_c])"
   ]
  },
  {
   "cell_type": "code",
   "execution_count": 42,
   "id": "ed3ca2a8",
   "metadata": {},
   "outputs": [],
   "source": [
    "# 어텐션 함수\n",
    "decoder_hidden_state_input = Input(shape=(text_max_len, hidden_size))\n",
    "attn_out_inf = attn_layer([decoder_outputs2, decoder_hidden_state_input])\n",
    "decoder_inf_concat = Concatenate(axis=-1, name='concat')([decoder_outputs2, attn_out_inf])\n",
    "\n",
    "# 디코더의 출력층\n",
    "decoder_outputs2 = decoder_softmax_layer(decoder_inf_concat) \n",
    "\n",
    "# 최종 디코더 모델\n",
    "decoder_model = Model(\n",
    "    [decoder_inputs] + [decoder_hidden_state_input,decoder_state_input_h, decoder_state_input_c],\n",
    "    [decoder_outputs2] + [state_h2, state_c2])"
   ]
  },
  {
   "cell_type": "markdown",
   "id": "c2981636",
   "metadata": {},
   "source": [
    "### 5.1.3 Defining a Functio For Implementation of the Inference Process"
   ]
  },
  {
   "cell_type": "code",
   "execution_count": 43,
   "id": "9fbb6a9f",
   "metadata": {},
   "outputs": [],
   "source": [
    "def decode_sequence(input_seq):\n",
    "    # 입력으로부터 인코더의 상태를 얻음\n",
    "    e_out, e_h, e_c = encoder_model.predict(input_seq)\n",
    "\n",
    "     # <SOS>에 해당하는 토큰 생성\n",
    "    target_seq = np.zeros((1,1))\n",
    "    target_seq[0, 0] = tar_word_to_index['sostoken']\n",
    "\n",
    "    stop_condition = False\n",
    "    decoded_sentence = ''\n",
    "    while not stop_condition: # stop_condition이 True가 될 때까지 루프 반복\n",
    "\n",
    "        output_tokens, h, c = decoder_model.predict([target_seq] + [e_out, e_h, e_c])\n",
    "        sampled_token_index = np.argmax(output_tokens[0, -1, :])\n",
    "        sampled_token = tar_index_to_word[sampled_token_index]\n",
    "\n",
    "        if (sampled_token!='eostoken'):\n",
    "            decoded_sentence += ' '+sampled_token\n",
    "\n",
    "        #  <eos>에 도달하거나 최대 길이를 넘으면 중단.\n",
    "        if (sampled_token == 'eostoken'  or len(decoded_sentence.split()) >= (headlines_max_len-1)):\n",
    "            stop_condition = True\n",
    "\n",
    "        # 길이가 1인 타겟 시퀀스를 업데이트\n",
    "        target_seq = np.zeros((1,1))\n",
    "        target_seq[0, 0] = sampled_token_index\n",
    "\n",
    "        # 상태를 업데이트 합니다.\n",
    "        e_h, e_c = h, c\n",
    "\n",
    "    return decoded_sentence"
   ]
  },
  {
   "cell_type": "markdown",
   "id": "2b3e7942",
   "metadata": {},
   "source": [
    "### 5.1.4 Converting an Integer Sequence to a Word Sequence "
   ]
  },
  {
   "cell_type": "code",
   "execution_count": 44,
   "id": "544df845",
   "metadata": {},
   "outputs": [],
   "source": [
    "# 원문의 정수 시퀀스를 텍스트 시퀀스로 변환\n",
    "def seq2text(input_seq):\n",
    "    temp=''\n",
    "    for i in input_seq:\n",
    "        if (i!=0):\n",
    "            temp = temp + src_index_to_word[i]+' '\n",
    "    return temp\n",
    "\n",
    "# 요약문의 정수 시퀀스를 텍스트 시퀀스로 변환\n",
    "def seq2summary(input_seq):\n",
    "    temp=''\n",
    "    for i in input_seq:\n",
    "        if ((i!=0 and i!=tar_word_to_index['sostoken']) and i!=tar_word_to_index['eostoken']):\n",
    "            temp = temp + tar_index_to_word[i] + ' '\n",
    "    return temp"
   ]
  },
  {
   "cell_type": "markdown",
   "id": "e60e4f13",
   "metadata": {},
   "source": [
    "### 5.2 Compare Headlines with Summary (Abstractive Summarization)"
   ]
  },
  {
   "cell_type": "markdown",
   "id": "e25db4d6",
   "metadata": {},
   "source": [
    "원래의 요약문(headlines 열)과 학습을 통해 얻은 추상적 요약의 결과를 비교해 보세요."
   ]
  },
  {
   "cell_type": "code",
   "execution_count": 45,
   "id": "7e35c048",
   "metadata": {
    "scrolled": false
   },
   "outputs": [
    {
     "name": "stdout",
     "output_type": "stream",
     "text": [
      "1 -------------------------------------------------------\n",
      "<원문> : uttar pradesh police inspector died friday night bike hit town deceased manish yadav deployed kumbh mela duty yadav met accident returning native place following shifted hospital succumbed injuries \n",
      "[실제 요약] : up police inspector dies after bike hits \n",
      "[예측 요약] :  uttar pradesh policemen injured in uttar pradesh\n",
      "\n",
      "\n",
      "2 -------------------------------------------------------\n",
      "<원문> : team surgeons led indian origin professor neil malhotra university pennsylvania performed first ever robot assisted spinal surgery doctors successfully removed tumour patient neck two day procedure involved risk permanent doctors reported patient back work surgery performed august \n",
      "[실제 요약] : indian origin doctor leads st robot surgery \n",
      "[예측 요약] :  india first lady to surgery at\n",
      "\n",
      "\n",
      "3 -------------------------------------------------------\n",
      "<원문> : supreme court tuesday allowed two member special investigation team sit supervise probe cases related anti sikh riots centre monday told apex court may necessary substitute singh declined part earlier ordered three member sit citing personal reasons \n",
      "[실제 요약] : sc allows member panel to probe anti sikh riots cases \n",
      "[예측 요약] :  sc orders sit probe into sit probe into riots case\n",
      "\n",
      "\n",
      "4 -------------------------------------------------------\n",
      "<원문> : technology giant apple reportedly working chipmaker intel design chip future iphone models reports also suggested intel could supply iphone network expected deliver times faster speed average network \n",
      "[실제 요약] : apple working with intel on for iphones report \n",
      "[예측 요약] :  apple confirms battery is issue of\n",
      "\n",
      "\n",
      "5 -------------------------------------------------------\n",
      "<원문> : doctor tamil nadu left pair scissors inside woman abdominal surgery may recently started complaining severe stomach pain nausea following went back doctor learnt error scans scissors removed filed case negligence doctor \n",
      "[실제 요약] : doctor leaves in woman finds out months later \n",
      "[예측 요약] :  hospital hospital found dead inside hospital\n",
      "\n",
      "\n",
      "6 -------------------------------------------------------\n",
      "<원문> : congress official twitter handle tuesday posted image mocking prime minister narendra modi foreign trips caption prime minister could give cricketers run money claiming pm modi travelled countries days post alleged trips sponsored people money \n",
      "[실제 요약] : pm modi could give cricketers run for money cong \n",
      "[예측 요약] :  pm modi is the most expensive pm modi\n",
      "\n",
      "\n",
      "7 -------------------------------------------------------\n",
      "<원문> : rajasthan bjp mla tuesday resigned party primary membership forwarded resignation bjp state president madan lal saini among supporters party decision drop name time assembly polls therefore took decision said five time mla rajasthan \n",
      "[실제 요약] : rajasthan bjp mla resigns from the party \n",
      "[예측 요약] :  bjp mla quits bjp over bjp mla resignation\n",
      "\n",
      "\n",
      "8 -------------------------------------------------------\n",
      "<원문> : couple fifties burnt alive group people allegedly practicing black magic telangana district incident reportedly took place front couple year old married daughter teenage son also beaten pleading mercy police arrested people including three women connection case \n",
      "[실제 요약] : couple burnt alive for performing black magic in telangana \n",
      "[예측 요약] :  woman dies after being hit by dog while taking selfie\n",
      "\n",
      "\n",
      "9 -------------------------------------------------------\n",
      "<원문> : department public reportedly working digitise government located bengaluru part karnataka government plan digitise across state adding city department director dr said central zone first phase \n",
      "[실제 요약] : all government in bengaluru to be \n",
      "[예측 요약] :  centre to set up to clean petrol\n",
      "\n",
      "\n",
      "10 -------------------------------------------------------\n",
      "<원문> : video eight year old girl attacked golden eagle hunting show festival surfaced online bird mistook girl prey seen attacking behind moments later bird rushed free child eagle \n",
      "[실제 요약] : video year old girl attacked by golden \n",
      "[예측 요약] :  video of teen goes viral on goes viral\n",
      "\n",
      "\n",
      "11 -------------------------------------------------------\n",
      "<원문> : stating war solution anything former jammu kashmir cm farooq abdullah monday questioned pakistan nation firing across border adding india firing said people killed nations comes four indian army jawans martyred ceasefire violations pakistan \n",
      "[실제 요약] : is pak only one firing asks farooq on ceasefire violations \n",
      "[예측 요약] :  rajnath singh is terrorists killed army chief\n",
      "\n",
      "\n",
      "12 -------------------------------------------------------\n",
      "<원문> : india china us agreed enhance cooperation efforts aimed improving cyberspace security joint trilateral meeting representatives three nations identified mechanisms improving cooperation investigate respond cyber incidents delegation acknowledged threat cyber security could ignored due socio economic implications \n",
      "[실제 요약] : india us china to cooperation in cyber security \n",
      "[예측 요약] :  china rohit shetty to hold sea amid standoff\n",
      "\n",
      "\n",
      "13 -------------------------------------------------------\n",
      "<원문> : fisherman caught atlantic weighing kilograms british coast took several photographs returning sea fisherman year old andrew spent two hours foot long endangered fish said took six us get board fish lifetime \n",
      "[실제 요약] : uk catches fish weighing kg \n",
      "[예측 요약] :  two kg of coins found in switzerland\n",
      "\n",
      "\n",
      "14 -------------------------------------------------------\n",
      "<원문> : twitter user asked sushma swaraj husband swaraj kaushal former salary sunday sir sushma madame ki written tweet swaraj kaushal replied tweet saying dekho meri umar aur madam ki bad \n",
      "[실제 요약] : swaraj husband responds to user asking about her salary \n",
      "[예측 요약] :  twitter users troll troll for calling him\n",
      "\n",
      "\n",
      "15 -------------------------------------------------------\n",
      "<원문> : kim kardashian revealed half sister model kendall jenner crying home criticism received pepsi advertisement kim added media looks another way addressing kim said also urged kendall speak allow emotional scenes feature family reality show \n",
      "[실제 요약] : she was crying kim on kendall reaction to pepsi ad \n",
      "[예측 요약] :  jennifer apologises for jennifer kim ad\n",
      "\n",
      "\n",
      "16 -------------------------------------------------------\n",
      "<원문> : year old girl allegedly beheaded front mother neighbour barged home attacked salem district tamil nadu monday accused detained locals called police police said history aggressive although families friendly incident occurred \n",
      "[실제 요약] : tn man year old neighbour in front of her mother \n",
      "[예측 요약] :  delhi woman thrashed by mob for opposing her\n",
      "\n",
      "\n",
      "17 -------------------------------------------------------\n",
      "<원문> : irrfan khan currently undergoing treatment neuroendocrine tumour united kingdom return india celebrate diwali nashik farmhouse per reports day trip return uk stated reports also said doctors hopeful irrfan return india march start working \n",
      "[실제 요약] : irrfan to celebrate diwali in his farmhouse reports \n",
      "[예측 요약] :  irrfan khan to attend indian film in india\n",
      "\n",
      "\n",
      "18 -------------------------------------------------------\n",
      "<원문> : producer nadiadwala mourning death actor director neeraj said lost battle save brother friend death health improved much deteriorated suddenly added neeraj battling coma year reportedly taken care nadiadwala residence \n",
      "[실제 요약] : lost battle to save my brother on neeraj death \n",
      "[예측 요약] :  was told to kill me actress brother brother\n",
      "\n",
      "\n",
      "19 -------------------------------------------------------\n",
      "<원문> : new quota economically weaker sections general category applicable central government posts february official order said instructions regarding reservation admission educational institutions issued ministry human resource development order added \n",
      "[실제 요약] : quota in govt jobs from february centre \n",
      "[예측 요약] :  govt approves reservation for\n",
      "\n",
      "\n",
      "20 -------------------------------------------------------\n",
      "<원문> : enforcement directorate registered money laundering case ex finance minister chidambaram son karti chidambaram cbi raided residence chennai karti accused receiving money inx media using influence manipulate tax probe case violation foreign investment promotion board conditions \n",
      "[실제 요약] : ed files money laundering case against chidambaram son \n",
      "[예측 요약] :  karti chidambaram chidambaram arrested in aircel maxis case\n",
      "\n",
      "\n"
     ]
    }
   ],
   "source": [
    "for i in range(20):\n",
    "    print(i+1, \"-------------------------------------------------------\")\n",
    "    print(\"<원문> :\", seq2text(encoder_input_test[i]))\n",
    "    print(\"[실제 요약] :\", seq2summary(decoder_input_test[i]))\n",
    "    print(\"[예측 요약] :\", decode_sequence(encoder_input_test[i].reshape(1, text_max_len)))\n",
    "    print(\"\\n\")"
   ]
  },
  {
   "cell_type": "markdown",
   "id": "7c7e5f05",
   "metadata": {},
   "source": [
    "### 5.3 Compare Headlines with Summary (Extractive Summarization)"
   ]
  },
  {
   "cell_type": "markdown",
   "id": "f9a4a2ca",
   "metadata": {},
   "source": [
    "### 5.3.1 Load Text Data"
   ]
  },
  {
   "cell_type": "code",
   "execution_count": 46,
   "id": "58ef00a4",
   "metadata": {},
   "outputs": [],
   "source": [
    "import requests\n",
    "from summa.summarizer import summarize"
   ]
  },
  {
   "cell_type": "code",
   "execution_count": 47,
   "id": "de9669c5",
   "metadata": {},
   "outputs": [],
   "source": [
    "# 데이터 다운로드\n",
    "urllib.request.urlretrieve(\"https://raw.githubusercontent.com/sunnysai12345/News_Summary/master/news_summary_more.csv\", filename=\"news_summary_more.csv\")\n",
    "data = pd.read_csv('news_summary_more.csv', encoding='iso-8859-1')"
   ]
  },
  {
   "cell_type": "code",
   "execution_count": 48,
   "id": "8fadbd0e",
   "metadata": {
    "scrolled": true
   },
   "outputs": [
    {
     "data": {
      "text/plain": [
       "46114    A match between Juventus and Atalanta in Italy...\n",
       "46165    Talking about their process of developing and ...\n",
       "33497    After Chennai Super Kings' win against Royal C...\n",
       "4990     The police on Sunday said that a 32-year-old w...\n",
       "96709    Indian spinner Kuldeep Yadav, who registered 4...\n",
       "23191    The first look of actors Kartik Aaryan and Kri...\n",
       "49619    Reacting to threats calling for cutting off he...\n",
       "34056    England spinner Monty Panesar, who turns 36 to...\n",
       "54625    During the winter session, Law Minister Ravi S...\n",
       "11218    The trailer of Rajinikanth and Akshay Kumar st...\n",
       "Name: text, dtype: object"
      ]
     },
     "execution_count": 48,
     "metadata": {},
     "output_type": "execute_result"
    }
   ],
   "source": [
    "data['text'].sample(10)"
   ]
  },
  {
   "cell_type": "markdown",
   "id": "190a91c6",
   "metadata": {},
   "source": [
    "### 5.3.2 Using Summarize"
   ]
  },
  {
   "cell_type": "markdown",
   "id": "1b92115e",
   "metadata": {},
   "source": [
    "* text (str) : 요약할 테스트.\n",
    "* ratio (float, optional) : 요약문에서 원본에서 선택되는 문장 비율. 0~1 사이값\n",
    "* words (int or None, optional) : 출력에 포함할 단어 수.\n",
    "* 만약, ratio와 함께 두 파라미터가 모두 제공되는 경우 ratio는 무시\n",
    "* split (bool, optional) : True면 문장 list / False는 조인(join)된 문자열을 반환"
   ]
  },
  {
   "cell_type": "code",
   "execution_count": 49,
   "id": "82a80564",
   "metadata": {
    "scrolled": false
   },
   "outputs": [
    {
     "name": "stdout",
     "output_type": "stream",
     "text": [
      "1 -------------------------------------------------------\n",
      "원문 : Saurav Kant, an alumnus of upGrad and IIIT-B's PG Program in Machine learning and Artificial Intelligence, was a Sr Systems Engineer at Infosys with almost 5 years of work experience. The program and upGrad's 360-degree career support helped him transition to a Data Scientist at Tech Mahindra with 90% salary hike. upGrad's Online Power Learning has powered 3 lakh+ careers.\n",
      "\n",
      "\n",
      "실제 요약 : upGrad learner switches to career in ML & Al with 90% salary hike\n",
      "추출적 요약(ratio) : upGrad's Online Power Learning has powered 3 lakh+ careers.\n",
      "추출적 요약(words) : The program and upGrad's 360-degree career support helped him transition to a Data Scientist at Tech Mahindra with 90% salary hike.\n",
      "upGrad's Online Power Learning has powered 3 lakh+ careers.\n",
      "\n",
      "\n",
      "2 -------------------------------------------------------\n",
      "원문 : Kunal Shah's credit card bill payment platform, CRED, gave users a chance to win free food from Swiggy for one year. Pranav Kaushik, a Delhi techie, bagged this reward after spending 2000 CRED coins. Users get one CRED coin per rupee of bill paid, which can be used to avail rewards from brands like Ixigo, BookMyShow, UberEats, Cult.Fit and more.\n",
      "\n",
      "\n",
      "실제 요약 : Delhi techie wins free food from Swiggy for one year on CRED\n",
      "추출적 요약(ratio) : Users get one CRED coin per rupee of bill paid, which can be used to avail rewards from brands like Ixigo, BookMyShow, UberEats, Cult.Fit and more.\n",
      "추출적 요약(words) : Users get one CRED coin per rupee of bill paid, which can be used to avail rewards from brands like Ixigo, BookMyShow, UberEats, Cult.Fit and more.\n",
      "\n",
      "\n",
      "3 -------------------------------------------------------\n",
      "원문 : New Zealand defeated India by 8 wickets in the fourth ODI at Hamilton on Thursday to win their first match of the five-match ODI series. India lost an international match under Rohit Sharma's captaincy after 12 consecutive victories dating back to March 2018. The match witnessed India getting all out for 92, their seventh lowest total in ODI cricket history.\n",
      "\n",
      "\n",
      "실제 요약 : New Zealand end Rohit Sharma-led India's 12-match winning streak\n",
      "추출적 요약(ratio) : The match witnessed India getting all out for 92, their seventh lowest total in ODI cricket history.\n",
      "추출적 요약(words) : The match witnessed India getting all out for 92, their seventh lowest total in ODI cricket history.\n",
      "\n",
      "\n",
      "4 -------------------------------------------------------\n",
      "원문 : With Aegon Life iTerm Insurance plan, customers can enjoy tax benefits on your premiums paid and save up to Ã¢ÂÂ¹46,800^ on taxes. The plan provides life cover up to the age of 100 years. Also, customers have options to insure against Critical Illnesses, Disability and Accidental Death Benefit Rider with a life cover up to the age of 80 years.\n",
      "\n",
      "\n",
      "실제 요약 : Aegon life iTerm insurance plan helps customers save tax\n",
      "추출적 요약(ratio) : Also, customers have options to insure against Critical Illnesses, Disability and Accidental Death Benefit Rider with a life cover up to the age of 80 years.\n",
      "추출적 요약(words) : Also, customers have options to insure against Critical Illnesses, Disability and Accidental Death Benefit Rider with a life cover up to the age of 80 years.\n",
      "\n",
      "\n",
      "5 -------------------------------------------------------\n",
      "원문 : Speaking about the sexual harassment allegations against Rajkumar Hirani, Sonam Kapoor said, \"I've known Hirani for many years...What if it's not true, the [#MeToo] movement will get derailed.\" \"In the #MeToo movement, I always believe a woman. But in this case, we need to reserve our judgment,\" she added. Hirani has been accused by an assistant who worked in 'Sanju'.\n",
      "\n",
      "\n",
      "실제 요약 : Have known Hirani for yrs, what if MeToo claims are not true: Sonam\n",
      "추출적 요약(ratio) : Speaking about the sexual harassment allegations against Rajkumar Hirani, Sonam Kapoor said, \"I've known Hirani for many years...What if it's not true, the [#MeToo] movement will get derailed.\" \"In the #MeToo movement, I always believe a woman.\n",
      "추출적 요약(words) : Speaking about the sexual harassment allegations against Rajkumar Hirani, Sonam Kapoor said, \"I've known Hirani for many years...What if it's not true, the [#MeToo] movement will get derailed.\" \"In the #MeToo movement, I always believe a woman.\n",
      "\n",
      "\n",
      "6 -------------------------------------------------------\n",
      "원문 : Pakistani singer Rahat Fateh Ali Khan has denied receiving any notice from the Enforcement Directorate over allegedly smuggling foreign currency out of India. \"It would have been better if the authorities would have served the notice first if any and then publicised this,\" reads a press release issued on behalf of Rahat. The statement further called the allegation \"bizarre\".\n",
      "\n",
      "\n",
      "실제 요약 : Rahat Fateh Ali Khan denies getting notice for smuggling currency\n",
      "추출적 요약(ratio) : Pakistani singer Rahat Fateh Ali Khan has denied receiving any notice from the Enforcement Directorate over allegedly smuggling foreign currency out of India.\n",
      "추출적 요약(words) : Pakistani singer Rahat Fateh Ali Khan has denied receiving any notice from the Enforcement Directorate over allegedly smuggling foreign currency out of India.\n",
      "\n",
      "\n",
      "7 -------------------------------------------------------\n",
      "원문 : India recorded their lowest ODI total in New Zealand after getting all out for 92 runs in 30.5 overs in the fourth ODI at Hamilton on Thursday. Seven of India's batsmen were dismissed for single-digit scores, while their number ten batsman Yuzvendra Chahal top-scored with 18*(37). India's previous lowest ODI total in New Zealand was 108.\n",
      "\n",
      "\n",
      "실제 요약 : India get all out for 92, their lowest ODI total in New Zealand\n",
      "추출적 요약(ratio) : India's previous lowest ODI total in New Zealand was 108.\n",
      "추출적 요약(words) : India's previous lowest ODI total in New Zealand was 108.\n",
      "\n",
      "\n",
      "8 -------------------------------------------------------\n",
      "원문 : Weeks after ex-CBI Director Alok Verma told the Department of Personnel and Training to consider him retired, the Home Ministry asked him to join work on the last day of his fixed tenure as Director on Thursday. The ministry directed him to immediately join as DG, Fire Services, the post he was transferred to after his removal as CBI chief.\n",
      "\n",
      "\n",
      "실제 요약 : Govt directs Alok Verma to join work 1 day before his retirement\n",
      "추출적 요약(ratio) : Weeks after ex-CBI Director Alok Verma told the Department of Personnel and Training to consider him retired, the Home Ministry asked him to join work on the last day of his fixed tenure as Director on Thursday.\n",
      "추출적 요약(words) : Weeks after ex-CBI Director Alok Verma told the Department of Personnel and Training to consider him retired, the Home Ministry asked him to join work on the last day of his fixed tenure as Director on Thursday.\n",
      "\n",
      "\n",
      "9 -------------------------------------------------------\n",
      "원문 : Andhra Pradesh CM N Chandrababu Naidu has said, \"When I met then US President Bill Clinton, I addressed him as Mr Clinton, not as 'sir'. (PM Narendra) Modi is my junior in politics...I addressed him as sir 10 times.\" \"I did this...to satisfy his ego in the hope that he will do justice to the state,\" he added.\n",
      "\n",
      "\n",
      "실제 요약 : Called PM Modi 'sir' 10 times to satisfy his ego: Andhra CM\n",
      "추출적 요약(ratio) : Andhra Pradesh CM N Chandrababu Naidu has said, \"When I met then US President Bill Clinton, I addressed him as Mr Clinton, not as 'sir'.\n",
      "추출적 요약(words) : Andhra Pradesh CM N Chandrababu Naidu has said, \"When I met then US President Bill Clinton, I addressed him as Mr Clinton, not as 'sir'.\n",
      "\n",
      "\n",
      "10 -------------------------------------------------------\n",
      "원문 : Congress candidate Shafia Zubair won the Ramgarh Assembly seat in Rajasthan, by defeating BJP's Sukhwant Singh with a margin of 12,228 votes in the bypoll. With this victory, Congress has taken its total to 100 seats in the 200-member assembly. The election to the Ramgarh seat was delayed due to the death of sitting MLA and BSP candidate Laxman Singh.\n",
      "\n",
      "\n",
      "실제 요약 : Cong wins Ramgarh bypoll in Rajasthan, takes total to 100 seats\n",
      "추출적 요약(ratio) : Congress candidate Shafia Zubair won the Ramgarh Assembly seat in Rajasthan, by defeating BJP's Sukhwant Singh with a margin of 12,228 votes in the bypoll.\n",
      "추출적 요약(words) : Congress candidate Shafia Zubair won the Ramgarh Assembly seat in Rajasthan, by defeating BJP's Sukhwant Singh with a margin of 12,228 votes in the bypoll.\n",
      "\n",
      "\n"
     ]
    }
   ],
   "source": [
    "for i in range(10):\n",
    "    print(i+1, \"-------------------------------------------------------\")\n",
    "    print(\"원문 :\", data['text'][i])\n",
    "    print(\"\\n\")\n",
    "    print(\"실제 요약 :\", data['headlines'][i])\n",
    "    print(\"추출적 요약(ratio) :\", summarize(data[\"text\"][i], ratio=0.5))\n",
    "    print(\"추출적 요약(words) :\", summarize(data[\"text\"][i], words=20))\n",
    "    print(\"\\n\")"
   ]
  }
 ],
 "metadata": {
  "kernelspec": {
   "display_name": "Python 3 (ipykernel)",
   "language": "python",
   "name": "python3"
  },
  "language_info": {
   "codemirror_mode": {
    "name": "ipython",
    "version": 3
   },
   "file_extension": ".py",
   "mimetype": "text/x-python",
   "name": "python",
   "nbconvert_exporter": "python",
   "pygments_lexer": "ipython3",
   "version": "3.9.7"
  }
 },
 "nbformat": 4,
 "nbformat_minor": 5
}
