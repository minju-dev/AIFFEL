{
 "cells": [
  {
   "cell_type": "markdown",
   "id": "8f985e1e",
   "metadata": {},
   "source": [
    "## Exploration 8. New Article Summarization 📰"
   ]
  },
  {
   "cell_type": "markdown",
   "id": "fddefab4",
   "metadata": {},
   "source": [
    "### Checking the degree of model performance improvement by changing the number of vocabulary"
   ]
  },
  {
   "cell_type": "markdown",
   "id": "d54d4780",
   "metadata": {},
   "source": [
    "* text_max_len = 38 → 45\n",
    "* headlines_max_len = 11 → 13\n",
    "* src_vocab = 19000 → 22000\n",
    "* tar_vocab = 9000 → 10000"
   ]
  },
  {
   "cell_type": "markdown",
   "id": "1e3a2684",
   "metadata": {},
   "source": [
    "### 1. Experiment Environment Set-up"
   ]
  },
  {
   "cell_type": "markdown",
   "id": "56a06888",
   "metadata": {},
   "source": [
    "### 1.1 Import Libraries"
   ]
  },
  {
   "cell_type": "code",
   "execution_count": 1,
   "id": "69bdb3c9",
   "metadata": {},
   "outputs": [
    {
     "name": "stderr",
     "output_type": "stream",
     "text": [
      "[nltk_data] Downloading package stopwords to /aiffel/nltk_data...\n",
      "[nltk_data]   Package stopwords is already up-to-date!\n"
     ]
    }
   ],
   "source": [
    "# 사용하는 라이브러리 불러오기\n",
    "import nltk\n",
    "nltk.download('stopwords')\n",
    "\n",
    "import seaborn as sns\n",
    "import matplotlib.pyplot as plt\n",
    "from random import randint\n",
    "from wordcloud import STOPWORDS, WordCloud\n",
    "\n",
    "import numpy as np\n",
    "import pandas as pd\n",
    "import os\n",
    "import re\n",
    "import matplotlib.pyplot as plt\n",
    "from nltk.corpus import stopwords\n",
    "from bs4 import BeautifulSoup \n",
    "from tensorflow.keras.preprocessing.text import Tokenizer \n",
    "from tensorflow.keras.preprocessing.sequence import pad_sequences\n",
    "import urllib.request\n",
    "import warnings\n",
    "warnings.filterwarnings(\"ignore\", category=UserWarning, module='bs4')"
   ]
  },
  {
   "cell_type": "markdown",
   "id": "07a7ef8f",
   "metadata": {},
   "source": [
    "### 2. Load and Preprocessing Data"
   ]
  },
  {
   "cell_type": "markdown",
   "id": "338d2221",
   "metadata": {},
   "source": [
    "### 2.1 Load Data"
   ]
  },
  {
   "cell_type": "code",
   "execution_count": 2,
   "id": "54f2e704",
   "metadata": {},
   "outputs": [],
   "source": [
    "# 데이터 다운로드\n",
    "urllib.request.urlretrieve(\"https://raw.githubusercontent.com/sunnysai12345/News_Summary/master/news_summary_more.csv\", filename=\"news_summary_more.csv\")\n",
    "data = pd.read_csv('news_summary_more.csv', encoding='iso-8859-1')"
   ]
  },
  {
   "cell_type": "code",
   "execution_count": 3,
   "id": "664e5160",
   "metadata": {},
   "outputs": [
    {
     "data": {
      "text/html": [
       "<div>\n",
       "<style scoped>\n",
       "    .dataframe tbody tr th:only-of-type {\n",
       "        vertical-align: middle;\n",
       "    }\n",
       "\n",
       "    .dataframe tbody tr th {\n",
       "        vertical-align: top;\n",
       "    }\n",
       "\n",
       "    .dataframe thead th {\n",
       "        text-align: right;\n",
       "    }\n",
       "</style>\n",
       "<table border=\"1\" class=\"dataframe\">\n",
       "  <thead>\n",
       "    <tr style=\"text-align: right;\">\n",
       "      <th></th>\n",
       "      <th>headlines</th>\n",
       "      <th>text</th>\n",
       "    </tr>\n",
       "  </thead>\n",
       "  <tbody>\n",
       "    <tr>\n",
       "      <th>10276</th>\n",
       "      <td>Skoda introduces the L&amp;K variant of the Kodiaq...</td>\n",
       "      <td>Skoda has introduced the Laurin and Klement va...</td>\n",
       "    </tr>\n",
       "    <tr>\n",
       "      <th>37746</th>\n",
       "      <td>Delhi University releases first cut-off list</td>\n",
       "      <td>The Delhi University released its first cut-of...</td>\n",
       "    </tr>\n",
       "    <tr>\n",
       "      <th>97471</th>\n",
       "      <td>I mentally prepared myself to be raped: Kim on...</td>\n",
       "      <td>Television personality Kim Kardashian, while o...</td>\n",
       "    </tr>\n",
       "    <tr>\n",
       "      <th>43673</th>\n",
       "      <td>Victory of minorities, poor, farmers: SP chief...</td>\n",
       "      <td>Speaking about the Samajwadi Party's win in th...</td>\n",
       "    </tr>\n",
       "    <tr>\n",
       "      <th>34720</th>\n",
       "      <td>45,000 Madarsa Board students skip exams in UP</td>\n",
       "      <td>Over 45,000 Madarsa Board students had skipped...</td>\n",
       "    </tr>\n",
       "    <tr>\n",
       "      <th>69949</th>\n",
       "      <td>East Delhi civic body to regulate sanitation w...</td>\n",
       "      <td>The East Delhi Municipal Corporation on Friday...</td>\n",
       "    </tr>\n",
       "    <tr>\n",
       "      <th>57012</th>\n",
       "      <td>Online tea brand raises $1.4 mn led by Firesid...</td>\n",
       "      <td>New Delhi-based online tea brand Vahdam Teas h...</td>\n",
       "    </tr>\n",
       "    <tr>\n",
       "      <th>78310</th>\n",
       "      <td>Flyer at Delhi Airport hides gold worth Ã¢ÂÂ¹...</td>\n",
       "      <td>A 37-year-old man was arrested for allegedly t...</td>\n",
       "    </tr>\n",
       "    <tr>\n",
       "      <th>27163</th>\n",
       "      <td>Burning bird falls off cable, causes 17-acre f...</td>\n",
       "      <td>A bird that caught fire from an electric cable...</td>\n",
       "    </tr>\n",
       "    <tr>\n",
       "      <th>29835</th>\n",
       "      <td>BJP boycotted Cong-JD(S) swearing-in ceremony ...</td>\n",
       "      <td>The BJP boycotted the swearing-in ceremony of ...</td>\n",
       "    </tr>\n",
       "  </tbody>\n",
       "</table>\n",
       "</div>"
      ],
      "text/plain": [
       "                                               headlines  \\\n",
       "10276  Skoda introduces the L&K variant of the Kodiaq...   \n",
       "37746       Delhi University releases first cut-off list   \n",
       "97471  I mentally prepared myself to be raped: Kim on...   \n",
       "43673  Victory of minorities, poor, farmers: SP chief...   \n",
       "34720     45,000 Madarsa Board students skip exams in UP   \n",
       "69949  East Delhi civic body to regulate sanitation w...   \n",
       "57012  Online tea brand raises $1.4 mn led by Firesid...   \n",
       "78310  Flyer at Delhi Airport hides gold worth Ã¢ÂÂ¹...   \n",
       "27163  Burning bird falls off cable, causes 17-acre f...   \n",
       "29835  BJP boycotted Cong-JD(S) swearing-in ceremony ...   \n",
       "\n",
       "                                                    text  \n",
       "10276  Skoda has introduced the Laurin and Klement va...  \n",
       "37746  The Delhi University released its first cut-of...  \n",
       "97471  Television personality Kim Kardashian, while o...  \n",
       "43673  Speaking about the Samajwadi Party's win in th...  \n",
       "34720  Over 45,000 Madarsa Board students had skipped...  \n",
       "69949  The East Delhi Municipal Corporation on Friday...  \n",
       "57012  New Delhi-based online tea brand Vahdam Teas h...  \n",
       "78310  A 37-year-old man was arrested for allegedly t...  \n",
       "27163  A bird that caught fire from an electric cable...  \n",
       "29835  The BJP boycotted the swearing-in ceremony of ...  "
      ]
     },
     "execution_count": 3,
     "metadata": {},
     "output_type": "execute_result"
    }
   ],
   "source": [
    "data.sample(10)"
   ]
  },
  {
   "cell_type": "markdown",
   "id": "d707b56e",
   "metadata": {},
   "source": [
    "* 이 데이터는 기사의 본문에 해당되는 text와 headlines 두 가지 열로 구성되어져 있다. \n",
    "* 추상적 요약 : text를 본문, headlines를 이미 요약된 데이터로 삼아서 모델을 학습\n",
    "* 추출적 요약 : 오직 text열만을 사용"
   ]
  },
  {
   "cell_type": "markdown",
   "id": "fa088676",
   "metadata": {},
   "source": [
    "### 2.2 Preprocessing Data"
   ]
  },
  {
   "cell_type": "markdown",
   "id": "b4dbefbc",
   "metadata": {},
   "source": [
    "### 2.2.1 Dropping Duplicate Samples and Null Values"
   ]
  },
  {
   "cell_type": "code",
   "execution_count": 4,
   "id": "277370cd",
   "metadata": {},
   "outputs": [
    {
     "name": "stdout",
     "output_type": "stream",
     "text": [
      "headlines 열에서 중복을 배제한 유일한 샘플의 수 : 98280\n",
      "text 열에서 중복을 배제한 유일한 샘플의 수 : 98360\n"
     ]
    }
   ],
   "source": [
    "print('headlines 열에서 중복을 배제한 유일한 샘플의 수 :', data['headlines'].nunique())\n",
    "print('text 열에서 중복을 배제한 유일한 샘플의 수 :', data['text'].nunique())"
   ]
  },
  {
   "cell_type": "code",
   "execution_count": 5,
   "id": "12e0a40b",
   "metadata": {},
   "outputs": [
    {
     "name": "stdout",
     "output_type": "stream",
     "text": [
      "전체 샘플수 : 98280\n"
     ]
    }
   ],
   "source": [
    "# inplace=True 를 설정하면 DataFrame 타입 값을 return 하지 않고 data 내부를 직접적으로 바꿉니다\n",
    "data.drop_duplicates(subset = ['headlines'], inplace=True)\n",
    "print('전체 샘플수 :', (len(data)))"
   ]
  },
  {
   "cell_type": "code",
   "execution_count": 6,
   "id": "0669ffe9",
   "metadata": {},
   "outputs": [
    {
     "name": "stdout",
     "output_type": "stream",
     "text": [
      "headlines    0\n",
      "text         0\n",
      "dtype: int64\n"
     ]
    }
   ],
   "source": [
    "print(data.isnull().sum())"
   ]
  },
  {
   "cell_type": "markdown",
   "id": "79fb921b",
   "metadata": {},
   "source": [
    "### 2.2.2 Text Normalization and Remove Stopword"
   ]
  },
  {
   "cell_type": "code",
   "execution_count": 7,
   "id": "250130fe",
   "metadata": {},
   "outputs": [
    {
     "name": "stdout",
     "output_type": "stream",
     "text": [
      "정규화 사전의 수:  120\n"
     ]
    }
   ],
   "source": [
    "contractions = {\"ain't\": \"is not\", \"aren't\": \"are not\",\"can't\": \"cannot\", \"'cause\": \"because\", \"could've\": \"could have\", \"couldn't\": \"could not\",\n",
    "                           \"didn't\": \"did not\",  \"doesn't\": \"does not\", \"don't\": \"do not\", \"hadn't\": \"had not\", \"hasn't\": \"has not\", \"haven't\": \"have not\",\n",
    "                           \"he'd\": \"he would\",\"he'll\": \"he will\", \"he's\": \"he is\", \"how'd\": \"how did\", \"how'd'y\": \"how do you\", \"how'll\": \"how will\", \"how's\": \"how is\",\n",
    "                           \"I'd\": \"I would\", \"I'd've\": \"I would have\", \"I'll\": \"I will\", \"I'll've\": \"I will have\",\"I'm\": \"I am\", \"I've\": \"I have\", \"i'd\": \"i would\",\n",
    "                           \"i'd've\": \"i would have\", \"i'll\": \"i will\",  \"i'll've\": \"i will have\",\"i'm\": \"i am\", \"i've\": \"i have\", \"isn't\": \"is not\", \"it'd\": \"it would\",\n",
    "                           \"it'd've\": \"it would have\", \"it'll\": \"it will\", \"it'll've\": \"it will have\",\"it's\": \"it is\", \"let's\": \"let us\", \"ma'am\": \"madam\",\n",
    "                           \"mayn't\": \"may not\", \"might've\": \"might have\",\"mightn't\": \"might not\",\"mightn't've\": \"might not have\", \"must've\": \"must have\",\n",
    "                           \"mustn't\": \"must not\", \"mustn't've\": \"must not have\", \"needn't\": \"need not\", \"needn't've\": \"need not have\",\"o'clock\": \"of the clock\",\n",
    "                           \"oughtn't\": \"ought not\", \"oughtn't've\": \"ought not have\", \"shan't\": \"shall not\", \"sha'n't\": \"shall not\", \"shan't've\": \"shall not have\",\n",
    "                           \"she'd\": \"she would\", \"she'd've\": \"she would have\", \"she'll\": \"she will\", \"she'll've\": \"she will have\", \"she's\": \"she is\",\n",
    "                           \"should've\": \"should have\", \"shouldn't\": \"should not\", \"shouldn't've\": \"should not have\", \"so've\": \"so have\",\"so's\": \"so as\",\n",
    "                           \"this's\": \"this is\",\"that'd\": \"that would\", \"that'd've\": \"that would have\", \"that's\": \"that is\", \"there'd\": \"there would\",\n",
    "                           \"there'd've\": \"there would have\", \"there's\": \"there is\", \"here's\": \"here is\",\"they'd\": \"they would\", \"they'd've\": \"they would have\",\n",
    "                           \"they'll\": \"they will\", \"they'll've\": \"they will have\", \"they're\": \"they are\", \"they've\": \"they have\", \"to've\": \"to have\",\n",
    "                           \"wasn't\": \"was not\", \"we'd\": \"we would\", \"we'd've\": \"we would have\", \"we'll\": \"we will\", \"we'll've\": \"we will have\", \"we're\": \"we are\",\n",
    "                           \"we've\": \"we have\", \"weren't\": \"were not\", \"what'll\": \"what will\", \"what'll've\": \"what will have\", \"what're\": \"what are\",\n",
    "                           \"what's\": \"what is\", \"what've\": \"what have\", \"when's\": \"when is\", \"when've\": \"when have\", \"where'd\": \"where did\", \"where's\": \"where is\",\n",
    "                           \"where've\": \"where have\", \"who'll\": \"who will\", \"who'll've\": \"who will have\", \"who's\": \"who is\", \"who've\": \"who have\",\n",
    "                           \"why's\": \"why is\", \"why've\": \"why have\", \"will've\": \"will have\", \"won't\": \"will not\", \"won't've\": \"will not have\",\n",
    "                           \"would've\": \"would have\", \"wouldn't\": \"would not\", \"wouldn't've\": \"would not have\", \"y'all\": \"you all\",\n",
    "                           \"y'all'd\": \"you all would\",\"y'all'd've\": \"you all would have\",\"y'all're\": \"you all are\",\"y'all've\": \"you all have\",\n",
    "                           \"you'd\": \"you would\", \"you'd've\": \"you would have\", \"you'll\": \"you will\", \"you'll've\": \"you will have\",\n",
    "                           \"you're\": \"you are\", \"you've\": \"you have\"}\n",
    "\n",
    "print(\"정규화 사전의 수: \", len(contractions))"
   ]
  },
  {
   "cell_type": "code",
   "execution_count": 8,
   "id": "5e648f81",
   "metadata": {},
   "outputs": [
    {
     "name": "stdout",
     "output_type": "stream",
     "text": [
      "불용어 개수 : 179\n",
      "['i', 'me', 'my', 'myself', 'we', 'our', 'ours', 'ourselves', 'you', \"you're\", \"you've\", \"you'll\", \"you'd\", 'your', 'yours', 'yourself', 'yourselves', 'he', 'him', 'his', 'himself', 'she', \"she's\", 'her', 'hers', 'herself', 'it', \"it's\", 'its', 'itself', 'they', 'them', 'their', 'theirs', 'themselves', 'what', 'which', 'who', 'whom', 'this', 'that', \"that'll\", 'these', 'those', 'am', 'is', 'are', 'was', 'were', 'be', 'been', 'being', 'have', 'has', 'had', 'having', 'do', 'does', 'did', 'doing', 'a', 'an', 'the', 'and', 'but', 'if', 'or', 'because', 'as', 'until', 'while', 'of', 'at', 'by', 'for', 'with', 'about', 'against', 'between', 'into', 'through', 'during', 'before', 'after', 'above', 'below', 'to', 'from', 'up', 'down', 'in', 'out', 'on', 'off', 'over', 'under', 'again', 'further', 'then', 'once', 'here', 'there', 'when', 'where', 'why', 'how', 'all', 'any', 'both', 'each', 'few', 'more', 'most', 'other', 'some', 'such', 'no', 'nor', 'not', 'only', 'own', 'same', 'so', 'than', 'too', 'very', 's', 't', 'can', 'will', 'just', 'don', \"don't\", 'should', \"should've\", 'now', 'd', 'll', 'm', 'o', 're', 've', 'y', 'ain', 'aren', \"aren't\", 'couldn', \"couldn't\", 'didn', \"didn't\", 'doesn', \"doesn't\", 'hadn', \"hadn't\", 'hasn', \"hasn't\", 'haven', \"haven't\", 'isn', \"isn't\", 'ma', 'mightn', \"mightn't\", 'mustn', \"mustn't\", 'needn', \"needn't\", 'shan', \"shan't\", 'shouldn', \"shouldn't\", 'wasn', \"wasn't\", 'weren', \"weren't\", 'won', \"won't\", 'wouldn', \"wouldn't\"]\n"
     ]
    }
   ],
   "source": [
    "print('불용어 개수 :', len(stopwords.words('english') ))\n",
    "print(stopwords.words('english'))"
   ]
  },
  {
   "cell_type": "code",
   "execution_count": 9,
   "id": "e39fb332",
   "metadata": {},
   "outputs": [],
   "source": [
    "# 데이터 전처리 함수\n",
    "def preprocess_sentence(sentence, remove_stopwords=True):\n",
    "    sentence = sentence.lower() # 텍스트 소문자화\n",
    "    sentence = BeautifulSoup(sentence, \"lxml\").text # <br />, <a href = ...> 등의 html 태그 제거\n",
    "    sentence = re.sub(r'\\([^)]*\\)', '', sentence) # 괄호로 닫힌 문자열 (...) 제거 Ex) my husband (and myself!) for => my husband for\n",
    "    sentence = re.sub('\"','', sentence) # 쌍따옴표 \" 제거\n",
    "    sentence = ' '.join([contractions[t] if t in contractions else t for t in sentence.split(\" \")]) # 약어 정규화\n",
    "    sentence = re.sub(r\"'s\\b\",\"\", sentence) # 소유격 제거. Ex) roland's -> roland\n",
    "    sentence = re.sub(\"[^a-zA-Z]\", \" \", sentence) # 영어 외 문자(숫자, 특수문자 등) 공백으로 변환\n",
    "    sentence = re.sub('[m]{2,}', 'mm', sentence) # m이 3개 이상이면 2개로 변경. Ex) ummmmmmm yeah -> umm yeah\n",
    "    \n",
    "    # 불용어 제거 (Text)\n",
    "    if remove_stopwords:\n",
    "        tokens = ' '.join(word for word in sentence.split() if not word in stopwords.words('english') if len(word) > 1)\n",
    "    # 불용어 미제거 (headlines)\n",
    "    else:\n",
    "        tokens = ' '.join(word for word in sentence.split() if len(word) > 1)\n",
    "    return tokens"
   ]
  },
  {
   "cell_type": "code",
   "execution_count": 10,
   "id": "d6e98c9a",
   "metadata": {},
   "outputs": [
    {
     "name": "stdout",
     "output_type": "stream",
     "text": [
      "text 전처리 후 결과:  ['saurav kant alumnus upgrad iiit pg program machine learning artificial intelligence sr systems engineer infosys almost years work experience program upgrad degree career support helped transition data scientist tech mahindra salary hike upgrad online power learning powered lakh careers', 'kunal shah credit card bill payment platform cred gave users chance win free food swiggy one year pranav kaushik delhi techie bagged reward spending cred coins users get one cred coin per rupee bill paid used avail rewards brands like ixigo bookmyshow ubereats cult fit', 'new zealand defeated india wickets fourth odi hamilton thursday win first match five match odi series india lost international match rohit sharma captaincy consecutive victories dating back march match witnessed india getting seventh lowest total odi cricket history', 'aegon life iterm insurance plan customers enjoy tax benefits premiums paid save taxes plan provides life cover age years also customers options insure critical illnesses disability accidental death benefit rider life cover age years', 'speaking sexual harassment allegations rajkumar hirani sonam kapoor said known hirani many years true metoo movement get derailed metoo movement always believe woman case need reserve judgment added hirani accused assistant worked sanju']\n"
     ]
    }
   ],
   "source": [
    "clean_text = []\n",
    "# 전체 Text 데이터에 대한 전처리 : 10분 이상 시간이 걸릴 수 있습니다. \n",
    "for s in data['text']:\n",
    "    clean_text.append(preprocess_sentence(s))\n",
    "\n",
    "# 전처리 후 출력\n",
    "print(\"text 전처리 후 결과: \", clean_text[:5])"
   ]
  },
  {
   "cell_type": "code",
   "execution_count": 11,
   "id": "fe81e43d",
   "metadata": {},
   "outputs": [
    {
     "name": "stdout",
     "output_type": "stream",
     "text": [
      "headlines 전처리 후 결과:  ['upgrad learner switches to career in ml al with salary hike', 'delhi techie wins free food from swiggy for one year on cred', 'new zealand end rohit sharma led india match winning streak', 'aegon life iterm insurance plan helps customers save tax', 'have known hirani for yrs what if metoo claims are not true sonam']\n"
     ]
    }
   ],
   "source": [
    "clean_headlines = []\n",
    "# 전체 headlines 데이터에 대한 전처리 : 5분 이상 시간이 걸릴 수 있습니다. \n",
    "for s in data['headlines']:\n",
    "    clean_headlines.append(preprocess_sentence(s, False))\n",
    "\n",
    "print(\"headlines 전처리 후 결과: \", clean_headlines[:5])"
   ]
  },
  {
   "cell_type": "code",
   "execution_count": 12,
   "id": "86925eb4",
   "metadata": {},
   "outputs": [],
   "source": [
    "# 텍스트 정제의 과정을 거친 후에는 다시 한번 빈(empty) 샘플이 생겼는지 확인\n",
    "# 정제 전에는 데이터가 존재했지만, 정제 과정에서 문장의 모든 단어가 사라지는 경우가 있을 수 있다. \n",
    "data['text'] = clean_text\n",
    "data['headlines'] = clean_headlines\n",
    "\n",
    "# 빈 값을 Null 값으로 변환\n",
    "data.replace('', np.nan, inplace=True)"
   ]
  },
  {
   "cell_type": "code",
   "execution_count": 13,
   "id": "8d0cd99d",
   "metadata": {},
   "outputs": [
    {
     "data": {
      "text/plain": [
       "headlines    0\n",
       "text         0\n",
       "dtype: int64"
      ]
     },
     "execution_count": 13,
     "metadata": {},
     "output_type": "execute_result"
    }
   ],
   "source": [
    "data.isnull().sum()"
   ]
  },
  {
   "cell_type": "code",
   "execution_count": 14,
   "id": "684aea3a",
   "metadata": {},
   "outputs": [
    {
     "name": "stdout",
     "output_type": "stream",
     "text": [
      "전체 샘플수 : 98280\n"
     ]
    }
   ],
   "source": [
    "# 전체 샘플수 확인\n",
    "print('전체 샘플수 :', (len(data)))"
   ]
  },
  {
   "cell_type": "markdown",
   "id": "bca533e7",
   "metadata": {},
   "source": [
    "### 2.2.3 Dividing Dataset into Train & Test"
   ]
  },
  {
   "cell_type": "markdown",
   "id": "25b01322",
   "metadata": {},
   "source": [
    "### A. Set the maximum sample length"
   ]
  },
  {
   "cell_type": "code",
   "execution_count": 15,
   "id": "1911c14a",
   "metadata": {},
   "outputs": [
    {
     "name": "stdout",
     "output_type": "stream",
     "text": [
      "텍스트의 최소 길이 : 1\n",
      "텍스트의 최대 길이 : 60\n",
      "텍스트의 평균 길이 : 35.10031542531542\n",
      "헤드라인의 최소 길이 : 1\n",
      "헤드라인의 최대 길이 : 16\n",
      "헤드라인의 평균 길이 : 9.2995115995116\n"
     ]
    },
    {
     "data": {
      "image/png": "[encoded data removed]",
      "text/plain": [
       "<Figure size 432x288 with 2 Axes>"
      ]
     },
     "metadata": {
      "needs_background": "light"
     },
     "output_type": "display_data"
    },
    {
     "data": {
      "image/png": "[encoded data removed]",
      "text/plain": [
       "<Figure size 432x288 with 1 Axes>"
      ]
     },
     "metadata": {
      "needs_background": "light"
     },
     "output_type": "display_data"
    },
    {
     "data": {
      "image/png": "[encoded data removed]",
      "text/plain": [
       "<Figure size 432x288 with 1 Axes>"
      ]
     },
     "metadata": {
      "needs_background": "light"
     },
     "output_type": "display_data"
    }
   ],
   "source": [
    "# 길이 분포 출력\n",
    "import matplotlib.pyplot as plt\n",
    "\n",
    "text_len = [len(s.split()) for s in data['text']]\n",
    "headlines_len = [len(s.split()) for s in data['headlines']]\n",
    "\n",
    "print('텍스트의 최소 길이 : {}'.format(np.min(text_len)))\n",
    "print('텍스트의 최대 길이 : {}'.format(np.max(text_len)))\n",
    "print('텍스트의 평균 길이 : {}'.format(np.mean(text_len)))\n",
    "print('헤드라인의 최소 길이 : {}'.format(np.min(headlines_len)))\n",
    "print('헤드라인의 최대 길이 : {}'.format(np.max(headlines_len)))\n",
    "print('헤드라인의 평균 길이 : {}'.format(np.mean(headlines_len)))\n",
    "\n",
    "plt.subplot(1,2,1)\n",
    "plt.boxplot(text_len)\n",
    "plt.title('text')\n",
    "plt.subplot(1,2,2)\n",
    "plt.boxplot(headlines_len)\n",
    "plt.title('headlines')\n",
    "plt.tight_layout()\n",
    "plt.show()\n",
    "\n",
    "plt.title('text')\n",
    "plt.hist(text_len, bins = 40)\n",
    "plt.xlabel('length of samples')\n",
    "plt.ylabel('number of samples')\n",
    "plt.show()\n",
    "\n",
    "plt.title('headlines')\n",
    "plt.hist(headlines_len, bins = 40)\n",
    "plt.xlabel('length of samples')\n",
    "plt.ylabel('number of samples')\n",
    "plt.show()"
   ]
  },
  {
   "cell_type": "markdown",
   "id": "b3b0b0d2",
   "metadata": {},
   "source": [
    "* text의 경우 최소 길이가 1, 최대 길이가 60으로 그 차이가 좀 있다. 하지만 평균 길이는 35로 시각화된 그래프로 봤을 때는 대체적으로는 30~40 내외의 길이를 가진다는 것을 확인할 수 있다.\n",
    "\n",
    "* headlines의 경우 최소 길이가 1, 최대 길이가 16, 그리고 평균 길이가 9로 text에 비해 상대적으로 길이가 매우 짧다. 그래프로 봤을 때에도 대체적으로 8~10의 길이를 가지고 있다."
   ]
  },
  {
   "cell_type": "code",
   "execution_count": 16,
   "id": "231e74d2",
   "metadata": {},
   "outputs": [],
   "source": [
    "# 통계적으로 확인하기 위한 함수\n",
    "# 통계로 확인해 객관적으로 길이 결정\n",
    "def below_threshold_len(max_len, nested_list):\n",
    "    cnt = 0\n",
    "    for s in nested_list:\n",
    "        if(len(s.split()) <= max_len):\n",
    "            cnt = cnt + 1\n",
    "    print('전체 샘플 중 길이가 %s 이하인 샘플의 비율: %s'%(max_len, (cnt / len(nested_list))))"
   ]
  },
  {
   "cell_type": "code",
   "execution_count": 17,
   "id": "46ed1762",
   "metadata": {},
   "outputs": [
    {
     "name": "stdout",
     "output_type": "stream",
     "text": [
      "전체 샘플 중 길이가 45 이하인 샘플의 비율: 0.9967745217745217\n",
      "전체 샘플 중 길이가 13 이하인 샘플의 비율: 0.9981684981684982\n"
     ]
    }
   ],
   "source": [
    "# 각각 45과 13로 정했는데 이 길이를 선택했을 때, 얼마나 많은 샘플들을 자르지 않고 포함할 수 있는지 통계로 확인\n",
    "text_max_len = 45\n",
    "headlines_max_len = 13\n",
    "\n",
    "below_threshold_len(text_max_len, data['text'])\n",
    "below_threshold_len(headlines_max_len,  data['headlines'])"
   ]
  },
  {
   "cell_type": "markdown",
   "id": "75208c2a",
   "metadata": {},
   "source": [
    "* Box plot으로 확인했을 때 이상치만 제거되는 45(text), 13(headlines)으로 지정한다.\n",
    "* 45과 13로 패딩을 하게되면 text는 약 %, headlines는 약 % 정도의 샘플들 내용이 망가지게 된다.\n",
    "* 정해진 길이에 맞춰 자르는 것이 아니라, 정해진 길이보다 길면 제외하는 방법으로 데이터를 정제한다."
   ]
  },
  {
   "cell_type": "code",
   "execution_count": 18,
   "id": "90081001",
   "metadata": {},
   "outputs": [
    {
     "name": "stdout",
     "output_type": "stream",
     "text": [
      "전체 샘플수 : 97783\n"
     ]
    }
   ],
   "source": [
    "data = data[data['text'].apply(lambda x: len(x.split()) <= text_max_len)]\n",
    "data = data[data['headlines'].apply(lambda x: len(x.split()) <= headlines_max_len)]\n",
    "print('전체 샘플수 :', (len(data)))"
   ]
  },
  {
   "cell_type": "markdown",
   "id": "16bbb46c",
   "metadata": {},
   "source": [
    "### B. Add sostok and eostok"
   ]
  },
  {
   "cell_type": "code",
   "execution_count": 19,
   "id": "cf94121a",
   "metadata": {},
   "outputs": [
    {
     "data": {
      "text/html": [
       "<div>\n",
       "<style scoped>\n",
       "    .dataframe tbody tr th:only-of-type {\n",
       "        vertical-align: middle;\n",
       "    }\n",
       "\n",
       "    .dataframe tbody tr th {\n",
       "        vertical-align: top;\n",
       "    }\n",
       "\n",
       "    .dataframe thead th {\n",
       "        text-align: right;\n",
       "    }\n",
       "</style>\n",
       "<table border=\"1\" class=\"dataframe\">\n",
       "  <thead>\n",
       "    <tr style=\"text-align: right;\">\n",
       "      <th></th>\n",
       "      <th>headlines</th>\n",
       "      <th>text</th>\n",
       "      <th>decoder_input</th>\n",
       "      <th>decoder_target</th>\n",
       "    </tr>\n",
       "  </thead>\n",
       "  <tbody>\n",
       "    <tr>\n",
       "      <th>0</th>\n",
       "      <td>upgrad learner switches to career in ml al wit...</td>\n",
       "      <td>saurav kant alumnus upgrad iiit pg program mac...</td>\n",
       "      <td>sostoken upgrad learner switches to career in ...</td>\n",
       "      <td>upgrad learner switches to career in ml al wit...</td>\n",
       "    </tr>\n",
       "    <tr>\n",
       "      <th>1</th>\n",
       "      <td>delhi techie wins free food from swiggy for on...</td>\n",
       "      <td>kunal shah credit card bill payment platform c...</td>\n",
       "      <td>sostoken delhi techie wins free food from swig...</td>\n",
       "      <td>delhi techie wins free food from swiggy for on...</td>\n",
       "    </tr>\n",
       "    <tr>\n",
       "      <th>2</th>\n",
       "      <td>new zealand end rohit sharma led india match w...</td>\n",
       "      <td>new zealand defeated india wickets fourth odi ...</td>\n",
       "      <td>sostoken new zealand end rohit sharma led indi...</td>\n",
       "      <td>new zealand end rohit sharma led india match w...</td>\n",
       "    </tr>\n",
       "    <tr>\n",
       "      <th>3</th>\n",
       "      <td>aegon life iterm insurance plan helps customer...</td>\n",
       "      <td>aegon life iterm insurance plan customers enjo...</td>\n",
       "      <td>sostoken aegon life iterm insurance plan helps...</td>\n",
       "      <td>aegon life iterm insurance plan helps customer...</td>\n",
       "    </tr>\n",
       "    <tr>\n",
       "      <th>4</th>\n",
       "      <td>have known hirani for yrs what if metoo claims...</td>\n",
       "      <td>speaking sexual harassment allegations rajkuma...</td>\n",
       "      <td>sostoken have known hirani for yrs what if met...</td>\n",
       "      <td>have known hirani for yrs what if metoo claims...</td>\n",
       "    </tr>\n",
       "  </tbody>\n",
       "</table>\n",
       "</div>"
      ],
      "text/plain": [
       "                                           headlines  \\\n",
       "0  upgrad learner switches to career in ml al wit...   \n",
       "1  delhi techie wins free food from swiggy for on...   \n",
       "2  new zealand end rohit sharma led india match w...   \n",
       "3  aegon life iterm insurance plan helps customer...   \n",
       "4  have known hirani for yrs what if metoo claims...   \n",
       "\n",
       "                                                text  \\\n",
       "0  saurav kant alumnus upgrad iiit pg program mac...   \n",
       "1  kunal shah credit card bill payment platform c...   \n",
       "2  new zealand defeated india wickets fourth odi ...   \n",
       "3  aegon life iterm insurance plan customers enjo...   \n",
       "4  speaking sexual harassment allegations rajkuma...   \n",
       "\n",
       "                                       decoder_input  \\\n",
       "0  sostoken upgrad learner switches to career in ...   \n",
       "1  sostoken delhi techie wins free food from swig...   \n",
       "2  sostoken new zealand end rohit sharma led indi...   \n",
       "3  sostoken aegon life iterm insurance plan helps...   \n",
       "4  sostoken have known hirani for yrs what if met...   \n",
       "\n",
       "                                      decoder_target  \n",
       "0  upgrad learner switches to career in ml al wit...  \n",
       "1  delhi techie wins free food from swiggy for on...  \n",
       "2  new zealand end rohit sharma led india match w...  \n",
       "3  aegon life iterm insurance plan helps customer...  \n",
       "4  have known hirani for yrs what if metoo claims...  "
      ]
     },
     "execution_count": 19,
     "metadata": {},
     "output_type": "execute_result"
    }
   ],
   "source": [
    "# 요약 데이터에는 시작 토큰과 종료 토큰을 추가한다.\n",
    "data['decoder_input'] = data['headlines'].apply(lambda x : 'sostoken '+ x)\n",
    "data['decoder_target'] = data['headlines'].apply(lambda x : x + ' eostoken')\n",
    "data.head()"
   ]
  },
  {
   "cell_type": "markdown",
   "id": "b702aea5",
   "metadata": {},
   "source": [
    "* 'decoder_input'의 앞에 'sostoken' 을 추가, 'decoder_target'의 끝에는 'eostoken'을 추가"
   ]
  },
  {
   "cell_type": "markdown",
   "id": "f8bd57ca",
   "metadata": {},
   "source": [
    "### C.  Data suffle and split"
   ]
  },
  {
   "cell_type": "code",
   "execution_count": 20,
   "id": "8402b256",
   "metadata": {},
   "outputs": [],
   "source": [
    "encoder_input = np.array(data['text']) # 인코더의 입력\n",
    "decoder_input = np.array(data['decoder_input']) # 디코더의 입력\n",
    "decoder_target = np.array(data['decoder_target']) # 디코더의 레이블"
   ]
  },
  {
   "cell_type": "code",
   "execution_count": 21,
   "id": "652605f9",
   "metadata": {},
   "outputs": [
    {
     "name": "stdout",
     "output_type": "stream",
     "text": [
      "[38136 18111 91683 ... 10851 70108 11937]\n"
     ]
    }
   ],
   "source": [
    "indices = np.arange(encoder_input.shape[0])\n",
    "np.random.shuffle(indices)\n",
    "print(indices)"
   ]
  },
  {
   "cell_type": "code",
   "execution_count": 22,
   "id": "86e8f308",
   "metadata": {},
   "outputs": [],
   "source": [
    "encoder_input = encoder_input[indices]\n",
    "decoder_input = decoder_input[indices]\n",
    "decoder_target = decoder_target[indices]"
   ]
  },
  {
   "cell_type": "code",
   "execution_count": 23,
   "id": "b4a62302",
   "metadata": {},
   "outputs": [
    {
     "name": "stdout",
     "output_type": "stream",
     "text": [
      "테스트 데이터의 수 : 19556\n"
     ]
    }
   ],
   "source": [
    "n_of_val = int(len(encoder_input)*0.2)\n",
    "print('테스트 데이터의 수 :', n_of_val)"
   ]
  },
  {
   "cell_type": "code",
   "execution_count": 24,
   "id": "41601050",
   "metadata": {},
   "outputs": [
    {
     "name": "stdout",
     "output_type": "stream",
     "text": [
      "훈련 데이터의 개수 : 78227\n",
      "훈련 레이블의 개수 : 78227\n",
      "테스트 데이터의 개수 : 19556\n",
      "테스트 레이블의 개수 : 19556\n"
     ]
    }
   ],
   "source": [
    "encoder_input_train = encoder_input[:-n_of_val]\n",
    "decoder_input_train = decoder_input[:-n_of_val]\n",
    "decoder_target_train = decoder_target[:-n_of_val]\n",
    "\n",
    "encoder_input_test = encoder_input[-n_of_val:]\n",
    "decoder_input_test = decoder_input[-n_of_val:]   \n",
    "decoder_target_test = decoder_target[-n_of_val:]\n",
    "\n",
    "print('훈련 데이터의 개수 :', len(encoder_input_train))\n",
    "print('훈련 레이블의 개수 :', len(decoder_input_train))\n",
    "print('테스트 데이터의 개수 :', len(encoder_input_test))\n",
    "print('테스트 레이블의 개수 :', len(decoder_input_test))"
   ]
  },
  {
   "cell_type": "markdown",
   "id": "d054e7b9",
   "metadata": {},
   "source": [
    "### 2.2.4 Creating Vocabulary and Integer Encoding"
   ]
  },
  {
   "cell_type": "markdown",
   "id": "c0f01df0",
   "metadata": {},
   "source": [
    "### A. Encoder Train Data"
   ]
  },
  {
   "cell_type": "code",
   "execution_count": 25,
   "id": "2a0b9123",
   "metadata": {},
   "outputs": [],
   "source": [
    "src_tokenizer = Tokenizer() # 토크나이저 정의\n",
    "src_tokenizer.fit_on_texts(encoder_input_train) # 입력된 데이터로부터 단어 집합 생성"
   ]
  },
  {
   "cell_type": "code",
   "execution_count": 26,
   "id": "7b22fa3f",
   "metadata": {},
   "outputs": [
    {
     "name": "stdout",
     "output_type": "stream",
     "text": [
      "단어 집합(vocabulary)의 크기 : 69313\n",
      "등장 빈도가 6번 이하인 희귀 단어의 수: 47271\n",
      "단어 집합에서 희귀 단어를 제외시킬 경우의 단어 집합의 크기 22042\n",
      "단어 집합에서 희귀 단어의 비율: 68.1993276874468\n",
      "전체 등장 빈도에서 희귀 단어 등장 빈도 비율: 3.5077402733002043\n"
     ]
    }
   ],
   "source": [
    "threshold = 7\n",
    "total_cnt = len(src_tokenizer.word_index) # 단어의 수\n",
    "rare_cnt = 0 # 등장 빈도수가 threshold보다 작은 단어의 개수를 카운트\n",
    "total_freq = 0 # 훈련 데이터의 전체 단어 빈도수 총 합\n",
    "rare_freq = 0 # 등장 빈도수가 threshold보다 작은 단어의 등장 빈도수의 총 합\n",
    "\n",
    "# 단어와 빈도수의 쌍(pair)을 key와 value로 받는다.\n",
    "for key, value in src_tokenizer.word_counts.items():\n",
    "    total_freq = total_freq + value\n",
    "\n",
    "    # 단어의 등장 빈도수가 threshold보다 작으면\n",
    "    if(value < threshold):\n",
    "        rare_cnt = rare_cnt + 1\n",
    "        rare_freq = rare_freq + value\n",
    "\n",
    "print('단어 집합(vocabulary)의 크기 :', total_cnt)\n",
    "print('등장 빈도가 %s번 이하인 희귀 단어의 수: %s'%(threshold - 1, rare_cnt))\n",
    "print('단어 집합에서 희귀 단어를 제외시킬 경우의 단어 집합의 크기 %s'%(total_cnt - rare_cnt))\n",
    "print(\"단어 집합에서 희귀 단어의 비율:\", (rare_cnt / total_cnt)*100)\n",
    "print(\"전체 등장 빈도에서 희귀 단어 등장 빈도 비율:\", (rare_freq / total_freq)*100)"
   ]
  },
  {
   "cell_type": "markdown",
   "id": "8c2e339c",
   "metadata": {},
   "source": [
    "* encoder_input_train에는 6만여 개의 단어가 있다.\n",
    "* 등장 빈도가 threshold 값인 7회 미만, 즉 6회 이하인 단어들은 단어 집합에서 무려 68% 이상을 차지\n",
    "* 하지만 실제로 훈련 데이터에서 등장 빈도로 차지하는 비중은 상대적으로 적은 수치인 3.5%밖에 되지 않는다.\n",
    "* 그래서 등장 빈도가 6회 이하인 단어들은 정수 인코딩 과정에서 빼고, 훈련 데이터에서 제거\n",
    "* 위에서 이를 제외한 단어 집합의 크기를 22,000여 개로 계산\n",
    "* 이와 비슷한 값으로 어림잡아 단어 집합의 크기를 22,000으로 제한"
   ]
  },
  {
   "cell_type": "code",
   "execution_count": 27,
   "id": "e3df9c9e",
   "metadata": {},
   "outputs": [],
   "source": [
    "src_vocab = 22000\n",
    "src_tokenizer = Tokenizer(num_words=src_vocab) # 단어 집합의 크기를 22,000으로 제한\n",
    "src_tokenizer.fit_on_texts(encoder_input_train) # 단어 집합 재생성"
   ]
  },
  {
   "cell_type": "markdown",
   "id": "0fc79cc7",
   "metadata": {},
   "source": [
    "* 현재 단어 집합의 크기를 22,000으로 제한했으므로 이제 22,000이 넘는 숫자들은 정수 인코딩 후에는 데이터에 존재하지 않는다."
   ]
  },
  {
   "cell_type": "code",
   "execution_count": 28,
   "id": "9ab10f8d",
   "metadata": {},
   "outputs": [
    {
     "name": "stdout",
     "output_type": "stream",
     "text": [
      "[[995, 20, 209, 223, 5, 1741, 1138, 278, 1649, 255, 1452, 10680, 1649, 255, 1200, 27, 10680, 289, 1649, 532, 1407, 995, 20, 209, 1741, 2334, 20, 209, 1529, 5, 2334], [2, 589, 1473, 2151, 106, 647, 40, 273, 12923, 482, 28, 100, 1221, 3034, 1, 184, 2194, 1848, 1379, 1356, 90, 2194, 144, 436, 3786, 246, 8651, 2, 1178, 136, 586, 7, 27, 2194, 1848, 1379, 1356, 1], [2928, 96, 19, 857, 1083, 579, 2343, 740, 27, 725, 365, 488, 4979, 1, 327, 725, 17444, 788, 1037, 1395, 913, 365, 488, 524, 306, 196, 5574, 2647, 870, 19, 857, 1102, 149, 1805, 1194, 17, 725, 13, 318]]\n"
     ]
    }
   ],
   "source": [
    "# 텍스트 시퀀스를 정수 시퀀스로 변환\n",
    "encoder_input_train = src_tokenizer.texts_to_sequences(encoder_input_train) \n",
    "encoder_input_test = src_tokenizer.texts_to_sequences(encoder_input_test)\n",
    "\n",
    "# 잘 진행되었는지 샘플 출력\n",
    "print(encoder_input_train[:3])"
   ]
  },
  {
   "cell_type": "markdown",
   "id": "0fb5cc2d",
   "metadata": {},
   "source": [
    "### B. Decoder Train Data"
   ]
  },
  {
   "cell_type": "code",
   "execution_count": 29,
   "id": "c4fac9d0",
   "metadata": {},
   "outputs": [],
   "source": [
    "tar_tokenizer = Tokenizer()\n",
    "tar_tokenizer.fit_on_texts(decoder_input_train)"
   ]
  },
  {
   "cell_type": "code",
   "execution_count": 30,
   "id": "bb9d75a2",
   "metadata": {},
   "outputs": [
    {
     "name": "stdout",
     "output_type": "stream",
     "text": [
      "단어 집합(vocabulary)의 크기 : 30052\n",
      "등장 빈도가 5번 이하인 희귀 단어의 수: 19629\n",
      "단어 집합에서 희귀 단어를 제외시킬 경우의 단어 집합의 크기 10423\n",
      "단어 집합에서 희귀 단어의 비율: 65.31678424064954\n",
      "전체 등장 빈도에서 희귀 단어 등장 빈도 비율: 4.642770601502358\n"
     ]
    }
   ],
   "source": [
    "threshold = 6\n",
    "total_cnt = len(tar_tokenizer.word_index) # 단어의 수\n",
    "rare_cnt = 0 # 등장 빈도수가 threshold보다 작은 단어의 개수를 카운트\n",
    "total_freq = 0 # 훈련 데이터의 전체 단어 빈도수 총 합\n",
    "rare_freq = 0 # 등장 빈도수가 threshold보다 작은 단어의 등장 빈도수의 총 합\n",
    "\n",
    "# 단어와 빈도수의 쌍(pair)을 key와 value로 받는다.\n",
    "for key, value in tar_tokenizer.word_counts.items():\n",
    "    total_freq = total_freq + value\n",
    "\n",
    "    # 단어의 등장 빈도수가 threshold보다 작으면\n",
    "    if(value < threshold):\n",
    "        rare_cnt = rare_cnt + 1\n",
    "        rare_freq = rare_freq + value\n",
    "\n",
    "print('단어 집합(vocabulary)의 크기 :', total_cnt)\n",
    "print('등장 빈도가 %s번 이하인 희귀 단어의 수: %s'%(threshold - 1, rare_cnt))\n",
    "print('단어 집합에서 희귀 단어를 제외시킬 경우의 단어 집합의 크기 %s'%(total_cnt - rare_cnt))\n",
    "print(\"단어 집합에서 희귀 단어의 비율:\", (rare_cnt / total_cnt)*100)\n",
    "print(\"전체 등장 빈도에서 희귀 단어 등장 빈도 비율:\", (rare_freq / total_freq)*100)"
   ]
  },
  {
   "cell_type": "markdown",
   "id": "55bc1e9d",
   "metadata": {},
   "source": [
    "* encoder_input_train에는 3만여 개의 단어가 있다.\n",
    "* 등장 빈도가 threshold 값인 6회 미만, 즉 5회 이하인 단어들은 단어 집합에서 무려 65% 이상을 차지\n",
    "* 하지만 실제로 훈련 데이터에서 등장 빈도로 차지하는 비중은 상대적으로 적은 수치인 4.6%밖에 되지 않는다.\n",
    "* 그래서 등장 빈도가 5회 이하인 단어들은 정수 인코딩 과정에서 빼고, 훈련 데이터에서 제거\n",
    "* 위에서 이를 제외한 단어 집합의 크기를 10,000개로 계산"
   ]
  },
  {
   "cell_type": "code",
   "execution_count": 31,
   "id": "55d0f921",
   "metadata": {},
   "outputs": [
    {
     "name": "stdout",
     "output_type": "stream",
     "text": [
      "input\n",
      "input  [[1, 99, 815, 29, 245, 3, 21, 125, 4, 13, 1147, 695], [1, 1833, 8, 1301, 86, 1302, 70, 813, 1579], [1, 2380, 120, 1686, 543, 3, 3889, 991, 55, 379, 891], [1, 106, 148, 21, 4516, 12, 5190, 1125, 7, 2836, 867], [1, 577, 852, 211, 2788, 5386, 4, 1864, 4, 1483]]\n",
      "target\n",
      "decoder  [[99, 815, 29, 245, 3, 21, 125, 4, 13, 1147, 695, 2], [1833, 8, 1301, 86, 1302, 70, 813, 1579, 2], [2380, 120, 1686, 543, 3, 3889, 991, 55, 379, 891, 2], [106, 148, 21, 4516, 12, 5190, 1125, 7, 2836, 867, 2], [577, 852, 211, 2788, 5386, 4, 1864, 4, 1483, 2]]\n"
     ]
    }
   ],
   "source": [
    "tar_vocab = 10000\n",
    "tar_tokenizer = Tokenizer(num_words=tar_vocab) \n",
    "tar_tokenizer.fit_on_texts(decoder_input_train)\n",
    "tar_tokenizer.fit_on_texts(decoder_target_train)\n",
    "\n",
    "# 텍스트 시퀀스를 정수 시퀀스로 변환\n",
    "decoder_input_train = tar_tokenizer.texts_to_sequences(decoder_input_train) \n",
    "decoder_target_train = tar_tokenizer.texts_to_sequences(decoder_target_train)\n",
    "decoder_input_test = tar_tokenizer.texts_to_sequences(decoder_input_test)\n",
    "decoder_target_test = tar_tokenizer.texts_to_sequences(decoder_target_test)\n",
    "\n",
    "# 잘 변환되었는지 확인\n",
    "print('input')\n",
    "print('input ',decoder_input_train[:5])\n",
    "print('target')\n",
    "print('decoder ',decoder_target_train[:5])"
   ]
  },
  {
   "cell_type": "markdown",
   "id": "cb45e147",
   "metadata": {},
   "source": [
    "* 현재 단어 집합의 크기를 10000으로 제한했으므로 이제 10000이 넘는 숫자들은 정수 인코딩 후에는 데이터에 존재하지 않는다.\n",
    "* 그런데 전체 데이터에서 빈도수가 낮은 단어가 삭제되었다는 것은 빈도수가 낮은 단어만으로 구성되었던 샘플들은 이제 빈(empty) 샘플이 되었을 가능성이 있다. \n",
    "* 훈련 데이터와 테스트 데이터에 대해서 요약문의 길이가 1인 경우의 인덱스를 각각 drop_train과 drop_test에 라는 변수에 저장하고 확인해본다.\n",
    "* 만약 있다면 삭제한다."
   ]
  },
  {
   "cell_type": "code",
   "execution_count": 32,
   "id": "f1600148",
   "metadata": {},
   "outputs": [
    {
     "name": "stdout",
     "output_type": "stream",
     "text": [
      "삭제할 훈련 데이터의 개수 : 0\n",
      "삭제할 테스트 데이터의 개수 : 0\n",
      "훈련 데이터의 개수 : 78227\n",
      "훈련 레이블의 개수 : 78227\n",
      "테스트 데이터의 개수 : 19556\n",
      "테스트 레이블의 개수 : 19556\n"
     ]
    }
   ],
   "source": [
    "drop_train = [index for index, sentence in enumerate(decoder_input_train) if len(sentence) == 1]\n",
    "drop_test = [index for index, sentence in enumerate(decoder_input_test) if len(sentence) == 1]\n",
    "\n",
    "print('삭제할 훈련 데이터의 개수 :', len(drop_train))\n",
    "print('삭제할 테스트 데이터의 개수 :', len(drop_test))\n",
    "\n",
    "encoder_input_train = [sentence for index, sentence in enumerate(encoder_input_train) if index not in drop_train]\n",
    "decoder_input_train = [sentence for index, sentence in enumerate(decoder_input_train) if index not in drop_train]\n",
    "decoder_target_train = [sentence for index, sentence in enumerate(decoder_target_train) if index not in drop_train]\n",
    "\n",
    "encoder_input_test = [sentence for index, sentence in enumerate(encoder_input_test) if index not in drop_test]\n",
    "decoder_input_test = [sentence for index, sentence in enumerate(decoder_input_test) if index not in drop_test]\n",
    "decoder_target_test = [sentence for index, sentence in enumerate(decoder_target_test) if index not in drop_test]\n",
    "\n",
    "print('훈련 데이터의 개수 :', len(encoder_input_train))\n",
    "print('훈련 레이블의 개수 :', len(decoder_input_train))\n",
    "print('테스트 데이터의 개수 :', len(encoder_input_test))\n",
    "print('테스트 레이블의 개수 :', len(decoder_input_test))"
   ]
  },
  {
   "cell_type": "markdown",
   "id": "521bfca1",
   "metadata": {},
   "source": [
    "### C. Padding"
   ]
  },
  {
   "cell_type": "code",
   "execution_count": 33,
   "id": "70cafc0c",
   "metadata": {},
   "outputs": [],
   "source": [
    "encoder_input_train = pad_sequences(encoder_input_train, maxlen=text_max_len, padding='post')\n",
    "encoder_input_test = pad_sequences(encoder_input_test, maxlen=text_max_len, padding='post')\n",
    "decoder_input_train = pad_sequences(decoder_input_train, maxlen=headlines_max_len, padding='post')\n",
    "decoder_target_train = pad_sequences(decoder_target_train, maxlen=headlines_max_len, padding='post')\n",
    "decoder_input_test = pad_sequences(decoder_input_test, maxlen=headlines_max_len, padding='post')\n",
    "decoder_target_test = pad_sequences(decoder_target_test, maxlen=headlines_max_len, padding='post')"
   ]
  },
  {
   "cell_type": "markdown",
   "id": "f27e3ea0",
   "metadata": {},
   "source": [
    "### 3. Creating seq2seq with attention Model"
   ]
  },
  {
   "cell_type": "markdown",
   "id": "0c45df81",
   "metadata": {},
   "source": [
    "### 3.1 Building Encoder & Decoder"
   ]
  },
  {
   "cell_type": "code",
   "execution_count": 36,
   "id": "0270edc4",
   "metadata": {},
   "outputs": [
    {
     "name": "stdout",
     "output_type": "stream",
     "text": [
      "WARNING:tensorflow:Layer lstm_4 will not use cuDNN kernels since it doesn't meet the criteria. It will use a generic GPU kernel as fallback when running on GPU.\n",
      "WARNING:tensorflow:Layer lstm_5 will not use cuDNN kernels since it doesn't meet the criteria. It will use a generic GPU kernel as fallback when running on GPU.\n",
      "WARNING:tensorflow:Layer lstm_6 will not use cuDNN kernels since it doesn't meet the criteria. It will use a generic GPU kernel as fallback when running on GPU.\n"
     ]
    }
   ],
   "source": [
    "from tensorflow.keras.layers import Input, LSTM, Embedding, Dense, Concatenate, TimeDistributed\n",
    "from tensorflow.keras.models import Model\n",
    "from tensorflow.keras.callbacks import EarlyStopping, ModelCheckpoint\n",
    "\n",
    "\n",
    "# 인코더 설계 시작\n",
    "# parameter 수정\n",
    "embedding_dim = 128\n",
    "hidden_size = 256\n",
    "\n",
    "# 인코더\n",
    "encoder_inputs = Input(shape=(text_max_len,))\n",
    "\n",
    "# 인코더의 임베딩 층\n",
    "enc_emb = Embedding(src_vocab, embedding_dim)(encoder_inputs)\n",
    "\n",
    "# 인코더의 LSTM 1\n",
    "encoder_lstm1 = LSTM(hidden_size, return_sequences=True, return_state=True ,dropout = 0.4, recurrent_dropout = 0.4)\n",
    "encoder_output1, state_h1, state_c1 = encoder_lstm1(enc_emb)\n",
    "\n",
    "# 인코더의 LSTM 2\n",
    "encoder_lstm2 = LSTM(hidden_size, return_sequences=True, return_state=True, dropout=0.4, recurrent_dropout=0.4)\n",
    "encoder_output2, state_h2, state_c2 = encoder_lstm2(encoder_output1)\n",
    "\n",
    "# 인코더의 LSTM 3\n",
    "encoder_lstm3 = LSTM(hidden_size, return_state=True, return_sequences=True, dropout=0.4, recurrent_dropout=0.4)\n",
    "encoder_outputs, state_h, state_c= encoder_lstm3(encoder_output2)"
   ]
  },
  {
   "cell_type": "code",
   "execution_count": 37,
   "id": "a9e02ede",
   "metadata": {},
   "outputs": [
    {
     "name": "stdout",
     "output_type": "stream",
     "text": [
      "WARNING:tensorflow:Layer lstm_7 will not use cuDNN kernels since it doesn't meet the criteria. It will use a generic GPU kernel as fallback when running on GPU.\n"
     ]
    }
   ],
   "source": [
    "# 디코더 설계\n",
    "decoder_inputs = Input(shape=(None,))\n",
    "\n",
    "# 디코더의 임베딩 층\n",
    "dec_emb_layer = Embedding(tar_vocab, embedding_dim)\n",
    "dec_emb = dec_emb_layer(decoder_inputs)\n",
    "\n",
    "# 디코더의 LSTM\n",
    "decoder_lstm = LSTM(hidden_size, return_sequences=True, return_state=True, dropout=0.4, recurrent_dropout=0.2)\n",
    "decoder_outputs, _, _ = decoder_lstm(dec_emb, initial_state=[state_h, state_c])"
   ]
  },
  {
   "cell_type": "code",
   "execution_count": 38,
   "id": "c5b0c369",
   "metadata": {},
   "outputs": [
    {
     "name": "stdout",
     "output_type": "stream",
     "text": [
      "Model: \"model\"\n",
      "__________________________________________________________________________________________________\n",
      "Layer (type)                    Output Shape         Param #     Connected to                     \n",
      "==================================================================================================\n",
      "input_3 (InputLayer)            [(None, 45)]         0                                            \n",
      "__________________________________________________________________________________________________\n",
      "embedding_2 (Embedding)         (None, 45, 128)      2816000     input_3[0][0]                    \n",
      "__________________________________________________________________________________________________\n",
      "lstm_4 (LSTM)                   [(None, 45, 256), (N 394240      embedding_2[0][0]                \n",
      "__________________________________________________________________________________________________\n",
      "input_4 (InputLayer)            [(None, None)]       0                                            \n",
      "__________________________________________________________________________________________________\n",
      "lstm_5 (LSTM)                   [(None, 45, 256), (N 525312      lstm_4[0][0]                     \n",
      "__________________________________________________________________________________________________\n",
      "embedding_3 (Embedding)         (None, None, 128)    1280000     input_4[0][0]                    \n",
      "__________________________________________________________________________________________________\n",
      "lstm_6 (LSTM)                   [(None, 45, 256), (N 525312      lstm_5[0][0]                     \n",
      "__________________________________________________________________________________________________\n",
      "lstm_7 (LSTM)                   [(None, None, 256),  394240      embedding_3[0][0]                \n",
      "                                                                 lstm_6[0][1]                     \n",
      "                                                                 lstm_6[0][2]                     \n",
      "__________________________________________________________________________________________________\n",
      "dense (Dense)                   (None, None, 10000)  2570000     lstm_7[0][0]                     \n",
      "==================================================================================================\n",
      "Total params: 8,505,104\n",
      "Trainable params: 8,505,104\n",
      "Non-trainable params: 0\n",
      "__________________________________________________________________________________________________\n"
     ]
    }
   ],
   "source": [
    "# 디코더의 출력층\n",
    "decoder_softmax_layer = Dense(tar_vocab, activation='softmax')\n",
    "decoder_softmax_outputs = decoder_softmax_layer(decoder_outputs) \n",
    "\n",
    "# 모델 정의\n",
    "model = Model([encoder_inputs, decoder_inputs], decoder_softmax_outputs)\n",
    "model.summary()"
   ]
  },
  {
   "cell_type": "markdown",
   "id": "1dd93d6a",
   "metadata": {},
   "source": [
    "### 3.2 Building Attention Mechanism"
   ]
  },
  {
   "cell_type": "code",
   "execution_count": 39,
   "id": "3e57efd0",
   "metadata": {},
   "outputs": [
    {
     "name": "stdout",
     "output_type": "stream",
     "text": [
      "Model: \"model_1\"\n",
      "__________________________________________________________________________________________________\n",
      "Layer (type)                    Output Shape         Param #     Connected to                     \n",
      "==================================================================================================\n",
      "input_3 (InputLayer)            [(None, 45)]         0                                            \n",
      "__________________________________________________________________________________________________\n",
      "embedding_2 (Embedding)         (None, 45, 128)      2816000     input_3[0][0]                    \n",
      "__________________________________________________________________________________________________\n",
      "lstm_4 (LSTM)                   [(None, 45, 256), (N 394240      embedding_2[0][0]                \n",
      "__________________________________________________________________________________________________\n",
      "input_4 (InputLayer)            [(None, None)]       0                                            \n",
      "__________________________________________________________________________________________________\n",
      "lstm_5 (LSTM)                   [(None, 45, 256), (N 525312      lstm_4[0][0]                     \n",
      "__________________________________________________________________________________________________\n",
      "embedding_3 (Embedding)         (None, None, 128)    1280000     input_4[0][0]                    \n",
      "__________________________________________________________________________________________________\n",
      "lstm_6 (LSTM)                   [(None, 45, 256), (N 525312      lstm_5[0][0]                     \n",
      "__________________________________________________________________________________________________\n",
      "lstm_7 (LSTM)                   [(None, None, 256),  394240      embedding_3[0][0]                \n",
      "                                                                 lstm_6[0][1]                     \n",
      "                                                                 lstm_6[0][2]                     \n",
      "__________________________________________________________________________________________________\n",
      "attention_layer (AdditiveAttent (None, None, 256)    256         lstm_7[0][0]                     \n",
      "                                                                 lstm_6[0][0]                     \n",
      "__________________________________________________________________________________________________\n",
      "concat_layer (Concatenate)      (None, None, 512)    0           lstm_7[0][0]                     \n",
      "                                                                 attention_layer[0][0]            \n",
      "__________________________________________________________________________________________________\n",
      "dense_1 (Dense)                 (None, None, 10000)  5130000     concat_layer[0][0]               \n",
      "==================================================================================================\n",
      "Total params: 11,065,360\n",
      "Trainable params: 11,065,360\n",
      "Non-trainable params: 0\n",
      "__________________________________________________________________________________________________\n"
     ]
    }
   ],
   "source": [
    "from tensorflow.keras.layers import AdditiveAttention\n",
    "\n",
    "# 어텐션 층(어텐션 함수)\n",
    "attn_layer = AdditiveAttention(name='attention_layer')\n",
    "\n",
    "# 인코더와 디코더의 모든 time step의 hidden state를 어텐션 층에 전달하고 결과를 리턴\n",
    "attn_out = attn_layer([decoder_outputs, encoder_outputs])\n",
    "\n",
    "\n",
    "# 어텐션의 결과와 디코더의 hidden state들을 연결\n",
    "decoder_concat_input = Concatenate(axis=-1, name='concat_layer')([decoder_outputs, attn_out])\n",
    "\n",
    "# 디코더의 출력층\n",
    "decoder_softmax_layer = Dense(tar_vocab, activation='softmax')\n",
    "decoder_softmax_outputs = decoder_softmax_layer(decoder_concat_input)\n",
    "\n",
    "# 모델 정의\n",
    "model = Model([encoder_inputs, decoder_inputs], decoder_softmax_outputs)\n",
    "model.summary()"
   ]
  },
  {
   "cell_type": "markdown",
   "id": "1ffd50d5",
   "metadata": {},
   "source": [
    "### 4. Training Model "
   ]
  },
  {
   "cell_type": "markdown",
   "id": "36ed5cf3",
   "metadata": {},
   "source": [
    "### 4.1 Fitting the Model With Data"
   ]
  },
  {
   "cell_type": "code",
   "execution_count": 40,
   "id": "af05ab32",
   "metadata": {
    "scrolled": false
   },
   "outputs": [
    {
     "name": "stdout",
     "output_type": "stream",
     "text": [
      "Epoch 1/50\n",
      "306/306 [==============================] - 210s 660ms/step - loss: 5.2329 - val_loss: 4.8267\n",
      "Epoch 2/50\n",
      "306/306 [==============================] - 199s 651ms/step - loss: 4.6674 - val_loss: 4.4651\n",
      "Epoch 3/50\n",
      "306/306 [==============================] - 198s 646ms/step - loss: 4.3558 - val_loss: 4.2198\n",
      "Epoch 4/50\n",
      "306/306 [==============================] - 196s 640ms/step - loss: 4.1131 - val_loss: 4.0504\n",
      "Epoch 5/50\n",
      "306/306 [==============================] - 198s 646ms/step - loss: 3.9265 - val_loss: 3.9179\n",
      "Epoch 6/50\n",
      "306/306 [==============================] - 198s 647ms/step - loss: 3.7728 - val_loss: 3.8175\n",
      "Epoch 7/50\n",
      "306/306 [==============================] - 195s 637ms/step - loss: 3.6411 - val_loss: 3.7339\n",
      "Epoch 8/50\n",
      "306/306 [==============================] - 196s 641ms/step - loss: 3.5254 - val_loss: 3.6671\n",
      "Epoch 9/50\n",
      "306/306 [==============================] - 196s 640ms/step - loss: 3.4242 - val_loss: 3.6091\n",
      "Epoch 10/50\n",
      "306/306 [==============================] - 197s 642ms/step - loss: 3.3352 - val_loss: 3.5620\n",
      "Epoch 11/50\n",
      "306/306 [==============================] - 198s 646ms/step - loss: 3.2554 - val_loss: 3.5300\n",
      "Epoch 12/50\n",
      "306/306 [==============================] - 198s 647ms/step - loss: 3.1832 - val_loss: 3.4951\n",
      "Epoch 13/50\n",
      "306/306 [==============================] - 195s 639ms/step - loss: 3.1189 - val_loss: 3.4695\n",
      "Epoch 14/50\n",
      "306/306 [==============================] - 196s 641ms/step - loss: 3.0578 - val_loss: 3.4444\n",
      "Epoch 15/50\n",
      "306/306 [==============================] - 196s 642ms/step - loss: 3.0011 - val_loss: 3.4247\n",
      "Epoch 16/50\n",
      "306/306 [==============================] - 198s 648ms/step - loss: 2.9503 - val_loss: 3.4111\n",
      "Epoch 17/50\n",
      "306/306 [==============================] - 198s 646ms/step - loss: 2.9053 - val_loss: 3.3973\n",
      "Epoch 18/50\n",
      "306/306 [==============================] - 197s 643ms/step - loss: 2.8640 - val_loss: 3.3831\n",
      "Epoch 19/50\n",
      "306/306 [==============================] - 197s 643ms/step - loss: 2.8250 - val_loss: 3.3744\n",
      "Epoch 20/50\n",
      "306/306 [==============================] - 199s 649ms/step - loss: 2.7873 - val_loss: 3.3605\n",
      "Epoch 21/50\n",
      "306/306 [==============================] - 198s 647ms/step - loss: 2.7524 - val_loss: 3.3623\n",
      "Epoch 22/50\n",
      "306/306 [==============================] - 198s 646ms/step - loss: 2.7190 - val_loss: 3.3533\n",
      "Epoch 23/50\n",
      "306/306 [==============================] - 198s 647ms/step - loss: 2.6859 - val_loss: 3.3467\n",
      "Epoch 24/50\n",
      "306/306 [==============================] - 198s 649ms/step - loss: 2.6534 - val_loss: 3.3344\n",
      "Epoch 25/50\n",
      "306/306 [==============================] - 198s 646ms/step - loss: 2.6183 - val_loss: 3.3368\n",
      "Epoch 26/50\n",
      "306/306 [==============================] - 198s 648ms/step - loss: 2.5852 - val_loss: 3.3305\n",
      "Epoch 27/50\n",
      "306/306 [==============================] - 198s 648ms/step - loss: 2.5588 - val_loss: 3.3305\n",
      "Epoch 28/50\n",
      "306/306 [==============================] - 198s 646ms/step - loss: 2.5341 - val_loss: 3.3281\n",
      "Epoch 29/50\n",
      "306/306 [==============================] - 199s 649ms/step - loss: 2.5062 - val_loss: 3.3260\n",
      "Epoch 30/50\n",
      "306/306 [==============================] - 198s 648ms/step - loss: 2.4782 - val_loss: 3.3226\n",
      "Epoch 31/50\n",
      "306/306 [==============================] - 197s 645ms/step - loss: 2.4542 - val_loss: 3.3233\n",
      "Epoch 32/50\n",
      "306/306 [==============================] - 198s 647ms/step - loss: 2.4332 - val_loss: 3.3310\n",
      "Restoring model weights from the end of the best epoch.\n",
      "Epoch 00032: early stopping\n"
     ]
    }
   ],
   "source": [
    "model.compile(optimizer='rmsprop', loss='sparse_categorical_crossentropy')\n",
    "es = EarlyStopping(monitor='val_loss', patience=2, verbose=1, restore_best_weights = True)\n",
    "history = model.fit(x=[encoder_input_train, decoder_input_train], y=decoder_target_train, \\\n",
    "          validation_data=([encoder_input_test, decoder_input_test], decoder_target_test), \\\n",
    "          batch_size=256, callbacks=[es], epochs=50)"
   ]
  },
  {
   "cell_type": "markdown",
   "id": "ceec99f4",
   "metadata": {},
   "source": [
    "* `EarlyStopping`을 통해 validation loss가 증가할 때 fitting을 멈춘다.\n",
    "* 변수 `restore_best_weights`을 `True`로 설정하여 모델의 성능이 가장 좋은 시점(가중치가 가장 좋은 시점)을 저장한다."
   ]
  },
  {
   "cell_type": "markdown",
   "id": "0fc38b3d",
   "metadata": {},
   "source": [
    "### 4.2 Visualization the Validation Loss"
   ]
  },
  {
   "cell_type": "code",
   "execution_count": 41,
   "id": "04369013",
   "metadata": {},
   "outputs": [
    {
     "data": {
      "image/png": "[encoded data removed]",
      "text/plain": [
       "<Figure size 432x288 with 1 Axes>"
      ]
     },
     "metadata": {
      "needs_background": "light"
     },
     "output_type": "display_data"
    }
   ],
   "source": [
    "plt.plot(history.history['loss'], label='train')\n",
    "plt.plot(history.history['val_loss'], label='test')\n",
    "plt.legend()\n",
    "plt.show()"
   ]
  },
  {
   "cell_type": "markdown",
   "id": "4724b172",
   "metadata": {},
   "source": [
    "### 5. Testing Model "
   ]
  },
  {
   "cell_type": "markdown",
   "id": "1a205b05",
   "metadata": {},
   "source": [
    "### 5.1 Implementing the Inference Model"
   ]
  },
  {
   "cell_type": "markdown",
   "id": "98c64ae7",
   "metadata": {},
   "source": [
    "### 5.1.1 convert the index to word "
   ]
  },
  {
   "cell_type": "code",
   "execution_count": 42,
   "id": "d4782698",
   "metadata": {},
   "outputs": [],
   "source": [
    "# 정수 인덱스 행렬로 존재하던 텍스트 데이터를 실제 데이터로 복원해야 하므로, 필요한 3개의 사전 준비\n",
    "\n",
    "src_index_to_word = src_tokenizer.index_word # 원문 단어 집합에서 정수 -> 단어를 얻음\n",
    "tar_word_to_index = tar_tokenizer.word_index # 요약 단어 집합에서 단어 -> 정수를 얻음\n",
    "tar_index_to_word = tar_tokenizer.index_word # 요약 단어 집합에서 정수 -> 단어를 얻음"
   ]
  },
  {
   "cell_type": "markdown",
   "id": "f3e75660",
   "metadata": {},
   "source": [
    "### 5.1.2 Setting up the Inference For the Encoder and Decoder"
   ]
  },
  {
   "cell_type": "code",
   "execution_count": 43,
   "id": "c2127511",
   "metadata": {},
   "outputs": [],
   "source": [
    "# 인코더 설계\n",
    "encoder_model = Model(inputs=encoder_inputs, outputs=[encoder_outputs, state_h, state_c])\n",
    "\n",
    "# 이전 시점의 상태들을 저장하는 텐서\n",
    "decoder_state_input_h = Input(shape=(hidden_size,))\n",
    "decoder_state_input_c = Input(shape=(hidden_size,))\n",
    "\n",
    "dec_emb2 = dec_emb_layer(decoder_inputs)\n",
    "\n",
    "# 문장의 다음 단어를 예측하기 위해서 초기 상태(initial_state)를 이전 시점의 상태로 사용. 이는 뒤의 함수 decode_sequence()에 구현\n",
    "# 훈련 과정에서와 달리 LSTM의 리턴하는 은닉 상태와 셀 상태인 state_h와 state_c를 버리지 않음.\n",
    "decoder_outputs2, state_h2, state_c2 = \\\n",
    "decoder_lstm(dec_emb2, initial_state=[decoder_state_input_h, decoder_state_input_c])"
   ]
  },
  {
   "cell_type": "code",
   "execution_count": 44,
   "id": "9fb97588",
   "metadata": {},
   "outputs": [],
   "source": [
    "# 어텐션 함수\n",
    "decoder_hidden_state_input = Input(shape=(text_max_len, hidden_size))\n",
    "attn_out_inf = attn_layer([decoder_outputs2, decoder_hidden_state_input])\n",
    "decoder_inf_concat = Concatenate(axis=-1, name='concat')([decoder_outputs2, attn_out_inf])\n",
    "\n",
    "# 디코더의 출력층\n",
    "decoder_outputs2 = decoder_softmax_layer(decoder_inf_concat) \n",
    "\n",
    "# 최종 디코더 모델\n",
    "decoder_model = Model(\n",
    "    [decoder_inputs] + [decoder_hidden_state_input,decoder_state_input_h, decoder_state_input_c],\n",
    "    [decoder_outputs2] + [state_h2, state_c2])"
   ]
  },
  {
   "cell_type": "markdown",
   "id": "e23abc8f",
   "metadata": {},
   "source": [
    "### 5.1.3 Defining a Functio For Implementation of the Inference Process"
   ]
  },
  {
   "cell_type": "code",
   "execution_count": 45,
   "id": "01cca112",
   "metadata": {},
   "outputs": [],
   "source": [
    "def decode_sequence(input_seq):\n",
    "    # 입력으로부터 인코더의 상태를 얻음\n",
    "    e_out, e_h, e_c = encoder_model.predict(input_seq)\n",
    "\n",
    "     # <SOS>에 해당하는 토큰 생성\n",
    "    target_seq = np.zeros((1,1))\n",
    "    target_seq[0, 0] = tar_word_to_index['sostoken']\n",
    "\n",
    "    stop_condition = False\n",
    "    decoded_sentence = ''\n",
    "    while not stop_condition: # stop_condition이 True가 될 때까지 루프 반복\n",
    "\n",
    "        output_tokens, h, c = decoder_model.predict([target_seq] + [e_out, e_h, e_c])\n",
    "        sampled_token_index = np.argmax(output_tokens[0, -1, :])\n",
    "        sampled_token = tar_index_to_word[sampled_token_index]\n",
    "\n",
    "        if (sampled_token!='eostoken'):\n",
    "            decoded_sentence += ' '+sampled_token\n",
    "\n",
    "        #  <eos>에 도달하거나 최대 길이를 넘으면 중단.\n",
    "        if (sampled_token == 'eostoken'  or len(decoded_sentence.split()) >= (headlines_max_len-1)):\n",
    "            stop_condition = True\n",
    "\n",
    "        # 길이가 1인 타겟 시퀀스를 업데이트\n",
    "        target_seq = np.zeros((1,1))\n",
    "        target_seq[0, 0] = sampled_token_index\n",
    "\n",
    "        # 상태를 업데이트 합니다.\n",
    "        e_h, e_c = h, c\n",
    "\n",
    "    return decoded_sentence"
   ]
  },
  {
   "cell_type": "markdown",
   "id": "71f15df3",
   "metadata": {},
   "source": [
    "### 5.1.4 Converting an Integer Sequence to a Word Sequence "
   ]
  },
  {
   "cell_type": "code",
   "execution_count": 46,
   "id": "8973973d",
   "metadata": {},
   "outputs": [],
   "source": [
    "# 원문의 정수 시퀀스를 텍스트 시퀀스로 변환\n",
    "def seq2text(input_seq):\n",
    "    temp=''\n",
    "    for i in input_seq:\n",
    "        if (i!=0):\n",
    "            temp = temp + src_index_to_word[i]+' '\n",
    "    return temp\n",
    "\n",
    "# 요약문의 정수 시퀀스를 텍스트 시퀀스로 변환\n",
    "def seq2summary(input_seq):\n",
    "    temp=''\n",
    "    for i in input_seq:\n",
    "        if ((i!=0 and i!=tar_word_to_index['sostoken']) and i!=tar_word_to_index['eostoken']):\n",
    "            temp = temp + tar_index_to_word[i] + ' '\n",
    "    return temp"
   ]
  },
  {
   "cell_type": "markdown",
   "id": "d8088f02",
   "metadata": {},
   "source": [
    "### 5.2 Compare Headlines with Summary (Abstractive Summarization)"
   ]
  },
  {
   "cell_type": "markdown",
   "id": "33a616ac",
   "metadata": {},
   "source": [
    "원래의 요약문(headlines 열)과 학습을 통해 얻은 추상적 요약의 결과를 비교해 보세요."
   ]
  },
  {
   "cell_type": "code",
   "execution_count": 47,
   "id": "5c5b619e",
   "metadata": {
    "scrolled": false
   },
   "outputs": [
    {
     "name": "stdout",
     "output_type": "stream",
     "text": [
      "1 -------------------------------------------------------\n",
      "<원문> : spanish fashion retailer zara withdrawn skirt website facing criticism featuring frog internet meme turned symbol white nationalist alt right movement zara seriously wallet shopping elsewhere commented user mm zara skirt read another comment \n",
      "[실제 요약] : zara withdraws skirt featuring the frog right meme \n",
      "[예측 요약] :  artist slammed for racist ad on instagram\n",
      "\n",
      "\n",
      "2 -------------------------------------------------------\n",
      "<원문> : england country appear two test matches two countries two different continents day england beat new zealand christchurch january day another england team playing test windies barbados england sent different teams caribbean new zealand promote cricket \n",
      "[실제 요약] : england once played test matches in on same day \n",
      "[예측 요약] :  england to tour australia for world cup test series\n",
      "\n",
      "\n",
      "3 -------------------------------------------------------\n",
      "<원문> : former waitress stole money mexican restaurant us years ago recently sent apology letter restaurant owner please accept apology money repayment years interest letter read restaurant owner said letter deeply moved employees \n",
      "[실제 요약] : ex sends to eatery she stole cash from yrs ago \n",
      "[예측 요약] :  ex us employee charged with stealing money\n",
      "\n",
      "\n",
      "4 -------------------------------------------------------\n",
      "<원문> : fee charged doorstep delivery public services birth certificate caste certificate driving licence among others next month onwards delhi government fee charged citizens successful transaction agency scheme bring transparency system officials said \n",
      "[실제 요약] : delhi govt to charge for doorstep delivery of services \n",
      "[예측 요약] :  bengaluru to allow students to get mobile licence\n",
      "\n",
      "\n",
      "5 -------------------------------------------------------\n",
      "<원문> : janhvi kapoor talking sister khushi kapoor cried trailer launch dhadak said entire life probably seen crying two three times us shock hugged said know crying added janhvi said special moment \n",
      "[실제 요약] : have seen khushi crying only times in my life janhvi \n",
      "[예측 요약] :  janhvi is like me but am so much janhvi on sridevi\n",
      "\n",
      "\n",
      "6 -------------------------------------------------------\n",
      "<원문> : afghanistan president ashraf ghani wednesday offered recognise taliban legitimate political group order end year long war making offer without preconditions lead peace agreement ghani said also proposed ceasefire release taliban linked prisoners along fresh elections constitutional review \n",
      "[실제 요약] : afghanistan offers to recognise taliban as political group \n",
      "[예측 요약] :  taliban afghan president afghanistan afghanistan afghanistan\n",
      "\n",
      "\n",
      "7 -------------------------------------------------------\n",
      "<원문> : comedian kapil sharma posted series tweets abusing media latest tweet read twitter hacked later deleted earlier tweet kapil claimed account hacked kapil alleged media creating fake news adding cking paid media tweets including abusive ones deleted \n",
      "[실제 요약] : my twitter was not hacked kapil on abusive tweets on media \n",
      "[예측 요약] :  twitter users slam twitter account for kapil sharma show\n",
      "\n",
      "\n",
      "8 -------------------------------------------------------\n",
      "<원문> : haryana government issued form school students across state asking aadhaar caste whether parents occupation parents received form email also stated information sought state government school records reacting news congress said surveillance dna bjp \n",
      "[실제 요약] : haryana student form asks if parents have job \n",
      "[예측 요약] :  haryana school teachers to get parents to school teachers\n",
      "\n",
      "\n",
      "9 -------------------------------------------------------\n",
      "<원문> : rajput group karni sena founder lokendra singh kalvi clarified organisation withdrawing protests film padmaavat earlier karni sena mumbai leader yogendra singh declared organisation withdrawn protest kalvi added duplicate karni creating dubious situation releasing contradictory fake news \n",
      "[실제 요약] : karni sena founder denies calling off padmaavat protests \n",
      "[예측 요약] :  karni sena protests over padmaavat in padmaavat\n",
      "\n",
      "\n",
      "10 -------------------------------------------------------\n",
      "<원문> : gurugram municipal commissioner saturday inaugurated rejuvenation recreational centre senior citizens city aim centre create engagement platform elderly people interact socially build support network lead happy life centre host activities like yoga quizzes games senior citizens \n",
      "[실제 요약] : centre opened for elderly people in gurugram \n",
      "[예측 요약] :  gurugram to hold its th national park festival\n",
      "\n",
      "\n",
      "11 -------------------------------------------------------\n",
      "<원문> : election commission pakistan issued notification banning use social media websites including facebook twitter youtube offices across country blocking social media video streaming sites networks minimise malware attacks ensure discipline using electronic resources level officials said \n",
      "[실제 요약] : pak poll body bans social media youtube in its offices \n",
      "[예측 요약] :  pak bans social media accounts from social media\n",
      "\n",
      "\n",
      "12 -------------------------------------------------------\n",
      "<원문> : us trade representative office included alibaba online marketplace list notorious markets selling fake products agency acknowledged steps alibaba taken remove fake products said prevalence infringing sales remained challenge kept list included \n",
      "[실제 요약] : us puts alibaba on for nd year in row \n",
      "[예측 요약] :  us firm to sue amazon over copyright breach\n",
      "\n",
      "\n",
      "13 -------------------------------------------------------\n",
      "<원문> : sweden rejected asylum application known world oldest refugee according reports year old reportedly fled afghanistan via iran turkey greece croatia ending sweden per decision must return afghanistan country willing take \n",
      "[실제 요약] : sweden to deport world oldest refugee aged \n",
      "[예측 요약] :  sweden to end its first ever island in years\n",
      "\n",
      "\n",
      "14 -------------------------------------------------------\n",
      "<원문> : priyanka chopra nick jonas wedding second searched wedding google prince harry actress meghan markle royal wedding deepika padukone ranveer singh wedding took place november fifth wedding wedding game thrones actors kit harington rose leslie also featured list \n",
      "[실제 요약] : priyanka wedding nd most searched wedding on google in \n",
      "[예측 요약] :  priyanka nick to star in wedding reception on her wedding\n",
      "\n",
      "\n",
      "15 -------------------------------------------------------\n",
      "<원문> : three accused kathua rape murder case moved supreme court alleging custodial torture police three also demanded interrogation video recorded earlier court ordered trial shifted punjab pathankot jammu victim father filed plea \n",
      "[실제 요약] : three kathua rape accused move sc alleging torture \n",
      "[예측 요약] :  kathua rape case against kathua victim father\n",
      "\n",
      "\n",
      "16 -------------------------------------------------------\n",
      "<원문> : woman allegedly raped head priest inside temple greater noida village police said today woman visited temple female relative following priest called room allegedly raped priest identified swami kanhaiya nand absconding incident \n",
      "[실제 요약] : woman raped by head priest inside temple in greater noida \n",
      "[예측 요약] :  woman raped by temple in temple temple in uttar pradesh\n",
      "\n",
      "\n",
      "17 -------------------------------------------------------\n",
      "<원문> : according international renewable energy agency electricity renewable sources cheaper power fossil fuels china served major contributor average prices dropping per however import duty solar panels us would slow process report noted \n",
      "[실제 요약] : power may become cheaper than fossil by \n",
      "[예측 요약] :  how much the emissions to the emissions\n",
      "\n",
      "\n",
      "18 -------------------------------------------------------\n",
      "<원문> : haryana chief minister manohar lal khattar announced state sex ratio birth touched girls boys march crossing mark first time state palwal districts registered higher sex ratio girls recording respectively haryana sex ratio crossed first time last year \n",
      "[실제 요약] : haryana sex ratio at girls to boys for first time \n",
      "[예측 요약] :  haryana govt to provide birth to girls from birth\n",
      "\n",
      "\n",
      "19 -------------------------------------------------------\n",
      "<원문> : two belgian restaurants sued allegedly selling customers mineral water came tap restaurants allegedly filled bottles award winning mineral water tap water sued producer agreement supply water restaurants became suspicious low number bottles ordered \n",
      "[실제 요약] : belgian eateries sued for selling water from \n"
     ]
    },
    {
     "name": "stdout",
     "output_type": "stream",
     "text": [
      "[예측 요약] :  man uses bottle to make lakh from water\n",
      "\n",
      "\n",
      "20 -------------------------------------------------------\n",
      "<원문> : canadian pm justin trudeau arrived india family saturday seven day state visit invitation pm narendra modi trudeau tour agra amritsar ahmedabad mumbai delhi tweeted visit aimed meeting government business leaders strengthening close friendship two nations \n",
      "[실제 요약] : canada pm justin trudeau arrives in india with family \n",
      "[예측 요약] :  pm modi to visit canadian pm during visit\n",
      "\n",
      "\n"
     ]
    }
   ],
   "source": [
    "for i in range(20):\n",
    "    print(i+1, \"-------------------------------------------------------\")\n",
    "    print(\"<원문> :\", seq2text(encoder_input_test[i]))\n",
    "    print(\"[실제 요약] :\", seq2summary(decoder_input_test[i]))\n",
    "    print(\"[예측 요약] :\", decode_sequence(encoder_input_test[i].reshape(1, text_max_len)))\n",
    "    print(\"\\n\")"
   ]
  },
  {
   "cell_type": "markdown",
   "id": "ab5d785e",
   "metadata": {},
   "source": [
    "### 5.3 Compare Headlines with Summary (Extractive Summarization)"
   ]
  },
  {
   "cell_type": "markdown",
   "id": "398b19d8",
   "metadata": {},
   "source": [
    "### 5.3.1 Load Text Data"
   ]
  },
  {
   "cell_type": "code",
   "execution_count": 48,
   "id": "12239565",
   "metadata": {},
   "outputs": [],
   "source": [
    "import requests\n",
    "from summa.summarizer import summarize"
   ]
  },
  {
   "cell_type": "code",
   "execution_count": 49,
   "id": "363ebde1",
   "metadata": {},
   "outputs": [],
   "source": [
    "# 데이터 다운로드\n",
    "urllib.request.urlretrieve(\"https://raw.githubusercontent.com/sunnysai12345/News_Summary/master/news_summary_more.csv\", filename=\"news_summary_more.csv\")\n",
    "data = pd.read_csv('news_summary_more.csv', encoding='iso-8859-1')"
   ]
  },
  {
   "cell_type": "code",
   "execution_count": 50,
   "id": "b55765b2",
   "metadata": {
    "scrolled": true
   },
   "outputs": [
    {
     "data": {
      "text/plain": [
       "49367    An 8 hour 13 minutes Russian spacewalk outside...\n",
       "91313    Over 100 people, including 22 police officers ...\n",
       "69225    At least six labourers died and two others wer...\n",
       "29592    Former Australian cricket captain Steve Smith ...\n",
       "59159    Manchester City winger Raheem Sterling's 84th-...\n",
       "29507    Producer Harvey Weinstein was granted bail for...\n",
       "4193     Congress leader Shashi Tharoor on Sunday said ...\n",
       "74871    The market valuation of e-commerce giant Amazo...\n",
       "48772    Former India captain Mahendra Singh Dhoni has ...\n",
       "42016    Refuting Congress President Rahul Gandhi's cla...\n",
       "Name: text, dtype: object"
      ]
     },
     "execution_count": 50,
     "metadata": {},
     "output_type": "execute_result"
    }
   ],
   "source": [
    "data['text'].sample(10)"
   ]
  },
  {
   "cell_type": "markdown",
   "id": "16b7282a",
   "metadata": {},
   "source": [
    "### 5.3.2 Using Summarize"
   ]
  },
  {
   "cell_type": "markdown",
   "id": "4b2fee44",
   "metadata": {},
   "source": [
    "* text (str) : 요약할 테스트.\n",
    "* ratio (float, optional) : 요약문에서 원본에서 선택되는 문장 비율. 0~1 사이값\n",
    "* words (int or None, optional) : 출력에 포함할 단어 수.\n",
    "* 만약, ratio와 함께 두 파라미터가 모두 제공되는 경우 ratio는 무시\n",
    "* split (bool, optional) : True면 문장 list / False는 조인(join)된 문자열을 반환"
   ]
  },
  {
   "cell_type": "code",
   "execution_count": 51,
   "id": "6ef2a9f6",
   "metadata": {
    "scrolled": false
   },
   "outputs": [
    {
     "name": "stdout",
     "output_type": "stream",
     "text": [
      "1 -------------------------------------------------------\n",
      "원문 : Saurav Kant, an alumnus of upGrad and IIIT-B's PG Program in Machine learning and Artificial Intelligence, was a Sr Systems Engineer at Infosys with almost 5 years of work experience. The program and upGrad's 360-degree career support helped him transition to a Data Scientist at Tech Mahindra with 90% salary hike. upGrad's Online Power Learning has powered 3 lakh+ careers.\n",
      "\n",
      "\n",
      "실제 요약 : upGrad learner switches to career in ML & Al with 90% salary hike\n",
      "추출적 요약(ratio) : upGrad's Online Power Learning has powered 3 lakh+ careers.\n",
      "추출적 요약(words) : The program and upGrad's 360-degree career support helped him transition to a Data Scientist at Tech Mahindra with 90% salary hike.\n",
      "upGrad's Online Power Learning has powered 3 lakh+ careers.\n",
      "\n",
      "\n",
      "2 -------------------------------------------------------\n",
      "원문 : Kunal Shah's credit card bill payment platform, CRED, gave users a chance to win free food from Swiggy for one year. Pranav Kaushik, a Delhi techie, bagged this reward after spending 2000 CRED coins. Users get one CRED coin per rupee of bill paid, which can be used to avail rewards from brands like Ixigo, BookMyShow, UberEats, Cult.Fit and more.\n",
      "\n",
      "\n",
      "실제 요약 : Delhi techie wins free food from Swiggy for one year on CRED\n",
      "추출적 요약(ratio) : Users get one CRED coin per rupee of bill paid, which can be used to avail rewards from brands like Ixigo, BookMyShow, UberEats, Cult.Fit and more.\n",
      "추출적 요약(words) : Users get one CRED coin per rupee of bill paid, which can be used to avail rewards from brands like Ixigo, BookMyShow, UberEats, Cult.Fit and more.\n",
      "\n",
      "\n",
      "3 -------------------------------------------------------\n",
      "원문 : New Zealand defeated India by 8 wickets in the fourth ODI at Hamilton on Thursday to win their first match of the five-match ODI series. India lost an international match under Rohit Sharma's captaincy after 12 consecutive victories dating back to March 2018. The match witnessed India getting all out for 92, their seventh lowest total in ODI cricket history.\n",
      "\n",
      "\n",
      "실제 요약 : New Zealand end Rohit Sharma-led India's 12-match winning streak\n",
      "추출적 요약(ratio) : The match witnessed India getting all out for 92, their seventh lowest total in ODI cricket history.\n",
      "추출적 요약(words) : The match witnessed India getting all out for 92, their seventh lowest total in ODI cricket history.\n",
      "\n",
      "\n",
      "4 -------------------------------------------------------\n",
      "원문 : With Aegon Life iTerm Insurance plan, customers can enjoy tax benefits on your premiums paid and save up to Ã¢ÂÂ¹46,800^ on taxes. The plan provides life cover up to the age of 100 years. Also, customers have options to insure against Critical Illnesses, Disability and Accidental Death Benefit Rider with a life cover up to the age of 80 years.\n",
      "\n",
      "\n",
      "실제 요약 : Aegon life iTerm insurance plan helps customers save tax\n",
      "추출적 요약(ratio) : Also, customers have options to insure against Critical Illnesses, Disability and Accidental Death Benefit Rider with a life cover up to the age of 80 years.\n",
      "추출적 요약(words) : Also, customers have options to insure against Critical Illnesses, Disability and Accidental Death Benefit Rider with a life cover up to the age of 80 years.\n",
      "\n",
      "\n",
      "5 -------------------------------------------------------\n",
      "원문 : Speaking about the sexual harassment allegations against Rajkumar Hirani, Sonam Kapoor said, \"I've known Hirani for many years...What if it's not true, the [#MeToo] movement will get derailed.\" \"In the #MeToo movement, I always believe a woman. But in this case, we need to reserve our judgment,\" she added. Hirani has been accused by an assistant who worked in 'Sanju'.\n",
      "\n",
      "\n",
      "실제 요약 : Have known Hirani for yrs, what if MeToo claims are not true: Sonam\n",
      "추출적 요약(ratio) : Speaking about the sexual harassment allegations against Rajkumar Hirani, Sonam Kapoor said, \"I've known Hirani for many years...What if it's not true, the [#MeToo] movement will get derailed.\" \"In the #MeToo movement, I always believe a woman.\n",
      "추출적 요약(words) : Speaking about the sexual harassment allegations against Rajkumar Hirani, Sonam Kapoor said, \"I've known Hirani for many years...What if it's not true, the [#MeToo] movement will get derailed.\" \"In the #MeToo movement, I always believe a woman.\n",
      "\n",
      "\n",
      "6 -------------------------------------------------------\n",
      "원문 : Pakistani singer Rahat Fateh Ali Khan has denied receiving any notice from the Enforcement Directorate over allegedly smuggling foreign currency out of India. \"It would have been better if the authorities would have served the notice first if any and then publicised this,\" reads a press release issued on behalf of Rahat. The statement further called the allegation \"bizarre\".\n",
      "\n",
      "\n",
      "실제 요약 : Rahat Fateh Ali Khan denies getting notice for smuggling currency\n",
      "추출적 요약(ratio) : Pakistani singer Rahat Fateh Ali Khan has denied receiving any notice from the Enforcement Directorate over allegedly smuggling foreign currency out of India.\n",
      "추출적 요약(words) : Pakistani singer Rahat Fateh Ali Khan has denied receiving any notice from the Enforcement Directorate over allegedly smuggling foreign currency out of India.\n",
      "\n",
      "\n",
      "7 -------------------------------------------------------\n",
      "원문 : India recorded their lowest ODI total in New Zealand after getting all out for 92 runs in 30.5 overs in the fourth ODI at Hamilton on Thursday. Seven of India's batsmen were dismissed for single-digit scores, while their number ten batsman Yuzvendra Chahal top-scored with 18*(37). India's previous lowest ODI total in New Zealand was 108.\n",
      "\n",
      "\n",
      "실제 요약 : India get all out for 92, their lowest ODI total in New Zealand\n",
      "추출적 요약(ratio) : India's previous lowest ODI total in New Zealand was 108.\n",
      "추출적 요약(words) : India's previous lowest ODI total in New Zealand was 108.\n",
      "\n",
      "\n",
      "8 -------------------------------------------------------\n",
      "원문 : Weeks after ex-CBI Director Alok Verma told the Department of Personnel and Training to consider him retired, the Home Ministry asked him to join work on the last day of his fixed tenure as Director on Thursday. The ministry directed him to immediately join as DG, Fire Services, the post he was transferred to after his removal as CBI chief.\n",
      "\n",
      "\n",
      "실제 요약 : Govt directs Alok Verma to join work 1 day before his retirement\n",
      "추출적 요약(ratio) : Weeks after ex-CBI Director Alok Verma told the Department of Personnel and Training to consider him retired, the Home Ministry asked him to join work on the last day of his fixed tenure as Director on Thursday.\n",
      "추출적 요약(words) : Weeks after ex-CBI Director Alok Verma told the Department of Personnel and Training to consider him retired, the Home Ministry asked him to join work on the last day of his fixed tenure as Director on Thursday.\n",
      "\n",
      "\n",
      "9 -------------------------------------------------------\n",
      "원문 : Andhra Pradesh CM N Chandrababu Naidu has said, \"When I met then US President Bill Clinton, I addressed him as Mr Clinton, not as 'sir'. (PM Narendra) Modi is my junior in politics...I addressed him as sir 10 times.\" \"I did this...to satisfy his ego in the hope that he will do justice to the state,\" he added.\n",
      "\n",
      "\n",
      "실제 요약 : Called PM Modi 'sir' 10 times to satisfy his ego: Andhra CM\n",
      "추출적 요약(ratio) : Andhra Pradesh CM N Chandrababu Naidu has said, \"When I met then US President Bill Clinton, I addressed him as Mr Clinton, not as 'sir'.\n",
      "추출적 요약(words) : Andhra Pradesh CM N Chandrababu Naidu has said, \"When I met then US President Bill Clinton, I addressed him as Mr Clinton, not as 'sir'.\n",
      "\n",
      "\n",
      "10 -------------------------------------------------------\n",
      "원문 : Congress candidate Shafia Zubair won the Ramgarh Assembly seat in Rajasthan, by defeating BJP's Sukhwant Singh with a margin of 12,228 votes in the bypoll. With this victory, Congress has taken its total to 100 seats in the 200-member assembly. The election to the Ramgarh seat was delayed due to the death of sitting MLA and BSP candidate Laxman Singh.\n",
      "\n",
      "\n",
      "실제 요약 : Cong wins Ramgarh bypoll in Rajasthan, takes total to 100 seats\n",
      "추출적 요약(ratio) : Congress candidate Shafia Zubair won the Ramgarh Assembly seat in Rajasthan, by defeating BJP's Sukhwant Singh with a margin of 12,228 votes in the bypoll.\n",
      "추출적 요약(words) : Congress candidate Shafia Zubair won the Ramgarh Assembly seat in Rajasthan, by defeating BJP's Sukhwant Singh with a margin of 12,228 votes in the bypoll.\n",
      "\n",
      "\n"
     ]
    }
   ],
   "source": [
    "for i in range(10):\n",
    "    print(i+1, \"-------------------------------------------------------\")\n",
    "    print(\"원문 :\", data['text'][i])\n",
    "    print(\"\\n\")\n",
    "    print(\"실제 요약 :\", data['headlines'][i])\n",
    "    print(\"추출적 요약(ratio) :\", summarize(data[\"text\"][i], ratio=0.5))\n",
    "    print(\"추출적 요약(words) :\", summarize(data[\"text\"][i], words=20))\n",
    "    print(\"\\n\")"
   ]
  }
 ],
 "metadata": {
  "kernelspec": {
   "display_name": "Python 3 (ipykernel)",
   "language": "python",
   "name": "python3"
  },
  "language_info": {
   "codemirror_mode": {
    "name": "ipython",
    "version": 3
   },
   "file_extension": ".py",
   "mimetype": "text/x-python",
   "name": "python",
   "nbconvert_exporter": "python",
   "pygments_lexer": "ipython3",
   "version": "3.9.7"
  }
 },
 "nbformat": 4,
 "nbformat_minor": 5
}
