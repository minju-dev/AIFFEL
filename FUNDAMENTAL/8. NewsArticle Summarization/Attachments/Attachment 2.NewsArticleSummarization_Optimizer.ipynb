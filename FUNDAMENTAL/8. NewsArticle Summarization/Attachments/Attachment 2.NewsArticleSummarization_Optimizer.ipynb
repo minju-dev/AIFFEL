{
 "cells": [
  {
   "cell_type": "markdown",
   "id": "98dfc903",
   "metadata": {},
   "source": [
    "## Exploration 8. New Article Summarization 📰"
   ]
  },
  {
   "cell_type": "markdown",
   "id": "e7f210f3",
   "metadata": {},
   "source": [
    "### Checking the degree of model performance improvement by changing optimizer"
   ]
  },
  {
   "cell_type": "markdown",
   "id": "00cc75dd",
   "metadata": {},
   "source": [
    "* optimizer : rmsprop → adam"
   ]
  },
  {
   "cell_type": "markdown",
   "id": "eec43c1f",
   "metadata": {},
   "source": [
    "### 1. Experiment Environment Set-up"
   ]
  },
  {
   "cell_type": "markdown",
   "id": "94361987",
   "metadata": {},
   "source": [
    "### 1.1 Import Libraries"
   ]
  },
  {
   "cell_type": "code",
   "execution_count": 1,
   "id": "fe271bcd",
   "metadata": {},
   "outputs": [
    {
     "name": "stderr",
     "output_type": "stream",
     "text": [
      "[nltk_data] Downloading package stopwords to /aiffel/nltk_data...\n",
      "[nltk_data]   Package stopwords is already up-to-date!\n"
     ]
    }
   ],
   "source": [
    "# 사용하는 라이브러리 불러오기\n",
    "import nltk\n",
    "nltk.download('stopwords')\n",
    "\n",
    "import seaborn as sns\n",
    "import matplotlib.pyplot as plt\n",
    "from random import randint\n",
    "from wordcloud import STOPWORDS, WordCloud\n",
    "\n",
    "import numpy as np\n",
    "import pandas as pd\n",
    "import os\n",
    "import re\n",
    "import matplotlib.pyplot as plt\n",
    "from nltk.corpus import stopwords\n",
    "from bs4 import BeautifulSoup \n",
    "from tensorflow.keras.preprocessing.text import Tokenizer \n",
    "from tensorflow.keras.preprocessing.sequence import pad_sequences\n",
    "import urllib.request\n",
    "import warnings\n",
    "warnings.filterwarnings(\"ignore\", category=UserWarning, module='bs4')"
   ]
  },
  {
   "cell_type": "markdown",
   "id": "429d6f78",
   "metadata": {},
   "source": [
    "### 2. Load and Preprocessing Data"
   ]
  },
  {
   "cell_type": "markdown",
   "id": "6da1e1f8",
   "metadata": {},
   "source": [
    "### 2.1 Load Data"
   ]
  },
  {
   "cell_type": "code",
   "execution_count": 2,
   "id": "5b7fb746",
   "metadata": {},
   "outputs": [],
   "source": [
    "# 데이터 다운로드\n",
    "urllib.request.urlretrieve(\"https://raw.githubusercontent.com/sunnysai12345/News_Summary/master/news_summary_more.csv\", filename=\"news_summary_more.csv\")\n",
    "data = pd.read_csv('news_summary_more.csv', encoding='iso-8859-1')"
   ]
  },
  {
   "cell_type": "code",
   "execution_count": 3,
   "id": "124d5f61",
   "metadata": {},
   "outputs": [
    {
     "data": {
      "text/html": [
       "<div>\n",
       "<style scoped>\n",
       "    .dataframe tbody tr th:only-of-type {\n",
       "        vertical-align: middle;\n",
       "    }\n",
       "\n",
       "    .dataframe tbody tr th {\n",
       "        vertical-align: top;\n",
       "    }\n",
       "\n",
       "    .dataframe thead th {\n",
       "        text-align: right;\n",
       "    }\n",
       "</style>\n",
       "<table border=\"1\" class=\"dataframe\">\n",
       "  <thead>\n",
       "    <tr style=\"text-align: right;\">\n",
       "      <th></th>\n",
       "      <th>headlines</th>\n",
       "      <th>text</th>\n",
       "    </tr>\n",
       "  </thead>\n",
       "  <tbody>\n",
       "    <tr>\n",
       "      <th>94091</th>\n",
       "      <td>India must declare Balochistan independent: Swamy</td>\n",
       "      <td>In response to Pakistan's death sentence to Ku...</td>\n",
       "    </tr>\n",
       "    <tr>\n",
       "      <th>55639</th>\n",
       "      <td>French teen walks blindfolded on slackline, se...</td>\n",
       "      <td>French athlete Pablo Signoret has set the Guin...</td>\n",
       "    </tr>\n",
       "    <tr>\n",
       "      <th>34921</th>\n",
       "      <td>Future Group's fbb is back with World Shorts D...</td>\n",
       "      <td>Future Group's fbb, is back with World Shorts ...</td>\n",
       "    </tr>\n",
       "    <tr>\n",
       "      <th>51721</th>\n",
       "      <td>Judge settles case against Uber, offers 16L dr...</td>\n",
       "      <td>A US judge has approved a $7.75-million deal, ...</td>\n",
       "    </tr>\n",
       "    <tr>\n",
       "      <th>30213</th>\n",
       "      <td>Dad taught hate is prison: Rahul on Rajiv's de...</td>\n",
       "      <td>On the day of his father and former Prime Mini...</td>\n",
       "    </tr>\n",
       "    <tr>\n",
       "      <th>92488</th>\n",
       "      <td>Smart card startup with Ã¢ÂÂ¹58 crore in pre-...</td>\n",
       "      <td>Smart debit and credit card startup Plastc, wh...</td>\n",
       "    </tr>\n",
       "    <tr>\n",
       "      <th>34245</th>\n",
       "      <td>IÃ¢ÂÂd rather have a wedding at home than an...</td>\n",
       "      <td>Talking about what she looks forward to at her...</td>\n",
       "    </tr>\n",
       "    <tr>\n",
       "      <th>73655</th>\n",
       "      <td>BCCI a male chauvinist organisation: SC-appoin...</td>\n",
       "      <td>Former Indian women's cricket team captain, Di...</td>\n",
       "    </tr>\n",
       "    <tr>\n",
       "      <th>8075</th>\n",
       "      <td>7 Indian IL&amp;FS employees held hostage in Ethio...</td>\n",
       "      <td>Seven Indian workers of Infrastructure Leasing...</td>\n",
       "    </tr>\n",
       "    <tr>\n",
       "      <th>63504</th>\n",
       "      <td>Centre owns land 9 times the size of Delhi</td>\n",
       "      <td>The Centre has revealed that it owns around 13...</td>\n",
       "    </tr>\n",
       "  </tbody>\n",
       "</table>\n",
       "</div>"
      ],
      "text/plain": [
       "                                               headlines  \\\n",
       "94091  India must declare Balochistan independent: Swamy   \n",
       "55639  French teen walks blindfolded on slackline, se...   \n",
       "34921  Future Group's fbb is back with World Shorts D...   \n",
       "51721  Judge settles case against Uber, offers 16L dr...   \n",
       "30213  Dad taught hate is prison: Rahul on Rajiv's de...   \n",
       "92488  Smart card startup with Ã¢ÂÂ¹58 crore in pre-...   \n",
       "34245  IÃ¢ÂÂd rather have a wedding at home than an...   \n",
       "73655  BCCI a male chauvinist organisation: SC-appoin...   \n",
       "8075   7 Indian IL&FS employees held hostage in Ethio...   \n",
       "63504         Centre owns land 9 times the size of Delhi   \n",
       "\n",
       "                                                    text  \n",
       "94091  In response to Pakistan's death sentence to Ku...  \n",
       "55639  French athlete Pablo Signoret has set the Guin...  \n",
       "34921  Future Group's fbb, is back with World Shorts ...  \n",
       "51721  A US judge has approved a $7.75-million deal, ...  \n",
       "30213  On the day of his father and former Prime Mini...  \n",
       "92488  Smart debit and credit card startup Plastc, wh...  \n",
       "34245  Talking about what she looks forward to at her...  \n",
       "73655  Former Indian women's cricket team captain, Di...  \n",
       "8075   Seven Indian workers of Infrastructure Leasing...  \n",
       "63504  The Centre has revealed that it owns around 13...  "
      ]
     },
     "execution_count": 3,
     "metadata": {},
     "output_type": "execute_result"
    }
   ],
   "source": [
    "data.sample(10)"
   ]
  },
  {
   "cell_type": "markdown",
   "id": "cdc5208d",
   "metadata": {},
   "source": [
    "* 이 데이터는 기사의 본문에 해당되는 text와 headlines 두 가지 열로 구성되어져 있다. \n",
    "* 추상적 요약 : text를 본문, headlines를 이미 요약된 데이터로 삼아서 모델을 학습\n",
    "* 추출적 요약 : 오직 text열만을 사용"
   ]
  },
  {
   "cell_type": "markdown",
   "id": "f9348201",
   "metadata": {},
   "source": [
    "### 2.2 Preprocessing Data"
   ]
  },
  {
   "cell_type": "markdown",
   "id": "dee674e3",
   "metadata": {},
   "source": [
    "### 2.2.1 Dropping Duplicate Samples and Null Values"
   ]
  },
  {
   "cell_type": "code",
   "execution_count": 4,
   "id": "4ded5e7e",
   "metadata": {},
   "outputs": [
    {
     "name": "stdout",
     "output_type": "stream",
     "text": [
      "headlines 열에서 중복을 배제한 유일한 샘플의 수 : 98280\n",
      "text 열에서 중복을 배제한 유일한 샘플의 수 : 98360\n"
     ]
    }
   ],
   "source": [
    "print('headlines 열에서 중복을 배제한 유일한 샘플의 수 :', data['headlines'].nunique())\n",
    "print('text 열에서 중복을 배제한 유일한 샘플의 수 :', data['text'].nunique())"
   ]
  },
  {
   "cell_type": "code",
   "execution_count": 5,
   "id": "e12ee873",
   "metadata": {},
   "outputs": [
    {
     "name": "stdout",
     "output_type": "stream",
     "text": [
      "전체 샘플수 : 98280\n"
     ]
    }
   ],
   "source": [
    "# inplace=True 를 설정하면 DataFrame 타입 값을 return 하지 않고 data 내부를 직접적으로 바꿉니다\n",
    "data.drop_duplicates(subset = ['headlines'], inplace=True)\n",
    "print('전체 샘플수 :', (len(data)))"
   ]
  },
  {
   "cell_type": "code",
   "execution_count": 6,
   "id": "f99e5106",
   "metadata": {},
   "outputs": [
    {
     "name": "stdout",
     "output_type": "stream",
     "text": [
      "headlines    0\n",
      "text         0\n",
      "dtype: int64\n"
     ]
    }
   ],
   "source": [
    "print(data.isnull().sum())"
   ]
  },
  {
   "cell_type": "markdown",
   "id": "5d0b4c92",
   "metadata": {},
   "source": [
    "### 2.2.2 Text Normalization and Remove Stopword"
   ]
  },
  {
   "cell_type": "code",
   "execution_count": 7,
   "id": "bc165969",
   "metadata": {},
   "outputs": [
    {
     "name": "stdout",
     "output_type": "stream",
     "text": [
      "정규화 사전의 수:  120\n"
     ]
    }
   ],
   "source": [
    "contractions = {\"ain't\": \"is not\", \"aren't\": \"are not\",\"can't\": \"cannot\", \"'cause\": \"because\", \"could've\": \"could have\", \"couldn't\": \"could not\",\n",
    "                           \"didn't\": \"did not\",  \"doesn't\": \"does not\", \"don't\": \"do not\", \"hadn't\": \"had not\", \"hasn't\": \"has not\", \"haven't\": \"have not\",\n",
    "                           \"he'd\": \"he would\",\"he'll\": \"he will\", \"he's\": \"he is\", \"how'd\": \"how did\", \"how'd'y\": \"how do you\", \"how'll\": \"how will\", \"how's\": \"how is\",\n",
    "                           \"I'd\": \"I would\", \"I'd've\": \"I would have\", \"I'll\": \"I will\", \"I'll've\": \"I will have\",\"I'm\": \"I am\", \"I've\": \"I have\", \"i'd\": \"i would\",\n",
    "                           \"i'd've\": \"i would have\", \"i'll\": \"i will\",  \"i'll've\": \"i will have\",\"i'm\": \"i am\", \"i've\": \"i have\", \"isn't\": \"is not\", \"it'd\": \"it would\",\n",
    "                           \"it'd've\": \"it would have\", \"it'll\": \"it will\", \"it'll've\": \"it will have\",\"it's\": \"it is\", \"let's\": \"let us\", \"ma'am\": \"madam\",\n",
    "                           \"mayn't\": \"may not\", \"might've\": \"might have\",\"mightn't\": \"might not\",\"mightn't've\": \"might not have\", \"must've\": \"must have\",\n",
    "                           \"mustn't\": \"must not\", \"mustn't've\": \"must not have\", \"needn't\": \"need not\", \"needn't've\": \"need not have\",\"o'clock\": \"of the clock\",\n",
    "                           \"oughtn't\": \"ought not\", \"oughtn't've\": \"ought not have\", \"shan't\": \"shall not\", \"sha'n't\": \"shall not\", \"shan't've\": \"shall not have\",\n",
    "                           \"she'd\": \"she would\", \"she'd've\": \"she would have\", \"she'll\": \"she will\", \"she'll've\": \"she will have\", \"she's\": \"she is\",\n",
    "                           \"should've\": \"should have\", \"shouldn't\": \"should not\", \"shouldn't've\": \"should not have\", \"so've\": \"so have\",\"so's\": \"so as\",\n",
    "                           \"this's\": \"this is\",\"that'd\": \"that would\", \"that'd've\": \"that would have\", \"that's\": \"that is\", \"there'd\": \"there would\",\n",
    "                           \"there'd've\": \"there would have\", \"there's\": \"there is\", \"here's\": \"here is\",\"they'd\": \"they would\", \"they'd've\": \"they would have\",\n",
    "                           \"they'll\": \"they will\", \"they'll've\": \"they will have\", \"they're\": \"they are\", \"they've\": \"they have\", \"to've\": \"to have\",\n",
    "                           \"wasn't\": \"was not\", \"we'd\": \"we would\", \"we'd've\": \"we would have\", \"we'll\": \"we will\", \"we'll've\": \"we will have\", \"we're\": \"we are\",\n",
    "                           \"we've\": \"we have\", \"weren't\": \"were not\", \"what'll\": \"what will\", \"what'll've\": \"what will have\", \"what're\": \"what are\",\n",
    "                           \"what's\": \"what is\", \"what've\": \"what have\", \"when's\": \"when is\", \"when've\": \"when have\", \"where'd\": \"where did\", \"where's\": \"where is\",\n",
    "                           \"where've\": \"where have\", \"who'll\": \"who will\", \"who'll've\": \"who will have\", \"who's\": \"who is\", \"who've\": \"who have\",\n",
    "                           \"why's\": \"why is\", \"why've\": \"why have\", \"will've\": \"will have\", \"won't\": \"will not\", \"won't've\": \"will not have\",\n",
    "                           \"would've\": \"would have\", \"wouldn't\": \"would not\", \"wouldn't've\": \"would not have\", \"y'all\": \"you all\",\n",
    "                           \"y'all'd\": \"you all would\",\"y'all'd've\": \"you all would have\",\"y'all're\": \"you all are\",\"y'all've\": \"you all have\",\n",
    "                           \"you'd\": \"you would\", \"you'd've\": \"you would have\", \"you'll\": \"you will\", \"you'll've\": \"you will have\",\n",
    "                           \"you're\": \"you are\", \"you've\": \"you have\"}\n",
    "\n",
    "print(\"정규화 사전의 수: \", len(contractions))"
   ]
  },
  {
   "cell_type": "code",
   "execution_count": 8,
   "id": "c78f976a",
   "metadata": {},
   "outputs": [
    {
     "name": "stdout",
     "output_type": "stream",
     "text": [
      "불용어 개수 : 179\n",
      "['i', 'me', 'my', 'myself', 'we', 'our', 'ours', 'ourselves', 'you', \"you're\", \"you've\", \"you'll\", \"you'd\", 'your', 'yours', 'yourself', 'yourselves', 'he', 'him', 'his', 'himself', 'she', \"she's\", 'her', 'hers', 'herself', 'it', \"it's\", 'its', 'itself', 'they', 'them', 'their', 'theirs', 'themselves', 'what', 'which', 'who', 'whom', 'this', 'that', \"that'll\", 'these', 'those', 'am', 'is', 'are', 'was', 'were', 'be', 'been', 'being', 'have', 'has', 'had', 'having', 'do', 'does', 'did', 'doing', 'a', 'an', 'the', 'and', 'but', 'if', 'or', 'because', 'as', 'until', 'while', 'of', 'at', 'by', 'for', 'with', 'about', 'against', 'between', 'into', 'through', 'during', 'before', 'after', 'above', 'below', 'to', 'from', 'up', 'down', 'in', 'out', 'on', 'off', 'over', 'under', 'again', 'further', 'then', 'once', 'here', 'there', 'when', 'where', 'why', 'how', 'all', 'any', 'both', 'each', 'few', 'more', 'most', 'other', 'some', 'such', 'no', 'nor', 'not', 'only', 'own', 'same', 'so', 'than', 'too', 'very', 's', 't', 'can', 'will', 'just', 'don', \"don't\", 'should', \"should've\", 'now', 'd', 'll', 'm', 'o', 're', 've', 'y', 'ain', 'aren', \"aren't\", 'couldn', \"couldn't\", 'didn', \"didn't\", 'doesn', \"doesn't\", 'hadn', \"hadn't\", 'hasn', \"hasn't\", 'haven', \"haven't\", 'isn', \"isn't\", 'ma', 'mightn', \"mightn't\", 'mustn', \"mustn't\", 'needn', \"needn't\", 'shan', \"shan't\", 'shouldn', \"shouldn't\", 'wasn', \"wasn't\", 'weren', \"weren't\", 'won', \"won't\", 'wouldn', \"wouldn't\"]\n"
     ]
    }
   ],
   "source": [
    "print('불용어 개수 :', len(stopwords.words('english') ))\n",
    "print(stopwords.words('english'))"
   ]
  },
  {
   "cell_type": "code",
   "execution_count": 9,
   "id": "409a8164",
   "metadata": {},
   "outputs": [],
   "source": [
    "# 데이터 전처리 함수\n",
    "def preprocess_sentence(sentence, remove_stopwords=True):\n",
    "    sentence = sentence.lower() # 텍스트 소문자화\n",
    "    sentence = BeautifulSoup(sentence, \"lxml\").text # <br />, <a href = ...> 등의 html 태그 제거\n",
    "    sentence = re.sub(r'\\([^)]*\\)', '', sentence) # 괄호로 닫힌 문자열 (...) 제거 Ex) my husband (and myself!) for => my husband for\n",
    "    sentence = re.sub('\"','', sentence) # 쌍따옴표 \" 제거\n",
    "    sentence = ' '.join([contractions[t] if t in contractions else t for t in sentence.split(\" \")]) # 약어 정규화\n",
    "    sentence = re.sub(r\"'s\\b\",\"\", sentence) # 소유격 제거. Ex) roland's -> roland\n",
    "    sentence = re.sub(\"[^a-zA-Z]\", \" \", sentence) # 영어 외 문자(숫자, 특수문자 등) 공백으로 변환\n",
    "    sentence = re.sub('[m]{2,}', 'mm', sentence) # m이 3개 이상이면 2개로 변경. Ex) ummmmmmm yeah -> umm yeah\n",
    "    \n",
    "    # 불용어 제거 (Text)\n",
    "    if remove_stopwords:\n",
    "        tokens = ' '.join(word for word in sentence.split() if not word in stopwords.words('english') if len(word) > 1)\n",
    "    # 불용어 미제거 (headlines)\n",
    "    else:\n",
    "        tokens = ' '.join(word for word in sentence.split() if len(word) > 1)\n",
    "    return tokens"
   ]
  },
  {
   "cell_type": "code",
   "execution_count": 10,
   "id": "d9dc945b",
   "metadata": {},
   "outputs": [
    {
     "name": "stdout",
     "output_type": "stream",
     "text": [
      "text 전처리 후 결과:  ['saurav kant alumnus upgrad iiit pg program machine learning artificial intelligence sr systems engineer infosys almost years work experience program upgrad degree career support helped transition data scientist tech mahindra salary hike upgrad online power learning powered lakh careers', 'kunal shah credit card bill payment platform cred gave users chance win free food swiggy one year pranav kaushik delhi techie bagged reward spending cred coins users get one cred coin per rupee bill paid used avail rewards brands like ixigo bookmyshow ubereats cult fit', 'new zealand defeated india wickets fourth odi hamilton thursday win first match five match odi series india lost international match rohit sharma captaincy consecutive victories dating back march match witnessed india getting seventh lowest total odi cricket history', 'aegon life iterm insurance plan customers enjoy tax benefits premiums paid save taxes plan provides life cover age years also customers options insure critical illnesses disability accidental death benefit rider life cover age years', 'speaking sexual harassment allegations rajkumar hirani sonam kapoor said known hirani many years true metoo movement get derailed metoo movement always believe woman case need reserve judgment added hirani accused assistant worked sanju']\n"
     ]
    }
   ],
   "source": [
    "clean_text = []\n",
    "# 전체 Text 데이터에 대한 전처리 : 10분 이상 시간이 걸릴 수 있습니다. \n",
    "for s in data['text']:\n",
    "    clean_text.append(preprocess_sentence(s))\n",
    "\n",
    "# 전처리 후 출력\n",
    "print(\"text 전처리 후 결과: \", clean_text[:5])"
   ]
  },
  {
   "cell_type": "code",
   "execution_count": 11,
   "id": "8acbddd3",
   "metadata": {},
   "outputs": [
    {
     "name": "stdout",
     "output_type": "stream",
     "text": [
      "headlines 전처리 후 결과:  ['upgrad learner switches to career in ml al with salary hike', 'delhi techie wins free food from swiggy for one year on cred', 'new zealand end rohit sharma led india match winning streak', 'aegon life iterm insurance plan helps customers save tax', 'have known hirani for yrs what if metoo claims are not true sonam']\n"
     ]
    }
   ],
   "source": [
    "clean_headlines = []\n",
    "# 전체 headlines 데이터에 대한 전처리 : 5분 이상 시간이 걸릴 수 있습니다. \n",
    "for s in data['headlines']:\n",
    "    clean_headlines.append(preprocess_sentence(s, False))\n",
    "\n",
    "print(\"headlines 전처리 후 결과: \", clean_headlines[:5])"
   ]
  },
  {
   "cell_type": "code",
   "execution_count": 12,
   "id": "fe680615",
   "metadata": {},
   "outputs": [],
   "source": [
    "# 텍스트 정제의 과정을 거친 후에는 다시 한번 빈(empty) 샘플이 생겼는지 확인\n",
    "# 정제 전에는 데이터가 존재했지만, 정제 과정에서 문장의 모든 단어가 사라지는 경우가 있을 수 있다. \n",
    "data['text'] = clean_text\n",
    "data['headlines'] = clean_headlines\n",
    "\n",
    "# 빈 값을 Null 값으로 변환\n",
    "data.replace('', np.nan, inplace=True)"
   ]
  },
  {
   "cell_type": "code",
   "execution_count": 13,
   "id": "2564ebc6",
   "metadata": {},
   "outputs": [
    {
     "data": {
      "text/plain": [
       "headlines    0\n",
       "text         0\n",
       "dtype: int64"
      ]
     },
     "execution_count": 13,
     "metadata": {},
     "output_type": "execute_result"
    }
   ],
   "source": [
    "data.isnull().sum()"
   ]
  },
  {
   "cell_type": "code",
   "execution_count": 14,
   "id": "f5756cdd",
   "metadata": {},
   "outputs": [
    {
     "name": "stdout",
     "output_type": "stream",
     "text": [
      "전체 샘플수 : 98280\n"
     ]
    }
   ],
   "source": [
    "# 전체 샘플수 확인\n",
    "print('전체 샘플수 :', (len(data)))"
   ]
  },
  {
   "cell_type": "markdown",
   "id": "a22d18ee",
   "metadata": {},
   "source": [
    "### 2.2.3 Dividing Dataset into Train & Test"
   ]
  },
  {
   "cell_type": "markdown",
   "id": "a176ed63",
   "metadata": {},
   "source": [
    "### A. Set the maximum sample length"
   ]
  },
  {
   "cell_type": "code",
   "execution_count": 15,
   "id": "7c26a27d",
   "metadata": {},
   "outputs": [
    {
     "name": "stdout",
     "output_type": "stream",
     "text": [
      "텍스트의 최소 길이 : 1\n",
      "텍스트의 최대 길이 : 60\n",
      "텍스트의 평균 길이 : 35.10031542531542\n",
      "헤드라인의 최소 길이 : 1\n",
      "헤드라인의 최대 길이 : 16\n",
      "헤드라인의 평균 길이 : 9.2995115995116\n"
     ]
    },
    {
     "data": {
      "image/png": "[encoded data removed]",
      "text/plain": [
       "<Figure size 432x288 with 2 Axes>"
      ]
     },
     "metadata": {
      "needs_background": "light"
     },
     "output_type": "display_data"
    },
    {
     "data": {
      "image/png": "[encoded data removed]",
      "text/plain": [
       "<Figure size 432x288 with 1 Axes>"
      ]
     },
     "metadata": {
      "needs_background": "light"
     },
     "output_type": "display_data"
    },
    {
     "data": {
      "image/png": "[encoded data removed]",
      "text/plain": [
       "<Figure size 432x288 with 1 Axes>"
      ]
     },
     "metadata": {
      "needs_background": "light"
     },
     "output_type": "display_data"
    }
   ],
   "source": [
    "# 길이 분포 출력\n",
    "import matplotlib.pyplot as plt\n",
    "\n",
    "text_len = [len(s.split()) for s in data['text']]\n",
    "headlines_len = [len(s.split()) for s in data['headlines']]\n",
    "\n",
    "print('텍스트의 최소 길이 : {}'.format(np.min(text_len)))\n",
    "print('텍스트의 최대 길이 : {}'.format(np.max(text_len)))\n",
    "print('텍스트의 평균 길이 : {}'.format(np.mean(text_len)))\n",
    "print('헤드라인의 최소 길이 : {}'.format(np.min(headlines_len)))\n",
    "print('헤드라인의 최대 길이 : {}'.format(np.max(headlines_len)))\n",
    "print('헤드라인의 평균 길이 : {}'.format(np.mean(headlines_len)))\n",
    "\n",
    "plt.subplot(1,2,1)\n",
    "plt.boxplot(text_len)\n",
    "plt.title('text')\n",
    "plt.subplot(1,2,2)\n",
    "plt.boxplot(headlines_len)\n",
    "plt.title('headlines')\n",
    "plt.tight_layout()\n",
    "plt.show()\n",
    "\n",
    "plt.title('text')\n",
    "plt.hist(text_len, bins = 40)\n",
    "plt.xlabel('length of samples')\n",
    "plt.ylabel('number of samples')\n",
    "plt.show()\n",
    "\n",
    "plt.title('headlines')\n",
    "plt.hist(headlines_len, bins = 40)\n",
    "plt.xlabel('length of samples')\n",
    "plt.ylabel('number of samples')\n",
    "plt.show()"
   ]
  },
  {
   "cell_type": "markdown",
   "id": "e4c46f86",
   "metadata": {},
   "source": [
    "* text의 경우 최소 길이가 1, 최대 길이가 60으로 그 차이가 좀 있다. 하지만 평균 길이는 35로 시각화된 그래프로 봤을 때는 대체적으로는 30~40 내외의 길이를 가진다는 것을 확인할 수 있다.\n",
    "\n",
    "* headlines의 경우 최소 길이가 1, 최대 길이가 16, 그리고 평균 길이가 9로 text에 비해 상대적으로 길이가 매우 짧다. 그래프로 봤을 때에도 대체적으로 8~10의 길이를 가지고 있다."
   ]
  },
  {
   "cell_type": "code",
   "execution_count": 16,
   "id": "c7cb96e5",
   "metadata": {},
   "outputs": [],
   "source": [
    "# 통계적으로 확인하기 위한 함수\n",
    "# 통계로 확인해 객관적으로 길이 결정\n",
    "def below_threshold_len(max_len, nested_list):\n",
    "    cnt = 0\n",
    "    for s in nested_list:\n",
    "        if(len(s.split()) <= max_len):\n",
    "            cnt = cnt + 1\n",
    "    print('전체 샘플 중 길이가 %s 이하인 샘플의 비율: %s'%(max_len, (cnt / len(nested_list))))"
   ]
  },
  {
   "cell_type": "code",
   "execution_count": 17,
   "id": "452d7fc8",
   "metadata": {},
   "outputs": [
    {
     "name": "stdout",
     "output_type": "stream",
     "text": [
      "전체 샘플 중 길이가 38 이하인 샘플의 비율: 0.8163105413105413\n",
      "전체 샘플 중 길이가 11 이하인 샘플의 비율: 0.944993894993895\n"
     ]
    }
   ],
   "source": [
    "# 각각 38과 11로 정했는데 이 길이를 선택했을 때, 얼마나 많은 샘플들을 자르지 않고 포함할 수 있는지 통계로 확인\n",
    "text_max_len = 38\n",
    "headlines_max_len = 11\n",
    "\n",
    "below_threshold_len(text_max_len, data['text'])\n",
    "below_threshold_len(headlines_max_len,  data['headlines'])"
   ]
  },
  {
   "cell_type": "markdown",
   "id": "c8c6e67e",
   "metadata": {},
   "source": [
    "* Box plot으로 확인했을 때 3Q지점에 해당하는 38(text), 11(headlines)로 지정한다.\n",
    "* 38과 11로 패딩을 하게되면 text는 약 19%, headlines는 약 6% 정도의 샘플들 내용이 망가지게 된다.\n",
    "* 정해진 길이에 맞춰 자르는 것이 아니라, 정해진 길이보다 길면 제외하는 방법으로 데이터를 정제한다."
   ]
  },
  {
   "cell_type": "code",
   "execution_count": 18,
   "id": "855f9d52",
   "metadata": {},
   "outputs": [
    {
     "name": "stdout",
     "output_type": "stream",
     "text": [
      "전체 샘플수 : 75692\n"
     ]
    }
   ],
   "source": [
    "data = data[data['text'].apply(lambda x: len(x.split()) <= text_max_len)]\n",
    "data = data[data['headlines'].apply(lambda x: len(x.split()) <= headlines_max_len)]\n",
    "print('전체 샘플수 :', (len(data)))"
   ]
  },
  {
   "cell_type": "markdown",
   "id": "a39ee226",
   "metadata": {},
   "source": [
    "### B. Add sostok and eostok"
   ]
  },
  {
   "cell_type": "code",
   "execution_count": 19,
   "id": "b2a26004",
   "metadata": {},
   "outputs": [
    {
     "data": {
      "text/html": [
       "<div>\n",
       "<style scoped>\n",
       "    .dataframe tbody tr th:only-of-type {\n",
       "        vertical-align: middle;\n",
       "    }\n",
       "\n",
       "    .dataframe tbody tr th {\n",
       "        vertical-align: top;\n",
       "    }\n",
       "\n",
       "    .dataframe thead th {\n",
       "        text-align: right;\n",
       "    }\n",
       "</style>\n",
       "<table border=\"1\" class=\"dataframe\">\n",
       "  <thead>\n",
       "    <tr style=\"text-align: right;\">\n",
       "      <th></th>\n",
       "      <th>headlines</th>\n",
       "      <th>text</th>\n",
       "      <th>decoder_input</th>\n",
       "      <th>decoder_target</th>\n",
       "    </tr>\n",
       "  </thead>\n",
       "  <tbody>\n",
       "    <tr>\n",
       "      <th>2</th>\n",
       "      <td>new zealand end rohit sharma led india match w...</td>\n",
       "      <td>new zealand defeated india wickets fourth odi ...</td>\n",
       "      <td>sostoken new zealand end rohit sharma led indi...</td>\n",
       "      <td>new zealand end rohit sharma led india match w...</td>\n",
       "    </tr>\n",
       "    <tr>\n",
       "      <th>3</th>\n",
       "      <td>aegon life iterm insurance plan helps customer...</td>\n",
       "      <td>aegon life iterm insurance plan customers enjo...</td>\n",
       "      <td>sostoken aegon life iterm insurance plan helps...</td>\n",
       "      <td>aegon life iterm insurance plan helps customer...</td>\n",
       "    </tr>\n",
       "    <tr>\n",
       "      <th>5</th>\n",
       "      <td>rahat fateh ali khan denies getting notice for...</td>\n",
       "      <td>pakistani singer rahat fateh ali khan denied r...</td>\n",
       "      <td>sostoken rahat fateh ali khan denies getting n...</td>\n",
       "      <td>rahat fateh ali khan denies getting notice for...</td>\n",
       "    </tr>\n",
       "    <tr>\n",
       "      <th>7</th>\n",
       "      <td>govt directs alok verma to join work day befor...</td>\n",
       "      <td>weeks ex cbi director alok verma told departme...</td>\n",
       "      <td>sostoken govt directs alok verma to join work ...</td>\n",
       "      <td>govt directs alok verma to join work day befor...</td>\n",
       "    </tr>\n",
       "    <tr>\n",
       "      <th>8</th>\n",
       "      <td>called pm modi sir times to satisfy his ego an...</td>\n",
       "      <td>andhra pradesh cm chandrababu naidu said met u...</td>\n",
       "      <td>sostoken called pm modi sir times to satisfy h...</td>\n",
       "      <td>called pm modi sir times to satisfy his ego an...</td>\n",
       "    </tr>\n",
       "  </tbody>\n",
       "</table>\n",
       "</div>"
      ],
      "text/plain": [
       "                                           headlines  \\\n",
       "2  new zealand end rohit sharma led india match w...   \n",
       "3  aegon life iterm insurance plan helps customer...   \n",
       "5  rahat fateh ali khan denies getting notice for...   \n",
       "7  govt directs alok verma to join work day befor...   \n",
       "8  called pm modi sir times to satisfy his ego an...   \n",
       "\n",
       "                                                text  \\\n",
       "2  new zealand defeated india wickets fourth odi ...   \n",
       "3  aegon life iterm insurance plan customers enjo...   \n",
       "5  pakistani singer rahat fateh ali khan denied r...   \n",
       "7  weeks ex cbi director alok verma told departme...   \n",
       "8  andhra pradesh cm chandrababu naidu said met u...   \n",
       "\n",
       "                                       decoder_input  \\\n",
       "2  sostoken new zealand end rohit sharma led indi...   \n",
       "3  sostoken aegon life iterm insurance plan helps...   \n",
       "5  sostoken rahat fateh ali khan denies getting n...   \n",
       "7  sostoken govt directs alok verma to join work ...   \n",
       "8  sostoken called pm modi sir times to satisfy h...   \n",
       "\n",
       "                                      decoder_target  \n",
       "2  new zealand end rohit sharma led india match w...  \n",
       "3  aegon life iterm insurance plan helps customer...  \n",
       "5  rahat fateh ali khan denies getting notice for...  \n",
       "7  govt directs alok verma to join work day befor...  \n",
       "8  called pm modi sir times to satisfy his ego an...  "
      ]
     },
     "execution_count": 19,
     "metadata": {},
     "output_type": "execute_result"
    }
   ],
   "source": [
    "# 요약 데이터에는 시작 토큰과 종료 토큰을 추가한다.\n",
    "data['decoder_input'] = data['headlines'].apply(lambda x : 'sostoken '+ x)\n",
    "data['decoder_target'] = data['headlines'].apply(lambda x : x + ' eostoken')\n",
    "data.head()"
   ]
  },
  {
   "cell_type": "markdown",
   "id": "5387ecf0",
   "metadata": {},
   "source": [
    "* 'decoder_input'의 앞에 'sostoken' 을 추가, 'decoder_target'의 끝에는 'eostoken'을 추가"
   ]
  },
  {
   "cell_type": "markdown",
   "id": "8a86e156",
   "metadata": {},
   "source": [
    "### C.  Data suffle and split"
   ]
  },
  {
   "cell_type": "code",
   "execution_count": 20,
   "id": "850b5530",
   "metadata": {},
   "outputs": [],
   "source": [
    "encoder_input = np.array(data['text']) # 인코더의 입력\n",
    "decoder_input = np.array(data['decoder_input']) # 디코더의 입력\n",
    "decoder_target = np.array(data['decoder_target']) # 디코더의 레이블"
   ]
  },
  {
   "cell_type": "code",
   "execution_count": 21,
   "id": "f4cadbd8",
   "metadata": {},
   "outputs": [
    {
     "name": "stdout",
     "output_type": "stream",
     "text": [
      "[ 6622 71728 71214 ... 11018 45948 10757]\n"
     ]
    }
   ],
   "source": [
    "indices = np.arange(encoder_input.shape[0])\n",
    "np.random.shuffle(indices)\n",
    "print(indices)"
   ]
  },
  {
   "cell_type": "code",
   "execution_count": 22,
   "id": "0352fe6c",
   "metadata": {},
   "outputs": [],
   "source": [
    "encoder_input = encoder_input[indices]\n",
    "decoder_input = decoder_input[indices]\n",
    "decoder_target = decoder_target[indices]"
   ]
  },
  {
   "cell_type": "code",
   "execution_count": 23,
   "id": "a69c4188",
   "metadata": {},
   "outputs": [
    {
     "name": "stdout",
     "output_type": "stream",
     "text": [
      "테스트 데이터의 수 : 15138\n"
     ]
    }
   ],
   "source": [
    "n_of_val = int(len(encoder_input)*0.2)\n",
    "print('테스트 데이터의 수 :', n_of_val)"
   ]
  },
  {
   "cell_type": "code",
   "execution_count": 24,
   "id": "adfde6be",
   "metadata": {},
   "outputs": [
    {
     "name": "stdout",
     "output_type": "stream",
     "text": [
      "훈련 데이터의 개수 : 60554\n",
      "훈련 레이블의 개수 : 60554\n",
      "테스트 데이터의 개수 : 15138\n",
      "테스트 레이블의 개수 : 15138\n"
     ]
    }
   ],
   "source": [
    "encoder_input_train = encoder_input[:-n_of_val]\n",
    "decoder_input_train = decoder_input[:-n_of_val]\n",
    "decoder_target_train = decoder_target[:-n_of_val]\n",
    "\n",
    "encoder_input_test = encoder_input[-n_of_val:]\n",
    "decoder_input_test = decoder_input[-n_of_val:]   \n",
    "decoder_target_test = decoder_target[-n_of_val:]\n",
    "\n",
    "print('훈련 데이터의 개수 :', len(encoder_input_train))\n",
    "print('훈련 레이블의 개수 :', len(decoder_input_train))\n",
    "print('테스트 데이터의 개수 :', len(encoder_input_test))\n",
    "print('테스트 레이블의 개수 :', len(decoder_input_test))"
   ]
  },
  {
   "cell_type": "markdown",
   "id": "baaa41b4",
   "metadata": {},
   "source": [
    "### 2.2.4 Creating Vocabulary and Integer Encoding"
   ]
  },
  {
   "cell_type": "markdown",
   "id": "0d5b83b4",
   "metadata": {},
   "source": [
    "### A. Encoder Train Data"
   ]
  },
  {
   "cell_type": "code",
   "execution_count": 25,
   "id": "6efed372",
   "metadata": {},
   "outputs": [],
   "source": [
    "src_tokenizer = Tokenizer() # 토크나이저 정의\n",
    "src_tokenizer.fit_on_texts(encoder_input_train) # 입력된 데이터로부터 단어 집합 생성"
   ]
  },
  {
   "cell_type": "code",
   "execution_count": 26,
   "id": "f6d85430",
   "metadata": {},
   "outputs": [
    {
     "name": "stdout",
     "output_type": "stream",
     "text": [
      "단어 집합(vocabulary)의 크기 : 60324\n",
      "등장 빈도가 6번 이하인 희귀 단어의 수: 41294\n",
      "단어 집합에서 희귀 단어를 제외시킬 경우의 단어 집합의 크기 19030\n",
      "단어 집합에서 희귀 단어의 비율: 68.45368344274252\n",
      "전체 등장 빈도에서 희귀 단어 등장 빈도 비율: 4.106579864241267\n"
     ]
    }
   ],
   "source": [
    "threshold = 7\n",
    "total_cnt = len(src_tokenizer.word_index) # 단어의 수\n",
    "rare_cnt = 0 # 등장 빈도수가 threshold보다 작은 단어의 개수를 카운트\n",
    "total_freq = 0 # 훈련 데이터의 전체 단어 빈도수 총 합\n",
    "rare_freq = 0 # 등장 빈도수가 threshold보다 작은 단어의 등장 빈도수의 총 합\n",
    "\n",
    "# 단어와 빈도수의 쌍(pair)을 key와 value로 받는다.\n",
    "for key, value in src_tokenizer.word_counts.items():\n",
    "    total_freq = total_freq + value\n",
    "\n",
    "    # 단어의 등장 빈도수가 threshold보다 작으면\n",
    "    if(value < threshold):\n",
    "        rare_cnt = rare_cnt + 1\n",
    "        rare_freq = rare_freq + value\n",
    "\n",
    "print('단어 집합(vocabulary)의 크기 :', total_cnt)\n",
    "print('등장 빈도가 %s번 이하인 희귀 단어의 수: %s'%(threshold - 1, rare_cnt))\n",
    "print('단어 집합에서 희귀 단어를 제외시킬 경우의 단어 집합의 크기 %s'%(total_cnt - rare_cnt))\n",
    "print(\"단어 집합에서 희귀 단어의 비율:\", (rare_cnt / total_cnt)*100)\n",
    "print(\"전체 등장 빈도에서 희귀 단어 등장 빈도 비율:\", (rare_freq / total_freq)*100)"
   ]
  },
  {
   "cell_type": "markdown",
   "id": "a527b595",
   "metadata": {},
   "source": [
    "* encoder_input_train에는 6만여 개의 단어가 있다.\n",
    "* 등장 빈도가 threshold 값인 7회 미만, 즉 6회 이하인 단어들은 단어 집합에서 무려 68% 이상을 차지\n",
    "* 하지만 실제로 훈련 데이터에서 등장 빈도로 차지하는 비중은 상대적으로 적은 수치인 4.1%밖에 되지 않는다.\n",
    "* 그래서 등장 빈도가 6회 이하인 단어들은 정수 인코딩 과정에서 빼고, 훈련 데이터에서 제거\n",
    "* 위에서 이를 제외한 단어 집합의 크기를 만 9천여 개로 계산\n",
    "* 이와 비슷한 값으로 어림잡아 단어 집합의 크기를 19,000으로 제한"
   ]
  },
  {
   "cell_type": "code",
   "execution_count": 27,
   "id": "b0a1e833",
   "metadata": {},
   "outputs": [],
   "source": [
    "src_vocab = 19000\n",
    "src_tokenizer = Tokenizer(num_words=src_vocab) # 단어 집합의 크기를 19,000으로 제한\n",
    "src_tokenizer.fit_on_texts(encoder_input_train) # 단어 집합 재생성"
   ]
  },
  {
   "cell_type": "markdown",
   "id": "94dba42c",
   "metadata": {},
   "source": [
    "* 현재 단어 집합의 크기를 19,000으로 제한했으므로 이제 19,000이 넘는 숫자들은 정수 인코딩 후에는 데이터에 존재하지 않는다."
   ]
  },
  {
   "cell_type": "code",
   "execution_count": 28,
   "id": "06e3cf2b",
   "metadata": {},
   "outputs": [
    {
     "name": "stdout",
     "output_type": "stream",
     "text": [
      "[[14, 118, 433, 232, 883, 24, 267, 377, 3158, 192, 32, 335, 912, 5874, 2393, 93, 528, 914, 433, 1229, 14184, 62, 461, 2571, 2201, 633, 8, 41, 567, 1671, 5501, 313, 200, 4747, 232, 2], [219, 456, 272, 230, 7317, 94, 832, 767, 828, 1421, 7317, 5097, 31, 17741, 634, 678, 828, 97, 202, 832, 767, 1019, 272, 21, 239, 4251, 767, 219, 776, 12968, 163], [44, 2173, 142, 230, 168, 968, 777, 3279, 1163, 791, 39, 2174, 1235, 4797, 2470, 6272, 4252, 4698, 214, 1235, 44, 15683, 128, 5232, 2470, 1438, 777, 282, 1240, 1173, 4698]]\n"
     ]
    }
   ],
   "source": [
    "# 텍스트 시퀀스를 정수 시퀀스로 변환\n",
    "encoder_input_train = src_tokenizer.texts_to_sequences(encoder_input_train) \n",
    "encoder_input_test = src_tokenizer.texts_to_sequences(encoder_input_test)\n",
    "\n",
    "# 잘 진행되었는지 샘플 출력\n",
    "print(encoder_input_train[:3])"
   ]
  },
  {
   "cell_type": "markdown",
   "id": "1503fc9d",
   "metadata": {},
   "source": [
    "### B. Decoder Train Data"
   ]
  },
  {
   "cell_type": "code",
   "execution_count": 29,
   "id": "7f7deeab",
   "metadata": {},
   "outputs": [],
   "source": [
    "tar_tokenizer = Tokenizer()\n",
    "tar_tokenizer.fit_on_texts(decoder_input_train)"
   ]
  },
  {
   "cell_type": "code",
   "execution_count": 30,
   "id": "025fe666",
   "metadata": {},
   "outputs": [
    {
     "name": "stdout",
     "output_type": "stream",
     "text": [
      "단어 집합(vocabulary)의 크기 : 27057\n",
      "등장 빈도가 5번 이하인 희귀 단어의 수: 18040\n",
      "단어 집합에서 희귀 단어를 제외시킬 경우의 단어 집합의 크기 9017\n",
      "단어 집합에서 희귀 단어의 비율: 66.6740584691577\n",
      "전체 등장 빈도에서 희귀 단어 등장 빈도 비율: 5.627872923627315\n"
     ]
    }
   ],
   "source": [
    "threshold = 6\n",
    "total_cnt = len(tar_tokenizer.word_index) # 단어의 수\n",
    "rare_cnt = 0 # 등장 빈도수가 threshold보다 작은 단어의 개수를 카운트\n",
    "total_freq = 0 # 훈련 데이터의 전체 단어 빈도수 총 합\n",
    "rare_freq = 0 # 등장 빈도수가 threshold보다 작은 단어의 등장 빈도수의 총 합\n",
    "\n",
    "# 단어와 빈도수의 쌍(pair)을 key와 value로 받는다.\n",
    "for key, value in tar_tokenizer.word_counts.items():\n",
    "    total_freq = total_freq + value\n",
    "\n",
    "    # 단어의 등장 빈도수가 threshold보다 작으면\n",
    "    if(value < threshold):\n",
    "        rare_cnt = rare_cnt + 1\n",
    "        rare_freq = rare_freq + value\n",
    "\n",
    "print('단어 집합(vocabulary)의 크기 :', total_cnt)\n",
    "print('등장 빈도가 %s번 이하인 희귀 단어의 수: %s'%(threshold - 1, rare_cnt))\n",
    "print('단어 집합에서 희귀 단어를 제외시킬 경우의 단어 집합의 크기 %s'%(total_cnt - rare_cnt))\n",
    "print(\"단어 집합에서 희귀 단어의 비율:\", (rare_cnt / total_cnt)*100)\n",
    "print(\"전체 등장 빈도에서 희귀 단어 등장 빈도 비율:\", (rare_freq / total_freq)*100)"
   ]
  },
  {
   "cell_type": "markdown",
   "id": "4cdad0cf",
   "metadata": {},
   "source": [
    "* encoder_input_train에는 2만여 개의 단어가 있다.\n",
    "* 등장 빈도가 threshold 값인 6회 미만, 즉 5회 이하인 단어들은 단어 집합에서 무려 66% 이상을 차지\n",
    "* 하지만 실제로 훈련 데이터에서 등장 빈도로 차지하는 비중은 상대적으로 적은 수치인 5.6%밖에 되지 않는다.\n",
    "* 그래서 등장 빈도가 5회 이하인 단어들은 정수 인코딩 과정에서 빼고, 훈련 데이터에서 제거\n",
    "* 위에서 이를 제외한 단어 집합의 크기를 9000개로 계산"
   ]
  },
  {
   "cell_type": "code",
   "execution_count": 31,
   "id": "4531758e",
   "metadata": {},
   "outputs": [
    {
     "name": "stdout",
     "output_type": "stream",
     "text": [
      "input\n",
      "input  [[1, 392, 3616, 3, 43, 443, 1088, 58, 342, 1172, 2922], [1, 132, 1643, 6104, 3, 937, 2467, 366, 530, 527], [1, 1142, 337, 70, 2923, 444, 5, 8221, 1839, 12, 42, 189], [1, 389, 7560, 416, 858, 1542], [1, 7561, 3291, 2649, 2924, 236, 298, 146, 259]]\n",
      "target\n",
      "decoder  [[392, 3616, 3, 43, 443, 1088, 58, 342, 1172, 2922, 2], [132, 1643, 6104, 3, 937, 2467, 366, 530, 527, 2], [1142, 337, 70, 2923, 444, 5, 8221, 1839, 12, 42, 189, 2], [389, 7560, 416, 858, 1542, 2], [7561, 3291, 2649, 2924, 236, 298, 146, 259, 2]]\n"
     ]
    }
   ],
   "source": [
    "tar_vocab = 9000\n",
    "tar_tokenizer = Tokenizer(num_words=tar_vocab) \n",
    "tar_tokenizer.fit_on_texts(decoder_input_train)\n",
    "tar_tokenizer.fit_on_texts(decoder_target_train)\n",
    "\n",
    "# 텍스트 시퀀스를 정수 시퀀스로 변환\n",
    "decoder_input_train = tar_tokenizer.texts_to_sequences(decoder_input_train) \n",
    "decoder_target_train = tar_tokenizer.texts_to_sequences(decoder_target_train)\n",
    "decoder_input_test = tar_tokenizer.texts_to_sequences(decoder_input_test)\n",
    "decoder_target_test = tar_tokenizer.texts_to_sequences(decoder_target_test)\n",
    "\n",
    "# 잘 변환되었는지 확인\n",
    "print('input')\n",
    "print('input ',decoder_input_train[:5])\n",
    "print('target')\n",
    "print('decoder ',decoder_target_train[:5])"
   ]
  },
  {
   "cell_type": "markdown",
   "id": "9aa61214",
   "metadata": {},
   "source": [
    "* 현재 단어 집합의 크기를 9000으로 제한했으므로 이제 9000이 넘는 숫자들은 정수 인코딩 후에는 데이터에 존재하지 않는다.\n",
    "* 그런데 전체 데이터에서 빈도수가 낮은 단어가 삭제되었다는 것은 빈도수가 낮은 단어만으로 구성되었던 샘플들은 이제 빈(empty) 샘플이 되었을 가능성이 있다. \n",
    "* 훈련 데이터와 테스트 데이터에 대해서 요약문의 길이가 1인 경우의 인덱스를 각각 drop_train과 drop_test에 라는 변수에 저장하고 확인해본다.\n",
    "* 만약 있다면 삭제한다."
   ]
  },
  {
   "cell_type": "code",
   "execution_count": 32,
   "id": "2073fbfe",
   "metadata": {},
   "outputs": [
    {
     "name": "stdout",
     "output_type": "stream",
     "text": [
      "삭제할 훈련 데이터의 개수 : 1\n",
      "삭제할 테스트 데이터의 개수 : 0\n",
      "훈련 데이터의 개수 : 60553\n",
      "훈련 레이블의 개수 : 60553\n",
      "테스트 데이터의 개수 : 15138\n",
      "테스트 레이블의 개수 : 15138\n"
     ]
    }
   ],
   "source": [
    "drop_train = [index for index, sentence in enumerate(decoder_input_train) if len(sentence) == 1]\n",
    "drop_test = [index for index, sentence in enumerate(decoder_input_test) if len(sentence) == 1]\n",
    "\n",
    "print('삭제할 훈련 데이터의 개수 :', len(drop_train))\n",
    "print('삭제할 테스트 데이터의 개수 :', len(drop_test))\n",
    "\n",
    "encoder_input_train = [sentence for index, sentence in enumerate(encoder_input_train) if index not in drop_train]\n",
    "decoder_input_train = [sentence for index, sentence in enumerate(decoder_input_train) if index not in drop_train]\n",
    "decoder_target_train = [sentence for index, sentence in enumerate(decoder_target_train) if index not in drop_train]\n",
    "\n",
    "encoder_input_test = [sentence for index, sentence in enumerate(encoder_input_test) if index not in drop_test]\n",
    "decoder_input_test = [sentence for index, sentence in enumerate(decoder_input_test) if index not in drop_test]\n",
    "decoder_target_test = [sentence for index, sentence in enumerate(decoder_target_test) if index not in drop_test]\n",
    "\n",
    "print('훈련 데이터의 개수 :', len(encoder_input_train))\n",
    "print('훈련 레이블의 개수 :', len(decoder_input_train))\n",
    "print('테스트 데이터의 개수 :', len(encoder_input_test))\n",
    "print('테스트 레이블의 개수 :', len(decoder_input_test))"
   ]
  },
  {
   "cell_type": "markdown",
   "id": "b2134762",
   "metadata": {},
   "source": [
    "### C. Padding"
   ]
  },
  {
   "cell_type": "code",
   "execution_count": 33,
   "id": "2dc4dd75",
   "metadata": {},
   "outputs": [],
   "source": [
    "encoder_input_train = pad_sequences(encoder_input_train, maxlen=text_max_len, padding='post')\n",
    "encoder_input_test = pad_sequences(encoder_input_test, maxlen=text_max_len, padding='post')\n",
    "decoder_input_train = pad_sequences(decoder_input_train, maxlen=headlines_max_len, padding='post')\n",
    "decoder_target_train = pad_sequences(decoder_target_train, maxlen=headlines_max_len, padding='post')\n",
    "decoder_input_test = pad_sequences(decoder_input_test, maxlen=headlines_max_len, padding='post')\n",
    "decoder_target_test = pad_sequences(decoder_target_test, maxlen=headlines_max_len, padding='post')"
   ]
  },
  {
   "cell_type": "markdown",
   "id": "a434901d",
   "metadata": {},
   "source": [
    "### 3. Creating seq2seq with attention Model"
   ]
  },
  {
   "cell_type": "markdown",
   "id": "558306c9",
   "metadata": {},
   "source": [
    "### 3.1 Building Encoder & Decoder"
   ]
  },
  {
   "cell_type": "code",
   "execution_count": 34,
   "id": "859debb2",
   "metadata": {},
   "outputs": [
    {
     "name": "stdout",
     "output_type": "stream",
     "text": [
      "WARNING:tensorflow:Layer lstm will not use cuDNN kernels since it doesn't meet the criteria. It will use a generic GPU kernel as fallback when running on GPU.\n",
      "WARNING:tensorflow:Layer lstm_1 will not use cuDNN kernels since it doesn't meet the criteria. It will use a generic GPU kernel as fallback when running on GPU.\n",
      "WARNING:tensorflow:Layer lstm_2 will not use cuDNN kernels since it doesn't meet the criteria. It will use a generic GPU kernel as fallback when running on GPU.\n"
     ]
    }
   ],
   "source": [
    "from tensorflow.keras.layers import Input, LSTM, Embedding, Dense, Concatenate, TimeDistributed\n",
    "from tensorflow.keras.models import Model\n",
    "from tensorflow.keras.callbacks import EarlyStopping, ModelCheckpoint\n",
    "\n",
    "\n",
    "# 인코더 설계 시작\n",
    "# parameter 수정\n",
    "embedding_dim = 128\n",
    "hidden_size = 256\n",
    "\n",
    "# 인코더\n",
    "encoder_inputs = Input(shape=(text_max_len,))\n",
    "\n",
    "# 인코더의 임베딩 층\n",
    "enc_emb = Embedding(src_vocab, embedding_dim)(encoder_inputs)\n",
    "\n",
    "# 인코더의 LSTM 1\n",
    "encoder_lstm1 = LSTM(hidden_size, return_sequences=True, return_state=True ,dropout = 0.4, recurrent_dropout = 0.4)\n",
    "encoder_output1, state_h1, state_c1 = encoder_lstm1(enc_emb)\n",
    "\n",
    "# 인코더의 LSTM 2\n",
    "encoder_lstm2 = LSTM(hidden_size, return_sequences=True, return_state=True, dropout=0.4, recurrent_dropout=0.4)\n",
    "encoder_output2, state_h2, state_c2 = encoder_lstm2(encoder_output1)\n",
    "\n",
    "# 인코더의 LSTM 3\n",
    "encoder_lstm3 = LSTM(hidden_size, return_state=True, return_sequences=True, dropout=0.4, recurrent_dropout=0.4)\n",
    "encoder_outputs, state_h, state_c= encoder_lstm3(encoder_output2)"
   ]
  },
  {
   "cell_type": "code",
   "execution_count": 35,
   "id": "42469913",
   "metadata": {},
   "outputs": [
    {
     "name": "stdout",
     "output_type": "stream",
     "text": [
      "WARNING:tensorflow:Layer lstm_3 will not use cuDNN kernels since it doesn't meet the criteria. It will use a generic GPU kernel as fallback when running on GPU.\n"
     ]
    }
   ],
   "source": [
    "# 디코더 설계\n",
    "decoder_inputs = Input(shape=(None,))\n",
    "\n",
    "# 디코더의 임베딩 층\n",
    "dec_emb_layer = Embedding(tar_vocab, embedding_dim)\n",
    "dec_emb = dec_emb_layer(decoder_inputs)\n",
    "\n",
    "# 디코더의 LSTM\n",
    "decoder_lstm = LSTM(hidden_size, return_sequences=True, return_state=True, dropout=0.4, recurrent_dropout=0.2)\n",
    "decoder_outputs, _, _ = decoder_lstm(dec_emb, initial_state=[state_h, state_c])"
   ]
  },
  {
   "cell_type": "code",
   "execution_count": 36,
   "id": "0f10e0f8",
   "metadata": {},
   "outputs": [
    {
     "name": "stdout",
     "output_type": "stream",
     "text": [
      "Model: \"model\"\n",
      "__________________________________________________________________________________________________\n",
      "Layer (type)                    Output Shape         Param #     Connected to                     \n",
      "==================================================================================================\n",
      "input_1 (InputLayer)            [(None, 38)]         0                                            \n",
      "__________________________________________________________________________________________________\n",
      "embedding (Embedding)           (None, 38, 128)      2432000     input_1[0][0]                    \n",
      "__________________________________________________________________________________________________\n",
      "lstm (LSTM)                     [(None, 38, 256), (N 394240      embedding[0][0]                  \n",
      "__________________________________________________________________________________________________\n",
      "input_2 (InputLayer)            [(None, None)]       0                                            \n",
      "__________________________________________________________________________________________________\n",
      "lstm_1 (LSTM)                   [(None, 38, 256), (N 525312      lstm[0][0]                       \n",
      "__________________________________________________________________________________________________\n",
      "embedding_1 (Embedding)         (None, None, 128)    1152000     input_2[0][0]                    \n",
      "__________________________________________________________________________________________________\n",
      "lstm_2 (LSTM)                   [(None, 38, 256), (N 525312      lstm_1[0][0]                     \n",
      "__________________________________________________________________________________________________\n",
      "lstm_3 (LSTM)                   [(None, None, 256),  394240      embedding_1[0][0]                \n",
      "                                                                 lstm_2[0][1]                     \n",
      "                                                                 lstm_2[0][2]                     \n",
      "__________________________________________________________________________________________________\n",
      "dense (Dense)                   (None, None, 9000)   2313000     lstm_3[0][0]                     \n",
      "==================================================================================================\n",
      "Total params: 7,736,104\n",
      "Trainable params: 7,736,104\n",
      "Non-trainable params: 0\n",
      "__________________________________________________________________________________________________\n"
     ]
    }
   ],
   "source": [
    "# 디코더의 출력층\n",
    "decoder_softmax_layer = Dense(tar_vocab, activation='softmax')\n",
    "decoder_softmax_outputs = decoder_softmax_layer(decoder_outputs) \n",
    "\n",
    "# 모델 정의\n",
    "model = Model([encoder_inputs, decoder_inputs], decoder_softmax_outputs)\n",
    "model.summary()"
   ]
  },
  {
   "cell_type": "markdown",
   "id": "a4f69e3a",
   "metadata": {},
   "source": [
    "### 3.2 Building Attention Mechanism"
   ]
  },
  {
   "cell_type": "code",
   "execution_count": 37,
   "id": "7a0e23a2",
   "metadata": {},
   "outputs": [
    {
     "name": "stdout",
     "output_type": "stream",
     "text": [
      "Model: \"model_1\"\n",
      "__________________________________________________________________________________________________\n",
      "Layer (type)                    Output Shape         Param #     Connected to                     \n",
      "==================================================================================================\n",
      "input_1 (InputLayer)            [(None, 38)]         0                                            \n",
      "__________________________________________________________________________________________________\n",
      "embedding (Embedding)           (None, 38, 128)      2432000     input_1[0][0]                    \n",
      "__________________________________________________________________________________________________\n",
      "lstm (LSTM)                     [(None, 38, 256), (N 394240      embedding[0][0]                  \n",
      "__________________________________________________________________________________________________\n",
      "input_2 (InputLayer)            [(None, None)]       0                                            \n",
      "__________________________________________________________________________________________________\n",
      "lstm_1 (LSTM)                   [(None, 38, 256), (N 525312      lstm[0][0]                       \n",
      "__________________________________________________________________________________________________\n",
      "embedding_1 (Embedding)         (None, None, 128)    1152000     input_2[0][0]                    \n",
      "__________________________________________________________________________________________________\n",
      "lstm_2 (LSTM)                   [(None, 38, 256), (N 525312      lstm_1[0][0]                     \n",
      "__________________________________________________________________________________________________\n",
      "lstm_3 (LSTM)                   [(None, None, 256),  394240      embedding_1[0][0]                \n",
      "                                                                 lstm_2[0][1]                     \n",
      "                                                                 lstm_2[0][2]                     \n",
      "__________________________________________________________________________________________________\n",
      "attention_layer (AdditiveAttent (None, None, 256)    256         lstm_3[0][0]                     \n",
      "                                                                 lstm_2[0][0]                     \n",
      "__________________________________________________________________________________________________\n",
      "concat_layer (Concatenate)      (None, None, 512)    0           lstm_3[0][0]                     \n",
      "                                                                 attention_layer[0][0]            \n",
      "__________________________________________________________________________________________________\n",
      "dense_1 (Dense)                 (None, None, 9000)   4617000     concat_layer[0][0]               \n",
      "==================================================================================================\n",
      "Total params: 10,040,360\n",
      "Trainable params: 10,040,360\n",
      "Non-trainable params: 0\n",
      "__________________________________________________________________________________________________\n"
     ]
    }
   ],
   "source": [
    "from tensorflow.keras.layers import AdditiveAttention\n",
    "\n",
    "# 어텐션 층(어텐션 함수)\n",
    "attn_layer = AdditiveAttention(name='attention_layer')\n",
    "\n",
    "# 인코더와 디코더의 모든 time step의 hidden state를 어텐션 층에 전달하고 결과를 리턴\n",
    "attn_out = attn_layer([decoder_outputs, encoder_outputs])\n",
    "\n",
    "\n",
    "# 어텐션의 결과와 디코더의 hidden state들을 연결\n",
    "decoder_concat_input = Concatenate(axis=-1, name='concat_layer')([decoder_outputs, attn_out])\n",
    "\n",
    "# 디코더의 출력층\n",
    "decoder_softmax_layer = Dense(tar_vocab, activation='softmax')\n",
    "decoder_softmax_outputs = decoder_softmax_layer(decoder_concat_input)\n",
    "\n",
    "# 모델 정의\n",
    "model = Model([encoder_inputs, decoder_inputs], decoder_softmax_outputs)\n",
    "model.summary()"
   ]
  },
  {
   "cell_type": "markdown",
   "id": "a86a7f72",
   "metadata": {},
   "source": [
    "### 4. Training Model "
   ]
  },
  {
   "cell_type": "markdown",
   "id": "a427ddcd",
   "metadata": {},
   "source": [
    "### 4.1 Fitting the Model With Data"
   ]
  },
  {
   "cell_type": "code",
   "execution_count": 38,
   "id": "2e3f906f",
   "metadata": {
    "scrolled": false
   },
   "outputs": [
    {
     "name": "stdout",
     "output_type": "stream",
     "text": [
      "Epoch 1/50\n",
      "237/237 [==============================] - 134s 531ms/step - loss: 6.1540 - val_loss: 5.7137\n",
      "Epoch 2/50\n",
      "237/237 [==============================] - 125s 528ms/step - loss: 5.6620 - val_loss: 5.4583\n",
      "Epoch 3/50\n",
      "237/237 [==============================] - 125s 525ms/step - loss: 5.2983 - val_loss: 5.0411\n",
      "Epoch 4/50\n",
      "237/237 [==============================] - 124s 525ms/step - loss: 4.8645 - val_loss: 4.7043\n",
      "Epoch 5/50\n",
      "237/237 [==============================] - 123s 521ms/step - loss: 4.5120 - val_loss: 4.4810\n",
      "Epoch 6/50\n",
      "237/237 [==============================] - 124s 525ms/step - loss: 4.2343 - val_loss: 4.3166\n",
      "Epoch 7/50\n",
      "237/237 [==============================] - 125s 527ms/step - loss: 4.0018 - val_loss: 4.1989\n",
      "Epoch 8/50\n",
      "237/237 [==============================] - 125s 529ms/step - loss: 3.8023 - val_loss: 4.1135\n",
      "Epoch 9/50\n",
      "237/237 [==============================] - 124s 525ms/step - loss: 3.6294 - val_loss: 4.0390\n",
      "Epoch 10/50\n",
      "237/237 [==============================] - 124s 522ms/step - loss: 3.4761 - val_loss: 3.9939\n",
      "Epoch 11/50\n",
      "237/237 [==============================] - 124s 525ms/step - loss: 3.3417 - val_loss: 3.9623\n",
      "Epoch 12/50\n",
      "237/237 [==============================] - 125s 526ms/step - loss: 3.2211 - val_loss: 3.9429\n",
      "Epoch 13/50\n",
      "237/237 [==============================] - 124s 522ms/step - loss: 3.1112 - val_loss: 3.9269\n",
      "Epoch 14/50\n",
      "237/237 [==============================] - 127s 534ms/step - loss: 3.0106 - val_loss: 3.9121\n",
      "Epoch 15/50\n",
      "237/237 [==============================] - 125s 526ms/step - loss: 2.9168 - val_loss: 3.9096\n",
      "Epoch 16/50\n",
      "237/237 [==============================] - 125s 526ms/step - loss: 2.8322 - val_loss: 3.9120\n",
      "Epoch 17/50\n",
      "237/237 [==============================] - 124s 525ms/step - loss: 2.7500 - val_loss: 3.9141\n",
      "Restoring model weights from the end of the best epoch.\n",
      "Epoch 00017: early stopping\n"
     ]
    }
   ],
   "source": [
    "model.compile(optimizer='adam', loss='sparse_categorical_crossentropy')\n",
    "es = EarlyStopping(monitor='val_loss', patience=2, verbose=1, restore_best_weights = True)\n",
    "history = model.fit(x=[encoder_input_train, decoder_input_train], y=decoder_target_train, \\\n",
    "          validation_data=([encoder_input_test, decoder_input_test], decoder_target_test), \\\n",
    "          batch_size=256, callbacks=[es], epochs=50)"
   ]
  },
  {
   "cell_type": "markdown",
   "id": "689c3df1",
   "metadata": {},
   "source": [
    "* `EarlyStopping`을 통해 validation loss가 증가할 때 fitting을 멈춘다.\n",
    "* 변수 `restore_best_weights`을 `True`로 설정하여 모델의 성능이 가장 좋은 시점(가중치가 가장 좋은 시점)을 저장한다."
   ]
  },
  {
   "cell_type": "markdown",
   "id": "87090d26",
   "metadata": {},
   "source": [
    "### 4.2 Visualization the Validation Loss"
   ]
  },
  {
   "cell_type": "code",
   "execution_count": 39,
   "id": "48abeca5",
   "metadata": {},
   "outputs": [
    {
     "data": {
      "image/png": "[encoded data removed]",
      "text/plain": [
       "<Figure size 432x288 with 1 Axes>"
      ]
     },
     "metadata": {
      "needs_background": "light"
     },
     "output_type": "display_data"
    }
   ],
   "source": [
    "plt.plot(history.history['loss'], label='train')\n",
    "plt.plot(history.history['val_loss'], label='test')\n",
    "plt.legend()\n",
    "plt.show()"
   ]
  },
  {
   "cell_type": "markdown",
   "id": "b252d06d",
   "metadata": {},
   "source": [
    "### 5. Testing Model "
   ]
  },
  {
   "cell_type": "markdown",
   "id": "f3797b92",
   "metadata": {},
   "source": [
    "### 5.1 Implementing the Inference Model"
   ]
  },
  {
   "cell_type": "markdown",
   "id": "96cf7104",
   "metadata": {},
   "source": [
    "### 5.1.1 convert the index to word "
   ]
  },
  {
   "cell_type": "code",
   "execution_count": 40,
   "id": "f969b880",
   "metadata": {},
   "outputs": [],
   "source": [
    "# 정수 인덱스 행렬로 존재하던 텍스트 데이터를 실제 데이터로 복원해야 하므로, 필요한 3개의 사전 준비\n",
    "\n",
    "src_index_to_word = src_tokenizer.index_word # 원문 단어 집합에서 정수 -> 단어를 얻음\n",
    "tar_word_to_index = tar_tokenizer.word_index # 요약 단어 집합에서 단어 -> 정수를 얻음\n",
    "tar_index_to_word = tar_tokenizer.index_word # 요약 단어 집합에서 정수 -> 단어를 얻음"
   ]
  },
  {
   "cell_type": "markdown",
   "id": "34ed212b",
   "metadata": {},
   "source": [
    "### 5.1.2 Setting up the Inference For the Encoder and Decoder"
   ]
  },
  {
   "cell_type": "code",
   "execution_count": 41,
   "id": "9eb3140b",
   "metadata": {},
   "outputs": [],
   "source": [
    "# 인코더 설계\n",
    "encoder_model = Model(inputs=encoder_inputs, outputs=[encoder_outputs, state_h, state_c])\n",
    "\n",
    "# 이전 시점의 상태들을 저장하는 텐서\n",
    "decoder_state_input_h = Input(shape=(hidden_size,))\n",
    "decoder_state_input_c = Input(shape=(hidden_size,))\n",
    "\n",
    "dec_emb2 = dec_emb_layer(decoder_inputs)\n",
    "\n",
    "# 문장의 다음 단어를 예측하기 위해서 초기 상태(initial_state)를 이전 시점의 상태로 사용. 이는 뒤의 함수 decode_sequence()에 구현\n",
    "# 훈련 과정에서와 달리 LSTM의 리턴하는 은닉 상태와 셀 상태인 state_h와 state_c를 버리지 않음.\n",
    "decoder_outputs2, state_h2, state_c2 = \\\n",
    "decoder_lstm(dec_emb2, initial_state=[decoder_state_input_h, decoder_state_input_c])"
   ]
  },
  {
   "cell_type": "code",
   "execution_count": 42,
   "id": "7a18b86c",
   "metadata": {},
   "outputs": [],
   "source": [
    "# 어텐션 함수\n",
    "decoder_hidden_state_input = Input(shape=(text_max_len, hidden_size))\n",
    "attn_out_inf = attn_layer([decoder_outputs2, decoder_hidden_state_input])\n",
    "decoder_inf_concat = Concatenate(axis=-1, name='concat')([decoder_outputs2, attn_out_inf])\n",
    "\n",
    "# 디코더의 출력층\n",
    "decoder_outputs2 = decoder_softmax_layer(decoder_inf_concat) \n",
    "\n",
    "# 최종 디코더 모델\n",
    "decoder_model = Model(\n",
    "    [decoder_inputs] + [decoder_hidden_state_input,decoder_state_input_h, decoder_state_input_c],\n",
    "    [decoder_outputs2] + [state_h2, state_c2])"
   ]
  },
  {
   "cell_type": "markdown",
   "id": "4ef41747",
   "metadata": {},
   "source": [
    "### 5.1.3 Defining a Functio For Implementation of the Inference Process"
   ]
  },
  {
   "cell_type": "code",
   "execution_count": 43,
   "id": "5c2f867c",
   "metadata": {},
   "outputs": [],
   "source": [
    "def decode_sequence(input_seq):\n",
    "    # 입력으로부터 인코더의 상태를 얻음\n",
    "    e_out, e_h, e_c = encoder_model.predict(input_seq)\n",
    "\n",
    "     # <SOS>에 해당하는 토큰 생성\n",
    "    target_seq = np.zeros((1,1))\n",
    "    target_seq[0, 0] = tar_word_to_index['sostoken']\n",
    "\n",
    "    stop_condition = False\n",
    "    decoded_sentence = ''\n",
    "    while not stop_condition: # stop_condition이 True가 될 때까지 루프 반복\n",
    "\n",
    "        output_tokens, h, c = decoder_model.predict([target_seq] + [e_out, e_h, e_c])\n",
    "        sampled_token_index = np.argmax(output_tokens[0, -1, :])\n",
    "        sampled_token = tar_index_to_word[sampled_token_index]\n",
    "\n",
    "        if (sampled_token!='eostoken'):\n",
    "            decoded_sentence += ' '+sampled_token\n",
    "\n",
    "        #  <eos>에 도달하거나 최대 길이를 넘으면 중단.\n",
    "        if (sampled_token == 'eostoken'  or len(decoded_sentence.split()) >= (headlines_max_len-1)):\n",
    "            stop_condition = True\n",
    "\n",
    "        # 길이가 1인 타겟 시퀀스를 업데이트\n",
    "        target_seq = np.zeros((1,1))\n",
    "        target_seq[0, 0] = sampled_token_index\n",
    "\n",
    "        # 상태를 업데이트 합니다.\n",
    "        e_h, e_c = h, c\n",
    "\n",
    "    return decoded_sentence"
   ]
  },
  {
   "cell_type": "markdown",
   "id": "44ff9320",
   "metadata": {},
   "source": [
    "### 5.1.4 Converting an Integer Sequence to a Word Sequence "
   ]
  },
  {
   "cell_type": "code",
   "execution_count": 44,
   "id": "5fc877fa",
   "metadata": {},
   "outputs": [],
   "source": [
    "# 원문의 정수 시퀀스를 텍스트 시퀀스로 변환\n",
    "def seq2text(input_seq):\n",
    "    temp=''\n",
    "    for i in input_seq:\n",
    "        if (i!=0):\n",
    "            temp = temp + src_index_to_word[i]+' '\n",
    "    return temp\n",
    "\n",
    "# 요약문의 정수 시퀀스를 텍스트 시퀀스로 변환\n",
    "def seq2summary(input_seq):\n",
    "    temp=''\n",
    "    for i in input_seq:\n",
    "        if ((i!=0 and i!=tar_word_to_index['sostoken']) and i!=tar_word_to_index['eostoken']):\n",
    "            temp = temp + tar_index_to_word[i] + ' '\n",
    "    return temp"
   ]
  },
  {
   "cell_type": "markdown",
   "id": "e857cd04",
   "metadata": {},
   "source": [
    "### 5.2 Compare Headlines with Summary (Abstractive Summarization)"
   ]
  },
  {
   "cell_type": "markdown",
   "id": "f21d47f2",
   "metadata": {},
   "source": [
    "원래의 요약문(headlines 열)과 학습을 통해 얻은 추상적 요약의 결과를 비교해 보세요."
   ]
  },
  {
   "cell_type": "code",
   "execution_count": 45,
   "id": "afd1e11c",
   "metadata": {
    "scrolled": false
   },
   "outputs": [
    {
     "name": "stdout",
     "output_type": "stream",
     "text": [
      "1 -------------------------------------------------------\n",
      "<원문> : apple shipped around lakh apple watches globally second quarter year according data analytics firm company shipped units apple watches asia lte variant accounting total sale apple sold watches year compared period last year \n",
      "[실제 요약] : apple ships lakh apple watches globally in \n",
      "[예측 요약] :  apple to launch apple for billion in\n",
      "\n",
      "\n",
      "2 -------------------------------------------------------\n",
      "<원문> : winning third ipl title csk captain ms dhoni said talked lot age important fitness ask captains want players move well field matter years old age number fit dhoni added \n",
      "[실제 요약] : age is just number fitness dhoni after ipl title \n",
      "[예측 요약] :  dhoni is the most ms dhoni\n",
      "\n",
      "\n",
      "3 -------------------------------------------------------\n",
      "<원문> : two elderly women including patient allegedly bitten rats mumbai shatabdi hospital past week one victim bitten near left eye suffered rat leg officials said set around rat hospital taking preventive measures control rat menace \n",
      "[실제 요약] : rats bite two patients at mumbai civic hospital \n",
      "[예측 요약] :  doctor of elderly woman dies after being delivered in\n",
      "\n",
      "\n",
      "4 -------------------------------------------------------\n",
      "<원문> : woman bihar village built toilet money collected begging block level officials ignored request funds reports said felicitated effort district administration function village also revealed mason labourer worked refused wages \n",
      "[실제 요약] : woman builds toilet by begging after officials deny help \n",
      "[예측 요약] :  woman gangraped in mp for free\n",
      "\n",
      "\n",
      "5 -------------------------------------------------------\n",
      "<원문> : actress diana penty said fear forgotten film industry time took cocktail happy bhaag jayegi lot people told sight mind added diana said around people assumed interested films thought unfair \n",
      "[실제 요약] : there is fear of being forgotten by the film industry diana \n",
      "[예측 요약] :  was not an actor to be part of big\n",
      "\n",
      "\n",
      "6 -------------------------------------------------------\n",
      "<원문> : currency public reached record high trillion double low trillion post demonetisation rbi data showed total currency circulation also doubled trillion post demonetisation low notably currency public stood trillion demonetisation \n",
      "[실제 요약] : cash with public doubles since note ban to record tn \n",
      "[예측 요약] :  bitcoin crosses trillion in over trillion in\n",
      "\n",
      "\n",
      "7 -------------------------------------------------------\n",
      "<원문> : police station uttar pradesh ghaziabad district allegedly kept stabbed teenager waiting victim bleeding minutes sending hospital probe ordered police officials video incident surfaced social media boy reportedly stabbed resisting attempt snatch phone \n",
      "[실제 요약] : stabbed teen kept waiting at ghaziabad police station \n",
      "[예측 요약] :  cops steal infant dead in noida\n",
      "\n",
      "\n",
      "8 -------------------------------------------------------\n",
      "<원문> : union cabinet minister micro small medium enterprises mishra saturday confirmed submitted resignation friday ahead cabinet reshuffle pm narendra modi approved decision mishra added earlier well offered resign due uttar pradesh elections party decided needed campaign \n",
      "[실제 요약] : mishra confirms resigning ahead of cabinet \n",
      "[예측 요약] :  minister of union minister athawale to be sworn in\n",
      "\n",
      "\n",
      "9 -------------------------------------------------------\n",
      "<원문> : rex tillerson recently fired post us state secretary president donald trump reportedly sitting toilet got know dismissal tillerson reportedly suffering stomach bug received call white house chief staff john kelly told may get tweet \n",
      "[실제 요약] : was on toilet when he got know about his dismissal \n",
      "[예측 요약] :  us president trump calls trump for calling him\n",
      "\n",
      "\n",
      "10 -------------------------------------------------------\n",
      "<원문> : india seema punia thursday registered season best throw clinch bronze medal women discus throw asian games medal year old second asian games gold edition throw punia bagged silver medal commonwealth games earlier year \n",
      "[실제 요약] : posts season best throw bags asiad bronze \n",
      "[예측 요약] :  indian spinner wins silver at asian games\n",
      "\n",
      "\n",
      "11 -------------------------------------------------------\n",
      "<원문> : bharatiya janata party president amit shah information broadcasting minister smriti irani contest rajya sabha elections gujarat party announced wednesday shah currently mla gujarat smriti irani nominated rajya sabha reportedly aimed strengthening bjp presence rajya sabha \n",
      "[실제 요약] : amit shah to contest rajya sabha elections from gujarat \n",
      "[예측 요약] :  bjp leader swearing in bjp for party in delhi\n",
      "\n",
      "\n",
      "12 -------------------------------------------------------\n",
      "<원문> : actress priyanka chopra mother madhu chopra said since recently implemented goods services tax affecting entertainment business digital platforms future madhu co owner purple pebble pictures production house started priyanka also venture digital entertainment like web series added madhu \n",
      "[실제 요약] : future in digital as gst is affecting film business chopra \n",
      "[예측 요약] :  priyanka chopra to get rumoured boyfriend reports\n",
      "\n",
      "\n",
      "13 -------------------------------------------------------\n",
      "<원문> : delhi police giving training young adults economically weaker sections part project yuva children youngsters school get addicted drugs also part skill training program officials said initiative collaboration confederation indian industry national skill development corporation \n",
      "[실제 요약] : delhi police to train underprivileged youngsters \n",
      "[예측 요약] :  delhi police to get uniform to school school\n",
      "\n",
      "\n",
      "14 -------------------------------------------------------\n",
      "<원문> : actor shahid kapoor said filmmaker sanjay leela bhansali like drug people get addicted mad genius drains everything difficult people ready work hard easy people want push added \n",
      "[실제 요약] : sanjay leela bhansali is like drug shahid kapoor \n",
      "[예측 요약] :  was not to take action against shahid kapoor\n",
      "\n",
      "\n",
      "15 -------------------------------------------------------\n",
      "<원문> : indian pacer umesh yadav picked wickets help side vidarbha beat kerala reach second straight ranji trophy final vidarbha innings runs match ran total four half sessions overs vidarbha face winner semifinal saurashtra karnataka \n",
      "[실제 요약] : umesh picks wkts as reach nd straight ranji final \n",
      "[예측 요약] :  umesh yadav once bowled overs overs in overs in overs\n",
      "\n",
      "\n",
      "16 -------------------------------------------------------\n",
      "<원문> : yet established jio institute listed institution centre delhi chief minister arvind kejriwal tweeted earlier congress government ambani pocket modi government ambani pocket anything changed responding tweet former bjp leader yashwant sinha also slammed government matter \n",
      "[실제 요약] : govt is in ambani pocket kejriwal on jio institute row \n",
      "[예측 요약] :  no one of the accidental rahul on kejriwal\n",
      "\n",
      "\n",
      "17 -------------------------------------------------------\n",
      "<원문> : delhi chief minister arvind kejriwal monday reviewed plan setting sewage treatment plants locations currently access sewer network according officials apart solving sewage crisis also produce recycled water used water body recharge non uses \n",
      "[실제 요약] : delhi govt to set up sewage plants \n",
      "[예측 요약] :  delhi cm kejriwal inaugurates selling water water\n",
      "\n",
      "\n",
      "18 -------------------------------------------------------\n",
      "<원문> : according reports filmmaker karan johar directing comedy first time story revolve around small town couple thus breaking away elite people films source said reported actor vicky kaushal signed film male lead \n",
      "[실제 요약] : karan johar to direct comedy film for st time reports \n",
      "[예측 요약] :  johar to star in johar st film on day report\n",
      "\n",
      "\n",
      "19 -------------------------------------------------------\n",
      "<원문> : mit developed blind robot called cheetah climb stairs sense obstacles without relying cameras weighing around kg robot equipped algorithms help navigate environment touch researchers describe blind robot stretch backwards twist side side \n",
      "[실제 요약] : mit blind robot climbs by touch \n",
      "[예측 요약] :  mit researchers arm robot robot to help\n",
      "\n",
      "\n",
      "20 -------------------------------------------------------\n",
      "<원문> : reacting samajwadi leader shivpal yadav floating new front bjp saturday asserted people uttar pradesh irritated sp family feud never ending dispute shows political ideology new low added shivpal yadav announced formation samajwadi secular morcha friday \n",
      "[실제 요약] : up people now with yadav family feud bjp \n"
     ]
    },
    {
     "name": "stdout",
     "output_type": "stream",
     "text": [
      "[예측 요약] :  sp is not to be taught to fight akhilesh yadav\n",
      "\n",
      "\n"
     ]
    }
   ],
   "source": [
    "for i in range(20):\n",
    "    print(i+1, \"-------------------------------------------------------\")\n",
    "    print(\"<원문> :\", seq2text(encoder_input_test[i]))\n",
    "    print(\"[실제 요약] :\", seq2summary(decoder_input_test[i]))\n",
    "    print(\"[예측 요약] :\", decode_sequence(encoder_input_test[i].reshape(1, text_max_len)))\n",
    "    print(\"\\n\")"
   ]
  },
  {
   "cell_type": "markdown",
   "id": "223ce221",
   "metadata": {},
   "source": [
    "### 5.3 Compare Headlines with Summary (Extractive Summarization)"
   ]
  },
  {
   "cell_type": "markdown",
   "id": "b57fb9e9",
   "metadata": {},
   "source": [
    "### 5.3.1 Load Text Data"
   ]
  },
  {
   "cell_type": "code",
   "execution_count": 46,
   "id": "59609cbb",
   "metadata": {},
   "outputs": [],
   "source": [
    "import requests\n",
    "from summa.summarizer import summarize"
   ]
  },
  {
   "cell_type": "code",
   "execution_count": 47,
   "id": "7f47c237",
   "metadata": {},
   "outputs": [],
   "source": [
    "# 데이터 다운로드\n",
    "urllib.request.urlretrieve(\"https://raw.githubusercontent.com/sunnysai12345/News_Summary/master/news_summary_more.csv\", filename=\"news_summary_more.csv\")\n",
    "data = pd.read_csv('news_summary_more.csv', encoding='iso-8859-1')"
   ]
  },
  {
   "cell_type": "code",
   "execution_count": 48,
   "id": "101927dc",
   "metadata": {
    "scrolled": true
   },
   "outputs": [
    {
     "data": {
      "text/plain": [
       "39344    Gujarat MLA Jignesh Mevani may be summoned in ...\n",
       "46149    Actress Sridevi's body was found motionless by...\n",
       "53689    Commenting on 'Wonder Woman' actress Gal Gadot...\n",
       "4901     US-based craft and floral products company nam...\n",
       "10864    The Delhi Police on Monday busted a gambling r...\n",
       "34210    Madhya Pradesh Home Minister Bhupendra Singh o...\n",
       "54304    Former Infosys CFO Mohandas Pai has said, \"The...\n",
       "54940    India's stand-in captain Rohit Sharma said tha...\n",
       "25090    Mumbai Indians' Bangladeshi pacer Mustafizur R...\n",
       "86692    The Bihar board class 12 topper this year, Gan...\n",
       "Name: text, dtype: object"
      ]
     },
     "execution_count": 48,
     "metadata": {},
     "output_type": "execute_result"
    }
   ],
   "source": [
    "data['text'].sample(10)"
   ]
  },
  {
   "cell_type": "markdown",
   "id": "2df4ad86",
   "metadata": {},
   "source": [
    "### 5.3.2 Using Summa Summarize"
   ]
  },
  {
   "cell_type": "markdown",
   "id": "a33561b0",
   "metadata": {},
   "source": [
    "* text (str) : 요약할 테스트.\n",
    "* ratio (float, optional) : 요약문에서 원본에서 선택되는 문장 비율. 0~1 사이값\n",
    "* words (int or None, optional) : 출력에 포함할 단어 수.\n",
    "* 만약, ratio와 함께 두 파라미터가 모두 제공되는 경우 ratio는 무시\n",
    "* split (bool, optional) : True면 문장 list / False는 조인(join)된 문자열을 반환"
   ]
  },
  {
   "cell_type": "code",
   "execution_count": 49,
   "id": "db7bfd45",
   "metadata": {
    "scrolled": false
   },
   "outputs": [
    {
     "name": "stdout",
     "output_type": "stream",
     "text": [
      "1 -------------------------------------------------------\n",
      "원문 : Saurav Kant, an alumnus of upGrad and IIIT-B's PG Program in Machine learning and Artificial Intelligence, was a Sr Systems Engineer at Infosys with almost 5 years of work experience. The program and upGrad's 360-degree career support helped him transition to a Data Scientist at Tech Mahindra with 90% salary hike. upGrad's Online Power Learning has powered 3 lakh+ careers.\n",
      "\n",
      "\n",
      "실제 요약 : upGrad learner switches to career in ML & Al with 90% salary hike\n",
      "추출적 요약(ratio) : upGrad's Online Power Learning has powered 3 lakh+ careers.\n",
      "추출적 요약(words) : The program and upGrad's 360-degree career support helped him transition to a Data Scientist at Tech Mahindra with 90% salary hike.\n",
      "upGrad's Online Power Learning has powered 3 lakh+ careers.\n",
      "\n",
      "\n",
      "2 -------------------------------------------------------\n",
      "원문 : Kunal Shah's credit card bill payment platform, CRED, gave users a chance to win free food from Swiggy for one year. Pranav Kaushik, a Delhi techie, bagged this reward after spending 2000 CRED coins. Users get one CRED coin per rupee of bill paid, which can be used to avail rewards from brands like Ixigo, BookMyShow, UberEats, Cult.Fit and more.\n",
      "\n",
      "\n",
      "실제 요약 : Delhi techie wins free food from Swiggy for one year on CRED\n",
      "추출적 요약(ratio) : Users get one CRED coin per rupee of bill paid, which can be used to avail rewards from brands like Ixigo, BookMyShow, UberEats, Cult.Fit and more.\n",
      "추출적 요약(words) : Users get one CRED coin per rupee of bill paid, which can be used to avail rewards from brands like Ixigo, BookMyShow, UberEats, Cult.Fit and more.\n",
      "\n",
      "\n",
      "3 -------------------------------------------------------\n",
      "원문 : New Zealand defeated India by 8 wickets in the fourth ODI at Hamilton on Thursday to win their first match of the five-match ODI series. India lost an international match under Rohit Sharma's captaincy after 12 consecutive victories dating back to March 2018. The match witnessed India getting all out for 92, their seventh lowest total in ODI cricket history.\n",
      "\n",
      "\n",
      "실제 요약 : New Zealand end Rohit Sharma-led India's 12-match winning streak\n",
      "추출적 요약(ratio) : The match witnessed India getting all out for 92, their seventh lowest total in ODI cricket history.\n",
      "추출적 요약(words) : The match witnessed India getting all out for 92, their seventh lowest total in ODI cricket history.\n",
      "\n",
      "\n",
      "4 -------------------------------------------------------\n",
      "원문 : With Aegon Life iTerm Insurance plan, customers can enjoy tax benefits on your premiums paid and save up to Ã¢ÂÂ¹46,800^ on taxes. The plan provides life cover up to the age of 100 years. Also, customers have options to insure against Critical Illnesses, Disability and Accidental Death Benefit Rider with a life cover up to the age of 80 years.\n",
      "\n",
      "\n",
      "실제 요약 : Aegon life iTerm insurance plan helps customers save tax\n",
      "추출적 요약(ratio) : Also, customers have options to insure against Critical Illnesses, Disability and Accidental Death Benefit Rider with a life cover up to the age of 80 years.\n",
      "추출적 요약(words) : Also, customers have options to insure against Critical Illnesses, Disability and Accidental Death Benefit Rider with a life cover up to the age of 80 years.\n",
      "\n",
      "\n",
      "5 -------------------------------------------------------\n",
      "원문 : Speaking about the sexual harassment allegations against Rajkumar Hirani, Sonam Kapoor said, \"I've known Hirani for many years...What if it's not true, the [#MeToo] movement will get derailed.\" \"In the #MeToo movement, I always believe a woman. But in this case, we need to reserve our judgment,\" she added. Hirani has been accused by an assistant who worked in 'Sanju'.\n",
      "\n",
      "\n",
      "실제 요약 : Have known Hirani for yrs, what if MeToo claims are not true: Sonam\n",
      "추출적 요약(ratio) : Speaking about the sexual harassment allegations against Rajkumar Hirani, Sonam Kapoor said, \"I've known Hirani for many years...What if it's not true, the [#MeToo] movement will get derailed.\" \"In the #MeToo movement, I always believe a woman.\n",
      "추출적 요약(words) : Speaking about the sexual harassment allegations against Rajkumar Hirani, Sonam Kapoor said, \"I've known Hirani for many years...What if it's not true, the [#MeToo] movement will get derailed.\" \"In the #MeToo movement, I always believe a woman.\n",
      "\n",
      "\n",
      "6 -------------------------------------------------------\n",
      "원문 : Pakistani singer Rahat Fateh Ali Khan has denied receiving any notice from the Enforcement Directorate over allegedly smuggling foreign currency out of India. \"It would have been better if the authorities would have served the notice first if any and then publicised this,\" reads a press release issued on behalf of Rahat. The statement further called the allegation \"bizarre\".\n",
      "\n",
      "\n",
      "실제 요약 : Rahat Fateh Ali Khan denies getting notice for smuggling currency\n",
      "추출적 요약(ratio) : Pakistani singer Rahat Fateh Ali Khan has denied receiving any notice from the Enforcement Directorate over allegedly smuggling foreign currency out of India.\n",
      "추출적 요약(words) : Pakistani singer Rahat Fateh Ali Khan has denied receiving any notice from the Enforcement Directorate over allegedly smuggling foreign currency out of India.\n",
      "\n",
      "\n",
      "7 -------------------------------------------------------\n",
      "원문 : India recorded their lowest ODI total in New Zealand after getting all out for 92 runs in 30.5 overs in the fourth ODI at Hamilton on Thursday. Seven of India's batsmen were dismissed for single-digit scores, while their number ten batsman Yuzvendra Chahal top-scored with 18*(37). India's previous lowest ODI total in New Zealand was 108.\n",
      "\n",
      "\n",
      "실제 요약 : India get all out for 92, their lowest ODI total in New Zealand\n",
      "추출적 요약(ratio) : India's previous lowest ODI total in New Zealand was 108.\n",
      "추출적 요약(words) : India's previous lowest ODI total in New Zealand was 108.\n",
      "\n",
      "\n",
      "8 -------------------------------------------------------\n",
      "원문 : Weeks after ex-CBI Director Alok Verma told the Department of Personnel and Training to consider him retired, the Home Ministry asked him to join work on the last day of his fixed tenure as Director on Thursday. The ministry directed him to immediately join as DG, Fire Services, the post he was transferred to after his removal as CBI chief.\n",
      "\n",
      "\n",
      "실제 요약 : Govt directs Alok Verma to join work 1 day before his retirement\n",
      "추출적 요약(ratio) : Weeks after ex-CBI Director Alok Verma told the Department of Personnel and Training to consider him retired, the Home Ministry asked him to join work on the last day of his fixed tenure as Director on Thursday.\n",
      "추출적 요약(words) : Weeks after ex-CBI Director Alok Verma told the Department of Personnel and Training to consider him retired, the Home Ministry asked him to join work on the last day of his fixed tenure as Director on Thursday.\n",
      "\n",
      "\n",
      "9 -------------------------------------------------------\n",
      "원문 : Andhra Pradesh CM N Chandrababu Naidu has said, \"When I met then US President Bill Clinton, I addressed him as Mr Clinton, not as 'sir'. (PM Narendra) Modi is my junior in politics...I addressed him as sir 10 times.\" \"I did this...to satisfy his ego in the hope that he will do justice to the state,\" he added.\n",
      "\n",
      "\n",
      "실제 요약 : Called PM Modi 'sir' 10 times to satisfy his ego: Andhra CM\n",
      "추출적 요약(ratio) : Andhra Pradesh CM N Chandrababu Naidu has said, \"When I met then US President Bill Clinton, I addressed him as Mr Clinton, not as 'sir'.\n",
      "추출적 요약(words) : Andhra Pradesh CM N Chandrababu Naidu has said, \"When I met then US President Bill Clinton, I addressed him as Mr Clinton, not as 'sir'.\n",
      "\n",
      "\n",
      "10 -------------------------------------------------------\n",
      "원문 : Congress candidate Shafia Zubair won the Ramgarh Assembly seat in Rajasthan, by defeating BJP's Sukhwant Singh with a margin of 12,228 votes in the bypoll. With this victory, Congress has taken its total to 100 seats in the 200-member assembly. The election to the Ramgarh seat was delayed due to the death of sitting MLA and BSP candidate Laxman Singh.\n",
      "\n",
      "\n",
      "실제 요약 : Cong wins Ramgarh bypoll in Rajasthan, takes total to 100 seats\n",
      "추출적 요약(ratio) : Congress candidate Shafia Zubair won the Ramgarh Assembly seat in Rajasthan, by defeating BJP's Sukhwant Singh with a margin of 12,228 votes in the bypoll.\n",
      "추출적 요약(words) : Congress candidate Shafia Zubair won the Ramgarh Assembly seat in Rajasthan, by defeating BJP's Sukhwant Singh with a margin of 12,228 votes in the bypoll.\n",
      "\n",
      "\n"
     ]
    }
   ],
   "source": [
    "for i in range(10):\n",
    "    print(i+1, \"-------------------------------------------------------\")\n",
    "    print(\"원문 :\", data['text'][i])\n",
    "    print(\"\\n\")\n",
    "    print(\"실제 요약 :\", data['headlines'][i])\n",
    "    print(\"추출적 요약(ratio) :\", summarize(data[\"text\"][i], ratio=0.5))\n",
    "    print(\"추출적 요약(words) :\", summarize(data[\"text\"][i], words=20))\n",
    "    print(\"\\n\")"
   ]
  }
 ],
 "metadata": {
  "kernelspec": {
   "display_name": "Python 3 (ipykernel)",
   "language": "python",
   "name": "python3"
  },
  "language_info": {
   "codemirror_mode": {
    "name": "ipython",
    "version": 3
   },
   "file_extension": ".py",
   "mimetype": "text/x-python",
   "name": "python",
   "nbconvert_exporter": "python",
   "pygments_lexer": "ipython3",
   "version": "3.9.7"
  }
 },
 "nbformat": 4,
 "nbformat_minor": 5
}
