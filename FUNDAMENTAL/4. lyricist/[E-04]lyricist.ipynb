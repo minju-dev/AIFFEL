{
 "cells": [
  {
   "cell_type": "markdown",
   "id": "db4aa166",
   "metadata": {},
   "source": [
    "## 1. 작사가 만들기"
   ]
  },
  {
   "cell_type": "markdown",
   "id": "78ac7b52",
   "metadata": {},
   "source": [
    "### (1) 데이터 정제화만 진행"
   ]
  },
  {
   "cell_type": "markdown",
   "id": "6aa5dded",
   "metadata": {},
   "source": [
    "### Step 1. 데이터 다운로드"
   ]
  },
  {
   "cell_type": "markdown",
   "id": "add8baad",
   "metadata": {},
   "source": [
    "$ mkdir -p ~/aiffel/lyricist/models\n",
    "\n",
    "$ ln -s ~/data ~/aiffel/lyricist/data"
   ]
  },
  {
   "cell_type": "markdown",
   "id": "773504ad",
   "metadata": {},
   "source": [
    "### Step 2. 데이터 읽어오기"
   ]
  },
  {
   "cell_type": "code",
   "execution_count": 1,
   "id": "25dad667",
   "metadata": {},
   "outputs": [],
   "source": [
    "import glob\n",
    "import os, re\n",
    "import numpy as np\n",
    "import tensorflow as tf\n",
    "import matplotlib.pyplot as plt\n",
    "from collections import OrderedDict\n",
    "from sklearn.model_selection import train_test_split"
   ]
  },
  {
   "cell_type": "code",
   "execution_count": 2,
   "id": "e500c79c",
   "metadata": {},
   "outputs": [
    {
     "name": "stdout",
     "output_type": "stream",
     "text": [
      "데이터 크기: 187088\n",
      "Examples:\n",
      " [\"Now I've heard there was a secret chord\", 'That David played, and it pleased the Lord', \"But you don't really care for music, do you?\"]\n"
     ]
    }
   ],
   "source": [
    "txt_file_path = os.getenv('HOME')+'/aiffel/lyricist/data/lyrics/*'\n",
    "\n",
    "txt_list = glob.glob(txt_file_path)\n",
    "\n",
    "raw_corpus = []\n",
    "\n",
    "# 여러개의 txt 파일을 모두 읽어서 raw_corpus 에 담는다.\n",
    "for txt_file in txt_list:\n",
    "    with open(txt_file, \"r\") as f:\n",
    "        raw = f.read().splitlines()\n",
    "        raw_corpus.extend(raw)\n",
    "\n",
    "print(\"데이터 크기:\", len(raw_corpus))\n",
    "print(\"Examples:\\n\", raw_corpus[:3])"
   ]
  },
  {
   "cell_type": "markdown",
   "id": "9a47a8e6",
   "metadata": {},
   "source": [
    "* `glob`을 활용해서 모든 `txt`파일을 읽어온 후, `raw_corpus` 리스트에 문장 단위로 저장"
   ]
  },
  {
   "cell_type": "code",
   "execution_count": 3,
   "id": "231318e7",
   "metadata": {},
   "outputs": [
    {
     "name": "stdout",
     "output_type": "stream",
     "text": [
      "sentence 0 : Now I've heard there was a secret chord\n",
      "sentence 1 : That David played, and it pleased the Lord\n",
      "sentence 2 : But you don't really care for music, do you?\n",
      "sentence 3 : It goes like this\n",
      "sentence 4 : The fourth, the fifth\n",
      "sentence 5 : The minor fall, the major lift\n",
      "sentence 6 : The baffled king composing Hallelujah Hallelujah\n",
      "sentence 7 : Hallelujah\n",
      "sentence 8 : Hallelujah\n",
      "sentence 9 : Hallelujah Your faith was strong but you needed proof\n"
     ]
    }
   ],
   "source": [
    "for i in range(0, 9+1):\n",
    "    print('sentence',i,':', raw_corpus[i])"
   ]
  },
  {
   "cell_type": "markdown",
   "id": "548c651f",
   "metadata": {},
   "source": [
    "* 앞에서부터 10문장만 출력해본다."
   ]
  },
  {
   "cell_type": "markdown",
   "id": "f0e16e09",
   "metadata": {},
   "source": [
    "### Step 3. 데이터 정제"
   ]
  },
  {
   "cell_type": "code",
   "execution_count": 4,
   "id": "a812fe74",
   "metadata": {
    "scrolled": false
   },
   "outputs": [
    {
     "data": {
      "text/plain": [
       "['<start> now i ve heard there was a secret chord <end>',\n",
       " '<start> that david played , and it pleased the lord <end>',\n",
       " '<start> but you don t really care for music , do you ? <end>',\n",
       " '<start> it goes like this <end>',\n",
       " '<start> the fourth , the fifth <end>',\n",
       " '<start> the minor fall , the major lift <end>',\n",
       " '<start> the baffled king composing hallelujah hallelujah <end>',\n",
       " '<start> hallelujah <end>',\n",
       " '<start> hallelujah <end>',\n",
       " '<start> hallelujah your faith was strong but you needed proof <end>']"
      ]
     },
     "execution_count": 4,
     "metadata": {},
     "output_type": "execute_result"
    }
   ],
   "source": [
    "# 입력된 문장을\n",
    "#     1. 소문자로 바꾸고, 양쪽 공백을 지운다\n",
    "#     2. 특수문자 양쪽에 공백을 넣고\n",
    "#     3. 여러개의 공백은 하나의 공백으로 바꾼다\n",
    "#     4. a-zA-Z?.!,¿가 아닌 모든 문자를 하나의 공백으로 바꾼다\n",
    "#     5. 다시 양쪽 공백을 지운다\n",
    "#     6. 문장 시작에는 <start>, 끝에는 <end>를 추가한다\n",
    "\n",
    "def preprocess_sentence(sentence):\n",
    "    sentence = sentence.lower().strip() # 1\n",
    "    sentence = re.sub(r\"([?.!,¿])\", r\" \\1 \", sentence) # 2\n",
    "    sentence = re.sub(r'[\" \"]+', \" \", sentence) # 3\n",
    "    sentence = re.sub(r\"[^a-zA-Z?.!,¿]+\", \" \", sentence) # 4\n",
    "    sentence = sentence.strip() # 5\n",
    "    sentence = '<start> ' + sentence + ' <end>' # 6\n",
    "    return sentence\n",
    "\n",
    "# 정제된 문장 모으기\n",
    "corpus = []\n",
    "\n",
    "for sentence in raw_corpus:\n",
    "    # 우리가 원하지 않는 문장은 건너뛰기\n",
    "    if len(sentence) == 0 : continue\n",
    "    \n",
    "                    \n",
    "    # 정제를 하고 담기\n",
    "    preprocessed_sentence = preprocess_sentence(sentence)\n",
    "    # 토큰수 15를 맞추기 위해 조건문 넣기\n",
    "    if len(preprocessed_sentence.split()) > 15 : continue\n",
    "    corpus.append(preprocessed_sentence)   \n",
    "    \n",
    "\n",
    "# 정제된 결과를 10개정도 확인해보기\n",
    "corpus[:10]"
   ]
  },
  {
   "cell_type": "code",
   "execution_count": 5,
   "id": "55be4ada",
   "metadata": {},
   "outputs": [
    {
     "name": "stdout",
     "output_type": "stream",
     "text": [
      "[[   2   50    4 ...    0    0    0]\n",
      " [   2   15 2971 ...    0    0    0]\n",
      " [   2   33    7 ...   46    3    0]\n",
      " ...\n",
      " [   2    4  117 ...    0    0    0]\n",
      " [   2  258  195 ...   12    3    0]\n",
      " [   2    7   34 ...    0    0    0]] <keras_preprocessing.text.Tokenizer object at 0x7fc2e970cd60>\n",
      "15\n"
     ]
    }
   ],
   "source": [
    "def tokenize(corpus):\n",
    "    # 12000단어를 기억할 수 있는 tokenizer를 만들기\n",
    "    # 우리는 이미 문장을 정제했으니 filters가 필요없다\n",
    "    # 12000단어에 포함되지 못한 단어는 '<unk>'로 바꾸기\n",
    "    tokenizer = tf.keras.preprocessing.text.Tokenizer(\n",
    "        num_words=12000, \n",
    "        filters=' ',\n",
    "        oov_token=\"<unk>\"\n",
    "    )\n",
    "    # corpus를 이용해 tokenizer 내부의 단어장을 완성하기\n",
    "    tokenizer.fit_on_texts(corpus)\n",
    "    # 준비한 tokenizer를 이용해 corpus를 Tensor로 변환하기\n",
    "    tensor = tokenizer.texts_to_sequences(corpus)   \n",
    "    # 입력 데이터의 시퀀스 길이를 일정하게 맞춰준다\n",
    "    # 만약 시퀀스가 짧다면 문장 뒤에 패딩을 붙여 길이를 맞춰준다\n",
    "    tensor = tf.keras.preprocessing.sequence.pad_sequences(tensor, padding='post')  \n",
    "    \n",
    "    print(tensor,tokenizer)\n",
    "    return tensor, tokenizer\n",
    "\n",
    "tensor, tokenizer = tokenize(corpus)\n",
    "\n",
    "print(len(tensor[0]))"
   ]
  },
  {
   "cell_type": "markdown",
   "id": "ff9557f2",
   "metadata": {},
   "source": [
    "* 토큰화된 토큰의 개수(`len(tensor[0])`)가 15개로 맞춰진 것을 확인할 수 있다."
   ]
  },
  {
   "cell_type": "code",
   "execution_count": 6,
   "id": "d38ad6a4",
   "metadata": {
    "scrolled": true
   },
   "outputs": [
    {
     "name": "stdout",
     "output_type": "stream",
     "text": [
      "[[   2   50    4   95  303   62   53    9  946 6269]\n",
      " [   2   15 2971  872    5    8   11 5747    6  374]\n",
      " [   2   33    7   40   16  164  288   28  333    5]]\n"
     ]
    }
   ],
   "source": [
    "print(tensor[:3, :10])"
   ]
  },
  {
   "cell_type": "markdown",
   "id": "4ca13879",
   "metadata": {},
   "source": [
    "* 생성된 텐서 데이터를 3번째 행, 10번째 열까지만 출력해본다."
   ]
  },
  {
   "cell_type": "code",
   "execution_count": 7,
   "id": "17c0a6ef",
   "metadata": {
    "scrolled": true
   },
   "outputs": [
    {
     "name": "stdout",
     "output_type": "stream",
     "text": [
      "1 : <unk>\n",
      "2 : <start>\n",
      "3 : <end>\n",
      "4 : i\n",
      "5 : ,\n",
      "6 : the\n",
      "7 : you\n",
      "8 : and\n",
      "9 : a\n",
      "10 : to\n"
     ]
    }
   ],
   "source": [
    "for idx in tokenizer.index_word:\n",
    "    print(idx, \":\", tokenizer.index_word[idx])\n",
    "\n",
    "    if idx >= 10: break"
   ]
  },
  {
   "cell_type": "markdown",
   "id": "4d08488e",
   "metadata": {},
   "source": [
    "* tokenizer에 구축된 단어 사전이 어떻게 이루어져 있는지 확인해본다.(10개 정도만)"
   ]
  },
  {
   "cell_type": "code",
   "execution_count": 8,
   "id": "06caa7de",
   "metadata": {},
   "outputs": [
    {
     "name": "stdout",
     "output_type": "stream",
     "text": [
      "[   2   50    4   95  303   62   53    9  946 6269    3    0    0    0]\n",
      "[  50    4   95  303   62   53    9  946 6269    3    0    0    0    0]\n"
     ]
    }
   ],
   "source": [
    "# tensor에서 마지막 토큰을 잘라내서 소스 문장을 생성한다\n",
    "# 마지막 토큰은 <end>가 아니라 <pad>일 가능성이 높다\n",
    "src_input = tensor[:, :-1]  \n",
    "# tensor에서 <start>를 잘라내서 타겟 문장을 생성한다\n",
    "tgt_input = tensor[:, 1:]    \n",
    "\n",
    "print(src_input[0])\n",
    "print(tgt_input[0])"
   ]
  },
  {
   "cell_type": "markdown",
   "id": "722340b5",
   "metadata": {},
   "source": [
    "### Step 4. 평가 데이터셋 분리"
   ]
  },
  {
   "cell_type": "markdown",
   "id": "ddd88c98",
   "metadata": {},
   "source": [
    "* tokenize() 함수로 데이터를 Tensor로 변환한 후, sklearn 모듈의 train_test_split() 함수를 사용해 훈련 데이터와 평가 데이터를 분리한다.\n",
    "* 단어장의 크기는 12,000 이상으로 설정\n",
    "* 총 데이터의 20% 를 평가 데이터셋으로 사용"
   ]
  },
  {
   "cell_type": "code",
   "execution_count": 9,
   "id": "f54e5bdb",
   "metadata": {
    "scrolled": true
   },
   "outputs": [],
   "source": [
    "enc_train, enc_val, dec_train, dec_val = \\\n",
    "train_test_split(src_input, tgt_input, test_size=0.2, random_state=42)"
   ]
  },
  {
   "cell_type": "code",
   "execution_count": 10,
   "id": "f042647a",
   "metadata": {},
   "outputs": [
    {
     "name": "stdout",
     "output_type": "stream",
     "text": [
      "Source Train: (124981, 14)\n",
      "Target Train: (124981, 14)\n"
     ]
    }
   ],
   "source": [
    "print(\"Source Train:\", enc_train.shape)\n",
    "print(\"Target Train:\", dec_train.shape)"
   ]
  },
  {
   "cell_type": "markdown",
   "id": "0760c708",
   "metadata": {},
   "source": [
    "### Step 5. 인공지능 만들기"
   ]
  },
  {
   "cell_type": "markdown",
   "id": "2839bfd9",
   "metadata": {},
   "source": [
    "### (1) embedding_size, hidden_size, batch_size 변동 X"
   ]
  },
  {
   "cell_type": "markdown",
   "id": "9ea458b2",
   "metadata": {},
   "source": [
    "* embedding_size = 256, hidden_size = 1024, batch_size = 256, epoch = 10"
   ]
  },
  {
   "cell_type": "code",
   "execution_count": 11,
   "id": "757d0aa8",
   "metadata": {},
   "outputs": [],
   "source": [
    "class TextGenerator(tf.keras.Model):\n",
    "    def __init__(self, vocab_size, embedding_size, hidden_size):\n",
    "        super().__init__()\n",
    "        \n",
    "        self.embedding = tf.keras.layers.Embedding(vocab_size, embedding_size)\n",
    "        self.rnn_1 = tf.keras.layers.LSTM(hidden_size, return_sequences=True)\n",
    "        self.rnn_2 = tf.keras.layers.LSTM(hidden_size, return_sequences=True)\n",
    "        self.linear = tf.keras.layers.Dense(vocab_size)\n",
    "        \n",
    "    def call(self, x):\n",
    "        out = self.embedding(x)\n",
    "        out = self.rnn_1(out)\n",
    "        out = self.rnn_2(out)\n",
    "        out = self.linear(out)\n",
    "        \n",
    "        return out\n",
    "    \n",
    "embedding_size = 256   # 단어가 추상적으로 표현되는 크기(고려하는 feature의 수)\n",
    "hidden_size = 1024     # 모델에 둘 일꾼의 수(많으면 배가 산으로)\n",
    "model = TextGenerator(tokenizer.num_words + 1, embedding_size , hidden_size)"
   ]
  },
  {
   "cell_type": "code",
   "execution_count": 12,
   "id": "b91e31e6",
   "metadata": {},
   "outputs": [
    {
     "data": {
      "text/plain": [
       "<tf.Tensor: shape=(256, 14, 12001), dtype=float32, numpy=\n",
       "array([[[-6.91385794e-05,  1.03246959e-04, -1.60411873e-05, ...,\n",
       "         -7.07442132e-06,  1.30253029e-04,  3.96558899e-04],\n",
       "        [ 7.11062021e-05,  2.52064434e-04,  8.47305782e-05, ...,\n",
       "         -1.12538175e-04,  3.78595018e-06,  6.82733080e-04],\n",
       "        [ 2.02853262e-04,  3.58414807e-04, -3.43233914e-05, ...,\n",
       "         -3.82795770e-06,  1.88559879e-05,  6.69569068e-04],\n",
       "        ...,\n",
       "        [ 7.03444413e-04, -2.66591931e-04, -7.89099780e-04, ...,\n",
       "          7.37704158e-06,  1.54994777e-03, -7.82235758e-04],\n",
       "        [ 4.95680957e-04, -3.55083379e-04, -8.71496275e-04, ...,\n",
       "         -2.62521731e-04,  1.68857572e-03, -1.11095246e-03],\n",
       "        [ 3.25078814e-04, -3.79017321e-04, -9.38447949e-04, ...,\n",
       "         -5.53093734e-04,  1.85330107e-03, -1.47772580e-03]],\n",
       "\n",
       "       [[-6.91385794e-05,  1.03246959e-04, -1.60411873e-05, ...,\n",
       "         -7.07442132e-06,  1.30253029e-04,  3.96558899e-04],\n",
       "        [-6.94020855e-05,  3.89964203e-04, -4.59055082e-05, ...,\n",
       "          2.81197445e-05, -1.22477766e-04,  8.18631903e-04],\n",
       "        [-1.59728719e-04,  6.01831358e-04, -3.02920846e-04, ...,\n",
       "          3.71873233e-04, -4.43567027e-04,  1.20336725e-03],\n",
       "        ...,\n",
       "        [ 2.04305150e-04, -1.25919323e-04, -4.42486111e-04, ...,\n",
       "         -9.82021302e-05,  2.43619550e-03, -6.22167136e-04],\n",
       "        [ 1.85853671e-04, -1.51462955e-04, -5.47453295e-04, ...,\n",
       "         -5.49731427e-04,  2.59456434e-03, -1.08323456e-03],\n",
       "        [ 1.60346579e-04, -1.11978370e-04, -6.40457205e-04, ...,\n",
       "         -9.77423158e-04,  2.73483247e-03, -1.53903826e-03]],\n",
       "\n",
       "       [[-6.91385794e-05,  1.03246959e-04, -1.60411873e-05, ...,\n",
       "         -7.07442132e-06,  1.30253029e-04,  3.96558899e-04],\n",
       "        [-3.09064373e-04,  4.82561154e-04, -1.45683938e-04, ...,\n",
       "          2.69337634e-05,  4.99691116e-04,  5.96224447e-04],\n",
       "        [-3.81768332e-04,  5.56527521e-04, -2.79540574e-04, ...,\n",
       "          4.47231068e-05,  6.35126780e-04,  8.44452414e-04],\n",
       "        ...,\n",
       "        [-5.25982759e-04, -4.00247693e-04, -1.97850750e-03, ...,\n",
       "         -5.63618203e-04,  4.85177588e-04,  1.10691681e-03],\n",
       "        [-5.61908644e-04, -5.49654069e-04, -1.72340311e-03, ...,\n",
       "         -6.23977277e-04,  2.16053100e-04,  9.54138115e-04],\n",
       "        [-8.55231483e-04, -5.95895050e-04, -1.42567698e-03, ...,\n",
       "         -5.07651130e-04,  3.40672152e-04,  8.42415728e-04]],\n",
       "\n",
       "       ...,\n",
       "\n",
       "       [[-6.91385794e-05,  1.03246959e-04, -1.60411873e-05, ...,\n",
       "         -7.07442132e-06,  1.30253029e-04,  3.96558899e-04],\n",
       "        [-1.80521631e-04, -2.09362042e-04,  1.19873068e-04, ...,\n",
       "         -2.81559245e-04,  3.73591669e-04,  7.65620789e-04],\n",
       "        [-4.17869858e-04, -3.58557882e-04,  1.41572746e-04, ...,\n",
       "         -4.42065852e-04,  3.64737672e-04,  7.37279537e-04],\n",
       "        ...,\n",
       "        [ 1.37524665e-04, -7.73771666e-04,  7.77227804e-04, ...,\n",
       "         -3.89769848e-04,  1.10809004e-03, -1.98192475e-03],\n",
       "        [ 1.85310986e-04, -7.26567698e-04,  5.17582812e-04, ...,\n",
       "         -6.35581906e-04,  1.36803987e-03, -2.21519195e-03],\n",
       "        [ 2.15051463e-04, -6.24754990e-04,  2.79157539e-04, ...,\n",
       "         -8.98727216e-04,  1.62642135e-03, -2.45350087e-03]],\n",
       "\n",
       "       [[-6.91385794e-05,  1.03246959e-04, -1.60411873e-05, ...,\n",
       "         -7.07442132e-06,  1.30253029e-04,  3.96558899e-04],\n",
       "        [-4.66009573e-04,  1.26050363e-04, -1.00184559e-04, ...,\n",
       "         -1.15092509e-04,  1.89891405e-04,  6.77020871e-04],\n",
       "        [-6.21088315e-04,  1.60484691e-04, -3.37536258e-05, ...,\n",
       "         -2.31362850e-04,  3.32612486e-04,  9.58750315e-04],\n",
       "        ...,\n",
       "        [-4.31544409e-04, -4.67043283e-04, -7.61496494e-06, ...,\n",
       "         -2.20787639e-04,  2.55085039e-03, -9.59070690e-04],\n",
       "        [-3.66209249e-04, -3.52992822e-04, -1.70023195e-04, ...,\n",
       "         -5.60453336e-04,  2.64402688e-03, -1.42785290e-03],\n",
       "        [-3.15497542e-04, -2.02372423e-04, -3.11324024e-04, ...,\n",
       "         -8.96408921e-04,  2.73301080e-03, -1.87638414e-03]],\n",
       "\n",
       "       [[-6.91385794e-05,  1.03246959e-04, -1.60411873e-05, ...,\n",
       "         -7.07442132e-06,  1.30253029e-04,  3.96558899e-04],\n",
       "        [ 4.59544535e-05,  5.95324818e-05,  9.82113343e-05, ...,\n",
       "          1.94457083e-04,  7.20618933e-04,  6.85616222e-04],\n",
       "        [ 1.66769853e-04, -1.76411399e-04,  2.33070969e-04, ...,\n",
       "          3.55725904e-04,  7.09660642e-04,  7.03553029e-04],\n",
       "        ...,\n",
       "        [ 6.37278072e-06, -4.90174920e-04, -4.28270461e-04, ...,\n",
       "         -4.94898355e-04,  2.21326877e-03, -1.58705399e-03],\n",
       "        [ 2.01741386e-05, -3.39135993e-04, -5.17126231e-04, ...,\n",
       "         -8.42645764e-04,  2.43428955e-03, -2.00682227e-03],\n",
       "        [ 2.11785300e-05, -1.63353921e-04, -5.99775289e-04, ...,\n",
       "         -1.16855139e-03,  2.62136874e-03, -2.40470143e-03]]],\n",
       "      dtype=float32)>"
      ]
     },
     "execution_count": 12,
     "metadata": {},
     "output_type": "execute_result"
    }
   ],
   "source": [
    "# corpus 텐서를 tf.data.Dataset객체로 변환\n",
    "dataset = tf.data.Dataset.from_tensor_slices((src_input, tgt_input))\n",
    "dataset = dataset.shuffle(len(src_input))\n",
    "dataset = dataset.batch(256, drop_remainder=True)\n",
    "\n",
    "# model에 작은 데이터셋으로 input shape를 결정\n",
    "for src_sample, tgt_sample in dataset.take(1): break\n",
    "\n",
    "# 한 배치만 불러온 데이터를 모델에 넣어봅니다\n",
    "model(src_sample)"
   ]
  },
  {
   "cell_type": "code",
   "execution_count": 13,
   "id": "a0f3e68c",
   "metadata": {},
   "outputs": [
    {
     "name": "stdout",
     "output_type": "stream",
     "text": [
      "Model: \"text_generator\"\n",
      "_________________________________________________________________\n",
      "Layer (type)                 Output Shape              Param #   \n",
      "=================================================================\n",
      "embedding (Embedding)        multiple                  3072256   \n",
      "_________________________________________________________________\n",
      "lstm (LSTM)                  multiple                  5246976   \n",
      "_________________________________________________________________\n",
      "lstm_1 (LSTM)                multiple                  8392704   \n",
      "_________________________________________________________________\n",
      "dense (Dense)                multiple                  12301025  \n",
      "=================================================================\n",
      "Total params: 29,012,961\n",
      "Trainable params: 29,012,961\n",
      "Non-trainable params: 0\n",
      "_________________________________________________________________\n"
     ]
    }
   ],
   "source": [
    "model.summary()"
   ]
  },
  {
   "cell_type": "code",
   "execution_count": 14,
   "id": "a3f9ac1b",
   "metadata": {},
   "outputs": [
    {
     "name": "stdout",
     "output_type": "stream",
     "text": [
      "Epoch 1/10\n",
      "489/489 [==============================] - 90s 178ms/step - loss: 3.5736 - val_loss: 3.1774\n",
      "Epoch 2/10\n",
      "489/489 [==============================] - 87s 178ms/step - loss: 3.0520 - val_loss: 2.9831\n",
      "Epoch 3/10\n",
      "489/489 [==============================] - 87s 178ms/step - loss: 2.8806 - val_loss: 2.8675\n",
      "Epoch 4/10\n",
      "489/489 [==============================] - 87s 178ms/step - loss: 2.7543 - val_loss: 2.7873\n",
      "Epoch 5/10\n",
      "489/489 [==============================] - 87s 178ms/step - loss: 2.6466 - val_loss: 2.7230\n",
      "Epoch 6/10\n",
      "489/489 [==============================] - 87s 178ms/step - loss: 2.5490 - val_loss: 2.6729\n",
      "Epoch 7/10\n",
      "489/489 [==============================] - 87s 178ms/step - loss: 2.4573 - val_loss: 2.6233\n",
      "Epoch 8/10\n",
      "489/489 [==============================] - 87s 178ms/step - loss: 2.3699 - val_loss: 2.5830\n",
      "Epoch 9/10\n",
      "489/489 [==============================] - 87s 178ms/step - loss: 2.2863 - val_loss: 2.5422\n",
      "Epoch 10/10\n",
      "489/489 [==============================] - 87s 178ms/step - loss: 2.2065 - val_loss: 2.5116\n"
     ]
    }
   ],
   "source": [
    "optimizer = tf.keras.optimizers.Adam()\n",
    "loss = tf.keras.losses.SparseCategoricalCrossentropy(\n",
    "    from_logits=True, reduction='none')\n",
    "\n",
    "model.compile(loss=loss, optimizer=optimizer)\n",
    "early_stopping_cb = tf.keras.callbacks.EarlyStopping(patience=2, restore_best_weights=True)\n",
    "history = model.fit(enc_train, dec_train, epochs=10, batch_size=256, \n",
    "                    validation_data=(enc_val, dec_val), callbacks=[early_stopping_cb])  "
   ]
  },
  {
   "cell_type": "markdown",
   "id": "f37f9633",
   "metadata": {},
   "source": [
    "* val_loss가 최저 2.5116까지만 내려간다."
   ]
  },
  {
   "cell_type": "code",
   "execution_count": 15,
   "id": "85baa02e",
   "metadata": {},
   "outputs": [
    {
     "data": {
      "image/png": "[encoded data removed]",
      "text/plain": [
       "<Figure size 432x288 with 1 Axes>"
      ]
     },
     "metadata": {
      "needs_background": "light"
     },
     "output_type": "display_data"
    }
   ],
   "source": [
    "plt.plot(history.history['loss'])\n",
    "plt.plot(history.history['val_loss'])\n",
    "plt.xlabel('epoch')\n",
    "plt.ylabel('loss')\n",
    "plt.legend(['train', 'val'])\n",
    "plt.show()"
   ]
  },
  {
   "cell_type": "markdown",
   "id": "02e2114b",
   "metadata": {},
   "source": [
    "* 그래프로 확인 시 validation loss의 감소폭이 줄어드는 것을 볼 수 있다."
   ]
  },
  {
   "cell_type": "code",
   "execution_count": 16,
   "id": "e7565847",
   "metadata": {},
   "outputs": [],
   "source": [
    "def generate_text(model, tokenizer, init_sentence=\"<start>\", max_len=20):\n",
    "    # 테스트를 위해서 입력받은 init_sentence도 텐서로 변환합니다\n",
    "    test_input = tokenizer.texts_to_sequences([init_sentence])\n",
    "    test_tensor = tf.convert_to_tensor(test_input, dtype=tf.int64)\n",
    "    end_token = tokenizer.word_index[\"<end>\"]\n",
    "\n",
    "    # 단어 하나씩 예측해 문장을 만듭니다\n",
    "    #    1. 입력받은 문장의 텐서를 입력합니다\n",
    "    #    2. 예측된 값 중 가장 높은 확률인 word index를 뽑아냅니다\n",
    "    #    3. 2에서 예측된 word index를 문장 뒤에 붙입니다\n",
    "    #    4. 모델이 <end>를 예측했거나, max_len에 도달했다면 문장 생성을 마칩니다\n",
    "    while True:\n",
    "        # 1\n",
    "        predict = model(test_tensor) \n",
    "        # 2\n",
    "        predict_word = tf.argmax(tf.nn.softmax(predict, axis=-1), axis=-1)[:, -1] \n",
    "        # 3 \n",
    "        test_tensor = tf.concat([test_tensor, tf.expand_dims(predict_word, axis=0)], axis=-1)\n",
    "        # 4\n",
    "        if predict_word.numpy()[0] == end_token: break\n",
    "        if test_tensor.shape[1] >= max_len: break\n",
    "\n",
    "    generated = \"\"\n",
    "    # tokenizer를 이용해 word index를 단어로 하나씩 변환합니다 \n",
    "    for word_index in test_tensor[0].numpy():\n",
    "        generated += tokenizer.index_word[word_index] + \" \"\n",
    "\n",
    "    return generated"
   ]
  },
  {
   "cell_type": "code",
   "execution_count": 17,
   "id": "691a6192",
   "metadata": {},
   "outputs": [
    {
     "data": {
      "text/plain": [
       "'<start> i love you , i love you <end> '"
      ]
     },
     "execution_count": 17,
     "metadata": {},
     "output_type": "execute_result"
    }
   ],
   "source": [
    "generate_text(model, tokenizer, init_sentence=\"<start> i love\", max_len=20)"
   ]
  },
  {
   "cell_type": "markdown",
   "id": "fde6ad69",
   "metadata": {},
   "source": [
    "### (2) embedding_size, hidden_size, batch_size 변동 O"
   ]
  },
  {
   "cell_type": "markdown",
   "id": "49bd179c",
   "metadata": {},
   "source": [
    "### (2)-1. embedding_size = 256, hidden_size = 1536, batch_size=512, epoch = 10"
   ]
  },
  {
   "cell_type": "code",
   "execution_count": 18,
   "id": "55562a65",
   "metadata": {},
   "outputs": [],
   "source": [
    "class TextGenerator(tf.keras.Model):\n",
    "    def __init__(self, vocab_size, embedding_size, hidden_size):\n",
    "        super().__init__()\n",
    "        \n",
    "        self.embedding = tf.keras.layers.Embedding(vocab_size, embedding_size)\n",
    "        self.rnn_1 = tf.keras.layers.LSTM(hidden_size, return_sequences=True)\n",
    "        self.rnn_2 = tf.keras.layers.LSTM(hidden_size, return_sequences=True)\n",
    "        self.linear = tf.keras.layers.Dense(vocab_size)\n",
    "        \n",
    "    def call(self, x):\n",
    "        out = self.embedding(x)\n",
    "        out = self.rnn_1(out)\n",
    "        out = self.rnn_2(out)\n",
    "        out = self.linear(out)\n",
    "        \n",
    "        return out\n",
    "    \n",
    "embedding_size = 256\n",
    "hidden_size = 1536\n",
    "model = TextGenerator(tokenizer.num_words + 1, embedding_size , hidden_size)"
   ]
  },
  {
   "cell_type": "code",
   "execution_count": 19,
   "id": "b8614330",
   "metadata": {},
   "outputs": [
    {
     "data": {
      "text/plain": [
       "<tf.Tensor: shape=(512, 14, 12001), dtype=float32, numpy=\n",
       "array([[[ 2.18499408e-04,  6.06722424e-05,  2.56924948e-04, ...,\n",
       "         -1.62553610e-04,  4.32875549e-06, -2.55703344e-04],\n",
       "        [ 4.36242117e-04, -2.65461567e-04,  5.97266131e-04, ...,\n",
       "         -7.45826401e-05,  1.89352693e-04, -2.88448762e-04],\n",
       "        [ 3.47174966e-04, -5.63009118e-04,  5.65462105e-04, ...,\n",
       "         -5.97722610e-05,  2.18322763e-04, -2.97542079e-04],\n",
       "        ...,\n",
       "        [ 2.00871960e-03, -1.72287668e-03, -1.59552484e-03, ...,\n",
       "         -8.94346158e-04,  7.70803483e-04,  9.03842098e-04],\n",
       "        [ 2.09037377e-03, -1.62749575e-03, -1.67486281e-03, ...,\n",
       "         -9.70432651e-04,  7.19982898e-04,  1.10251922e-03],\n",
       "        [ 2.15095771e-03, -1.52275560e-03, -1.73408317e-03, ...,\n",
       "         -1.03356573e-03,  6.73133938e-04,  1.27754395e-03]],\n",
       "\n",
       "       [[ 2.18499408e-04,  6.06722424e-05,  2.56924948e-04, ...,\n",
       "         -1.62553610e-04,  4.32875549e-06, -2.55703344e-04],\n",
       "        [ 2.32918217e-04, -3.08867253e-04,  3.52920440e-04, ...,\n",
       "         -2.82821529e-05, -8.55173057e-05, -3.75079864e-04],\n",
       "        [ 6.24217137e-05, -8.11501814e-04,  3.38588696e-04, ...,\n",
       "          8.99425504e-05, -2.28152712e-04, -3.79180652e-04],\n",
       "        ...,\n",
       "        [ 1.41927786e-03, -2.54420028e-03, -1.28990959e-03, ...,\n",
       "         -9.21686355e-04,  9.17923928e-04,  5.94072160e-04],\n",
       "        [ 1.71227031e-03, -2.51576677e-03, -1.40803016e-03, ...,\n",
       "         -9.71603615e-04,  8.81336222e-04,  7.68660801e-04],\n",
       "        [ 1.94991566e-03, -2.43645278e-03, -1.50298246e-03, ...,\n",
       "         -1.01146090e-03,  8.14813422e-04,  9.49712994e-04]],\n",
       "\n",
       "       [[ 2.18499408e-04,  6.06722424e-05,  2.56924948e-04, ...,\n",
       "         -1.62553610e-04,  4.32875549e-06, -2.55703344e-04],\n",
       "        [ 2.86422845e-04, -2.13414951e-05,  1.69261621e-04, ...,\n",
       "         -1.47884086e-04,  1.26176255e-05, -3.72321694e-04],\n",
       "        [ 2.01584684e-04, -7.44910503e-05,  9.57562152e-05, ...,\n",
       "         -3.53994576e-04,  2.88898736e-04, -3.71117843e-04],\n",
       "        ...,\n",
       "        [-7.37847935e-04, -2.00778173e-04,  1.02846336e-03, ...,\n",
       "         -2.53843580e-04, -7.66807236e-04,  5.87050279e-04],\n",
       "        [-6.51025854e-04, -5.45590185e-04,  7.74088199e-04, ...,\n",
       "         -1.82066404e-04, -5.42661292e-04,  5.27343247e-04],\n",
       "        [-3.92495742e-04, -8.94927827e-04,  5.03612275e-04, ...,\n",
       "         -1.11062524e-04, -2.08423196e-04,  4.44090867e-04]],\n",
       "\n",
       "       ...,\n",
       "\n",
       "       [[ 2.18499408e-04,  6.06722424e-05,  2.56924948e-04, ...,\n",
       "         -1.62553610e-04,  4.32875549e-06, -2.55703344e-04],\n",
       "        [ 5.32124599e-04,  2.21308619e-05,  4.69216175e-04, ...,\n",
       "         -2.93267745e-04,  8.07432807e-05, -5.59992797e-04],\n",
       "        [ 4.67014703e-04, -1.55196365e-04,  5.85123547e-04, ...,\n",
       "         -5.26233111e-04,  1.24557671e-04, -6.52592920e-04],\n",
       "        ...,\n",
       "        [ 1.33295514e-04,  7.05762417e-04,  4.17321135e-04, ...,\n",
       "         -2.00923805e-05,  1.46191288e-03,  2.70871038e-04],\n",
       "        [ 3.80386809e-05,  6.67959335e-04,  1.27012972e-04, ...,\n",
       "          1.91399085e-04,  1.47541321e-03,  2.50128942e-04],\n",
       "        [-3.50898685e-04,  3.02570901e-04, -4.63088909e-05, ...,\n",
       "          4.28196072e-04,  1.52485224e-03,  1.44573060e-04]],\n",
       "\n",
       "       [[ 2.18499408e-04,  6.06722424e-05,  2.56924948e-04, ...,\n",
       "         -1.62553610e-04,  4.32875549e-06, -2.55703344e-04],\n",
       "        [ 4.59480361e-04,  9.82663842e-05,  1.86661404e-04, ...,\n",
       "         -2.26791162e-04, -1.95142402e-05, -2.62162881e-04],\n",
       "        [ 4.54740191e-04,  2.40577981e-04,  3.67522764e-04, ...,\n",
       "         -3.86222353e-04, -4.27306113e-05, -4.51943284e-04],\n",
       "        ...,\n",
       "        [ 1.45039626e-03, -1.51907350e-03, -1.24994374e-03, ...,\n",
       "         -6.43879641e-04,  8.66126153e-04,  4.26260289e-04],\n",
       "        [ 1.66305562e-03, -1.57161115e-03, -1.40442362e-03, ...,\n",
       "         -7.33667810e-04,  8.52961733e-04,  6.78451615e-04],\n",
       "        [ 1.83773204e-03, -1.57760829e-03, -1.52632105e-03, ...,\n",
       "         -8.15189967e-04,  8.13570514e-04,  9.16004297e-04]],\n",
       "\n",
       "       [[ 2.18499408e-04,  6.06722424e-05,  2.56924948e-04, ...,\n",
       "         -1.62553610e-04,  4.32875549e-06, -2.55703344e-04],\n",
       "        [ 2.47503594e-05, -1.65978403e-04,  6.02730492e-04, ...,\n",
       "         -2.72158330e-04,  8.32092846e-05, -4.63894277e-04],\n",
       "        [ 3.02826538e-05, -4.37683542e-04,  6.62169943e-04, ...,\n",
       "         -5.19549416e-04, -1.62034339e-04, -2.87657022e-04],\n",
       "        ...,\n",
       "        [ 8.96526908e-04, -1.50482729e-03, -4.13222333e-05, ...,\n",
       "          2.34295789e-04,  3.39461712e-06,  8.38380656e-04],\n",
       "        [ 1.18772849e-03, -1.63380429e-03, -3.92247719e-04, ...,\n",
       "          1.46628896e-04,  2.77508458e-04,  8.58342799e-04],\n",
       "        [ 1.45727617e-03, -1.70778926e-03, -7.01573794e-04, ...,\n",
       "          2.89083891e-05,  4.71600826e-04,  9.26455366e-04]]],\n",
       "      dtype=float32)>"
      ]
     },
     "execution_count": 19,
     "metadata": {},
     "output_type": "execute_result"
    }
   ],
   "source": [
    "# corpus 텐서를 tf.data.Dataset객체로 변환\n",
    "dataset = tf.data.Dataset.from_tensor_slices((src_input, tgt_input))\n",
    "dataset = dataset.shuffle(len(src_input))\n",
    "dataset = dataset.batch(512, drop_remainder=True)\n",
    "\n",
    "# model에 작은 데이터셋으로 input shape를 결정\n",
    "for src_sample, tgt_sample in dataset.take(1): break\n",
    "\n",
    "# 한 배치만 불러온 데이터를 모델에 넣어봅니다\n",
    "model(src_sample)"
   ]
  },
  {
   "cell_type": "code",
   "execution_count": 20,
   "id": "19efb5c9",
   "metadata": {},
   "outputs": [
    {
     "name": "stdout",
     "output_type": "stream",
     "text": [
      "Model: \"text_generator_1\"\n",
      "_________________________________________________________________\n",
      "Layer (type)                 Output Shape              Param #   \n",
      "=================================================================\n",
      "embedding_1 (Embedding)      multiple                  3072256   \n",
      "_________________________________________________________________\n",
      "lstm_2 (LSTM)                multiple                  11016192  \n",
      "_________________________________________________________________\n",
      "lstm_3 (LSTM)                multiple                  18880512  \n",
      "_________________________________________________________________\n",
      "dense_1 (Dense)              multiple                  18445537  \n",
      "=================================================================\n",
      "Total params: 51,414,497\n",
      "Trainable params: 51,414,497\n",
      "Non-trainable params: 0\n",
      "_________________________________________________________________\n"
     ]
    }
   ],
   "source": [
    "model.summary()"
   ]
  },
  {
   "cell_type": "code",
   "execution_count": 21,
   "id": "92d472b2",
   "metadata": {
    "scrolled": false
   },
   "outputs": [
    {
     "name": "stdout",
     "output_type": "stream",
     "text": [
      "Epoch 1/10\n",
      "245/245 [==============================] - 153s 616ms/step - loss: 3.8238 - val_loss: 3.3754\n",
      "Epoch 2/10\n",
      "245/245 [==============================] - 151s 615ms/step - loss: 3.2621 - val_loss: 3.2126\n",
      "Epoch 3/10\n",
      "245/245 [==============================] - 151s 616ms/step - loss: 3.1203 - val_loss: 3.0792\n",
      "Epoch 4/10\n",
      "245/245 [==============================] - 151s 617ms/step - loss: 2.9858 - val_loss: 2.9770\n",
      "Epoch 5/10\n",
      "245/245 [==============================] - 151s 618ms/step - loss: 2.8784 - val_loss: 2.9002\n",
      "Epoch 6/10\n",
      "245/245 [==============================] - 151s 618ms/step - loss: 2.7848 - val_loss: 2.8324\n",
      "Epoch 7/10\n",
      "245/245 [==============================] - 151s 618ms/step - loss: 2.6984 - val_loss: 2.7800\n",
      "Epoch 8/10\n",
      "245/245 [==============================] - 151s 618ms/step - loss: 2.6194 - val_loss: 2.7298\n",
      "Epoch 9/10\n",
      "245/245 [==============================] - 151s 618ms/step - loss: 2.5464 - val_loss: 2.6916\n",
      "Epoch 10/10\n",
      "245/245 [==============================] - 151s 618ms/step - loss: 2.4770 - val_loss: 2.6529\n"
     ]
    }
   ],
   "source": [
    "optimizer = tf.keras.optimizers.Adam()\n",
    "loss = tf.keras.losses.SparseCategoricalCrossentropy(\n",
    "    from_logits=True, reduction='none')\n",
    "\n",
    "model.compile(loss=loss, optimizer=optimizer)\n",
    "early_stopping_cb = tf.keras.callbacks.EarlyStopping(patience=2, restore_best_weights=True)\n",
    "history = model.fit(enc_train, dec_train, epochs=10, batch_size=512, \n",
    "                     validation_data=(enc_val, dec_val), callbacks=[early_stopping_cb])    "
   ]
  },
  {
   "cell_type": "markdown",
   "id": "092d0b7a",
   "metadata": {},
   "source": [
    "* val_loss가 최저 2.6529까지만 내려간다."
   ]
  },
  {
   "cell_type": "code",
   "execution_count": 22,
   "id": "64edbb01",
   "metadata": {},
   "outputs": [
    {
     "data": {
      "image/png": "[encoded data removed]",
      "text/plain": [
       "<Figure size 432x288 with 1 Axes>"
      ]
     },
     "metadata": {
      "needs_background": "light"
     },
     "output_type": "display_data"
    }
   ],
   "source": [
    "plt.plot(history.history['loss'])\n",
    "plt.plot(history.history['val_loss'])\n",
    "plt.xlabel('epoch')\n",
    "plt.ylabel('loss')\n",
    "plt.legend(['train', 'val'])\n",
    "plt.show()"
   ]
  },
  {
   "cell_type": "markdown",
   "id": "eeb3ffeb",
   "metadata": {},
   "source": [
    "* 하이퍼파라미터에 변경을 줘서 학습시켜 보았다. \n",
    "* 이전과 비교 시 큰 차이점도 없었을 뿐더러 validation loss 감소폭에도 변화가 없다."
   ]
  },
  {
   "cell_type": "code",
   "execution_count": 23,
   "id": "576895ce",
   "metadata": {},
   "outputs": [],
   "source": [
    "def generate_text(model, tokenizer, init_sentence=\"<start>\", max_len=20):\n",
    "    # 테스트를 위해서 입력받은 init_sentence도 텐서로 변환합니다\n",
    "    test_input = tokenizer.texts_to_sequences([init_sentence])\n",
    "    test_tensor = tf.convert_to_tensor(test_input, dtype=tf.int64)\n",
    "    end_token = tokenizer.word_index[\"<end>\"]\n",
    "\n",
    "    # 단어 하나씩 예측해 문장을 만듭니다\n",
    "    #    1. 입력받은 문장의 텐서를 입력합니다\n",
    "    #    2. 예측된 값 중 가장 높은 확률인 word index를 뽑아냅니다\n",
    "    #    3. 2에서 예측된 word index를 문장 뒤에 붙입니다\n",
    "    #    4. 모델이 <end>를 예측했거나, max_len에 도달했다면 문장 생성을 마칩니다\n",
    "    while True:\n",
    "        # 1\n",
    "        predict = model(test_tensor) \n",
    "        # 2\n",
    "        predict_word = tf.argmax(tf.nn.softmax(predict, axis=-1), axis=-1)[:, -1] \n",
    "        # 3 \n",
    "        test_tensor = tf.concat([test_tensor, tf.expand_dims(predict_word, axis=0)], axis=-1)\n",
    "        # 4\n",
    "        if predict_word.numpy()[0] == end_token: break\n",
    "        if test_tensor.shape[1] >= max_len: break\n",
    "\n",
    "    generated = \"\"\n",
    "    # tokenizer를 이용해 word index를 단어로 하나씩 변환합니다 \n",
    "    for word_index in test_tensor[0].numpy():\n",
    "        generated += tokenizer.index_word[word_index] + \" \"\n",
    "\n",
    "    return generated"
   ]
  },
  {
   "cell_type": "code",
   "execution_count": 24,
   "id": "65df9991",
   "metadata": {},
   "outputs": [
    {
     "data": {
      "text/plain": [
       "'<start> i love you , i m a motherfucking monster <end> '"
      ]
     },
     "execution_count": 24,
     "metadata": {},
     "output_type": "execute_result"
    }
   ],
   "source": [
    "generate_text(model, tokenizer, init_sentence=\"<start> i love\", max_len=20)"
   ]
  },
  {
   "cell_type": "markdown",
   "id": "b681ca7d",
   "metadata": {},
   "source": [
    "### (2)-2. embedding_size = 128, hidden_size = 1536, batch_size=512, epoch = 10"
   ]
  },
  {
   "cell_type": "code",
   "execution_count": 25,
   "id": "581db9c9",
   "metadata": {},
   "outputs": [],
   "source": [
    "class TextGenerator(tf.keras.Model):\n",
    "    def __init__(self, vocab_size, embedding_size, hidden_size):\n",
    "        super().__init__()\n",
    "        \n",
    "        self.embedding = tf.keras.layers.Embedding(vocab_size, embedding_size)\n",
    "        self.rnn_1 = tf.keras.layers.LSTM(hidden_size, return_sequences=True)\n",
    "        self.rnn_2 = tf.keras.layers.LSTM(hidden_size, return_sequences=True)\n",
    "        self.linear = tf.keras.layers.Dense(vocab_size)\n",
    "        \n",
    "    def call(self, x):\n",
    "        out = self.embedding(x)\n",
    "        out = self.rnn_1(out)\n",
    "        out = self.rnn_2(out)\n",
    "        out = self.linear(out)\n",
    "        \n",
    "        return out\n",
    "    \n",
    "embedding_size = 128\n",
    "hidden_size = 1536\n",
    "model = TextGenerator(tokenizer.num_words + 1, embedding_size , hidden_size)"
   ]
  },
  {
   "cell_type": "code",
   "execution_count": 26,
   "id": "210ad498",
   "metadata": {},
   "outputs": [
    {
     "data": {
      "text/plain": [
       "<tf.Tensor: shape=(512, 14, 12001), dtype=float32, numpy=\n",
       "array([[[ 9.79155957e-05,  9.56032236e-05, -2.95756181e-04, ...,\n",
       "         -4.62860407e-05, -6.32741067e-05,  8.53152233e-05],\n",
       "        [-1.18024866e-04, -2.23680890e-05, -3.17116821e-04, ...,\n",
       "         -1.07855369e-04, -2.59613007e-04,  1.20033892e-05],\n",
       "        [-4.05446510e-04,  1.44826672e-05, -4.44897189e-04, ...,\n",
       "         -2.49483535e-04, -3.19552259e-04, -4.75301313e-05],\n",
       "        ...,\n",
       "        [-1.00053707e-03,  5.95149759e-04,  3.44271743e-04, ...,\n",
       "         -2.23142051e-04, -3.76104057e-04,  2.17275356e-05],\n",
       "        [-1.11602177e-03,  5.85445552e-04,  7.47941202e-04, ...,\n",
       "         -2.11931838e-04, -2.07534613e-04,  2.88133488e-05],\n",
       "        [-1.23388937e-03,  5.65254421e-04,  1.12718344e-03, ...,\n",
       "         -2.07348858e-04,  1.22967435e-06,  3.78055811e-05]],\n",
       "\n",
       "       [[ 9.79155957e-05,  9.56032236e-05, -2.95756181e-04, ...,\n",
       "         -4.62860407e-05, -6.32741067e-05,  8.53152233e-05],\n",
       "        [ 3.32096715e-06,  2.34809977e-05, -3.94214556e-04, ...,\n",
       "         -9.92576897e-05, -1.39922937e-04,  2.26227741e-04],\n",
       "        [-1.00776866e-04,  6.33806267e-05, -4.61143441e-04, ...,\n",
       "         -9.77471864e-05, -2.29892379e-04,  2.86437687e-04],\n",
       "        ...,\n",
       "        [-3.81213671e-04,  2.39775807e-04, -1.41408562e-03, ...,\n",
       "         -4.37248382e-04,  1.40918873e-03,  2.55097169e-04],\n",
       "        [-4.79572074e-04,  3.29312286e-04, -1.09239703e-03, ...,\n",
       "         -3.58636607e-04,  1.24174764e-03,  2.60027737e-04],\n",
       "        [-6.00130239e-04,  3.39594058e-04, -6.30558003e-04, ...,\n",
       "         -2.67940079e-04,  1.14207703e-03,  2.74419726e-04]],\n",
       "\n",
       "       [[ 9.79155957e-05,  9.56032236e-05, -2.95756181e-04, ...,\n",
       "         -4.62860407e-05, -6.32741067e-05,  8.53152233e-05],\n",
       "        [ 2.37458429e-04,  1.90771607e-04, -5.05089061e-04, ...,\n",
       "         -2.57871667e-04, -2.68803589e-04,  7.15063288e-05],\n",
       "        [ 1.92202555e-04,  2.27123237e-04, -7.78138521e-04, ...,\n",
       "         -4.98413749e-04, -4.36146074e-04, -1.14461691e-04],\n",
       "        ...,\n",
       "        [-2.62733975e-05,  6.83849445e-04, -5.79196087e-04, ...,\n",
       "         -2.65886745e-04, -1.08690502e-03,  5.62240421e-05],\n",
       "        [-2.09013029e-04,  7.33904424e-04, -2.30669684e-04, ...,\n",
       "         -2.61290843e-04, -9.24460881e-04,  5.47696327e-05],\n",
       "        [-4.13293601e-04,  7.40152260e-04,  1.81997064e-04, ...,\n",
       "         -2.46455718e-04, -6.75266318e-04,  6.09227063e-05]],\n",
       "\n",
       "       ...,\n",
       "\n",
       "       [[ 9.79155957e-05,  9.56032236e-05, -2.95756181e-04, ...,\n",
       "         -4.62860407e-05, -6.32741067e-05,  8.53152233e-05],\n",
       "        [ 1.62890574e-04,  3.05007507e-05, -4.23083256e-04, ...,\n",
       "         -7.13259578e-05, -5.13567793e-05,  1.67330261e-04],\n",
       "        [ 1.50035252e-04, -1.93510117e-04, -3.40889819e-04, ...,\n",
       "         -1.57038841e-04, -2.29787489e-04,  1.76722766e-04],\n",
       "        ...,\n",
       "        [ 3.04712419e-04,  2.68228410e-04, -6.70550391e-04, ...,\n",
       "         -4.21033008e-04, -8.14902189e-04,  1.41359319e-03],\n",
       "        [ 4.52993816e-04,  3.75592092e-04, -6.79369434e-04, ...,\n",
       "         -4.35930648e-04, -6.73409610e-04,  1.27154170e-03],\n",
       "        [ 4.39697847e-04,  6.68387685e-04, -6.98670163e-04, ...,\n",
       "         -5.09904872e-04, -8.32423335e-04,  1.11761852e-03]],\n",
       "\n",
       "       [[ 9.79155957e-05,  9.56032236e-05, -2.95756181e-04, ...,\n",
       "         -4.62860407e-05, -6.32741067e-05,  8.53152233e-05],\n",
       "        [ 2.67427182e-04,  2.36009109e-05, -4.29105974e-04, ...,\n",
       "          7.80514602e-05,  3.84741252e-05,  1.71463427e-04],\n",
       "        [ 3.03025619e-04, -3.65284868e-05, -3.89249675e-04, ...,\n",
       "          1.76345548e-05, -2.16568456e-04,  1.02464153e-04],\n",
       "        ...,\n",
       "        [-2.70761608e-04,  1.83873548e-04, -1.83487893e-04, ...,\n",
       "         -4.81086900e-04, -6.52141927e-04, -1.95582743e-05],\n",
       "        [-4.21948091e-04,  2.49926350e-04,  1.68583298e-04, ...,\n",
       "         -4.59806266e-04, -4.90146282e-04,  4.46864105e-05],\n",
       "        [-5.77989966e-04,  3.01690918e-04,  5.33978979e-04, ...,\n",
       "         -4.32759349e-04, -2.70495104e-04,  9.04971530e-05]],\n",
       "\n",
       "       [[ 9.79155957e-05,  9.56032236e-05, -2.95756181e-04, ...,\n",
       "         -4.62860407e-05, -6.32741067e-05,  8.53152233e-05],\n",
       "        [ 3.03265915e-05,  6.84909101e-05, -1.35574839e-04, ...,\n",
       "          1.34970993e-04, -1.75385358e-04,  1.67632083e-04],\n",
       "        [-9.91482884e-05,  1.08996792e-04, -9.05475026e-05, ...,\n",
       "          3.24738299e-04,  8.00282578e-06,  2.31971484e-04],\n",
       "        ...,\n",
       "        [-2.72275684e-05, -2.71806584e-06, -1.48133884e-04, ...,\n",
       "         -2.59635155e-04,  8.81399901e-04,  6.14246586e-04],\n",
       "        [-1.20474448e-04, -7.59850373e-05, -2.02693904e-04, ...,\n",
       "         -3.08275979e-04,  7.33381778e-04,  6.43987150e-04],\n",
       "        [-2.26086879e-04, -8.04061347e-05, -3.20562365e-04, ...,\n",
       "         -5.33597602e-04,  7.80904025e-04,  6.76044263e-04]]],\n",
       "      dtype=float32)>"
      ]
     },
     "execution_count": 26,
     "metadata": {},
     "output_type": "execute_result"
    }
   ],
   "source": [
    "# corpus 텐서를 tf.data.Dataset객체로 변환\n",
    "dataset = tf.data.Dataset.from_tensor_slices((src_input, tgt_input))\n",
    "dataset = dataset.shuffle(len(src_input))\n",
    "dataset = dataset.batch(512, drop_remainder=True)\n",
    "\n",
    "# model에 작은 데이터셋으로 input shape를 결정\n",
    "for src_sample, tgt_sample in dataset.take(1): break\n",
    "\n",
    "# 한 배치만 불러온 데이터를 모델에 넣어봅니다\n",
    "model(src_sample)"
   ]
  },
  {
   "cell_type": "code",
   "execution_count": 27,
   "id": "1eb7f2b6",
   "metadata": {},
   "outputs": [
    {
     "name": "stdout",
     "output_type": "stream",
     "text": [
      "Model: \"text_generator_2\"\n",
      "_________________________________________________________________\n",
      "Layer (type)                 Output Shape              Param #   \n",
      "=================================================================\n",
      "embedding_2 (Embedding)      multiple                  1536128   \n",
      "_________________________________________________________________\n",
      "lstm_4 (LSTM)                multiple                  10229760  \n",
      "_________________________________________________________________\n",
      "lstm_5 (LSTM)                multiple                  18880512  \n",
      "_________________________________________________________________\n",
      "dense_2 (Dense)              multiple                  18445537  \n",
      "=================================================================\n",
      "Total params: 49,091,937\n",
      "Trainable params: 49,091,937\n",
      "Non-trainable params: 0\n",
      "_________________________________________________________________\n"
     ]
    }
   ],
   "source": [
    "model.summary()"
   ]
  },
  {
   "cell_type": "code",
   "execution_count": 28,
   "id": "a31471ef",
   "metadata": {},
   "outputs": [
    {
     "name": "stdout",
     "output_type": "stream",
     "text": [
      "Epoch 1/10\n",
      "245/245 [==============================] - 152s 612ms/step - loss: 3.6763 - val_loss: 3.2583\n",
      "Epoch 2/10\n",
      "245/245 [==============================] - 149s 610ms/step - loss: 3.1314 - val_loss: 3.0604\n",
      "Epoch 3/10\n",
      "245/245 [==============================] - 149s 610ms/step - loss: 2.9531 - val_loss: 2.9294\n",
      "Epoch 4/10\n",
      "245/245 [==============================] - 150s 611ms/step - loss: 2.8122 - val_loss: 2.8305\n",
      "Epoch 5/10\n",
      "245/245 [==============================] - 150s 611ms/step - loss: 2.6931 - val_loss: 2.7560\n",
      "Epoch 6/10\n",
      "245/245 [==============================] - 150s 611ms/step - loss: 2.5842 - val_loss: 2.6922\n",
      "Epoch 7/10\n",
      "245/245 [==============================] - 150s 611ms/step - loss: 2.4818 - val_loss: 2.6371\n",
      "Epoch 8/10\n",
      "245/245 [==============================] - 150s 611ms/step - loss: 2.3855 - val_loss: 2.5882\n",
      "Epoch 9/10\n",
      "245/245 [==============================] - 150s 611ms/step - loss: 2.2925 - val_loss: 2.5498\n",
      "Epoch 10/10\n",
      "245/245 [==============================] - 150s 611ms/step - loss: 2.2034 - val_loss: 2.5117\n"
     ]
    }
   ],
   "source": [
    "optimizer = tf.keras.optimizers.Adam()\n",
    "loss = tf.keras.losses.SparseCategoricalCrossentropy(\n",
    "    from_logits=True, reduction='none')\n",
    "\n",
    "model.compile(loss=loss, optimizer=optimizer)\n",
    "early_stopping_cb = tf.keras.callbacks.EarlyStopping(patience=2, restore_best_weights=True)\n",
    "history = model.fit(enc_train, dec_train, epochs=10, batch_size=512, \n",
    "                     validation_data=(enc_val, dec_val), callbacks=[early_stopping_cb])  "
   ]
  },
  {
   "cell_type": "markdown",
   "id": "a186cf51",
   "metadata": {},
   "source": [
    "* val_loss가 최저 2.5117까지만 내려간다."
   ]
  },
  {
   "cell_type": "code",
   "execution_count": 29,
   "id": "0810446d",
   "metadata": {},
   "outputs": [
    {
     "data": {
      "image/png": "[encoded data removed]",
      "text/plain": [
       "<Figure size 432x288 with 1 Axes>"
      ]
     },
     "metadata": {
      "needs_background": "light"
     },
     "output_type": "display_data"
    }
   ],
   "source": [
    "plt.plot(history.history['loss'])\n",
    "plt.plot(history.history['val_loss'])\n",
    "plt.xlabel('epoch')\n",
    "plt.ylabel('loss')\n",
    "plt.legend(['train', 'val'])\n",
    "plt.show()"
   ]
  },
  {
   "cell_type": "markdown",
   "id": "8ddf6968",
   "metadata": {},
   "source": [
    "* 모델이 잡아내는 특성수가 많으면 과적합이 일어나거나, loss 감소폭이 줄어들 가능성이 있어  embedding_size를 줄여보았다.\n",
    "* 바로 이전보다는 validation loss가 낮게 나오긴 했으나 여전히 좋지 않다."
   ]
  },
  {
   "cell_type": "code",
   "execution_count": 30,
   "id": "cb29b49d",
   "metadata": {},
   "outputs": [],
   "source": [
    "def generate_text(model, tokenizer, init_sentence=\"<start>\", max_len=20):\n",
    "    # 테스트를 위해서 입력받은 init_sentence도 텐서로 변환합니다\n",
    "    test_input = tokenizer.texts_to_sequences([init_sentence])\n",
    "    test_tensor = tf.convert_to_tensor(test_input, dtype=tf.int64)\n",
    "    end_token = tokenizer.word_index[\"<end>\"]\n",
    "\n",
    "    # 단어 하나씩 예측해 문장을 만듭니다\n",
    "    #    1. 입력받은 문장의 텐서를 입력합니다\n",
    "    #    2. 예측된 값 중 가장 높은 확률인 word index를 뽑아냅니다\n",
    "    #    3. 2에서 예측된 word index를 문장 뒤에 붙입니다\n",
    "    #    4. 모델이 <end>를 예측했거나, max_len에 도달했다면 문장 생성을 마칩니다\n",
    "    while True:\n",
    "        # 1\n",
    "        predict = model(test_tensor) \n",
    "        # 2\n",
    "        predict_word = tf.argmax(tf.nn.softmax(predict, axis=-1), axis=-1)[:, -1] \n",
    "        # 3 \n",
    "        test_tensor = tf.concat([test_tensor, tf.expand_dims(predict_word, axis=0)], axis=-1)\n",
    "        # 4\n",
    "        if predict_word.numpy()[0] == end_token: break\n",
    "        if test_tensor.shape[1] >= max_len: break\n",
    "\n",
    "    generated = \"\"\n",
    "    # tokenizer를 이용해 word index를 단어로 하나씩 변환합니다 \n",
    "    for word_index in test_tensor[0].numpy():\n",
    "        generated += tokenizer.index_word[word_index] + \" \"\n",
    "\n",
    "    return generated"
   ]
  },
  {
   "cell_type": "code",
   "execution_count": 31,
   "id": "334d5106",
   "metadata": {},
   "outputs": [
    {
     "data": {
      "text/plain": [
       "'<start> i love you , i love you <end> '"
      ]
     },
     "execution_count": 31,
     "metadata": {},
     "output_type": "execute_result"
    }
   ],
   "source": [
    "generate_text(model, tokenizer, init_sentence=\"<start> i love\", max_len=20)"
   ]
  },
  {
   "cell_type": "markdown",
   "id": "950ef922",
   "metadata": {},
   "source": [
    "* 하이퍼파라미터로 로스값 2.2를 맞추는 것은 한계가 있어보인다."
   ]
  },
  {
   "cell_type": "markdown",
   "id": "037f7b67",
   "metadata": {},
   "source": [
    "### (3) Dropout 적용"
   ]
  },
  {
   "cell_type": "markdown",
   "id": "d5522cac",
   "metadata": {},
   "source": [
    "### (3)-1. Dropout 1개 적용"
   ]
  },
  {
   "cell_type": "markdown",
   "id": "6e49264e",
   "metadata": {},
   "source": [
    "* 하이퍼파라미터는 과적합의 가능성이 많아보였던 두 번째 값을 사용한다.\n",
    "* embedding_size = 256, hidden_size = 1536, batch_size=512, epoch = 10"
   ]
  },
  {
   "cell_type": "code",
   "execution_count": 32,
   "id": "320193d4",
   "metadata": {},
   "outputs": [],
   "source": [
    "class TextGenerator(tf.keras.Model):\n",
    "    def __init__(self, vocab_size, embedding_size, hidden_size):\n",
    "        super().__init__()\n",
    "        \n",
    "        self.embedding = tf.keras.layers.Embedding(vocab_size, embedding_size)\n",
    "        self.rnn_1 = tf.keras.layers.LSTM(hidden_size, return_sequences=True)   \n",
    "        self.rnn_2 = tf.keras.layers.LSTM(hidden_size, return_sequences=True)\n",
    "        self.dropout = tf.keras.layers.Dropout(0.5)    # Dropout 적용\n",
    "        self.linear = tf.keras.layers.Dense(vocab_size)\n",
    "        \n",
    "    def call(self, x):\n",
    "        out = self.embedding(x)\n",
    "        out = self.rnn_1(out)\n",
    "        out = self.rnn_2(out)\n",
    "        out = self.dropout(out)\n",
    "        out = self.linear(out)\n",
    "        \n",
    "        return out\n",
    "    \n",
    "embedding_size = 256\n",
    "hidden_size = 1536\n",
    "model = TextGenerator(tokenizer.num_words + 1, embedding_size , hidden_size)"
   ]
  },
  {
   "cell_type": "code",
   "execution_count": 33,
   "id": "307050ef",
   "metadata": {},
   "outputs": [
    {
     "data": {
      "text/plain": [
       "<tf.Tensor: shape=(512, 14, 12001), dtype=float32, numpy=\n",
       "array([[[ 1.4504729e-05, -2.7201601e-04, -1.5199246e-04, ...,\n",
       "          1.4405079e-04, -3.7121036e-04, -1.1984059e-05],\n",
       "        [ 1.1902028e-04, -1.5618560e-04, -2.2065795e-05, ...,\n",
       "          2.6772017e-04, -7.2744570e-04, -1.7611648e-05],\n",
       "        [ 3.0939296e-04, -4.3488137e-05,  6.4985499e-05, ...,\n",
       "          5.1499764e-04, -8.9729356e-04, -2.4541598e-05],\n",
       "        ...,\n",
       "        [-2.6958817e-04,  1.9945348e-04, -7.8645302e-04, ...,\n",
       "          5.5958959e-04,  4.5774420e-04, -5.9678347e-04],\n",
       "        [-1.9584388e-04,  6.3310238e-04, -1.0591164e-03, ...,\n",
       "          4.0184031e-04,  8.3387882e-04, -7.8323466e-04],\n",
       "        [-1.3651750e-04,  1.0988673e-03, -1.3542227e-03, ...,\n",
       "          2.4887308e-04,  1.2292044e-03, -9.2194369e-04]],\n",
       "\n",
       "       [[ 1.4504729e-05, -2.7201601e-04, -1.5199246e-04, ...,\n",
       "          1.4405079e-04, -3.7121036e-04, -1.1984059e-05],\n",
       "        [ 2.7991036e-05, -4.1498934e-04, -4.1477659e-04, ...,\n",
       "          2.5010799e-04, -6.1615364e-04,  1.7207224e-04],\n",
       "        [ 2.4320121e-04, -7.4153388e-04, -4.2242935e-04, ...,\n",
       "          3.1486907e-04, -3.4486267e-04,  1.4778251e-04],\n",
       "        ...,\n",
       "        [ 1.2374452e-04, -1.1368989e-03, -7.5022824e-04, ...,\n",
       "         -3.3628638e-04,  1.7313634e-03,  1.8174708e-04],\n",
       "        [ 8.2292490e-06, -1.0285360e-03, -4.9034529e-04, ...,\n",
       "         -4.1495476e-04,  1.8835627e-03,  2.2433666e-04],\n",
       "        [ 3.9996903e-05, -7.7248679e-04, -1.7143031e-04, ...,\n",
       "         -4.1433517e-04,  1.7710737e-03,  1.7932570e-04]],\n",
       "\n",
       "       [[ 1.4504729e-05, -2.7201601e-04, -1.5199246e-04, ...,\n",
       "          1.4405079e-04, -3.7121036e-04, -1.1984059e-05],\n",
       "        [-5.8926493e-05, -4.3392667e-04, -3.3464812e-04, ...,\n",
       "          1.9356199e-04, -4.2750378e-04, -6.4757027e-05],\n",
       "        [-1.0700228e-04, -6.2481908e-04, -5.4093695e-04, ...,\n",
       "          3.8307236e-04, -5.2282732e-04, -2.5844629e-04],\n",
       "        ...,\n",
       "        [ 7.4648892e-04,  8.5061754e-04, -7.9347775e-04, ...,\n",
       "         -1.3663563e-05,  1.3606496e-03, -7.3460216e-04],\n",
       "        [ 7.7272125e-04,  1.3573290e-03, -1.1607618e-03, ...,\n",
       "         -1.6184266e-04,  1.7550110e-03, -8.3437754e-04],\n",
       "        [ 7.5367081e-04,  1.8478803e-03, -1.5095896e-03, ...,\n",
       "         -2.7734126e-04,  2.1288632e-03, -9.0220111e-04]],\n",
       "\n",
       "       ...,\n",
       "\n",
       "       [[ 1.4504729e-05, -2.7201601e-04, -1.5199246e-04, ...,\n",
       "          1.4405079e-04, -3.7121036e-04, -1.1984059e-05],\n",
       "        [ 8.1725324e-05, -3.1160974e-04, -2.5720437e-04, ...,\n",
       "          2.6990374e-05, -4.2754336e-04, -1.9716015e-04],\n",
       "        [-9.3715593e-05, -4.0085742e-04, -4.0150658e-04, ...,\n",
       "         -6.8785062e-05, -4.7703303e-04, -1.1601843e-04],\n",
       "        ...,\n",
       "        [ 1.6973619e-04,  7.5750562e-05, -1.2859179e-03, ...,\n",
       "          3.9266690e-04, -1.3164090e-04,  9.0750557e-04],\n",
       "        [ 2.3460951e-04,  3.2473763e-04, -1.4489198e-03, ...,\n",
       "          1.5962184e-04,  8.6256572e-05,  6.5204868e-04],\n",
       "        [ 2.7784277e-04,  6.5493572e-04, -1.7351885e-03, ...,\n",
       "         -3.2336593e-05,  4.7431537e-04,  3.6922135e-04]],\n",
       "\n",
       "       [[ 1.4504729e-05, -2.7201601e-04, -1.5199246e-04, ...,\n",
       "          1.4405079e-04, -3.7121036e-04, -1.1984059e-05],\n",
       "        [ 1.5367770e-04, -5.4990430e-04, -2.8303053e-04, ...,\n",
       "         -8.0515216e-05, -5.3872861e-04,  3.5335106e-05],\n",
       "        [ 1.4892482e-04, -8.1595097e-04,  8.3879000e-05, ...,\n",
       "         -4.1593370e-04, -4.2995435e-04,  2.6741024e-04],\n",
       "        ...,\n",
       "        [ 8.4061211e-04,  8.8997831e-04, -1.0077800e-03, ...,\n",
       "         -2.9498202e-04,  4.0085116e-04, -7.0765609e-04],\n",
       "        [ 8.5140415e-04,  1.3206187e-03, -1.4197017e-03, ...,\n",
       "         -3.0565276e-04,  8.3890196e-04, -8.4700261e-04],\n",
       "        [ 8.1826496e-04,  1.7348836e-03, -1.7924659e-03, ...,\n",
       "         -3.2028113e-04,  1.2901849e-03, -9.3685562e-04]],\n",
       "\n",
       "       [[ 1.4504729e-05, -2.7201601e-04, -1.5199246e-04, ...,\n",
       "          1.4405079e-04, -3.7121036e-04, -1.1984059e-05],\n",
       "        [-1.1925252e-04, -3.8018441e-04, -6.1697824e-06, ...,\n",
       "          4.1207593e-04, -5.5848988e-04, -7.9956444e-05],\n",
       "        [-2.6674758e-04, -5.2101357e-04,  6.2419131e-05, ...,\n",
       "          3.4270616e-04, -4.1079542e-04, -1.3967538e-04],\n",
       "        ...,\n",
       "        [ 7.5520342e-04,  7.4533158e-04, -6.2553445e-04, ...,\n",
       "         -6.5059093e-04,  1.1176092e-03, -1.7447378e-04],\n",
       "        [ 6.4768357e-04,  1.1917941e-03, -1.0943951e-03, ...,\n",
       "         -6.8507873e-04,  1.4499339e-03, -3.8241502e-04],\n",
       "        [ 5.3180777e-04,  1.6333489e-03, -1.5239317e-03, ...,\n",
       "         -6.9581659e-04,  1.7977521e-03, -5.5446010e-04]]], dtype=float32)>"
      ]
     },
     "execution_count": 33,
     "metadata": {},
     "output_type": "execute_result"
    }
   ],
   "source": [
    "# corpus 텐서를 tf.data.Dataset객체로 변환\n",
    "dataset = tf.data.Dataset.from_tensor_slices((src_input, tgt_input))\n",
    "dataset = dataset.shuffle(len(src_input))\n",
    "dataset = dataset.batch(512, drop_remainder=True)\n",
    "\n",
    "# model에 작은 데이터셋으로 input shape를 결정\n",
    "for src_sample, tgt_sample in dataset.take(1): break\n",
    "\n",
    "# 한 배치만 불러온 데이터를 모델에 넣어봅니다\n",
    "model(src_sample)"
   ]
  },
  {
   "cell_type": "code",
   "execution_count": 34,
   "id": "66dea27e",
   "metadata": {},
   "outputs": [
    {
     "name": "stdout",
     "output_type": "stream",
     "text": [
      "Model: \"text_generator_3\"\n",
      "_________________________________________________________________\n",
      "Layer (type)                 Output Shape              Param #   \n",
      "=================================================================\n",
      "embedding_3 (Embedding)      multiple                  3072256   \n",
      "_________________________________________________________________\n",
      "lstm_6 (LSTM)                multiple                  11016192  \n",
      "_________________________________________________________________\n",
      "lstm_7 (LSTM)                multiple                  18880512  \n",
      "_________________________________________________________________\n",
      "dropout (Dropout)            multiple                  0         \n",
      "_________________________________________________________________\n",
      "dense_3 (Dense)              multiple                  18445537  \n",
      "=================================================================\n",
      "Total params: 51,414,497\n",
      "Trainable params: 51,414,497\n",
      "Non-trainable params: 0\n",
      "_________________________________________________________________\n"
     ]
    }
   ],
   "source": [
    "model.summary()"
   ]
  },
  {
   "cell_type": "code",
   "execution_count": 35,
   "id": "88b2b6e6",
   "metadata": {
    "scrolled": true
   },
   "outputs": [
    {
     "name": "stdout",
     "output_type": "stream",
     "text": [
      "Epoch 1/10\n",
      "245/245 [==============================] - 153s 618ms/step - loss: 3.6444 - val_loss: 3.2387\n",
      "Epoch 2/10\n",
      "245/245 [==============================] - 151s 617ms/step - loss: 3.1338 - val_loss: 3.0448\n",
      "Epoch 3/10\n",
      "245/245 [==============================] - 151s 618ms/step - loss: 2.9624 - val_loss: 2.9105\n",
      "Epoch 4/10\n",
      "245/245 [==============================] - 151s 618ms/step - loss: 2.8334 - val_loss: 2.8087\n",
      "Epoch 5/10\n",
      "245/245 [==============================] - 151s 618ms/step - loss: 2.7253 - val_loss: 2.7328\n",
      "Epoch 6/10\n",
      "245/245 [==============================] - 151s 618ms/step - loss: 2.6283 - val_loss: 2.6655\n",
      "Epoch 7/10\n",
      "245/245 [==============================] - 151s 618ms/step - loss: 2.5364 - val_loss: 2.6098\n",
      "Epoch 8/10\n",
      "245/245 [==============================] - 151s 618ms/step - loss: 2.4494 - val_loss: 2.5595\n",
      "Epoch 9/10\n",
      "245/245 [==============================] - 151s 618ms/step - loss: 2.3676 - val_loss: 2.5119\n",
      "Epoch 10/10\n",
      "245/245 [==============================] - 151s 619ms/step - loss: 2.2896 - val_loss: 2.4727\n"
     ]
    }
   ],
   "source": [
    "optimizer = tf.keras.optimizers.Adam()\n",
    "loss = tf.keras.losses.SparseCategoricalCrossentropy(\n",
    "    from_logits=True, reduction='none')\n",
    "\n",
    "model.compile(loss=loss, optimizer=optimizer)\n",
    "early_stopping_cb = tf.keras.callbacks.EarlyStopping(patience=2, restore_best_weights=True)\n",
    "history = model.fit(enc_train, dec_train, epochs=10, batch_size=512, \n",
    "                     validation_data=(enc_val, dec_val), callbacks=[early_stopping_cb])"
   ]
  },
  {
   "cell_type": "markdown",
   "id": "10788b29",
   "metadata": {},
   "source": [
    "* val_loss가 최저 2.5117까지만 내려간다.\n",
    "* 앞에서 하이퍼파라미터만 조정해준 것보다는 낮은 수치를 보이고 있으나, 여전히 2.2 아래로 내려가진 않는다."
   ]
  },
  {
   "cell_type": "code",
   "execution_count": 36,
   "id": "3ae22843",
   "metadata": {},
   "outputs": [
    {
     "data": {
      "image/png": "[encoded data removed]",
      "text/plain": [
       "<Figure size 432x288 with 1 Axes>"
      ]
     },
     "metadata": {
      "needs_background": "light"
     },
     "output_type": "display_data"
    }
   ],
   "source": [
    "plt.plot(history.history['loss'])\n",
    "plt.plot(history.history['val_loss'])\n",
    "plt.xlabel('epoch')\n",
    "plt.ylabel('loss')\n",
    "plt.legend(['train', 'val'])\n",
    "plt.show()"
   ]
  },
  {
   "cell_type": "markdown",
   "id": "bd9e1671",
   "metadata": {},
   "source": [
    "* Dropout(1개)을 설정했으나, Loss에는 크게 영향을 미치지 않는 것 같다."
   ]
  },
  {
   "cell_type": "code",
   "execution_count": 37,
   "id": "89f04907",
   "metadata": {},
   "outputs": [],
   "source": [
    "def generate_text(model, tokenizer, init_sentence=\"<start>\", max_len=20):\n",
    "    # 테스트를 위해서 입력받은 init_sentence도 텐서로 변환합니다\n",
    "    test_input = tokenizer.texts_to_sequences([init_sentence])\n",
    "    test_tensor = tf.convert_to_tensor(test_input, dtype=tf.int64)\n",
    "    end_token = tokenizer.word_index[\"<end>\"]\n",
    "\n",
    "    # 단어 하나씩 예측해 문장을 만듭니다\n",
    "    #    1. 입력받은 문장의 텐서를 입력합니다\n",
    "    #    2. 예측된 값 중 가장 높은 확률인 word index를 뽑아냅니다\n",
    "    #    3. 2에서 예측된 word index를 문장 뒤에 붙입니다\n",
    "    #    4. 모델이 <end>를 예측했거나, max_len에 도달했다면 문장 생성을 마칩니다\n",
    "    while True:\n",
    "        # 1\n",
    "        predict = model(test_tensor) \n",
    "        # 2\n",
    "        predict_word = tf.argmax(tf.nn.softmax(predict, axis=-1), axis=-1)[:, -1] \n",
    "        # 3 \n",
    "        test_tensor = tf.concat([test_tensor, tf.expand_dims(predict_word, axis=0)], axis=-1)\n",
    "        # 4\n",
    "        if predict_word.numpy()[0] == end_token: break\n",
    "        if test_tensor.shape[1] >= max_len: break\n",
    "\n",
    "    generated = \"\"\n",
    "    # tokenizer를 이용해 word index를 단어로 하나씩 변환합니다 \n",
    "    for word_index in test_tensor[0].numpy():\n",
    "        generated += tokenizer.index_word[word_index] + \" \"\n",
    "\n",
    "    return generated"
   ]
  },
  {
   "cell_type": "code",
   "execution_count": 38,
   "id": "3515d2c9",
   "metadata": {},
   "outputs": [
    {
     "data": {
      "text/plain": [
       "'<start> i love you , i m not gonna crack <end> '"
      ]
     },
     "execution_count": 38,
     "metadata": {},
     "output_type": "execute_result"
    }
   ],
   "source": [
    "generate_text(model, tokenizer, init_sentence=\"<start> i love\", max_len=20)"
   ]
  },
  {
   "cell_type": "markdown",
   "id": "6a7fb7e5",
   "metadata": {},
   "source": [
    "### (3)-2. Dropout 2개 적용"
   ]
  },
  {
   "cell_type": "code",
   "execution_count": 39,
   "id": "8d6cfe9a",
   "metadata": {},
   "outputs": [],
   "source": [
    "class TextGenerator(tf.keras.Model):\n",
    "    def __init__(self, vocab_size, embedding_size, hidden_size):\n",
    "        super().__init__()\n",
    "        \n",
    "        self.embedding = tf.keras.layers.Embedding(vocab_size, embedding_size)\n",
    "        self.rnn_1 = tf.keras.layers.LSTM(hidden_size, return_sequences=True)\n",
    "        self.dropout1 = tf.keras.layers.Dropout(0.5)\n",
    "        self.rnn_2 = tf.keras.layers.LSTM(hidden_size, return_sequences=True)\n",
    "        self.dropout2 = tf.keras.layers.Dropout(0.5)    # Dropout 적용\n",
    "        self.linear = tf.keras.layers.Dense(vocab_size)\n",
    "        \n",
    "    def call(self, x):\n",
    "        out = self.embedding(x)\n",
    "        out = self.rnn_1(out)\n",
    "        out = self.dropout1(out)\n",
    "        out = self.rnn_2(out)\n",
    "        out = self.dropout2(out)\n",
    "        out = self.linear(out)\n",
    "        \n",
    "        return out\n",
    "    \n",
    "embedding_size = 256\n",
    "hidden_size = 1536\n",
    "model = TextGenerator(tokenizer.num_words + 1, embedding_size , hidden_size)"
   ]
  },
  {
   "cell_type": "code",
   "execution_count": 40,
   "id": "f09c3fff",
   "metadata": {},
   "outputs": [
    {
     "data": {
      "text/plain": [
       "<tf.Tensor: shape=(512, 14, 12001), dtype=float32, numpy=\n",
       "array([[[ 7.21428150e-05, -4.14107562e-05,  2.74716585e-05, ...,\n",
       "          1.97455993e-05, -8.29822093e-05, -8.67220006e-05],\n",
       "        [ 2.12371873e-04, -2.27781857e-05,  2.66238603e-05, ...,\n",
       "         -1.54553592e-04,  2.16334302e-04, -1.32463931e-04],\n",
       "        [ 7.40746545e-05,  2.40447596e-04,  2.86003683e-06, ...,\n",
       "         -1.07446758e-04,  3.47758410e-04,  1.93671251e-04],\n",
       "        ...,\n",
       "        [ 3.17717018e-03,  1.18952198e-03, -1.12051540e-03, ...,\n",
       "          7.38657895e-04,  1.25872227e-03, -2.82041612e-03],\n",
       "        [ 3.43696820e-03,  1.33107207e-03, -1.30701694e-03, ...,\n",
       "          7.93619896e-04,  1.26074860e-03, -3.17626516e-03],\n",
       "        [ 3.66222789e-03,  1.46054826e-03, -1.48485601e-03, ...,\n",
       "          8.25462863e-04,  1.24493672e-03, -3.49122309e-03]],\n",
       "\n",
       "       [[ 7.21428150e-05, -4.14107562e-05,  2.74716585e-05, ...,\n",
       "          1.97455993e-05, -8.29822093e-05, -8.67220006e-05],\n",
       "        [ 2.24873103e-04, -7.79477489e-07,  1.55415255e-05, ...,\n",
       "          6.47623601e-05,  2.40043009e-05,  1.42478122e-04],\n",
       "        [ 8.53330421e-05,  2.20755974e-05,  1.88479011e-04, ...,\n",
       "          1.28984801e-04, -1.73495937e-04,  8.12941289e-05],\n",
       "        ...,\n",
       "        [ 8.41113739e-04,  9.04775516e-04,  7.11761939e-04, ...,\n",
       "         -7.98933150e-04, -1.82266149e-03, -4.74994013e-04],\n",
       "        [ 7.44987919e-04,  8.32947087e-04,  5.70858712e-04, ...,\n",
       "         -1.18884142e-03, -2.00035912e-03, -6.13880809e-04],\n",
       "        [ 8.47146788e-04,  8.77078914e-04,  4.76909889e-04, ...,\n",
       "         -1.23287411e-03, -1.83473364e-03, -7.77146663e-04]],\n",
       "\n",
       "       [[ 7.21428150e-05, -4.14107562e-05,  2.74716585e-05, ...,\n",
       "          1.97455993e-05, -8.29822093e-05, -8.67220006e-05],\n",
       "        [ 1.21047611e-04, -7.97225221e-05, -1.42167701e-04, ...,\n",
       "          3.52478033e-04, -2.62812173e-05, -4.82563300e-05],\n",
       "        [ 2.06724682e-04, -1.09211869e-04, -1.12370755e-04, ...,\n",
       "          6.13562297e-04, -2.23046169e-04, -2.97852355e-04],\n",
       "        ...,\n",
       "        [ 2.49830447e-03,  1.35996914e-03, -4.79095383e-04, ...,\n",
       "          1.35269365e-03,  4.85458382e-04, -2.00219057e-03],\n",
       "        [ 2.82787159e-03,  1.49017095e-03, -7.28937041e-04, ...,\n",
       "          1.34805974e-03,  6.37334888e-04, -2.38801353e-03],\n",
       "        [ 3.11808544e-03,  1.59829250e-03, -9.72174865e-04, ...,\n",
       "          1.32255768e-03,  7.51234067e-04, -2.75102747e-03]],\n",
       "\n",
       "       ...,\n",
       "\n",
       "       [[ 7.21428150e-05, -4.14107562e-05,  2.74716585e-05, ...,\n",
       "          1.97455993e-05, -8.29822093e-05, -8.67220006e-05],\n",
       "        [-9.39400252e-06,  7.87910903e-05,  5.59691671e-06, ...,\n",
       "          2.33552972e-04, -3.54028161e-04, -5.38989516e-05],\n",
       "        [ 1.07280139e-04,  2.16343396e-04, -3.92288202e-05, ...,\n",
       "          3.95863521e-04, -3.23166052e-04,  2.54154671e-04],\n",
       "        ...,\n",
       "        [ 2.13473593e-03,  8.49942619e-04, -4.37936716e-04, ...,\n",
       "          3.90193367e-04,  3.64181877e-04, -1.53946271e-03],\n",
       "        [ 2.54011131e-03,  9.71945410e-04, -6.04558096e-04, ...,\n",
       "          5.00753114e-04,  5.16586821e-04, -1.98707287e-03],\n",
       "        [ 2.89216544e-03,  1.08962902e-03, -7.91974366e-04, ...,\n",
       "          5.89932431e-04,  6.37025398e-04, -2.41297157e-03]],\n",
       "\n",
       "       [[ 7.21428150e-05, -4.14107562e-05,  2.74716585e-05, ...,\n",
       "          1.97455993e-05, -8.29822093e-05, -8.67220006e-05],\n",
       "        [ 9.42993356e-05,  4.01665784e-05, -1.29970167e-05, ...,\n",
       "          9.69859466e-05,  1.29666414e-05, -5.28017408e-04],\n",
       "        [ 1.31888650e-04,  7.88217294e-05, -1.90045583e-04, ...,\n",
       "          4.88146849e-04,  1.23658348e-04, -6.79304299e-04],\n",
       "        ...,\n",
       "        [ 2.72875675e-03,  7.42606877e-04, -1.01865164e-03, ...,\n",
       "          7.37018243e-04,  6.73478469e-04, -2.65288656e-03],\n",
       "        [ 3.09224357e-03,  9.36722441e-04, -1.15362671e-03, ...,\n",
       "          7.77504116e-04,  7.54816399e-04, -2.96402490e-03],\n",
       "        [ 3.40184756e-03,  1.11171196e-03, -1.30447629e-03, ...,\n",
       "          8.00274196e-04,  8.16871121e-04, -3.25440359e-03]],\n",
       "\n",
       "       [[ 7.21428150e-05, -4.14107562e-05,  2.74716585e-05, ...,\n",
       "          1.97455993e-05, -8.29822093e-05, -8.67220006e-05],\n",
       "        [ 3.72239825e-04, -2.73654237e-04,  2.30584323e-04, ...,\n",
       "          3.74771262e-05, -7.18715601e-05, -1.00145509e-04],\n",
       "        [ 6.76783267e-04, -2.21885857e-04,  5.08461671e-05, ...,\n",
       "          1.12243174e-06, -1.66839993e-04, -8.17758264e-05],\n",
       "        ...,\n",
       "        [ 8.40717228e-04,  1.28363579e-04, -8.32395279e-04, ...,\n",
       "         -1.02796708e-04, -1.92707797e-04, -1.85075752e-03],\n",
       "        [ 1.23997417e-03,  2.66075513e-04, -8.08545272e-04, ...,\n",
       "          6.65542102e-05,  1.18446449e-04, -2.02125846e-03],\n",
       "        [ 1.66257948e-03,  4.36282280e-04, -8.22730071e-04, ...,\n",
       "          2.37871573e-04,  3.92213202e-04, -2.23333808e-03]]],\n",
       "      dtype=float32)>"
      ]
     },
     "execution_count": 40,
     "metadata": {},
     "output_type": "execute_result"
    }
   ],
   "source": [
    "# corpus 텐서를 tf.data.Dataset객체로 변환\n",
    "dataset = tf.data.Dataset.from_tensor_slices((src_input, tgt_input))\n",
    "dataset = dataset.shuffle(len(src_input))\n",
    "dataset = dataset.batch(512, drop_remainder=True)\n",
    "\n",
    "# model에 작은 데이터셋으로 input shape를 결정\n",
    "for src_sample, tgt_sample in dataset.take(1): break\n",
    "\n",
    "# 한 배치만 불러온 데이터를 모델에 넣어봅니다\n",
    "model(src_sample)"
   ]
  },
  {
   "cell_type": "code",
   "execution_count": 41,
   "id": "093413aa",
   "metadata": {},
   "outputs": [
    {
     "name": "stdout",
     "output_type": "stream",
     "text": [
      "Model: \"text_generator_4\"\n",
      "_________________________________________________________________\n",
      "Layer (type)                 Output Shape              Param #   \n",
      "=================================================================\n",
      "embedding_4 (Embedding)      multiple                  3072256   \n",
      "_________________________________________________________________\n",
      "lstm_8 (LSTM)                multiple                  11016192  \n",
      "_________________________________________________________________\n",
      "dropout_1 (Dropout)          multiple                  0         \n",
      "_________________________________________________________________\n",
      "lstm_9 (LSTM)                multiple                  18880512  \n",
      "_________________________________________________________________\n",
      "dropout_2 (Dropout)          multiple                  0         \n",
      "_________________________________________________________________\n",
      "dense_4 (Dense)              multiple                  18445537  \n",
      "=================================================================\n",
      "Total params: 51,414,497\n",
      "Trainable params: 51,414,497\n",
      "Non-trainable params: 0\n",
      "_________________________________________________________________\n"
     ]
    }
   ],
   "source": [
    "model.summary()"
   ]
  },
  {
   "cell_type": "code",
   "execution_count": 42,
   "id": "6e4e22b7",
   "metadata": {},
   "outputs": [
    {
     "name": "stdout",
     "output_type": "stream",
     "text": [
      "Epoch 1/10\n",
      "245/245 [==============================] - 154s 618ms/step - loss: 3.7477 - val_loss: 3.3052\n",
      "Epoch 2/10\n",
      "245/245 [==============================] - 151s 617ms/step - loss: 3.1952 - val_loss: 3.1040\n",
      "Epoch 3/10\n",
      "245/245 [==============================] - 151s 617ms/step - loss: 3.0358 - val_loss: 2.9720\n",
      "Epoch 4/10\n",
      "245/245 [==============================] - 151s 618ms/step - loss: 2.9087 - val_loss: 2.8705\n",
      "Epoch 5/10\n",
      "245/245 [==============================] - 151s 619ms/step - loss: 2.8089 - val_loss: 2.7966\n",
      "Epoch 6/10\n",
      "245/245 [==============================] - 151s 618ms/step - loss: 2.7241 - val_loss: 2.7352\n",
      "Epoch 7/10\n",
      "245/245 [==============================] - 151s 618ms/step - loss: 2.6464 - val_loss: 2.6789\n",
      "Epoch 8/10\n",
      "245/245 [==============================] - 151s 618ms/step - loss: 2.5746 - val_loss: 2.6350\n",
      "Epoch 9/10\n",
      "245/245 [==============================] - 151s 619ms/step - loss: 2.5076 - val_loss: 2.5897\n",
      "Epoch 10/10\n",
      "245/245 [==============================] - 151s 618ms/step - loss: 2.4451 - val_loss: 2.5546\n"
     ]
    }
   ],
   "source": [
    "optimizer = tf.keras.optimizers.Adam()\n",
    "loss = tf.keras.losses.SparseCategoricalCrossentropy(\n",
    "    from_logits=True, reduction='none')\n",
    "\n",
    "model.compile(loss=loss, optimizer=optimizer)\n",
    "early_stopping_cb = tf.keras.callbacks.EarlyStopping(patience=2, restore_best_weights=True)\n",
    "history = model.fit(enc_train, dec_train, epochs=10, batch_size=512, \n",
    "                     validation_data=(enc_val, dec_val), callbacks=[early_stopping_cb])"
   ]
  },
  {
   "cell_type": "markdown",
   "id": "e8ea7193",
   "metadata": {},
   "source": [
    "* val_loss가 최저 2.5546까지만 내려간다.\n",
    "* 앞에서 Dropout을 한 번 준 것과 비교했을 때 유의미한 차이를 보이지 않으며, loss가 여전히 2.2 아래로 내려가지 않는다."
   ]
  },
  {
   "cell_type": "code",
   "execution_count": 43,
   "id": "6eb5ea9a",
   "metadata": {},
   "outputs": [
    {
     "data": {
      "image/png": "[encoded data removed]",
      "text/plain": [
       "<Figure size 432x288 with 1 Axes>"
      ]
     },
     "metadata": {
      "needs_background": "light"
     },
     "output_type": "display_data"
    }
   ],
   "source": [
    "plt.plot(history.history['loss'])\n",
    "plt.plot(history.history['val_loss'])\n",
    "plt.xlabel('epoch')\n",
    "plt.ylabel('loss')\n",
    "plt.legend(['train', 'val'])\n",
    "plt.show()"
   ]
  },
  {
   "cell_type": "markdown",
   "id": "e27d0271",
   "metadata": {},
   "source": [
    "* Dropout(2개)을 설정했으나, Loss에는 크게 영향을 미치지 않는 것 같다."
   ]
  },
  {
   "cell_type": "markdown",
   "id": "966bf784",
   "metadata": {},
   "source": [
    "* 하이퍼파라미터 조정, Dropout의 사용으로 10epoch안에 loss값을 2.2로 만드는 시도들을 해보았다.\n",
    "* 사실 그래프로만 봤을 때 모든 결과에서 val_loss가 꾸준히 감소하고 있기 때문에 과적합이 일어났다고 볼 수 없다고 생각한다.\n",
    "* 그래서 과대적합을 저지하기 위한 방법들이 loss 감소 변화에 큰 영향을 미치지 않은 것 같다.\n",
    "* epoch를 더 늘리면 Loss가 2.2가 되는 시점을 확인 할 수 있을 것 같으나, 과적합이 일어날 가능성이 있다. \n",
    "* 하이퍼파라미터 조정, Dropout의 사용으로는 Loss가 개선되지 않는 것을 확인할 수 있다.\n",
    "* 과대적합을 방지하기 위한 여러 방법들이 많이 있는데, 위 결과로 봐서는 비슷한 결과가 나오지 않을까 싶다."
   ]
  },
  {
   "cell_type": "code",
   "execution_count": 44,
   "id": "0a09c23c",
   "metadata": {},
   "outputs": [],
   "source": [
    "def generate_text(model, tokenizer, init_sentence=\"<start>\", max_len=20):\n",
    "    # 테스트를 위해서 입력받은 init_sentence도 텐서로 변환합니다\n",
    "    test_input = tokenizer.texts_to_sequences([init_sentence])\n",
    "    test_tensor = tf.convert_to_tensor(test_input, dtype=tf.int64)\n",
    "    end_token = tokenizer.word_index[\"<end>\"]\n",
    "\n",
    "    # 단어 하나씩 예측해 문장을 만듭니다\n",
    "    #    1. 입력받은 문장의 텐서를 입력합니다\n",
    "    #    2. 예측된 값 중 가장 높은 확률인 word index를 뽑아냅니다\n",
    "    #    3. 2에서 예측된 word index를 문장 뒤에 붙입니다\n",
    "    #    4. 모델이 <end>를 예측했거나, max_len에 도달했다면 문장 생성을 마칩니다\n",
    "    while True:\n",
    "        # 1\n",
    "        predict = model(test_tensor) \n",
    "        # 2\n",
    "        predict_word = tf.argmax(tf.nn.softmax(predict, axis=-1), axis=-1)[:, -1] \n",
    "        # 3 \n",
    "        test_tensor = tf.concat([test_tensor, tf.expand_dims(predict_word, axis=0)], axis=-1)\n",
    "        # 4\n",
    "        if predict_word.numpy()[0] == end_token: break\n",
    "        if test_tensor.shape[1] >= max_len: break\n",
    "\n",
    "    generated = \"\"\n",
    "    # tokenizer를 이용해 word index를 단어로 하나씩 변환합니다 \n",
    "    for word_index in test_tensor[0].numpy():\n",
    "        generated += tokenizer.index_word[word_index] + \" \"\n",
    "\n",
    "    return generated"
   ]
  },
  {
   "cell_type": "code",
   "execution_count": 45,
   "id": "6679ea87",
   "metadata": {},
   "outputs": [
    {
     "data": {
      "text/plain": [
       "'<start> i love you , i m not gonna be <end> '"
      ]
     },
     "execution_count": 45,
     "metadata": {},
     "output_type": "execute_result"
    }
   ],
   "source": [
    "generate_text(model, tokenizer, init_sentence=\"<start> i love\", max_len=20)"
   ]
  },
  {
   "cell_type": "markdown",
   "id": "bacac2d6",
   "metadata": {},
   "source": [
    "### (5) train세트에서 다시 train, validation 세트로 나누기"
   ]
  },
  {
   "cell_type": "markdown",
   "id": "587291f2",
   "metadata": {},
   "source": [
    "* 일반적으로 `train_test_split()` 함수를 사용해서 validation 세트를 만들어야 하는 경우, 함수를 2번 사용해서 validation 세트를 만든다. (경량화)"
   ]
  },
  {
   "cell_type": "code",
   "execution_count": 46,
   "id": "8f31e160",
   "metadata": {},
   "outputs": [],
   "source": [
    "enc_val_train, enc_val_val, dec_val_train, dec_val_val = \\\n",
    "train_test_split(enc_train, dec_train, test_size = 0.125 , random_state = 15)"
   ]
  },
  {
   "cell_type": "code",
   "execution_count": 47,
   "id": "dbeefae5",
   "metadata": {},
   "outputs": [
    {
     "name": "stdout",
     "output_type": "stream",
     "text": [
      "Source Train: (124981, 14)\n",
      "Target Train: (124981, 14)\n"
     ]
    }
   ],
   "source": [
    "print(\"Source Train:\", enc_train.shape)\n",
    "print(\"Target Train:\", dec_train.shape)"
   ]
  },
  {
   "cell_type": "code",
   "execution_count": 48,
   "id": "74968942",
   "metadata": {},
   "outputs": [],
   "source": [
    "class TextGenerator(tf.keras.Model):\n",
    "    def __init__(self, vocab_size, embedding_size, hidden_size):\n",
    "        super().__init__()\n",
    "        \n",
    "        self.embedding = tf.keras.layers.Embedding(vocab_size, embedding_size)\n",
    "        self.rnn_1 = tf.keras.layers.LSTM(hidden_size, return_sequences=True)\n",
    "        self.rnn_2 = tf.keras.layers.LSTM(hidden_size, return_sequences=True)\n",
    "        self.linear = tf.keras.layers.Dense(vocab_size)\n",
    "        \n",
    "    def call(self, x):\n",
    "        out = self.embedding(x)\n",
    "        out = self.rnn_1(out)\n",
    "        out = self.rnn_2(out)\n",
    "        out = self.linear(out)\n",
    "        \n",
    "        return out\n",
    "    \n",
    "embedding_size = 256   # 단어가 추상적으로 표현되는 크기(고려하는 feature의 수)\n",
    "hidden_size = 1024     # 모델에 둘 일꾼의 수(많으면 배가 산으로)\n",
    "model = TextGenerator(tokenizer.num_words + 1, embedding_size , hidden_size)"
   ]
  },
  {
   "cell_type": "code",
   "execution_count": 49,
   "id": "c101152f",
   "metadata": {},
   "outputs": [
    {
     "data": {
      "text/plain": [
       "<tf.Tensor: shape=(256, 14, 12001), dtype=float32, numpy=\n",
       "array([[[-3.46070359e-04,  3.81187943e-04, -1.25394901e-04, ...,\n",
       "          2.21728915e-04,  7.34533678e-05, -1.48049265e-04],\n",
       "        [-5.28283068e-04,  6.73872826e-04, -7.93862491e-05, ...,\n",
       "          5.92489778e-05,  4.67368372e-05, -4.45327314e-05],\n",
       "        [-5.78446838e-04,  8.42378708e-04, -1.42695775e-04, ...,\n",
       "          2.54438164e-05, -5.68664109e-05,  5.52932688e-05],\n",
       "        ...,\n",
       "        [ 7.08911335e-04,  1.36492029e-03,  2.84177077e-04, ...,\n",
       "         -8.33206504e-05,  3.82674672e-03, -8.77404644e-04],\n",
       "        [ 1.12453685e-03,  1.63545157e-03, -9.26837820e-05, ...,\n",
       "         -1.09930581e-04,  4.55039460e-03, -1.03632640e-03],\n",
       "        [ 1.51643937e-03,  1.88006659e-03, -4.76511428e-04, ...,\n",
       "         -1.07826629e-04,  5.21020265e-03, -1.16135995e-03]],\n",
       "\n",
       "       [[-3.46070359e-04,  3.81187943e-04, -1.25394901e-04, ...,\n",
       "          2.21728915e-04,  7.34533678e-05, -1.48049265e-04],\n",
       "        [-8.24987481e-04,  4.67586564e-04, -2.92867859e-04, ...,\n",
       "          1.65918012e-04,  1.90751307e-04, -1.66439626e-04],\n",
       "        [-1.00492733e-03,  3.46850284e-04, -3.90855530e-05, ...,\n",
       "         -5.12171791e-05,  2.88133160e-04, -1.23784339e-04],\n",
       "        ...,\n",
       "        [ 5.63273439e-04,  1.36806769e-03, -2.15378794e-04, ...,\n",
       "         -4.78481437e-04,  3.16588278e-03,  1.86373960e-04],\n",
       "        [ 1.00731256e-03,  1.65960554e-03, -5.79103362e-04, ...,\n",
       "         -4.35206573e-04,  3.98280751e-03, -6.30880731e-06],\n",
       "        [ 1.42471935e-03,  1.92564563e-03, -9.44034546e-04, ...,\n",
       "         -3.71642498e-04,  4.73970687e-03, -1.93778425e-04]],\n",
       "\n",
       "       [[-3.46070359e-04,  3.81187943e-04, -1.25394901e-04, ...,\n",
       "          2.21728915e-04,  7.34533678e-05, -1.48049265e-04],\n",
       "        [-7.28124811e-04,  5.31515165e-04, -2.69705401e-04, ...,\n",
       "          1.69042352e-04,  1.51894230e-04, -1.45460028e-04],\n",
       "        [-1.05675065e-03,  9.63197032e-04, -3.47791560e-04, ...,\n",
       "          1.95741202e-04,  1.29303095e-04,  1.07491192e-04],\n",
       "        ...,\n",
       "        [ 5.04097843e-04, -1.94217864e-04, -1.13304565e-03, ...,\n",
       "         -9.86583298e-04, -4.10152552e-06,  2.96032958e-04],\n",
       "        [ 6.19227649e-04, -1.85813005e-05, -1.14602176e-03, ...,\n",
       "         -1.09324523e-03,  7.06638268e-04,  4.23684192e-04],\n",
       "        [ 7.72643252e-04,  3.13510391e-04, -1.23313430e-03, ...,\n",
       "         -1.14778080e-03,  1.56436081e-03,  3.82937811e-04]],\n",
       "\n",
       "       ...,\n",
       "\n",
       "       [[-3.46070359e-04,  3.81187943e-04, -1.25394901e-04, ...,\n",
       "          2.21728915e-04,  7.34533678e-05, -1.48049265e-04],\n",
       "        [-4.53219836e-04,  4.24995320e-04,  1.30629618e-04, ...,\n",
       "          6.21837971e-04,  1.66394573e-04, -4.88737023e-05],\n",
       "        [-4.51623928e-04,  5.05837263e-04,  1.27323845e-04, ...,\n",
       "          5.88056922e-04,  2.25356052e-04,  1.29169028e-04],\n",
       "        ...,\n",
       "        [ 2.01949198e-03,  2.17488757e-03, -1.08429673e-03, ...,\n",
       "         -1.52063760e-04,  5.36357239e-03, -3.00573302e-04],\n",
       "        [ 2.30455701e-03,  2.38883309e-03, -1.38609170e-03, ...,\n",
       "         -1.03106206e-04,  5.94282011e-03, -4.66623227e-04],\n",
       "        [ 2.55131139e-03,  2.56809802e-03, -1.66653225e-03, ...,\n",
       "         -3.98932134e-05,  6.43970817e-03, -6.14645542e-04]],\n",
       "\n",
       "       [[-3.46070359e-04,  3.81187943e-04, -1.25394901e-04, ...,\n",
       "          2.21728915e-04,  7.34533678e-05, -1.48049265e-04],\n",
       "        [-3.99005745e-04,  5.49327640e-04, -1.15985546e-04, ...,\n",
       "          3.46038316e-04,  2.03473071e-04, -2.19585825e-04],\n",
       "        [-3.71902483e-04,  5.32228383e-04,  2.48644443e-04, ...,\n",
       "          2.66543269e-04,  3.30816139e-04, -1.72262575e-04],\n",
       "        ...,\n",
       "        [ 8.66532442e-04,  6.01822219e-04, -1.09099950e-04, ...,\n",
       "          3.31074203e-04,  2.23658443e-03,  2.38941619e-04],\n",
       "        [ 1.11698441e-03,  9.54212388e-04, -4.32448403e-04, ...,\n",
       "          1.97326488e-04,  3.06887622e-03,  1.13185539e-04],\n",
       "        [ 1.39141222e-03,  1.29816285e-03, -7.70154293e-04, ...,\n",
       "          1.04740902e-04,  3.87835666e-03, -3.33321404e-05]],\n",
       "\n",
       "       [[-3.46070359e-04,  3.81187943e-04, -1.25394901e-04, ...,\n",
       "          2.21728915e-04,  7.34533678e-05, -1.48049265e-04],\n",
       "        [-3.96828575e-04,  4.76626185e-04, -5.94653538e-05, ...,\n",
       "          1.10993620e-04,  2.39296241e-05, -2.93241726e-04],\n",
       "        [-6.96491974e-04,  4.25724924e-04,  9.09054506e-05, ...,\n",
       "         -4.09754110e-04, -8.22407019e-05, -4.11024492e-04],\n",
       "        ...,\n",
       "        [ 1.31041091e-03,  1.49805984e-03, -3.84042709e-04, ...,\n",
       "         -1.48739479e-03,  3.49113136e-03, -6.07523893e-04],\n",
       "        [ 1.68938551e-03,  1.81238295e-03, -7.74750835e-04, ...,\n",
       "         -1.22113363e-03,  4.32714494e-03, -7.05520855e-04],\n",
       "        [ 2.03837175e-03,  2.07729824e-03, -1.14459742e-03, ...,\n",
       "         -9.55560245e-04,  5.08336630e-03, -7.92555744e-04]]],\n",
       "      dtype=float32)>"
      ]
     },
     "execution_count": 49,
     "metadata": {},
     "output_type": "execute_result"
    }
   ],
   "source": [
    "# corpus 텐서를 tf.data.Dataset객체로 변환\n",
    "dataset = tf.data.Dataset.from_tensor_slices((src_input, tgt_input))\n",
    "dataset = dataset.shuffle(len(src_input))\n",
    "dataset = dataset.batch(256, drop_remainder=True)\n",
    "\n",
    "# model에 작은 데이터셋으로 input shape를 결정\n",
    "for src_sample, tgt_sample in dataset.take(1): break\n",
    "\n",
    "# 한 배치만 불러온 데이터를 모델에 넣어봅니다\n",
    "model(src_sample)"
   ]
  },
  {
   "cell_type": "code",
   "execution_count": 50,
   "id": "4e362197",
   "metadata": {},
   "outputs": [
    {
     "name": "stdout",
     "output_type": "stream",
     "text": [
      "Model: \"text_generator_5\"\n",
      "_________________________________________________________________\n",
      "Layer (type)                 Output Shape              Param #   \n",
      "=================================================================\n",
      "embedding_5 (Embedding)      multiple                  3072256   \n",
      "_________________________________________________________________\n",
      "lstm_10 (LSTM)               multiple                  5246976   \n",
      "_________________________________________________________________\n",
      "lstm_11 (LSTM)               multiple                  8392704   \n",
      "_________________________________________________________________\n",
      "dense_5 (Dense)              multiple                  12301025  \n",
      "=================================================================\n",
      "Total params: 29,012,961\n",
      "Trainable params: 29,012,961\n",
      "Non-trainable params: 0\n",
      "_________________________________________________________________\n"
     ]
    }
   ],
   "source": [
    "model.summary()"
   ]
  },
  {
   "cell_type": "code",
   "execution_count": 51,
   "id": "f2dc4baa",
   "metadata": {},
   "outputs": [
    {
     "name": "stdout",
     "output_type": "stream",
     "text": [
      "Epoch 1/10\n",
      "489/489 [==============================] - 86s 171ms/step - loss: 3.4862 - val_loss: 3.1053\n",
      "Epoch 2/10\n",
      "489/489 [==============================] - 83s 170ms/step - loss: 3.0185 - val_loss: 2.8949\n",
      "Epoch 3/10\n",
      "489/489 [==============================] - 83s 170ms/step - loss: 2.8580 - val_loss: 2.7557\n",
      "Epoch 4/10\n",
      "489/489 [==============================] - 83s 170ms/step - loss: 2.7351 - val_loss: 2.6407\n",
      "Epoch 5/10\n",
      "489/489 [==============================] - 83s 170ms/step - loss: 2.6284 - val_loss: 2.5360\n",
      "Epoch 6/10\n",
      "489/489 [==============================] - 83s 170ms/step - loss: 2.5333 - val_loss: 2.4459\n",
      "Epoch 7/10\n",
      "489/489 [==============================] - 83s 171ms/step - loss: 2.4453 - val_loss: 2.3572\n",
      "Epoch 8/10\n",
      "489/489 [==============================] - 83s 170ms/step - loss: 2.3624 - val_loss: 2.2781\n",
      "Epoch 9/10\n",
      "489/489 [==============================] - 84s 171ms/step - loss: 2.2848 - val_loss: 2.1989\n",
      "Epoch 10/10\n",
      "489/489 [==============================] - 83s 171ms/step - loss: 2.2118 - val_loss: 2.1239\n"
     ]
    }
   ],
   "source": [
    "optimizer = tf.keras.optimizers.Adam()\n",
    "loss = tf.keras.losses.SparseCategoricalCrossentropy(\n",
    "    from_logits=True, reduction='none')\n",
    "\n",
    "model.compile(loss=loss, optimizer=optimizer)\n",
    "early_stopping_cb = tf.keras.callbacks.EarlyStopping(patience=2, restore_best_weights=True)\n",
    "history = model.fit(enc_train, dec_train, epochs=10, batch_size=256, validation_data = (enc_val_val, dec_val_val)) "
   ]
  },
  {
   "cell_type": "markdown",
   "id": "eaad2e61",
   "metadata": {},
   "source": [
    "* val_loss가 최저 2.1239까지 내려간다."
   ]
  },
  {
   "cell_type": "code",
   "execution_count": 52,
   "id": "b16fad69",
   "metadata": {},
   "outputs": [
    {
     "data": {
      "image/png": "[encoded data removed]",
      "text/plain": [
       "<Figure size 432x288 with 1 Axes>"
      ]
     },
     "metadata": {
      "needs_background": "light"
     },
     "output_type": "display_data"
    }
   ],
   "source": [
    "plt.plot(history.history['loss'])\n",
    "plt.plot(history.history['val_loss'])\n",
    "plt.xlabel('epoch')\n",
    "plt.ylabel('loss')\n",
    "plt.legend(['train', 'val'])\n",
    "plt.show()"
   ]
  },
  {
   "cell_type": "markdown",
   "id": "a6dbb0a7",
   "metadata": {},
   "source": [
    "* 그래프로 확인 시 감소 추이가 train과 비슷하게 진행된다."
   ]
  },
  {
   "cell_type": "code",
   "execution_count": 53,
   "id": "c7d9fbd9",
   "metadata": {},
   "outputs": [],
   "source": [
    "def generate_text(model, tokenizer, init_sentence=\"<start>\", max_len=20):\n",
    "    # 테스트를 위해서 입력받은 init_sentence도 텐서로 변환합니다\n",
    "    test_input = tokenizer.texts_to_sequences([init_sentence])\n",
    "    test_tensor = tf.convert_to_tensor(test_input, dtype=tf.int64)\n",
    "    end_token = tokenizer.word_index[\"<end>\"]\n",
    "\n",
    "    # 단어 하나씩 예측해 문장을 만듭니다\n",
    "    #    1. 입력받은 문장의 텐서를 입력합니다\n",
    "    #    2. 예측된 값 중 가장 높은 확률인 word index를 뽑아냅니다\n",
    "    #    3. 2에서 예측된 word index를 문장 뒤에 붙입니다\n",
    "    #    4. 모델이 <end>를 예측했거나, max_len에 도달했다면 문장 생성을 마칩니다\n",
    "    while True:\n",
    "        # 1\n",
    "        predict = model(test_tensor) \n",
    "        # 2\n",
    "        predict_word = tf.argmax(tf.nn.softmax(predict, axis=-1), axis=-1)[:, -1] \n",
    "        # 3 \n",
    "        test_tensor = tf.concat([test_tensor, tf.expand_dims(predict_word, axis=0)], axis=-1)\n",
    "        # 4\n",
    "        if predict_word.numpy()[0] == end_token: break\n",
    "        if test_tensor.shape[1] >= max_len: break\n",
    "\n",
    "    generated = \"\"\n",
    "    # tokenizer를 이용해 word index를 단어로 하나씩 변환합니다 \n",
    "    for word_index in test_tensor[0].numpy():\n",
    "        generated += tokenizer.index_word[word_index] + \" \"\n",
    "\n",
    "    return generated"
   ]
  },
  {
   "cell_type": "code",
   "execution_count": 54,
   "id": "1760ba0e",
   "metadata": {},
   "outputs": [
    {
     "data": {
      "text/plain": [
       "'<start> i love you , baby <end> '"
      ]
     },
     "execution_count": 54,
     "metadata": {},
     "output_type": "execute_result"
    }
   ],
   "source": [
    "generate_text(model, tokenizer, init_sentence=\"<start> i love\", max_len=20)"
   ]
  },
  {
   "cell_type": "markdown",
   "id": "49b4409b",
   "metadata": {},
   "source": [
    "### (5) 모델 자체의 성능 개선"
   ]
  },
  {
   "cell_type": "markdown",
   "id": "7c576d8f",
   "metadata": {},
   "source": [
    "* 논문 'A Performance Analysis by Adjusting Learning Methods in Stock Price Prediction Model Using LSTM'에서는 LSTM모델의 성능 조합을 여러 가지로 바꿔보면서 성능이 가장 잘 나오는 조합에 대해 연구했다.\n",
    "* 주가를 예측하는 도구로 LSTM의 모델을 사용한 것이다.\n",
    "* Exploration과 관련이 없는 방식으로 모델을 사용했으나, 모델 성능 개선 방식을 Exploration에 적용해보고자 한다."
   ]
  },
  {
   "cell_type": "markdown",
   "id": "40754434",
   "metadata": {},
   "source": [
    "* 초기화(Initialization) 방법\n",
    "  * kernel initializer = Xavier normal(glorot normal)\n",
    "  * recurrent initializer = random normal\n",
    "  * bias initializer = he uniform\n",
    "\n",
    "* 정규화(Regularization) 방법\n",
    "  * kernel = L2 적용\n",
    "  * recurrent = L1, L2 모두 유의미한 변화를 보이지 않음\n",
    "  * bias = L1, L2 모두 유의미하게 성능이 나빠짐\n",
    "  * activity = L1 적용 시 유의미하게 성능이 매우 나빠짐, L2 적용 시 유의미하게 성능이 좋아짐\n",
    "  * 따라서, activity는 L2(0.1), kernel이 L2(0.003)일 때 약간 성능이 좋아짐\n",
    "* 활성화(Activation)함수\n",
    "  * 기본 활성화 함수와 순환 활성화 함수의 조합으로 기본 설정인(tanh, hard sigmoid)가 가장 성능이 좋음\n",
    "* 최적화(Optimization) 함수\n",
    "  * 활성화 함수가 tanh일 때 최적화 함수 Adam일 경우가 가장 성능이 좋음"
   ]
  },
  {
   "cell_type": "code",
   "execution_count": 55,
   "id": "bed3d2b0",
   "metadata": {},
   "outputs": [],
   "source": [
    "class TextGenerator(tf.keras.Model):\n",
    "    def __init__(self, vocab_size, embedding_size, hidden_size):\n",
    "        super().__init__()\n",
    "        \n",
    "        self.embedding = tf.keras.layers.Embedding(vocab_size, embedding_size)\n",
    "        self.rnn_1 = tf.keras.layers.LSTM(hidden_size, kernel_regularizer=tf.keras.regularizers.l2(0.003),\n",
    "                                          activity_regularizer=tf.keras.regularizers.l2(0.1), return_sequences=True)\n",
    "        self.rnn_2 = tf.keras.layers.LSTM(hidden_size, kernel_regularizer=tf.keras.regularizers.l2(0.003),\n",
    "                                          activity_regularizer=tf.keras.regularizers.l2(0.1), return_sequences=True)\n",
    "        self.linear = tf.keras.layers.Dense(vocab_size)\n",
    "        \n",
    "    def call(self, x):\n",
    "        out = self.embedding(x)\n",
    "        out = self.rnn_1(out)\n",
    "        out = self.rnn_2(out)\n",
    "        out = self.linear(out)\n",
    "        \n",
    "        return out\n",
    "    \n",
    "embedding_size = 256\n",
    "hidden_size = 1536\n",
    "model = TextGenerator(tokenizer.num_words + 1, embedding_size , hidden_size)"
   ]
  },
  {
   "cell_type": "markdown",
   "id": "7a4b621c",
   "metadata": {},
   "source": [
    "* 논문에서 언급하고 있는 내용을 모두 적용해보고 싶었으나, 능력 부족으로 전부 다 적용해보진 못 했다.\n",
    "* 모델 초기화 부분과 관련해서 자꾸 에러가 발생하고 있다.\n",
    "* 모델 초기화에 대해 공부를 더 하고난 후 적용해봐야 할 것 같다."
   ]
  },
  {
   "cell_type": "code",
   "execution_count": 56,
   "id": "d8cf126b",
   "metadata": {},
   "outputs": [
    {
     "data": {
      "text/plain": [
       "<tf.Tensor: shape=(512, 14, 12001), dtype=float32, numpy=\n",
       "array([[[ 3.1422186e-04, -1.6420848e-04, -1.1393029e-04, ...,\n",
       "         -5.2127580e-05,  1.7800914e-04, -5.5337856e-05],\n",
       "        [ 5.3889485e-04, -1.1814782e-04, -3.4493900e-05, ...,\n",
       "          1.4374564e-04, -9.0674825e-05, -1.8311784e-04],\n",
       "        [ 7.9618767e-04, -2.0750742e-04, -2.8063272e-04, ...,\n",
       "          5.2657019e-04, -1.2693889e-04, -8.9753448e-05],\n",
       "        ...,\n",
       "        [ 4.9336883e-04, -1.2798933e-03,  9.7433757e-04, ...,\n",
       "          3.9693082e-04,  1.0177771e-03,  8.7753913e-05],\n",
       "        [ 2.8556635e-04, -1.2930931e-03,  1.3245449e-03, ...,\n",
       "          4.3731931e-04,  7.3923176e-04,  9.8766934e-05],\n",
       "        [ 1.5547972e-04, -1.3323956e-03,  1.5765491e-03, ...,\n",
       "          5.0720578e-04,  4.1635692e-04,  2.8637788e-04]],\n",
       "\n",
       "       [[ 3.1422186e-04, -1.6420848e-04, -1.1393029e-04, ...,\n",
       "         -5.2127580e-05,  1.7800914e-04, -5.5337856e-05],\n",
       "        [ 5.3159939e-04, -2.5208120e-04,  1.0123911e-04, ...,\n",
       "         -1.7517681e-04,  1.7873227e-04, -5.9840953e-05],\n",
       "        [ 5.7889795e-04, -8.1878708e-05,  4.3090640e-04, ...,\n",
       "         -2.9502815e-04,  4.5511078e-05, -1.7243803e-04],\n",
       "        ...,\n",
       "        [ 2.0399710e-04, -8.1773684e-04,  7.3873467e-04, ...,\n",
       "          3.1023994e-04, -3.0536563e-04,  2.8242881e-04],\n",
       "        [ 1.8062946e-04, -1.1806316e-03,  7.8004744e-04, ...,\n",
       "          4.2759313e-04, -3.5423654e-04,  5.7172286e-04],\n",
       "        [ 1.9260202e-04, -1.4544905e-03,  8.2250370e-04, ...,\n",
       "          5.3392106e-04, -4.1634589e-04,  8.9517469e-04]],\n",
       "\n",
       "       [[ 3.1422186e-04, -1.6420848e-04, -1.1393029e-04, ...,\n",
       "         -5.2127580e-05,  1.7800914e-04, -5.5337856e-05],\n",
       "        [ 5.9258140e-04, -5.5779947e-04, -1.2987532e-04, ...,\n",
       "         -2.5901083e-05,  4.3342332e-04, -5.1554871e-05],\n",
       "        [ 7.2124827e-04, -4.7094034e-04,  4.1326279e-05, ...,\n",
       "         -2.4170382e-05,  3.2182550e-04,  2.6268315e-05],\n",
       "        ...,\n",
       "        [ 2.0120740e-04, -1.0615432e-03,  3.0106516e-04, ...,\n",
       "          8.6895307e-04, -4.9218062e-05,  1.1529777e-03],\n",
       "        [ 1.7931906e-04, -1.2411189e-03,  4.2615371e-04, ...,\n",
       "          9.2173379e-04, -2.6836377e-04,  1.3854766e-03],\n",
       "        [ 1.5380362e-04, -1.3637897e-03,  5.5064354e-04, ...,\n",
       "          9.5478317e-04, -4.8611505e-04,  1.6162079e-03]],\n",
       "\n",
       "       ...,\n",
       "\n",
       "       [[ 3.1422186e-04, -1.6420848e-04, -1.1393029e-04, ...,\n",
       "         -5.2127580e-05,  1.7800914e-04, -5.5337856e-05],\n",
       "        [ 4.7451700e-04, -7.0165006e-05, -2.5830950e-04, ...,\n",
       "          1.3899444e-04,  4.7838519e-04,  4.0265328e-05],\n",
       "        [ 4.1399631e-04,  5.7043657e-05, -5.0598837e-04, ...,\n",
       "          3.9547804e-04,  6.9554901e-04,  1.2496945e-05],\n",
       "        ...,\n",
       "        [-3.8043680e-04,  5.3109619e-04,  7.4744027e-04, ...,\n",
       "         -8.2364213e-04,  4.8459752e-04,  1.2421572e-04],\n",
       "        [-4.4919577e-04,  2.0456921e-04,  8.7489345e-04, ...,\n",
       "         -8.1742328e-04,  3.4025148e-04,  4.8709838e-04],\n",
       "        [-4.6996254e-04, -1.0964722e-04,  9.9385576e-04, ...,\n",
       "         -7.0452772e-04,  1.4799018e-04,  9.2031964e-04]],\n",
       "\n",
       "       [[ 3.1422186e-04, -1.6420848e-04, -1.1393029e-04, ...,\n",
       "         -5.2127580e-05,  1.7800914e-04, -5.5337856e-05],\n",
       "        [ 4.7366993e-04, -5.5526366e-04,  1.4412176e-05, ...,\n",
       "          6.1663784e-05,  2.4358345e-04,  2.3522502e-05],\n",
       "        [ 7.3687738e-04, -6.0281856e-04, -4.7755420e-05, ...,\n",
       "          4.8432234e-04,  2.2379689e-04, -5.1277246e-05],\n",
       "        ...,\n",
       "        [ 4.6512220e-04, -5.5380515e-04,  1.0855065e-03, ...,\n",
       "         -7.3658413e-04,  4.8298368e-04,  8.4319420e-04],\n",
       "        [ 3.4116171e-04, -7.9677819e-04,  1.0911323e-03, ...,\n",
       "         -5.5191433e-04,  3.4313090e-04,  9.7027479e-04],\n",
       "        [ 2.9338137e-04, -1.0011954e-03,  1.0827488e-03, ...,\n",
       "         -3.1676065e-04,  1.5496049e-04,  1.1415250e-03]],\n",
       "\n",
       "       [[ 3.1422186e-04, -1.6420848e-04, -1.1393029e-04, ...,\n",
       "         -5.2127580e-05,  1.7800914e-04, -5.5337856e-05],\n",
       "        [ 6.4191082e-04, -3.4129355e-04, -4.1381418e-04, ...,\n",
       "          1.9498901e-04,  3.5594532e-04,  8.9344860e-05],\n",
       "        [ 6.4350711e-04, -7.4085558e-04, -3.1044616e-04, ...,\n",
       "          7.9825753e-04,  2.4105150e-04,  3.4106662e-04],\n",
       "        ...,\n",
       "        [ 4.7074919e-04, -1.6834609e-03,  5.6183367e-04, ...,\n",
       "          5.6531682e-04, -4.5700010e-05,  1.5391558e-03],\n",
       "        [ 3.6430231e-04, -1.8092107e-03,  7.6385564e-04, ...,\n",
       "          5.2038662e-04, -2.8506375e-04,  1.5505183e-03],\n",
       "        [ 2.8013237e-04, -1.8821070e-03,  9.3835150e-04, ...,\n",
       "          4.9428322e-04, -5.1079766e-04,  1.6050719e-03]]], dtype=float32)>"
      ]
     },
     "execution_count": 56,
     "metadata": {},
     "output_type": "execute_result"
    }
   ],
   "source": [
    "# corpus 텐서를 tf.data.Dataset객체로 변환\n",
    "dataset = tf.data.Dataset.from_tensor_slices((src_input, tgt_input))\n",
    "dataset = dataset.shuffle(len(src_input))\n",
    "dataset = dataset.batch(512, drop_remainder=True)\n",
    "\n",
    "# model에 작은 데이터셋으로 input shape를 결정\n",
    "for src_sample, tgt_sample in dataset.take(1): break\n",
    "\n",
    "# 한 배치만 불러온 데이터를 모델에 넣어봅니다\n",
    "model(src_sample)"
   ]
  },
  {
   "cell_type": "code",
   "execution_count": 57,
   "id": "0044e826",
   "metadata": {},
   "outputs": [
    {
     "name": "stdout",
     "output_type": "stream",
     "text": [
      "Model: \"text_generator_6\"\n",
      "_________________________________________________________________\n",
      "Layer (type)                 Output Shape              Param #   \n",
      "=================================================================\n",
      "embedding_6 (Embedding)      multiple                  3072256   \n",
      "_________________________________________________________________\n",
      "lstm_12 (LSTM)               multiple                  11016192  \n",
      "_________________________________________________________________\n",
      "lstm_13 (LSTM)               multiple                  18880512  \n",
      "_________________________________________________________________\n",
      "dense_6 (Dense)              multiple                  18445537  \n",
      "=================================================================\n",
      "Total params: 51,414,497\n",
      "Trainable params: 51,414,497\n",
      "Non-trainable params: 0\n",
      "_________________________________________________________________\n"
     ]
    }
   ],
   "source": [
    "model.summary()"
   ]
  },
  {
   "cell_type": "code",
   "execution_count": 58,
   "id": "f265bdbb",
   "metadata": {},
   "outputs": [
    {
     "name": "stdout",
     "output_type": "stream",
     "text": [
      "Epoch 1/10\n"
     ]
    },
    {
     "ename": "ValueError",
     "evalue": "in user code:\n\n    /opt/conda/lib/python3.9/site-packages/keras/engine/training.py:853 train_function  *\n        return step_function(self, iterator)\n    /opt/conda/lib/python3.9/site-packages/keras/engine/training.py:842 step_function  **\n        outputs = model.distribute_strategy.run(run_step, args=(data,))\n    /opt/conda/lib/python3.9/site-packages/tensorflow/python/distribute/distribute_lib.py:1286 run\n        return self._extended.call_for_each_replica(fn, args=args, kwargs=kwargs)\n    /opt/conda/lib/python3.9/site-packages/tensorflow/python/distribute/distribute_lib.py:2849 call_for_each_replica\n        return self._call_for_each_replica(fn, args, kwargs)\n    /opt/conda/lib/python3.9/site-packages/tensorflow/python/distribute/distribute_lib.py:3632 _call_for_each_replica\n        return fn(*args, **kwargs)\n    /opt/conda/lib/python3.9/site-packages/keras/engine/training.py:835 run_step  **\n        outputs = model.train_step(data)\n    /opt/conda/lib/python3.9/site-packages/keras/engine/training.py:788 train_step\n        loss = self.compiled_loss(\n    /opt/conda/lib/python3.9/site-packages/keras/engine/compile_utils.py:238 __call__\n        total_loss_metric_value = tf.add_n(loss_metric_values)\n    /opt/conda/lib/python3.9/site-packages/tensorflow/python/util/dispatch.py:206 wrapper\n        return target(*args, **kwargs)\n    /opt/conda/lib/python3.9/site-packages/tensorflow/python/ops/math_ops.py:4000 add_n\n        return gen_math_ops.add_n(inputs, name=name)\n    /opt/conda/lib/python3.9/site-packages/tensorflow/python/ops/gen_math_ops.py:401 add_n\n        _, _, _op, _outputs = _op_def_library._apply_op_helper(\n    /opt/conda/lib/python3.9/site-packages/tensorflow/python/framework/op_def_library.py:748 _apply_op_helper\n        op = g._create_op_internal(op_type_name, inputs, dtypes=None,\n    /opt/conda/lib/python3.9/site-packages/tensorflow/python/framework/func_graph.py:599 _create_op_internal\n        return super(FuncGraph, self)._create_op_internal(  # pylint: disable=protected-access\n    /opt/conda/lib/python3.9/site-packages/tensorflow/python/framework/ops.py:3561 _create_op_internal\n        ret = Operation(\n    /opt/conda/lib/python3.9/site-packages/tensorflow/python/framework/ops.py:2041 __init__\n        self._c_op = _create_c_op(self._graph, node_def, inputs,\n    /opt/conda/lib/python3.9/site-packages/tensorflow/python/framework/ops.py:1883 _create_c_op\n        raise ValueError(str(e))\n\n    ValueError: Shapes must be equal rank, but are 2 and 0\n    \tFrom merging shape 0 with other shapes. for '{{node AddN_1}} = AddN[N=2, T=DT_FLOAT](sparse_categorical_crossentropy/weighted_loss/Mul, AddN)' with input shapes: [?,14], [].\n",
     "output_type": "error",
     "traceback": [
      "\u001b[0;31m---------------------------------------------------------------------------\u001b[0m",
      "\u001b[0;31mValueError\u001b[0m                                Traceback (most recent call last)",
      "\u001b[0;32m/tmp/ipykernel_1985/1215030216.py\u001b[0m in \u001b[0;36m<module>\u001b[0;34m\u001b[0m\n\u001b[1;32m      5\u001b[0m \u001b[0mmodel\u001b[0m\u001b[0;34m.\u001b[0m\u001b[0mcompile\u001b[0m\u001b[0;34m(\u001b[0m\u001b[0mloss\u001b[0m\u001b[0;34m=\u001b[0m\u001b[0mloss\u001b[0m\u001b[0;34m,\u001b[0m \u001b[0moptimizer\u001b[0m\u001b[0;34m=\u001b[0m\u001b[0moptimizer\u001b[0m\u001b[0;34m)\u001b[0m\u001b[0;34m\u001b[0m\u001b[0;34m\u001b[0m\u001b[0m\n\u001b[1;32m      6\u001b[0m \u001b[0mearly_stopping_cb\u001b[0m \u001b[0;34m=\u001b[0m \u001b[0mtf\u001b[0m\u001b[0;34m.\u001b[0m\u001b[0mkeras\u001b[0m\u001b[0;34m.\u001b[0m\u001b[0mcallbacks\u001b[0m\u001b[0;34m.\u001b[0m\u001b[0mEarlyStopping\u001b[0m\u001b[0;34m(\u001b[0m\u001b[0mpatience\u001b[0m\u001b[0;34m=\u001b[0m\u001b[0;36m2\u001b[0m\u001b[0;34m,\u001b[0m \u001b[0mrestore_best_weights\u001b[0m\u001b[0;34m=\u001b[0m\u001b[0;32mTrue\u001b[0m\u001b[0;34m)\u001b[0m\u001b[0;34m\u001b[0m\u001b[0;34m\u001b[0m\u001b[0m\n\u001b[0;32m----> 7\u001b[0;31m history = model.fit(enc_train, dec_train, epochs=10, batch_size=512, \n\u001b[0m\u001b[1;32m      8\u001b[0m                      validation_data=(enc_val, dec_val), callbacks=[early_stopping_cb])\n",
      "\u001b[0;32m/opt/conda/lib/python3.9/site-packages/keras/engine/training.py\u001b[0m in \u001b[0;36mfit\u001b[0;34m(self, x, y, batch_size, epochs, verbose, callbacks, validation_split, validation_data, shuffle, class_weight, sample_weight, initial_epoch, steps_per_epoch, validation_steps, validation_batch_size, validation_freq, max_queue_size, workers, use_multiprocessing)\u001b[0m\n\u001b[1;32m   1182\u001b[0m                 _r=1):\n\u001b[1;32m   1183\u001b[0m               \u001b[0mcallbacks\u001b[0m\u001b[0;34m.\u001b[0m\u001b[0mon_train_batch_begin\u001b[0m\u001b[0;34m(\u001b[0m\u001b[0mstep\u001b[0m\u001b[0;34m)\u001b[0m\u001b[0;34m\u001b[0m\u001b[0;34m\u001b[0m\u001b[0m\n\u001b[0;32m-> 1184\u001b[0;31m               \u001b[0mtmp_logs\u001b[0m \u001b[0;34m=\u001b[0m \u001b[0mself\u001b[0m\u001b[0;34m.\u001b[0m\u001b[0mtrain_function\u001b[0m\u001b[0;34m(\u001b[0m\u001b[0miterator\u001b[0m\u001b[0;34m)\u001b[0m\u001b[0;34m\u001b[0m\u001b[0;34m\u001b[0m\u001b[0m\n\u001b[0m\u001b[1;32m   1185\u001b[0m               \u001b[0;32mif\u001b[0m \u001b[0mdata_handler\u001b[0m\u001b[0;34m.\u001b[0m\u001b[0mshould_sync\u001b[0m\u001b[0;34m:\u001b[0m\u001b[0;34m\u001b[0m\u001b[0;34m\u001b[0m\u001b[0m\n\u001b[1;32m   1186\u001b[0m                 \u001b[0mcontext\u001b[0m\u001b[0;34m.\u001b[0m\u001b[0masync_wait\u001b[0m\u001b[0;34m(\u001b[0m\u001b[0;34m)\u001b[0m\u001b[0;34m\u001b[0m\u001b[0;34m\u001b[0m\u001b[0m\n",
      "\u001b[0;32m/opt/conda/lib/python3.9/site-packages/tensorflow/python/eager/def_function.py\u001b[0m in \u001b[0;36m__call__\u001b[0;34m(self, *args, **kwds)\u001b[0m\n\u001b[1;32m    883\u001b[0m \u001b[0;34m\u001b[0m\u001b[0m\n\u001b[1;32m    884\u001b[0m       \u001b[0;32mwith\u001b[0m \u001b[0mOptionalXlaContext\u001b[0m\u001b[0;34m(\u001b[0m\u001b[0mself\u001b[0m\u001b[0;34m.\u001b[0m\u001b[0m_jit_compile\u001b[0m\u001b[0;34m)\u001b[0m\u001b[0;34m:\u001b[0m\u001b[0;34m\u001b[0m\u001b[0;34m\u001b[0m\u001b[0m\n\u001b[0;32m--> 885\u001b[0;31m         \u001b[0mresult\u001b[0m \u001b[0;34m=\u001b[0m \u001b[0mself\u001b[0m\u001b[0;34m.\u001b[0m\u001b[0m_call\u001b[0m\u001b[0;34m(\u001b[0m\u001b[0;34m*\u001b[0m\u001b[0margs\u001b[0m\u001b[0;34m,\u001b[0m \u001b[0;34m**\u001b[0m\u001b[0mkwds\u001b[0m\u001b[0;34m)\u001b[0m\u001b[0;34m\u001b[0m\u001b[0;34m\u001b[0m\u001b[0m\n\u001b[0m\u001b[1;32m    886\u001b[0m \u001b[0;34m\u001b[0m\u001b[0m\n\u001b[1;32m    887\u001b[0m       \u001b[0mnew_tracing_count\u001b[0m \u001b[0;34m=\u001b[0m \u001b[0mself\u001b[0m\u001b[0;34m.\u001b[0m\u001b[0mexperimental_get_tracing_count\u001b[0m\u001b[0;34m(\u001b[0m\u001b[0;34m)\u001b[0m\u001b[0;34m\u001b[0m\u001b[0;34m\u001b[0m\u001b[0m\n",
      "\u001b[0;32m/opt/conda/lib/python3.9/site-packages/tensorflow/python/eager/def_function.py\u001b[0m in \u001b[0;36m_call\u001b[0;34m(self, *args, **kwds)\u001b[0m\n\u001b[1;32m    931\u001b[0m       \u001b[0;31m# This is the first call of __call__, so we have to initialize.\u001b[0m\u001b[0;34m\u001b[0m\u001b[0;34m\u001b[0m\u001b[0m\n\u001b[1;32m    932\u001b[0m       \u001b[0minitializers\u001b[0m \u001b[0;34m=\u001b[0m \u001b[0;34m[\u001b[0m\u001b[0;34m]\u001b[0m\u001b[0;34m\u001b[0m\u001b[0;34m\u001b[0m\u001b[0m\n\u001b[0;32m--> 933\u001b[0;31m       \u001b[0mself\u001b[0m\u001b[0;34m.\u001b[0m\u001b[0m_initialize\u001b[0m\u001b[0;34m(\u001b[0m\u001b[0margs\u001b[0m\u001b[0;34m,\u001b[0m \u001b[0mkwds\u001b[0m\u001b[0;34m,\u001b[0m \u001b[0madd_initializers_to\u001b[0m\u001b[0;34m=\u001b[0m\u001b[0minitializers\u001b[0m\u001b[0;34m)\u001b[0m\u001b[0;34m\u001b[0m\u001b[0;34m\u001b[0m\u001b[0m\n\u001b[0m\u001b[1;32m    934\u001b[0m     \u001b[0;32mfinally\u001b[0m\u001b[0;34m:\u001b[0m\u001b[0;34m\u001b[0m\u001b[0;34m\u001b[0m\u001b[0m\n\u001b[1;32m    935\u001b[0m       \u001b[0;31m# At this point we know that the initialization is complete (or less\u001b[0m\u001b[0;34m\u001b[0m\u001b[0;34m\u001b[0m\u001b[0m\n",
      "\u001b[0;32m/opt/conda/lib/python3.9/site-packages/tensorflow/python/eager/def_function.py\u001b[0m in \u001b[0;36m_initialize\u001b[0;34m(self, args, kwds, add_initializers_to)\u001b[0m\n\u001b[1;32m    757\u001b[0m     \u001b[0mself\u001b[0m\u001b[0;34m.\u001b[0m\u001b[0m_graph_deleter\u001b[0m \u001b[0;34m=\u001b[0m \u001b[0mFunctionDeleter\u001b[0m\u001b[0;34m(\u001b[0m\u001b[0mself\u001b[0m\u001b[0;34m.\u001b[0m\u001b[0m_lifted_initializer_graph\u001b[0m\u001b[0;34m)\u001b[0m\u001b[0;34m\u001b[0m\u001b[0;34m\u001b[0m\u001b[0m\n\u001b[1;32m    758\u001b[0m     self._concrete_stateful_fn = (\n\u001b[0;32m--> 759\u001b[0;31m         self._stateful_fn._get_concrete_function_internal_garbage_collected(  # pylint: disable=protected-access\n\u001b[0m\u001b[1;32m    760\u001b[0m             *args, **kwds))\n\u001b[1;32m    761\u001b[0m \u001b[0;34m\u001b[0m\u001b[0m\n",
      "\u001b[0;32m/opt/conda/lib/python3.9/site-packages/tensorflow/python/eager/function.py\u001b[0m in \u001b[0;36m_get_concrete_function_internal_garbage_collected\u001b[0;34m(self, *args, **kwargs)\u001b[0m\n\u001b[1;32m   3064\u001b[0m       \u001b[0margs\u001b[0m\u001b[0;34m,\u001b[0m \u001b[0mkwargs\u001b[0m \u001b[0;34m=\u001b[0m \u001b[0;32mNone\u001b[0m\u001b[0;34m,\u001b[0m \u001b[0;32mNone\u001b[0m\u001b[0;34m\u001b[0m\u001b[0;34m\u001b[0m\u001b[0m\n\u001b[1;32m   3065\u001b[0m     \u001b[0;32mwith\u001b[0m \u001b[0mself\u001b[0m\u001b[0;34m.\u001b[0m\u001b[0m_lock\u001b[0m\u001b[0;34m:\u001b[0m\u001b[0;34m\u001b[0m\u001b[0;34m\u001b[0m\u001b[0m\n\u001b[0;32m-> 3066\u001b[0;31m       \u001b[0mgraph_function\u001b[0m\u001b[0;34m,\u001b[0m \u001b[0m_\u001b[0m \u001b[0;34m=\u001b[0m \u001b[0mself\u001b[0m\u001b[0;34m.\u001b[0m\u001b[0m_maybe_define_function\u001b[0m\u001b[0;34m(\u001b[0m\u001b[0margs\u001b[0m\u001b[0;34m,\u001b[0m \u001b[0mkwargs\u001b[0m\u001b[0;34m)\u001b[0m\u001b[0;34m\u001b[0m\u001b[0;34m\u001b[0m\u001b[0m\n\u001b[0m\u001b[1;32m   3067\u001b[0m     \u001b[0;32mreturn\u001b[0m \u001b[0mgraph_function\u001b[0m\u001b[0;34m\u001b[0m\u001b[0;34m\u001b[0m\u001b[0m\n\u001b[1;32m   3068\u001b[0m \u001b[0;34m\u001b[0m\u001b[0m\n",
      "\u001b[0;32m/opt/conda/lib/python3.9/site-packages/tensorflow/python/eager/function.py\u001b[0m in \u001b[0;36m_maybe_define_function\u001b[0;34m(self, args, kwargs)\u001b[0m\n\u001b[1;32m   3461\u001b[0m \u001b[0;34m\u001b[0m\u001b[0m\n\u001b[1;32m   3462\u001b[0m           \u001b[0mself\u001b[0m\u001b[0;34m.\u001b[0m\u001b[0m_function_cache\u001b[0m\u001b[0;34m.\u001b[0m\u001b[0mmissed\u001b[0m\u001b[0;34m.\u001b[0m\u001b[0madd\u001b[0m\u001b[0;34m(\u001b[0m\u001b[0mcall_context_key\u001b[0m\u001b[0;34m)\u001b[0m\u001b[0;34m\u001b[0m\u001b[0;34m\u001b[0m\u001b[0m\n\u001b[0;32m-> 3463\u001b[0;31m           \u001b[0mgraph_function\u001b[0m \u001b[0;34m=\u001b[0m \u001b[0mself\u001b[0m\u001b[0;34m.\u001b[0m\u001b[0m_create_graph_function\u001b[0m\u001b[0;34m(\u001b[0m\u001b[0margs\u001b[0m\u001b[0;34m,\u001b[0m \u001b[0mkwargs\u001b[0m\u001b[0;34m)\u001b[0m\u001b[0;34m\u001b[0m\u001b[0;34m\u001b[0m\u001b[0m\n\u001b[0m\u001b[1;32m   3464\u001b[0m           \u001b[0mself\u001b[0m\u001b[0;34m.\u001b[0m\u001b[0m_function_cache\u001b[0m\u001b[0;34m.\u001b[0m\u001b[0mprimary\u001b[0m\u001b[0;34m[\u001b[0m\u001b[0mcache_key\u001b[0m\u001b[0;34m]\u001b[0m \u001b[0;34m=\u001b[0m \u001b[0mgraph_function\u001b[0m\u001b[0;34m\u001b[0m\u001b[0;34m\u001b[0m\u001b[0m\n\u001b[1;32m   3465\u001b[0m \u001b[0;34m\u001b[0m\u001b[0m\n",
      "\u001b[0;32m/opt/conda/lib/python3.9/site-packages/tensorflow/python/eager/function.py\u001b[0m in \u001b[0;36m_create_graph_function\u001b[0;34m(self, args, kwargs, override_flat_arg_shapes)\u001b[0m\n\u001b[1;32m   3296\u001b[0m     \u001b[0marg_names\u001b[0m \u001b[0;34m=\u001b[0m \u001b[0mbase_arg_names\u001b[0m \u001b[0;34m+\u001b[0m \u001b[0mmissing_arg_names\u001b[0m\u001b[0;34m\u001b[0m\u001b[0;34m\u001b[0m\u001b[0m\n\u001b[1;32m   3297\u001b[0m     graph_function = ConcreteFunction(\n\u001b[0;32m-> 3298\u001b[0;31m         func_graph_module.func_graph_from_py_func(\n\u001b[0m\u001b[1;32m   3299\u001b[0m             \u001b[0mself\u001b[0m\u001b[0;34m.\u001b[0m\u001b[0m_name\u001b[0m\u001b[0;34m,\u001b[0m\u001b[0;34m\u001b[0m\u001b[0;34m\u001b[0m\u001b[0m\n\u001b[1;32m   3300\u001b[0m             \u001b[0mself\u001b[0m\u001b[0;34m.\u001b[0m\u001b[0m_python_function\u001b[0m\u001b[0;34m,\u001b[0m\u001b[0;34m\u001b[0m\u001b[0;34m\u001b[0m\u001b[0m\n",
      "\u001b[0;32m/opt/conda/lib/python3.9/site-packages/tensorflow/python/framework/func_graph.py\u001b[0m in \u001b[0;36mfunc_graph_from_py_func\u001b[0;34m(name, python_func, args, kwargs, signature, func_graph, autograph, autograph_options, add_control_dependencies, arg_names, op_return_value, collections, capture_by_value, override_flat_arg_shapes, acd_record_initial_resource_uses)\u001b[0m\n\u001b[1;32m   1005\u001b[0m         \u001b[0m_\u001b[0m\u001b[0;34m,\u001b[0m \u001b[0moriginal_func\u001b[0m \u001b[0;34m=\u001b[0m \u001b[0mtf_decorator\u001b[0m\u001b[0;34m.\u001b[0m\u001b[0munwrap\u001b[0m\u001b[0;34m(\u001b[0m\u001b[0mpython_func\u001b[0m\u001b[0;34m)\u001b[0m\u001b[0;34m\u001b[0m\u001b[0;34m\u001b[0m\u001b[0m\n\u001b[1;32m   1006\u001b[0m \u001b[0;34m\u001b[0m\u001b[0m\n\u001b[0;32m-> 1007\u001b[0;31m       \u001b[0mfunc_outputs\u001b[0m \u001b[0;34m=\u001b[0m \u001b[0mpython_func\u001b[0m\u001b[0;34m(\u001b[0m\u001b[0;34m*\u001b[0m\u001b[0mfunc_args\u001b[0m\u001b[0;34m,\u001b[0m \u001b[0;34m**\u001b[0m\u001b[0mfunc_kwargs\u001b[0m\u001b[0;34m)\u001b[0m\u001b[0;34m\u001b[0m\u001b[0;34m\u001b[0m\u001b[0m\n\u001b[0m\u001b[1;32m   1008\u001b[0m \u001b[0;34m\u001b[0m\u001b[0m\n\u001b[1;32m   1009\u001b[0m       \u001b[0;31m# invariant: `func_outputs` contains only Tensors, CompositeTensors,\u001b[0m\u001b[0;34m\u001b[0m\u001b[0;34m\u001b[0m\u001b[0m\n",
      "\u001b[0;32m/opt/conda/lib/python3.9/site-packages/tensorflow/python/eager/def_function.py\u001b[0m in \u001b[0;36mwrapped_fn\u001b[0;34m(*args, **kwds)\u001b[0m\n\u001b[1;32m    666\u001b[0m         \u001b[0;31m# the function a weak reference to itself to avoid a reference cycle.\u001b[0m\u001b[0;34m\u001b[0m\u001b[0;34m\u001b[0m\u001b[0m\n\u001b[1;32m    667\u001b[0m         \u001b[0;32mwith\u001b[0m \u001b[0mOptionalXlaContext\u001b[0m\u001b[0;34m(\u001b[0m\u001b[0mcompile_with_xla\u001b[0m\u001b[0;34m)\u001b[0m\u001b[0;34m:\u001b[0m\u001b[0;34m\u001b[0m\u001b[0;34m\u001b[0m\u001b[0m\n\u001b[0;32m--> 668\u001b[0;31m           \u001b[0mout\u001b[0m \u001b[0;34m=\u001b[0m \u001b[0mweak_wrapped_fn\u001b[0m\u001b[0;34m(\u001b[0m\u001b[0;34m)\u001b[0m\u001b[0;34m.\u001b[0m\u001b[0m__wrapped__\u001b[0m\u001b[0;34m(\u001b[0m\u001b[0;34m*\u001b[0m\u001b[0margs\u001b[0m\u001b[0;34m,\u001b[0m \u001b[0;34m**\u001b[0m\u001b[0mkwds\u001b[0m\u001b[0;34m)\u001b[0m\u001b[0;34m\u001b[0m\u001b[0;34m\u001b[0m\u001b[0m\n\u001b[0m\u001b[1;32m    669\u001b[0m         \u001b[0;32mreturn\u001b[0m \u001b[0mout\u001b[0m\u001b[0;34m\u001b[0m\u001b[0;34m\u001b[0m\u001b[0m\n\u001b[1;32m    670\u001b[0m \u001b[0;34m\u001b[0m\u001b[0m\n",
      "\u001b[0;32m/opt/conda/lib/python3.9/site-packages/tensorflow/python/framework/func_graph.py\u001b[0m in \u001b[0;36mwrapper\u001b[0;34m(*args, **kwargs)\u001b[0m\n\u001b[1;32m    992\u001b[0m           \u001b[0;32mexcept\u001b[0m \u001b[0mException\u001b[0m \u001b[0;32mas\u001b[0m \u001b[0me\u001b[0m\u001b[0;34m:\u001b[0m  \u001b[0;31m# pylint:disable=broad-except\u001b[0m\u001b[0;34m\u001b[0m\u001b[0;34m\u001b[0m\u001b[0m\n\u001b[1;32m    993\u001b[0m             \u001b[0;32mif\u001b[0m \u001b[0mhasattr\u001b[0m\u001b[0;34m(\u001b[0m\u001b[0me\u001b[0m\u001b[0;34m,\u001b[0m \u001b[0;34m\"ag_error_metadata\"\u001b[0m\u001b[0;34m)\u001b[0m\u001b[0;34m:\u001b[0m\u001b[0;34m\u001b[0m\u001b[0;34m\u001b[0m\u001b[0m\n\u001b[0;32m--> 994\u001b[0;31m               \u001b[0;32mraise\u001b[0m \u001b[0me\u001b[0m\u001b[0;34m.\u001b[0m\u001b[0mag_error_metadata\u001b[0m\u001b[0;34m.\u001b[0m\u001b[0mto_exception\u001b[0m\u001b[0;34m(\u001b[0m\u001b[0me\u001b[0m\u001b[0;34m)\u001b[0m\u001b[0;34m\u001b[0m\u001b[0;34m\u001b[0m\u001b[0m\n\u001b[0m\u001b[1;32m    995\u001b[0m             \u001b[0;32melse\u001b[0m\u001b[0;34m:\u001b[0m\u001b[0;34m\u001b[0m\u001b[0;34m\u001b[0m\u001b[0m\n\u001b[1;32m    996\u001b[0m               \u001b[0;32mraise\u001b[0m\u001b[0;34m\u001b[0m\u001b[0;34m\u001b[0m\u001b[0m\n",
      "\u001b[0;31mValueError\u001b[0m: in user code:\n\n    /opt/conda/lib/python3.9/site-packages/keras/engine/training.py:853 train_function  *\n        return step_function(self, iterator)\n    /opt/conda/lib/python3.9/site-packages/keras/engine/training.py:842 step_function  **\n        outputs = model.distribute_strategy.run(run_step, args=(data,))\n    /opt/conda/lib/python3.9/site-packages/tensorflow/python/distribute/distribute_lib.py:1286 run\n        return self._extended.call_for_each_replica(fn, args=args, kwargs=kwargs)\n    /opt/conda/lib/python3.9/site-packages/tensorflow/python/distribute/distribute_lib.py:2849 call_for_each_replica\n        return self._call_for_each_replica(fn, args, kwargs)\n    /opt/conda/lib/python3.9/site-packages/tensorflow/python/distribute/distribute_lib.py:3632 _call_for_each_replica\n        return fn(*args, **kwargs)\n    /opt/conda/lib/python3.9/site-packages/keras/engine/training.py:835 run_step  **\n        outputs = model.train_step(data)\n    /opt/conda/lib/python3.9/site-packages/keras/engine/training.py:788 train_step\n        loss = self.compiled_loss(\n    /opt/conda/lib/python3.9/site-packages/keras/engine/compile_utils.py:238 __call__\n        total_loss_metric_value = tf.add_n(loss_metric_values)\n    /opt/conda/lib/python3.9/site-packages/tensorflow/python/util/dispatch.py:206 wrapper\n        return target(*args, **kwargs)\n    /opt/conda/lib/python3.9/site-packages/tensorflow/python/ops/math_ops.py:4000 add_n\n        return gen_math_ops.add_n(inputs, name=name)\n    /opt/conda/lib/python3.9/site-packages/tensorflow/python/ops/gen_math_ops.py:401 add_n\n        _, _, _op, _outputs = _op_def_library._apply_op_helper(\n    /opt/conda/lib/python3.9/site-packages/tensorflow/python/framework/op_def_library.py:748 _apply_op_helper\n        op = g._create_op_internal(op_type_name, inputs, dtypes=None,\n    /opt/conda/lib/python3.9/site-packages/tensorflow/python/framework/func_graph.py:599 _create_op_internal\n        return super(FuncGraph, self)._create_op_internal(  # pylint: disable=protected-access\n    /opt/conda/lib/python3.9/site-packages/tensorflow/python/framework/ops.py:3561 _create_op_internal\n        ret = Operation(\n    /opt/conda/lib/python3.9/site-packages/tensorflow/python/framework/ops.py:2041 __init__\n        self._c_op = _create_c_op(self._graph, node_def, inputs,\n    /opt/conda/lib/python3.9/site-packages/tensorflow/python/framework/ops.py:1883 _create_c_op\n        raise ValueError(str(e))\n\n    ValueError: Shapes must be equal rank, but are 2 and 0\n    \tFrom merging shape 0 with other shapes. for '{{node AddN_1}} = AddN[N=2, T=DT_FLOAT](sparse_categorical_crossentropy/weighted_loss/Mul, AddN)' with input shapes: [?,14], [].\n"
     ]
    }
   ],
   "source": [
    "optimizer = tf.keras.optimizers.Adam()\n",
    "loss = tf.keras.losses.SparseCategoricalCrossentropy(\n",
    "    from_logits=True, reduction='none')\n",
    "\n",
    "model.compile(loss=loss, optimizer=optimizer)\n",
    "early_stopping_cb = tf.keras.callbacks.EarlyStopping(patience=2, restore_best_weights=True)\n",
    "history = model.fit(enc_train, dec_train, epochs=10, batch_size=512, \n",
    "                     validation_data=(enc_val, dec_val), callbacks=[early_stopping_cb])"
   ]
  },
  {
   "cell_type": "code",
   "execution_count": null,
   "id": "c51477b5",
   "metadata": {},
   "outputs": [],
   "source": [
    "plt.plot(history.history['loss'])\n",
    "plt.plot(history.history['val_loss'])\n",
    "plt.xlabel('epoch')\n",
    "plt.ylabel('loss')\n",
    "plt.legend(['train', 'val'])\n",
    "plt.show()"
   ]
  },
  {
   "cell_type": "markdown",
   "id": "7063ed36",
   "metadata": {},
   "source": [
    "## 3. 결과"
   ]
  },
  {
   "cell_type": "markdown",
   "id": "a4db0be4",
   "metadata": {},
   "source": [
    "* embedding_size, hidden_size, batch_size 변동 X \n",
    "  * val_loss : 2.5116\n",
    "  * 출력된 문장 : i love you , i love you \n",
    "* embedding_size = 256, hidden_size = 1536, batch_size=512, epoch = 10\n",
    "  * val_loss : 2.6529\n",
    "  * 출력된 문장 : i love you , i m a motherfucking monster \n",
    "* embedding_size = 128, hidden_size = 1536, batch_size=512, epoch = 10\n",
    "  * val_loss : 2.5117\n",
    "  * 출력된 문장 : i love you , i love you \n",
    "* Dropout 1개 적용\n",
    "  * val_loss : 2.4727\n",
    "  * 출력된 문장 : i love you , i m not gonna crack\n",
    "* Dropout 2개 적용\n",
    "  * val_loss : 2.5546\n",
    "  * 출력된 문장 : i love you , i m not gonna be\n",
    "* train세트에서 다시 train, validation 세트로 나누기\n",
    "  * val_loss : 2.1239\n",
    "  * 출력된 문장 : i love you , baby"
   ]
  },
  {
   "cell_type": "markdown",
   "id": "b328625d",
   "metadata": {},
   "source": [
    "* 마지막 결과가 제일 자연스럽게 나온것 같아 보인다.\n",
    "* 모델의 훈련이 제대로 이루어지지 않으면 만족스러운 결과가 나오지 않는 것을 확인할 수 있었다."
   ]
  },
  {
   "cell_type": "markdown",
   "id": "57cf9284",
   "metadata": {},
   "source": [
    "## 4. 회고"
   ]
  },
  {
   "cell_type": "markdown",
   "id": "23dd68b7",
   "metadata": {},
   "source": [
    "### (1) 이번 프로젝트에서 어려웠던 점"
   ]
  },
  {
   "cell_type": "markdown",
   "id": "161f7068",
   "metadata": {},
   "source": [
    "* 루브릭 지표 10 epoch이내에 loss가 2.2 맞추는 것이 제일 힘들었다.\n",
    "* 다양한 방법을 더 시도해보고 싶었지만 학습되는 시간이 너무 오래걸려서 시도해보지 못한게 너무 아쉽다."
   ]
  },
  {
   "cell_type": "markdown",
   "id": "d89a39d6",
   "metadata": {},
   "source": [
    "### (2) 프로젝트 진행하면서 알게된 내용"
   ]
  },
  {
   "cell_type": "markdown",
   "id": "52d2d783",
   "metadata": {},
   "source": [
    "* 순환 신경망(Recurrent Neural Network, RNN) : 히든 노드가 방향을 가진 엣지로 연결돼 순환구조를 이루는(directed cycle) 인공신경망의 한 종류. Convolutional Neural Networks(CNN)과 더불어 최근 들어 각광 받고 있는 알고리즘\n",
    "* LSTM : RNN은 관련 정보와 그 정보를 사용하는 지점 사이 거리가 멀 경우 역전파시 그래디언트가 점차 줄어 학습능력이 크게 저하되는 것으로 알려져 있다. 이를 vanishing gradient problem이라고 하며, 이 문제를 극복하기 위해서 고안된 것이 바로 LSTM이다. \n",
    "* 모델의 과적합을 막기위한 다양한 방법 : Dropout, 라쏘, 릿지, 모델의 단순화, 최적화\n",
    "* history = model.fit() : fit() 메서드의 결과를 hitory에 담는 경우 훈련 측정값(에포크마다 계산된 손실)이 담긴 history 딕셔너리가 생성된다..\n",
    "* Callback : 훈련과정 중간에 어떤 작업을 수행할 수 있게 하는 객체로 keras.callbacks 패키지 아래에 있는 클래스들이다. \n",
    "* EarlyStopping 콜백을 ModelCheckpoint 콜백과 함께 사용하면 가장 낮은 검증 손실의 모델을 파일에 저장하고 검증 손실이 다시 상승할 때 훈련을 중지할 수 있다.\n",
    "* ordereddict함수 : set함수를 사용하면 중복되는 요소를 삭제해주면서 순서가 뒤바뀌게 된다. 순서를 유지하면서 요소를 삭제하고 싶은 경우에 사용하는 함수"
   ]
  },
  {
   "cell_type": "markdown",
   "id": "69f01dc8",
   "metadata": {},
   "source": [
    "### (3) 루브릭 평가 지표를 맞추기 위해 시도한 것들"
   ]
  },
  {
   "cell_type": "markdown",
   "id": "fe8f6210",
   "metadata": {},
   "source": [
    "* 하이퍼파라미터 수정\n",
    "  * embedding_size : 8 ~ 512, hidden_size : 1024 ~ 2048, batch size : 50 ~ 512까지의 숫자들 중 다양한 조합으로 시도해보았다. \n",
    "  * 위 내용은 하이퍼파라미터를 다양하게 해본 결과들 중 그나마 나은 것들을 기재한 것이다.\n",
    "  * 하이퍼파라미터만 수정해서는 루브릭을 맞추기에는 한계가 있어 보인다. \n",
    "* Dropout 적용\n",
    "  * Dropout을 1,2개까지 적용시켜 시도해보았다. loss 감소에는 큰 영향이 없었다.\n",
    "* `train_test_split()` 함수 사용\n",
    "  * `train_test_split()` 함수를 사용해 train 세트를 다시 train과 val 세트로 나눠 훈련을 진행했다.\n",
    "* 모델 자체의 성능 개선 \n",
    "  * 에러가 발생해 확인하고 싶었던 내용을 전부 확인해보지 못했다.\n",
    "* 데이터 정리\n",
    "  * 이번 프로젝트 진행에 사용된 데이터들 중 대소문자만 다르고 파일명이 같은 파일이 6개 발견했다.\n",
    "  * 데이터 자체에 반복되는 문장들이 너무 많아 중복 문장을 삭제 후 모델 훈련을 진행해보았다.\n",
    "  * 중복 문장 삭제 시 데이터가 약 12만개에서 8만개로 줄었다.\n",
    "  * 데이터가 너무 작아지는 현상이 발생해 모델 훈련에 적합하지 않다 생각했다.\n",
    "  * 그럼에도 해당 데이터를 사용해 훈련을 진행했을 시 눈에 띄는 loss 감소를 확인할 수는 없었다."
   ]
  },
  {
   "cell_type": "markdown",
   "id": "c990b189",
   "metadata": {},
   "source": [
    "### (4) 루브릭 평가 지표를 달성하지 못한 이유"
   ]
  },
  {
   "cell_type": "markdown",
   "id": "aa6e2a0e",
   "metadata": {},
   "source": [
    "* 여러 가지 시도는 해보았지만, 모델이 10 epoch 내에 loss가 2.2까지 도달하지 못하는 원인에 대한 파악이 제대로 이루어지지 않았다.\n",
    "* 문제의 원인이 제대로 파악되지 못한 채 진행하다보니, 제대로 해결책을 찾지 못한 것 같다. "
   ]
  },
  {
   "cell_type": "markdown",
   "id": "ba5d078c",
   "metadata": {},
   "source": [
    "### (5) 더 시도해보면 좋았을 것들, 자기 다짐"
   ]
  },
  {
   "cell_type": "markdown",
   "id": "39f140ef",
   "metadata": {},
   "source": [
    "* 더 시도해보면 좋았을 것들\n",
    " * 에포크를 10보다 조금 더 늘려보면 2.2가 나오지 않을까 싶다. callback함수를 써서 epoch를 최대한 늘리고\n",
    "   과대적합이 되는 시점에서 훈련이 중단되게 만들면 2.2가 나오는 순간을 확인할 수 있지 않을까?\n",
    " * LSTM layer를 더 추가해봤을 때의 결과도 궁금하다.\n",
    "   (모델이 늘어나면 모수가 증가해 loss가 증가한다는 글을 보긴 했으나, 실제 결과가 어떻게 나올지 궁금하다.)"
   ]
  },
  {
   "cell_type": "markdown",
   "id": "22192a00",
   "metadata": {},
   "source": [
    "* 자기다짐\n",
    "  * 자연어처리는 나랑 안 맞는 것 같다. Exploration이 너무 힘들어서 그런가.\n",
    "  * 이번 Exploration은 다른 것들보다 팀원들하고 활발하게 의견을 나눠가면서 진행해서 그런가 좀 더 기억에 잘 남는듯한 느낌이 든다.\n",
    "  * 다른 Exploration할 때로 활발한 의견 교류가 필요할 것 같다."
   ]
  },
  {
   "cell_type": "markdown",
   "id": "eda4ce1c",
   "metadata": {},
   "source": [
    "### 5. 참고 자료"
   ]
  },
  {
   "cell_type": "markdown",
   "id": "b73b478f",
   "metadata": {},
   "source": [
    "* Overfitting(과적합) 해결 \\\n",
    "https://velog.io/@yookyungkho/%EB%94%A5%EB%9F%AC%EB%8B%9D%EC%9D%98-%EA%B3%A0%EC%A7%88%EB%B3%91-Overfitting%EA%B3%BC%EC%A0%81%ED%95%A9-%ED%95%B4%EA%B2%B0-%ED%8C%81 \n",
    "\n",
    "* RNN과 LSTM을 이해해보자! \\\n",
    "https://ratsgo.github.io/natural%20language%20processing/2017/03/09/rnnlstm/\n",
    "\n",
    "* LSTM layer \\\n",
    "https://keras.io/api/layers/recurrent_layers/lstm/\n",
    "\n",
    "* file data 중복 제거 구현 \\\n",
    "https://velog.io/@cosmos/Python%EC%97%90%EC%84%9C-file-%EB%82%B4%EC%9A%A9-%EC%A4%91-%EC%A4%91%EB%B3%B5%EB%90%98%EB%8A%94-%EB%82%B4%EC%9A%A9-%EC%A0%9C%EA%B1%B0%ED%95%98%EA%B8%B0\n",
    "\n",
    "* ordereddict함수 \\\n",
    "https://hengbokhan.tistory.com/82\n",
    "\n",
    "* A Performance Analysis by Adjusting Learning Methods in Stock Price Prediction Model Using LSTM \\\n",
    "https://www.koreascience.or.kr/article/JAKO202034352379471.pdf"
   ]
  }
 ],
 "metadata": {
  "kernelspec": {
   "display_name": "Python 3 (ipykernel)",
   "language": "python",
   "name": "python3"
  },
  "language_info": {
   "codemirror_mode": {
    "name": "ipython",
    "version": 3
   },
   "file_extension": ".py",
   "mimetype": "text/x-python",
   "name": "python",
   "nbconvert_exporter": "python",
   "pygments_lexer": "ipython3",
   "version": "3.9.7"
  }
 },
 "nbformat": 4,
 "nbformat_minor": 5
}
