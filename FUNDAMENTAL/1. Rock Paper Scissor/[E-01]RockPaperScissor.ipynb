{
 "cells": [
  {
   "cell_type": "markdown",
   "id": "31978ece",
   "metadata": {},
   "source": [
    "### 모델학습 : 내가 찍은 사진 / 모델테스트 : 팀원 중 1명의 사진"
   ]
  },
  {
   "cell_type": "code",
   "execution_count": 93,
   "id": "2e8395ae",
   "metadata": {},
   "outputs": [
    {
     "name": "stdout",
     "output_type": "stream",
     "text": [
      "100  images to be resized.\n",
      "100  images to be resized.\n",
      "100  images to be resized.\n"
     ]
    }
   ],
   "source": [
    "# (1) 필요한 모듈 import하기\n",
    "from PIL import Image \n",
    "import glob\n",
    "\n",
    "import tensorflow as tf\n",
    "from tensorflow import keras\n",
    "\n",
    "import numpy as np\n",
    "import matplotlib.pyplot as plt\n",
    "import os\n",
    "\n",
    "\n",
    "# (2) 데이터 준비 + Resize하기\n",
    "def resize_images(img_path):\n",
    "\timages=glob.glob(img_path + \"/*.jpg\")  \n",
    "    \n",
    "\tprint(len(images), \" images to be resized.\")\n",
    "\n",
    "    # 파일마다 모두 28x28 사이즈로 바꾸어 저장\n",
    "\ttarget_size=(28,28)\n",
    "\tfor img in images:\n",
    "\t\told_img=Image.open(img)\n",
    "\t\tnew_img=old_img.resize(target_size,Image.ANTIALIAS)\n",
    "\t\tnew_img.save(img, \"JPEG\")\n",
    "\n",
    "# 가위바위보 이미지가 저장된 디렉토리 아래의 모든 jpg 파일을 읽어들여서\n",
    "image_dir_path = os.getenv(\"HOME\") + \"/aiffel/rock_scissor_paper/scissor\"\n",
    "resize_images(image_dir_path)\n",
    "\n",
    "image_dir_path = os.getenv(\"HOME\") + \"/aiffel/rock_scissor_paper/rock\"\n",
    "resize_images(image_dir_path)\n",
    "\n",
    "image_dir_path = os.getenv(\"HOME\") + \"/aiffel/rock_scissor_paper/paper\"\n",
    "resize_images(image_dir_path)"
   ]
  },
  {
   "cell_type": "code",
   "execution_count": 94,
   "id": "fabaf02d",
   "metadata": {},
   "outputs": [
    {
     "name": "stdout",
     "output_type": "stream",
     "text": [
      "학습데이터(x_train)의 이미지 개수는 300 입니다.\n"
     ]
    }
   ],
   "source": [
    "import numpy as np\n",
    "\n",
    "def load_data(img_path, number_of_data=300):  # 가위바위보 이미지 개수 총합에 주의\n",
    "    # 가위 : 0, 바위 : 1, 보 : 2\n",
    "    img_size=28\n",
    "    color=3\n",
    "    #이미지 데이터와 라벨(가위 : 0, 바위 : 1, 보 : 2) 데이터를 담을 행렬(matrix) 영역 생성\n",
    "    imgs=np.zeros(number_of_data*img_size*img_size*color,dtype=np.int32).reshape(number_of_data,img_size,img_size,color)\n",
    "    labels=np.zeros(number_of_data,dtype=np.int32)\n",
    "\n",
    "    idx=0\n",
    "    for file in glob.iglob(img_path+'/scissor/*.jpg'):\n",
    "        img = np.array(Image.open(file),dtype=np.int32)\n",
    "        imgs[idx,:,:,:]=img    # 데이터 영역에 이미지 행렬을 복사\n",
    "        labels[idx]=0   # 가위 : 0\n",
    "        idx=idx+1\n",
    "\n",
    "    for file in glob.iglob(img_path+'/rock/*.jpg'):\n",
    "        img = np.array(Image.open(file),dtype=np.int32)\n",
    "        imgs[idx,:,:,:]=img    # 데이터 영역에 이미지 행렬을 복사\n",
    "        labels[idx]=1   # 바위 : 1\n",
    "        idx=idx+1  \n",
    "    \n",
    "    for file in glob.iglob(img_path+'/paper/*.jpg'):\n",
    "        img = np.array(Image.open(file),dtype=np.int32)\n",
    "        imgs[idx,:,:,:]=img    # 데이터 영역에 이미지 행렬을 복사\n",
    "        labels[idx]=2   # 보 : 2\n",
    "        idx=idx+1\n",
    "        \n",
    "    print(\"학습데이터(x_train)의 이미지 개수는\", idx,\"입니다.\")\n",
    "    return imgs, labels\n",
    "\n",
    "image_dir_path = os.getenv(\"HOME\") + \"/aiffel/rock_scissor_paper\"\n",
    "(x_train, y_train)=load_data(image_dir_path)\n",
    "x_train_norm = x_train/255.0   # 입력은 0~1 사이의 값으로 정규화"
   ]
  },
  {
   "cell_type": "code",
   "execution_count": 95,
   "id": "4b11731c",
   "metadata": {},
   "outputs": [
    {
     "name": "stdout",
     "output_type": "stream",
     "text": [
      "라벨:  0\n"
     ]
    },
    {
     "data": {
      "image/png": "[encoded data removed]",
      "text/plain": [
       "<Figure size 432x288 with 1 Axes>"
      ]
     },
     "metadata": {
      "needs_background": "light"
     },
     "output_type": "display_data"
    }
   ],
   "source": [
    "plt.imshow(x_train[0])\n",
    "print('라벨: ', y_train[0])"
   ]
  },
  {
   "cell_type": "code",
   "execution_count": 118,
   "id": "87809f9c",
   "metadata": {},
   "outputs": [
    {
     "name": "stdout",
     "output_type": "stream",
     "text": [
      "Model: \"sequential_15\"\n",
      "_________________________________________________________________\n",
      "Layer (type)                 Output Shape              Param #   \n",
      "=================================================================\n",
      "conv2d_30 (Conv2D)           (None, 26, 26, 65)        1820      \n",
      "_________________________________________________________________\n",
      "max_pooling2d_30 (MaxPooling (None, 13, 13, 65)        0         \n",
      "_________________________________________________________________\n",
      "conv2d_31 (Conv2D)           (None, 11, 11, 40)        23440     \n",
      "_________________________________________________________________\n",
      "max_pooling2d_31 (MaxPooling (None, 5, 5, 40)          0         \n",
      "_________________________________________________________________\n",
      "flatten_15 (Flatten)         (None, 1000)              0         \n",
      "_________________________________________________________________\n",
      "dense_30 (Dense)             (None, 100)               100100    \n",
      "_________________________________________________________________\n",
      "dense_31 (Dense)             (None, 3)                 303       \n",
      "=================================================================\n",
      "Total params: 125,663\n",
      "Trainable params: 125,663\n",
      "Non-trainable params: 0\n",
      "_________________________________________________________________\n"
     ]
    }
   ],
   "source": [
    "import tensorflow as tf\n",
    "from tensorflow import keras\n",
    "import numpy as np\n",
    "\n",
    "model=keras.models.Sequential()\n",
    "model.add(keras.layers.Conv2D(65, (3,3), activation='relu', input_shape=(28,28,3)))\n",
    "model.add(keras.layers.MaxPool2D(2,2))\n",
    "model.add(keras.layers.Conv2D(40, (3,3), activation='relu'))\n",
    "model.add(keras.layers.MaxPooling2D((2,2)))\n",
    "model.add(keras.layers.Flatten())\n",
    "model.add(keras.layers.Dense(100, activation='relu'))\n",
    "model.add(keras.layers.Dense(3, activation='softmax'))\n",
    "\n",
    "model.summary()"
   ]
  },
  {
   "cell_type": "code",
   "execution_count": 119,
   "id": "36a1b65a",
   "metadata": {},
   "outputs": [
    {
     "name": "stdout",
     "output_type": "stream",
     "text": [
      "Epoch 1/25\n",
      "10/10 [==============================] - 0s 9ms/step - loss: 1.0992 - accuracy: 0.3800\n",
      "Epoch 2/25\n",
      "10/10 [==============================] - 0s 3ms/step - loss: 1.0696 - accuracy: 0.4267\n",
      "Epoch 3/25\n",
      "10/10 [==============================] - 0s 3ms/step - loss: 1.0062 - accuracy: 0.5800\n",
      "Epoch 4/25\n",
      "10/10 [==============================] - 0s 3ms/step - loss: 0.8831 - accuracy: 0.6767\n",
      "Epoch 5/25\n",
      "10/10 [==============================] - 0s 3ms/step - loss: 0.7333 - accuracy: 0.7333\n",
      "Epoch 6/25\n",
      "10/10 [==============================] - 0s 3ms/step - loss: 0.6549 - accuracy: 0.7433\n",
      "Epoch 7/25\n",
      "10/10 [==============================] - 0s 3ms/step - loss: 0.5596 - accuracy: 0.7833\n",
      "Epoch 8/25\n",
      "10/10 [==============================] - 0s 3ms/step - loss: 0.5487 - accuracy: 0.7700\n",
      "Epoch 9/25\n",
      "10/10 [==============================] - 0s 3ms/step - loss: 0.4696 - accuracy: 0.8267\n",
      "Epoch 10/25\n",
      "10/10 [==============================] - 0s 4ms/step - loss: 0.4164 - accuracy: 0.8700\n",
      "Epoch 11/25\n",
      "10/10 [==============================] - 0s 3ms/step - loss: 0.3992 - accuracy: 0.8633\n",
      "Epoch 12/25\n",
      "10/10 [==============================] - 0s 3ms/step - loss: 0.3555 - accuracy: 0.8767\n",
      "Epoch 13/25\n",
      "10/10 [==============================] - 0s 3ms/step - loss: 0.3161 - accuracy: 0.8967\n",
      "Epoch 14/25\n",
      "10/10 [==============================] - 0s 3ms/step - loss: 0.2874 - accuracy: 0.9200\n",
      "Epoch 15/25\n",
      "10/10 [==============================] - 0s 3ms/step - loss: 0.2848 - accuracy: 0.9067\n",
      "Epoch 16/25\n",
      "10/10 [==============================] - 0s 3ms/step - loss: 0.2333 - accuracy: 0.9233\n",
      "Epoch 17/25\n",
      "10/10 [==============================] - 0s 3ms/step - loss: 0.2239 - accuracy: 0.9400\n",
      "Epoch 18/25\n",
      "10/10 [==============================] - 0s 3ms/step - loss: 0.1875 - accuracy: 0.9533\n",
      "Epoch 19/25\n",
      "10/10 [==============================] - 0s 3ms/step - loss: 0.1760 - accuracy: 0.9600\n",
      "Epoch 20/25\n",
      "10/10 [==============================] - 0s 3ms/step - loss: 0.1393 - accuracy: 0.9767\n",
      "Epoch 21/25\n",
      "10/10 [==============================] - 0s 3ms/step - loss: 0.1610 - accuracy: 0.9500\n",
      "Epoch 22/25\n",
      "10/10 [==============================] - 0s 3ms/step - loss: 0.1218 - accuracy: 0.9733\n",
      "Epoch 23/25\n",
      "10/10 [==============================] - 0s 3ms/step - loss: 0.1182 - accuracy: 0.9600\n",
      "Epoch 24/25\n",
      "10/10 [==============================] - 0s 3ms/step - loss: 0.0971 - accuracy: 0.9767\n",
      "Epoch 25/25\n",
      "10/10 [==============================] - 0s 3ms/step - loss: 0.0764 - accuracy: 0.9867\n"
     ]
    },
    {
     "data": {
      "text/plain": [
       "<keras.callbacks.History at 0x7f53782f67c0>"
      ]
     },
     "execution_count": 119,
     "metadata": {},
     "output_type": "execute_result"
    }
   ],
   "source": [
    "model.compile(optimizer='adam',\n",
    "             loss='sparse_categorical_crossentropy',\n",
    "             metrics=['accuracy'])\n",
    "\n",
    "model.fit(x_train_norm, y_train, epochs=25)"
   ]
  },
  {
   "cell_type": "code",
   "execution_count": 120,
   "id": "ac3989bf",
   "metadata": {},
   "outputs": [
    {
     "name": "stdout",
     "output_type": "stream",
     "text": [
      "100  images to be resized.\n",
      "100  images resized.\n",
      "100  images to be resized.\n",
      "100  images resized.\n",
      "100  images to be resized.\n",
      "100  images resized.\n",
      "학습데이터(x_train)의 이미지 개수는 300 입니다.\n",
      "x_train shape: (300, 28, 28, 3)\n",
      "y_train shape: (300,)\n"
     ]
    }
   ],
   "source": [
    "from PIL import Image\n",
    "import glob\n",
    "\n",
    "def resize_images(img_path):\n",
    "\timages=glob.glob(img_path + \"/*.jpg\")  \n",
    "    \n",
    "\tprint(len(images), \" images to be resized.\")\n",
    "\n",
    "    # 파일마다 모두 28x28 사이즈로 바꾸어 저장합니다.\n",
    "\ttarget_size=(28,28)\n",
    "\tfor img in images:\n",
    "\t\told_img=Image.open(img)\n",
    "\t\tnew_img=old_img.resize(target_size,Image.ANTIALIAS)\n",
    "\t\tnew_img.save(img, \"JPEG\")\n",
    "    \n",
    "\tprint(len(images), \" images resized.\")\n",
    "\t\n",
    "image_dir_path = os.getenv(\"HOME\") + \"/aiffel/rock_scissor_paper/test/scissor\"\n",
    "resize_images(image_dir_path)\n",
    "\n",
    "image_dir_path = os.getenv(\"HOME\") + \"/aiffel/rock_scissor_paper/test/rock\"\n",
    "resize_images(image_dir_path)\n",
    "\n",
    "image_dir_path = os.getenv(\"HOME\") + \"/aiffel/rock_scissor_paper/test/paper\"\n",
    "resize_images(image_dir_path)\n",
    "\n",
    "\n",
    "import numpy as np\n",
    "\n",
    "def load_data(img_path, number_of_data=300):  # 가위바위보 이미지 개수 총합에 주의하세요.\n",
    "    # 가위 : 0, 바위 : 1, 보 : 2\n",
    "    img_size=28\n",
    "    color=3\n",
    "    #이미지 데이터와 라벨(가위 : 0, 바위 : 1, 보 : 2) 데이터를 담을 행렬(matrix) 영역을 생성합니다.\n",
    "    imgs=np.zeros(number_of_data*img_size*img_size*color,dtype=np.int32).reshape(number_of_data,img_size,img_size,color)\n",
    "    labels=np.zeros(number_of_data,dtype=np.int32)\n",
    "\n",
    "    idx=0\n",
    "    for file in glob.iglob(img_path+'/test/scissor/*.jpg'):\n",
    "        img = np.array(Image.open(file),dtype=np.int32)\n",
    "        imgs[idx,:,:,:]=img    # 데이터 영역에 이미지 행렬을 복사\n",
    "        labels[idx]=0   # 가위 : 0\n",
    "        idx=idx+1\n",
    "\n",
    "    for file in glob.iglob(img_path+'/test/rock/*.jpg'):\n",
    "        img = np.array(Image.open(file),dtype=np.int32)\n",
    "        imgs[idx,:,:,:]=img    # 데이터 영역에 이미지 행렬을 복사\n",
    "        labels[idx]=1   # 바위 : 1\n",
    "        idx=idx+1  \n",
    "    \n",
    "    for file in glob.iglob(img_path+'/test/paper/*.jpg'):\n",
    "        img = np.array(Image.open(file),dtype=np.int32)\n",
    "        imgs[idx,:,:,:]=img    # 데이터 영역에 이미지 행렬을 복사\n",
    "        labels[idx]=2   # 보 : 2\n",
    "        idx=idx+1\n",
    "        \n",
    "    print(\"학습데이터(x_train)의 이미지 개수는\", idx,\"입니다.\")\n",
    "    return imgs, labels\n",
    "\n",
    "image_dir_path = os.getenv(\"HOME\") + \"/aiffel/rock_scissor_paper\"\n",
    "(x_test, y_test)=load_data(image_dir_path)\n",
    "x_test_reshaped = x_test/255.0   # 입력은 0~1 사이의 값으로 정규화\n",
    "\n",
    "print(\"x_train shape: {}\".format(x_test_reshaped.shape))\n",
    "print(\"y_train shape: {}\".format(y_test.shape))"
   ]
  },
  {
   "cell_type": "code",
   "execution_count": 121,
   "id": "66498b8b",
   "metadata": {
    "scrolled": true
   },
   "outputs": [
    {
     "name": "stdout",
     "output_type": "stream",
     "text": [
      "10/10 - 0s - loss: 0.8908 - accuracy: 0.6500\n",
      "test_loss: 0.8907809257507324 \n",
      "test_accuracy: 0.6499999761581421\n"
     ]
    }
   ],
   "source": [
    "test_loss, test_accuracy = model.evaluate(x_test_reshaped,y_test, verbose=2)\n",
    "print(\"test_loss: {} \".format(test_loss))\n",
    "print(\"test_accuracy: {}\".format(test_accuracy))"
   ]
  },
  {
   "cell_type": "markdown",
   "id": "79a564e4",
   "metadata": {},
   "source": [
    "### 회고\n",
    "\n",
    "#### 1. 이번 프로젝트를 진행하면서 어려웠던 점\n",
    "딥러닝과 관련된 클래스, 메소드 등을 직접 사용하면서 코드를 짜본 것은 이번이 처음이였기에, 설명을 읽고 진행하더라고 각 클래스와 메소드, 함수 등이 어떤 역할을 하고 기능을 하게 되는지에 대한 배경 지식이 없어 이해하기가 힘들었다.\n",
    "\n",
    "#### 2. 프로젝트를 진행하면서 알아낸 점 혹은 아직 모호한 점\n",
    "1) 알아낸 점\n",
    "  \n",
    "  A. 모든 모델을 구현하는데 있어서 데이터 전처리는 매우매우 중요하다.\n",
    "  모델에 데이터를 넣어주기 전 데이터가 제대로 처리되어 있지 않으면 코드가 실행조차 되지 않았고, 실제 데이터를 만들고 코드를 짜보면서   코드 자체를 써내려 가는 시간보다 데이터 전처리 시간이 더 많이 소요된다는 것을 알았다. \n",
    "  \n",
    "  B. 데이터의 질\n",
    "  데이터의 질 자체가 너무 좋지 않은 경우에는 모델 자체가 굉장히 좋은 모델이라 하더라도 결과가 엉망일 가능성이 높다. \n",
    "  \n",
    "  C. 과대적합(Overfitting)과 과소적합(Underfitting)\n",
    "  훈련세트와 테스트 세트의 정확도(점수)를 비교했을 때 훈련세트가 너무 높으면 과대적합, 그 반대이거나 두 점수 모두 낮으면 과소적합이라\n",
    "  고 한다. 발생하는 원인은 여러가지이다. 모델이 너무 단순하거나, 규제가 너무 많거나, 그냥 단순히 충분히 오래 훈련하지 않는 경우이다.\n",
    "  즉, 네트워크가 훈련 세트에서 적절한 패턴을 학습하지 못했다는 뜻이다. 항상 기억해야 할 점은 딥러닝 모델이 훈련 세트에는 학습이 잘 되\n",
    "  는 경향이 있지만 진짜 해결할 문제는 학습이 아니라 **일반화**라는 것이다.\n",
    "  \n",
    "  D. 에포크와 과대적합, 과소적합의 관계성\n",
    "  모델에 따라서 에포크 회수에 따라 과소적합이나 과대적합이 일어날 수 있다. 에포크 횟수가 적으면 모델이 훈련 세트를 덜 학습하게 되고, \n",
    "  에포크 횟수가 크면 훈련 세트를 완전히 학습해 훈련 세트에만 너무 잘 맞는 모델이 될 가능성이 높아진다.\n",
    "  \n",
    "  E.재밌다.\n",
    "  코드를 직접 짜 보면서 머리가 아프기도 하지만 그만큼 재밌다는 생각을 많이 하게 된다.점점 재미를 붙여가고 있고 이 흥미가 아이펠이 끝\n",
    "  날 때까지 유지되길 바란다. :-) \n",
    "  \n",
    "  → 알게된 점(과대, 과소적합, 에포크와의 관계성)에 대해서는 추후 벨로그 정리 예정\n",
    "\n",
    "2) 모호한 점\n",
    "  \n",
    "  A. 에포크와 과대적합, 과소적합의 관계성\n",
    "  모든 모델에서 위에서 본 관계성이 나타나는 것인지?\n",
    "  \n",
    "  B. 모델 구현 시 사용된 Layer들(Conv2D, MaxPool2D, MaxPooling2D, Flatten, Dense)의 역할과 기능\n",
    "  \n",
    "  C. 과대적합을 보완하기 위한 방법으로 '가중치 규제', '드롭아웃 추가'를 텐서플로우 사이트에서 소개하고 있었으나, 이해하기가 어려워 적\n",
    "  용해보지는 못 했다. \n",
    "  \n",
    "  D. 'images=glob.glob(img_path + \"/*.jpg\")', 'image_dir_path = os.getenv(\"HOME\") + \"/aiffel/rock_scissor_paper/test/rock\"'\n",
    "  위 코드에 작성된 부분을 확인하다 보면 앞과 같이 쓰여진 부분이 있는데, 이 부분이 아직까지 완전히 이해된 상황이 아니다. 좀 더 공부가 \n",
    "  필요할 듯하다.\n",
    "  \n",
    "  E. 크로스엔트로피 손실함수(cross-entropy loss function) 사용해보기\n",
    "  다중 분류에서 사용하는 손실 함수. 손실 함수를 머신러닝 알고리즘이 얼나마 엉터리인지를 측정하는 기준이다. 지금 작성된 알고리즘이 꽤 \n",
    "  엉터리라 생각되서 한 번 사용해보고 싶었는데, 지금 단계에서는 너무 어렵게 느껴져 시도해보지 못 했다. 다음에 기회가 된다면 사용해보고 \n",
    "  싶다.\n",
    "  \n",
    "  → 모호한 점도 같이 공부해서 벨로그에 업로드 하기\n",
    "\n",
    "#### 3. 루브릭 평가 지표를 맞추기 위해 시도한 것들\n",
    "#### 4. 루브릭 평가 지표를 달성하지 못했을 때, 이유에 관한 추정\n",
    "하단에 루브릭 평가 지표를 맞추기 위해 시도한 것들과 루브릭 평가 지표를 달성하지 못했을 때, 그 이유에 대한 추정을 작성해 보았다.\n",
    "\n",
    "##### 처음에 정확도가 너무 낮게 다와 다양한 방법을 사용해 정확도를 높여 보았다.\n",
    "\n",
    "**1)** Conv2D 레이어에서 입력 이미지의 특징 수를 늘리거나 줄여 보거나, Dense 레이어에서 뉴런수를 바꾸어 보거나, 학습 반복 횟수인 epoch 값을 변경 (Conv2D(입력 이미지 특징 수), Densd(뉴런수), epoch(학습 반복 횟수) 값을 늘리기)\n",
    "(아래 변경 전 결과값은 '[E-01] RockPaperScissor_test' 파일에서 확인 가능)\n",
    "* 변경 전 : 10, 20, 32, 3, epoch = 10\n",
    "  * test_loss: 0.9922240972518921 \n",
    "  * test_accuracy: 0.43666666746139526\n",
    "\n",
    "* 변경 후 : 65, 40, 100, 3, epoch = 25   \n",
    "  * test_loss: 0.8907809257507324 \n",
    "  * test_accuracy: 0.6499999761581421\n",
    "  * accuracy가 현 시점에서는 60%를 넘기고 있으나 코드를 실행할 때마다 값이 다르게 나오며 60% 아래로 떨어지는 경우도 있었음.\n",
    "    (모델 자체가 많이 불안정하다 판단된다.)\n",
    "\n",
    "→ accuracy가 약 65%정도까지 올라가긴 했으나 여전히 loss로 그렇게 좋은 모델이라고 볼 수 없다. \n",
    "   test 데이터셋으로 학습 시 accuracy가 약 98%까지 나오는 것을 감안하면 데이터가 과적합(Overfitting) 되었다고 판단된다.\n",
    "   데이터가 과적합(Overfitting)된 원인에 대해서는 아래와 같이 추정해 볼 수 있을 것이다.\n",
    "   \n",
    "   A. epoch값이 너무 크다 → **2)** \"다른 하이퍼파라미터 값은 변경된 값으로 그대로 두고 epoch만 10으로 변경\" (결과는 하단 부록 참고)\n",
    "   \n",
    "   B. 데이터 자체의 문제 \n",
    "    \n",
    "    B-1. 학습에 사용한 이미지(내가 만든 이미지)의 경우 가위, 바위, 보 사진을 한 방향이 아닌 여러 방향에서 찍힌 이미지를 사용하였으        나 테스트에 사용한 이미지(팀원 이미지)의 경우 한 방향에서만 찍힌 사진을 사용하였다. 여러 방향에서 찍힌 이미지를 사용해 학습을 하      다보니 다양한 정보를 충분히 학습하지 못 했을 것이라 판단된다. \n",
    "     → **3)** \"학습 데이터량을 늘려준다.\" (하이퍼파라미터는 변경 후 값 사용)\n",
    "     \n",
    "     B-2. 이미지의 해상도 및 크기 또한 결과값에 영향을 미쳤을 것이라 생각된다. 상단에 출력된 이미지나 \n",
    "     '[E-01] RockPaperScissor_test'파일에서 출력된 이미지를 보면 사람도 자세히 보아야지만 가위, 바위, 보 구분이 가능할 정도이다. \n",
    "     → \"크기를 키우고 해상도를 높인다.\" 머신러닝에서 많이 사용하는 이미지 크기는 32X32 ,64X64 ,96X96 ,245X256으로 여기서는 96X96 \n",
    "     사용 (하이퍼파라미터는 변경 후 값 사용)\n",
    "     \n",
    "     \n",
    "**2)** 사이킷런의 RandomizedSearchCV클래스를 사용한 하이퍼파라미터 튜닝\n",
    "RandomizedSearchCV클래스의 경우 하이퍼파라미터 탐색과 교차 검증을 동시에 수행하므로 B-1에서 만들었던 900개의 샘플로 진행한다. "
   ]
  },
  {
   "cell_type": "markdown",
   "id": "e8d8f4c6",
   "metadata": {},
   "source": [
    "### 부록"
   ]
  },
  {
   "cell_type": "markdown",
   "id": "5df7f4a6",
   "metadata": {},
   "source": [
    "#### A. epoch값이 너무 크다  →  다른 하이퍼파라미터 값은 변경된 값으로 그대로 두고 epoch만 10으로 변경"
   ]
  },
  {
   "cell_type": "code",
   "execution_count": 122,
   "id": "bc90edf0",
   "metadata": {},
   "outputs": [
    {
     "name": "stdout",
     "output_type": "stream",
     "text": [
      "Epoch 1/10\n",
      "10/10 [==============================] - 0s 3ms/step - loss: 0.1396 - accuracy: 0.9600\n",
      "Epoch 2/10\n",
      "10/10 [==============================] - 0s 3ms/step - loss: 0.0802 - accuracy: 0.9867\n",
      "Epoch 3/10\n",
      "10/10 [==============================] - 0s 3ms/step - loss: 0.0641 - accuracy: 0.9867\n",
      "Epoch 4/10\n",
      "10/10 [==============================] - 0s 3ms/step - loss: 0.0533 - accuracy: 0.9933\n",
      "Epoch 5/10\n",
      "10/10 [==============================] - 0s 3ms/step - loss: 0.0426 - accuracy: 0.9933\n",
      "Epoch 6/10\n",
      "10/10 [==============================] - 0s 3ms/step - loss: 0.0372 - accuracy: 0.9967\n",
      "Epoch 7/10\n",
      "10/10 [==============================] - 0s 3ms/step - loss: 0.0303 - accuracy: 1.0000\n",
      "Epoch 8/10\n",
      "10/10 [==============================] - 0s 3ms/step - loss: 0.0303 - accuracy: 0.9967\n",
      "Epoch 9/10\n",
      "10/10 [==============================] - 0s 3ms/step - loss: 0.0244 - accuracy: 0.9967\n",
      "Epoch 10/10\n",
      "10/10 [==============================] - 0s 3ms/step - loss: 0.0188 - accuracy: 1.0000\n"
     ]
    },
    {
     "data": {
      "text/plain": [
       "<keras.callbacks.History at 0x7f537822bf40>"
      ]
     },
     "execution_count": 122,
     "metadata": {},
     "output_type": "execute_result"
    }
   ],
   "source": [
    "model.compile(optimizer='adam',\n",
    "             loss='sparse_categorical_crossentropy',\n",
    "             metrics=['accuracy'])\n",
    "\n",
    "model.fit(x_train_norm, y_train, epochs=10)"
   ]
  },
  {
   "cell_type": "code",
   "execution_count": 123,
   "id": "53da3262",
   "metadata": {},
   "outputs": [
    {
     "name": "stdout",
     "output_type": "stream",
     "text": [
      "100  images to be resized.\n",
      "100  images resized.\n",
      "100  images to be resized.\n",
      "100  images resized.\n",
      "100  images to be resized.\n",
      "100  images resized.\n",
      "학습데이터(x_train)의 이미지 개수는 300 입니다.\n",
      "x_train shape: (300, 28, 28, 3)\n",
      "y_train shape: (300,)\n"
     ]
    }
   ],
   "source": [
    "from PIL import Image\n",
    "import glob\n",
    "\n",
    "def resize_images(img_path):\n",
    "\timages=glob.glob(img_path + \"/*.jpg\")  \n",
    "    \n",
    "\tprint(len(images), \" images to be resized.\")\n",
    "\n",
    "    # 파일마다 모두 28x28 사이즈로 바꾸어 저장합니다.\n",
    "\ttarget_size=(28,28)\n",
    "\tfor img in images:\n",
    "\t\told_img=Image.open(img)\n",
    "\t\tnew_img=old_img.resize(target_size,Image.ANTIALIAS)\n",
    "\t\tnew_img.save(img, \"JPEG\")\n",
    "    \n",
    "\tprint(len(images), \" images resized.\")\n",
    "\t\n",
    "image_dir_path = os.getenv(\"HOME\") + \"/aiffel/rock_scissor_paper/test/scissor\"\n",
    "resize_images(image_dir_path)\n",
    "\n",
    "image_dir_path = os.getenv(\"HOME\") + \"/aiffel/rock_scissor_paper/test/rock\"\n",
    "resize_images(image_dir_path)\n",
    "\n",
    "image_dir_path = os.getenv(\"HOME\") + \"/aiffel/rock_scissor_paper/test/paper\"\n",
    "resize_images(image_dir_path)\n",
    "\n",
    "\n",
    "import numpy as np\n",
    "\n",
    "def load_data(img_path, number_of_data=300):  # 가위바위보 이미지 개수 총합에 주의하세요.\n",
    "    # 가위 : 0, 바위 : 1, 보 : 2\n",
    "    img_size=28\n",
    "    color=3\n",
    "    #이미지 데이터와 라벨(가위 : 0, 바위 : 1, 보 : 2) 데이터를 담을 행렬(matrix) 영역을 생성합니다.\n",
    "    imgs=np.zeros(number_of_data*img_size*img_size*color,dtype=np.int32).reshape(number_of_data,img_size,img_size,color)\n",
    "    labels=np.zeros(number_of_data,dtype=np.int32)\n",
    "\n",
    "    idx=0\n",
    "    for file in glob.iglob(img_path+'/test/scissor/*.jpg'):\n",
    "        img = np.array(Image.open(file),dtype=np.int32)\n",
    "        imgs[idx,:,:,:]=img    # 데이터 영역에 이미지 행렬을 복사\n",
    "        labels[idx]=0   # 가위 : 0\n",
    "        idx=idx+1\n",
    "\n",
    "    for file in glob.iglob(img_path+'/test/rock/*.jpg'):\n",
    "        img = np.array(Image.open(file),dtype=np.int32)\n",
    "        imgs[idx,:,:,:]=img    # 데이터 영역에 이미지 행렬을 복사\n",
    "        labels[idx]=1   # 바위 : 1\n",
    "        idx=idx+1  \n",
    "    \n",
    "    for file in glob.iglob(img_path+'/test/paper/*.jpg'):\n",
    "        img = np.array(Image.open(file),dtype=np.int32)\n",
    "        imgs[idx,:,:,:]=img    # 데이터 영역에 이미지 행렬을 복사\n",
    "        labels[idx]=2   # 보 : 2\n",
    "        idx=idx+1\n",
    "        \n",
    "    print(\"학습데이터(x_train)의 이미지 개수는\", idx,\"입니다.\")\n",
    "    return imgs, labels\n",
    "\n",
    "image_dir_path = os.getenv(\"HOME\") + \"/aiffel/rock_scissor_paper\"\n",
    "(x_test, y_test)=load_data(image_dir_path)\n",
    "x_test_reshaped = x_test/255.0   # 입력은 0~1 사이의 값으로 정규화\n",
    "\n",
    "print(\"x_train shape: {}\".format(x_test_reshaped.shape))\n",
    "print(\"y_train shape: {}\".format(y_test.shape))"
   ]
  },
  {
   "cell_type": "code",
   "execution_count": 124,
   "id": "df1301fa",
   "metadata": {},
   "outputs": [
    {
     "name": "stdout",
     "output_type": "stream",
     "text": [
      "10/10 - 0s - loss: 1.0879 - accuracy: 0.6300\n",
      "test_loss: 1.087900996208191 \n",
      "test_accuracy: 0.6299999952316284\n"
     ]
    }
   ],
   "source": [
    "test_loss, test_accuracy = model.evaluate(x_test_reshaped,y_test, verbose=2)\n",
    "print(\"test_loss: {} \".format(test_loss))\n",
    "print(\"test_accuracy: {}\".format(test_accuracy))"
   ]
  },
  {
   "cell_type": "markdown",
   "id": "44e4b8b3",
   "metadata": {},
   "source": [
    "epoch를 낮추어도 정확도가 62%까지 나오는 것으로 보아 epoch값으로 해결 할 수 있는 문제라고 판단되지 않음."
   ]
  },
  {
   "cell_type": "markdown",
   "id": "e6d3acca",
   "metadata": {},
   "source": [
    "#### B-1. 다양한 정보를 충분히 학습하지 못 했을 것 \n",
    "#### →  학습 데이터량을 늘려준다. (학습 데이터 : 내 이미지, 다른 팀원 2명의 이미지 추가, 테스트 데이터 : 이전과 동일)"
   ]
  },
  {
   "cell_type": "code",
   "execution_count": 131,
   "id": "0343a283",
   "metadata": {},
   "outputs": [
    {
     "name": "stdout",
     "output_type": "stream",
     "text": [
      "300  images to be resized.\n",
      "300  images to be resized.\n",
      "300  images to be resized.\n"
     ]
    }
   ],
   "source": [
    "# (1) 필요한 모듈 import하기\n",
    "from PIL import Image \n",
    "import glob\n",
    "\n",
    "import tensorflow as tf\n",
    "from tensorflow import keras\n",
    "\n",
    "import numpy as np\n",
    "import matplotlib.pyplot as plt\n",
    "import os\n",
    "\n",
    "\n",
    "# (2) 데이터 준비 + Resize하기\n",
    "def resize_images(img_path):\n",
    "\timages=glob.glob(img_path + \"/*.jpg\")  \n",
    "    \n",
    "\tprint(len(images), \" images to be resized.\")\n",
    "\n",
    "    # 파일마다 모두 28x28 사이즈로 바꾸어 저장\n",
    "\ttarget_size=(28,28)\n",
    "\tfor img in images:\n",
    "\t\told_img=Image.open(img)\n",
    "\t\tnew_img=old_img.resize(target_size,Image.ANTIALIAS)\n",
    "\t\tnew_img.save(img, \"JPEG\")\n",
    "\n",
    "# 가위바위보 이미지가 저장된 디렉토리 아래의 모든 jpg 파일을 읽어들여서\n",
    "image_dir_path = os.getenv(\"HOME\") + \"/aiffel/rock_scissor_paper/scissor_1\"\n",
    "resize_images(image_dir_path)\n",
    "\n",
    "image_dir_path = os.getenv(\"HOME\") + \"/aiffel/rock_scissor_paper/rock_1\"\n",
    "resize_images(image_dir_path)\n",
    "\n",
    "image_dir_path = os.getenv(\"HOME\") + \"/aiffel/rock_scissor_paper/paper_1\"\n",
    "resize_images(image_dir_path)"
   ]
  },
  {
   "cell_type": "code",
   "execution_count": 132,
   "id": "c80b9a30",
   "metadata": {},
   "outputs": [
    {
     "name": "stdout",
     "output_type": "stream",
     "text": [
      "학습데이터(x_train)의 이미지 개수는 900 입니다.\n"
     ]
    }
   ],
   "source": [
    "import numpy as np\n",
    "\n",
    "def load_data(img_path, number_of_data=900):  # 가위바위보 이미지 개수 총합에 주의\n",
    "    # 가위 : 0, 바위 : 1, 보 : 2\n",
    "    img_size=28\n",
    "    color=3\n",
    "    #이미지 데이터와 라벨(가위 : 0, 바위 : 1, 보 : 2) 데이터를 담을 행렬(matrix) 영역 생성\n",
    "    imgs=np.zeros(number_of_data*img_size*img_size*color,dtype=np.int32).reshape(number_of_data,img_size,img_size,color)\n",
    "    labels=np.zeros(number_of_data,dtype=np.int32)\n",
    "\n",
    "    idx=0\n",
    "    for file in glob.iglob(img_path+'/scissor_1/*.jpg'):\n",
    "        img = np.array(Image.open(file),dtype=np.int32)\n",
    "        imgs[idx,:,:,:]=img    # 데이터 영역에 이미지 행렬을 복사\n",
    "        labels[idx]=0   # 가위 : 0\n",
    "        idx=idx+1\n",
    "\n",
    "    for file in glob.iglob(img_path+'/rock_1/*.jpg'):\n",
    "        img = np.array(Image.open(file),dtype=np.int32)\n",
    "        imgs[idx,:,:,:]=img    # 데이터 영역에 이미지 행렬을 복사\n",
    "        labels[idx]=1   # 바위 : 1\n",
    "        idx=idx+1  \n",
    "    \n",
    "    for file in glob.iglob(img_path+'/paper_1/*.jpg'):\n",
    "        img = np.array(Image.open(file),dtype=np.int32)\n",
    "        imgs[idx,:,:,:]=img    # 데이터 영역에 이미지 행렬을 복사\n",
    "        labels[idx]=2   # 보 : 2\n",
    "        idx=idx+1\n",
    "        \n",
    "    print(\"학습데이터(x_train)의 이미지 개수는\", idx,\"입니다.\")\n",
    "    return imgs, labels\n",
    "\n",
    "image_dir_path = os.getenv(\"HOME\") + \"/aiffel/rock_scissor_paper\"\n",
    "(x_train, y_train)=load_data(image_dir_path)\n",
    "x_train_norm = x_train/255.0   # 입력은 0~1 사이의 값으로 정규화"
   ]
  },
  {
   "cell_type": "code",
   "execution_count": 133,
   "id": "65c24bf7",
   "metadata": {},
   "outputs": [
    {
     "name": "stdout",
     "output_type": "stream",
     "text": [
      "Model: \"sequential_17\"\n",
      "_________________________________________________________________\n",
      "Layer (type)                 Output Shape              Param #   \n",
      "=================================================================\n",
      "conv2d_34 (Conv2D)           (None, 26, 26, 65)        1820      \n",
      "_________________________________________________________________\n",
      "max_pooling2d_34 (MaxPooling (None, 13, 13, 65)        0         \n",
      "_________________________________________________________________\n",
      "conv2d_35 (Conv2D)           (None, 11, 11, 40)        23440     \n",
      "_________________________________________________________________\n",
      "max_pooling2d_35 (MaxPooling (None, 5, 5, 40)          0         \n",
      "_________________________________________________________________\n",
      "flatten_17 (Flatten)         (None, 1000)              0         \n",
      "_________________________________________________________________\n",
      "dense_34 (Dense)             (None, 100)               100100    \n",
      "_________________________________________________________________\n",
      "dense_35 (Dense)             (None, 3)                 303       \n",
      "=================================================================\n",
      "Total params: 125,663\n",
      "Trainable params: 125,663\n",
      "Non-trainable params: 0\n",
      "_________________________________________________________________\n"
     ]
    }
   ],
   "source": [
    "import tensorflow as tf\n",
    "from tensorflow import keras\n",
    "import numpy as np\n",
    "\n",
    "model=keras.models.Sequential()\n",
    "model.add(keras.layers.Conv2D(65, (3,3), activation='relu', input_shape=(28,28,3)))\n",
    "model.add(keras.layers.MaxPool2D(2,2))\n",
    "model.add(keras.layers.Conv2D(40, (3,3), activation='relu'))\n",
    "model.add(keras.layers.MaxPooling2D((2,2)))\n",
    "model.add(keras.layers.Flatten())\n",
    "model.add(keras.layers.Dense(100, activation='relu'))\n",
    "model.add(keras.layers.Dense(3, activation='softmax'))\n",
    "\n",
    "model.summary()"
   ]
  },
  {
   "cell_type": "code",
   "execution_count": 137,
   "id": "e8264502",
   "metadata": {},
   "outputs": [
    {
     "name": "stdout",
     "output_type": "stream",
     "text": [
      "Epoch 1/25\n",
      "29/29 [==============================] - 1s 4ms/step - loss: 0.1064 - accuracy: 0.9756\n",
      "Epoch 2/25\n",
      "29/29 [==============================] - 0s 3ms/step - loss: 0.0677 - accuracy: 0.9811\n",
      "Epoch 3/25\n",
      "29/29 [==============================] - 0s 3ms/step - loss: 0.0451 - accuracy: 0.9922\n",
      "Epoch 4/25\n",
      "29/29 [==============================] - 0s 3ms/step - loss: 0.0421 - accuracy: 0.9900\n",
      "Epoch 5/25\n",
      "29/29 [==============================] - 0s 3ms/step - loss: 0.0420 - accuracy: 0.9878\n",
      "Epoch 6/25\n",
      "29/29 [==============================] - 0s 3ms/step - loss: 0.0238 - accuracy: 0.9933\n",
      "Epoch 7/25\n",
      "29/29 [==============================] - 0s 3ms/step - loss: 0.0149 - accuracy: 0.9978\n",
      "Epoch 8/25\n",
      "29/29 [==============================] - 0s 3ms/step - loss: 0.0155 - accuracy: 0.9944\n",
      "Epoch 9/25\n",
      "29/29 [==============================] - 0s 3ms/step - loss: 0.0230 - accuracy: 0.9956\n",
      "Epoch 10/25\n",
      "29/29 [==============================] - 0s 3ms/step - loss: 0.0100 - accuracy: 0.9978\n",
      "Epoch 11/25\n",
      "29/29 [==============================] - 0s 3ms/step - loss: 0.0119 - accuracy: 0.9956\n",
      "Epoch 12/25\n",
      "29/29 [==============================] - 0s 3ms/step - loss: 0.0078 - accuracy: 0.9989\n",
      "Epoch 13/25\n",
      "29/29 [==============================] - 0s 3ms/step - loss: 0.0033 - accuracy: 1.0000\n",
      "Epoch 14/25\n",
      "29/29 [==============================] - 0s 3ms/step - loss: 0.0028 - accuracy: 1.0000\n",
      "Epoch 15/25\n",
      "29/29 [==============================] - 0s 3ms/step - loss: 0.0023 - accuracy: 1.0000\n",
      "Epoch 16/25\n",
      "29/29 [==============================] - 0s 3ms/step - loss: 0.0016 - accuracy: 1.0000\n",
      "Epoch 17/25\n",
      "29/29 [==============================] - 0s 3ms/step - loss: 0.0014 - accuracy: 1.0000\n",
      "Epoch 18/25\n",
      "29/29 [==============================] - 0s 3ms/step - loss: 0.0012 - accuracy: 1.0000\n",
      "Epoch 19/25\n",
      "29/29 [==============================] - 0s 3ms/step - loss: 0.0012 - accuracy: 1.0000\n",
      "Epoch 20/25\n",
      "29/29 [==============================] - 0s 3ms/step - loss: 0.0012 - accuracy: 1.0000\n",
      "Epoch 21/25\n",
      "29/29 [==============================] - 0s 3ms/step - loss: 9.3171e-04 - accuracy: 1.0000\n",
      "Epoch 22/25\n",
      "29/29 [==============================] - 0s 3ms/step - loss: 8.9392e-04 - accuracy: 1.0000\n",
      "Epoch 23/25\n",
      "29/29 [==============================] - 0s 3ms/step - loss: 7.6478e-04 - accuracy: 1.0000\n",
      "Epoch 24/25\n",
      "29/29 [==============================] - 0s 3ms/step - loss: 7.1138e-04 - accuracy: 1.0000\n",
      "Epoch 25/25\n",
      "29/29 [==============================] - 0s 3ms/step - loss: 7.0958e-04 - accuracy: 1.0000\n"
     ]
    },
    {
     "data": {
      "text/plain": [
       "<keras.callbacks.History at 0x7f535c2d7f70>"
      ]
     },
     "execution_count": 137,
     "metadata": {},
     "output_type": "execute_result"
    }
   ],
   "source": [
    "model.compile(optimizer='adam',\n",
    "             loss='sparse_categorical_crossentropy',\n",
    "             metrics=['accuracy'])\n",
    "\n",
    "model.fit(x_train_norm, y_train, epochs=25)"
   ]
  },
  {
   "cell_type": "code",
   "execution_count": 138,
   "id": "563110d4",
   "metadata": {},
   "outputs": [
    {
     "name": "stdout",
     "output_type": "stream",
     "text": [
      "100  images to be resized.\n",
      "100  images resized.\n",
      "100  images to be resized.\n",
      "100  images resized.\n",
      "100  images to be resized.\n",
      "100  images resized.\n",
      "학습데이터(x_train)의 이미지 개수는 300 입니다.\n",
      "x_train shape: (300, 28, 28, 3)\n",
      "y_train shape: (300,)\n"
     ]
    }
   ],
   "source": [
    "from PIL import Image\n",
    "import glob\n",
    "\n",
    "def resize_images(img_path):\n",
    "\timages=glob.glob(img_path + \"/*.jpg\")  \n",
    "    \n",
    "\tprint(len(images), \" images to be resized.\")\n",
    "\n",
    "    # 파일마다 모두 28x28 사이즈로 바꾸어 저장합니다.\n",
    "\ttarget_size=(28,28)\n",
    "\tfor img in images:\n",
    "\t\told_img=Image.open(img)\n",
    "\t\tnew_img=old_img.resize(target_size,Image.ANTIALIAS)\n",
    "\t\tnew_img.save(img, \"JPEG\")\n",
    "    \n",
    "\tprint(len(images), \" images resized.\")\n",
    "\t\n",
    "image_dir_path = os.getenv(\"HOME\") + \"/aiffel/rock_scissor_paper/test/scissor\"\n",
    "resize_images(image_dir_path)\n",
    "\n",
    "image_dir_path = os.getenv(\"HOME\") + \"/aiffel/rock_scissor_paper/test/rock\"\n",
    "resize_images(image_dir_path)\n",
    "\n",
    "image_dir_path = os.getenv(\"HOME\") + \"/aiffel/rock_scissor_paper/test/paper\"\n",
    "resize_images(image_dir_path)\n",
    "\n",
    "\n",
    "import numpy as np\n",
    "\n",
    "def load_data(img_path, number_of_data=300):  # 가위바위보 이미지 개수 총합에 주의하세요.\n",
    "    # 가위 : 0, 바위 : 1, 보 : 2\n",
    "    img_size=28\n",
    "    color=3\n",
    "    #이미지 데이터와 라벨(가위 : 0, 바위 : 1, 보 : 2) 데이터를 담을 행렬(matrix) 영역을 생성합니다.\n",
    "    imgs=np.zeros(number_of_data*img_size*img_size*color,dtype=np.int32).reshape(number_of_data,img_size,img_size,color)\n",
    "    labels=np.zeros(number_of_data,dtype=np.int32)\n",
    "\n",
    "    idx=0\n",
    "    for file in glob.iglob(img_path+'/test/scissor/*.jpg'):\n",
    "        img = np.array(Image.open(file),dtype=np.int32)\n",
    "        imgs[idx,:,:,:]=img    # 데이터 영역에 이미지 행렬을 복사\n",
    "        labels[idx]=0   # 가위 : 0\n",
    "        idx=idx+1\n",
    "\n",
    "    for file in glob.iglob(img_path+'/test/rock/*.jpg'):\n",
    "        img = np.array(Image.open(file),dtype=np.int32)\n",
    "        imgs[idx,:,:,:]=img    # 데이터 영역에 이미지 행렬을 복사\n",
    "        labels[idx]=1   # 바위 : 1\n",
    "        idx=idx+1  \n",
    "    \n",
    "    for file in glob.iglob(img_path+'/test/paper/*.jpg'):\n",
    "        img = np.array(Image.open(file),dtype=np.int32)\n",
    "        imgs[idx,:,:,:]=img    # 데이터 영역에 이미지 행렬을 복사\n",
    "        labels[idx]=2   # 보 : 2\n",
    "        idx=idx+1\n",
    "        \n",
    "    print(\"학습데이터(x_train)의 이미지 개수는\", idx,\"입니다.\")\n",
    "    return imgs, labels\n",
    "\n",
    "image_dir_path = os.getenv(\"HOME\") + \"/aiffel/rock_scissor_paper\"\n",
    "(x_test, y_test)=load_data(image_dir_path)\n",
    "x_test_reshaped = x_test/255.0   # 입력은 0~1 사이의 값으로 정규화\n",
    "\n",
    "print(\"x_train shape: {}\".format(x_test_reshaped.shape))\n",
    "print(\"y_train shape: {}\".format(y_test.shape))"
   ]
  },
  {
   "cell_type": "code",
   "execution_count": 139,
   "id": "04edb43e",
   "metadata": {},
   "outputs": [
    {
     "name": "stdout",
     "output_type": "stream",
     "text": [
      "10/10 - 0s - loss: 2.7716 - accuracy: 0.6367\n",
      "test_loss: 2.7716474533081055 \n",
      "test_accuracy: 0.6366666555404663\n"
     ]
    }
   ],
   "source": [
    "test_loss, test_accuracy = model.evaluate(x_test_reshaped,y_test, verbose=2)\n",
    "print(\"test_loss: {} \".format(test_loss))\n",
    "print(\"test_accuracy: {}\".format(test_accuracy))"
   ]
  },
  {
   "cell_type": "markdown",
   "id": "d578df7d",
   "metadata": {},
   "source": [
    "학습데이터량을 클래스 별로 200개씩 늘렸음에도 불구하고 accuracy에는 유의미한 차이를 보이지 않았다. 여전히 loss 값은 높게 나오므로 모델 자체가 불안정하다 판단되며, accuracy에 영향을 줄만큼 데이터량이 충분히 제공되지 못 한것으로 해석된다. 학습 데이터량으로 accuracy를 높이기 위해서는 더 많은 양의 데이터가 필요한 것으로 판단된다."
   ]
  },
  {
   "cell_type": "markdown",
   "id": "37aac722",
   "metadata": {},
   "source": [
    "#### B-2. 이미지의 크기와 해상도가 낮은 것 →  크기를 키우고 해상도를 높인다.\n",
    "#### 해상도를 높이는 방법 하나 자체만으로 모델을 따로 구현해야 할 정도로 복잡하다. 해상도 부분은 제외하고 크기만 키워 확인."
   ]
  },
  {
   "cell_type": "code",
   "execution_count": 140,
   "id": "306e00e8",
   "metadata": {},
   "outputs": [
    {
     "name": "stdout",
     "output_type": "stream",
     "text": [
      "100  images to be resized.\n",
      "100  images to be resized.\n",
      "100  images to be resized.\n"
     ]
    }
   ],
   "source": [
    "# (1) 필요한 모듈 import하기\n",
    "from PIL import Image \n",
    "import glob\n",
    "\n",
    "import tensorflow as tf\n",
    "from tensorflow import keras\n",
    "\n",
    "import numpy as np\n",
    "import matplotlib.pyplot as plt\n",
    "import os\n",
    "\n",
    "\n",
    "# (2) 데이터 준비 + Resize하기\n",
    "def resize_images(img_path):\n",
    "\timages=glob.glob(img_path + \"/*.jpg\")  \n",
    "    \n",
    "\tprint(len(images), \" images to be resized.\")\n",
    "\n",
    "    # 파일마다 모두 96x96 사이즈로 바꾸어 저장\n",
    "\ttarget_size=(96,96)\n",
    "\tfor img in images:\n",
    "\t\told_img=Image.open(img)\n",
    "\t\tnew_img=old_img.resize(target_size,Image.ANTIALIAS)\n",
    "\t\tnew_img.save(img, \"JPEG\")\n",
    "\n",
    "# 가위바위보 이미지가 저장된 디렉토리 아래의 모든 jpg 파일을 읽어들여서\n",
    "image_dir_path = os.getenv(\"HOME\") + \"/aiffel/rock_scissor_paper/scissor\"\n",
    "resize_images(image_dir_path)\n",
    "\n",
    "image_dir_path = os.getenv(\"HOME\") + \"/aiffel/rock_scissor_paper/rock\"\n",
    "resize_images(image_dir_path)\n",
    "\n",
    "image_dir_path = os.getenv(\"HOME\") + \"/aiffel/rock_scissor_paper/paper\"\n",
    "resize_images(image_dir_path)"
   ]
  },
  {
   "cell_type": "code",
   "execution_count": 141,
   "id": "8208d266",
   "metadata": {
    "scrolled": true
   },
   "outputs": [
    {
     "name": "stdout",
     "output_type": "stream",
     "text": [
      "학습데이터(x_train)의 이미지 개수는 300 입니다.\n"
     ]
    }
   ],
   "source": [
    "import numpy as np\n",
    "\n",
    "def load_data(img_path, number_of_data=300):  # 가위바위보 이미지 개수 총합에 주의\n",
    "    # 가위 : 0, 바위 : 1, 보 : 2\n",
    "    img_size=96\n",
    "    color=3\n",
    "    #이미지 데이터와 라벨(가위 : 0, 바위 : 1, 보 : 2) 데이터를 담을 행렬(matrix) 영역 생성\n",
    "    imgs=np.zeros(number_of_data*img_size*img_size*color,dtype=np.int32).reshape(number_of_data,img_size,img_size,color)\n",
    "    labels=np.zeros(number_of_data,dtype=np.int32)\n",
    "\n",
    "    idx=0\n",
    "    for file in glob.iglob(img_path+'/scissor/*.jpg'):\n",
    "        img = np.array(Image.open(file),dtype=np.int32)\n",
    "        imgs[idx,:,:,:]=img    # 데이터 영역에 이미지 행렬을 복사\n",
    "        labels[idx]=0   # 가위 : 0\n",
    "        idx=idx+1\n",
    "\n",
    "    for file in glob.iglob(img_path+'/rock/*.jpg'):\n",
    "        img = np.array(Image.open(file),dtype=np.int32)\n",
    "        imgs[idx,:,:,:]=img    # 데이터 영역에 이미지 행렬을 복사\n",
    "        labels[idx]=1   # 바위 : 1\n",
    "        idx=idx+1  \n",
    "    \n",
    "    for file in glob.iglob(img_path+'/paper/*.jpg'):\n",
    "        img = np.array(Image.open(file),dtype=np.int32)\n",
    "        imgs[idx,:,:,:]=img    # 데이터 영역에 이미지 행렬을 복사\n",
    "        labels[idx]=2   # 보 : 2\n",
    "        idx=idx+1\n",
    "        \n",
    "    print(\"학습데이터(x_train)의 이미지 개수는\", idx,\"입니다.\")\n",
    "    return imgs, labels\n",
    "\n",
    "image_dir_path = os.getenv(\"HOME\") + \"/aiffel/rock_scissor_paper\"\n",
    "(x_train, y_train)=load_data(image_dir_path)\n",
    "x_train_norm = (x_train)-10/206.0   # 입력은 0~1 사이의 값으로 정규화"
   ]
  },
  {
   "cell_type": "code",
   "execution_count": 142,
   "id": "d2aa7e1c",
   "metadata": {},
   "outputs": [
    {
     "name": "stdout",
     "output_type": "stream",
     "text": [
      "라벨:  0\n"
     ]
    },
    {
     "data": {
      "image/png": "[encoded data removed]",
      "text/plain": [
       "<Figure size 432x288 with 1 Axes>"
      ]
     },
     "metadata": {
      "needs_background": "light"
     },
     "output_type": "display_data"
    }
   ],
   "source": [
    "plt.imshow(x_train[0])\n",
    "print('라벨: ', y_train[0])"
   ]
  },
  {
   "cell_type": "code",
   "execution_count": 143,
   "id": "0360efde",
   "metadata": {},
   "outputs": [
    {
     "name": "stdout",
     "output_type": "stream",
     "text": [
      "Model: \"sequential_18\"\n",
      "_________________________________________________________________\n",
      "Layer (type)                 Output Shape              Param #   \n",
      "=================================================================\n",
      "conv2d_36 (Conv2D)           (None, 94, 94, 65)        1820      \n",
      "_________________________________________________________________\n",
      "max_pooling2d_36 (MaxPooling (None, 47, 47, 65)        0         \n",
      "_________________________________________________________________\n",
      "conv2d_37 (Conv2D)           (None, 45, 45, 32)        18752     \n",
      "_________________________________________________________________\n",
      "max_pooling2d_37 (MaxPooling (None, 22, 22, 32)        0         \n",
      "_________________________________________________________________\n",
      "flatten_18 (Flatten)         (None, 15488)             0         \n",
      "_________________________________________________________________\n",
      "dense_36 (Dense)             (None, 100)               1548900   \n",
      "_________________________________________________________________\n",
      "dense_37 (Dense)             (None, 3)                 303       \n",
      "=================================================================\n",
      "Total params: 1,569,775\n",
      "Trainable params: 1,569,775\n",
      "Non-trainable params: 0\n",
      "_________________________________________________________________\n"
     ]
    }
   ],
   "source": [
    "import tensorflow as tf\n",
    "from tensorflow import keras\n",
    "import numpy as np\n",
    "\n",
    "model=keras.models.Sequential()\n",
    "model.add(keras.layers.Conv2D(65, (3,3), activation='relu', input_shape=(96,96,3)))\n",
    "model.add(keras.layers.MaxPool2D(2,2))\n",
    "model.add(keras.layers.Conv2D(32, (3,3), activation='relu'))\n",
    "model.add(keras.layers.MaxPooling2D((2,2)))\n",
    "model.add(keras.layers.Flatten())\n",
    "model.add(keras.layers.Dense(100, activation='relu'))\n",
    "model.add(keras.layers.Dense(3, activation='softmax'))\n",
    "\n",
    "model.summary()"
   ]
  },
  {
   "cell_type": "code",
   "execution_count": 144,
   "id": "71039862",
   "metadata": {
    "scrolled": false
   },
   "outputs": [
    {
     "name": "stdout",
     "output_type": "stream",
     "text": [
      "Epoch 1/25\n",
      "10/10 [==============================] - 0s 13ms/step - loss: 66.1387 - accuracy: 0.3733\n",
      "Epoch 2/25\n",
      "10/10 [==============================] - 0s 12ms/step - loss: 1.0353 - accuracy: 0.7267\n",
      "Epoch 3/25\n",
      "10/10 [==============================] - 0s 10ms/step - loss: 1.0933 - accuracy: 0.4133\n",
      "Epoch 4/25\n",
      "10/10 [==============================] - 0s 10ms/step - loss: 1.0972 - accuracy: 0.3500\n",
      "Epoch 5/25\n",
      "10/10 [==============================] - 0s 9ms/step - loss: 1.0977 - accuracy: 0.3433\n",
      "Epoch 6/25\n",
      "10/10 [==============================] - 0s 9ms/step - loss: 1.0977 - accuracy: 0.3433\n",
      "Epoch 7/25\n",
      "10/10 [==============================] - 0s 9ms/step - loss: 1.0976 - accuracy: 0.3467\n",
      "Epoch 8/25\n",
      "10/10 [==============================] - 0s 9ms/step - loss: 1.0970 - accuracy: 0.3500\n",
      "Epoch 9/25\n",
      "10/10 [==============================] - 0s 9ms/step - loss: 1.0967 - accuracy: 0.3500\n",
      "Epoch 10/25\n",
      "10/10 [==============================] - 0s 9ms/step - loss: 1.0959 - accuracy: 0.3500\n",
      "Epoch 11/25\n",
      "10/10 [==============================] - 0s 10ms/step - loss: 1.0940 - accuracy: 0.3433\n",
      "Epoch 12/25\n",
      "10/10 [==============================] - 0s 9ms/step - loss: 1.0795 - accuracy: 0.4333\n",
      "Epoch 13/25\n",
      "10/10 [==============================] - 0s 9ms/step - loss: 0.8087 - accuracy: 0.7433\n",
      "Epoch 14/25\n",
      "10/10 [==============================] - 0s 9ms/step - loss: 0.2462 - accuracy: 0.9100\n",
      "Epoch 15/25\n",
      "10/10 [==============================] - 0s 9ms/step - loss: 0.0534 - accuracy: 0.9933\n",
      "Epoch 16/25\n",
      "10/10 [==============================] - 0s 9ms/step - loss: 0.0633 - accuracy: 0.9933\n",
      "Epoch 17/25\n",
      "10/10 [==============================] - 0s 9ms/step - loss: 0.0032 - accuracy: 1.0000\n",
      "Epoch 18/25\n",
      "10/10 [==============================] - 0s 9ms/step - loss: 7.5827e-04 - accuracy: 1.0000\n",
      "Epoch 19/25\n",
      "10/10 [==============================] - 0s 9ms/step - loss: 7.2996e-04 - accuracy: 1.0000\n",
      "Epoch 20/25\n",
      "10/10 [==============================] - 0s 9ms/step - loss: 3.3440e-04 - accuracy: 1.0000\n",
      "Epoch 21/25\n",
      "10/10 [==============================] - 0s 9ms/step - loss: 2.0921e-04 - accuracy: 1.0000\n",
      "Epoch 22/25\n",
      "10/10 [==============================] - 0s 9ms/step - loss: 1.6247e-04 - accuracy: 1.0000\n",
      "Epoch 23/25\n",
      "10/10 [==============================] - 0s 9ms/step - loss: 1.3719e-04 - accuracy: 1.0000\n",
      "Epoch 24/25\n",
      "10/10 [==============================] - 0s 9ms/step - loss: 1.2893e-04 - accuracy: 1.0000\n",
      "Epoch 25/25\n",
      "10/10 [==============================] - 0s 9ms/step - loss: 1.2170e-04 - accuracy: 1.0000\n"
     ]
    },
    {
     "data": {
      "text/plain": [
       "<keras.callbacks.History at 0x7f539067da30>"
      ]
     },
     "execution_count": 144,
     "metadata": {},
     "output_type": "execute_result"
    }
   ],
   "source": [
    "model.compile(optimizer='adam',\n",
    "             loss='sparse_categorical_crossentropy',\n",
    "             metrics=['accuracy'])\n",
    "\n",
    "model.fit(x_train_norm, y_train, epochs=25)"
   ]
  },
  {
   "cell_type": "code",
   "execution_count": 145,
   "id": "5e0e878d",
   "metadata": {},
   "outputs": [
    {
     "name": "stdout",
     "output_type": "stream",
     "text": [
      "100  images to be resized.\n",
      "100  images resized.\n",
      "100  images to be resized.\n",
      "100  images resized.\n",
      "100  images to be resized.\n",
      "100  images resized.\n",
      "학습데이터(x_train)의 이미지 개수는 300 입니다.\n",
      "x_train shape: (300, 96, 96, 3)\n",
      "y_train shape: (300,)\n"
     ]
    }
   ],
   "source": [
    "from PIL import Image\n",
    "import glob\n",
    "\n",
    "def resize_images(img_path):\n",
    "\timages=glob.glob(img_path + \"/*.jpg\")  \n",
    "    \n",
    "\tprint(len(images), \" images to be resized.\")\n",
    "\n",
    "    # 파일마다 모두 64x64 사이즈로 바꾸어 저장합니다.\n",
    "\ttarget_size=(96,96)\n",
    "\tfor img in images:\n",
    "\t\told_img=Image.open(img)\n",
    "\t\tnew_img=old_img.resize(target_size,Image.ANTIALIAS)\n",
    "\t\tnew_img.save(img, \"JPEG\")\n",
    "    \n",
    "\tprint(len(images), \" images resized.\")\n",
    "\t\n",
    "image_dir_path = os.getenv(\"HOME\") + \"/aiffel/rock_scissor_paper/test/scissor\"\n",
    "resize_images(image_dir_path)\n",
    "\n",
    "image_dir_path = os.getenv(\"HOME\") + \"/aiffel/rock_scissor_paper/test/rock\"\n",
    "resize_images(image_dir_path)\n",
    "\n",
    "image_dir_path = os.getenv(\"HOME\") + \"/aiffel/rock_scissor_paper/test/paper\"\n",
    "resize_images(image_dir_path)\n",
    "\n",
    "\n",
    "import numpy as np\n",
    "\n",
    "def load_data(img_path, number_of_data=300):  # 가위바위보 이미지 개수 총합에 주의하세요.\n",
    "    # 가위 : 0, 바위 : 1, 보 : 2\n",
    "    img_size=96\n",
    "    color=3\n",
    "    #이미지 데이터와 라벨(가위 : 0, 바위 : 1, 보 : 2) 데이터를 담을 행렬(matrix) 영역을 생성합니다.\n",
    "    imgs=np.zeros(number_of_data*img_size*img_size*color,dtype=np.int32).reshape(number_of_data,img_size,img_size,color)\n",
    "    labels=np.zeros(number_of_data,dtype=np.int32)\n",
    "\n",
    "    idx=0\n",
    "    for file in glob.iglob(img_path+'/test/scissor/*.jpg'):\n",
    "        img = np.array(Image.open(file),dtype=np.int32)\n",
    "        imgs[idx,:,:,:]=img    # 데이터 영역에 이미지 행렬을 복사\n",
    "        labels[idx]=0   # 가위 : 0\n",
    "        idx=idx+1\n",
    "\n",
    "    for file in glob.iglob(img_path+'/test/rock/*.jpg'):\n",
    "        img = np.array(Image.open(file),dtype=np.int32)\n",
    "        imgs[idx,:,:,:]=img    # 데이터 영역에 이미지 행렬을 복사\n",
    "        labels[idx]=1   # 바위 : 1\n",
    "        idx=idx+1  \n",
    "    \n",
    "    for file in glob.iglob(img_path+'/test/paper/*.jpg'):\n",
    "        img = np.array(Image.open(file),dtype=np.int32)\n",
    "        imgs[idx,:,:,:]=img    # 데이터 영역에 이미지 행렬을 복사\n",
    "        labels[idx]=2   # 보 : 2\n",
    "        idx=idx+1\n",
    "        \n",
    "    print(\"학습데이터(x_train)의 이미지 개수는\", idx,\"입니다.\")\n",
    "    return imgs, labels\n",
    "\n",
    "image_dir_path = os.getenv(\"HOME\") + \"/aiffel/rock_scissor_paper\"\n",
    "(x_test, y_test)=load_data(image_dir_path)\n",
    "x_test_reshaped = (x_test-10)/206.0   # 입력은 0~1 사이의 값으로 정규화\n",
    "\n",
    "print(\"x_train shape: {}\".format(x_test_reshaped.shape))\n",
    "print(\"y_train shape: {}\".format(y_test.shape))"
   ]
  },
  {
   "cell_type": "code",
   "execution_count": 146,
   "id": "806c001a",
   "metadata": {},
   "outputs": [
    {
     "name": "stdout",
     "output_type": "stream",
     "text": [
      "10/10 - 0s - loss: 1.0951 - accuracy: 0.3333\n",
      "test_loss: 1.0950698852539062 \n",
      "test_accuracy: 0.3333333432674408\n"
     ]
    }
   ],
   "source": [
    "test_loss, test_accuracy = model.evaluate(x_test_reshaped,y_test, verbose=2)\n",
    "print(\"test_loss: {} \".format(test_loss))\n",
    "print(\"test_accuracy: {}\".format(test_accuracy))"
   ]
  },
  {
   "cell_type": "markdown",
   "id": "1e58b534",
   "metadata": {},
   "source": [
    "이미지 출력 시 육안으로는 이전에 출력된 이미지에 비해 선명하다 느껴졌으나 모델에게는 더 혼란을 가져온 듯하다.\n",
    "(모델의 입장에선 해상도가 개선된 것이 아닌 크기만 커진 격이라 구분을 더 못하는 것 같다. 그리고 학습 데이터로 학습 시 accuracy가 1이 나오는 것으로 보아 그렇게 좋은 방식은 아닌 것으로 판단됨.)\n",
    "만약 해상도 부분이 같이 개선된다면 좋은 결과를 볼 수 있지 않을까 생각한다. "
   ]
  },
  {
   "cell_type": "markdown",
   "id": "801f04c2",
   "metadata": {},
   "source": [
    "### 2) 사이킷런의 RandomizedSearchCV클래스를 사용한 하이퍼파라미터 튜닝"
   ]
  },
  {
   "cell_type": "code",
   "execution_count": 19,
   "id": "f9722ab3",
   "metadata": {},
   "outputs": [
    {
     "name": "stdout",
     "output_type": "stream",
     "text": [
      "300  images to be resized.\n",
      "300  images to be resized.\n",
      "300  images to be resized.\n"
     ]
    }
   ],
   "source": [
    "# (1) 필요한 모듈 import하기\n",
    "from PIL import Image \n",
    "import glob\n",
    "\n",
    "import tensorflow as tf\n",
    "from tensorflow import keras\n",
    "\n",
    "import numpy as np\n",
    "import matplotlib.pyplot as plt\n",
    "import os\n",
    "\n",
    "\n",
    "# (2) 데이터 준비 + Resize하기\n",
    "def resize_images(img_path):\n",
    "\timages=glob.glob(img_path + \"/*.jpg\")  \n",
    "    \n",
    "\tprint(len(images), \" images to be resized.\")\n",
    "\n",
    "    # 파일마다 모두 28x28 사이즈로 바꾸어 저장\n",
    "\ttarget_size=(28,28)\n",
    "\tfor img in images:\n",
    "\t\told_img=Image.open(img)\n",
    "\t\tnew_img=old_img.resize(target_size,Image.ANTIALIAS)\n",
    "\t\tnew_img.save(img, \"JPEG\")\n",
    "\n",
    "# 가위바위보 이미지가 저장된 디렉토리 아래의 모든 jpg 파일을 읽어들여서\n",
    "image_dir_path = os.getenv(\"HOME\") + \"/aiffel/rock_scissor_paper/scissor_1\"\n",
    "resize_images(image_dir_path)\n",
    "\n",
    "image_dir_path = os.getenv(\"HOME\") + \"/aiffel/rock_scissor_paper/rock_1\"\n",
    "resize_images(image_dir_path)\n",
    "\n",
    "image_dir_path = os.getenv(\"HOME\") + \"/aiffel/rock_scissor_paper/paper_1\"\n",
    "resize_images(image_dir_path)"
   ]
  },
  {
   "cell_type": "code",
   "execution_count": 20,
   "id": "a2aa5c2c",
   "metadata": {},
   "outputs": [
    {
     "name": "stdout",
     "output_type": "stream",
     "text": [
      "학습데이터(x_train)의 이미지 개수는 900 입니다.\n"
     ]
    }
   ],
   "source": [
    "import numpy as np\n",
    "\n",
    "def load_data(img_path, number_of_data=900):  # 가위바위보 이미지 개수 총합에 주의\n",
    "    # 가위 : 0, 바위 : 1, 보 : 2\n",
    "    img_size=28\n",
    "    color=3\n",
    "    #이미지 데이터와 라벨(가위 : 0, 바위 : 1, 보 : 2) 데이터를 담을 행렬(matrix) 영역 생성\n",
    "    imgs=np.zeros(number_of_data*img_size*img_size*color,dtype=np.int32).reshape(number_of_data,img_size,img_size,color)\n",
    "    labels=np.zeros(number_of_data,dtype=np.int32)\n",
    "\n",
    "    idx=0\n",
    "    for file in glob.iglob(img_path+'/scissor_1/*.jpg'):\n",
    "        img = np.array(Image.open(file),dtype=np.int32)\n",
    "        imgs[idx,:,:,:]=img    # 데이터 영역에 이미지 행렬을 복사\n",
    "        labels[idx]=0   # 가위 : 0\n",
    "        idx=idx+1\n",
    "\n",
    "    for file in glob.iglob(img_path+'/rock_1/*.jpg'):\n",
    "        img = np.array(Image.open(file),dtype=np.int32)\n",
    "        imgs[idx,:,:,:]=img    # 데이터 영역에 이미지 행렬을 복사\n",
    "        labels[idx]=1   # 바위 : 1\n",
    "        idx=idx+1  \n",
    "    \n",
    "    for file in glob.iglob(img_path+'/paper_1/*.jpg'):\n",
    "        img = np.array(Image.open(file),dtype=np.int32)\n",
    "        imgs[idx,:,:,:]=img    # 데이터 영역에 이미지 행렬을 복사\n",
    "        labels[idx]=2   # 보 : 2\n",
    "        idx=idx+1\n",
    "        \n",
    "    print(\"학습데이터(x_train)의 이미지 개수는\", idx,\"입니다.\")\n",
    "    return imgs, labels\n",
    "\n",
    "image_dir_path = os.getenv(\"HOME\") + \"/aiffel/rock_scissor_paper\"\n",
    "(x_train, y_train)=load_data(image_dir_path)\n",
    "x_train_norm = x_train/255.0   # 입력은 0~1 사이의 값으로 정규화"
   ]
  },
  {
   "cell_type": "code",
   "execution_count": 21,
   "id": "9c19a6e5",
   "metadata": {},
   "outputs": [
    {
     "name": "stdout",
     "output_type": "stream",
     "text": [
      "Model: \"sequential_3\"\n",
      "_________________________________________________________________\n",
      "Layer (type)                 Output Shape              Param #   \n",
      "=================================================================\n",
      "conv2d_6 (Conv2D)            (None, 26, 26, 65)        1820      \n",
      "_________________________________________________________________\n",
      "max_pooling2d_6 (MaxPooling2 (None, 13, 13, 65)        0         \n",
      "_________________________________________________________________\n",
      "conv2d_7 (Conv2D)            (None, 11, 11, 40)        23440     \n",
      "_________________________________________________________________\n",
      "max_pooling2d_7 (MaxPooling2 (None, 5, 5, 40)          0         \n",
      "_________________________________________________________________\n",
      "flatten_3 (Flatten)          (None, 1000)              0         \n",
      "_________________________________________________________________\n",
      "dense_6 (Dense)              (None, 100)               100100    \n",
      "_________________________________________________________________\n",
      "dense_7 (Dense)              (None, 3)                 303       \n",
      "=================================================================\n",
      "Total params: 125,663\n",
      "Trainable params: 125,663\n",
      "Non-trainable params: 0\n",
      "_________________________________________________________________\n"
     ]
    }
   ],
   "source": [
    "import tensorflow as tf\n",
    "from tensorflow import keras\n",
    "import numpy as np\n",
    "\n",
    "model=keras.models.Sequential()\n",
    "model.add(keras.layers.Conv2D(65, (3,3), activation='relu', input_shape=(28,28,3)))\n",
    "model.add(keras.layers.MaxPool2D(2,2))\n",
    "model.add(keras.layers.Conv2D(40, (3,3), activation='relu'))\n",
    "model.add(keras.layers.MaxPooling2D((2,2)))\n",
    "model.add(keras.layers.Flatten())\n",
    "model.add(keras.layers.Dense(100, activation='relu'))\n",
    "model.add(keras.layers.Dense(3, activation='softmax'))\n",
    "\n",
    "model.summary()"
   ]
  },
  {
   "cell_type": "code",
   "execution_count": 26,
   "id": "6123c650",
   "metadata": {},
   "outputs": [
    {
     "ename": "AttributeError",
     "evalue": "'RandomizedSearchCV' object has no attribute 'best_params_'",
     "output_type": "error",
     "traceback": [
      "\u001b[0;31m---------------------------------------------------------------------------\u001b[0m",
      "\u001b[0;31mAttributeError\u001b[0m                            Traceback (most recent call last)",
      "\u001b[0;32m/tmp/ipykernel_16/1261500290.py\u001b[0m in \u001b[0;36m<module>\u001b[0;34m\u001b[0m\n\u001b[1;32m      9\u001b[0m \u001b[0mgs\u001b[0m \u001b[0;34m=\u001b[0m \u001b[0mRandomizedSearchCV\u001b[0m\u001b[0;34m(\u001b[0m\u001b[0mmodel\u001b[0m\u001b[0;34m,\u001b[0m \u001b[0mparams\u001b[0m\u001b[0;34m,\u001b[0m \u001b[0mn_iter\u001b[0m \u001b[0;34m=\u001b[0m \u001b[0;36m500\u001b[0m\u001b[0;34m,\u001b[0m \u001b[0mn_jobs\u001b[0m \u001b[0;34m=\u001b[0m \u001b[0;34m-\u001b[0m\u001b[0;36m1\u001b[0m\u001b[0;34m)\u001b[0m\u001b[0;34m\u001b[0m\u001b[0;34m\u001b[0m\u001b[0m\n\u001b[1;32m     10\u001b[0m \u001b[0;34m\u001b[0m\u001b[0m\n\u001b[0;32m---> 11\u001b[0;31m \u001b[0mprint\u001b[0m\u001b[0;34m(\u001b[0m\u001b[0mgs\u001b[0m\u001b[0;34m.\u001b[0m\u001b[0mbest_params_\u001b[0m\u001b[0;34m)\u001b[0m\u001b[0;34m\u001b[0m\u001b[0;34m\u001b[0m\u001b[0m\n\u001b[0m",
      "\u001b[0;31mAttributeError\u001b[0m: 'RandomizedSearchCV' object has no attribute 'best_params_'"
     ]
    }
   ],
   "source": [
    "from scipy.stats import uniform, randint\n",
    "\n",
    "params = {'filter' : randint(0, 1000),\n",
    "         'units' : randint(0, 1000)\n",
    "         }\n",
    "\n",
    "from sklearn.model_selection import RandomizedSearchCV\n",
    "\n",
    "gs = RandomizedSearchCV(model, params, n_iter = 500, n_jobs = -1)\n",
    "\n",
    "print(gs.best_params_)"
   ]
  },
  {
   "cell_type": "markdown",
   "id": "a782e7cf",
   "metadata": {},
   "source": [
    "만들어진 모델에 적합한 하이퍼파라미터를 찾아 적용해보고 싶었으나 에러가 발생했다. 발생한 원인을 찾아보아도 알 수가 없었다. 이후 딥러닝에 대해 더 공부를 한 뒤에 다시 적용해 보아야 겠다. "
   ]
  },
  {
   "cell_type": "markdown",
   "id": "bda7ebf4",
   "metadata": {},
   "source": [
    "#### 5. 자기다짐\n",
    "accuracy를 높이기 위해 여러 가지 방법을 시도해 보았으나, 만족할만한 결과물이 나오지는 못했다. 다른 방법들(대량의 학습데이터 사용, 이미지의 해상도 높이기, 정확도와 epoch와의 관계성 그래프로 나타내보기, 가중치 규제, 드롭아웃 추가, 크로스엔트로피 손실함수 등)도 적용해보고 싶었으나 아직 그만한 실력이 되지 못한다는 것만 확인한 듯하다. 현 시점에서는 위에서 정리한 모호한 점들과 내가 알게된 점을 벨로그에 정리해 확실히 가져가야 할 것이다. 그리고 적용해보지 못한 다른 방법들에 대해서는 6개월간 아이펠에서 차근차근 단계를 밟아가며 다시 시도해보고자 한다. 끝!! :) "
   ]
  }
 ],
 "metadata": {
  "kernelspec": {
   "display_name": "Python 3 (ipykernel)",
   "language": "python",
   "name": "python3"
  },
  "language_info": {
   "codemirror_mode": {
    "name": "ipython",
    "version": 3
   },
   "file_extension": ".py",
   "mimetype": "text/x-python",
   "name": "python",
   "nbconvert_exporter": "python",
   "pygments_lexer": "ipython3",
   "version": "3.9.7"
  }
 },
 "nbformat": 4,
 "nbformat_minor": 5
}
