{
 "cells": [
  {
   "cell_type": "markdown",
   "id": "6f7241af",
   "metadata": {},
   "source": [
    "## Exploration 14. MovieRecommendation 🎥🍿"
   ]
  },
  {
   "cell_type": "markdown",
   "id": "c080e939",
   "metadata": {},
   "source": [
    "<img src='https://editor.analyticsvidhya.com/uploads/76889recommender-system-for-movie-recommendation.jpg' height='750' width='750'>"
   ]
  },
  {
   "cell_type": "markdown",
   "id": "7c3adc9f",
   "metadata": {},
   "source": [
    "### Table of Contents"
   ]
  },
  {
   "cell_type": "markdown",
   "id": "1dabde21",
   "metadata": {},
   "source": [
    "### 1. Introduction"
   ]
  },
  {
   "cell_type": "markdown",
   "id": "0ceaceee",
   "metadata": {},
   "source": [
    "* 1.1 What is Recommender Systems?\n",
    "* 1.2 Types of Recommender Systems\n",
    "* 1.3 What is Matrix Factorization(MF)?\n",
    "* 1.4 What is CSR(Compressed Sparse Row) Matrix?"
   ]
  },
  {
   "cell_type": "markdown",
   "id": "1e63cdb7",
   "metadata": {},
   "source": [
    "### 2. Experiment Environment Set-up"
   ]
  },
  {
   "cell_type": "markdown",
   "id": "325073fd",
   "metadata": {},
   "source": [
    "* 2.1 Import Libraries"
   ]
  },
  {
   "cell_type": "markdown",
   "id": "e6d1ec90",
   "metadata": {},
   "source": [
    "### 3. Load and Preprocessing Data"
   ]
  },
  {
   "cell_type": "markdown",
   "id": "20a21225",
   "metadata": {},
   "source": [
    "* 3.1 Load Data (Movielens)\n",
    "* 3.2 Preprocessing Data (Movielens)\n",
    "* 3.3 Load Data (Meta)\n",
    "* 3.4 Preprocessing Data (Meta)\n",
    "* 3.5 Data Merge (Movielens+Meta)"
   ]
  },
  {
   "cell_type": "markdown",
   "id": "02902052",
   "metadata": {},
   "source": [
    "### 4. Merge Data Analysis"
   ]
  },
  {
   "cell_type": "markdown",
   "id": "e2ae472a",
   "metadata": {},
   "source": [
    "* 4.1 Year of the Most Recently Released Movie\n",
    "* 4.2 Unique Number of Movies\n",
    "* 4.3 Users\n",
    "* 4.4 Most Popular Movies"
   ]
  },
  {
   "cell_type": "markdown",
   "id": "5fc13978",
   "metadata": {},
   "source": [
    "### 5. Add My Favorite Movies"
   ]
  },
  {
   "cell_type": "markdown",
   "id": "1d1235ea",
   "metadata": {},
   "source": [
    "* 5.1 My Favorite 5 Movies\n",
    "* 5.2 Delete Unnecessary Columns\n",
    "* 5.3 Data Append Preprocessing\n",
    "* 5.4 Add My Movies"
   ]
  },
  {
   "cell_type": "markdown",
   "id": "5493473e",
   "metadata": {},
   "source": [
    "### 6. Create CSR matrix"
   ]
  },
  {
   "cell_type": "markdown",
   "id": "1e771a48",
   "metadata": {},
   "source": [
    "### 7. Model(als_model = AlternatingLeastSquares) Training"
   ]
  },
  {
   "cell_type": "markdown",
   "id": "a251901f",
   "metadata": {},
   "source": [
    "### 8. Preference Predicted by the Trained Model"
   ]
  },
  {
   "cell_type": "markdown",
   "id": "d6a551a3",
   "metadata": {},
   "source": [
    "* 8.1 My Favorite Movie\n",
    "* 8.2 Not My Favorite Movie"
   ]
  },
  {
   "cell_type": "markdown",
   "id": "7823d5f5",
   "metadata": {},
   "source": [
    "### 9. Get Recommendations (Similar to My Favorite Movies)"
   ]
  },
  {
   "cell_type": "markdown",
   "id": "01f3d2a8",
   "metadata": {},
   "source": [
    "### 10. Get Recommendations (Favorite Movies)"
   ]
  },
  {
   "cell_type": "markdown",
   "id": "00ebe043",
   "metadata": {},
   "source": [
    "### 11. Retrospection"
   ]
  },
  {
   "cell_type": "markdown",
   "id": "e28f7879",
   "metadata": {},
   "source": [
    "***"
   ]
  },
  {
   "cell_type": "markdown",
   "id": "629e8f22",
   "metadata": {},
   "source": [
    "### 1. Introduction "
   ]
  },
  {
   "cell_type": "markdown",
   "id": "e9f677fd",
   "metadata": {},
   "source": [
    "### 1.1 What is Recommender Systems?"
   ]
  },
  {
   "cell_type": "markdown",
   "id": "9348929c",
   "metadata": {},
   "source": [
    "인터넷의 발전으로 유저의 아이템 선호에 대한 직간접적 피드백을 얻기 쉬워졌다. 이러한 과거의 유저-아이템 간 상호작용 기록을 활용해 유저의 취향을 고려한 아이템을 추천하는 것이 추천시스템의 기본적 아이디어이다.\n",
    "\n",
    "추천 알고리즘은 유저-아이템 간 상호작용 기록을 기반으로 개발되었는데, 아래 알고리즘이 그 예에 해당한다.\n",
    "* Collaborative Filtering: 협업필터링\n",
    "* Content-based Recommender Systems: 컨텐츠 기반 추천시스템\n",
    "* Knowldege-based systems: 지식 기반 추천시스템"
   ]
  },
  {
   "cell_type": "markdown",
   "id": "9d243198",
   "metadata": {},
   "source": [
    "<img src = 'https://wikidocs.net/images/page/48798/overview_rs.png' height='600' width='600'>"
   ]
  },
  {
   "cell_type": "markdown",
   "id": "70cd2eba",
   "metadata": {},
   "source": [
    "### 1.2 Types of Recommender Systems"
   ]
  },
  {
   "cell_type": "markdown",
   "id": "136be081",
   "metadata": {},
   "source": [
    "### 1.2.1 Collaborative Filtering Systems (협업 필터링 추천 시스템)"
   ]
  },
  {
   "cell_type": "markdown",
   "id": "19c3f173",
   "metadata": {},
   "source": [
    "두 명의 사용자가 비슷한 관심사를 가지고 있다면, **한 사용자의 데이터를 바탕으로 다른 사용자에게 추천**해주는 방식. 사용자 간의 선호도를 서로 고려하여 많은 선택 사항들로부터 아이템을 걸러내거나 선택한다. "
   ]
  },
  {
   "cell_type": "markdown",
   "id": "5ddc4455",
   "metadata": {},
   "source": [
    "### 1.2.2 Content-based Recommender Systems (콘텐츠 기반 추천 시스템)"
   ]
  },
  {
   "cell_type": "markdown",
   "id": "65fbac6a",
   "metadata": {},
   "source": [
    "아이템들과 사용자들 간의 **유사도**를 고려해서 사용자에게 아이템을 추천. **사용자가 과거에 좋아했던 아이템들과 비슷한 제품들을 추천.** 아이템간의 유사도는 다른 짝지어진 아이템들과 관련된 특징들을 통하여 계산되고 사용자들의 선호 이력에 맞게 적용한다.\n",
    "\n",
    "ex) 사용자가 떡볶이를 시켜 먹었다고 가정, 시스템에서 떡볶이와 관련된 특징(분식, 매운 음식)을 토대로 관련된 특징을 가진 다른 음식을 추천하도록 학습"
   ]
  },
  {
   "cell_type": "markdown",
   "id": "b2797d0a",
   "metadata": {},
   "source": [
    "### 1.2.3 Knowldege-based Systems (지식 기반 추천 시스템)"
   ]
  },
  {
   "cell_type": "markdown",
   "id": "030f1b08",
   "metadata": {},
   "source": [
    "사용자들의 구매 이력이 적은 경우에 사용. 아이템을 추천하기 전에 아이템의 특징과 명시적인 **질문을 통해 획득한 사용자 선호도와 추천 범위 등** 아이템들에 대한 정보를 고려하여 추천한다.\n",
    "\n",
    "ex) 배달 음식 어플을 처음 사용하면 좋아하는 음식의 종류(한식, 분식 ...), 가격대, 맛(매운, 단짠단짠 ...) 와 같은 다양한 데이터를 받아서 추천"
   ]
  },
  {
   "cell_type": "markdown",
   "id": "4b8970a5",
   "metadata": {},
   "source": [
    "### 1.2.4 Hybrid Systems (하이브리드 시스템)"
   ]
  },
  {
   "cell_type": "markdown",
   "id": "3d804e42",
   "metadata": {},
   "source": [
    "위에서 언급한 다양한 추천 시스템의 **결합**해서 만든다. 한 서비스의 단점을 다른 서비스의 **장점으로 커버**\n",
    "\n",
    "ex) 새로운 아이템에 대한 평점이 없으면 추천 성능이 떨어지게 되는 협업 필터링과 아이템의 특징에 대한 정보를 이용할 수 있는 정보 기반 추천 시스템 결합"
   ]
  },
  {
   "cell_type": "markdown",
   "id": "c6bdfd83",
   "metadata": {},
   "source": [
    "### 1.3 What is Matrix Factorization(MF)?"
   ]
  },
  {
   "cell_type": "markdown",
   "id": "d5bd64c2",
   "metadata": {},
   "source": [
    "**Matrix Factorization(MF, 행렬 분해)**"
   ]
  },
  {
   "cell_type": "markdown",
   "id": "227e5f26",
   "metadata": {},
   "source": [
    "* `MF` 모델은 2006년 Netflix에서 백만 달러의 상금을 걸고 개최한 자사 추천 시스템의 성능을 10% 이상 향상시키는 챌린지를 계기로 알려지게 되었다. \n",
    "* (m,n) 사이즈의 행렬 R을 (m,k) 사이즈의 행렬 P와 (k,n) 사이즈의 행렬 Q로 분해한다면,\n",
    "* R이란 그저 P와 Q의 행렬곱으로 표현 가능할 수 있다는 아이디어이다. \n",
    "* 대체로 k는 m이나 n보다 훨씬 작은 값이기 때문에 계산량 측면으로도 훨씬 유리해진다. \n",
    "* 단순한 아이디어에도 불구하고 `MF` 모델은 성능이 준수하고 Scalability가 좋아서 많이 사용되는 모델이다. "
   ]
  },
  {
   "cell_type": "markdown",
   "id": "0a3ea36e",
   "metadata": {},
   "source": [
    "<img src = 'https://d3s0tskafalll9.cloudfront.net/media/images/E-3v2-2_ekCv9hW.max-800x600.png' height='600' width='600'>"
   ]
  },
  {
   "cell_type": "markdown",
   "id": "bcfa4540",
   "metadata": {},
   "source": [
    "* 모델의 목표는 모든 유저와 아이템에 대해 k-dimension의 벡터를 잘 만드는 것이다.\n",
    "* 벡터를 잘 만드는 기준은 **유저 i의 벡터($U_i$)와 아이템 j의 벡터($I_j$)를 내적했을 때 유저 i가 아이템 j에 대해 평가한 수치$(M_{ij}$)와 비슷한지**이다.\n",
    "\n",
    "$$\n",
    "U_i⋅I_j=M_{ij}\n",
    "$$"
   ]
  },
  {
   "cell_type": "markdown",
   "id": "698ccf0b",
   "metadata": {},
   "source": [
    "### 1.4 What is CSR(Compressed Sparse Row) Matrix?"
   ]
  },
  {
   "cell_type": "markdown",
   "id": "7e749c46",
   "metadata": {},
   "source": [
    "**CSR(Compressed Sparse Row) Matrix**"
   ]
  },
  {
   "cell_type": "markdown",
   "id": "9a7463bd",
   "metadata": {},
   "source": [
    "* `CSR Matrix`는 Sparse한 matrix에서 0이 아닌 유효한 데이터로 채워지는 데이터의 값과 좌표 정보만으로 구성하여 메모리 사용량을 최소화하면서도 Sparse한 matrix와 동일한 행렬을 표현할 수 있도록 하는 데이터 구조이다.\n",
    "* `CSR Matrix`는 data, indices, indptr 로 행렬을 압축하여 표현한다."
   ]
  },
  {
   "cell_type": "markdown",
   "id": "63c328d7",
   "metadata": {},
   "source": [
    "<img src = 'https://d3s0tskafalll9.cloudfront.net/media/images/Screen_Shot_2022-02-10_at_4.29.43_PM.max-800x600.png' height='600' width='600'>"
   ]
  },
  {
   "cell_type": "markdown",
   "id": "1115e54c",
   "metadata": {},
   "source": [
    "* **data**는 0이 아닌 원소를 차례로 기입한 값\n",
    "> data = [1, 2, 3, 4, 5, 6]\n",
    "* **indices**는 data의 각 요소가 어느 열(column)에 있는지를 표현한 index\n",
    "> indices = [0, 4, 1, 3, 0, 3]\n",
    "* **indptr**은 각 행(row)에서 0이 아닌 첫 번째 원소가 data 리스트에서 의 몇 번째에 해당하는지와 마지막에 data 벡터의 길이를 추가한 값. 다만 예시의 세 번째 행처럼 0이 아닌 원소가 없는 경우엔 그 다음 행의 값과 같은 값을 넣었다.\n",
    "> indptr = [0, 2, 4, 4, 6]\n",
    "* 이를 통해 data[0:2]는 첫 번째 행, data[2:4]는 두 번째 행, data[4:4]는 세 번째 행, data[4:6]는 네 번째 행에 위치함을 나타낼 수 있게 된다."
   ]
  },
  {
   "cell_type": "markdown",
   "id": "50d7c4cc",
   "metadata": {},
   "source": [
    "### 2. Experiment Environment Set-up"
   ]
  },
  {
   "cell_type": "markdown",
   "id": "546f9baf",
   "metadata": {},
   "source": [
    "### 2.1 Import Libraries"
   ]
  },
  {
   "cell_type": "code",
   "execution_count": 1,
   "id": "b90d132b",
   "metadata": {},
   "outputs": [],
   "source": [
    "import os\n",
    "import numpy as np\n",
    "import pandas as pd\n",
    "import seaborn as sns\n",
    "import matplotlib.pyplot as plt\n",
    "\n",
    "from scipy.sparse import csr_matrix\n",
    "from implicit.als import AlternatingLeastSquares"
   ]
  },
  {
   "cell_type": "markdown",
   "id": "403533f5",
   "metadata": {},
   "source": [
    "### 3. Load and Preprocessing Data"
   ]
  },
  {
   "cell_type": "markdown",
   "id": "8370549b",
   "metadata": {},
   "source": [
    "* 별점 데이터는 대표적인 explicit 데이터이다. 하지만 implicit 데이터로 간주하고 테스트해본다.\n",
    "* 별점을 시청횟수로 해석해서 생각한다.\n",
    "* 또한 유저가 3점 미만으로 준 데이터는 선호하지 않는다고 가정하고 제외한다."
   ]
  },
  {
   "cell_type": "markdown",
   "id": "2627ee21",
   "metadata": {},
   "source": [
    "### 3.1 Load Data (Movielens)"
   ]
  },
  {
   "cell_type": "code",
   "execution_count": 2,
   "id": "9c6bfa13",
   "metadata": {},
   "outputs": [
    {
     "data": {
      "text/html": [
       "<div>\n",
       "<style scoped>\n",
       "    .dataframe tbody tr th:only-of-type {\n",
       "        vertical-align: middle;\n",
       "    }\n",
       "\n",
       "    .dataframe tbody tr th {\n",
       "        vertical-align: top;\n",
       "    }\n",
       "\n",
       "    .dataframe thead th {\n",
       "        text-align: right;\n",
       "    }\n",
       "</style>\n",
       "<table border=\"1\" class=\"dataframe\">\n",
       "  <thead>\n",
       "    <tr style=\"text-align: right;\">\n",
       "      <th></th>\n",
       "      <th>user_id</th>\n",
       "      <th>movie_id</th>\n",
       "      <th>ratings</th>\n",
       "      <th>timestamp</th>\n",
       "    </tr>\n",
       "  </thead>\n",
       "  <tbody>\n",
       "    <tr>\n",
       "      <th>0</th>\n",
       "      <td>1</td>\n",
       "      <td>1193</td>\n",
       "      <td>5</td>\n",
       "      <td>978300760</td>\n",
       "    </tr>\n",
       "    <tr>\n",
       "      <th>1</th>\n",
       "      <td>1</td>\n",
       "      <td>661</td>\n",
       "      <td>3</td>\n",
       "      <td>978302109</td>\n",
       "    </tr>\n",
       "    <tr>\n",
       "      <th>2</th>\n",
       "      <td>1</td>\n",
       "      <td>914</td>\n",
       "      <td>3</td>\n",
       "      <td>978301968</td>\n",
       "    </tr>\n",
       "    <tr>\n",
       "      <th>3</th>\n",
       "      <td>1</td>\n",
       "      <td>3408</td>\n",
       "      <td>4</td>\n",
       "      <td>978300275</td>\n",
       "    </tr>\n",
       "    <tr>\n",
       "      <th>4</th>\n",
       "      <td>1</td>\n",
       "      <td>2355</td>\n",
       "      <td>5</td>\n",
       "      <td>978824291</td>\n",
       "    </tr>\n",
       "  </tbody>\n",
       "</table>\n",
       "</div>"
      ],
      "text/plain": [
       "   user_id  movie_id  ratings  timestamp\n",
       "0        1      1193        5  978300760\n",
       "1        1       661        3  978302109\n",
       "2        1       914        3  978301968\n",
       "3        1      3408        4  978300275\n",
       "4        1      2355        5  978824291"
      ]
     },
     "execution_count": 2,
     "metadata": {},
     "output_type": "execute_result"
    }
   ],
   "source": [
    "# Movielens 데이터는 rating.dat 안에 이미 인덱싱까지 완료된 사용자-영화-평점 데이터가 깔끔하게 정리되어 있다.\n",
    "rating_file_path=os.getenv('HOME') + '/aiffel/recommendata_iu/data/ml-1m/ratings.dat'\n",
    "ratings_cols = ['user_id', 'movie_id', 'ratings', 'timestamp']\n",
    "ratings = pd.read_csv(rating_file_path, sep='::', names=ratings_cols, engine='python', encoding = \"ISO-8859-1\")\n",
    "orginal_data_size = len(ratings)\n",
    "ratings.head()"
   ]
  },
  {
   "cell_type": "code",
   "execution_count": 3,
   "id": "f80d80d5",
   "metadata": {},
   "outputs": [],
   "source": [
    "# 1~5까지의 별점 분포 확인\n",
    "rating_count = ratings.groupby(by=['ratings']).agg({'user_id': 'count'}).reset_index()\n",
    "rating_count.columns = ['Rating', 'Count']"
   ]
  },
  {
   "cell_type": "code",
   "execution_count": 4,
   "id": "366bf281",
   "metadata": {},
   "outputs": [
    {
     "data": {
      "image/png": "[encoded data removed]",
      "text/plain": [
       "<Figure size 432x288 with 1 Axes>"
      ]
     },
     "metadata": {
      "needs_background": "light"
     },
     "output_type": "display_data"
    }
   ],
   "source": [
    "plt.bar(rating_count.Rating, rating_count.Count)\n",
    "plt.xlabel('Rating', fontsize=15)\n",
    "plt.ylabel('Count', fontsize=15)\n",
    "plt.grid(ls='dotted')\n",
    "plt.show()"
   ]
  },
  {
   "cell_type": "markdown",
   "id": "1490d851",
   "metadata": {},
   "source": [
    "* 대부분의 별점이 3 ~ 5점에 분포하고 있는 것을 확인할 수 있다."
   ]
  },
  {
   "cell_type": "markdown",
   "id": "aae355f0",
   "metadata": {},
   "source": [
    "### 3.2 Preprocessing Data (Movielens)"
   ]
  },
  {
   "cell_type": "markdown",
   "id": "f83318c7",
   "metadata": {},
   "source": [
    "### 3.2.1 Delete Rating"
   ]
  },
  {
   "cell_type": "code",
   "execution_count": 5,
   "id": "54e25eaa",
   "metadata": {},
   "outputs": [
    {
     "name": "stdout",
     "output_type": "stream",
     "text": [
      "orginal_data_size: 1000209, filtered_data_size: 836478\n",
      "Ratio of Remaining Data is 83.63%\n"
     ]
    }
   ],
   "source": [
    "# 3점 이상만 남긴다.\n",
    "ratings = ratings[ratings['ratings']>=3]\n",
    "filtered_data_size = len(ratings)\n",
    "\n",
    "print(f'orginal_data_size: {orginal_data_size}, filtered_data_size: {filtered_data_size}')\n",
    "print(f'Ratio of Remaining Data is {filtered_data_size / orginal_data_size:.2%}')"
   ]
  },
  {
   "cell_type": "markdown",
   "id": "6a939c12",
   "metadata": {},
   "source": [
    "### 3.2.2 Organize Columns"
   ]
  },
  {
   "cell_type": "code",
   "execution_count": 6,
   "id": "4d910daa",
   "metadata": {},
   "outputs": [],
   "source": [
    "# timestamp 컬럼을 없앤다.\n",
    "del ratings['timestamp']"
   ]
  },
  {
   "cell_type": "code",
   "execution_count": 7,
   "id": "5f9200c7",
   "metadata": {},
   "outputs": [],
   "source": [
    "# 별점을 시청횟수로 해석할 예정이므로\n",
    "# ratings 컬럼의 이름을 counts로 바꾼다.\n",
    "ratings.rename(columns={'ratings':'counts'}, inplace=True)"
   ]
  },
  {
   "cell_type": "code",
   "execution_count": 8,
   "id": "5e3ec8b6",
   "metadata": {},
   "outputs": [
    {
     "data": {
      "text/html": [
       "<div>\n",
       "<style scoped>\n",
       "    .dataframe tbody tr th:only-of-type {\n",
       "        vertical-align: middle;\n",
       "    }\n",
       "\n",
       "    .dataframe tbody tr th {\n",
       "        vertical-align: top;\n",
       "    }\n",
       "\n",
       "    .dataframe thead th {\n",
       "        text-align: right;\n",
       "    }\n",
       "</style>\n",
       "<table border=\"1\" class=\"dataframe\">\n",
       "  <thead>\n",
       "    <tr style=\"text-align: right;\">\n",
       "      <th></th>\n",
       "      <th>user_id</th>\n",
       "      <th>movie_id</th>\n",
       "      <th>counts</th>\n",
       "    </tr>\n",
       "  </thead>\n",
       "  <tbody>\n",
       "    <tr>\n",
       "      <th>0</th>\n",
       "      <td>1</td>\n",
       "      <td>1193</td>\n",
       "      <td>5</td>\n",
       "    </tr>\n",
       "    <tr>\n",
       "      <th>1</th>\n",
       "      <td>1</td>\n",
       "      <td>661</td>\n",
       "      <td>3</td>\n",
       "    </tr>\n",
       "    <tr>\n",
       "      <th>2</th>\n",
       "      <td>1</td>\n",
       "      <td>914</td>\n",
       "      <td>3</td>\n",
       "    </tr>\n",
       "    <tr>\n",
       "      <th>3</th>\n",
       "      <td>1</td>\n",
       "      <td>3408</td>\n",
       "      <td>4</td>\n",
       "    </tr>\n",
       "    <tr>\n",
       "      <th>4</th>\n",
       "      <td>1</td>\n",
       "      <td>2355</td>\n",
       "      <td>5</td>\n",
       "    </tr>\n",
       "  </tbody>\n",
       "</table>\n",
       "</div>"
      ],
      "text/plain": [
       "   user_id  movie_id  counts\n",
       "0        1      1193       5\n",
       "1        1       661       3\n",
       "2        1       914       3\n",
       "3        1      3408       4\n",
       "4        1      2355       5"
      ]
     },
     "execution_count": 8,
     "metadata": {},
     "output_type": "execute_result"
    }
   ],
   "source": [
    "# timestamp 컬럼 삭제 여부 확인\n",
    "# ratings 컬럼 이름 변경 여부 확인 (ratings → counts)\n",
    "ratings.head()"
   ]
  },
  {
   "cell_type": "code",
   "execution_count": 9,
   "id": "487580b2",
   "metadata": {},
   "outputs": [
    {
     "data": {
      "text/plain": [
       "0          5\n",
       "1          3\n",
       "2          3\n",
       "3          4\n",
       "4          5\n",
       "          ..\n",
       "1000203    3\n",
       "1000205    5\n",
       "1000206    5\n",
       "1000207    4\n",
       "1000208    4\n",
       "Name: counts, Length: 836478, dtype: int64"
      ]
     },
     "execution_count": 9,
     "metadata": {},
     "output_type": "execute_result"
    }
   ],
   "source": [
    "ratings['counts']"
   ]
  },
  {
   "cell_type": "code",
   "execution_count": 10,
   "id": "a754c845",
   "metadata": {},
   "outputs": [
    {
     "name": "stdout",
     "output_type": "stream",
     "text": [
      "<class 'pandas.core.frame.DataFrame'>\n",
      "Int64Index: 836478 entries, 0 to 1000208\n",
      "Data columns (total 3 columns):\n",
      " #   Column    Non-Null Count   Dtype\n",
      "---  ------    --------------   -----\n",
      " 0   user_id   836478 non-null  int64\n",
      " 1   movie_id  836478 non-null  int64\n",
      " 2   counts    836478 non-null  int64\n",
      "dtypes: int64(3)\n",
      "memory usage: 25.5 MB\n"
     ]
    }
   ],
   "source": [
    "ratings.info()"
   ]
  },
  {
   "cell_type": "markdown",
   "id": "49f34fc2",
   "metadata": {},
   "source": [
    "* 전처리를 완료한 데이터에 대한 정보를 확인한다.\n",
    "* 평점 1, 2점이 삭제되어 1,000,209개 였던 데이터수가 836,478개로 줄어들었다. 전체 컬럼에서 누락된 데이터는 확인되지 않는다.\n",
    "* timestamp 컬럼은 삭제되었으며, ratings 컬럼 이름이 counts로 변경되었다."
   ]
  },
  {
   "cell_type": "markdown",
   "id": "8662ea08",
   "metadata": {},
   "source": [
    "### 3.3 Load Data (Meta)"
   ]
  },
  {
   "cell_type": "code",
   "execution_count": 11,
   "id": "98878399",
   "metadata": {},
   "outputs": [
    {
     "data": {
      "text/html": [
       "<div>\n",
       "<style scoped>\n",
       "    .dataframe tbody tr th:only-of-type {\n",
       "        vertical-align: middle;\n",
       "    }\n",
       "\n",
       "    .dataframe tbody tr th {\n",
       "        vertical-align: top;\n",
       "    }\n",
       "\n",
       "    .dataframe thead th {\n",
       "        text-align: right;\n",
       "    }\n",
       "</style>\n",
       "<table border=\"1\" class=\"dataframe\">\n",
       "  <thead>\n",
       "    <tr style=\"text-align: right;\">\n",
       "      <th></th>\n",
       "      <th>movie_id</th>\n",
       "      <th>title</th>\n",
       "      <th>genre</th>\n",
       "    </tr>\n",
       "  </thead>\n",
       "  <tbody>\n",
       "    <tr>\n",
       "      <th>0</th>\n",
       "      <td>1</td>\n",
       "      <td>Toy Story (1995)</td>\n",
       "      <td>Animation|Children's|Comedy</td>\n",
       "    </tr>\n",
       "    <tr>\n",
       "      <th>1</th>\n",
       "      <td>2</td>\n",
       "      <td>Jumanji (1995)</td>\n",
       "      <td>Adventure|Children's|Fantasy</td>\n",
       "    </tr>\n",
       "    <tr>\n",
       "      <th>2</th>\n",
       "      <td>3</td>\n",
       "      <td>Grumpier Old Men (1995)</td>\n",
       "      <td>Comedy|Romance</td>\n",
       "    </tr>\n",
       "    <tr>\n",
       "      <th>3</th>\n",
       "      <td>4</td>\n",
       "      <td>Waiting to Exhale (1995)</td>\n",
       "      <td>Comedy|Drama</td>\n",
       "    </tr>\n",
       "    <tr>\n",
       "      <th>4</th>\n",
       "      <td>5</td>\n",
       "      <td>Father of the Bride Part II (1995)</td>\n",
       "      <td>Comedy</td>\n",
       "    </tr>\n",
       "  </tbody>\n",
       "</table>\n",
       "</div>"
      ],
      "text/plain": [
       "   movie_id                               title                         genre\n",
       "0         1                    Toy Story (1995)   Animation|Children's|Comedy\n",
       "1         2                      Jumanji (1995)  Adventure|Children's|Fantasy\n",
       "2         3             Grumpier Old Men (1995)                Comedy|Romance\n",
       "3         4            Waiting to Exhale (1995)                  Comedy|Drama\n",
       "4         5  Father of the Bride Part II (1995)                        Comedy"
      ]
     },
     "execution_count": 11,
     "metadata": {},
     "output_type": "execute_result"
    }
   ],
   "source": [
    "# 영화 제목을 보기 위해 메타 데이터를 읽어온다.\n",
    "movie_file_path=os.getenv('HOME') + '/aiffel/recommendata_iu/data/ml-1m/movies.dat'\n",
    "cols = ['movie_id', 'title', 'genre'] \n",
    "movies = pd.read_csv(movie_file_path, sep='::', names=cols, engine='python', encoding='ISO-8859-1')\n",
    "movies.head()"
   ]
  },
  {
   "cell_type": "markdown",
   "id": "83619f4a",
   "metadata": {},
   "source": [
    "### 3.4 Preprocessing Data (Meta)"
   ]
  },
  {
   "cell_type": "markdown",
   "id": "14ad6db2",
   "metadata": {},
   "source": [
    "### 3.4.1 Change to Lowercase"
   ]
  },
  {
   "cell_type": "code",
   "execution_count": 12,
   "id": "55aa8766",
   "metadata": {},
   "outputs": [
    {
     "data": {
      "text/html": [
       "<div>\n",
       "<style scoped>\n",
       "    .dataframe tbody tr th:only-of-type {\n",
       "        vertical-align: middle;\n",
       "    }\n",
       "\n",
       "    .dataframe tbody tr th {\n",
       "        vertical-align: top;\n",
       "    }\n",
       "\n",
       "    .dataframe thead th {\n",
       "        text-align: right;\n",
       "    }\n",
       "</style>\n",
       "<table border=\"1\" class=\"dataframe\">\n",
       "  <thead>\n",
       "    <tr style=\"text-align: right;\">\n",
       "      <th></th>\n",
       "      <th>movie_id</th>\n",
       "      <th>title</th>\n",
       "      <th>genre</th>\n",
       "    </tr>\n",
       "  </thead>\n",
       "  <tbody>\n",
       "    <tr>\n",
       "      <th>0</th>\n",
       "      <td>1</td>\n",
       "      <td>toy story (1995)</td>\n",
       "      <td>Animation|Children's|Comedy</td>\n",
       "    </tr>\n",
       "    <tr>\n",
       "      <th>1</th>\n",
       "      <td>2</td>\n",
       "      <td>jumanji (1995)</td>\n",
       "      <td>Adventure|Children's|Fantasy</td>\n",
       "    </tr>\n",
       "    <tr>\n",
       "      <th>2</th>\n",
       "      <td>3</td>\n",
       "      <td>grumpier old men (1995)</td>\n",
       "      <td>Comedy|Romance</td>\n",
       "    </tr>\n",
       "    <tr>\n",
       "      <th>3</th>\n",
       "      <td>4</td>\n",
       "      <td>waiting to exhale (1995)</td>\n",
       "      <td>Comedy|Drama</td>\n",
       "    </tr>\n",
       "    <tr>\n",
       "      <th>4</th>\n",
       "      <td>5</td>\n",
       "      <td>father of the bride part ii (1995)</td>\n",
       "      <td>Comedy</td>\n",
       "    </tr>\n",
       "  </tbody>\n",
       "</table>\n",
       "</div>"
      ],
      "text/plain": [
       "   movie_id                               title                         genre\n",
       "0         1                    toy story (1995)   Animation|Children's|Comedy\n",
       "1         2                      jumanji (1995)  Adventure|Children's|Fantasy\n",
       "2         3             grumpier old men (1995)                Comedy|Romance\n",
       "3         4            waiting to exhale (1995)                  Comedy|Drama\n",
       "4         5  father of the bride part ii (1995)                        Comedy"
      ]
     },
     "execution_count": 12,
     "metadata": {},
     "output_type": "execute_result"
    }
   ],
   "source": [
    "# 검색을 쉽게하기 위해 제목 문자열을 소문자로 바꿔준다.\n",
    "movies['title'] = movies['title'].str.lower()\n",
    "movies.head()"
   ]
  },
  {
   "cell_type": "markdown",
   "id": "9c7ce18f",
   "metadata": {},
   "source": [
    "### 3.4.2 Extract year Data"
   ]
  },
  {
   "cell_type": "code",
   "execution_count": 13,
   "id": "305f4784",
   "metadata": {},
   "outputs": [
    {
     "data": {
      "text/html": [
       "<div>\n",
       "<style scoped>\n",
       "    .dataframe tbody tr th:only-of-type {\n",
       "        vertical-align: middle;\n",
       "    }\n",
       "\n",
       "    .dataframe tbody tr th {\n",
       "        vertical-align: top;\n",
       "    }\n",
       "\n",
       "    .dataframe thead th {\n",
       "        text-align: right;\n",
       "    }\n",
       "</style>\n",
       "<table border=\"1\" class=\"dataframe\">\n",
       "  <thead>\n",
       "    <tr style=\"text-align: right;\">\n",
       "      <th></th>\n",
       "      <th>movie_id</th>\n",
       "      <th>title</th>\n",
       "      <th>genre</th>\n",
       "      <th>year</th>\n",
       "    </tr>\n",
       "  </thead>\n",
       "  <tbody>\n",
       "    <tr>\n",
       "      <th>0</th>\n",
       "      <td>1</td>\n",
       "      <td>toy story</td>\n",
       "      <td>Animation|Children's|Comedy</td>\n",
       "      <td>1995</td>\n",
       "    </tr>\n",
       "    <tr>\n",
       "      <th>1</th>\n",
       "      <td>2</td>\n",
       "      <td>jumanji</td>\n",
       "      <td>Adventure|Children's|Fantasy</td>\n",
       "      <td>1995</td>\n",
       "    </tr>\n",
       "    <tr>\n",
       "      <th>2</th>\n",
       "      <td>3</td>\n",
       "      <td>grumpier old men</td>\n",
       "      <td>Comedy|Romance</td>\n",
       "      <td>1995</td>\n",
       "    </tr>\n",
       "    <tr>\n",
       "      <th>3</th>\n",
       "      <td>4</td>\n",
       "      <td>waiting to exhale</td>\n",
       "      <td>Comedy|Drama</td>\n",
       "      <td>1995</td>\n",
       "    </tr>\n",
       "    <tr>\n",
       "      <th>4</th>\n",
       "      <td>5</td>\n",
       "      <td>father of the bride part ii</td>\n",
       "      <td>Comedy</td>\n",
       "      <td>1995</td>\n",
       "    </tr>\n",
       "  </tbody>\n",
       "</table>\n",
       "</div>"
      ],
      "text/plain": [
       "   movie_id                        title                         genre  year\n",
       "0         1                    toy story   Animation|Children's|Comedy  1995\n",
       "1         2                      jumanji  Adventure|Children's|Fantasy  1995\n",
       "2         3             grumpier old men                Comedy|Romance  1995\n",
       "3         4            waiting to exhale                  Comedy|Drama  1995\n",
       "4         5  father of the bride part ii                        Comedy  1995"
      ]
     },
     "execution_count": 13,
     "metadata": {},
     "output_type": "execute_result"
    }
   ],
   "source": [
    "# 분석의 편의를 위해 title에서 연도 데이터를 따로 추출한다.\n",
    "movies[['title', 'year']] = movies[\"title\"].str.replace(pat=r'[()]', repl=r'', regex=True).str.rsplit(n=1, expand=True)\n",
    "movies.head()"
   ]
  },
  {
   "cell_type": "code",
   "execution_count": 14,
   "id": "5cf1a9b3",
   "metadata": {},
   "outputs": [
    {
     "name": "stdout",
     "output_type": "stream",
     "text": [
      "<class 'pandas.core.frame.DataFrame'>\n",
      "RangeIndex: 3883 entries, 0 to 3882\n",
      "Data columns (total 4 columns):\n",
      " #   Column    Non-Null Count  Dtype \n",
      "---  ------    --------------  ----- \n",
      " 0   movie_id  3883 non-null   int64 \n",
      " 1   title     3883 non-null   object\n",
      " 2   genre     3883 non-null   object\n",
      " 3   year      3883 non-null   object\n",
      "dtypes: int64(1), object(3)\n",
      "memory usage: 121.5+ KB\n"
     ]
    }
   ],
   "source": [
    "movies.info()"
   ]
  },
  {
   "cell_type": "markdown",
   "id": "b08bf06e",
   "metadata": {},
   "source": [
    "* 지금까지의 전처리를 완료한 데이터에 대한 정보를 확인한다.\n",
    "* `year` 정보가 따로 분리되어 컬럼이 생성된 것을 확인할 수 있다.\n",
    "* 전체 컬럼에서 누락된 데이터는 확인되지 않는다."
   ]
  },
  {
   "cell_type": "markdown",
   "id": "69fa49a4",
   "metadata": {},
   "source": [
    "### 3.5 Data Merge (Movielens+Meta)"
   ]
  },
  {
   "cell_type": "code",
   "execution_count": 15,
   "id": "b608c077",
   "metadata": {},
   "outputs": [
    {
     "data": {
      "text/html": [
       "<div>\n",
       "<style scoped>\n",
       "    .dataframe tbody tr th:only-of-type {\n",
       "        vertical-align: middle;\n",
       "    }\n",
       "\n",
       "    .dataframe tbody tr th {\n",
       "        vertical-align: top;\n",
       "    }\n",
       "\n",
       "    .dataframe thead th {\n",
       "        text-align: right;\n",
       "    }\n",
       "</style>\n",
       "<table border=\"1\" class=\"dataframe\">\n",
       "  <thead>\n",
       "    <tr style=\"text-align: right;\">\n",
       "      <th></th>\n",
       "      <th>user_id</th>\n",
       "      <th>movie_id</th>\n",
       "      <th>counts</th>\n",
       "      <th>title</th>\n",
       "      <th>genre</th>\n",
       "      <th>year</th>\n",
       "    </tr>\n",
       "  </thead>\n",
       "  <tbody>\n",
       "    <tr>\n",
       "      <th>0</th>\n",
       "      <td>1</td>\n",
       "      <td>1193</td>\n",
       "      <td>5</td>\n",
       "      <td>one flew over the cuckoo's nest</td>\n",
       "      <td>Drama</td>\n",
       "      <td>1975</td>\n",
       "    </tr>\n",
       "    <tr>\n",
       "      <th>1</th>\n",
       "      <td>2</td>\n",
       "      <td>1193</td>\n",
       "      <td>5</td>\n",
       "      <td>one flew over the cuckoo's nest</td>\n",
       "      <td>Drama</td>\n",
       "      <td>1975</td>\n",
       "    </tr>\n",
       "    <tr>\n",
       "      <th>2</th>\n",
       "      <td>12</td>\n",
       "      <td>1193</td>\n",
       "      <td>4</td>\n",
       "      <td>one flew over the cuckoo's nest</td>\n",
       "      <td>Drama</td>\n",
       "      <td>1975</td>\n",
       "    </tr>\n",
       "    <tr>\n",
       "      <th>3</th>\n",
       "      <td>15</td>\n",
       "      <td>1193</td>\n",
       "      <td>4</td>\n",
       "      <td>one flew over the cuckoo's nest</td>\n",
       "      <td>Drama</td>\n",
       "      <td>1975</td>\n",
       "    </tr>\n",
       "    <tr>\n",
       "      <th>4</th>\n",
       "      <td>17</td>\n",
       "      <td>1193</td>\n",
       "      <td>5</td>\n",
       "      <td>one flew over the cuckoo's nest</td>\n",
       "      <td>Drama</td>\n",
       "      <td>1975</td>\n",
       "    </tr>\n",
       "    <tr>\n",
       "      <th>...</th>\n",
       "      <td>...</td>\n",
       "      <td>...</td>\n",
       "      <td>...</td>\n",
       "      <td>...</td>\n",
       "      <td>...</td>\n",
       "      <td>...</td>\n",
       "    </tr>\n",
       "    <tr>\n",
       "      <th>836473</th>\n",
       "      <td>5851</td>\n",
       "      <td>3607</td>\n",
       "      <td>5</td>\n",
       "      <td>one little indian</td>\n",
       "      <td>Comedy|Drama|Western</td>\n",
       "      <td>1973</td>\n",
       "    </tr>\n",
       "    <tr>\n",
       "      <th>836474</th>\n",
       "      <td>5854</td>\n",
       "      <td>3026</td>\n",
       "      <td>4</td>\n",
       "      <td>slaughterhouse</td>\n",
       "      <td>Horror</td>\n",
       "      <td>1987</td>\n",
       "    </tr>\n",
       "    <tr>\n",
       "      <th>836475</th>\n",
       "      <td>5854</td>\n",
       "      <td>690</td>\n",
       "      <td>3</td>\n",
       "      <td>promise, the versprechen, das</td>\n",
       "      <td>Romance</td>\n",
       "      <td>1994</td>\n",
       "    </tr>\n",
       "    <tr>\n",
       "      <th>836476</th>\n",
       "      <td>5938</td>\n",
       "      <td>2909</td>\n",
       "      <td>4</td>\n",
       "      <td>five wives, three secretaries and me</td>\n",
       "      <td>Documentary</td>\n",
       "      <td>1998</td>\n",
       "    </tr>\n",
       "    <tr>\n",
       "      <th>836477</th>\n",
       "      <td>5948</td>\n",
       "      <td>1360</td>\n",
       "      <td>5</td>\n",
       "      <td>identification of a woman identificazione di u...</td>\n",
       "      <td>Drama</td>\n",
       "      <td>1982</td>\n",
       "    </tr>\n",
       "  </tbody>\n",
       "</table>\n",
       "<p>836478 rows × 6 columns</p>\n",
       "</div>"
      ],
      "text/plain": [
       "        user_id  movie_id  counts  \\\n",
       "0             1      1193       5   \n",
       "1             2      1193       5   \n",
       "2            12      1193       4   \n",
       "3            15      1193       4   \n",
       "4            17      1193       5   \n",
       "...         ...       ...     ...   \n",
       "836473     5851      3607       5   \n",
       "836474     5854      3026       4   \n",
       "836475     5854       690       3   \n",
       "836476     5938      2909       4   \n",
       "836477     5948      1360       5   \n",
       "\n",
       "                                                    title  \\\n",
       "0                         one flew over the cuckoo's nest   \n",
       "1                         one flew over the cuckoo's nest   \n",
       "2                         one flew over the cuckoo's nest   \n",
       "3                         one flew over the cuckoo's nest   \n",
       "4                         one flew over the cuckoo's nest   \n",
       "...                                                   ...   \n",
       "836473                                  one little indian   \n",
       "836474                                     slaughterhouse   \n",
       "836475                      promise, the versprechen, das   \n",
       "836476               five wives, three secretaries and me   \n",
       "836477  identification of a woman identificazione di u...   \n",
       "\n",
       "                       genre  year  \n",
       "0                      Drama  1975  \n",
       "1                      Drama  1975  \n",
       "2                      Drama  1975  \n",
       "3                      Drama  1975  \n",
       "4                      Drama  1975  \n",
       "...                      ...   ...  \n",
       "836473  Comedy|Drama|Western  1973  \n",
       "836474                Horror  1987  \n",
       "836475               Romance  1994  \n",
       "836476           Documentary  1998  \n",
       "836477                 Drama  1982  \n",
       "\n",
       "[836478 rows x 6 columns]"
      ]
     },
     "execution_count": 15,
     "metadata": {},
     "output_type": "execute_result"
    }
   ],
   "source": [
    "# pandas의 merge()함수를 사용해서 'movie_id'를 기준으로 두 데이터 병합\n",
    "ratings_add = pd.merge(ratings, movies, on='movie_id')\n",
    "ratings_add"
   ]
  },
  {
   "cell_type": "code",
   "execution_count": 16,
   "id": "5fb8fc90",
   "metadata": {},
   "outputs": [
    {
     "name": "stdout",
     "output_type": "stream",
     "text": [
      "<class 'pandas.core.frame.DataFrame'>\n",
      "Int64Index: 836478 entries, 0 to 836477\n",
      "Data columns (total 6 columns):\n",
      " #   Column    Non-Null Count   Dtype \n",
      "---  ------    --------------   ----- \n",
      " 0   user_id   836478 non-null  int64 \n",
      " 1   movie_id  836478 non-null  int64 \n",
      " 2   counts    836478 non-null  int64 \n",
      " 3   title     836478 non-null  object\n",
      " 4   genre     836478 non-null  object\n",
      " 5   year      836478 non-null  object\n",
      "dtypes: int64(3), object(3)\n",
      "memory usage: 44.7+ MB\n"
     ]
    }
   ],
   "source": [
    "ratings_add.info()"
   ]
  },
  {
   "cell_type": "markdown",
   "id": "8ad67906",
   "metadata": {},
   "source": [
    "* 병합된 데이터에 대한 정보를 확인한다.\n",
    "* `movie_id`컬럼을 기준으로 병합되었다.\n",
    "* 총 6개의 컬럼과 컬럼별로 836,478개의 데이터가 있다."
   ]
  },
  {
   "cell_type": "markdown",
   "id": "d79cabed",
   "metadata": {},
   "source": [
    "### 4. Merge Data Analysis"
   ]
  },
  {
   "cell_type": "markdown",
   "id": "8625fd14",
   "metadata": {},
   "source": [
    "### 4.1 Year of the Most Recently Released Movie"
   ]
  },
  {
   "cell_type": "code",
   "execution_count": 17,
   "id": "068c4743",
   "metadata": {},
   "outputs": [
    {
     "data": {
      "text/plain": [
       "'2000'"
      ]
     },
     "execution_count": 17,
     "metadata": {},
     "output_type": "execute_result"
    }
   ],
   "source": [
    "# 가장 최근에 개봉한 영화의 연도\n",
    "ratings_add['year'].sort_values(ascending=False).iloc[0]"
   ]
  },
  {
   "cell_type": "markdown",
   "id": "06e6ee4b",
   "metadata": {},
   "source": [
    "### 4.2 Unique Number of Movies"
   ]
  },
  {
   "cell_type": "code",
   "execution_count": 18,
   "id": "f44f091b",
   "metadata": {},
   "outputs": [
    {
     "data": {
      "text/plain": [
       "3628"
      ]
     },
     "execution_count": 18,
     "metadata": {},
     "output_type": "execute_result"
    }
   ],
   "source": [
    "# 영화 수\n",
    "ratings_add['movie_id'].nunique()"
   ]
  },
  {
   "cell_type": "markdown",
   "id": "4689aa8b",
   "metadata": {},
   "source": [
    "### 4.3 Users"
   ]
  },
  {
   "cell_type": "markdown",
   "id": "1b01f8e1",
   "metadata": {},
   "source": [
    "### 4.3.1 Unique Number of Users"
   ]
  },
  {
   "cell_type": "code",
   "execution_count": 19,
   "id": "bd5111c4",
   "metadata": {},
   "outputs": [
    {
     "data": {
      "text/plain": [
       "6039"
      ]
     },
     "execution_count": 19,
     "metadata": {},
     "output_type": "execute_result"
    }
   ],
   "source": [
    "# 사용자 수\n",
    "ratings_add['user_id'].nunique()"
   ]
  },
  {
   "cell_type": "markdown",
   "id": "2262e9fd",
   "metadata": {},
   "source": [
    "### 4.3.2 How Many Movies"
   ]
  },
  {
   "cell_type": "code",
   "execution_count": 20,
   "id": "c6679a59",
   "metadata": {
    "scrolled": true
   },
   "outputs": [
    {
     "data": {
      "text/plain": [
       "count    6039.000000\n",
       "mean      138.512668\n",
       "std       156.241599\n",
       "min         1.000000\n",
       "25%        38.000000\n",
       "50%        81.000000\n",
       "75%       177.000000\n",
       "max      1968.000000\n",
       "Name: title, dtype: float64"
      ]
     },
     "execution_count": 20,
     "metadata": {},
     "output_type": "execute_result"
    }
   ],
   "source": [
    "# 유저별 몇 편의 영화를 보는지 통계\n",
    "user_count = ratings_add.groupby('user_id')['title'].count()\n",
    "user_count.describe()"
   ]
  },
  {
   "cell_type": "markdown",
   "id": "035fc345",
   "metadata": {},
   "source": [
    "### 4.3.3 Counts by Movie"
   ]
  },
  {
   "cell_type": "code",
   "execution_count": 21,
   "id": "32dbf7cb",
   "metadata": {},
   "outputs": [
    {
     "data": {
      "text/plain": [
       "count    6039.000000\n",
       "mean        4.055970\n",
       "std         0.432143\n",
       "min         3.000000\n",
       "25%         4.000000\n",
       "50%         4.000000\n",
       "75%         4.000000\n",
       "max         5.000000\n",
       "Name: counts, dtype: float64"
      ]
     },
     "execution_count": 21,
     "metadata": {},
     "output_type": "execute_result"
    }
   ],
   "source": [
    "# 영화 별 시청(count)횟수 중앙값에 대한 통계\n",
    "user_median = ratings_add.groupby('user_id')['counts'].median()\n",
    "user_median.describe()"
   ]
  },
  {
   "cell_type": "markdown",
   "id": "b8c38afd",
   "metadata": {},
   "source": [
    "### 4.4 Most Popular Movies"
   ]
  },
  {
   "cell_type": "markdown",
   "id": "51cfc078",
   "metadata": {},
   "source": [
    "### 4.4.1 Number of Users"
   ]
  },
  {
   "cell_type": "code",
   "execution_count": 22,
   "id": "094c1e97",
   "metadata": {},
   "outputs": [
    {
     "data": {
      "text/plain": [
       "title\n",
       "american beauty                                   3211\n",
       "star wars: episode iv - a new hope                2910\n",
       "star wars: episode v - the empire strikes back    2885\n",
       "star wars: episode vi - return of the jedi        2716\n",
       "saving private ryan                               2561\n",
       "terminator 2: judgment day                        2509\n",
       "silence of the lambs, the                         2498\n",
       "raiders of the lost ark                           2473\n",
       "back to the future                                2460\n",
       "matrix, the                                       2434\n",
       "jurassic park                                     2413\n",
       "sixth sense, the                                  2385\n",
       "fargo                                             2371\n",
       "braveheart                                        2314\n",
       "men in black                                      2297\n",
       "schindler's list                                  2257\n",
       "princess bride, the                               2252\n",
       "shakespeare in love                               2213\n",
       "l.a. confidential                                 2210\n",
       "shawshank redemption, the                         2194\n",
       "godfather, the                                    2167\n",
       "groundhog day                                     2121\n",
       "e.t. the extra-terrestrial                        2102\n",
       "being john malkovich                              2066\n",
       "ghostbusters                                      2051\n",
       "pulp fiction                                      2030\n",
       "forrest gump                                      2022\n",
       "terminator, the                                   2019\n",
       "toy story                                         2000\n",
       "fugitive, the                                     1941\n",
       "Name: user_id, dtype: int64"
      ]
     },
     "execution_count": 22,
     "metadata": {},
     "output_type": "execute_result"
    }
   ],
   "source": [
    "# 각 영화별 시청한 user들의 수\n",
    "movie_user = ratings_add.groupby('title')\n",
    "movie_user['user_id'].count().sort_values(ascending=False).head(30)"
   ]
  },
  {
   "cell_type": "markdown",
   "id": "946f20b8",
   "metadata": {},
   "source": [
    "### 4.4.2 Top 30 Movies (by Number of Users)"
   ]
  },
  {
   "cell_type": "code",
   "execution_count": 23,
   "id": "a1df3ea3",
   "metadata": {},
   "outputs": [
    {
     "data": {
      "text/plain": [
       "Text(0.5, 1.0, 'Top 30 Movies')"
      ]
     },
     "execution_count": 23,
     "metadata": {},
     "output_type": "execute_result"
    },
    {
     "data": {
      "image/png": "[encoded data removed]",
      "text/plain": [
       "<Figure size 576x432 with 1 Axes>"
      ]
     },
     "metadata": {
      "needs_background": "light"
     },
     "output_type": "display_data"
    }
   ],
   "source": [
    "# 영화를 시청한 유저의 수를 바탕으로 가장 인기 있는 영화 30개 시각화\n",
    "users = movie_user['user_id'].count().sort_values(ascending=False).head(30)\n",
    "users.plot(kind=\"barh\", figsize=(8,6))\n",
    "plt.xlabel('Movie Title')\n",
    "plt.ylabel('Number of Users')\n",
    "plt.title('Top 30 Movies')"
   ]
  },
  {
   "cell_type": "markdown",
   "id": "3ee6920e",
   "metadata": {},
   "source": [
    "### 4.4.3 Number of Counts"
   ]
  },
  {
   "cell_type": "code",
   "execution_count": 24,
   "id": "393f7af3",
   "metadata": {},
   "outputs": [
    {
     "data": {
      "text/plain": [
       "title\n",
       "american beauty                                   14449\n",
       "star wars: episode iv - a new hope                13178\n",
       "star wars: episode v - the empire strikes back    12648\n",
       "saving private ryan                               11348\n",
       "star wars: episode vi - return of the jedi        11303\n",
       "raiders of the lost ark                           11179\n",
       "silence of the lambs, the                         11096\n",
       "matrix, the                                       10903\n",
       "sixth sense, the                                  10703\n",
       "terminator 2: judgment day                        10513\n",
       "fargo                                             10465\n",
       "schindler's list                                  10317\n",
       "braveheart                                        10125\n",
       "shawshank redemption, the                         10085\n",
       "back to the future                                10081\n",
       "godfather, the                                     9965\n",
       "princess bride, the                                9866\n",
       "jurassic park                                      9601\n",
       "l.a. confidential                                  9515\n",
       "shakespeare in love                                9503\n",
       "men in black                                       9057\n",
       "pulp fiction                                       9053\n",
       "being john malkovich                               8964\n",
       "groundhog day                                      8727\n",
       "e.t. the extra-terrestrial                         8696\n",
       "forrest gump                                       8679\n",
       "terminator, the                                    8571\n",
       "toy story                                          8475\n",
       "ghostbusters                                       8282\n",
       "alien                                              8244\n",
       "Name: counts, dtype: int64"
      ]
     },
     "execution_count": 24,
     "metadata": {},
     "output_type": "execute_result"
    }
   ],
   "source": [
    "# 시청 빈도의 합이 가장 높은 순서대로 나열\n",
    "movie_count = ratings_add.groupby('title')\n",
    "movie_count['counts'].sum().nlargest(30)"
   ]
  },
  {
   "cell_type": "markdown",
   "id": "12e3bb32",
   "metadata": {},
   "source": [
    "### 4.4.4 Top 30 Movies (by Number of Counts)"
   ]
  },
  {
   "cell_type": "code",
   "execution_count": 25,
   "id": "80d373e0",
   "metadata": {},
   "outputs": [
    {
     "data": {
      "text/plain": [
       "Text(0.5, 1.0, 'Top 30 Movies')"
      ]
     },
     "execution_count": 25,
     "metadata": {},
     "output_type": "execute_result"
    },
    {
     "data": {
      "image/png": "[encoded data removed]",
      "text/plain": [
       "<Figure size 576x432 with 1 Axes>"
      ]
     },
     "metadata": {
      "needs_background": "light"
     },
     "output_type": "display_data"
    }
   ],
   "source": [
    "# 영화를 시청 빈도 수를 바탕으로 가장 인기 있는 영화 30개 시각화\n",
    "pop = movie_count['counts'].sum().nlargest(30)\n",
    "pop.plot(kind=\"barh\", figsize=(8,6))\n",
    "plt.xlabel('Movie Title')\n",
    "plt.ylabel('Number of Views')\n",
    "plt.title('Top 30 Movies')"
   ]
  },
  {
   "cell_type": "markdown",
   "id": "08770a7e",
   "metadata": {},
   "source": [
    "* `인기가 많은 영화`는 `영화를 시청한 유저의 수 (Number of Users)` 또는 `영화가 시청된 횟수 (Number of Counts)`를 기준으로 생각해 볼 수 있다.\n",
    "* 한 영화를 1명이 5번 시청한 것과 5명이 1번씩 시청한 것은 같다고 볼 수 없을 것이다.\n",
    "* 상식적으로 인기가 많은 영화는 대체적으로 잘 알려졌고 많은 사람들에게 평가받았을 확률이 높다. \n",
    "* 따라서, 두 데이터(`영화를 시청한 유저의 수 (Number of Users)`, `영화가 시청된 횟수 (Number of Counts)`)를 같이 고려해본다."
   ]
  },
  {
   "cell_type": "code",
   "execution_count": 26,
   "id": "7479b426",
   "metadata": {},
   "outputs": [],
   "source": [
    "# 두 데이터를 묶어 비교해본다.\n",
    "users_2 = movie_user['user_id'].count().sort_values(ascending=False)\n",
    "pop_2 = movie_count['counts'].sum().sort_values(ascending=False)\n",
    "user_view = pd.merge(pop_2, users_2, on='title')"
   ]
  },
  {
   "cell_type": "code",
   "execution_count": 27,
   "id": "9569b528",
   "metadata": {},
   "outputs": [
    {
     "data": {
      "text/html": [
       "<div>\n",
       "<style scoped>\n",
       "    .dataframe tbody tr th:only-of-type {\n",
       "        vertical-align: middle;\n",
       "    }\n",
       "\n",
       "    .dataframe tbody tr th {\n",
       "        vertical-align: top;\n",
       "    }\n",
       "\n",
       "    .dataframe thead th {\n",
       "        text-align: right;\n",
       "    }\n",
       "</style>\n",
       "<table border=\"1\" class=\"dataframe\">\n",
       "  <thead>\n",
       "    <tr style=\"text-align: right;\">\n",
       "      <th></th>\n",
       "      <th>views</th>\n",
       "      <th>number of users</th>\n",
       "    </tr>\n",
       "    <tr>\n",
       "      <th>title</th>\n",
       "      <th></th>\n",
       "      <th></th>\n",
       "    </tr>\n",
       "  </thead>\n",
       "  <tbody>\n",
       "    <tr>\n",
       "      <th>american beauty</th>\n",
       "      <td>14449</td>\n",
       "      <td>3211</td>\n",
       "    </tr>\n",
       "    <tr>\n",
       "      <th>star wars: episode iv - a new hope</th>\n",
       "      <td>13178</td>\n",
       "      <td>2910</td>\n",
       "    </tr>\n",
       "    <tr>\n",
       "      <th>star wars: episode v - the empire strikes back</th>\n",
       "      <td>12648</td>\n",
       "      <td>2885</td>\n",
       "    </tr>\n",
       "    <tr>\n",
       "      <th>saving private ryan</th>\n",
       "      <td>11348</td>\n",
       "      <td>2561</td>\n",
       "    </tr>\n",
       "    <tr>\n",
       "      <th>star wars: episode vi - return of the jedi</th>\n",
       "      <td>11303</td>\n",
       "      <td>2716</td>\n",
       "    </tr>\n",
       "    <tr>\n",
       "      <th>...</th>\n",
       "      <td>...</td>\n",
       "      <td>...</td>\n",
       "    </tr>\n",
       "    <tr>\n",
       "      <th>last of the high kings, the a.k.a. summer fling</th>\n",
       "      <td>3</td>\n",
       "      <td>1</td>\n",
       "    </tr>\n",
       "    <tr>\n",
       "      <th>tough and deadly</th>\n",
       "      <td>3</td>\n",
       "      <td>1</td>\n",
       "    </tr>\n",
       "    <tr>\n",
       "      <th>sunchaser, the</th>\n",
       "      <td>3</td>\n",
       "      <td>1</td>\n",
       "    </tr>\n",
       "    <tr>\n",
       "      <th>last resort</th>\n",
       "      <td>3</td>\n",
       "      <td>1</td>\n",
       "    </tr>\n",
       "    <tr>\n",
       "      <th>brothers in trouble</th>\n",
       "      <td>3</td>\n",
       "      <td>1</td>\n",
       "    </tr>\n",
       "  </tbody>\n",
       "</table>\n",
       "<p>3586 rows × 2 columns</p>\n",
       "</div>"
      ],
      "text/plain": [
       "                                                 views  number of users\n",
       "title                                                                  \n",
       "american beauty                                  14449             3211\n",
       "star wars: episode iv - a new hope               13178             2910\n",
       "star wars: episode v - the empire strikes back   12648             2885\n",
       "saving private ryan                              11348             2561\n",
       "star wars: episode vi - return of the jedi       11303             2716\n",
       "...                                                ...              ...\n",
       "last of the high kings, the a.k.a. summer fling      3                1\n",
       "tough and deadly                                     3                1\n",
       "sunchaser, the                                       3                1\n",
       "last resort                                          3                1\n",
       "brothers in trouble                                  3                1\n",
       "\n",
       "[3586 rows x 2 columns]"
      ]
     },
     "execution_count": 27,
     "metadata": {},
     "output_type": "execute_result"
    }
   ],
   "source": [
    "user_view.rename(columns={'counts':'views'}, inplace=True)\n",
    "user_view.rename(columns={'user_id':'number of users'}, inplace=True)\n",
    "user_view"
   ]
  },
  {
   "cell_type": "code",
   "execution_count": 28,
   "id": "3655e852",
   "metadata": {},
   "outputs": [
    {
     "data": {
      "text/plain": [
       "<seaborn.axisgrid.JointGrid at 0x7f3d456e8c70>"
      ]
     },
     "execution_count": 28,
     "metadata": {},
     "output_type": "execute_result"
    },
    {
     "data": {
      "text/plain": [
       "<Figure size 576x432 with 0 Axes>"
      ]
     },
     "metadata": {},
     "output_type": "display_data"
    },
    {
     "data": {
      "image/png": "[encoded data removed]",
      "text/plain": [
       "<Figure size 432x432 with 3 Axes>"
      ]
     },
     "metadata": {
      "needs_background": "light"
     },
     "output_type": "display_data"
    }
   ],
   "source": [
    "plt.figure(figsize=(8,6))\n",
    "plt.rcParams['patch.force_edgecolor'] = True\n",
    "sns.jointplot(x='views', y='number of users', data=user_view, alpha=0.4)"
   ]
  },
  {
   "cell_type": "markdown",
   "id": "853f8612",
   "metadata": {},
   "source": [
    "* 두 데이터의 상관관계가 굉장히 높은 것을 확인할 수 있다.\n",
    "* 따라서, 둘 중 한 데이터를 가지고 인기를 확인하는데 문제가 없다고 판단할 수 있다."
   ]
  },
  {
   "cell_type": "markdown",
   "id": "4ccf4827",
   "metadata": {},
   "source": [
    "### 5. Add My Favorite Movies"
   ]
  },
  {
   "cell_type": "markdown",
   "id": "33d07c5a",
   "metadata": {},
   "source": [
    "### 5.1 My Favorite 5 Movies"
   ]
  },
  {
   "cell_type": "code",
   "execution_count": 29,
   "id": "76fa3bbb",
   "metadata": {},
   "outputs": [
    {
     "data": {
      "text/html": [
       "<div>\n",
       "<style scoped>\n",
       "    .dataframe tbody tr th:only-of-type {\n",
       "        vertical-align: middle;\n",
       "    }\n",
       "\n",
       "    .dataframe tbody tr th {\n",
       "        vertical-align: top;\n",
       "    }\n",
       "\n",
       "    .dataframe thead th {\n",
       "        text-align: right;\n",
       "    }\n",
       "</style>\n",
       "<table border=\"1\" class=\"dataframe\">\n",
       "  <thead>\n",
       "    <tr style=\"text-align: right;\">\n",
       "      <th></th>\n",
       "      <th>movie_id</th>\n",
       "      <th>title</th>\n",
       "      <th>genre</th>\n",
       "      <th>year</th>\n",
       "    </tr>\n",
       "  </thead>\n",
       "  <tbody>\n",
       "    <tr>\n",
       "      <th>589</th>\n",
       "      <td>593</td>\n",
       "      <td>silence of the lambs, the</td>\n",
       "      <td>Drama|Thriller</td>\n",
       "      <td>1991</td>\n",
       "    </tr>\n",
       "  </tbody>\n",
       "</table>\n",
       "</div>"
      ],
      "text/plain": [
       "     movie_id                      title           genre  year\n",
       "589       593  silence of the lambs, the  Drama|Thriller  1991"
      ]
     },
     "execution_count": 29,
     "metadata": {},
     "output_type": "execute_result"
    }
   ],
   "source": [
    "movies[movies['title'].str.lower().str.contains('silence of the lambs', regex=False)]"
   ]
  },
  {
   "cell_type": "code",
   "execution_count": 30,
   "id": "7adadc70",
   "metadata": {},
   "outputs": [
    {
     "data": {
      "text/html": [
       "<div>\n",
       "<style scoped>\n",
       "    .dataframe tbody tr th:only-of-type {\n",
       "        vertical-align: middle;\n",
       "    }\n",
       "\n",
       "    .dataframe tbody tr th {\n",
       "        vertical-align: top;\n",
       "    }\n",
       "\n",
       "    .dataframe thead th {\n",
       "        text-align: right;\n",
       "    }\n",
       "</style>\n",
       "<table border=\"1\" class=\"dataframe\">\n",
       "  <thead>\n",
       "    <tr style=\"text-align: right;\">\n",
       "      <th></th>\n",
       "      <th>movie_id</th>\n",
       "      <th>title</th>\n",
       "      <th>genre</th>\n",
       "      <th>year</th>\n",
       "    </tr>\n",
       "  </thead>\n",
       "  <tbody>\n",
       "    <tr>\n",
       "      <th>46</th>\n",
       "      <td>47</td>\n",
       "      <td>seven se7en</td>\n",
       "      <td>Crime|Thriller</td>\n",
       "      <td>1995</td>\n",
       "    </tr>\n",
       "  </tbody>\n",
       "</table>\n",
       "</div>"
      ],
      "text/plain": [
       "    movie_id        title           genre  year\n",
       "46        47  seven se7en  Crime|Thriller  1995"
      ]
     },
     "execution_count": 30,
     "metadata": {},
     "output_type": "execute_result"
    }
   ],
   "source": [
    "movies[movies['title'].str.lower().str.contains('se7en', regex=False)]"
   ]
  },
  {
   "cell_type": "code",
   "execution_count": 31,
   "id": "10c9911d",
   "metadata": {},
   "outputs": [
    {
     "data": {
      "text/html": [
       "<div>\n",
       "<style scoped>\n",
       "    .dataframe tbody tr th:only-of-type {\n",
       "        vertical-align: middle;\n",
       "    }\n",
       "\n",
       "    .dataframe tbody tr th {\n",
       "        vertical-align: top;\n",
       "    }\n",
       "\n",
       "    .dataframe thead th {\n",
       "        text-align: right;\n",
       "    }\n",
       "</style>\n",
       "<table border=\"1\" class=\"dataframe\">\n",
       "  <thead>\n",
       "    <tr style=\"text-align: right;\">\n",
       "      <th></th>\n",
       "      <th>movie_id</th>\n",
       "      <th>title</th>\n",
       "      <th>genre</th>\n",
       "      <th>year</th>\n",
       "    </tr>\n",
       "  </thead>\n",
       "  <tbody>\n",
       "    <tr>\n",
       "      <th>2693</th>\n",
       "      <td>2762</td>\n",
       "      <td>sixth sense, the</td>\n",
       "      <td>Thriller</td>\n",
       "      <td>1999</td>\n",
       "    </tr>\n",
       "  </tbody>\n",
       "</table>\n",
       "</div>"
      ],
      "text/plain": [
       "      movie_id             title     genre  year\n",
       "2693      2762  sixth sense, the  Thriller  1999"
      ]
     },
     "execution_count": 31,
     "metadata": {},
     "output_type": "execute_result"
    }
   ],
   "source": [
    "movies[movies['title'].str.lower().str.contains('sixth sense', regex=False)]"
   ]
  },
  {
   "cell_type": "code",
   "execution_count": 32,
   "id": "9bfbdb85",
   "metadata": {},
   "outputs": [
    {
     "data": {
      "text/html": [
       "<div>\n",
       "<style scoped>\n",
       "    .dataframe tbody tr th:only-of-type {\n",
       "        vertical-align: middle;\n",
       "    }\n",
       "\n",
       "    .dataframe tbody tr th {\n",
       "        vertical-align: top;\n",
       "    }\n",
       "\n",
       "    .dataframe thead th {\n",
       "        text-align: right;\n",
       "    }\n",
       "</style>\n",
       "<table border=\"1\" class=\"dataframe\">\n",
       "  <thead>\n",
       "    <tr style=\"text-align: right;\">\n",
       "      <th></th>\n",
       "      <th>movie_id</th>\n",
       "      <th>title</th>\n",
       "      <th>genre</th>\n",
       "      <th>year</th>\n",
       "    </tr>\n",
       "  </thead>\n",
       "  <tbody>\n",
       "    <tr>\n",
       "      <th>2890</th>\n",
       "      <td>2959</td>\n",
       "      <td>fight club</td>\n",
       "      <td>Drama</td>\n",
       "      <td>1999</td>\n",
       "    </tr>\n",
       "  </tbody>\n",
       "</table>\n",
       "</div>"
      ],
      "text/plain": [
       "      movie_id       title  genre  year\n",
       "2890      2959  fight club  Drama  1999"
      ]
     },
     "execution_count": 32,
     "metadata": {},
     "output_type": "execute_result"
    }
   ],
   "source": [
    "movies[movies['title'].str.lower().str.contains('fight club', regex=False)]"
   ]
  },
  {
   "cell_type": "code",
   "execution_count": 33,
   "id": "78d1c34f",
   "metadata": {},
   "outputs": [
    {
     "data": {
      "text/html": [
       "<div>\n",
       "<style scoped>\n",
       "    .dataframe tbody tr th:only-of-type {\n",
       "        vertical-align: middle;\n",
       "    }\n",
       "\n",
       "    .dataframe tbody tr th {\n",
       "        vertical-align: top;\n",
       "    }\n",
       "\n",
       "    .dataframe thead th {\n",
       "        text-align: right;\n",
       "    }\n",
       "</style>\n",
       "<table border=\"1\" class=\"dataframe\">\n",
       "  <thead>\n",
       "    <tr style=\"text-align: right;\">\n",
       "      <th></th>\n",
       "      <th>movie_id</th>\n",
       "      <th>title</th>\n",
       "      <th>genre</th>\n",
       "      <th>year</th>\n",
       "    </tr>\n",
       "  </thead>\n",
       "  <tbody>\n",
       "    <tr>\n",
       "      <th>2502</th>\n",
       "      <td>2571</td>\n",
       "      <td>matrix, the</td>\n",
       "      <td>Action|Sci-Fi|Thriller</td>\n",
       "      <td>1999</td>\n",
       "    </tr>\n",
       "  </tbody>\n",
       "</table>\n",
       "</div>"
      ],
      "text/plain": [
       "      movie_id        title                   genre  year\n",
       "2502      2571  matrix, the  Action|Sci-Fi|Thriller  1999"
      ]
     },
     "execution_count": 33,
     "metadata": {},
     "output_type": "execute_result"
    }
   ],
   "source": [
    "movies[movies['title'].str.lower().str.contains('matrix', regex=False)]"
   ]
  },
  {
   "cell_type": "markdown",
   "id": "fa1a42c1",
   "metadata": {},
   "source": [
    "### 5.2 Delete Unnecessary Columns"
   ]
  },
  {
   "cell_type": "code",
   "execution_count": 34,
   "id": "e3cecde5",
   "metadata": {},
   "outputs": [
    {
     "data": {
      "text/html": [
       "<div>\n",
       "<style scoped>\n",
       "    .dataframe tbody tr th:only-of-type {\n",
       "        vertical-align: middle;\n",
       "    }\n",
       "\n",
       "    .dataframe tbody tr th {\n",
       "        vertical-align: top;\n",
       "    }\n",
       "\n",
       "    .dataframe thead th {\n",
       "        text-align: right;\n",
       "    }\n",
       "</style>\n",
       "<table border=\"1\" class=\"dataframe\">\n",
       "  <thead>\n",
       "    <tr style=\"text-align: right;\">\n",
       "      <th></th>\n",
       "      <th>user_id</th>\n",
       "      <th>movie_id</th>\n",
       "      <th>counts</th>\n",
       "      <th>title</th>\n",
       "    </tr>\n",
       "  </thead>\n",
       "  <tbody>\n",
       "    <tr>\n",
       "      <th>0</th>\n",
       "      <td>1</td>\n",
       "      <td>1193</td>\n",
       "      <td>5</td>\n",
       "      <td>one flew over the cuckoo's nest</td>\n",
       "    </tr>\n",
       "    <tr>\n",
       "      <th>1</th>\n",
       "      <td>2</td>\n",
       "      <td>1193</td>\n",
       "      <td>5</td>\n",
       "      <td>one flew over the cuckoo's nest</td>\n",
       "    </tr>\n",
       "    <tr>\n",
       "      <th>2</th>\n",
       "      <td>12</td>\n",
       "      <td>1193</td>\n",
       "      <td>4</td>\n",
       "      <td>one flew over the cuckoo's nest</td>\n",
       "    </tr>\n",
       "    <tr>\n",
       "      <th>3</th>\n",
       "      <td>15</td>\n",
       "      <td>1193</td>\n",
       "      <td>4</td>\n",
       "      <td>one flew over the cuckoo's nest</td>\n",
       "    </tr>\n",
       "    <tr>\n",
       "      <th>4</th>\n",
       "      <td>17</td>\n",
       "      <td>1193</td>\n",
       "      <td>5</td>\n",
       "      <td>one flew over the cuckoo's nest</td>\n",
       "    </tr>\n",
       "    <tr>\n",
       "      <th>...</th>\n",
       "      <td>...</td>\n",
       "      <td>...</td>\n",
       "      <td>...</td>\n",
       "      <td>...</td>\n",
       "    </tr>\n",
       "    <tr>\n",
       "      <th>836473</th>\n",
       "      <td>5851</td>\n",
       "      <td>3607</td>\n",
       "      <td>5</td>\n",
       "      <td>one little indian</td>\n",
       "    </tr>\n",
       "    <tr>\n",
       "      <th>836474</th>\n",
       "      <td>5854</td>\n",
       "      <td>3026</td>\n",
       "      <td>4</td>\n",
       "      <td>slaughterhouse</td>\n",
       "    </tr>\n",
       "    <tr>\n",
       "      <th>836475</th>\n",
       "      <td>5854</td>\n",
       "      <td>690</td>\n",
       "      <td>3</td>\n",
       "      <td>promise, the versprechen, das</td>\n",
       "    </tr>\n",
       "    <tr>\n",
       "      <th>836476</th>\n",
       "      <td>5938</td>\n",
       "      <td>2909</td>\n",
       "      <td>4</td>\n",
       "      <td>five wives, three secretaries and me</td>\n",
       "    </tr>\n",
       "    <tr>\n",
       "      <th>836477</th>\n",
       "      <td>5948</td>\n",
       "      <td>1360</td>\n",
       "      <td>5</td>\n",
       "      <td>identification of a woman identificazione di u...</td>\n",
       "    </tr>\n",
       "  </tbody>\n",
       "</table>\n",
       "<p>836478 rows × 4 columns</p>\n",
       "</div>"
      ],
      "text/plain": [
       "        user_id  movie_id  counts  \\\n",
       "0             1      1193       5   \n",
       "1             2      1193       5   \n",
       "2            12      1193       4   \n",
       "3            15      1193       4   \n",
       "4            17      1193       5   \n",
       "...         ...       ...     ...   \n",
       "836473     5851      3607       5   \n",
       "836474     5854      3026       4   \n",
       "836475     5854       690       3   \n",
       "836476     5938      2909       4   \n",
       "836477     5948      1360       5   \n",
       "\n",
       "                                                    title  \n",
       "0                         one flew over the cuckoo's nest  \n",
       "1                         one flew over the cuckoo's nest  \n",
       "2                         one flew over the cuckoo's nest  \n",
       "3                         one flew over the cuckoo's nest  \n",
       "4                         one flew over the cuckoo's nest  \n",
       "...                                                   ...  \n",
       "836473                                  one little indian  \n",
       "836474                                     slaughterhouse  \n",
       "836475                      promise, the versprechen, das  \n",
       "836476               five wives, three secretaries and me  \n",
       "836477  identification of a woman identificazione di u...  \n",
       "\n",
       "[836478 rows x 4 columns]"
      ]
     },
     "execution_count": 34,
     "metadata": {},
     "output_type": "execute_result"
    }
   ],
   "source": [
    "# genre, year 컬럼 삭제\n",
    "del ratings_add['genre']\n",
    "del ratings_add['year']\n",
    "\n",
    "ratings_add"
   ]
  },
  {
   "cell_type": "markdown",
   "id": "d2e1fb0a",
   "metadata": {},
   "source": [
    "### 5.3 Data Append Preprocessing"
   ]
  },
  {
   "cell_type": "code",
   "execution_count": 35,
   "id": "6f2479c5",
   "metadata": {},
   "outputs": [
    {
     "data": {
      "text/html": [
       "<div>\n",
       "<style scoped>\n",
       "    .dataframe tbody tr th:only-of-type {\n",
       "        vertical-align: middle;\n",
       "    }\n",
       "\n",
       "    .dataframe tbody tr th {\n",
       "        vertical-align: top;\n",
       "    }\n",
       "\n",
       "    .dataframe thead th {\n",
       "        text-align: right;\n",
       "    }\n",
       "</style>\n",
       "<table border=\"1\" class=\"dataframe\">\n",
       "  <thead>\n",
       "    <tr style=\"text-align: right;\">\n",
       "      <th></th>\n",
       "      <th>user_id</th>\n",
       "      <th>movie_id</th>\n",
       "      <th>counts</th>\n",
       "      <th>title</th>\n",
       "    </tr>\n",
       "  </thead>\n",
       "  <tbody>\n",
       "    <tr>\n",
       "      <th>0</th>\n",
       "      <td>mj</td>\n",
       "      <td>593</td>\n",
       "      <td>4</td>\n",
       "      <td>silence of the lambs, the</td>\n",
       "    </tr>\n",
       "    <tr>\n",
       "      <th>1</th>\n",
       "      <td>mj</td>\n",
       "      <td>47</td>\n",
       "      <td>5</td>\n",
       "      <td>seven se7en</td>\n",
       "    </tr>\n",
       "    <tr>\n",
       "      <th>2</th>\n",
       "      <td>mj</td>\n",
       "      <td>2762</td>\n",
       "      <td>5</td>\n",
       "      <td>sixth sense, the</td>\n",
       "    </tr>\n",
       "    <tr>\n",
       "      <th>3</th>\n",
       "      <td>mj</td>\n",
       "      <td>2959</td>\n",
       "      <td>5</td>\n",
       "      <td>fight club</td>\n",
       "    </tr>\n",
       "    <tr>\n",
       "      <th>4</th>\n",
       "      <td>mj</td>\n",
       "      <td>2571</td>\n",
       "      <td>5</td>\n",
       "      <td>matrix, the</td>\n",
       "    </tr>\n",
       "  </tbody>\n",
       "</table>\n",
       "</div>"
      ],
      "text/plain": [
       "  user_id  movie_id  counts                      title\n",
       "0      mj       593       4  silence of the lambs, the\n",
       "1      mj        47       5                seven se7en\n",
       "2      mj      2762       5           sixth sense, the\n",
       "3      mj      2959       5                 fight club\n",
       "4      mj      2571       5                matrix, the"
      ]
     },
     "execution_count": 35,
     "metadata": {},
     "output_type": "execute_result"
    }
   ],
   "source": [
    "# 내가 좋아하는 영화 5개\n",
    "my_favorite = ['silence of the lambs, the', 'seven se7en', 'sixth sense, the', 'fight club', 'matrix, the']\n",
    "# 내가 좋아하는 영화의 movie_id\n",
    "my_favorite_id = [593, 47, 2762, 2959, 2571]\n",
    "# 새로운 user의 id\n",
    "new_userid = ['mj']\n",
    "\n",
    "# 유저 id, 영화 제목, 시청횟수\n",
    "my_rating = pd.DataFrame({'user_id' : new_userid * 5, 'movie_id' : my_favorite_id, 'counts' : [4, 5, 5, 5, 5], 'title' : my_favorite})\n",
    "my_rating"
   ]
  },
  {
   "cell_type": "markdown",
   "id": "06d61f95",
   "metadata": {},
   "source": [
    "### 5.4 Add My Movies"
   ]
  },
  {
   "cell_type": "code",
   "execution_count": 36,
   "id": "7a1ddc46",
   "metadata": {},
   "outputs": [
    {
     "data": {
      "text/html": [
       "<div>\n",
       "<style scoped>\n",
       "    .dataframe tbody tr th:only-of-type {\n",
       "        vertical-align: middle;\n",
       "    }\n",
       "\n",
       "    .dataframe tbody tr th {\n",
       "        vertical-align: top;\n",
       "    }\n",
       "\n",
       "    .dataframe thead th {\n",
       "        text-align: right;\n",
       "    }\n",
       "</style>\n",
       "<table border=\"1\" class=\"dataframe\">\n",
       "  <thead>\n",
       "    <tr style=\"text-align: right;\">\n",
       "      <th></th>\n",
       "      <th>user_id</th>\n",
       "      <th>movie_id</th>\n",
       "      <th>counts</th>\n",
       "      <th>title</th>\n",
       "    </tr>\n",
       "  </thead>\n",
       "  <tbody>\n",
       "    <tr>\n",
       "      <th>836473</th>\n",
       "      <td>5851</td>\n",
       "      <td>3607</td>\n",
       "      <td>5</td>\n",
       "      <td>one little indian</td>\n",
       "    </tr>\n",
       "    <tr>\n",
       "      <th>836474</th>\n",
       "      <td>5854</td>\n",
       "      <td>3026</td>\n",
       "      <td>4</td>\n",
       "      <td>slaughterhouse</td>\n",
       "    </tr>\n",
       "    <tr>\n",
       "      <th>836475</th>\n",
       "      <td>5854</td>\n",
       "      <td>690</td>\n",
       "      <td>3</td>\n",
       "      <td>promise, the versprechen, das</td>\n",
       "    </tr>\n",
       "    <tr>\n",
       "      <th>836476</th>\n",
       "      <td>5938</td>\n",
       "      <td>2909</td>\n",
       "      <td>4</td>\n",
       "      <td>five wives, three secretaries and me</td>\n",
       "    </tr>\n",
       "    <tr>\n",
       "      <th>836477</th>\n",
       "      <td>5948</td>\n",
       "      <td>1360</td>\n",
       "      <td>5</td>\n",
       "      <td>identification of a woman identificazione di u...</td>\n",
       "    </tr>\n",
       "    <tr>\n",
       "      <th>0</th>\n",
       "      <td>mj</td>\n",
       "      <td>593</td>\n",
       "      <td>4</td>\n",
       "      <td>silence of the lambs, the</td>\n",
       "    </tr>\n",
       "    <tr>\n",
       "      <th>1</th>\n",
       "      <td>mj</td>\n",
       "      <td>47</td>\n",
       "      <td>5</td>\n",
       "      <td>seven se7en</td>\n",
       "    </tr>\n",
       "    <tr>\n",
       "      <th>2</th>\n",
       "      <td>mj</td>\n",
       "      <td>2762</td>\n",
       "      <td>5</td>\n",
       "      <td>sixth sense, the</td>\n",
       "    </tr>\n",
       "    <tr>\n",
       "      <th>3</th>\n",
       "      <td>mj</td>\n",
       "      <td>2959</td>\n",
       "      <td>5</td>\n",
       "      <td>fight club</td>\n",
       "    </tr>\n",
       "    <tr>\n",
       "      <th>4</th>\n",
       "      <td>mj</td>\n",
       "      <td>2571</td>\n",
       "      <td>5</td>\n",
       "      <td>matrix, the</td>\n",
       "    </tr>\n",
       "  </tbody>\n",
       "</table>\n",
       "</div>"
      ],
      "text/plain": [
       "       user_id  movie_id  counts  \\\n",
       "836473    5851      3607       5   \n",
       "836474    5854      3026       4   \n",
       "836475    5854       690       3   \n",
       "836476    5938      2909       4   \n",
       "836477    5948      1360       5   \n",
       "0           mj       593       4   \n",
       "1           mj        47       5   \n",
       "2           mj      2762       5   \n",
       "3           mj      2959       5   \n",
       "4           mj      2571       5   \n",
       "\n",
       "                                                    title  \n",
       "836473                                  one little indian  \n",
       "836474                                     slaughterhouse  \n",
       "836475                      promise, the versprechen, das  \n",
       "836476               five wives, three secretaries and me  \n",
       "836477  identification of a woman identificazione di u...  \n",
       "0                               silence of the lambs, the  \n",
       "1                                             seven se7en  \n",
       "2                                        sixth sense, the  \n",
       "3                                              fight club  \n",
       "4                                             matrix, the  "
      ]
     },
     "execution_count": 36,
     "metadata": {},
     "output_type": "execute_result"
    }
   ],
   "source": [
    "# 내가 선호하는 영화 5가지 정보 붙이기\n",
    "ratings_add = ratings_add.append(my_rating)\n",
    "ratings_add.tail(10)"
   ]
  },
  {
   "cell_type": "markdown",
   "id": "147b4d27",
   "metadata": {},
   "source": [
    "### 6. Create CSR matrix"
   ]
  },
  {
   "cell_type": "code",
   "execution_count": 37,
   "id": "381b477e",
   "metadata": {},
   "outputs": [],
   "source": [
    "# 고유한 유저, 영화를 찾아내는 코드\n",
    "user_unique = ratings_add['user_id'].unique()\n",
    "movie_unique = ratings_add['title'].unique()\n",
    "\n",
    "# 유저, 영화를 indexing 하는 코드. idx는 index의 약자\n",
    "user_to_idx = {v:k for k,v in enumerate(user_unique)}\n",
    "movie_to_idx = {v:k for k,v in enumerate(movie_unique)}"
   ]
  },
  {
   "cell_type": "markdown",
   "id": "7fc2d777",
   "metadata": {},
   "source": [
    "* user_unique: 유저의 수\n",
    "* movie_unique: 영화의 갯수\n",
    "* 유저 id와 영화 제목을 고유한 갯수만큼 indexing"
   ]
  },
  {
   "cell_type": "code",
   "execution_count": 38,
   "id": "154b2f10",
   "metadata": {},
   "outputs": [
    {
     "name": "stdout",
     "output_type": "stream",
     "text": [
      "6039\n",
      "220\n"
     ]
    }
   ],
   "source": [
    "# 인덱싱이 잘 되었는지 확인\n",
    "print(user_to_idx['mj'])    # 6040명의 유저 중 마지막으로 추가된 유저이니 6039가 나와야 한다. \n",
    "print(movie_to_idx['seven se7en'])"
   ]
  },
  {
   "cell_type": "code",
   "execution_count": 39,
   "id": "e2abe77d",
   "metadata": {},
   "outputs": [
    {
     "name": "stdout",
     "output_type": "stream",
     "text": [
      "user_id column indexing OK!!\n",
      "title column indexing OK!!\n"
     ]
    },
    {
     "data": {
      "text/html": [
       "<div>\n",
       "<style scoped>\n",
       "    .dataframe tbody tr th:only-of-type {\n",
       "        vertical-align: middle;\n",
       "    }\n",
       "\n",
       "    .dataframe tbody tr th {\n",
       "        vertical-align: top;\n",
       "    }\n",
       "\n",
       "    .dataframe thead th {\n",
       "        text-align: right;\n",
       "    }\n",
       "</style>\n",
       "<table border=\"1\" class=\"dataframe\">\n",
       "  <thead>\n",
       "    <tr style=\"text-align: right;\">\n",
       "      <th></th>\n",
       "      <th>user_id</th>\n",
       "      <th>movie_id</th>\n",
       "      <th>counts</th>\n",
       "      <th>title</th>\n",
       "    </tr>\n",
       "  </thead>\n",
       "  <tbody>\n",
       "    <tr>\n",
       "      <th>0</th>\n",
       "      <td>0</td>\n",
       "      <td>1193</td>\n",
       "      <td>5</td>\n",
       "      <td>0</td>\n",
       "    </tr>\n",
       "    <tr>\n",
       "      <th>1</th>\n",
       "      <td>1</td>\n",
       "      <td>1193</td>\n",
       "      <td>5</td>\n",
       "      <td>0</td>\n",
       "    </tr>\n",
       "    <tr>\n",
       "      <th>2</th>\n",
       "      <td>2</td>\n",
       "      <td>1193</td>\n",
       "      <td>4</td>\n",
       "      <td>0</td>\n",
       "    </tr>\n",
       "    <tr>\n",
       "      <th>3</th>\n",
       "      <td>3</td>\n",
       "      <td>1193</td>\n",
       "      <td>4</td>\n",
       "      <td>0</td>\n",
       "    </tr>\n",
       "    <tr>\n",
       "      <th>4</th>\n",
       "      <td>4</td>\n",
       "      <td>1193</td>\n",
       "      <td>5</td>\n",
       "      <td>0</td>\n",
       "    </tr>\n",
       "    <tr>\n",
       "      <th>...</th>\n",
       "      <td>...</td>\n",
       "      <td>...</td>\n",
       "      <td>...</td>\n",
       "      <td>...</td>\n",
       "    </tr>\n",
       "    <tr>\n",
       "      <th>0</th>\n",
       "      <td>6039</td>\n",
       "      <td>593</td>\n",
       "      <td>4</td>\n",
       "      <td>121</td>\n",
       "    </tr>\n",
       "    <tr>\n",
       "      <th>1</th>\n",
       "      <td>6039</td>\n",
       "      <td>47</td>\n",
       "      <td>5</td>\n",
       "      <td>220</td>\n",
       "    </tr>\n",
       "    <tr>\n",
       "      <th>2</th>\n",
       "      <td>6039</td>\n",
       "      <td>2762</td>\n",
       "      <td>5</td>\n",
       "      <td>38</td>\n",
       "    </tr>\n",
       "    <tr>\n",
       "      <th>3</th>\n",
       "      <td>6039</td>\n",
       "      <td>2959</td>\n",
       "      <td>5</td>\n",
       "      <td>273</td>\n",
       "    </tr>\n",
       "    <tr>\n",
       "      <th>4</th>\n",
       "      <td>6039</td>\n",
       "      <td>2571</td>\n",
       "      <td>5</td>\n",
       "      <td>124</td>\n",
       "    </tr>\n",
       "  </tbody>\n",
       "</table>\n",
       "<p>836483 rows × 4 columns</p>\n",
       "</div>"
      ],
      "text/plain": [
       "    user_id  movie_id  counts  title\n",
       "0         0      1193       5      0\n",
       "1         1      1193       5      0\n",
       "2         2      1193       4      0\n",
       "3         3      1193       4      0\n",
       "4         4      1193       5      0\n",
       "..      ...       ...     ...    ...\n",
       "0      6039       593       4    121\n",
       "1      6039        47       5    220\n",
       "2      6039      2762       5     38\n",
       "3      6039      2959       5    273\n",
       "4      6039      2571       5    124\n",
       "\n",
       "[836483 rows x 4 columns]"
      ]
     },
     "execution_count": 39,
     "metadata": {},
     "output_type": "execute_result"
    }
   ],
   "source": [
    "# indexing을 통해 데이터 컬럼 내 값을 바꾸는 코드\n",
    "\n",
    "# user_to_idx.get을 통해 user_id 컬럼의 모든 값을 인덱싱한 Series를 구해 본다.\n",
    "# 혹시 정상적으로 인덱싱되지 않은 row가 있다면 인덱스가 NaN이 될 테니 dropna()로 제거한다. \n",
    "temp_user_data = ratings_add['user_id'].map(user_to_idx.get).dropna()\n",
    "if len(temp_user_data) == len(ratings_add):   # 모든 row가 정상적으로 인덱싱되었다면\n",
    "    print('user_id column indexing OK!!')\n",
    "    ratings_add['user_id'] = temp_user_data   # data['user_id']을 인덱싱된 Series로 교체해준다. \n",
    "else:\n",
    "    print('user_id column indexing Fail!!')\n",
    "\n",
    "# movie_to_idx을 통해 artist 컬럼도 동일한 방식으로 인덱싱한다. \n",
    "temp_movie_data = ratings_add['title'].map(movie_to_idx.get).dropna()\n",
    "if len(temp_movie_data) == len(ratings_add):\n",
    "    print('title column indexing OK!!')\n",
    "    ratings_add['title'] = temp_movie_data\n",
    "else:\n",
    "    print('title column indexing Fail!!')\n",
    "\n",
    "ratings_add"
   ]
  },
  {
   "cell_type": "markdown",
   "id": "91997aff",
   "metadata": {},
   "source": [
    "* data column 값을 indexing 값으로 교체\n",
    "* user_to_idx.get을 통해 user_id 컬럼의 모든 값을 인덱싱\n",
    "* movie_to_idx을 통해 title 컬럼도 동일한 방식으로 인덱싱"
   ]
  },
  {
   "cell_type": "code",
   "execution_count": 40,
   "id": "1438f566",
   "metadata": {},
   "outputs": [
    {
     "data": {
      "text/plain": [
       "<6040x3586 sparse matrix of type '<class 'numpy.int64'>'\n",
       "\twith 834213 stored elements in Compressed Sparse Row format>"
      ]
     },
     "execution_count": 40,
     "metadata": {},
     "output_type": "execute_result"
    }
   ],
   "source": [
    "num_user = ratings_add['user_id'].nunique()\n",
    "num_movie = ratings_add['title'].nunique()\n",
    "\n",
    "csr_data = csr_matrix((ratings_add.counts, (ratings_add.user_id, ratings_add.title)), shape= (num_user, num_movie))\n",
    "csr_data"
   ]
  },
  {
   "cell_type": "markdown",
   "id": "2f18cac9",
   "metadata": {},
   "source": [
    "### 7. Model(als_model = AlternatingLeastSquares) Training"
   ]
  },
  {
   "cell_type": "code",
   "execution_count": 41,
   "id": "abca553f",
   "metadata": {},
   "outputs": [],
   "source": [
    "# implicit 라이브러리에서 권장하고 있는 부분. 학습 내용과는 무관하다.\n",
    "os.environ['OPENBLAS_NUM_THREADS']='1'\n",
    "os.environ['KMP_DUPLICATE_LIB_OK']='True'\n",
    "os.environ['MKL_NUM_THREADS']='1'"
   ]
  },
  {
   "cell_type": "code",
   "execution_count": 42,
   "id": "d52da931",
   "metadata": {},
   "outputs": [],
   "source": [
    "# Implicit AlternatingLeastSquares 모델의 선언\n",
    "als_model = AlternatingLeastSquares(factors=100, regularization=0.01, use_gpu=False, iterations=15, dtype=np.float32)"
   ]
  },
  {
   "cell_type": "code",
   "execution_count": 43,
   "id": "7d6cd2a8",
   "metadata": {},
   "outputs": [
    {
     "data": {
      "text/plain": [
       "<3586x6040 sparse matrix of type '<class 'numpy.int64'>'\n",
       "\twith 834213 stored elements in Compressed Sparse Column format>"
      ]
     },
     "execution_count": 43,
     "metadata": {},
     "output_type": "execute_result"
    }
   ],
   "source": [
    "# als 모델은 input으로 item X user 꼴의 matrix를 받기 때문에 Transpose해준다. (행렬곱 연산)\n",
    "csr_data_transpose = csr_data.T\n",
    "csr_data_transpose"
   ]
  },
  {
   "cell_type": "code",
   "execution_count": 44,
   "id": "b2f78e3a",
   "metadata": {},
   "outputs": [
    {
     "data": {
      "application/vnd.jupyter.widget-view+json": {
       "model_id": "241d835ccb49495b8379ec5b4718d5f5",
       "version_major": 2,
       "version_minor": 0
      },
      "text/plain": [
       "  0%|          | 0/15 [00:00<?, ?it/s]"
      ]
     },
     "metadata": {},
     "output_type": "display_data"
    }
   ],
   "source": [
    "# 모델 훈련\n",
    "als_model.fit(csr_data_transpose)"
   ]
  },
  {
   "cell_type": "markdown",
   "id": "87888714",
   "metadata": {},
   "source": [
    "### 8. Preference Predicted by the Trained Model"
   ]
  },
  {
   "cell_type": "markdown",
   "id": "3b72f67a",
   "metadata": {},
   "source": [
    "* model을 이용하여 나의 벡터와 영화 벡터를 구한다.\n",
    "* 내가 선호하는 영화(seven)와 선호 리스트에 없는 영화(godfather)의 벡터를 계산해 비교해본다."
   ]
  },
  {
   "cell_type": "markdown",
   "id": "a6db3833",
   "metadata": {},
   "source": [
    "### 8.1 My Favorite Movie"
   ]
  },
  {
   "cell_type": "code",
   "execution_count": 45,
   "id": "54126872",
   "metadata": {},
   "outputs": [],
   "source": [
    "mj, se7en = user_to_idx['mj'], movie_to_idx['seven se7en']\n",
    "mj_vector, se7en_vector = als_model.user_factors[mj], als_model.item_factors[se7en]"
   ]
  },
  {
   "cell_type": "code",
   "execution_count": 46,
   "id": "5adfa5eb",
   "metadata": {},
   "outputs": [
    {
     "data": {
      "text/plain": [
       "array([ 0.48173556, -0.14442107, -0.4442842 , -0.24061742,  0.22410035,\n",
       "       -0.21958143, -0.51620555, -0.19737498,  0.2650092 ,  0.5265553 ,\n",
       "       -0.30797353,  0.78150326, -0.02095373, -0.14865068,  0.02001044,\n",
       "       -0.23728333,  0.69246477,  0.00830308,  0.4725934 ,  1.0253422 ,\n",
       "       -0.20773399, -0.8542213 ,  0.75041515, -0.7158263 ,  0.05439601,\n",
       "       -0.2863807 ,  0.7013089 , -0.18866596, -0.5078014 , -0.77219075,\n",
       "       -0.56283987, -0.1972529 ,  0.38264582,  0.5398723 , -0.51748884,\n",
       "        0.20401233, -0.14160767, -0.06625241, -0.03293229, -0.29385716,\n",
       "        0.5014702 ,  0.44223714,  1.0519953 , -0.41882536, -0.5754148 ,\n",
       "        0.3250834 ,  0.10086742, -0.36874792, -0.08498746,  0.3059473 ,\n",
       "        1.0098597 ,  0.23619683,  0.2946272 , -0.9929341 , -0.8559788 ,\n",
       "        0.13099502,  0.3625398 ,  0.4423906 , -0.17344229,  0.39181834,\n",
       "        0.3641931 ,  0.21478352,  0.66652304,  0.52950156,  0.3254421 ,\n",
       "       -0.57151484, -0.56967413,  0.12935409, -1.0096629 , -0.5231922 ,\n",
       "       -0.8704077 , -0.31852016,  0.6485361 ,  0.37351617, -0.5151498 ,\n",
       "        0.980219  ,  0.21895285,  0.22552565, -0.28601137, -0.28187206,\n",
       "        0.87044317, -0.09296271,  0.06022744,  0.9126263 ,  0.22579774,\n",
       "        0.10417689, -0.39404586, -0.10287871,  0.14206871,  0.31169674,\n",
       "       -0.18689954,  1.5677923 ,  0.14568429, -0.5185452 ,  0.49752277,\n",
       "       -1.9222394 ,  0.07294165, -0.6584537 , -0.33458242, -0.25744274],\n",
       "      dtype=float32)"
      ]
     },
     "execution_count": 46,
     "metadata": {},
     "output_type": "execute_result"
    }
   ],
   "source": [
    "# 나의 벡터\n",
    "mj_vector"
   ]
  },
  {
   "cell_type": "code",
   "execution_count": 47,
   "id": "b9258592",
   "metadata": {},
   "outputs": [
    {
     "data": {
      "text/plain": [
       "array([ 0.02310537, -0.00338841,  0.02389567,  0.01775168,  0.00098187,\n",
       "       -0.01080042,  0.00921595, -0.00241644,  0.01933544,  0.00951943,\n",
       "       -0.01457715,  0.03460276, -0.0091477 ,  0.00136628, -0.0012719 ,\n",
       "       -0.00465814,  0.01588145,  0.0160749 ,  0.01082637,  0.01438681,\n",
       "       -0.00568538, -0.00255007,  0.01494033, -0.01088815,  0.00638323,\n",
       "       -0.00075368,  0.00577525,  0.01285067, -0.01043795, -0.00325631,\n",
       "       -0.01154234,  0.01753259, -0.00137952,  0.00581206,  0.00517479,\n",
       "        0.01916591,  0.0010244 , -0.0080434 , -0.00414785,  0.01572289,\n",
       "        0.0043545 ,  0.02786227,  0.01378566,  0.00130668, -0.00312859,\n",
       "       -0.0005816 ,  0.02305298, -0.00037796,  0.00550752, -0.00282461,\n",
       "        0.02905129,  0.00400773, -0.00767001, -0.00569523, -0.01960374,\n",
       "        0.01873208,  0.00695017,  0.01670563, -0.00350633,  0.0295751 ,\n",
       "       -0.02016102,  0.01029124,  0.03892608,  0.01175869,  0.02843239,\n",
       "       -0.01226844, -0.00017415,  0.02769531, -0.00734543, -0.00913862,\n",
       "        0.0131531 , -0.01528136,  0.01226152,  0.00455521, -0.00614957,\n",
       "        0.026395  ,  0.02753802,  0.0297167 , -0.00398004, -0.00578515,\n",
       "       -0.00076595,  0.01936176,  0.00103596,  0.01650628, -0.00561857,\n",
       "        0.01181602,  0.0048278 ,  0.00073101, -0.03366308,  0.02222959,\n",
       "       -0.00218516,  0.06339277,  0.00331365,  0.00752908, -0.00128312,\n",
       "       -0.0419002 ,  0.03822759, -0.01271037,  0.00734844,  0.00665055],\n",
       "      dtype=float32)"
      ]
     },
     "execution_count": 47,
     "metadata": {},
     "output_type": "execute_result"
    }
   ],
   "source": [
    "# 영화 벡터\n",
    "se7en_vector"
   ]
  },
  {
   "cell_type": "code",
   "execution_count": 48,
   "id": "91226a9b",
   "metadata": {},
   "outputs": [
    {
     "data": {
      "text/plain": [
       "0.51300794"
      ]
     },
     "execution_count": 48,
     "metadata": {},
     "output_type": "execute_result"
    }
   ],
   "source": [
    "# mj와 se7en을 내적하는 코드\n",
    "np.dot(mj_vector, se7en_vector)"
   ]
  },
  {
   "cell_type": "markdown",
   "id": "d4633581",
   "metadata": {},
   "source": [
    "### 8.2 Not My Favorite Movie"
   ]
  },
  {
   "cell_type": "code",
   "execution_count": 49,
   "id": "f76b0039",
   "metadata": {},
   "outputs": [
    {
     "data": {
      "text/plain": [
       "-0.022158884"
      ]
     },
     "execution_count": 49,
     "metadata": {},
     "output_type": "execute_result"
    }
   ],
   "source": [
    "godfather = movie_to_idx['godfather, the']\n",
    "godfather_vector = als_model.item_factors[godfather]\n",
    "np.dot(mj_vector, godfather_vector)"
   ]
  },
  {
   "cell_type": "markdown",
   "id": "775757aa",
   "metadata": {},
   "source": [
    "* 내가 선호하는 영화의 내적 값은 0.51로 비교적 높은 값을 보이고,\n",
    "* 선호 리스트에 없는 영화의 내적 값은 -0.02으로 비교적 낮은 값이 출력되는 것을 확인할 수 있다."
   ]
  },
  {
   "cell_type": "markdown",
   "id": "e3f11f2c",
   "metadata": {},
   "source": [
    "### 9. Get Recommendations (Similar to My Favorite Movies)"
   ]
  },
  {
   "cell_type": "markdown",
   "id": "544bc187",
   "metadata": {},
   "source": [
    "* 내가 좋아하는 영화 벡터를 이용하여, input으로 주어진 영화와 비슷한 영화를 총 15개 출력"
   ]
  },
  {
   "cell_type": "code",
   "execution_count": 50,
   "id": "edbb5464",
   "metadata": {},
   "outputs": [
    {
     "data": {
      "text/plain": [
       "[(38, 0.9999998),\n",
       " (121, 0.49514106),\n",
       " (233, 0.469901),\n",
       " (792, 0.41314408),\n",
       " (220, 0.39167386),\n",
       " (3549, 0.38770354),\n",
       " (243, 0.38366485),\n",
       " (51, 0.3823663),\n",
       " (273, 0.37427172),\n",
       " (170, 0.35502964),\n",
       " (2531, 0.35091525),\n",
       " (3493, 0.3425057),\n",
       " (1916, 0.34130937),\n",
       " (141, 0.34077668),\n",
       " (124, 0.33345592)]"
      ]
     },
     "execution_count": 50,
     "metadata": {},
     "output_type": "execute_result"
    }
   ],
   "source": [
    "favorite_movie = 'sixth sense, the'\n",
    "movie_title = movie_to_idx[favorite_movie]\n",
    "similar_movie = als_model.similar_items(movie_title, N=15)\n",
    "similar_movie "
   ]
  },
  {
   "cell_type": "code",
   "execution_count": 51,
   "id": "57b6d244",
   "metadata": {},
   "outputs": [
    {
     "data": {
      "text/plain": [
       "['sixth sense, the',\n",
       " 'silence of the lambs, the',\n",
       " 'usual suspects, the',\n",
       " 'bone collector, the',\n",
       " 'seven se7en',\n",
       " \"heaven's burning\",\n",
       " 'ghostbusters',\n",
       " 'fargo',\n",
       " 'fight club',\n",
       " 'being john malkovich',\n",
       " 'flawless',\n",
       " 'project moon base',\n",
       " 'superstar',\n",
       " 'fugitive, the',\n",
       " 'matrix, the']"
      ]
     },
     "execution_count": 51,
     "metadata": {},
     "output_type": "execute_result"
    }
   ],
   "source": [
    "# movie_to_idx 를 뒤집어, index로부터 movie 이름을 얻는 dict를 생성한다.\n",
    "idx_to_movie = {v:k for k,v in movie_to_idx.items()}\n",
    "[idx_to_movie[i[0]] for i in similar_movie]"
   ]
  },
  {
   "cell_type": "markdown",
   "id": "1b2ef5bd",
   "metadata": {},
   "source": [
    "* index 값을 이용하여 영화의 이름을 출력"
   ]
  },
  {
   "cell_type": "code",
   "execution_count": 52,
   "id": "bdc19dbe",
   "metadata": {},
   "outputs": [],
   "source": [
    "def get_similar_movie(movie_name: str):\n",
    "    movie_title = movie_to_idx[movie_name]\n",
    "    similar_movie = als_model.similar_items(movie_title)\n",
    "    similar_movie = [idx_to_movie[i[0]] for i in similar_movie]\n",
    "    return similar_movie"
   ]
  },
  {
   "cell_type": "markdown",
   "id": "7abbf71b",
   "metadata": {},
   "source": [
    "* 앞서 작성한 코드인, 내가 선호하는 영화와 비슷한 영화를 추천해주는 함수\n",
    "* 함수 내부에서 index 값을 이용하여 input으로 주어진 영화와 비슷한 영화의 제목 출력"
   ]
  },
  {
   "cell_type": "markdown",
   "id": "cfccd527",
   "metadata": {},
   "source": [
    "* `양들의 침묵`과 비슷한 영화"
   ]
  },
  {
   "cell_type": "code",
   "execution_count": 53,
   "id": "f3128f9c",
   "metadata": {},
   "outputs": [
    {
     "data": {
      "text/plain": [
       "['silence of the lambs, the',\n",
       " 'shawshank redemption, the',\n",
       " 'fargo',\n",
       " 'pulp fiction',\n",
       " 'goodfellas',\n",
       " \"schindler's list\",\n",
       " 'usual suspects, the',\n",
       " 'sling blade',\n",
       " 'sixth sense, the',\n",
       " 'good will hunting']"
      ]
     },
     "execution_count": 53,
     "metadata": {},
     "output_type": "execute_result"
    }
   ],
   "source": [
    "get_similar_movie('silence of the lambs, the')"
   ]
  },
  {
   "cell_type": "markdown",
   "id": "47ce3775",
   "metadata": {},
   "source": [
    "* `파이트 클럽`과 비슷한 영화"
   ]
  },
  {
   "cell_type": "code",
   "execution_count": 54,
   "id": "b2466805",
   "metadata": {},
   "outputs": [
    {
     "data": {
      "text/plain": [
       "['fight club',\n",
       " 'eyes wide shut',\n",
       " 'man on the moon',\n",
       " 'boiler room',\n",
       " 'american history x',\n",
       " 'bringing out the dead',\n",
       " 'messenger: the story of joan of arc, the',\n",
       " 'sixth sense, the',\n",
       " \"boys don't cry\",\n",
       " 'eraserhead']"
      ]
     },
     "execution_count": 54,
     "metadata": {},
     "output_type": "execute_result"
    }
   ],
   "source": [
    "get_similar_movie('fight club')"
   ]
  },
  {
   "cell_type": "markdown",
   "id": "306c90ad",
   "metadata": {},
   "source": [
    "### 10. Get Recommendations (Favorite Movies)"
   ]
  },
  {
   "cell_type": "markdown",
   "id": "ea390e7f",
   "metadata": {},
   "source": [
    "* 나의 벡터를 이용하여, 내가 선호하는 영화들과 비슷한 영화들 추천받기"
   ]
  },
  {
   "cell_type": "code",
   "execution_count": 55,
   "id": "d57e32f3",
   "metadata": {},
   "outputs": [
    {
     "data": {
      "text/plain": [
       "[(233, 0.48502973),\n",
       " (92, 0.43293467),\n",
       " (51, 0.42285532),\n",
       " (222, 0.40724882),\n",
       " (289, 0.37986898),\n",
       " (157, 0.3411256),\n",
       " (141, 0.30125314),\n",
       " (471, 0.2898241),\n",
       " (81, 0.28047615),\n",
       " (200, 0.26896447),\n",
       " (248, 0.24857387),\n",
       " (372, 0.23546138),\n",
       " (62, 0.2300835),\n",
       " (99, 0.2217252),\n",
       " (269, 0.21945587)]"
      ]
     },
     "execution_count": 55,
     "metadata": {},
     "output_type": "execute_result"
    }
   ],
   "source": [
    "user = user_to_idx['mj']\n",
    "\n",
    "movie_recommended = als_model.recommend(user, csr_data, N=15, filter_already_liked_items=True)\n",
    "movie_recommended"
   ]
  },
  {
   "cell_type": "markdown",
   "id": "d572154a",
   "metadata": {},
   "source": [
    "* 추천받은 영화들을 index 값으로 반환"
   ]
  },
  {
   "cell_type": "code",
   "execution_count": 56,
   "id": "9c37d7bf",
   "metadata": {},
   "outputs": [
    {
     "data": {
      "text/plain": [
       "['usual suspects, the',\n",
       " 'terminator 2: judgment day',\n",
       " 'fargo',\n",
       " 'pulp fiction',\n",
       " 'reservoir dogs',\n",
       " 'shawshank redemption, the',\n",
       " 'fugitive, the',\n",
       " 'sling blade',\n",
       " 'green mile, the',\n",
       " 'terminator, the',\n",
       " 'good will hunting',\n",
       " 'x-men',\n",
       " 'total recall',\n",
       " 'american beauty',\n",
       " 'goodfellas']"
      ]
     },
     "execution_count": 56,
     "metadata": {},
     "output_type": "execute_result"
    }
   ],
   "source": [
    "[idx_to_movie[i[0]] for i in movie_recommended]"
   ]
  },
  {
   "cell_type": "markdown",
   "id": "b4853bc8",
   "metadata": {},
   "source": [
    "* 사용자의 선호 영화 리스트에 있는 영화들이 영화 추천에 어느정도 기여했는지 기여도 확인"
   ]
  },
  {
   "cell_type": "code",
   "execution_count": 57,
   "id": "59ac5c6c",
   "metadata": {},
   "outputs": [],
   "source": [
    "# 왜 나에게 american beauty를 추천해줬을까?\n",
    "american_beauty = movie_to_idx['american beauty']\n",
    "explain = als_model.explain(user, csr_data, itemid=american_beauty)"
   ]
  },
  {
   "cell_type": "code",
   "execution_count": 58,
   "id": "432b86bb",
   "metadata": {},
   "outputs": [
    {
     "data": {
      "text/plain": [
       "[('silence of the lambs, the', 0.10353576721301258),\n",
       " ('fight club', 0.08605739279199809),\n",
       " ('sixth sense, the', 0.08157546500394625),\n",
       " ('matrix, the', -0.006500777147630445),\n",
       " ('seven se7en', -0.049926287204732134)]"
      ]
     },
     "execution_count": 58,
     "metadata": {},
     "output_type": "execute_result"
    }
   ],
   "source": [
    "[(idx_to_movie[i[0]], i[1]) for i in explain[1]]"
   ]
  },
  {
   "cell_type": "markdown",
   "id": "7c0e1816",
   "metadata": {},
   "source": [
    "* 'american beauty'에 대한 기여도를 확인한 결과, 'silence of the lambs, the'가 0.103 정도로 꽤 높은 기여를 함"
   ]
  },
  {
   "cell_type": "code",
   "execution_count": 61,
   "id": "33e95367",
   "metadata": {},
   "outputs": [],
   "source": [
    "# 왜 나에게 star wars를 추천해줬을까?\n",
    "star_wars = movie_to_idx['usual suspects, the']\n",
    "explain = als_model.explain(user, csr_data, itemid=star_wars)"
   ]
  },
  {
   "cell_type": "code",
   "execution_count": 62,
   "id": "bd4537a1",
   "metadata": {},
   "outputs": [
    {
     "data": {
      "text/plain": [
       "[('seven se7en', 0.16981737303956496),\n",
       " ('sixth sense, the', 0.13371977429658755),\n",
       " ('silence of the lambs, the', 0.13313033894103896),\n",
       " ('matrix, the', 0.03494568089932704),\n",
       " ('fight club', 0.004926966160653684)]"
      ]
     },
     "execution_count": 62,
     "metadata": {},
     "output_type": "execute_result"
    }
   ],
   "source": [
    "[(idx_to_movie[i[0]], i[1]) for i in explain[1]]"
   ]
  },
  {
   "cell_type": "markdown",
   "id": "13f0cfb3",
   "metadata": {},
   "source": [
    "* 'usual suspects, the'에 대한 기여도를 확인한 결과, 'seven se7en'가 0.169 정도로 꽤 높은 기여를 함"
   ]
  },
  {
   "cell_type": "markdown",
   "id": "81ed5c9a",
   "metadata": {},
   "source": [
    "### 11. Retrospection"
   ]
  },
  {
   "cell_type": "markdown",
   "id": "f63d58b8",
   "metadata": {},
   "source": [
    "### 11.1 What was difficult"
   ]
  },
  {
   "cell_type": "markdown",
   "id": "fc94e4fe",
   "metadata": {},
   "source": [
    "* LMS를 참고한 덕분에 큰 어려움 없이 진행할 수 있었다."
   ]
  },
  {
   "cell_type": "markdown",
   "id": "238e6f59",
   "metadata": {},
   "source": [
    "### 11.2 What I found out"
   ]
  },
  {
   "cell_type": "markdown",
   "id": "26a60d8f",
   "metadata": {},
   "source": [
    "* Matrix Factorization(MF)와 CSR(Compressed Sparse Row) Matrix에 대한 이해\n",
    "* `merge()` 함수 사용"
   ]
  },
  {
   "cell_type": "markdown",
   "id": "ea610572",
   "metadata": {},
   "source": [
    "### 11.3 What I want to know more about"
   ]
  },
  {
   "cell_type": "markdown",
   "id": "7e2a3720",
   "metadata": {},
   "source": [
    "* 행렬 계산에 대한 공부가 더 필요할 듯하다. 😂\n",
    "* 추천이 잘 되었는지에 대한 객관적인 판단 지표에 대한 공부를 하면 더 나은 해석이 될 듯하다."
   ]
  },
  {
   "cell_type": "markdown",
   "id": "06bfd418",
   "metadata": {},
   "source": [
    "### 11.4 Self-Resolution"
   ]
  },
  {
   "cell_type": "markdown",
   "id": "8ea7d4a2",
   "metadata": {},
   "source": [
    "* data의 경우, 평점과 제목이 2개의 파일로 나눠져 있었다. 평점과 영화 제목의 경우, 많이 사용하는 데이터이기 때문에, merge를 이용하여 두 개의 dataframe을 하나로 합쳐서 사용하였다.\n",
    "* 결과를 보면, 선호 영화 리스트에 있는 `seven`의 벡터 내적 값은 약 0.51로, 나름 높은 값을 얻었고, `godfather`라는 영화와의 벡터 내적 값은 약 -0.02정도로 굉장히 낮은 값을 얻었다.\n",
    "* `godfather`도 개인적으로 좋아하는 영화이기에 추천 시스템의 신뢰도가 조금 낮다고 볼 수 있을 것 같다.\n",
    "* 이번 노드에서는 추천 시스템이 단순히 5개의 영화와 시청 횟수로만 나의 취향 반영되었기에 추천시스템이 신뢰할만한 결과를 내지 못하는 것은 당연한 결과처럼 느껴진다.\n",
    "* 또한 나처럼 연애, 로맨스를 제외한 장르면 상관이 없는 (다양한 장르를 선호하는) 사람의 경우에는 '좋아하는 것이 어떤 것이다.'라고 명확하게 정의내리지 못하므로 좀 더 어려울 수도 있을 것 같다.\n",
    "* 사람 마음에 꼭 들게 추천하는 것은 참 어려운 일인 것 같다."
   ]
  },
  {
   "cell_type": "markdown",
   "id": "bd0875ca",
   "metadata": {},
   "source": [
    "**[References]**"
   ]
  },
  {
   "cell_type": "markdown",
   "id": "73765604",
   "metadata": {},
   "source": [
    "* https://wikidocs.net/48798\n",
    "* http://melonicedlatte.com/datascience/2019/01/26/190736.html"
   ]
  }
 ],
 "metadata": {
  "kernelspec": {
   "display_name": "Python 3 (ipykernel)",
   "language": "python",
   "name": "python3"
  },
  "language_info": {
   "codemirror_mode": {
    "name": "ipython",
    "version": 3
   },
   "file_extension": ".py",
   "mimetype": "text/x-python",
   "name": "python",
   "nbconvert_exporter": "python",
   "pygments_lexer": "ipython3",
   "version": "3.9.7"
  }
 },
 "nbformat": 4,
 "nbformat_minor": 5
}
