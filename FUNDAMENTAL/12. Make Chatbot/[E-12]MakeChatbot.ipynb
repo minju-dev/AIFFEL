{
 "cells": [
  {
   "cell_type": "markdown",
   "id": "4333831b",
   "metadata": {},
   "source": [
    "## Exploration 12. MakeChatbot 💬"
   ]
  },
  {
   "attachments": {
    "image.png": {
     "image/png": "[encoded data removed]"
    }
   },
   "cell_type": "markdown",
   "id": "f02446b5",
   "metadata": {},
   "source": [
    "![image.png](attachment:image.png)"
   ]
  },
  {
   "cell_type": "markdown",
   "id": "9cd2a392",
   "metadata": {},
   "source": [
    "### Table of Centents"
   ]
  },
  {
   "cell_type": "markdown",
   "id": "6c7eb21d",
   "metadata": {},
   "source": [
    "### 1. Introduction"
   ]
  },
  {
   "cell_type": "markdown",
   "id": "710572b2",
   "metadata": {},
   "source": [
    "* 1.1 Limitations of seq2seq Model\n",
    "* 1.2 What is Transformer? (Simply)\n",
    "* 1.3 Transformer's Main Hyperparameters"
   ]
  },
  {
   "cell_type": "markdown",
   "id": "ab790170",
   "metadata": {},
   "source": [
    "### 2. Understanding Transformer(1) (A High-Level Look)"
   ]
  },
  {
   "cell_type": "markdown",
   "id": "4ef91a23",
   "metadata": {},
   "source": [
    "### 3. Understanding Transformer(2) (A Low-Level(Tensor) Look)"
   ]
  },
  {
   "cell_type": "markdown",
   "id": "73ab9ed5",
   "metadata": {},
   "source": [
    "### 4. Transformer"
   ]
  },
  {
   "cell_type": "markdown",
   "id": "e9dcb250",
   "metadata": {},
   "source": [
    "* 4.1 Positional Encoding\n",
    "* 4.2 Attention\n",
    "* 4.3 Encoder Self-Attention\n",
    "* 4.4 Position-wise FFNN\n",
    "* 4.5 Residual connection and Layer Normalization\n",
    "* 4.6 From Encoder To Decoder\n",
    "* 4.7 Decoder First Sub-Layer : Self-Attention and Look Ahead Mask\n",
    "* 4.8 Decoder Second Sub-Layer : Encoder-Decoder Attention\n",
    "* 4.9 The Decoder Side\n",
    "* 4.10 The Final Linear and Softmax Layer"
   ]
  },
  {
   "cell_type": "markdown",
   "id": "fe7bc38a",
   "metadata": {},
   "source": [
    "### 5. Recap Of Training"
   ]
  },
  {
   "cell_type": "markdown",
   "id": "966daf21",
   "metadata": {},
   "source": [
    "* 5.1 Encoding\n",
    "* 5.2 Loss Function"
   ]
  },
  {
   "cell_type": "markdown",
   "id": "9e40287e",
   "metadata": {},
   "source": [
    "### 6. Import Libraries"
   ]
  },
  {
   "cell_type": "markdown",
   "id": "022529ec",
   "metadata": {},
   "source": [
    "### 7. Transformer Implementation"
   ]
  },
  {
   "cell_type": "markdown",
   "id": "6f594784",
   "metadata": {},
   "source": [
    "* 7.1 Positional Encoding\n",
    "* 7.2 Scaled dot-product Attention + Mask\n",
    "* 7.3 Multi-head Attention\n",
    "* 7.4 Mask\n",
    "* 7.5 Position-wise FFNN\n",
    "* 7.6 Encoder\n",
    "* 7.7 Decoder\n",
    "* 7.8 Transformer\n",
    "* 7.9 Loss Function\n",
    "* 7.10 Learning Rate Scheduler"
   ]
  },
  {
   "cell_type": "markdown",
   "id": "229927b3",
   "metadata": {},
   "source": [
    "### 8. Make Chatbot"
   ]
  },
  {
   "cell_type": "markdown",
   "id": "5c20ea71",
   "metadata": {},
   "source": [
    "* 8.1 Load Data\n",
    "* 8.2 Data Preprocessing\n",
    "* 8.3 Create Vocabulary\n",
    "* 8.4 Integer Encoding and Padding\n",
    "* 8.5 Using Teacher Forcing"
   ]
  },
  {
   "cell_type": "markdown",
   "id": "48c70638",
   "metadata": {},
   "source": [
    "### 9. Model Defining and Training"
   ]
  },
  {
   "cell_type": "markdown",
   "id": "03178f29",
   "metadata": {},
   "source": [
    "### 10. Testing Chatbot"
   ]
  },
  {
   "cell_type": "markdown",
   "id": "23fd8dfa",
   "metadata": {},
   "source": [
    "### 11. Retrospection"
   ]
  },
  {
   "cell_type": "markdown",
   "id": "3d976203",
   "metadata": {},
   "source": [
    "***"
   ]
  },
  {
   "cell_type": "markdown",
   "id": "04676b9d",
   "metadata": {},
   "source": [
    "### 1. Introduction"
   ]
  },
  {
   "cell_type": "markdown",
   "id": "a9394c7e",
   "metadata": {},
   "source": [
    "### 1.1 Limitations of seq2seq Model"
   ]
  },
  {
   "cell_type": "markdown",
   "id": "616b735d",
   "metadata": {},
   "source": [
    "기존의 seq2seq 모델은 인코더-디코더 구조로 구성되어져 있었다. 여기서 인코더는 입력 시퀀스를 하나의 벡터 표현으로 압축하고, 디코더는 이 벡터 표현을 통해서 출력 시퀀스를 만들어냈다. 하지만 이러한 구조는 인코더가 입력 시퀀스를 하나의 벡터로 압축하는 과정에서 입력 시퀀스의 정보가 일부 손실된다는 단점이 있었고, 이를 보정하기 위해 어텐션이 사용되었다. 그런데 어텐션을 RNN의 보정을 위한 용도로서 사용하는 것이 아니라 어텐션만으로 인코더와 디코더를 만들어보면 어떨까?"
   ]
  },
  {
   "cell_type": "markdown",
   "id": "69b367dc",
   "metadata": {},
   "source": [
    "### 1.2 What is Transformer? (Simply)"
   ]
  },
  {
   "cell_type": "markdown",
   "id": "dd7a27a8",
   "metadata": {},
   "source": [
    "트랜스포머는 2017년 구글이 발표한 논문인 \"Attention is all you need\"에서 나온 모델로 기존의 seq2seq의 구조인 인코더-디코더를 따르면서도, 논문의 이름처럼 어텐션만으로 구현한 모델이다. 이 모델은 RNN을 사용하지 않고, 인코더-디코더 구조를 설계하였음에도 번역 성능에서도 RNN보다 우수한 성능을 보여주었다."
   ]
  },
  {
   "cell_type": "markdown",
   "id": "aba531c6",
   "metadata": {},
   "source": [
    "### 1.3 Transformer's Main Hyperparameters"
   ]
  },
  {
   "cell_type": "markdown",
   "id": "469176f3",
   "metadata": {},
   "source": [
    "시작에 앞서 트랜스포머의 하이퍼파라미터를 정의한다. 아래에서 정의하는 수치는 트랜스포머를 제안한 논문에서 사용한 수치로 하이퍼파라미터는 사용자가 모델 설계시 임의로 변경할 수 있는 값들이다.\n",
    "\n",
    "* $d_{model}$ = 512\n",
    "\n",
    "트랜스포머의 인코더와 디코더에서의 정해진 입력과 출력의 크기를 의미한다. 임베딩 벡터의 차원 또한 $d_{model}$이며, 각 인코더와 디코더가 다음 층의 인코더와 디코더로 값을 보낼 때에도 이 차원을 유지한다.\n",
    "\n",
    "* $num\\_layer$ = 6\n",
    "\n",
    "트랜스포머에서 하나의 인코더와 디코더를 층으로 생각하였을 때, 트랜스포머 모델에서 인코더와 디코더가 총 몇 층으로 구성되었는지를 의미한다.\n",
    "\n",
    "* $num\\_heads$ = 8\n",
    "\n",
    "트랜스포머에서는 어텐션을 사용할 때, 한 번 하는 것 보다 여러 개로 분할해서 병렬로 어텐션을 수행하고 결과값을 다시 하나로 합치는 방식을 택했다. 이때 이 병렬의 개수를 의미한다.\n",
    "\n",
    "* $d_{ff}$ = 2048\n",
    "\n",
    "트랜스포머 내부에는 피드 포워드 신경망이 존재하며 해당 신경망의 은닉층의 크기를 의미한다. 피드 포워드 신경망의 입력층과 출력층의 크기는 같다."
   ]
  },
  {
   "cell_type": "markdown",
   "id": "63da5561",
   "metadata": {},
   "source": [
    "### 2. Understanding Transformer(1) (A High-Level Look)"
   ]
  },
  {
   "cell_type": "markdown",
   "id": "ae1efd56",
   "metadata": {},
   "source": [
    "* 트랜스포머 부분을 하나의 블랙박스로 보자. 기계 번역의 경우를 예로 들면, 모델은 어떤 한 언어로 된 하나의 문장을 입력으로 받아 다른 언어로 된 번역을 출력으로 내놓을 것이다. "
   ]
  },
  {
   "cell_type": "markdown",
   "id": "48b2dbe9",
   "metadata": {},
   "source": [
    "<img src='https://nlpinkorean.github.io/images/transformer/the_transformer_3.png' height=\"300\" width=\"600\">"
   ]
  },
  {
   "cell_type": "markdown",
   "id": "63b4d4bc",
   "metadata": {},
   "source": [
    "<img src='https://nlpinkorean.github.io/images/transformer/The_transformer_encoder_decoder_stack.png' height=\"300\" width=\"600\">"
   ]
  },
  {
   "cell_type": "markdown",
   "id": "6c5e7b30",
   "metadata": {},
   "source": [
    "* 위 블랙박스를 열어 보게 되면 인코더 부분, 디코더 부분, 그리고 그 사이를 이어주는 연결고리들을 볼 수 있다. \n",
    "* 트랜스포머는 RNN을 사용하지 않지만 기존의 seq2seq처럼 인코더에서 입력 시퀀스를 입력받고, 디코더에서 출력 시퀀스를 출력하는 인코더-디코더 구조를 유지하고 있다. \n",
    "* 이전 seq2seq 구조에서는 인코더와 디코더에서 각각 하나의 RNN이 t개의 시점(time step)을 가지는 구조였다면 이번에는 인코더와 디코더라는 단위가 N개로 구성되는 구조이다.\n",
    "  * 인코더 부분: 여러 개의 인코더를 쌓아 올려 만든 것.\n",
    "  * 디코더 부분 : 인코더 부분과 동일한 개수만큼의 디코더를 쌓은 것.\n",
    "\n",
    "(논문에서는 6개를 쌓았지만, 꼭 6개를 쌓아야 하는 것은 아니고 각자의 세팅에 맞게 얼마든지 변경하여 실험할 수 있다.)"
   ]
  },
  {
   "cell_type": "markdown",
   "id": "be6c9328",
   "metadata": {},
   "source": [
    "* 인코더들은 모두 똑같은 구조를 가지고 있다.(하지만 인코더들 간에 같은 가중치를 공유하지는 않는다.) \n",
    "* 하나의 인코더를 나눠보면 아래와 같이 두 개의 sub-layer로 구성되어 있다."
   ]
  },
  {
   "cell_type": "markdown",
   "id": "a63706ae",
   "metadata": {},
   "source": [
    "<img src='https://nlpinkorean.github.io/images/transformer/Transformer_encoder.png' height=\"250\" width=\"500\">"
   ]
  },
  {
   "cell_type": "markdown",
   "id": "8ac21ec5",
   "metadata": {},
   "source": [
    "* 인코더에 들어온 입력은 일단 먼저 Self-Attention layer를 지나게 된다. \n",
    "* Self-Attention layer를 통과하여 나온 출력은 다시 Feed-Forward Neural Network layer(FFNN)으로 들어가게 된다. \n",
    "* 똑같은 FFNN이 각 위치의 단어마다 독립적으로 적용돼 출력을 만든다.\n",
    "* Self-Attention layer : 인코더가 하나의 특정한 단어를 인코드하기 위해서 입력 내의 모든 다른 단어들과의 관계를 살펴본다."
   ]
  },
  {
   "cell_type": "markdown",
   "id": "c13bd6cd",
   "metadata": {},
   "source": [
    "<img src='https://nlpinkorean.github.io/images/transformer/Transformer_decoder.png' height=\"300\" width=\"600\">"
   ]
  },
  {
   "cell_type": "markdown",
   "id": "204a444d",
   "metadata": {},
   "source": [
    "* 디코더 또한 인코더에 있는 두 layer 모두를 가지고 있다. \n",
    "* 그러나 그 두 층 사이에 seq2seq 모델의 어텐션과 비슷한 Encoder-Decoder Attention 이 포함되어 있다. \n",
    "* 이는 디코더가 입력 문장 중에서 각 타임 스텝에서 가장 관련 있는 부분에 집중할 수 있도록 해준다."
   ]
  },
  {
   "cell_type": "markdown",
   "id": "06ffa7e0",
   "metadata": {},
   "source": [
    "### 3. Understanding Transformer(2) (A Low-Level(Tensor) Look)"
   ]
  },
  {
   "cell_type": "markdown",
   "id": "4e13fb64",
   "metadata": {},
   "source": [
    "* 최근의 NLP 관련한 대부분 모델들처럼 트랜스포머도 입력 단어들을 인코딩 알고리즘을 통해 벡터로 바꾸어준다. \n",
    "* 각 단어들은 크기 512의 벡터 하나로 임베딩된다.(논문 기준)"
   ]
  },
  {
   "cell_type": "markdown",
   "id": "c3f21abc",
   "metadata": {},
   "source": [
    "<img src='https://nlpinkorean.github.io/images/transformer/embeddings.png' height=\"300\" width=\"600\">"
   ]
  },
  {
   "cell_type": "markdown",
   "id": "d55929ca",
   "metadata": {},
   "source": [
    "* 이 임베딩은 가장 밑단의 인코더에서만 일어난다. 이렇게 되면 아래와 같이 표현할 수 있게 된다. "
   ]
  },
  {
   "cell_type": "markdown",
   "id": "fd6a0000",
   "metadata": {},
   "source": [
    "<img src='https://nlpinkorean.github.io/images/transformer/encoder_with_tensors.png' height=\"300\" width=\"600\">"
   ]
  },
  {
   "cell_type": "markdown",
   "id": "1fa25803",
   "metadata": {},
   "source": [
    "* 모든 인코더들은 크기 512의 벡터 리스트를 입력으로 받는다. (이 벡터는 가장 밑단의 인코더 입장에서는 word embedding이 될 것이고, 다른 인코더들 입장에서는 바로 전의 인코더의 출력일 것이다. 벡터 리스트 사이즈는 hyperparameter로 마음대로 정할 수 있다. 일반적으로는 가장 긴 문장의 길이로 둔다.) \n",
    "* 입력 문장의 단어들을 임베딩한 후에, 각 단어에 해당하는 벡터들은 인코더 내의 두 개의 sub-layer로 들어가게 된다.\n",
    "* 여기에서 각 위치에 있는 단어가 그 단어만의 path를 통해 인코더에 흘러간다는 크랜스포머 모델의 주요 성질을 볼 수 있다. \n",
    "* Self-Attention layer에는 각 path들 사이에 dependency가 있다. \n",
    "* 반면, FFNN layer는 이런 dependency가 없기 때문에 다양한 path들은 병렬처리가 가능하다."
   ]
  },
  {
   "cell_type": "markdown",
   "id": "a3f1282b",
   "metadata": {},
   "source": [
    "<img src='https://nlpinkorean.github.io/images/transformer/encoder_with_tensors_2.png' height=\"300\" width=\"600\">"
   ]
  },
  {
   "cell_type": "markdown",
   "id": "bd4edf2e",
   "metadata": {},
   "source": [
    "* 인코더는 입력으로 벡터들의 리스트를 받는다. \n",
    "* 이 리스트를 먼저 Self-Attention layer에, 그다음으로 FFNN layer에 통과시키고 그 결과물을 그다음 인코더에게 전달한다. \n",
    "* 각 위치의 단어들은 각각 다른 self-encoding 과정을 거친다. 그 다음으로 모두에게 같은 과정인 FFNN layer를 거친다. "
   ]
  },
  {
   "cell_type": "markdown",
   "id": "9dc12660",
   "metadata": {},
   "source": [
    "### 4. Transformer"
   ]
  },
  {
   "cell_type": "markdown",
   "id": "f8919799",
   "metadata": {},
   "source": [
    "### 4.1 Positional Encoding"
   ]
  },
  {
   "cell_type": "markdown",
   "id": "7a1b5264",
   "metadata": {},
   "source": [
    "<img src='https://wikidocs.net/images/page/31379/transformer5_final_final.PNG' height=\"500\" width=\"500\">"
   ]
  },
  {
   "cell_type": "markdown",
   "id": "50cdb52c",
   "metadata": {},
   "source": [
    "* 이때까지 살펴본 트랜스포머에서 한 가지 부족한 부분은 이 모델이 입력 문장에서 단어들의 순서에 대해서 고려하고 있지 않다는 점이다. \n",
    "* RNN이 자연어 처리에서 유용했던 이유는 단어의 위치에 따라 단어를 순차적으로 입력받아서 처리하는 RNN의 특성으로 인해 각 단어의 위치 정보(position information)를 가질 수 있다는 점에 있었다. \n",
    "* 하지만 트랜스포머는 단어 입력을 순차적으로 받는 방식이 아니므로 단어의 위치 정보를 다른 방식으로 알려줄 필요가 있다.\n",
    "* 트랜스포머는 단어의 위치 정보를 얻기 위해서 각 단어의 임베딩 벡터에 위치 정보들을 더하여 모델의 입력으로 사용하는데, 이를 **Positional Encoding(포지셔널 인코딩)**이라고 한다.\n",
    "* 위의 그림은 입력으로 사용되는 임베딩 벡터들이 트랜스포머의 입력으로 사용되기 전에 포지셔널 인코딩의 값이 더해지는 것을 보여줍니다.\n",
    "* 임베딩 벡터가 인코더의 입력으로 사용되기 전 포지셔널 인코딩값이 더해지는 과정을 시각화하면 아래와 같다."
   ]
  },
  {
   "cell_type": "markdown",
   "id": "febf0d09",
   "metadata": {},
   "source": [
    "<img src='https://wikidocs.net/images/page/31379/transformer6_final.PNG' height=\"500\" width=\"500\">"
   ]
  },
  {
   "cell_type": "markdown",
   "id": "fe162280",
   "metadata": {},
   "source": [
    "* 트랜스포머는 위치 정보를 가진 값을 만들기 위해서 아래의 두 개의 함수를 사용한다.\n",
    "$$\n",
    "PE_{(pos, 2i)}  =  sin(pos/10000^{2i/d_{model}}) \\\\\n",
    "PE_{(pos, 2i+1)}  =  cos(pos/10000^{2i/d_{model}})\n",
    "$$"
   ]
  },
  {
   "cell_type": "markdown",
   "id": "ed9724be",
   "metadata": {},
   "source": [
    "* 사인 함수와 코사인 함수의 그래프를 상기해보면 요동치는 값의 형태를 생각해볼 수 있는데, 트랜스포머는 사인 함수와 코사인 함수의 값을 임베딩 벡터에 더해주므로서 단어의 순서 정보를 더하여 준다.\n",
    "* 그런데 위의 두 함수에는 $pos$, $i$, $d_{model}$ 등의 생소한 변수들이 있다.\n",
    "* 위의 함수를 이해하기 위해서는 위에서 본 임베딩 벡터와 포지셔널 인코딩의 덧셈은 사실 임베딩 벡터가 모여 만들어진 문장 행렬과 포지셔널 인코딩 행렬의 덧셈 연산을 통해 이루어진다는 점을 이해해야 한다."
   ]
  },
  {
   "cell_type": "markdown",
   "id": "a9ab3441",
   "metadata": {},
   "source": [
    "<img src='https://wikidocs.net/images/page/31379/transformer7.PNG' height=\"350\" width=\"350\">"
   ]
  },
  {
   "cell_type": "markdown",
   "id": "bcca8909",
   "metadata": {},
   "source": [
    "* $pos$는 입력 문장에서의 임베딩 벡터의 위치를 나타내며, $i$는 임베딩 벡터 내의 차원의 인덱스를 의미한다. 위의 식에 따르면 임베딩 벡터 내의 각 차원의 인덱스가 짝수인 경우에는 사인 함수의 값을 사용하고 홀수인 경우에는 코사인 함수의 값을 사용한다.\n",
    "* 위의 식에서 $d_{model}$은 트랜스포머의 모든 층의 출력 차원을 의미하는 트랜스포머의 하이퍼파라미터이다. (임베딩 벡터 또한 $d_{model}$의 차원을 가지는데 위의 그림에서는 마치 4로 표현되었지만 실제 논문에서는 512의 값을 가진다.)\n",
    "* 위와 같은 Positional Encoding(포지셔널 인코딩)을 사용하면 순서 정보가 보존되는데, 예를 들어 각 임베딩 벡터에 Positional Encoding(포지셔널 인코딩)의 값을 더하면 같은 단어라고 하더라도 문장 내의 위치에 따라서 트랜스포머의 입력으로 들어가는 임베딩 벡터의 값이 달라진다. \n",
    "* 이에 따라 트랜스포머의 입력은 순서 정보가 고려된 임베딩 벡터가 된다. \n",
    "* Positional Encoding(포지셔널 인코딩)의 값 추가하기로 한 배경에는 이 값들을 단어들의 임베딩에 추가하는 것이 Query/Key/Value 벡터들로 나중에 투영되었을 때 단어들 간의 거리를 늘릴 수 있다는 점이다."
   ]
  },
  {
   "cell_type": "markdown",
   "id": "5097252e",
   "metadata": {},
   "source": [
    "* 실제로는 이 패턴이 어떻게 될까?\n",
    "* 그림에서 각 행은 하나의 벡터에 대한 Positional Encoding(포지셔널 인코딩)에 해당한다. 그러므로 첫 번째 행은 우리가 입력 문장의 첫 번째 단어의 임베딩 벡터에 더할 Positional Encoding 벡터이다. \n",
    "* 각 행은 사이즈 512인 즉, 512개의 셀을 가진 벡터이며 각 셀의 값은 1과 -1 사이를 가진다.\n",
    "* 다음 그림에서는 이 셀들의 값들에 대해 색깔을 다르게 나타내어 Positional Encoding 벡터들이 가지는 패턴을 볼 수 있도록 시각화한 것이다."
   ]
  },
  {
   "cell_type": "markdown",
   "id": "84f207ac",
   "metadata": {},
   "source": [
    "<img src='https://nlpinkorean.github.io/images/transformer/transformer_positional_encoding_large_example.png' height=\"500\" width=\"500\">"
   ]
  },
  {
   "cell_type": "markdown",
   "id": "42052433",
   "metadata": {},
   "source": [
    "* 20개의 단어와 임베딩 크기가 512인 Positional Encoding의 실제 예시이다.\n",
    "* 그림에서도 볼 수 있듯이 벡터의 중간 부분이 반으로 나눠져있다.\n",
    "* 그 이유가 반은 sine 함수에 의해서 생성되었고, 나머지 반은 cosine 함수에 의해 생성되었기 때문이다. \n",
    "* 이 두 값들은 연결되어 하나의 Positional Encoding 벡터를 이루고 있다. "
   ]
  },
  {
   "cell_type": "markdown",
   "id": "17086361",
   "metadata": {},
   "source": [
    "### 4.2 Attention"
   ]
  },
  {
   "cell_type": "markdown",
   "id": "8c858539",
   "metadata": {},
   "source": [
    "* 트랜스포머에서 사용되는 세 가지의 어텐션에 대해서 간단히 정리해보자."
   ]
  },
  {
   "cell_type": "markdown",
   "id": "dcb3c143",
   "metadata": {},
   "source": [
    "<img src='https://wikidocs.net/images/page/31379/attention.PNG' height=\"100\" width=\"200\">"
   ]
  },
  {
   "cell_type": "markdown",
   "id": "f9651898",
   "metadata": {},
   "source": [
    "* 첫번째 그림인 셀프 어텐션은 인코더에서 이루어지지만, 두번째 그림인 셀프 어텐션과 세번째 그림인 인코더-디코더 어텐션은 디코더에서 이루어진다. \n",
    "* 셀프 어텐션은 본질적으로 Query, Key, Value가 동일한 경우를 말한다. \n",
    "* 반면, 세번째 그림 인코더-디코더 어텐션에서는 Query가 디코더의 벡터인 반면에 Key와 Value가 인코더의 벡터이므로 셀프 어텐션이라고 부르지 않는다.\n",
    "* 주의할 점은 여기서 Query, Key 등이 같다는 것은 벡터의 값이 같다는 것이 아니라 벡터의 출처가 같다는 의미이다.\n",
    "* 정리하면 다음과 같다.\n",
    "\n",
    "```\n",
    "인코더의 셀프 어텐션 : Query = Key = Value\n",
    "디코더의 마스크드 셀프 어텐션 : Query = Key = Value\n",
    "디코더의 인코더-디코더 어텐션 : Query : 디코더 벡터 / Key = Value : 인코더 벡터\n",
    "```"
   ]
  },
  {
   "cell_type": "markdown",
   "id": "117f9267",
   "metadata": {},
   "source": [
    "<img src='https://wikidocs.net/images/page/31379/transformer_attention_overview.PNG' height=\"250\" width=\"500\">"
   ]
  },
  {
   "cell_type": "markdown",
   "id": "7dd09f8d",
   "metadata": {},
   "source": [
    "* 위 그림은 트랜스포머의 아키텍처에서 세 가지 어텐션이 각각 어디에서 이루어지는지를 보여준다. 세 개의 어텐션에 추가적으로 'Multi-Head(멀티 헤드)'라는 이름이 붙어있는데, 이는 트랜스포머가 어텐션을 병렬적으로 수행하는 방법을 의미한다."
   ]
  },
  {
   "cell_type": "markdown",
   "id": "1055eb4f",
   "metadata": {},
   "source": [
    "### 4.3 Encoder Self-Attention"
   ]
  },
  {
   "cell_type": "markdown",
   "id": "a0196122",
   "metadata": {},
   "source": [
    "* 다음 문장을 내가 번역하고 싶은 문장이라고 보자. : `“그 동물은 길을 건너지 않았다 왜냐하면 그것은 너무 피곤했기 때문이다”`\n",
    "* 여기에서 `그것`은 `동물`일 것이다.\n",
    "* `그것 = 동물`이라는 것이 사람에게는 너무나도 간단하지만 모델에게는 그렇게 간단한 문제가 아니다. \n",
    "* 모델이 `그것은`이라는 단어를 처리할 때, 모델은 Self-Attention을 이용하여 `그것`과 `동물`을 연결할 수 있다. \n",
    "* Self-Attention은 입력 문장 내의 단어들끼리 유사도를 구하므로서 `그것(it)`이 `동물(animal`)과 연관되었을 확률이 높다는 것을 찾아낸다."
   ]
  },
  {
   "cell_type": "markdown",
   "id": "eea36be9",
   "metadata": {},
   "source": [
    "<img src='https://wikidocs.net/images/page/31379/transformer10.png' height=\"100\" width=\"250\">"
   ]
  },
  {
   "cell_type": "markdown",
   "id": "cd96a8ff",
   "metadata": {},
   "source": [
    "### 4.3.1 Calculation Process of Self-Attention"
   ]
  },
  {
   "cell_type": "markdown",
   "id": "2dffd72c",
   "metadata": {},
   "source": [
    "### 1) First Step of Self-Attention (Get Q, K, V Vectors)"
   ]
  },
  {
   "cell_type": "markdown",
   "id": "a39bde02",
   "metadata": {},
   "source": [
    "* Self-Attention은 인코더의 초기 입력인 $d_{model}$의 차원을 가지는 단어 벡터들을 사용하여 Self-Attention을 수행하는 것이 아니다. \n",
    "* 우선 각 단어 벡터들로부터 Q벡터, K벡터, V벡터를 얻는 작업을 거친다. \n",
    "* 이때 이 Q벡터, K벡터, V벡터들은 초기 입력인 $d_{model}$의 차원을 가지는 단어 벡터들보다 더 작은 차원을 가지는데, 논문에서는 $d_{model}$=512의 차원을 가졌던 각 단어 벡터들을 64의 차원을 가지는 Q벡터, K벡터, V벡터로 변환한다.\n",
    "* 그러나 꼭 이렇게 더 작아야만 하는 것은 아니며, 단지 Multi-Head Attention의 계산 복잡도를 일정하게 만들고자 내린 구조적인 선택일 뿐이다.\n",
    "* 64라는 값은 트랜스포머의 또 다른 하이퍼파라미터인 $num\\_heads$로 인해 결정되는데, 트랜스포머는 $d_{model}$을 $num\\_heads$로 나눈 값을 각 Q벡터, K벡터, V벡터의 차원으로 결정한다. \n",
    "* 논문에서는 $num\\_heads$를 8로 하였다."
   ]
  },
  {
   "cell_type": "markdown",
   "id": "064cf54c",
   "metadata": {},
   "source": [
    "<img src='https://wikidocs.net/images/page/31379/transformer11.PNG' height=\"200\" width=\"250\">"
   ]
  },
  {
   "cell_type": "markdown",
   "id": "1a7bf6b4",
   "metadata": {},
   "source": [
    "* 기존의 벡터로부터 더 작은 벡터는 가중치 행렬을 곱하므로서 완성된다. \n",
    "* 각 가중치 행렬은 $d_{model}X(d_{model}/num\\_heads)$의 크기를 가진다. 이 가중치 행렬은 훈련 과정에서 학습된다.\n",
    "* 각 가중치 행렬은 $d_{model}$=512이고 $num\\_heads$=8이라면, 각 벡터에 3개의 서로다른 가중치 행렬을 곱하고 64의 크기를 가지는 Q, K, V 벡터를 얻어낸다. \n",
    "* 위의 그림은 단어 벡터 중 student벡터로부터 Q,K,V 벡터를 얻어내는 모습을 보여준다.\n",
    "* 모든 단어 벡터에 위와 같은 과정을 거치면 I,am, a, student는 각각의 Q, K, V 벡터를 얻는다."
   ]
  },
  {
   "cell_type": "markdown",
   "id": "52622866",
   "metadata": {},
   "source": [
    "### 2) Second Step of Self-Attention"
   ]
  },
  {
   "cell_type": "markdown",
   "id": "99f82e60",
   "metadata": {},
   "source": [
    "* 단어와 입력 문장 속의 다른 모든 단어들에 대해서 각각 점수를 계산한다. \n",
    "* 이 점수는 현재 위치의 이 단어를 인코드할 때 다른 단어들에 대해서 얼마나 집중을 해야 할지를 결정한다.\n",
    "* 점수는 현재 단어의 Query 벡터와 점수를 매기려 하는 다른 위치에 있는 단어의 Key 벡터의 내적으로 계산된다. \n",
    "* 다시 말해, 위치 #1에 있는 단어에 대해서 Self-Attention을 계산한다 했을 때, 첫 번째 점수는 $q_1$과 $k_1$의 내적일 것이다. 그리고 동일하게 두 번째 점수는 $q_1$과 $k_2$의 내적일 것이다."
   ]
  },
  {
   "attachments": {
    "image.png": {
     "image/png": "[encoded data removed]"
    }
   },
   "cell_type": "markdown",
   "id": "e84d0fe4",
   "metadata": {},
   "source": [
    "![image.png](attachment:image.png)"
   ]
  },
  {
   "cell_type": "markdown",
   "id": "bcc23cd6",
   "metadata": {},
   "source": [
    "### 3) Third, Tourth Step of Self-Attention (Scaled dot-product Attention)"
   ]
  },
  {
   "cell_type": "markdown",
   "id": "c419391c",
   "metadata": {},
   "source": [
    "*  트랜스포머에서는 어텐션 함수로 $score(q,k) = q∙k~/\\sqrt{n}$를 사용한다.\n",
    "* 이러한 함수를 사용하는 어텐션을 Dot-product Attention(닷-프로덕트 어텐션)에서 값을 스케일링하는 것을 추가하였다고 하여 **Scaled dot-product Attention(스케일드 닷-프로덕트 어텐션)**이라고 한다.\n",
    "."
   ]
  },
  {
   "cell_type": "markdown",
   "id": "53cfa9ae",
   "metadata": {},
   "source": [
    "<img src='https://wikidocs.net/images/page/31379/transformer13.PNG' height=\"400\" width=\"400\">"
   ]
  },
  {
   "cell_type": "markdown",
   "id": "71be4f2f",
   "metadata": {},
   "source": [
    "* 지금부터 설명하는 과정은 am에 대한 Q벡터, a에 대한 Q벡터, student에 대한 Q벡터에 대해서도 모두 동일한 과정을 거친다.\n",
    "* 위의 그림은 단어 I에 대한 Q벡터가 모든 K벡터에 대해서 어텐션 스코어를 구하는 것을 보여준다.\n",
    "* 위의 128과 32는 임의로 가정한 수치로 신경쓰지 않아도 좋다.\n",
    "* 위의 그림에서 어텐션 스코어는 각각 단어 I가 단어 I, am, a, student와 얼마나 연관되어 있는지를 보여주는 수치이다.\n",
    "* 트랜스포머에서는 두 벡터의 내적값을 스케일링하는 값으로 K벡터의 차원을 나타내는 $d_k$에 루트를 씌운 $\\sqrt{d_k}$ 사용하는 것을 택했다.\n",
    "* 앞서 언급하였듯이 논문에서 $d_k$는 $d_{model}/num\\_heads$라는 식에 따라서 64의 값을 가지므로 $\\sqrt{d_k}$는 8의 값을 가진다."
   ]
  },
  {
   "attachments": {
    "image.png": {
     "image/png": "[encoded data removed]"
    }
   },
   "cell_type": "markdown",
   "id": "443f1a75",
   "metadata": {},
   "source": [
    "![image.png](attachment:image.png)"
   ]
  },
  {
   "cell_type": "markdown",
   "id": "70f8f309",
   "metadata": {},
   "source": [
    "* 이제 어텐션 스코어에 소프트맥스(softmax) 함수를 사용하여 어텐션 분포(Attention Distribution)을 구한다. \n",
    "* 소프트맥스(softmax) 함수를 거친 어텐션 분포(Attention Distribution)는 전부 양수로 만들어지고 그 합은 1이 된다.\n",
    "* 어텐션 분포(Attention Distribution)는 현재 위치의 단어의 인코딩에 있어서 얼마나 각 단어들의 표현이 들어갈 것인지를 결정한다.\n",
    "* 당연하게 현재 위치의 단어가 가장 높은 점수를 가지며 가장 많은 부분을 차지하게 되겠지만, 가끔은 현재 단어에 관련이 있는 다른 단어에 대한 정보가 들어가는 것이 도움이 된다"
   ]
  },
  {
   "cell_type": "markdown",
   "id": "e7dace21",
   "metadata": {},
   "source": [
    "### 4) Fifth, Sixth Step of Self-Attention"
   ]
  },
  {
   "cell_type": "markdown",
   "id": "47b88698",
   "metadata": {},
   "source": [
    "<img src='https://wikidocs.net/images/page/31379/transformer14_final.PNG' height=\"500\" width=\"500\">"
   ]
  },
  {
   "cell_type": "markdown",
   "id": "fe2792be",
   "metadata": {},
   "source": [
    "* 각 V벡터와 가중합하여 어텐션 값(Attention Value)을 구한다.\n",
    "* 이 단계는 관련이 있는 단어들은 남겨두고 관련이 없는 단어들은 0.001과 같은 작은 숫자(점수)를 곱해 없애버리기 위함이다.\n",
    "* 마지막 여섯 번째 단계는 다섯 번째 단계를 통해 나온 값들을 다 합한다.\n",
    "* 이를 단어 I에 대한 어텐션 값 또는 단어 I에 대한 컨텍스트 벡터(context vector)라고도 할 수 있다.\n",
    "* 이 단계의 출력이 바로 현재 위치에 대한 Self-Attention layer의 출력이 된다.\n",
    "* am에 대한 Q벡터, a에 대 Q벡터, student에 대한 Q벡터에 대해서도 모두 동일한 과정을 반복하여 각각에 대한 어텐션 값을 구한다.\n",
    "* 이 결과로 나온 벡터를 FFNN layer로 보내게 된다. "
   ]
  },
  {
   "cell_type": "markdown",
   "id": "95a40348",
   "metadata": {},
   "source": [
    "### 4.3.2 Matrix Calculation of Self-Attention"
   ]
  },
  {
   "cell_type": "markdown",
   "id": "24b3c20f",
   "metadata": {},
   "source": [
    "* 한 가지 의문이 드는 것은 굳이 이렇게 각 Q벡터마다 일일히 따로 연산할 필요가 있을까?"
   ]
  },
  {
   "cell_type": "markdown",
   "id": "3916ebf6",
   "metadata": {},
   "source": [
    "### 1) Matrix Calculation"
   ]
  },
  {
   "cell_type": "markdown",
   "id": "af3f563c",
   "metadata": {},
   "source": [
    "* 사실 각 단어에 대한 Q, K, V 벡터를 구하고 스케일드 닷-프로덕트 어텐션을 수행하였던 위의 과정들은 벡터 연산이 아니라 행렬 연산을 사용하면 일괄 계산이 가능하다.\n",
    "* 지금까지 벡터 연산으로 설명하였던 이유는 이해를 돕기 위한 과정이고, 실제로는 행렬 연산으로 구현된다.\n",
    "* 위의 과정을 벡터가 아닌 행렬 연산으로 이해해보자.\n",
    "* 우선, 각 단어 벡터마다 일일히 가중치 행렬을 곱하는 것이 아니라 문장 행렬에 가중치 행렬을 곱하여 Q행렬, K행렬, V행렬을 구한다.\n",
    "* 문장 행렬은 입력 벡터들(혹은 임베딩 벡터들)을 하나의 행렬로 쌓아올린 것으로 각 행은 입력 문장의 각 단어에 해당한다."
   ]
  },
  {
   "cell_type": "markdown",
   "id": "3e958ec5",
   "metadata": {},
   "source": [
    "<img src='https://wikidocs.net/images/page/31379/transformer12.PNG' height=\"350\" width=\"350\">"
   ]
  },
  {
   "cell_type": "markdown",
   "id": "b146dff1",
   "metadata": {},
   "source": [
    "* 여기서 Q행렬을 K행렬을 전치한 행렬과 곱해준다고 해보자.\n",
    "* 이렇게 되면 아래와 같이 각각의 단어의 Q벡터와 K벡터의 내적이 각 행렬의 원소가 되는 행렬이 결과로 나온다."
   ]
  },
  {
   "cell_type": "markdown",
   "id": "22af8048",
   "metadata": {},
   "source": [
    "<img src='https://wikidocs.net/images/page/31379/transformer15.PNG' height=\"400\" width=\"400\">"
   ]
  },
  {
   "cell_type": "markdown",
   "id": "91278c6c",
   "metadata": {},
   "source": [
    "* 다시 말해 위의 그림의 결과 행렬의 값에 전체적으로 $\\sqrt{d_k}$를 나누어주면 이는 각 행과 열이 어텐션 스코어 값을 가지는 행렬이 된다.\n",
    "* 예를 들어 I행과 student열의 값은 I의 Q벡터와 student의 K벡터의 어텐션 스코어 값이다.\n",
    "* 이제 위 행렬을 어텐션 스코어 행렬이라고 한다.\n",
    "*  어텐션 스코어 행렬을 구하였다면 남은 것은 어텐션 분포를 구하고, 이를 사용하여 모든 단어에 대한 어텐션 값을 구하는 일이다.\n",
    "* 이는 간단하게 어텐션 스코어 행렬에 소프트맥스(softmax) 함수를 사용하고, V행렬을 곱하는 것으로 해결된다.\n",
    "* 이렇게 되면 각 단어의 어텐션 값을 모두 가지는 어텐션 값 행렬이 결과로 나온다."
   ]
  },
  {
   "cell_type": "markdown",
   "id": "e50cbde3",
   "metadata": {},
   "source": [
    "### 2) Summary of Matrix Calculation"
   ]
  },
  {
   "cell_type": "markdown",
   "id": "64f5d955",
   "metadata": {},
   "source": [
    "* 행렬 연산을 통해 모든 값이 일괄 계산되는 과정을 아래와 같이 표현할 수 있다. "
   ]
  },
  {
   "cell_type": "markdown",
   "id": "e6ae7e59",
   "metadata": {},
   "source": [
    "<img src='https://wikidocs.net/images/page/31379/transformer16.PNG' height=\"500\" width=\"500\">"
   ]
  },
  {
   "cell_type": "markdown",
   "id": "ac365302",
   "metadata": {},
   "source": [
    "* 위 표현은 실제 트랜스포머 논문에 기재된 수식과 정확하게 일치하는 식이다. "
   ]
  },
  {
   "cell_type": "markdown",
   "id": "0b349439",
   "metadata": {},
   "source": [
    "$$\n",
    "Attention(Q, K, V)~ = ~softmax \\Big(\\frac{QK^T}{\\sqrt{d_k}} \\Big)V\n",
    "$$"
   ]
  },
  {
   "cell_type": "markdown",
   "id": "161b29db",
   "metadata": {},
   "source": [
    "* 위 행렬 연산에 사용된 행렬의 크기를 정리해본다.\n",
    "* 우선 입력 문장의 길이를 seq_len이라고 하자. 그렇다면 문장 행렬의 크기는 $(\\text{seq_len}, d_{model})$이다.\n",
    "* 여기에 3개의 가중치 행렬의 곱해서 Q, K, V를 만들어야 한다.\n",
    "* 행렬의 크기를 정의하기 위해 행렬의 각 행에 해당되는 Q벡터와 K벡터의 차원을 $d_k$라고 하고, V벡터의 차원을 $d_v$라고 해보자.\n",
    "* 그렇다면 Q행렬과 K행렬의 크기는 $(\\text{seq_len}, d_k)$이며, V행렬의 크기는 $(\\text{seq_len}, d_v)$가 되어야 한다.\n",
    "* 그렇다면 문장 행렬과 Q, K, V 행렬의 크기로부터 가중치 행렬의 크기 추정이 가능하다.\n",
    "* $W^Q$와 $W^K$는 $(d_{model}, d_k)$의 크기를 가지며, $W^V$는 $(d_{model}, d_v)$의크기를 가진다.\n",
    "* 단, 논문에서는 $d_k$와 $d_v$의 차원은 $d_{model}/ \\text{num_heads}$와 같다.\n",
    "* 즉, $d_{model}/ \\text{num_heads} = d_k = d_v$이다.\n",
    "* 결과적으로 $softmax \\Big(\\frac{QK^T}{\\sqrt{d_k}} \\Big)V$식을 적용해 나오는 어텐션 값 행렬 a의 크기는 $(\\text{seq_len}, d_v)$가 된다."
   ]
  },
  {
   "cell_type": "markdown",
   "id": "55f8fd79",
   "metadata": {},
   "source": [
    "### 4.3.3 Multi-head Attention"
   ]
  },
  {
   "cell_type": "markdown",
   "id": "5fe13ba5",
   "metadata": {},
   "source": [
    "* 앞서 배운 어텐션에서는 $d_{model}$의 차원을 가진 단어 벡터를 $\\text{num_heads}$로 나눈 차원을 가지는 Q, K, V벡터로 바꾸고 어텐션을 수행했다.\n",
    "* 문 기준으로는 512의 차원의 각 단어 벡터를 8로 나누어 64차원의 Q, K, V 벡터로 바꾸어서 어텐션을 수행한 셈이다. \n",
    "* 앞에서 작은 차원으로 계산하는 것은 단지 Multi-Head Attention의 계산 복잡도를 일정하게 만들고자 내린 구조적인 선택일 뿐이라고 했다.\n",
    "* 이제 $\\text{num_heads}$의 의미와 왜 $d_{model}$의 차원을 가진 단어 벡터를 가지고 어텐션을 하지 않고 축소시킨 벡터로 어텐션을 수행했는지 이해해보고자 한다."
   ]
  },
  {
   "cell_type": "markdown",
   "id": "4a9357a7",
   "metadata": {},
   "source": [
    "<img src='https://wikidocs.net/images/page/31379/transformer17.PNG' height=\"500\" width=\"500\">"
   ]
  },
  {
   "cell_type": "markdown",
   "id": "9e85c507",
   "metadata": {},
   "source": [
    "* 트랜스포머 연구진은 한 번의 어텐션을 하는 것보다 여러 번의 어텐션을 병렬로 사용하는 것이 더 효과적이라고 말한다.(얼마나 해본건지..)\n",
    "* 그래서 $d_{model}$의 차원을 $\\text{num_heads}$개로 나누어 $d_{model}/\\text{num_heads}$ 의 차원을 가지는 Q, K, V에 대해서 $\\text{num_heads}$개의 병렬 어텐션을 수행한다.\n",
    "*  논문에서는 $\\text{num_heads}$의 값을 8로 지정했고, 8개의 병렬 어텐션이 이루어지게 된다.\n",
    "* 이때 각각의 어텐션 값 행렬을 어텐션 헤드라고 부릅니다. \n",
    "* 이때의 가중치 행렬 $W^Q, W^K, W^N$의 값은 8개의 어텐션 헤드마다 전부 다르다."
   ]
  },
  {
   "cell_type": "markdown",
   "id": "55b1b543",
   "metadata": {},
   "source": [
    "* 병렬 어텐션으로 얻을 수 있는 효과는 무엇일까?\n",
    "\n",
    "(그리스로마신화에는 머리가 여러 개인 괴물 히드라나 케로베로스가 나온다. 이 괴물들의 특징은 머리가 여러 개이기 때문에 여러 시점에서 상대방을 볼 수 있다는 겁니다. 이렇게 되면 시각에서 놓치는 게 별로 없을테니까 이런 괴물들에게 기습을 하는 것이 굉장히 힘이 들것이다. 멀티 헤드 어텐션도 비슷하다.)\n",
    "* 어텐션을 병렬로 수행하여 다른 시각으로 정보들을 수집하겠다는 것이다. "
   ]
  },
  {
   "cell_type": "markdown",
   "id": "4412c975",
   "metadata": {},
   "source": [
    "* 예를 통해 이해해보자.\n",
    "* 앞서 사용한 예문 '그 동물은 길을 건너지 않았다. 왜냐하면 그것은 너무 피곤하였기 때문이다.'를 사용한다.\n",
    "* 단어 그것(it)이 쿼리였다고 해보자.\n",
    "* it에 대한 Q벡터로부터 다른 단어와의 연관도를 구하였을 때 첫번째 어텐션 헤드는 '그것(it)'과 '동물(animal)'의 연관도를 높게 본다면, \n",
    "* 두번째 어텐션 헤드는 '그것(it)'과 '피곤하였기 때문이다(tired)'의 연관도를 높게 볼 수 있다.\n",
    "* 각 어텐션 헤드는 전부 다른 시각에서 보고있기 때문이다."
   ]
  },
  {
   "cell_type": "markdown",
   "id": "9daf8913",
   "metadata": {},
   "source": [
    "<img src='https://wikidocs.net/images/page/31379/transformer18_final.PNG' height=\"350\" width=\"350\">"
   ]
  },
  {
   "cell_type": "markdown",
   "id": "045af74d",
   "metadata": {},
   "source": [
    "* 병렬 어텐션을 모두 수행하였다면 모든 어텐션 헤드를 연결(concatenate)한다. 모두 연결된 어텐션 헤드 행렬의 크기는 $(\\text{seq_len}, d_{model})$이 된다."
   ]
  },
  {
   "cell_type": "markdown",
   "id": "67da00f3",
   "metadata": {},
   "source": [
    "<img src='https://wikidocs.net/images/page/31379/transformer19.PNG' height=\"500\" width=\"500\">"
   ]
  },
  {
   "cell_type": "markdown",
   "id": "98f14464",
   "metadata": {},
   "source": [
    "* 어텐션 헤드를 모두 연결한 행렬은 또 다른 가중치 행렬 $W^o$를 곱하게 되는데, 이렇게 나온 결과 행렬이 멀티-헤드 어텐션의 최종 결과물이다. \n",
    "* 위의 그림은 어텐션 헤드를 모두 연결한 행렬이 가중치 행렬 $W^o$과 곱해지는 과정을 보여준다.\n",
    "* 이때 결과물인 멀티-헤드 어텐션 행렬은 인코더의 입력이었던 문장 행렬의 $(\\text{seq_len}, d_{model})$크기와 동일하다.\n",
    "* 다시 말해 인코더의 첫번째 서브층인  Multi-Head Attention 단계를 끝마쳤을 때, 인코더의 입력으로 들어왔던 행렬의 크기가 유지되고 있다는 의미이다.\n",
    "* 첫번째 서브층인 Multi-Head Attention과 두번째 서브층인 FFNN layer를 지나면서 인코더의 입력으로 들어올 때의 행렬의 크기는 계속 유지되어야 한다.\n",
    "* 트랜스포머는 동일한 구조의 인코더를 쌓은 구조이기 때문에 인코더에서의 입력의 크기가 출력에서도 동일 크기로 계속 유지되어야만 다음 인코더에서도 다시 입력이 될 수 있다."
   ]
  },
  {
   "cell_type": "markdown",
   "id": "2eb210b4",
   "metadata": {},
   "source": [
    "### 4.3.4 Padding Mask 🌟"
   ]
  },
  {
   "cell_type": "markdown",
   "id": "ef132321",
   "metadata": {},
   "source": [
    "* **마스킹(Masking)**이란, 특정 값들을 가려서 실제 연산에 방해가 되지 않도록 하는 기법이다.\n",
    "* Padding Mask는 패딩 토큰(Padding token)을 이용한 방법이다.\n",
    "* 사실 단어 `<PAD>`의 경우에는 실질적인 의미를 가진 단어가 아니다.\n",
    "* 그래서 입력 문장에 `<PAD>` 토큰이 있을 경우 어텐션에서 사실상 제외하기 위한 연산을 진행한다. \n",
    "* 트랜스포머에서는 Key의 경우에 `<PAD>` 토큰이 존재한다면 이에 대해서는 유사도를 구하지 않도록 마스킹(Masking)을 한다.\n",
    "* 여기서 마스킹이란 어텐션에서 제외하기 위해 값을 가린다는 의미이다. \n",
    "* 예를 들어 `<PAD>`가 포함된 입력 문장의 셀프 어텐션의 예제를 보자. 이에 대해서 어텐션을 수행하고 어텐션 스코어 행렬을 얻는 과정은 다음과 같다."
   ]
  },
  {
   "cell_type": "markdown",
   "id": "24cebc3c",
   "metadata": {},
   "source": [
    "<img src='https://wikidocs.net/images/page/31379/pad_masking11.PNG' height=\"450\" width=\"450\">"
   ]
  },
  {
   "cell_type": "markdown",
   "id": "5c9b746d",
   "metadata": {},
   "source": [
    "* 어텐션 스코어 행렬에서 행에 해당하는 문장은 Query이고, 열에 해당하는 문장은 Key입니다. 그리고 Key에 `<PAD>`가 있는 경우에는 해당 열 전체를 마스킹을 해준다."
   ]
  },
  {
   "cell_type": "markdown",
   "id": "0ca54e09",
   "metadata": {},
   "source": [
    "<img src='https://wikidocs.net/images/page/31379/pad_masking2.PNG' height=\"350\" width=\"350\">"
   ]
  },
  {
   "cell_type": "markdown",
   "id": "cf250b86",
   "metadata": {},
   "source": [
    "* 마스킹을 하는 방법은 어텐션 스코어 행렬의 마스킹 위치에 매우 작은 음수값을 넣어주는 것이다.\n",
    "* 여기서 매우 작은 음수값이라는 것은 -1,000,000,000과 같은 -무한대에 가까운 수라는 의미이다. \n",
    "* 현재 어텐션 스코어 함수는 소프트맥스 함수를 지나지 않은 상태이다.\n",
    "* 이 어텐션 스코어 함수는 소프트맥스 함수를 지나고, 그 후 Value 행렬과 곱해지게 된다.\n",
    "* 그런데 현재 마스킹 위치에 매우 작은 음수 값이 들어가 있으므로 어텐션 스코어 행렬이 소프트맥스 함수를 지난 후에는 해당 위치의 값은 0이 되어 단어 간 유사도를 구하는 일에 `<PAD`> 토큰이 반영되지 않게 된다."
   ]
  },
  {
   "cell_type": "markdown",
   "id": "03fbd7d4",
   "metadata": {},
   "source": [
    "<img src='https://wikidocs.net/images/page/31379/softmax.PNG' height=\"250\" width=\"250\">"
   ]
  },
  {
   "cell_type": "markdown",
   "id": "ceaaaa7f",
   "metadata": {},
   "source": [
    "* 위 그림은 소프트맥스 함수를 지난 후를 가정하고 있다. \n",
    "* 소프트맥스 함수를 지나면 각 행의 어텐션 가중치의 총 합은 1이 되는데, 단어 `<PAD>`의 경우에는 0이 되어 어떤 유의미한 값을 가지고 있지 않다. "
   ]
  },
  {
   "cell_type": "markdown",
   "id": "805fe5e5",
   "metadata": {},
   "source": [
    "### 4.4 Position-wise FFNN 🌟"
   ]
  },
  {
   "cell_type": "markdown",
   "id": "882b3996",
   "metadata": {},
   "source": [
    "* 지금은 인코더를 설명하고 있지만, Position-wise FFNN은 인코더와 디코더에서 공통적으로 가지고 있는 서브층이다. \n",
    "* Position-wise FFNN는 쉽게 말하면 완전 연결 FFNN(Fully-connected FFNN)이라고 해석할 수 있다. \n",
    "* 앞서 인공 신경망은 결국 벡터와 행렬 연산으로 표현될 수 있음을 확인했다. 아래는 포지션 와이즈 FFNN의 수식을 보여준다.\n",
    "\n",
    "$$\n",
    "FFNN(x) = MAX(0, xW_1 + b_1)W_2 + b_2\n",
    "$$\n",
    "\n",
    "* 식을 그림으로 표현하면 아래와 같다."
   ]
  },
  {
   "cell_type": "markdown",
   "id": "e863c7f9",
   "metadata": {},
   "source": [
    "<img src='https://wikidocs.net/images/page/31379/positionwiseffnn.PNG' height=\"200\" width=\"200\">"
   ]
  },
  {
   "cell_type": "markdown",
   "id": "dffd5847",
   "metadata": {},
   "source": [
    "* 여기서 $x$는 앞서 멀티 헤드 어텐션의 결과로 나온 $(\\text{seq_len}, d_{model})$의 크기를 가지는 행렬을 말한다.\n",
    "* 가중치 행렬 $W_1$ 은 $(d_{model}, d_{ff})$의 크기를 가지고, 가중치 행렬 $W_2$는 $(d_{ff}, d_{model})$의 크기를 가진다.\n",
    "* 논문에서 은닉층의 크기인 $d_{ff}$는 앞서 하이퍼파라미터를 정의할 떄 언급했듯이 2,048의크기를 가진다."
   ]
  },
  {
   "cell_type": "markdown",
   "id": "8018463d",
   "metadata": {},
   "source": [
    "* 여기서 매개변수 $W_1, b_1, W_2, b_2$는 하나의 인코더 층 내에서는 다른 문장, 다른 단어들마다 정확하게 동일하게 사용된다.\n",
    "* 하지만 인코더 층마다는 다른 값을 가진다."
   ]
  },
  {
   "cell_type": "markdown",
   "id": "8938d087",
   "metadata": {},
   "source": [
    "<img src='https://wikidocs.net/images/page/31379/transformer20.PNG' height=\"500\" width=\"500\">"
   ]
  },
  {
   "cell_type": "markdown",
   "id": "07d52bec",
   "metadata": {},
   "source": [
    "* 위의 그림에서 좌측은 인코더의 입력을 벡터 단위로 봤을 때, 각 벡터들이 Multi-Head Attention layer이라는 인코더 내 첫번째 sub-layer를 지나 FFNN을 통과하는 것을 보여준다.\n",
    "* 이는 두번째 sub-layer인 Position-wise FFNN을 의미한다.\n",
    "* 물론, 실제로는 그림의 우측과 같이 행렬로 연산되는데, 두번째 서브층을 지난 인코더의 최종 출력은 여전히 인코더의 입력의 크기였던 $(\\text{seq_len}, d_{model})$의 크기가 보존된다.\n",
    "* 하나의 인코더 층을 지난 이 행렬은 다음 인코더 층으로 전달되고, 다음 층에서도 동일한 인코더 연산이 반복된다."
   ]
  },
  {
   "cell_type": "markdown",
   "id": "0ff0c70d",
   "metadata": {},
   "source": [
    "### 4.5 Residual connection and Layer Normalization 🌟"
   ]
  },
  {
   "cell_type": "markdown",
   "id": "f1c674d6",
   "metadata": {},
   "source": [
    "* 트랜스포머에서는 두 개의 usb-layer를 가진 인코더에 추가적으로 사용하는 기법이 있는데, 바로 Add & Norm이다.\n",
    "* 더 정확히는 Residual connection(잔차 연결)과 Layer Normalization(층 정규화)를 의미한다."
   ]
  },
  {
   "cell_type": "markdown",
   "id": "0641d2bd",
   "metadata": {},
   "source": [
    "<img src='https://wikidocs.net/images/page/31379/transformer21.PNG' height=\"450\" width=\"450\">"
   ]
  },
  {
   "cell_type": "markdown",
   "id": "b9c0ccaf",
   "metadata": {},
   "source": [
    "* 위의 그림은 앞서 Position-wise FFNN를 설명할 때 사용한 그림에서 화살표와 Add & Norm(잔차 연결과 정규화 과정)을 추가한 그림이다.\n",
    "* 추가된 화살표들은 서브층 이전의 입력에서 시작되어 서브층의 출력 부분을 향하고 있다. "
   ]
  },
  {
   "cell_type": "markdown",
   "id": "36f25bd6",
   "metadata": {},
   "source": [
    "### 4.5.1 Residual connection"
   ]
  },
  {
   "cell_type": "markdown",
   "id": "2a5cb1e7",
   "metadata": {},
   "source": [
    "* Residual connection(잔차 연결)의 의미를 이해하기 위해서 어떤 함수를 $H(x)$를 살펴보자."
   ]
  },
  {
   "cell_type": "markdown",
   "id": "5a8c7afc",
   "metadata": {},
   "source": [
    "<img src='https://wikidocs.net/images/page/31379/transformer22.PNG' height=\"180\" width=\"180\">"
   ]
  },
  {
   "cell_type": "markdown",
   "id": "67afc610",
   "metadata": {},
   "source": [
    "* 위 그림은 입력 $x$와 $x$에 대한 어떤 함수 $F(x)$의 값을 더한 함수 $H(x)$의 구조를 보여준다.\n",
    "* 어떤 함수 $F(x)$가 트랜스포머에서는 sub-layer에 해당한다.\n",
    "* 다시 말해 Residual connection(잔차 연결)은 서브층의 입력과 출력을 더하는 것을 말한다.\n",
    "* 앞서 언급했듯이 트랜스포머에서 sub-layer의 입력과 출력은 동일한 차원을 갖고 있으므로, sub-layer의 입력과 sub-layer의 출력은 덧셈 연산을 할 수 있다.\n",
    "* 이것이 바로 위의 인코더 그림에서 각 화살표가 sub-layer의 입력에서 출력으로 향하도록 그려졌던 이유이다. \n",
    "* 이를 식으로 표현하면 $x+\\text{Sublayer}(x)$이다. \n",
    "* 가령, sub-layer가 Multi-Head Attention이었다면 Residual connection(잔차 연결) 연산은 다음과 같다.\n",
    "\n",
    "$$\n",
    "H(x) = x + \\text{Multi} - \\text{head Attention}(x)\n",
    "$$\n",
    "\n",
    "* 아래 그림은 Multi-Head Attention의 입력과 Multi-Head Attention의 결과가 더해지는 과정을 보여준다."
   ]
  },
  {
   "cell_type": "markdown",
   "id": "657903c9",
   "metadata": {},
   "source": [
    "<img src='https://wikidocs.net/images/page/31379/residual_connection.PNG' height=\"550\" width=\"550\">"
   ]
  },
  {
   "cell_type": "markdown",
   "id": "925d5132",
   "metadata": {},
   "source": [
    "### 4.5.2 Layer Normalization"
   ]
  },
  {
   "cell_type": "markdown",
   "id": "8c0f95cd",
   "metadata": {},
   "source": [
    "* Residual connection(잔차 연결)을 거친 결과는 이어서 Layer Normalization(층 정규화) 과정을 거치게 된다.\n",
    "* Residual connection(잔차 연결)의 입력을 $x$, Residual connection(잔차 연결)과 Layer Normalization(층 정규화) 두 가지 연산을 모두 수행한 후의 결과 행렬을 $LN$이라고 하였을 때, Residual connection(잔차 연결) 후 Layer Normalization(층 정규화) 연산을 수식으로 표현하자면 다음과 같다.\n",
    "\n",
    "$$\n",
    "Ln = \\text{Layer Norm}(x+\\text{Sublayer}(x))\n",
    "$$"
   ]
  },
  {
   "cell_type": "markdown",
   "id": "eb4e5b63",
   "metadata": {},
   "source": [
    "* Layer Normalization(층 정규화)는 텐서의 마지막 차원에 대해서 평균과 분산을 구하고, 이를 가지고 어떤 수식을 통해 값을 정규화하여 학습을 돕는다.\n",
    "* 여기서 텐서의 마지막 차원이란 것은 트랜스포머에서는 $d_{model}$ 차원을 의미한다.\n",
    "* 아래 그림은 $d_{model}$ 차원의 방향을 화살표로 표현했다."
   ]
  },
  {
   "cell_type": "markdown",
   "id": "25b90928",
   "metadata": {},
   "source": [
    "<img src='https://wikidocs.net/images/page/31379/layer_norm_new_1_final.PNG' height=\"250\" width=\"250\">"
   ]
  },
  {
   "cell_type": "markdown",
   "id": "2d411beb",
   "metadata": {},
   "source": [
    "* 층 정규화를 위해서 우선, 화살표 방향으로 각각 평균$\\mu$과 분산$\\sigma^2$을 구한다. \n",
    "* 각 화살표 방향의 벡터를 $x_i$라고 명명한다."
   ]
  },
  {
   "cell_type": "markdown",
   "id": "9a30e906",
   "metadata": {},
   "source": [
    "<img src='https://wikidocs.net/images/page/31379/layer_norm_new_2_final.PNG' height=\"250\" width=\"250\">"
   ]
  },
  {
   "cell_type": "markdown",
   "id": "42ba130a",
   "metadata": {},
   "source": [
    "* 층 정규화를 수행한 후에는 벡터 $x_i$는 $ln_i$라는 벡터로 정규화가 된다.\n",
    "\n",
    "$$\n",
    "ln_i = \\text{LayerNorm}(x_i)\n",
    "$$"
   ]
  },
  {
   "cell_type": "markdown",
   "id": "a819b848",
   "metadata": {},
   "source": [
    "* Layer Normalization(층 정규화)의 수식을 알아보자.\n",
    "* 여기서는 Layer Normalization(층 정규화)를 두 가지 과정으로 나누어서 설명한다.\n",
    "* 첫번째는 평균과 분산을 통한 정규화, 두번째는 감마와 베타를 도입하는 것이다. \n",
    "* 우선, 평균과 분산을 통해 벡터 $x_i$를 정규화 해준다. $x_i$는 벡터인 반면, 평균$\\mu_i$과 분산 $\\sigma_i^2$은 스칼라이다. \n",
    "* 벡터 $x_i$의 각 차원을 $k$라고 하였을 때, $x_{i,k}$는 다음의 수식과 같이 정규화 할 수 있다. \n",
    "* 다시 말해 벡터 $x_i$의 각 $k$차원의 값이 다음과 같이 정규화 되는 것이다.\n",
    "\n",
    "$$\n",
    "\\hat{x}_{i,k} = \\frac{x_{i,k}-\\mu_i}{\\sqrt{(\\sigma_i^2+\\epsilon)}}\n",
    "$$\n",
    "\n",
    "* $\\epsilon$은 분모가 0이 되는 것을 방지하는 값이다."
   ]
  },
  {
   "cell_type": "markdown",
   "id": "0835fa4d",
   "metadata": {},
   "source": [
    "* 이제 $\\gamma$(감마)와 $\\beta$(베타)라는 벡터를 준비한다. 단, 이들의 초기값은 각각 1과 0이다.\n",
    "\n",
    "<img src='https://wikidocs.net/images/page/31379/%EA%B0%90%EB%A7%88%EB%B2%A0%ED%83%80.PNG' height=\"200\" width=\"200\">\n",
    "\n",
    "* $\\gamma$와 $\\beta$를 도입한 Layer Normalization(층 정규화)의 최종 수식은 다음과 같으며 $\\gamma$와 $\\beta$는 학습 가능한 파라미터이다.\n",
    "\n",
    "$$\n",
    "ln_i = \\gamma\\hat{x}_i+\\beta = \\text{LayerNorm}(x_i)\n",
    "$$\n",
    "\n",
    "* 케라스에서는 Layer Normalization(층 정규화)를 위한 LayerNormalization()를 제공하고 있으므로 이를 가져와 사용한다."
   ]
  },
  {
   "cell_type": "markdown",
   "id": "8812b906",
   "metadata": {},
   "source": [
    "### 4.6 From Encoder To Decoder"
   ]
  },
  {
   "cell_type": "markdown",
   "id": "0368e56b",
   "metadata": {},
   "source": [
    "<img src='https://wikidocs.net/images/page/31379/transformer_from_encoder_to_decoder.PNG' height=\"450\" width=\"450\">"
   ]
  },
  {
   "cell_type": "markdown",
   "id": "5811c0a6",
   "metadata": {},
   "source": [
    "* 이렇게 구현된 인코더는 총 $\\text{num_layers}$만큼의 층 연산을 순차적으로 한 후에 마지막 층의 인코더의 출력을 디코더에게 전달한다.\n",
    "* 인코더 연산이 끝났으면 디코더 연산이 시작되어 디코더 또한 $\\text{num_layers}$만큼의 연산을 하는데, 이때마다 인코더가 보낸 출력을 각 디코더 층 연산에 사용한다."
   ]
  },
  {
   "cell_type": "markdown",
   "id": "19fbe7cf",
   "metadata": {},
   "source": [
    "### 4.7 Decoder First Sub-Layer : Self-Attention and Look Ahead Mask"
   ]
  },
  {
   "cell_type": "markdown",
   "id": "8cbe1051",
   "metadata": {},
   "source": [
    "<img src='https://wikidocs.net/images/page/31379/decoder.PNG' height=\"250\" width=\"250\">"
   ]
  },
  {
   "cell_type": "markdown",
   "id": "89fbaff9",
   "metadata": {},
   "source": [
    "* 위 그림과 같이 디코더도 인코더와 동일하게 임베딩 층과 포지셔널 인코딩을 거친 후의 문장 행렬이 입력된다. \n",
    "* 트랜스포머 또한 seq2seq와 마찬가지로 교사 강요(Teacher Forcing)을 사용하여 훈련되므로 학습 과정에서 디코더는 번역할 문장에 해당되는 `<sos>` je suis étudiant의 문장 행렬을 한 번에 입력받는다. \n",
    "* 디코더는 이 문장 행렬로부터 각 시점의 단어를 예측하도록 훈련된다.\n",
    "* 여기서 문제가 발생한다.\n",
    "* seq2seq의 디코더에 사용되는 RNN 계열의 신경망은 입력 단어를 매 시점마다 순차적으로 입력받으므로 다음 단어 예측에 현재 시점을 포함한 이전 시점에 입력된 단어들만 참고할 수 있다. \n",
    "* 반면, 트랜스포머는 문장 행렬로 입력을 한 번에 받으므로 현재 시점의 단어를 예측하고자 할 때, 입력 문장 행렬로부터 미래 시점의 단어까지도 참고할 수 있는 현상이 발생한다. \n",
    "* 가령, suis를 예측해야 하는 시점이라고 해보자.\n",
    "* RNN 계열의 seq2seq의 디코더라면 현재까지 디코더에 입력된 단어는 `<sos>`와 je뿐일 것이다. \n",
    "* 반면, 트랜스포머는 이미 문장 행렬로 `<sos>` je suis étudiant를 입력았다. \n",
    "* 이를 위해 트랜스포머의 디코더에서는 현재 시점의 예측에서 현재 시점보다 미래에 있는 단어들을 참고하지 못하도록 Look-Ahead Mask(룩-어헤드 마스크)를 도입했다. "
   ]
  },
  {
   "cell_type": "markdown",
   "id": "9202817c",
   "metadata": {},
   "source": [
    "<img src='https://wikidocs.net/images/page/31379/%EB%94%94%EC%BD%94%EB%8D%94.PNG' height=\"250\" width=\"250\">"
   ]
  },
  {
   "cell_type": "markdown",
   "id": "1a20c016",
   "metadata": {},
   "source": [
    "* Look-Ahead Mask(룩-어헤드 마스크)는 디코더의 첫번째 서브층에서 이루어진다. \n",
    "* 디코더의 첫번째 sub-layer인 Multi-Head Self-Attention layer는 인코더의 첫번째 sub-layer인 Multi-Head Self-Attention layer와 동일한 연산을 수행한다.\n",
    "* 오직 다른 점은 어텐션 스코어 행렬에서 마스킹을 적용한다는 점만 다르다. \n",
    "* 우선 다음과 같이 셀프 어텐션을 통해 어텐션 스코어 행렬을 얻는다."
   ]
  },
  {
   "cell_type": "markdown",
   "id": "6df82594",
   "metadata": {},
   "source": [
    "<img src='https://wikidocs.net/images/page/31379/decoder_attention_score_matrix.PNG' height=\"450\" width=\"450\">"
   ]
  },
  {
   "cell_type": "markdown",
   "id": "443daad9",
   "metadata": {},
   "source": [
    "* 이제 자기 자신보다 미래에 있는 단어들은 참고하지 못하도록 다음과 같이 마스킹한다."
   ]
  },
  {
   "cell_type": "markdown",
   "id": "59ed3f64",
   "metadata": {},
   "source": [
    "<img src='https://wikidocs.net/images/page/31379/%EB%A3%A9%EC%96%B4%ED%97%A4%EB%93%9C%EB%A7%88%EC%8A%A4%ED%81%AC.PNG' height=\"250\" width=\"250\">"
   ]
  },
  {
   "cell_type": "markdown",
   "id": "13c05e95",
   "metadata": {},
   "source": [
    "* 마스킹 된 후의 어텐션 스코어 행렬의 각 행을 보면 자기 자신과 그 이전 단어들만을 참고할 수 있음을 볼 수 있다. \n",
    "* 그 외에는 근본적으로 Self-Attention이라는 점과, Multi-Head Attention을 수행한다는 점에서 인코더의 첫번째 sub-layer와 같다."
   ]
  },
  {
   "cell_type": "markdown",
   "id": "922e44eb",
   "metadata": {},
   "source": [
    "### 4.8 Decoder Second Sub-Layer : Encoder-Decoder Attention"
   ]
  },
  {
   "cell_type": "markdown",
   "id": "d9c5517e",
   "metadata": {},
   "source": [
    "* 디코더의 두 번째 sub-layer에 대해서 이해해보자.\n",
    "* 디코더의 두 번째 sub-layer는  Multi-Head Attention을 수행한다는 점에서는 이전의 어텐션들(인코더와 디코더의 첫 번째 sub-layer)과는 공통점이 있으나 이번에는 Self-Attention이 아니다.\n",
    "* Self-Attention은 Query, Key, Value가 같은 경우를 말하는데, Encoder-Decoder Attention은 Query가 디코더인 행렬인 반면, Key와 Value는 인코더 행렬이기 때문이다.\n",
    "```\n",
    "인코더의 첫번째 서브층 : Query = Key = Value\n",
    "디코더의 첫번째 서브층 : Query = Key = Value\n",
    "디코더의 두번째 서브층 : Query : 디코더 행렬 / Key = Value : 인코더 행렬\n",
    "```\n",
    "* 디코더의 두 번째 sub-layer를 확대해보면, 다음과 같이 인코더로부터 두 개의 화살표가 그려져 있다."
   ]
  },
  {
   "cell_type": "markdown",
   "id": "cadab528",
   "metadata": {},
   "source": [
    "<img src='https://wikidocs.net/images/page/31379/%EB%94%94%EC%BD%94%EB%8D%94%EB%91%90%EB%B2%88%EC%A7%B8%EC%84%9C%EB%B8%8C%EC%B8%B5.PNG' height=\"150\" width=\"150\">"
   ]
  },
  {
   "cell_type": "markdown",
   "id": "84b09386",
   "metadata": {},
   "source": [
    "* 두 개의 화살표는 각각 Key와 Value를 의미하며 이는 인코더의 마지막 층에서 온 행렬로부터 얻는다. \n",
    "* 반면 Query는 디코더의 첫 번째 sub-layer의 결과 행렬로부터 얻는다는 점이 다르다. \n",
    "* Query가 디코더 행렬, Key가 인코더 행렬일 때, 어텐션 스코어 행렬을 구하는 과정은 다음과 같다."
   ]
  },
  {
   "cell_type": "markdown",
   "id": "45c6a5a3",
   "metadata": {},
   "source": [
    "<img src='https://wikidocs.net/images/page/31379/%EB%94%94%EC%BD%94%EB%8D%94%EB%91%90%EB%B2%88%EC%A7%B8%EC%84%9C%EB%B8%8C%EC%B8%B5%EC%9D%98%EC%96%B4%ED%85%90%EC%85%98%EC%8A%A4%EC%BD%94%EC%96%B4%ED%96%89%EB%A0%AC_final.PNG' height=\"450\" width=\"450\">"
   ]
  },
  {
   "cell_type": "markdown",
   "id": "f8ba5bb7",
   "metadata": {},
   "source": [
    "* 그 외에 Multi-Head Attention을 수행하는 과정은 다른 어텐션들과 같다."
   ]
  },
  {
   "cell_type": "markdown",
   "id": "6ed671da",
   "metadata": {},
   "source": [
    "### 4.9 The Decoder Side"
   ]
  },
  {
   "cell_type": "markdown",
   "id": "ed0b8296",
   "metadata": {},
   "source": [
    "* 이제 이 부분들이 모여서 어떻게 같이 작동하는지 보자. \n",
    "* 인코더가 먼저 입력 시퀀스를 처리하기 시작한다. \n",
    "* 그 다음 가장 윗단의 인코더의 출력은 attention 벡터들인 K와 V로 변형된다. \n",
    "* 이 벡터들은 이제 각 디코더의 \"encoder-decoder attention\" layer에서 디코더가 입력 시퀀스에서 적절한 장소에 집중할 수 있도록 도와준다."
   ]
  },
  {
   "cell_type": "markdown",
   "id": "cfc26bf9",
   "metadata": {},
   "source": [
    "<img src='https://nlpinkorean.github.io/images/transformer/transformer_decoding_1.gif' height=\"600\" width=\"600\">"
   ]
  },
  {
   "cell_type": "markdown",
   "id": "0ab1f853",
   "metadata": {},
   "source": [
    "* 이 인코딩 단계가 끝나면 이제 디코딩 단계가 시작된다. \n",
    "* 디코딩 단계의 각 스텝은 출력 시퀀스의 한 요소를 출력한다. \n",
    "* 디코딩 스텝은 디코더가 출력을 완료했다는 기호인 `<end of sentence>`를 출력할 때까지 반복된다. \n",
    "* 각 스텝마다의 출력된 단어는 다음 스텝의 가장 밑단의 디코더에 들어가고 인코더와 마찬가지로 여러 개의 디코더를 거쳐 올라간다. \n",
    "* 인코더의 입력에 했던 것과 동일하게 임베딩을 한 후 Positional Encoding을 추가하여 디코에게 각 단어의 위치 정보를 더해준다."
   ]
  },
  {
   "cell_type": "markdown",
   "id": "6a4f50d0",
   "metadata": {},
   "source": [
    "<img src='https://nlpinkorean.github.io/images/transformer/transformer_decoding_2.gif' height=\"600\" width=\"600\">"
   ]
  },
  {
   "cell_type": "markdown",
   "id": "fd05effd",
   "metadata": {},
   "source": [
    "* 디코더 내에 있는 Self-Attention layer들은 인코더와는 조금 다르게 작동한다.\n",
    "* 디코더에서의 Self-Attention layer는 output sequence 내에서 현재 위치의 이전 위치들에 대해서만 attend 할 수 있다. \n",
    "* 이것은 Self-Attention 계산 과정에서 소프트맥스(softmax) 함수를 취하기 전에 현재 스텝 이후의 위치들에 대해서 masking을 해줌으로써 가능해진다.\n",
    "* \"Encoder-Decoder Attention\" layer는 Multi-Head Self-Attention과 한 가지를 제외하고는 똑같은 방법으로 작동하는데, 그 한 가지 차이점은 Query 행렬들을 그 밑의 layer에서 가져오고 Key 와 Value 행렬들을 인코더의 출력에서 가져온다는 점이다."
   ]
  },
  {
   "cell_type": "markdown",
   "id": "fadcd5bd",
   "metadata": {},
   "source": [
    "### 4.10 The Final Linear and Softmax Layer"
   ]
  },
  {
   "cell_type": "markdown",
   "id": "5ebb008f",
   "metadata": {},
   "source": [
    "* 여러 개의 디코더를 거치고 난 후에는 실수로 이루어진 벡터 하나가 남게 된다. \n",
    "* 어떻게 이 하나의 벡터를 단어로 바꿀 수 있을까? \n",
    "* 이것이 바로 마지막에 있는 Linear layer와 소프트맥스(Softmax) 함수가 하는 일이다.\n",
    " \n",
    "* Linear layer은 fully-connected 신경망으로 디코더가 마지막으로 출력한 벡터를 그보다 훨씬 더 큰 사이즈의 벡터인 logits 벡터로 투영시킨다.\n",
    "* 모델이 training 데이터에서 총 10,000개의 영어 단어를 학습하였다고 가정해본다. (이를 모델의 “output vocabulary”라고 부른다.) \n",
    "* 그렇다면 이 경우에 logits vector의 크기는 10,000이 될 것이다. – 벡터의 각 셀은 그에 대응하는 각 단어에 대한 점수가 된다. \n",
    "* 이렇게 되면 우리는 Linear layer의 결과로서 나오는 출력에 대해서 해석을 할 수 있게 된다.\n",
    " \n",
    "* 그다음에 나오는 소프트맥스(Softmax) 함수는 이 점수들을 확률로 변환해주는 역할을 한다. \n",
    "* 셀들의 변환된 확률 값들은 모두 양수 값을 가지며 다 더하게 되면 1이 된다. \n",
    "* 가장 높은 확률 값을 가지는 셀에 해당하는 단어가 해당 스텝의 최종 결과물로서 출력되게 된다."
   ]
  },
  {
   "cell_type": "markdown",
   "id": "9b370a64",
   "metadata": {},
   "source": [
    "<img src='https://nlpinkorean.github.io/images/transformer/transformer_decoder_output_softmax.png' height=\"550\" width=\"550\">"
   ]
  },
  {
   "cell_type": "markdown",
   "id": "ecfff61d",
   "metadata": {},
   "source": [
    "### 5. Recap Of Training"
   ]
  },
  {
   "cell_type": "markdown",
   "id": "870ff626",
   "metadata": {},
   "source": [
    "### 5.1 Encoding"
   ]
  },
  {
   "cell_type": "markdown",
   "id": "3d6a18dc",
   "metadata": {},
   "source": [
    "* 학습 과정을 시각화하기 위해, output vocabulary가 6개의 단어만 ((\"a\", \"am\", \"i\", \"thanks\", \"student\", and \"`<eos>`\" ('end of sentence'의 줄임말))) 포함하고 있다고 가정한다."
   ]
  },
  {
   "cell_type": "markdown",
   "id": "2a7e8b58",
   "metadata": {},
   "source": [
    "<img src='https://nlpinkorean.github.io/images/transformer/vocabulary.png' height=\"650\" width=\"650\">"
   ]
  },
  {
   "cell_type": "markdown",
   "id": "208145e5",
   "metadata": {},
   "source": [
    "* 모델의 output vocabulary는 학습을 시작하기 전인 preprocessing 단계에서 완성된다. \n",
    "* 이 output vocabulary를 정의한 후에는, 이 vocabulary의 크기만한 벡터를 이용하여 각 단어를 표현할 수 있다. \n",
    "* 이것은 one-hot encoding이라고도 불린다. 그러므로 위 예제에서는, 단어 \"am\" 을 다음과 같은 벡터로 나타낼 수 있다."
   ]
  },
  {
   "cell_type": "markdown",
   "id": "eb936158",
   "metadata": {},
   "source": [
    "<img src='https://nlpinkorean.github.io/images/transformer/one-hot-vocabulary-example.png' height=\"650\" width=\"650\">"
   ]
  },
  {
   "cell_type": "markdown",
   "id": "774ab635",
   "metadata": {},
   "source": [
    "### 5.2 Loss Function"
   ]
  },
  {
   "cell_type": "markdown",
   "id": "0fe04cbb",
   "metadata": {},
   "source": [
    "* 모델을 학습하는 상황에서 가장 첫 번째 단계라고 가정한다. \n",
    "* 그리고 \"merci\"라는 불어를 \"thanks\"로 번역하는 학습을 간단한 예시로 보자. \n",
    "* 이 말은 우리가 원하는 모델의 출력이 \"thanks\"라는 단어를 가리키는 확률 벡터란 것이다. \n",
    "* 하지만 현재의 모델은 아직 학습이 되지 않았기 때문에 출력이 \"thanks\"로 나올 확률은 매우 작다."
   ]
  },
  {
   "cell_type": "markdown",
   "id": "417e8c70",
   "metadata": {},
   "source": [
    "<img src='https://nlpinkorean.github.io/images/transformer/transformer_logits_output_and_label.png' height=\"650\" width=\"650\">"
   ]
  },
  {
   "cell_type": "markdown",
   "id": "aa82f313",
   "metadata": {},
   "source": [
    "* 학습이 시작될 때 모델의 parameter들. 즉, weight들은 랜덤으로 값을 부여하기 때문에 아직 학습이 되지 않은 모델은 그저 각 cell (word)에 대해서 임의의 값을 출력한다. \n",
    "* 이 출력된 임의의 값을 가지는 벡터와 데이터 내의 실제 출력값을 비교하여, 그 차이와 backpropagation 알고리즘을 이용해 현재 모델의 weight들을 조절해 원하는 출력값에 더 가까운 출력이 나오도록 만든다.\n",
    "* 두 확률 벡터의 비교는 하나의 벡터에서 다른 하나의 벡터를 빼버리는 것으로 진행된다. \n",
    "  * 참고 : [Cross-Entropy](https://colah.github.io/posts/2015-09-Visual-Information/)\n",
    "  * 참고 : [Kullback–Leibler divergence](https://www.countbayesie.com/blog/2017/5/9/kullback-leibler-divergence-explained)\n",
    "* 하지만 여기서 하나 주의할 것은 우리가 고려하고 있는 예제가 지나치게 단순화된 경우란 것이다. \n",
    "* 조금 더 현실적인 예제에서는 한 단어보다는 긴 문장을 이용할 것이다. \n",
    "* 예를 들어 입력은 불어 문장 \"je suis étudiant\"이며 바라는 출력은 \"i am a student\"일 것이다. \n",
    "* 이 말은 모델이 출력할 확률 분포에 대해서 우리가 바라는 것은 다음과 같다.\n",
    "  * 각 단어에 대한 확률 분포는 output vocabulary 크기를 가지는 벡터에 의해서 나타내진다. (우리의 간단한 예제에서는 6이지만 실제 실험에서는 3,000 혹은 10,000과 같은 숫자일 것이다.)\n",
    "  * 디코더가 첫 번째로 출력하는 확률 분포는 \"i\"라는 단어와 연관이 있는 cell에 가장 높은 확률을 줘야 한다.\n",
    "  * 두 번째로 출력하는 확률 분포는 \"am\"라는 단어와 연관이 있는 cell에 가장 높은 확률을 줘야 한다.\n",
    "  * 이와 동일하게 마지막 `'<end of sentence>'`를 나타내는 다섯 번째 출력까지 이 과정은 반복된다. (`'<eos>'` 또한 그에 해당하는 cell을 벡터에서 가진다.)"
   ]
  },
  {
   "cell_type": "markdown",
   "id": "838856f7",
   "metadata": {},
   "source": [
    "<img src='https://nlpinkorean.github.io/images/transformer/output_target_probability_distributions.png' height=\"650\" width=\"650\">"
   ]
  },
  {
   "cell_type": "markdown",
   "id": "641317cb",
   "metadata": {},
   "source": [
    "* 위의 그림은 학습에서 목표로 하는 확률 분포를 나타낸 것이다. \n",
    "* 모델을 큰 사이즈의 데이터 셋에서 충분히 학습을 시키고 나면, 그 결과로 생성되는 확률 분포들은 아래와 같아질 것이다."
   ]
  },
  {
   "cell_type": "markdown",
   "id": "e8a39f93",
   "metadata": {},
   "source": [
    "<img src='https://nlpinkorean.github.io/images/transformer/output_trained_model_probability_distributions.png' height=\"650\" width=\"650\">"
   ]
  },
  {
   "cell_type": "markdown",
   "id": "2c69ca72",
   "metadata": {},
   "source": [
    "* 여기서 한 가지 특이한 점은 모델의 출력값 중 다른 단어(목표하는 단어를 제외한 나머지 단어)들이 최종 출력이 될 가능성이 거의 없다 해도 모든 단어가 0보다는 조금씩 더 큰 확률을 가진다는 점이다.\n",
    "* 이것은 학습 과정을 도와주는 소프트맥스(Softmax) 함수의 유용한 성질이다."
   ]
  },
  {
   "cell_type": "markdown",
   "id": "f974685c",
   "metadata": {},
   "source": [
    "### 6. Import Libraries"
   ]
  },
  {
   "cell_type": "code",
   "execution_count": 1,
   "id": "3f572b42",
   "metadata": {},
   "outputs": [],
   "source": [
    "import re\n",
    "import time\n",
    "import numpy as np\n",
    "import pandas as pd\n",
    "import tensorflow as tf\n",
    "import tensorflow_datasets as tfds\n",
    "import matplotlib.pyplot as plt"
   ]
  },
  {
   "cell_type": "markdown",
   "id": "c98fcd21",
   "metadata": {},
   "source": [
    "### 7. Transformer Implementation"
   ]
  },
  {
   "cell_type": "markdown",
   "id": "af85076a",
   "metadata": {},
   "source": [
    "### 7.1 Positional Encoding"
   ]
  },
  {
   "cell_type": "markdown",
   "id": "5d30e8fd",
   "metadata": {},
   "source": [
    "* Positional Encoding을 사용하면 단어의 순서 정보가 보존된다. \n",
    "* 임베딩 벡터에 Positional Encoding의 값을 더하면 같은 단어라고 하더라도 문장 내의 위치에 따라서 트랜스포머의 입력으로 들어가는 임베딩 벡터의 값이 달라진다.\n",
    "* 이에 따라 트랜스포머의 입력은 순서 정보가 고려된 임베딩 벡터가 된다.\n",
    "\n",
    "$$\n",
    "PE_{(pos, 2i)}  =  sin(pos/10000^{2i/d_{model}}) \\\\\n",
    "PE_{(pos, 2i+1)}  =  cos(pos/10000^{2i/d_{model}})\n",
    "$$"
   ]
  },
  {
   "cell_type": "markdown",
   "id": "5214efc3",
   "metadata": {},
   "source": [
    "<img src='https://d3s0tskafalll9.cloudfront.net/media/images/Untitled_9_l58gVWT.max-800x600.png' height=\"250\" width=\"250\">"
   ]
  },
  {
   "cell_type": "code",
   "execution_count": 2,
   "id": "736b01ae",
   "metadata": {},
   "outputs": [],
   "source": [
    "class PositionalEncoding(tf.keras.layers.Layer):\n",
    "    def __init__(self, position, d_model):\n",
    "        super(PositionalEncoding, self).__init__()\n",
    "        self.pos_encoding = self.positional_encoding(position, d_model)\n",
    "\n",
    "    def get_angles(self, position, i, d_model):\n",
    "        angles = 1 / tf.pow(10000, (2 * (i // 2)) / tf.cast(d_model, tf.float32))\n",
    "        return position * angles\n",
    "\n",
    "    # 각도 배열 생성\n",
    "    def positional_encoding(self, position, d_model):\n",
    "        angle_rads = self.get_angles(\n",
    "            position=tf.range(position, dtype=tf.float32)[:, tf.newaxis],\n",
    "            i=tf.range(d_model, dtype=tf.float32)[tf.newaxis, :],\n",
    "            d_model=d_model)\n",
    "\n",
    "        # 배열의 짝수 인덱스(2i)에는 sin 함수 적용\n",
    "        sines = tf.math.sin(angle_rads[:, 0::2])\n",
    "\n",
    "        # 배열의 홀수 인덱스(2i+1)에는 cosine 함수 적용\n",
    "        cosines = tf.math.cos(angle_rads[:, 1::2])\n",
    "\n",
    "        # sin과 cosine이 교차되도록 재배열\n",
    "        pos_encoding = tf.stack([sines, cosines], axis=0)\n",
    "        pos_encoding = tf.transpose(pos_encoding,[1, 2, 0]) \n",
    "        pos_encoding = tf.reshape(pos_encoding, [position, d_model])\n",
    "        pos_encoding = pos_encoding[tf.newaxis, ...]\n",
    "\n",
    "        return tf.cast(pos_encoding, tf.float32)\n",
    "\n",
    "    def call(self, inputs):\n",
    "        return inputs + self.pos_encoding[:, :tf.shape(inputs)[1], :]"
   ]
  },
  {
   "cell_type": "markdown",
   "id": "be1cc61c",
   "metadata": {},
   "source": [
    "* 50 × 128의 크기를 가지는 Positional Encoding을 시각화하여  어떤 형태를 가지는지 확인한다.\n",
    "* 이는 입력 문장의 단어가 50개이면서, 각 단어가 128차원의 임베딩 벡터를 가질 때 사용할 수 있는 행렬이다."
   ]
  },
  {
   "cell_type": "code",
   "execution_count": 3,
   "id": "b21f7e3f",
   "metadata": {},
   "outputs": [
    {
     "data": {
      "image/png": "[encoded data removed]",
      "text/plain": [
       "<Figure size 432x288 with 2 Axes>"
      ]
     },
     "metadata": {
      "needs_background": "light"
     },
     "output_type": "display_data"
    }
   ],
   "source": [
    "sample_pos_encoding = PositionalEncoding(50, 128)\n",
    "\n",
    "plt.pcolormesh(sample_pos_encoding.pos_encoding.numpy()[0], cmap='RdBu')\n",
    "plt.xlabel('Depth')\n",
    "plt.xlim((0, 128))\n",
    "plt.ylabel('Position')\n",
    "plt.colorbar()\n",
    "plt.show()"
   ]
  },
  {
   "cell_type": "markdown",
   "id": "8d506b7a",
   "metadata": {},
   "source": [
    "### 7.2 Scaled dot-product Attention + Mask"
   ]
  },
  {
   "cell_type": "markdown",
   "id": "9524ed02",
   "metadata": {},
   "source": [
    "* Q행렬과 K행렬을 전치한 행렬을 곱하고, 소프트맥스 함수를 사용하여 어텐션 분포 행렬을 얻은 뒤에 V행렬과 곱한다."
   ]
  },
  {
   "cell_type": "markdown",
   "id": "7a35b082",
   "metadata": {},
   "source": [
    "<img src='https://paul-hyun.github.io/assets/2019-12-19/scale_dot_product_attention.png' height=\"300\" width=\"300\">"
   ]
  },
  {
   "cell_type": "markdown",
   "id": "ef5779fb",
   "metadata": {},
   "source": [
    "$$\n",
    "\\text{Attention}(Q, K, V) = \\text{softmax} \\Big(\\frac{QK^T}{\\sqrt d_k} \\Big)V\n",
    "$$"
   ]
  },
  {
   "cell_type": "code",
   "execution_count": 4,
   "id": "09609462",
   "metadata": {},
   "outputs": [],
   "source": [
    "def scaled_dot_product_attention(query, key, value, mask):\n",
    "    # query 크기 : (batch_size, num_heads, query의 문장 길이, d_model/num_heads)\n",
    "    # key 크기 : (batch_size, num_heads, key의 문장 길이, d_model/num_heads)\n",
    "    # value 크기 : (batch_size, num_heads, value의 문장 길이, d_model/num_heads)\n",
    "    # padding_mask : (batch_size, 1, 1, key의 문장 길이)\n",
    "\n",
    "    # Q와 K의 곱. 어텐션 스코어 행렬.\n",
    "    matmul_qk = tf.matmul(query, key, transpose_b=True)\n",
    "\n",
    "    # 스케일링\n",
    "    # dk의 루트값으로 나눠준다.\n",
    "    depth = tf.cast(tf.shape(key)[-1], tf.float32)\n",
    "    logits = matmul_qk / tf.math.sqrt(depth)\n",
    "\n",
    "    # 마스킹. 어텐션 스코어 행렬의 마스킹 할 위치에 매우 작은 음수값을 넣는다.\n",
    "    # 매우 작은 값이므로 소프트맥스 함수를 지나면 행렬의 해당 위치의 값은 0이 된다.\n",
    "    if mask is not None:\n",
    "        logits += (mask * -1e9)\n",
    "\n",
    "    # 소프트맥스 함수는 마지막 차원인 key의 문장 길이 방향으로 수행된다.\n",
    "    # attention weight : (batch_size, num_heads, query의 문장 길이, key의 문장 길이)\n",
    "    attention_weights = tf.nn.softmax(logits, axis=-1)\n",
    "\n",
    "    # output : 최종 어텐션은 가중치와 V의 닷 프로덕트 (batch_size, num_heads, query의 문장 길이, d_model/num_heads)\n",
    "    output = tf.matmul(attention_weights, value)\n",
    "\n",
    "    return output, attention_weights"
   ]
  },
  {
   "cell_type": "markdown",
   "id": "950becf3",
   "metadata": {},
   "source": [
    "### 7.3 Multi-head Attention"
   ]
  },
  {
   "cell_type": "markdown",
   "id": "afe528a6",
   "metadata": {},
   "source": [
    "* Multi-head Attention에서는 크게 두 종류의 가중치 행렬이 나왔다.\n",
    "* Q, K, V 행렬을 만들기 위한 가중치 행렬인 $W^Q$, $W^K$, $W^V$ 행렬과 바로 어텐션 헤드들을 연결(concatenation) 후에 곱해주는 $W^O$ 행렬이다.\n",
    "* 가중치 행렬을 곱하는 것을 구현 상에서는 입력을 전결합층. 즉, 밀집층(Dense layer)을 지나게 하여 구현한다.\n",
    "* Multi-head Attention의 구현은 크게 다섯 가지 파트로 구성된다.\n",
    "  * $W^Q$, $W^K$, $W^V$에 해당하는 $\\text{d_model}$ 크기의 밀집층(Dense layer)을 지나게 한다.\n",
    "  * 지정된 헤드 수($\\text{num_heads}$)만큼 나눈다(split).\n",
    "  * Scaled dot-product Attention\n",
    "  * 나눠졌던 헤드들을 연결(concatenatetion)한다.\n",
    "  * $W^O$에 해당하는 밀집층을 지나게 한다."
   ]
  },
  {
   "cell_type": "markdown",
   "id": "0c0bbc9a",
   "metadata": {},
   "source": [
    "<img src='https://paul-hyun.github.io/assets/2019-12-19/multi_head_attention.png' height=\"380\" width=\"380\">"
   ]
  },
  {
   "cell_type": "code",
   "execution_count": 5,
   "id": "ddc97691",
   "metadata": {},
   "outputs": [],
   "source": [
    "class MultiHeadAttention(tf.keras.layers.Layer):\n",
    "\n",
    "    def __init__(self, d_model, num_heads, name=\"multi_head_attention\"):\n",
    "        super(MultiHeadAttention, self).__init__(name=name)\n",
    "        self.num_heads = num_heads\n",
    "        self.d_model = d_model\n",
    "\n",
    "        assert d_model % self.num_heads == 0\n",
    "\n",
    "        # d_model을 num_heads로 나눈 값.\n",
    "        # 논문 기준 : 64\n",
    "        self.depth = d_model // self.num_heads\n",
    "\n",
    "        # WQ, WK, WV에 해당하는 밀집층 정의\n",
    "        self.query_dense = tf.keras.layers.Dense(units=d_model)\n",
    "        self.key_dense = tf.keras.layers.Dense(units=d_model)\n",
    "        self.value_dense = tf.keras.layers.Dense(units=d_model)\n",
    "\n",
    "        # WO에 해당하는 밀집층 정의\n",
    "        self.dense = tf.keras.layers.Dense(units=d_model)\n",
    "\n",
    "    # num_heads 개수만큼 q, k, v를 split하는 함수\n",
    "    def split_heads(self, inputs, batch_size):\n",
    "        inputs = tf.reshape(\n",
    "            inputs, shape=(batch_size, -1, self.num_heads, self.depth))\n",
    "        return tf.transpose(inputs, perm=[0, 2, 1, 3])\n",
    "\n",
    "    def call(self, inputs):\n",
    "        query, key, value, mask = inputs['query'], inputs['key'], inputs[\n",
    "            'value'], inputs['mask']\n",
    "        batch_size = tf.shape(query)[0]\n",
    "\n",
    "        # 1. WQ, WK, WV에 해당하는 밀집층 지나기\n",
    "        # q : (batch_size, query의 문장 길이, d_model)\n",
    "        # k : (batch_size, key의 문장 길이, d_model)\n",
    "        # v : (batch_size, value의 문장 길이, d_model)\n",
    "        # 참고) 인코더(k, v)-디코더(q) 어텐션에서는 query 길이와 key, value의 길이는 다를 수 있다.\n",
    "        query = self.query_dense(query)\n",
    "        key = self.key_dense(key)\n",
    "        value = self.value_dense(value)\n",
    "\n",
    "        # 2. 헤드 나누기(병렬 연산을 위한 머리를 여러 개 만들기)\n",
    "        # q : (batch_size, num_heads, query의 문장 길이, d_model/num_heads)\n",
    "        # k : (batch_size, num_heads, key의 문장 길이, d_model/num_heads)\n",
    "        # v : (batch_size, num_heads, value의 문장 길이, d_model/num_heads)\n",
    "        query = self.split_heads(query, batch_size)\n",
    "        key = self.split_heads(key, batch_size)\n",
    "        value = self.split_heads(value, batch_size)\n",
    "\n",
    "        # 3. 스케일드 닷 프로덕트 어텐션. 앞서 구현한 함수 사용.\n",
    "        # (batch_size, num_heads, query의 문장 길이, d_model/num_heads)\n",
    "        scaled_attention, _ = scaled_dot_product_attention(query, key, value, mask)\n",
    "        # (batch_size, query의 문장 길이, num_heads, d_model/num_heads)\n",
    "        scaled_attention = tf.transpose(scaled_attention, perm=[0, 2, 1, 3])\n",
    "\n",
    "        # 4. 헤드 연결(concatenate)하기\n",
    "        # (batch_size, query의 문장 길이, d_model)\n",
    "        concat_attention = tf.reshape(scaled_attention, (batch_size, -1, self.d_model))\n",
    "\n",
    "        # 5. WO에 해당하는 밀집층 지나기\n",
    "        # (batch_size, query의 문장 길이, d_model)\n",
    "        outputs = self.dense(concat_attention)\n",
    "\n",
    "        return outputs"
   ]
  },
  {
   "cell_type": "markdown",
   "id": "ad7311fb",
   "metadata": {},
   "source": [
    "### 7.4 Mask"
   ]
  },
  {
   "cell_type": "markdown",
   "id": "15ae7b07",
   "metadata": {},
   "source": [
    "* 트랜스포머에는 총 세 가지 어텐션이 존재하며, 모두 Multi-Head Attention을 수행하고, Multi-Head Attention함수 내부에서 Scaled dot-product Attention 함수를 호출하는데 각 어텐션 시 함수에 전달하는 마스킹은 다음과 같다.\n",
    "  * 인코더의 Self-Attention : Padding Mask 전달\n",
    "  * 디코더의 첫번째 서브층인 Masked Self-Attention : Look-Ahead Mask 전달\n",
    "  * 디코더의 두번째 서브층인 Encoder-Decoder Attention : Padding Mask 전달\n",
    "* 이때 Look-Ahead Mask를 한다고해서 Padding Mask가 불필요한 것이 아니므로 Look-Ahead Mask는 Padding Mask를 포함하도록 구현한다."
   ]
  },
  {
   "cell_type": "markdown",
   "id": "ac92c314",
   "metadata": {},
   "source": [
    "### 7.4.1 Padding Mask"
   ]
  },
  {
   "cell_type": "markdown",
   "id": "dec04ba6",
   "metadata": {},
   "source": [
    "* 패딩 마스크를 구현하는 방법은 입력된 정수 시퀀스에서 패딩 토큰의 인덱스인지, 아닌지를 판별하는 함수를 구현하는 것이다. \n",
    "* 아래의 함수는 정수 시퀀스에서 0인 경우에는 1로 변환하고, 그렇지 않은 경우에는 0으로 변환하는 함수이다.\n",
    "* 아래 함수를 통해 반환되는 벡터를 통해서 1의 값을 가진 위치의 열을 어텐션 스코어 행렬에서 마스킹하는 용도로 사용할 수 있다.\n",
    "* 아래 함수를 통해 반환되는 벡터를 Scaled dot-product Attention의 인자로 전달하면, 해당 벡터에다가 매우 작은 음수값인 -1e9를 곱하고, 이를 행렬에 더해주어 해당 열을 전부 마스킹한다."
   ]
  },
  {
   "cell_type": "code",
   "execution_count": 6,
   "id": "693cc8de",
   "metadata": {},
   "outputs": [],
   "source": [
    "def create_padding_mask(x):\n",
    "    mask = tf.cast(tf.math.equal(x, 0), tf.float32)\n",
    "    # (batch_size, 1, 1, key의 문장 길이)\n",
    "    return mask[:, tf.newaxis, tf.newaxis, :]"
   ]
  },
  {
   "cell_type": "markdown",
   "id": "aec20418",
   "metadata": {},
   "source": [
    "### 7.4.2 Look-Ahead Mask"
   ]
  },
  {
   "cell_type": "markdown",
   "id": "3ff77934",
   "metadata": {},
   "source": [
    "* 순환 신경망, RNN과 트랜스포머는 문장을 입력받을 때 입력받는 방법이 전혀 다르다.\n",
    "* 트랜스포머의 경우에는 문장 행렬을 만들어 한 번에 행렬 형태로 입력으로 들어간다.\n",
    "* 때문에 위치와 상관없이 모든 단어를 참고해서 다음 단어를 예측할 수 있다. \n",
    "* 우리가 원하는 것은 이전 단어들로부터 다음 단어를 예측하는 훈련을 제대로 하는 것이다. \n",
    "* 따라서 자신보다 다음에 나올 단어를 참고하지 않도록 가리는 기법인 Look-ahead masking을 사용한다.\n",
    "* 패딩 마스크와 마찬가지로 앞서 구현한 Scaled dot-product Attention 함수에 mask라는 인자로 전달한다.\n",
    "* Look-Ahead Mask를 구현하는 방법은 패딩 마스크 때와 마찬가지로 마스킹을 하고자 하는 위치에는 1을, 마스킹을 하지 않는 위치에는 0을 리턴하도록 한다."
   ]
  },
  {
   "cell_type": "code",
   "execution_count": 7,
   "id": "e7b61a7c",
   "metadata": {},
   "outputs": [],
   "source": [
    "# 디코더의 첫번째 서브층(sublayer)에서 미래 토큰을 Mask하는 함수\n",
    "def create_look_ahead_mask(x):\n",
    "    seq_len = tf.shape(x)[1]\n",
    "    look_ahead_mask = 1 - tf.linalg.band_part(tf.ones((seq_len, seq_len)), -1, 0)\n",
    "    padding_mask = create_padding_mask(x) # 패딩 마스크도 포함\n",
    "    return tf.maximum(look_ahead_mask, padding_mask)"
   ]
  },
  {
   "cell_type": "markdown",
   "id": "8c117723",
   "metadata": {},
   "source": [
    "### 7.5 Position-wise FFNN"
   ]
  },
  {
   "cell_type": "markdown",
   "id": "8ee6af83",
   "metadata": {},
   "source": [
    "* Position-wise FFNN은 인코더와 디코더에서 공통적으로 가지고 있는 sub-layer이다."
   ]
  },
  {
   "cell_type": "markdown",
   "id": "5daffb3c",
   "metadata": {},
   "source": [
    "<img src='https://paul-hyun.github.io/assets/2019-12-19/feed-forward.png' height=\"400\" width=\"400\">"
   ]
  },
  {
   "cell_type": "markdown",
   "id": "d46a33dd",
   "metadata": {},
   "source": [
    "<img src='https://wikidocs.net/images/page/31379/transformer20.PNG' height=\"400\" width=\"400\">"
   ]
  },
  {
   "cell_type": "markdown",
   "id": "27a0431c",
   "metadata": {},
   "source": [
    "```python\n",
    "# Position-wise FFNN을 구현하면 아래와 같다\n",
    "# 다음의 코드는 인코더와 디코더 내부에서 사용할 예정이다.\n",
    "outputs = tf.keras.layers.Dense(units=dff, activation='relu')(attention)\n",
    "outputs = tf.keras.layers.Dense(units=d_model)(outputs)\n",
    "```"
   ]
  },
  {
   "cell_type": "markdown",
   "id": "a811152f",
   "metadata": {},
   "source": [
    "### 7.6 Encoder"
   ]
  },
  {
   "cell_type": "markdown",
   "id": "ae759445",
   "metadata": {},
   "source": [
    "* 인코더의 입력으로 들어가는 문장에는 패딩이 있을 수 있으므로, 어텐션 시 패딩 토큰을 제외하도록 패딩 마스크를 사용한다.\n",
    "*  이는 Multi-Head Attention 함수의 mask의 인자값으로 Padding Mask가 사용되는 이유이다. \n",
    "* 인코더는 총 두 개의 sub-layer로 이루어지는데, Multi-Head Attention과 FFNN이다.\n",
    "* 각 서브층 이후에는 드롭 아웃, 잔차 연결과 층 정규화가 수행된다."
   ]
  },
  {
   "cell_type": "markdown",
   "id": "fe7bddef",
   "metadata": {},
   "source": [
    "<img src='https://paul-hyun.github.io/assets/2019-12-19/encoder.png' height=\"150\" width=\"150\">"
   ]
  },
  {
   "cell_type": "code",
   "execution_count": 8,
   "id": "2243aa75",
   "metadata": {},
   "outputs": [],
   "source": [
    "def encoder_layer(dff, d_model, num_heads, dropout, name=\"encoder_layer\"):\n",
    "    inputs = tf.keras.Input(shape=(None, d_model), name=\"inputs\")\n",
    "\n",
    "    # 인코더는 패딩 마스크 사용\n",
    "    padding_mask = tf.keras.Input(shape=(1, 1, None), name=\"padding_mask\")\n",
    "\n",
    "    # 멀티-헤드 어텐션 (첫번째 서브층 / 셀프 어텐션)\n",
    "    attention = MultiHeadAttention(\n",
    "        d_model, num_heads, name=\"attention\")({\n",
    "            'query': inputs, 'key': inputs, 'value': inputs, # Q = K = V\n",
    "            'mask': padding_mask # 패딩 마스크 사용\n",
    "        })\n",
    "\n",
    "    # 드롭아웃 + 잔차 연결과 층 정규화\n",
    "    attention = tf.keras.layers.Dropout(rate=dropout)(attention)\n",
    "    attention = tf.keras.layers.LayerNormalization(epsilon=1e-6)(inputs + attention)\n",
    "\n",
    "    # 포지션 와이즈 피드 포워드 신경망 (두번째 서브층)\n",
    "    outputs = tf.keras.layers.Dense(units=dff, activation='relu')(attention)\n",
    "    outputs = tf.keras.layers.Dense(units=d_model)(outputs)\n",
    "\n",
    "    # 드롭아웃 + 잔차 연결과 층 정규화\n",
    "    outputs = tf.keras.layers.Dropout(rate=dropout)(outputs)\n",
    "    outputs = tf.keras.layers.LayerNormalization(epsilon=1e-6)(attention + outputs)\n",
    "\n",
    "    return tf.keras.Model(inputs=[inputs, padding_mask], outputs=outputs, name=name)"
   ]
  },
  {
   "cell_type": "markdown",
   "id": "e1369dd3",
   "metadata": {},
   "source": [
    "* 인코더 층을 num_layers개만큼 쌓고, 마지막 인코더 층에서 얻는 $(\\text{seq_len}, d_{model})$ 크기의 행렬을 디코더로 보내줌으로써 트랜스포머 인코더의 인코딩 연산이 끝나게 된다."
   ]
  },
  {
   "cell_type": "code",
   "execution_count": 9,
   "id": "d9e95126",
   "metadata": {},
   "outputs": [],
   "source": [
    "def encoder(vocab_size, num_layers, dff,\n",
    "            d_model, num_heads, dropout,\n",
    "            name=\"encoder\"):\n",
    "\n",
    "    inputs = tf.keras.Input(shape=(None,), name=\"inputs\")\n",
    "\n",
    "    # 인코더는 패딩 마스크 사용\n",
    "    padding_mask = tf.keras.Input(shape=(1, 1, None), name=\"padding_mask\")\n",
    "\n",
    "    # 포지셔널 인코딩 + 드롭아웃\n",
    "    embeddings = tf.keras.layers.Embedding(vocab_size, d_model)(inputs)\n",
    "    embeddings *= tf.math.sqrt(tf.cast(d_model, tf.float32))\n",
    "    embeddings = PositionalEncoding(vocab_size, d_model)(embeddings)\n",
    "    outputs = tf.keras.layers.Dropout(rate=dropout)(embeddings)\n",
    "\n",
    "    # 인코더를 num_layers개 쌓기\n",
    "    for i in range(num_layers):\n",
    "        outputs = encoder_layer(dff=dff, d_model=d_model, num_heads=num_heads,\n",
    "            dropout=dropout, name=\"encoder_layer_{}\".format(i),\n",
    "        )([outputs, padding_mask])\n",
    "\n",
    "    return tf.keras.Model(inputs=[inputs, padding_mask], outputs=outputs, name=name)"
   ]
  },
  {
   "cell_type": "markdown",
   "id": "f2a9ec68",
   "metadata": {},
   "source": [
    "### 7.7 Decoder"
   ]
  },
  {
   "cell_type": "markdown",
   "id": "72bcc519",
   "metadata": {},
   "source": [
    "* 디코더는 총 세 개의 sub-layer로 구성된다.\n",
    "* 첫 번째와 두 번째 sub-layer 모두 Multi-Head Attention이지만, 첫 번째 sub-layer는 mask의 인자값으로 Look-Ahead Mask가 들어가고\n",
    "* 두 번째 sub-layer는 mask의 인자값으로 Padding Mask가 들어간다.\n",
    "* 이는 첫 번째 sub-layer는 Masked Self-Attention을 수행하기 때문이다.\n",
    "* 세 개의 sub-layer 모두 sub-layer 연산 후에는 드롭 아웃, 잔차 연결, 층 정규화가 수행된다."
   ]
  },
  {
   "cell_type": "markdown",
   "id": "85f852b2",
   "metadata": {},
   "source": [
    "<img src='https://paul-hyun.github.io/assets/2019-12-19/decoder.png' height=\"150\" width=\"150\">"
   ]
  },
  {
   "cell_type": "code",
   "execution_count": 10,
   "id": "f74e9e15",
   "metadata": {},
   "outputs": [],
   "source": [
    "def decoder_layer(dff, d_model, num_heads, dropout, name=\"decoder_layer\"):\n",
    "    inputs = tf.keras.Input(shape=(None, d_model), name=\"inputs\")\n",
    "    enc_outputs = tf.keras.Input(shape=(None, d_model), name=\"encoder_outputs\")\n",
    "\n",
    "    # 디코더는 룩어헤드 마스크(첫번째 서브층)와 패딩 마스크(두번째 서브층) 둘 다 사용.\n",
    "    look_ahead_mask = tf.keras.Input(\n",
    "        shape=(1, None, None), name=\"look_ahead_mask\")\n",
    "    padding_mask = tf.keras.Input(shape=(1, 1, None), name='padding_mask')\n",
    "\n",
    "    # 멀티-헤드 어텐션 (첫번째 서브층 / 마스크드 셀프 어텐션)\n",
    "    attention1 = MultiHeadAttention(\n",
    "        d_model, num_heads, name=\"attention_1\")(inputs={\n",
    "            'query': inputs, 'key': inputs, 'value': inputs, # Q = K = V\n",
    "            'mask': look_ahead_mask # 룩어헤드 마스크\n",
    "        })\n",
    "\n",
    "    # 잔차 연결과 층 정규화\n",
    "    attention1 = tf.keras.layers.LayerNormalization(epsilon=1e-6)(attention1 + inputs)\n",
    "\n",
    "    # 멀티-헤드 어텐션 (두번째 서브층 / 디코더-인코더 어텐션)\n",
    "    attention2 = MultiHeadAttention(\n",
    "        d_model, num_heads, name=\"attention_2\")(inputs={\n",
    "            'query': attention1, 'key': enc_outputs, 'value': enc_outputs, # Q != K = V\n",
    "            'mask': padding_mask # 패딩 마스크\n",
    "        })\n",
    "\n",
    "    # 드롭아웃 + 잔차 연결과 층 정규화\n",
    "    attention2 = tf.keras.layers.Dropout(rate=dropout)(attention2)\n",
    "    attention2 = tf.keras.layers.LayerNormalization(epsilon=1e-6)(attention2 + attention1)\n",
    "\n",
    "    # 포지션 와이즈 피드 포워드 신경망 (세번째 서브층)\n",
    "    outputs = tf.keras.layers.Dense(units=dff, activation='relu')(attention2)\n",
    "    outputs = tf.keras.layers.Dense(units=d_model)(outputs)\n",
    "\n",
    "    # 드롭아웃 + 잔차 연결과 층 정규화\n",
    "    outputs = tf.keras.layers.Dropout(rate=dropout)(outputs)\n",
    "    outputs = tf.keras.layers.LayerNormalization(epsilon=1e-6)(outputs + attention2)\n",
    "\n",
    "    return tf.keras.Model(\n",
    "        inputs=[inputs, enc_outputs, look_ahead_mask, padding_mask],\n",
    "        outputs=outputs,\n",
    "        name=name)"
   ]
  },
  {
   "cell_type": "markdown",
   "id": "386a4d52",
   "metadata": {},
   "source": [
    "* Positional Encoding 후 디코더 층을 num_layers의 개수만큼 쌓는다."
   ]
  },
  {
   "cell_type": "code",
   "execution_count": 11,
   "id": "48ea8bba",
   "metadata": {},
   "outputs": [],
   "source": [
    "def decoder(vocab_size, num_layers, dff,\n",
    "            d_model, num_heads, dropout,\n",
    "            name='decoder'):\n",
    "    inputs = tf.keras.Input(shape=(None,), name='inputs')\n",
    "    enc_outputs = tf.keras.Input(shape=(None, d_model), name='encoder_outputs')\n",
    "\n",
    "    # 디코더는 룩어헤드 마스크(첫번째 서브층)와 패딩 마스크(두번째 서브층) 둘 다 사용.\n",
    "    look_ahead_mask = tf.keras.Input(\n",
    "        shape=(1, None, None), name='look_ahead_mask')\n",
    "    padding_mask = tf.keras.Input(shape=(1, 1, None), name='padding_mask')\n",
    "\n",
    "    # 포지셔널 인코딩 + 드롭아웃\n",
    "    embeddings = tf.keras.layers.Embedding(vocab_size, d_model)(inputs)\n",
    "    embeddings *= tf.math.sqrt(tf.cast(d_model, tf.float32))\n",
    "    embeddings = PositionalEncoding(vocab_size, d_model)(embeddings)\n",
    "    outputs = tf.keras.layers.Dropout(rate=dropout)(embeddings)\n",
    "\n",
    "    # 디코더를 num_layers개 쌓기\n",
    "    for i in range(num_layers):\n",
    "        outputs = decoder_layer(dff=dff, d_model=d_model, num_heads=num_heads,\n",
    "            dropout=dropout, name='decoder_layer_{}'.format(i),\n",
    "        )(inputs=[outputs, enc_outputs, look_ahead_mask, padding_mask])\n",
    "\n",
    "    return tf.keras.Model(\n",
    "        inputs=[inputs, enc_outputs, look_ahead_mask, padding_mask],\n",
    "        outputs=outputs,\n",
    "        name=name)"
   ]
  },
  {
   "cell_type": "markdown",
   "id": "f145e23a",
   "metadata": {},
   "source": [
    "### 7.8 Transformer"
   ]
  },
  {
   "cell_type": "markdown",
   "id": "c4021868",
   "metadata": {},
   "source": [
    "* 지금까지 구현한 인코더와 디코더 함수를 조합하여 트랜스포머를 조립한다.\n",
    "* 인코더의 출력은 디코더에서 Encoder-Decoder Attention에서 사용되기 위해 디코더로 전달해준다.\n",
    "* 디코더의 끝단에는 다중 클래스 분류 문제를 풀 수 있도록, vocab_size 만큼의 뉴런을 가지는 출력층을 추가한다."
   ]
  },
  {
   "cell_type": "code",
   "execution_count": 12,
   "id": "06021128",
   "metadata": {},
   "outputs": [],
   "source": [
    "def transformer(vocab_size, num_layers, dff,\n",
    "                d_model, num_heads, dropout,\n",
    "                name=\"transformer\"):\n",
    "\n",
    "    # 인코더의 입력\n",
    "    inputs = tf.keras.Input(shape=(None,), name=\"inputs\")\n",
    "\n",
    "    # 디코더의 입력\n",
    "    dec_inputs = tf.keras.Input(shape=(None,), name=\"dec_inputs\")\n",
    "\n",
    "    # 인코더의 패딩 마스크\n",
    "    enc_padding_mask = tf.keras.layers.Lambda(\n",
    "        create_padding_mask, output_shape=(1, 1, None),\n",
    "        name='enc_padding_mask')(inputs)\n",
    "\n",
    "    # 디코더의 룩어헤드 마스크(첫번째 서브층)\n",
    "    look_ahead_mask = tf.keras.layers.Lambda(\n",
    "        create_look_ahead_mask, output_shape=(1, None, None),\n",
    "        name='look_ahead_mask')(dec_inputs)\n",
    "\n",
    "    # 디코더의 패딩 마스크(두번째 서브층)\n",
    "    dec_padding_mask = tf.keras.layers.Lambda(\n",
    "        create_padding_mask, output_shape=(1, 1, None),\n",
    "        name='dec_padding_mask')(inputs)\n",
    "\n",
    "    # 인코더의 출력은 enc_outputs. 디코더로 전달된다.\n",
    "    enc_outputs = encoder(vocab_size=vocab_size, num_layers=num_layers, dff=dff,\n",
    "        d_model=d_model, num_heads=num_heads, dropout=dropout,\n",
    "    )(inputs=[inputs, enc_padding_mask]) # 인코더의 입력은 입력 문장과 패딩 마스크\n",
    "\n",
    "    # 디코더의 출력은 dec_outputs. 출력층으로 전달된다.\n",
    "    dec_outputs = decoder(vocab_size=vocab_size, num_layers=num_layers, dff=dff,\n",
    "        d_model=d_model, num_heads=num_heads, dropout=dropout,\n",
    "    )(inputs=[dec_inputs, enc_outputs, look_ahead_mask, dec_padding_mask])\n",
    "\n",
    "    # 다음 단어 예측을 위한 출력층\n",
    "    outputs = tf.keras.layers.Dense(units=vocab_size, name=\"outputs\")(dec_outputs)\n",
    "\n",
    "    return tf.keras.Model(inputs=[inputs, dec_inputs], outputs=outputs, name=name)"
   ]
  },
  {
   "cell_type": "markdown",
   "id": "e9dd1830",
   "metadata": {},
   "source": [
    "* Transformer 모델의 구조를 그림으로 살펴보자"
   ]
  },
  {
   "cell_type": "code",
   "execution_count": 13,
   "id": "c6f2f88a",
   "metadata": {},
   "outputs": [
    {
     "data": {
      "image/png": "[encoded data removed]",
      "text/plain": [
       "<IPython.core.display.Image object>"
      ]
     },
     "execution_count": 13,
     "metadata": {},
     "output_type": "execute_result"
    }
   ],
   "source": [
    "small_transformer = transformer(\n",
    "    vocab_size = 9000,\n",
    "    num_layers = 4,  # 인코더와 디코더의 층의 개수\n",
    "    dff = 512,       # 피드 포워드 신경망의 은닉층의 크기\n",
    "    d_model = 128,   # 인코더와 디코더 내부의 입, 출력의 고정 차원\n",
    "    num_heads = 4,   # 멀티 헤드 어텐션에서의 헤드 수\n",
    "    dropout = 0.3,   # 드롭아웃의 비율\n",
    "    name=\"small_transformer\")\n",
    "\n",
    "tf.keras.utils.plot_model(\n",
    "    small_transformer, to_file='small_transformer.png', show_shapes=True)"
   ]
  },
  {
   "cell_type": "markdown",
   "id": "d9ea98a3",
   "metadata": {},
   "source": [
    "### 7.9 Loss Function"
   ]
  },
  {
   "cell_type": "markdown",
   "id": "168461c8",
   "metadata": {},
   "source": [
    "* chatbot은 다중 클래스 분류 문제이므로 크로스 엔트로피 함수를 손실 함수로 정의한다."
   ]
  },
  {
   "cell_type": "code",
   "execution_count": 14,
   "id": "f2e3dd8a",
   "metadata": {},
   "outputs": [],
   "source": [
    "def loss_function(y_true, y_pred):\n",
    "    y_true = tf.reshape(y_true, shape=(-1, MAX_LENGTH - 1))\n",
    "\n",
    "    loss = tf.keras.losses.SparseCategoricalCrossentropy(\n",
    "        from_logits=True, reduction='none')(y_true, y_pred)\n",
    "\n",
    "    mask = tf.cast(tf.not_equal(y_true, 0), tf.float32)\n",
    "    loss = tf.multiply(loss, mask)\n",
    "\n",
    "    return tf.reduce_mean(loss)"
   ]
  },
  {
   "cell_type": "markdown",
   "id": "5e05b616",
   "metadata": {},
   "source": [
    "### 7.10 Learning Rate Scheduler"
   ]
  },
  {
   "cell_type": "markdown",
   "id": "b9bf67d8",
   "metadata": {},
   "source": [
    "* Learning rate Scheduler는 미리 학습 일정을 정해두고 그 일정에 따라 학습률이 조정되는 방법이다. \n",
    "* 트랜스포머의 경우 사용자가 정한 단계까지는 학습률을 증가시켰다가 단계에 이르면 학습률을 점차적으로 떨어트리는 방식을 사용한다.\n",
    "  * $\\text{step_num}$ : 옵티마이저가 매개변수를 업데이트 하는 한 번의 진행 횟수\n",
    "  * 트랜스포머에서는 $\\text{warmup_steps}$라는 변수를 정하고 $\\text{step_num}$이 $\\text{warmup_steps}$보다 작을 경우는 학습률을 선형적으로 증가\n",
    "  * $\\text{step_num}$이 $\\text{warmup_steps}$에 도달하게 되면 학습률을 $\\text{step_num}$의 역제곱근에 따라서 감소시킨다.\n",
    "* 이를 식으로 표현하면 아래와 같다."
   ]
  },
  {
   "cell_type": "markdown",
   "id": "f2bf8a88",
   "metadata": {},
   "source": [
    "$$\n",
    "\\text{lrate} = d_{model}^{-0.5} \\times \\text{min}(\\text{step_num}^{-0.5}, \\text{step_num} \\times \\text{warmup_steps}^{-1.5})\n",
    "$$"
   ]
  },
  {
   "cell_type": "code",
   "execution_count": 15,
   "id": "b1e1f908",
   "metadata": {},
   "outputs": [],
   "source": [
    "class CustomSchedule(tf.keras.optimizers.schedules.LearningRateSchedule):\n",
    "\n",
    "    def __init__(self, d_model, warmup_steps=4000):\n",
    "        super(CustomSchedule, self).__init__()\n",
    "        self.d_model = d_model\n",
    "        self.d_model = tf.cast(self.d_model, tf.float32)\n",
    "        self.warmup_steps = warmup_steps\n",
    "\n",
    "    def __call__(self, step):\n",
    "        arg1 = tf.math.rsqrt(step)\n",
    "        arg2 = step * (self.warmup_steps**-1.5)\n",
    "\n",
    "        return tf.math.rsqrt(self.d_model) * tf.math.minimum(arg1, arg2)"
   ]
  },
  {
   "cell_type": "markdown",
   "id": "be52c3fe",
   "metadata": {},
   "source": [
    "* 학습률의 변화를 시각화 해본다."
   ]
  },
  {
   "cell_type": "code",
   "execution_count": 16,
   "id": "780f8dbe",
   "metadata": {},
   "outputs": [
    {
     "data": {
      "text/plain": [
       "Text(0.5, 0, 'Train Step')"
      ]
     },
     "execution_count": 16,
     "metadata": {},
     "output_type": "execute_result"
    },
    {
     "data": {
      "image/png": "[encoded data removed]",
      "text/plain": [
       "<Figure size 432x288 with 1 Axes>"
      ]
     },
     "metadata": {
      "needs_background": "light"
     },
     "output_type": "display_data"
    }
   ],
   "source": [
    "sample_learning_rate = CustomSchedule(d_model=128)\n",
    "\n",
    "plt.plot(sample_learning_rate(tf.range(200000, dtype=tf.float32)))\n",
    "plt.ylabel(\"Learning Rate\")\n",
    "plt.xlabel(\"Train Step\")"
   ]
  },
  {
   "cell_type": "markdown",
   "id": "84ef1025",
   "metadata": {},
   "source": [
    "### 8. Make Chatbot"
   ]
  },
  {
   "cell_type": "markdown",
   "id": "bd26779e",
   "metadata": {},
   "source": [
    "### 8.1 Load Data"
   ]
  },
  {
   "cell_type": "code",
   "execution_count": 17,
   "id": "b6baee5b",
   "metadata": {},
   "outputs": [
    {
     "data": {
      "text/html": [
       "<div>\n",
       "<style scoped>\n",
       "    .dataframe tbody tr th:only-of-type {\n",
       "        vertical-align: middle;\n",
       "    }\n",
       "\n",
       "    .dataframe tbody tr th {\n",
       "        vertical-align: top;\n",
       "    }\n",
       "\n",
       "    .dataframe thead th {\n",
       "        text-align: right;\n",
       "    }\n",
       "</style>\n",
       "<table border=\"1\" class=\"dataframe\">\n",
       "  <thead>\n",
       "    <tr style=\"text-align: right;\">\n",
       "      <th></th>\n",
       "      <th>Q</th>\n",
       "      <th>A</th>\n",
       "      <th>label</th>\n",
       "    </tr>\n",
       "  </thead>\n",
       "  <tbody>\n",
       "    <tr>\n",
       "      <th>0</th>\n",
       "      <td>12시 땡!</td>\n",
       "      <td>하루가 또 가네요.</td>\n",
       "      <td>0</td>\n",
       "    </tr>\n",
       "    <tr>\n",
       "      <th>1</th>\n",
       "      <td>1지망 학교 떨어졌어</td>\n",
       "      <td>위로해 드립니다.</td>\n",
       "      <td>0</td>\n",
       "    </tr>\n",
       "    <tr>\n",
       "      <th>2</th>\n",
       "      <td>3박4일 놀러가고 싶다</td>\n",
       "      <td>여행은 언제나 좋죠.</td>\n",
       "      <td>0</td>\n",
       "    </tr>\n",
       "    <tr>\n",
       "      <th>3</th>\n",
       "      <td>3박4일 정도 놀러가고 싶다</td>\n",
       "      <td>여행은 언제나 좋죠.</td>\n",
       "      <td>0</td>\n",
       "    </tr>\n",
       "    <tr>\n",
       "      <th>4</th>\n",
       "      <td>PPL 심하네</td>\n",
       "      <td>눈살이 찌푸려지죠.</td>\n",
       "      <td>0</td>\n",
       "    </tr>\n",
       "  </tbody>\n",
       "</table>\n",
       "</div>"
      ],
      "text/plain": [
       "                 Q            A  label\n",
       "0           12시 땡!   하루가 또 가네요.      0\n",
       "1      1지망 학교 떨어졌어    위로해 드립니다.      0\n",
       "2     3박4일 놀러가고 싶다  여행은 언제나 좋죠.      0\n",
       "3  3박4일 정도 놀러가고 싶다  여행은 언제나 좋죠.      0\n",
       "4          PPL 심하네   눈살이 찌푸려지죠.      0"
      ]
     },
     "execution_count": 17,
     "metadata": {},
     "output_type": "execute_result"
    }
   ],
   "source": [
    "train_data = pd.read_csv('~/aiffel/transformer_chatbot/data/ChatbotData .csv')\n",
    "train_data.head()"
   ]
  },
  {
   "cell_type": "markdown",
   "id": "ee468ca3",
   "metadata": {},
   "source": [
    "* 이 데이터는 질문과 대답의 쌍으로 이루어진 데이터이다."
   ]
  },
  {
   "cell_type": "code",
   "execution_count": 18,
   "id": "1be38d6e",
   "metadata": {},
   "outputs": [
    {
     "name": "stdout",
     "output_type": "stream",
     "text": [
      "The number of charbot sample : 11823\n"
     ]
    }
   ],
   "source": [
    "print('The number of charbot sample :', len(train_data))"
   ]
  },
  {
   "cell_type": "markdown",
   "id": "2401e6ff",
   "metadata": {},
   "source": [
    "* 총 11,823개의 샘플이 있다. "
   ]
  },
  {
   "cell_type": "code",
   "execution_count": 19,
   "id": "d663816c",
   "metadata": {},
   "outputs": [
    {
     "name": "stdout",
     "output_type": "stream",
     "text": [
      "Q        0\n",
      "A        0\n",
      "label    0\n",
      "dtype: int64\n"
     ]
    }
   ],
   "source": [
    "print(train_data.isnull().sum())"
   ]
  },
  {
   "cell_type": "markdown",
   "id": "360fe14c",
   "metadata": {},
   "source": [
    "* Null값을 별도로 존재하지 않는다."
   ]
  },
  {
   "cell_type": "markdown",
   "id": "a2a8e726",
   "metadata": {},
   "source": [
    "### 8.2 Data Preprocessing"
   ]
  },
  {
   "cell_type": "code",
   "execution_count": 20,
   "id": "50f55428",
   "metadata": {},
   "outputs": [],
   "source": [
    "questions = []\n",
    "for sentence in train_data['Q']:\n",
    "    # 구두점에 대해서 띄어쓰기\n",
    "    # ex) 12시 땡! -> 12시 땡 !\n",
    "    sentence = re.sub(r\"([?.!,])\", r\" \\1 \", sentence)\n",
    "    sentence = sentence.strip()\n",
    "    questions.append(sentence)"
   ]
  },
  {
   "cell_type": "markdown",
   "id": "d6ca73ae",
   "metadata": {},
   "source": [
    "* 원 데이터에서 ?, ., !와 같은 구두점을 미리 처리해야 한다. \n",
    "* 구두점들을 단순히 제거할 수도 있겠지만, 여기서는 구두점 앞에 공백을 추가해 다른 문자들과 구분한다."
   ]
  },
  {
   "cell_type": "code",
   "execution_count": 21,
   "id": "ceb8cc2f",
   "metadata": {},
   "outputs": [],
   "source": [
    "answers = []\n",
    "for sentence in train_data['A']:\n",
    "    # 구두점에 대해서 띄어쓰기\n",
    "    # ex) 12시 땡! -> 12시 땡 !\n",
    "    sentence = re.sub(r\"([?.!,])\", r\" \\1 \", sentence)\n",
    "    sentence = sentence.strip()\n",
    "    answers.append(sentence)"
   ]
  },
  {
   "cell_type": "code",
   "execution_count": 22,
   "id": "4e6bc828",
   "metadata": {},
   "outputs": [],
   "source": [
    "def preprocess_sentence(sentence):\n",
    "    sentence = re.sub(r\"([?.!,])\", r\" \\1 \", sentence)\n",
    "    sentence = sentence.strip()\n",
    "    return sentence"
   ]
  },
  {
   "cell_type": "code",
   "execution_count": 23,
   "id": "15d50f44",
   "metadata": {},
   "outputs": [
    {
     "data": {
      "text/plain": [
       "11823"
      ]
     },
     "execution_count": 23,
     "metadata": {},
     "output_type": "execute_result"
    }
   ],
   "source": [
    "len(questions)"
   ]
  },
  {
   "cell_type": "code",
   "execution_count": 24,
   "id": "101c7501",
   "metadata": {},
   "outputs": [
    {
     "name": "stdout",
     "output_type": "stream",
     "text": [
      "['12시 땡 !', '1지망 학교 떨어졌어', '3박4일 놀러가고 싶다', '3박4일 정도 놀러가고 싶다', 'PPL 심하네']\n",
      "['하루가 또 가네요 .', '위로해 드립니다 .', '여행은 언제나 좋죠 .', '여행은 언제나 좋죠 .', '눈살이 찌푸려지죠 .']\n"
     ]
    }
   ],
   "source": [
    "print(questions[:5])\n",
    "print(answers[:5])"
   ]
  },
  {
   "cell_type": "markdown",
   "id": "4ee47f7a",
   "metadata": {},
   "source": [
    "### 8.3 Create Vocabulary"
   ]
  },
  {
   "cell_type": "markdown",
   "id": "19324824",
   "metadata": {},
   "source": [
    "* TensorFlow Datasets SubwordTextEncoder를 토크나이저로 사용한다.\n",
    "* 단어보다 더 작은 단위인 Subword를 기준으로 토크나이징하고, 각 토큰을 고유한 정수로 인코딩한다."
   ]
  },
  {
   "cell_type": "code",
   "execution_count": 25,
   "id": "3d42c0ba",
   "metadata": {},
   "outputs": [],
   "source": [
    "# 서브워드텍스트인코더를 사용하여 질문과 답변을 모두 포함한 단어 집합(Vocabulary) 생성\n",
    "tokenizer = tfds.deprecated.text.SubwordTextEncoder.build_from_corpus(\n",
    "    questions + answers, target_vocab_size=2**13)\n",
    "\n",
    "# 시작 토큰과 종료 토큰에 대한 정수 부여.\n",
    "START_TOKEN, END_TOKEN = [tokenizer.vocab_size], [tokenizer.vocab_size + 1]\n",
    "\n",
    "# 시작 토큰과 종료 토큰을 고려하여 단어 집합의 크기를 + 2\n",
    "VOCAB_SIZE = tokenizer.vocab_size + 2"
   ]
  },
  {
   "cell_type": "code",
   "execution_count": 26,
   "id": "d8b99609",
   "metadata": {},
   "outputs": [
    {
     "name": "stdout",
     "output_type": "stream",
     "text": [
      "START_TOKEN Number : [8178]\n",
      "END_TOKEN Number : [8179]\n",
      "Size of VOCAB : 8180\n"
     ]
    }
   ],
   "source": [
    "print('START_TOKEN Number :',START_TOKEN)\n",
    "print('END_TOKEN Number :',END_TOKEN)\n",
    "print('Size of VOCAB :',VOCAB_SIZE)"
   ]
  },
  {
   "cell_type": "markdown",
   "id": "4f603ef5",
   "metadata": {},
   "source": [
    "### 8.4 Integer Encoding and Padding"
   ]
  },
  {
   "cell_type": "code",
   "execution_count": 27,
   "id": "86134fcd",
   "metadata": {},
   "outputs": [
    {
     "name": "stdout",
     "output_type": "stream",
     "text": [
      "Tokenized sample question: [5766, 611, 3509, 141, 685, 3747, 849]\n"
     ]
    }
   ],
   "source": [
    "# 서브워드텍스트인코더 토크나이저의 .encode()를 사용하여 텍스트 시퀀스를 정수 시퀀스로 변환.\n",
    "print('Tokenized sample question: {}'.format(tokenizer.encode(questions[20])))"
   ]
  },
  {
   "cell_type": "code",
   "execution_count": 28,
   "id": "7b2ec8fc",
   "metadata": {},
   "outputs": [
    {
     "name": "stdout",
     "output_type": "stream",
     "text": [
      "Tokenized String [5766, 611, 3509, 141, 685, 3747, 849]\n",
      "Original String: 가스비 비싼데 감기 걸리겠어\n"
     ]
    }
   ],
   "source": [
    "# 서브워드텍스트인코더 토크나이저의 encode()와 decode() 테스트해보기\n",
    "\n",
    "# 임의의 입력 문장을 sample_string에 저장\n",
    "sample_string = questions[20]\n",
    "\n",
    "# encode() : 텍스트 시퀀스 --> 정수 시퀀스\n",
    "tokenized_string = tokenizer.encode(sample_string)\n",
    "print ('Tokenized String {}'.format(tokenized_string))\n",
    "\n",
    "# decode() : 정수 시퀀스 --> 텍스트 시퀀스\n",
    "original_string = tokenizer.decode(tokenized_string)\n",
    "print ('Original String: {}'.format(original_string))"
   ]
  },
  {
   "cell_type": "code",
   "execution_count": 29,
   "id": "bcb7d3eb",
   "metadata": {},
   "outputs": [
    {
     "name": "stdout",
     "output_type": "stream",
     "text": [
      "5766 ----> 가스\n",
      "611 ----> 비 \n",
      "3509 ----> 비싼\n",
      "141 ----> 데 \n",
      "685 ----> 감기 \n",
      "3747 ----> 걸리\n",
      "849 ----> 겠어\n"
     ]
    }
   ],
   "source": [
    "# 각 정수는 각 단어와 어떻게 mapping되는지 병렬로 출력\n",
    "# 서브워드텍스트인코더는 의미있는 단위의 서브워드로 토크나이징한다. 띄어쓰기 단위 X 형태소 분석 단위 X\n",
    "for ts in tokenized_string:\n",
    "    print ('{} ----> {}'.format(ts, tokenizer.decode([ts])))"
   ]
  },
  {
   "cell_type": "markdown",
   "id": "0c7a1012",
   "metadata": {},
   "source": [
    "* 각 문장을 토큰화하고 각 문장의 시작과 끝을 나타내는 `START_TOKEN` 및 `END_TOKEN`을 추가한다.\n",
    "* 최대 길이 MAX_LENGTH인 40을 넘는 문장들은 필터링한다.\n",
    "* MAX_LENGTH보다 길이가 짧은 문장들은 40에 맞도록 패딩 한다."
   ]
  },
  {
   "cell_type": "code",
   "execution_count": 30,
   "id": "5401d7f0",
   "metadata": {},
   "outputs": [],
   "source": [
    "# 최대 길이를 40으로 정의\n",
    "MAX_LENGTH = 40\n",
    "\n",
    "# 토큰화 / 정수 인코딩 / 시작 토큰과 종료 토큰 추가 / 패딩\n",
    "def tokenize_and_filter(inputs, outputs):\n",
    "    tokenized_inputs, tokenized_outputs = [], []\n",
    "  \n",
    "    for (sentence1, sentence2) in zip(inputs, outputs):\n",
    "        # encode(토큰화 + 정수 인코딩), 시작 토큰과 종료 토큰 추가\n",
    "        sentence1 = START_TOKEN + tokenizer.encode(sentence1) + END_TOKEN\n",
    "        sentence2 = START_TOKEN + tokenizer.encode(sentence2) + END_TOKEN\n",
    "\n",
    "        tokenized_inputs.append(sentence1)\n",
    "        tokenized_outputs.append(sentence2)\n",
    "  \n",
    "    # 패딩\n",
    "    tokenized_inputs = tf.keras.preprocessing.sequence.pad_sequences(\n",
    "        tokenized_inputs, maxlen=MAX_LENGTH, padding='post')\n",
    "    tokenized_outputs = tf.keras.preprocessing.sequence.pad_sequences(\n",
    "        tokenized_outputs, maxlen=MAX_LENGTH, padding='post')\n",
    "  \n",
    "    return tokenized_inputs, tokenized_outputs"
   ]
  },
  {
   "cell_type": "code",
   "execution_count": 31,
   "id": "079e70d2",
   "metadata": {},
   "outputs": [],
   "source": [
    "questions, answers = tokenize_and_filter(questions, answers)"
   ]
  },
  {
   "cell_type": "code",
   "execution_count": 32,
   "id": "ecba7221",
   "metadata": {},
   "outputs": [
    {
     "name": "stdout",
     "output_type": "stream",
     "text": [
      "Questions Data Shape : (11823, 40)\n",
      "Answers Data Shape : (11823, 40)\n"
     ]
    }
   ],
   "source": [
    "print('Questions Data Shape :', questions.shape)\n",
    "print('Answers Data Shape :', answers.shape)"
   ]
  },
  {
   "cell_type": "code",
   "execution_count": 33,
   "id": "c763a5ef",
   "metadata": {},
   "outputs": [
    {
     "name": "stdout",
     "output_type": "stream",
     "text": [
      "[8178 7915 4207 3060   41 8179    0    0    0    0    0    0    0    0\n",
      "    0    0    0    0    0    0    0    0    0    0    0    0    0    0\n",
      "    0    0    0    0    0    0    0    0    0    0    0    0]\n",
      "[8178 3844   74 7894    1 8179    0    0    0    0    0    0    0    0\n",
      "    0    0    0    0    0    0    0    0    0    0    0    0    0    0\n",
      "    0    0    0    0    0    0    0    0    0    0    0    0]\n"
     ]
    }
   ],
   "source": [
    "# 0번째 샘플을 임의로 출력\n",
    "print(questions[0])\n",
    "print(answers[0])"
   ]
  },
  {
   "cell_type": "code",
   "execution_count": 34,
   "id": "ce96d941",
   "metadata": {},
   "outputs": [
    {
     "name": "stdout",
     "output_type": "stream",
     "text": [
      "Vocab size(단어 집합의 크기): 8180\n",
      "Number of samples(전체 샘플의 수): 11823\n"
     ]
    }
   ],
   "source": [
    "print('Vocab size(단어 집합의 크기): {}'.format(VOCAB_SIZE))\n",
    "print('Number of samples(전체 샘플의 수): {}'.format(len(questions)))"
   ]
  },
  {
   "cell_type": "markdown",
   "id": "a19462a3",
   "metadata": {},
   "source": [
    "### 8.5 Using Teacher Forcing"
   ]
  },
  {
   "cell_type": "markdown",
   "id": "d1c8aed4",
   "metadata": {},
   "source": [
    "* **tf.data.Dataset API**는 훈련 프로세스의 속도가 빨라지도록 입력 파이프라인을 구축하는 API이다.\n",
    "* 이를 적극 사용하기 위해서 질문과 답변의 쌍을 `tf.data.Dataset`의 입력으로 넣어주는 작업을 진행한다.\n",
    "* 교사 강요를 위해서 answers`[:, :-1]`를 디코더의 입력값, answer`s[:, 1:]`를 디코더의 레이블로 사용한다."
   ]
  },
  {
   "cell_type": "code",
   "execution_count": 35,
   "id": "89642c3d",
   "metadata": {},
   "outputs": [],
   "source": [
    "# 텐서플로우 dataset을 이용하여 셔플(shuffle)을 수행하되, 배치 크기로 데이터를 묶는다.\n",
    "# 또한 이 과정에서 교사 강요(teacher forcing)을 사용하기 위해서 디코더의 입력과 실제값 시퀀스를 구성한다.\n",
    "BATCH_SIZE = 64\n",
    "BUFFER_SIZE = 20000\n",
    "\n",
    "# 디코더의 실제값 시퀀스에서는 시작 토큰을 제거해야 한다.\n",
    "dataset = tf.data.Dataset.from_tensor_slices((\n",
    "    {\n",
    "        'inputs': questions,\n",
    "        'dec_inputs': answers[:, :-1] # 디코더의 입력. 마지막 패딩 토큰이 제거된다.\n",
    "    },\n",
    "    {\n",
    "        'outputs': answers[:, 1:]  # 맨 처음 토큰이 제거된다. 다시 말해 시작 토큰이 제거된다.\n",
    "    },\n",
    "))\n",
    "\n",
    "dataset = dataset.cache()\n",
    "dataset = dataset.shuffle(BUFFER_SIZE)\n",
    "dataset = dataset.batch(BATCH_SIZE)\n",
    "dataset = dataset.prefetch(tf.data.experimental.AUTOTUNE)"
   ]
  },
  {
   "cell_type": "code",
   "execution_count": 36,
   "id": "392e77c8",
   "metadata": {},
   "outputs": [
    {
     "name": "stdout",
     "output_type": "stream",
     "text": [
      "[8178 3844   74 7894    1 8179    0    0    0    0    0    0    0    0\n",
      "    0    0    0    0    0    0    0    0    0    0    0    0    0    0\n",
      "    0    0    0    0    0    0    0    0    0    0    0    0]\n",
      "[[8178 3844   74 7894    1 8179    0    0    0    0    0    0    0    0\n",
      "     0    0    0    0    0    0    0    0    0    0    0    0    0    0\n",
      "     0    0    0    0    0    0    0    0    0    0    0]]\n",
      "[[3844   74 7894    1 8179    0    0    0    0    0    0    0    0    0\n",
      "     0    0    0    0    0    0    0    0    0    0    0    0    0    0\n",
      "     0    0    0    0    0    0    0    0    0    0    0]]\n"
     ]
    }
   ],
   "source": [
    "# 임의의 샘플에 대해서 [:, :-1]과 [:, 1:]이 어떤 의미를 가지는지 테스트해본다.\n",
    "print(answers[0]) # 기존 샘플\n",
    "print(answers[:1][:, :-1]) # 마지막 패딩 토큰 제거하면서 길이가 39가 된다.\n",
    "print(answers[:1][:, 1:]) # 맨 처음 토큰이 제거된다. 다시 말해 시작 토큰이 제거된다. 길이는 역시 39가 된다."
   ]
  },
  {
   "cell_type": "markdown",
   "id": "869c13a5",
   "metadata": {},
   "source": [
    "### 9. Model Defining and Training"
   ]
  },
  {
   "cell_type": "code",
   "execution_count": 37,
   "id": "f849ec81",
   "metadata": {},
   "outputs": [
    {
     "name": "stdout",
     "output_type": "stream",
     "text": [
      "Model: \"transformer\"\n",
      "__________________________________________________________________________________________________\n",
      "Layer (type)                    Output Shape         Param #     Connected to                     \n",
      "==================================================================================================\n",
      "inputs (InputLayer)             [(None, None)]       0                                            \n",
      "__________________________________________________________________________________________________\n",
      "dec_inputs (InputLayer)         [(None, None)]       0                                            \n",
      "__________________________________________________________________________________________________\n",
      "enc_padding_mask (Lambda)       (None, 1, 1, None)   0           inputs[0][0]                     \n",
      "__________________________________________________________________________________________________\n",
      "encoder (Functional)            (None, None, 256)    3148288     inputs[0][0]                     \n",
      "                                                                 enc_padding_mask[0][0]           \n",
      "__________________________________________________________________________________________________\n",
      "look_ahead_mask (Lambda)        (None, 1, None, None 0           dec_inputs[0][0]                 \n",
      "__________________________________________________________________________________________________\n",
      "dec_padding_mask (Lambda)       (None, 1, 1, None)   0           inputs[0][0]                     \n",
      "__________________________________________________________________________________________________\n",
      "decoder (Functional)            (None, None, 256)    3675648     dec_inputs[0][0]                 \n",
      "                                                                 encoder[0][0]                    \n",
      "                                                                 look_ahead_mask[0][0]            \n",
      "                                                                 dec_padding_mask[0][0]           \n",
      "__________________________________________________________________________________________________\n",
      "outputs (Dense)                 (None, None, 8180)   2102260     decoder[0][0]                    \n",
      "==================================================================================================\n",
      "Total params: 8,926,196\n",
      "Trainable params: 8,926,196\n",
      "Non-trainable params: 0\n",
      "__________________________________________________________________________________________________\n"
     ]
    }
   ],
   "source": [
    "tf.keras.backend.clear_session()\n",
    "\n",
    "# Hyper-parameters\n",
    "NUM_LAYERS = 2    # 인코더와 디코더의 층의 개수\n",
    "D_MODEL = 256     # 인코더와 디코더 내부의 입, 출력의 고정 차원\n",
    "NUM_HEADS = 8     # 멀티 헤드 어텐션에서의 헤드 수\n",
    "DFF = 512         # 피드 포워드 신경망의 은닉층의 크기\n",
    "DROPOUT = 0.1     # 드롭아웃의 비율\n",
    "\n",
    "model = transformer(\n",
    "    vocab_size=VOCAB_SIZE,\n",
    "    num_layers=NUM_LAYERS,\n",
    "    dff=DFF,\n",
    "    d_model=D_MODEL,\n",
    "    num_heads=NUM_HEADS,\n",
    "    dropout=DROPOUT)\n",
    "\n",
    "model.summary()"
   ]
  },
  {
   "cell_type": "code",
   "execution_count": 38,
   "id": "4e1b0ae5",
   "metadata": {},
   "outputs": [],
   "source": [
    "MAX_LENGTH = 40\n",
    "\n",
    "learning_rate = CustomSchedule(D_MODEL)\n",
    "\n",
    "optimizer = tf.keras.optimizers.Adam(\n",
    "    learning_rate, beta_1=0.9, beta_2=0.98, epsilon=1e-9)\n",
    "\n",
    "def accuracy(y_true, y_pred):\n",
    "    # ensure labels have shape (batch_size, MAX_LENGTH - 1)\n",
    "    y_true = tf.reshape(y_true, shape=(-1, MAX_LENGTH - 1))\n",
    "    return tf.keras.metrics.sparse_categorical_accuracy(y_true, y_pred)\n",
    "\n",
    "model.compile(optimizer=optimizer, loss=loss_function, metrics=[accuracy])"
   ]
  },
  {
   "cell_type": "code",
   "execution_count": 39,
   "id": "49c821b0",
   "metadata": {},
   "outputs": [
    {
     "name": "stdout",
     "output_type": "stream",
     "text": [
      "Epoch 1/50\n",
      "185/185 [==============================] - 16s 53ms/step - loss: 1.4579 - accuracy: 0.0210\n",
      "Epoch 2/50\n",
      "185/185 [==============================] - 10s 53ms/step - loss: 1.1819 - accuracy: 0.0486\n",
      "Epoch 3/50\n",
      "185/185 [==============================] - 10s 53ms/step - loss: 1.0075 - accuracy: 0.0505\n",
      "Epoch 4/50\n",
      "185/185 [==============================] - 10s 54ms/step - loss: 0.9299 - accuracy: 0.0543\n",
      "Epoch 5/50\n",
      "185/185 [==============================] - 10s 54ms/step - loss: 0.8715 - accuracy: 0.0576\n",
      "Epoch 6/50\n",
      "185/185 [==============================] - 10s 54ms/step - loss: 0.8118 - accuracy: 0.0617\n",
      "Epoch 7/50\n",
      "185/185 [==============================] - 10s 54ms/step - loss: 0.7459 - accuracy: 0.0676\n",
      "Epoch 8/50\n",
      "185/185 [==============================] - 10s 54ms/step - loss: 0.6721 - accuracy: 0.0754\n",
      "Epoch 9/50\n",
      "185/185 [==============================] - 10s 54ms/step - loss: 0.5934 - accuracy: 0.0839\n",
      "Epoch 10/50\n",
      "185/185 [==============================] - 10s 54ms/step - loss: 0.5105 - accuracy: 0.0934\n",
      "Epoch 11/50\n",
      "185/185 [==============================] - 10s 54ms/step - loss: 0.4277 - accuracy: 0.1035\n",
      "Epoch 12/50\n",
      "185/185 [==============================] - 10s 54ms/step - loss: 0.3460 - accuracy: 0.1148\n",
      "Epoch 13/50\n",
      "185/185 [==============================] - 10s 54ms/step - loss: 0.2719 - accuracy: 0.1256\n",
      "Epoch 14/50\n",
      "185/185 [==============================] - 10s 54ms/step - loss: 0.2054 - accuracy: 0.1361\n",
      "Epoch 15/50\n",
      "185/185 [==============================] - 10s 54ms/step - loss: 0.1522 - accuracy: 0.1452\n",
      "Epoch 16/50\n",
      "185/185 [==============================] - 10s 54ms/step - loss: 0.1091 - accuracy: 0.1533\n",
      "Epoch 17/50\n",
      "185/185 [==============================] - 10s 54ms/step - loss: 0.0791 - accuracy: 0.1588\n",
      "Epoch 18/50\n",
      "185/185 [==============================] - 10s 54ms/step - loss: 0.0610 - accuracy: 0.1619\n",
      "Epoch 19/50\n",
      "185/185 [==============================] - 10s 54ms/step - loss: 0.0507 - accuracy: 0.1637\n",
      "Epoch 20/50\n",
      "185/185 [==============================] - 10s 54ms/step - loss: 0.0445 - accuracy: 0.1646\n",
      "Epoch 21/50\n",
      "185/185 [==============================] - 10s 54ms/step - loss: 0.0419 - accuracy: 0.1651\n",
      "Epoch 22/50\n",
      "185/185 [==============================] - 10s 54ms/step - loss: 0.0394 - accuracy: 0.1654\n",
      "Epoch 23/50\n",
      "185/185 [==============================] - 10s 54ms/step - loss: 0.0364 - accuracy: 0.1661\n",
      "Epoch 24/50\n",
      "185/185 [==============================] - 10s 54ms/step - loss: 0.0320 - accuracy: 0.1670\n",
      "Epoch 25/50\n",
      "185/185 [==============================] - 10s 54ms/step - loss: 0.0275 - accuracy: 0.1682\n",
      "Epoch 26/50\n",
      "185/185 [==============================] - 10s 54ms/step - loss: 0.0242 - accuracy: 0.1692\n",
      "Epoch 27/50\n",
      "185/185 [==============================] - 10s 54ms/step - loss: 0.0218 - accuracy: 0.1697\n",
      "Epoch 28/50\n",
      "185/185 [==============================] - 10s 54ms/step - loss: 0.0201 - accuracy: 0.1700\n",
      "Epoch 29/50\n",
      "185/185 [==============================] - 10s 54ms/step - loss: 0.0173 - accuracy: 0.1709\n",
      "Epoch 30/50\n",
      "185/185 [==============================] - 10s 54ms/step - loss: 0.0169 - accuracy: 0.1709\n",
      "Epoch 31/50\n",
      "185/185 [==============================] - 10s 54ms/step - loss: 0.0146 - accuracy: 0.1714\n",
      "Epoch 32/50\n",
      "185/185 [==============================] - 10s 54ms/step - loss: 0.0136 - accuracy: 0.1717\n",
      "Epoch 33/50\n",
      "185/185 [==============================] - 10s 54ms/step - loss: 0.0134 - accuracy: 0.1718\n",
      "Epoch 34/50\n",
      "185/185 [==============================] - 10s 54ms/step - loss: 0.0125 - accuracy: 0.1722\n",
      "Epoch 35/50\n",
      "185/185 [==============================] - 10s 54ms/step - loss: 0.0115 - accuracy: 0.1723\n",
      "Epoch 36/50\n",
      "185/185 [==============================] - 10s 54ms/step - loss: 0.0103 - accuracy: 0.1726\n",
      "Epoch 37/50\n",
      "185/185 [==============================] - 10s 54ms/step - loss: 0.0103 - accuracy: 0.1727\n",
      "Epoch 38/50\n",
      "185/185 [==============================] - 10s 54ms/step - loss: 0.0096 - accuracy: 0.1729\n",
      "Epoch 39/50\n",
      "185/185 [==============================] - 10s 54ms/step - loss: 0.0088 - accuracy: 0.1729\n",
      "Epoch 40/50\n",
      "185/185 [==============================] - 10s 54ms/step - loss: 0.0084 - accuracy: 0.1730\n",
      "Epoch 41/50\n",
      "185/185 [==============================] - 10s 54ms/step - loss: 0.0087 - accuracy: 0.1730\n",
      "Epoch 42/50\n",
      "185/185 [==============================] - 10s 54ms/step - loss: 0.0073 - accuracy: 0.1733\n",
      "Epoch 43/50\n",
      "185/185 [==============================] - 10s 54ms/step - loss: 0.0075 - accuracy: 0.1733\n",
      "Epoch 44/50\n",
      "185/185 [==============================] - 10s 54ms/step - loss: 0.0068 - accuracy: 0.1734\n",
      "Epoch 45/50\n",
      "185/185 [==============================] - 10s 54ms/step - loss: 0.0066 - accuracy: 0.1735\n",
      "Epoch 46/50\n",
      "185/185 [==============================] - 10s 54ms/step - loss: 0.0067 - accuracy: 0.1735\n",
      "Epoch 47/50\n",
      "185/185 [==============================] - 10s 54ms/step - loss: 0.0064 - accuracy: 0.1736\n",
      "Epoch 48/50\n",
      "185/185 [==============================] - 10s 54ms/step - loss: 0.0062 - accuracy: 0.1736\n",
      "Epoch 49/50\n",
      "185/185 [==============================] - 10s 54ms/step - loss: 0.0056 - accuracy: 0.1737\n",
      "Epoch 50/50\n",
      "185/185 [==============================] - 10s 54ms/step - loss: 0.0055 - accuracy: 0.1738\n"
     ]
    },
    {
     "data": {
      "text/plain": [
       "<keras.callbacks.History at 0x7f9a2562c790>"
      ]
     },
     "execution_count": 39,
     "metadata": {},
     "output_type": "execute_result"
    }
   ],
   "source": [
    "EPOCHS = 50\n",
    "\n",
    "model.fit(dataset, epochs=EPOCHS, verbose=1)"
   ]
  },
  {
   "cell_type": "markdown",
   "id": "c2ba8774",
   "metadata": {},
   "source": [
    "### 10. Testing Chatbot"
   ]
  },
  {
   "cell_type": "markdown",
   "id": "6a29b16b",
   "metadata": {},
   "source": [
    "* 예측(inference) 단계는 기본적으로 다음과 같은 과정을 거친다.\n",
    "  1. 새로운 입력 문장에 대해서는 훈련 때와 동일한 전처리를 거친다.\n",
    "  2. 입력 문장을 토크나이징하고, START_TOKEN과 END_TOKEN을 추가한다.\n",
    "  3. 패딩 마스킹과 룩 어헤드 마스킹을 계산한다.\n",
    "* 디코더는 입력 시퀀스로부터 다음 단어를 예측한다.\n",
    "* 디코더는 예측된 다음 단어를 기존의 입력 시퀀스에 추가하여 새로운 입력으로 사용한다.\n",
    "* `END_TOKEN`이 예측되거나 문장의 최대 길이에 도달하면 디코더는 동작을 멈춘다."
   ]
  },
  {
   "cell_type": "code",
   "execution_count": 40,
   "id": "b8353925",
   "metadata": {},
   "outputs": [],
   "source": [
    "def evaluate(sentence):\n",
    "    sentence = preprocess_sentence(sentence)\n",
    "\n",
    "    sentence = tf.expand_dims(\n",
    "        START_TOKEN + tokenizer.encode(sentence) + END_TOKEN, axis=0)\n",
    "\n",
    "    output = tf.expand_dims(START_TOKEN, 0)\n",
    "\n",
    "    # 디코더의 예측 시작\n",
    "    for i in range(MAX_LENGTH):\n",
    "        predictions = model(inputs=[sentence, output], training=False)\n",
    "\n",
    "        # 현재(마지막) 시점의 예측 단어를 받아온다.\n",
    "        predictions = predictions[:, -1:, :]\n",
    "        predicted_id = tf.cast(tf.argmax(predictions, axis=-1), tf.int32)\n",
    "\n",
    "        # 만약 마지막 시점의 예측 단어가 종료 토큰이라면 예측을 중단\n",
    "        if tf.equal(predicted_id, END_TOKEN[0]):\n",
    "            break\n",
    "\n",
    "        # 마지막 시점의 예측 단어를 출력에 연결한다.\n",
    "        # 이는 for문을 통해서 디코더의 입력으로 사용될 예정이다.\n",
    "        output = tf.concat([output, predicted_id], axis=-1)\n",
    "\n",
    "    return tf.squeeze(output, axis=0)\n",
    "\n",
    "\n",
    "def predict(sentence):\n",
    "    prediction = evaluate(sentence)\n",
    "\n",
    "    predicted_sentence = tokenizer.decode([i for i in prediction if i < tokenizer.vocab_size])\n",
    "\n",
    "    print('Input: {}'.format(sentence))\n",
    "    print('Output: {}'.format(predicted_sentence))\n",
    "\n",
    "    return predicted_sentence"
   ]
  },
  {
   "cell_type": "code",
   "execution_count": 41,
   "id": "8ce31f62",
   "metadata": {},
   "outputs": [
    {
     "name": "stdout",
     "output_type": "stream",
     "text": [
      "Input: 영화 볼래?\n",
      "Output: 최신 영화가 좋을 것 같아요 .\n"
     ]
    }
   ],
   "source": [
    "output = predict('영화 볼래?')"
   ]
  },
  {
   "cell_type": "code",
   "execution_count": 42,
   "id": "bdf6dd24",
   "metadata": {},
   "outputs": [
    {
     "name": "stdout",
     "output_type": "stream",
     "text": [
      "Input: 고민이 있어\n",
      "Output: 저는 생각을 종종이에 끄젹여여 보는게 도움이 될 수도 있어요 .\n"
     ]
    }
   ],
   "source": [
    "output = predict(\"고민이 있어\")"
   ]
  },
  {
   "cell_type": "code",
   "execution_count": 43,
   "id": "f8d7e564",
   "metadata": {},
   "outputs": [
    {
     "name": "stdout",
     "output_type": "stream",
     "text": [
      "Input: 너무 화가나\n",
      "Output: 그럴수록 당신이 힘들 거예요 .\n"
     ]
    }
   ],
   "source": [
    "output = predict(\"너무 화가나\")"
   ]
  },
  {
   "cell_type": "code",
   "execution_count": 44,
   "id": "6d19dc9a",
   "metadata": {},
   "outputs": [
    {
     "name": "stdout",
     "output_type": "stream",
     "text": [
      "Input: 뭐 재밌는거 없니?\n",
      "Output: 잼 있는 거는 딸기잼에게 물어봐 주세요 .\n"
     ]
    }
   ],
   "source": [
    "output = predict(\"뭐 재밌는거 없니?\")"
   ]
  },
  {
   "cell_type": "code",
   "execution_count": 45,
   "id": "60f1c2c4",
   "metadata": {},
   "outputs": [
    {
     "name": "stdout",
     "output_type": "stream",
     "text": [
      "Input: 카페갈래?\n",
      "Output: 카페 데이트 좋죠 .\n"
     ]
    }
   ],
   "source": [
    "output = predict(\"카페갈래?\")"
   ]
  },
  {
   "cell_type": "code",
   "execution_count": 46,
   "id": "8f34a090",
   "metadata": {},
   "outputs": [
    {
     "name": "stdout",
     "output_type": "stream",
     "text": [
      "Input: 너는 뭐를 잘하니?\n",
      "Output: 저는 주당이에요 .\n"
     ]
    }
   ],
   "source": [
    "output = predict(\"너는 뭐를 잘하니?\")"
   ]
  },
  {
   "cell_type": "code",
   "execution_count": 47,
   "id": "fa65f33f",
   "metadata": {},
   "outputs": [
    {
     "name": "stdout",
     "output_type": "stream",
     "text": [
      "Input: 점심 추천 해줄래?\n",
      "Output: 당연하죠 .\n"
     ]
    }
   ],
   "source": [
    "output = predict(\"점심 추천 해줄래?\")"
   ]
  },
  {
   "cell_type": "code",
   "execution_count": 48,
   "id": "3c5fb442",
   "metadata": {},
   "outputs": [
    {
     "name": "stdout",
     "output_type": "stream",
     "text": [
      "Input: 배고파\n",
      "Output: 뭐 좀 챙겨드세요 .\n"
     ]
    }
   ],
   "source": [
    "output = predict(\"배고파\")"
   ]
  },
  {
   "cell_type": "code",
   "execution_count": 52,
   "id": "9e8c37c4",
   "metadata": {},
   "outputs": [
    {
     "name": "stdout",
     "output_type": "stream",
     "text": [
      "Input: 너무 힘들어\n",
      "Output: 지금 무슨 말을 해도 와닿지 않겠지만 잘할 수 있을 거예요 .\n"
     ]
    }
   ],
   "source": [
    "output = predict(\"너무 힘들어\")"
   ]
  },
  {
   "cell_type": "code",
   "execution_count": 53,
   "id": "e3bf94d9",
   "metadata": {},
   "outputs": [
    {
     "name": "stdout",
     "output_type": "stream",
     "text": [
      "Input: 딥러닝 공부는 너무 어려워\n",
      "Output: 그러면 못할 게 없겠네요 .\n"
     ]
    }
   ],
   "source": [
    "output = predict(\"딥러닝 공부는 너무 어려워\")"
   ]
  },
  {
   "cell_type": "markdown",
   "id": "97ceaead",
   "metadata": {},
   "source": [
    "* 대체적으로 상황에 알맞은 대답을 출력하는 것을 확인할 수 있다..\n",
    "* 학습한 데이터는 아래와 같은 특징을 가진다.\n",
    "  * 자체가 이별과 관련된 질문 중 다음카페 \"사랑보다 아름다운 실연( http://cafe116.daum.net/_c21_/home?grpid=1bld )\"에서 자주 나오는 이야기들을 참고하여 제작\n",
    "  * 가령 \"이별한 지 열흘(또는 100일) 되었어요\"라는 질문에 챗봇이 위로한다는 취지로 답변을 작성\n",
    "* 그렇다보니 \"힘들어.\", \"화가나.\", \"고민이 있어\"와 같은 감정적인 표현에 더 대답을 잘 하는 것으로 파악된다."
   ]
  },
  {
   "cell_type": "markdown",
   "id": "c712c3e1",
   "metadata": {},
   "source": [
    "### 11. Retrospection"
   ]
  },
  {
   "cell_type": "markdown",
   "id": "74b30378",
   "metadata": {},
   "source": [
    "### 11.1 What was difficult"
   ]
  },
  {
   "cell_type": "markdown",
   "id": "ac56059e",
   "metadata": {},
   "source": [
    "* Exploration을 진행하는 것보다 Transformer 모델 자체를 이해하는게 어려웠다."
   ]
  },
  {
   "cell_type": "markdown",
   "id": "8c920605",
   "metadata": {},
   "source": [
    "### 11.2 What I found out"
   ]
  },
  {
   "cell_type": "markdown",
   "id": "67b9827d",
   "metadata": {},
   "source": [
    "* 전체적인 Transformer의 Architecture\n",
    "* 코드로 transformer를 구현하는 방법"
   ]
  },
  {
   "cell_type": "markdown",
   "id": "d0a41373",
   "metadata": {},
   "source": [
    "### 11.3 What I want to know more about"
   ]
  },
  {
   "cell_type": "markdown",
   "id": "32d057bd",
   "metadata": {},
   "source": [
    "* 다른 데이터들로 학습시켜 보고 싶었으나, 마땅한 데이터를 찾을 수가 없었다.\n",
    "* 일상 대화나 오피스 대화가 더 들어가있는 데이터로 학습한다면 회사에서 심심풀이 쳇봇으로 사용가능 할 듯."
   ]
  },
  {
   "cell_type": "markdown",
   "id": "691844d1",
   "metadata": {},
   "source": [
    "### 11.4 Self-Resolution"
   ]
  },
  {
   "cell_type": "markdown",
   "id": "c2cead5c",
   "metadata": {},
   "source": [
    "* 아직 Transformer를 완전히 이해한 상태는 아니다. \n",
    "* 이해가 잘 안되는 부분은 별표 표시를 해놓았는데, 다시 한 번 살펴봐야 할 듯하다.\n",
    "* 이전 무일님께서 공유해주신 Attention 강의 영상을 시청 중\n",
    "* 한글 자막이 없어 지금 한글 자막 만드는 중이며 완료 시 깃허브 업로드 예정\n",
    "* 이번 NLP Exploration은 재밌게 진행했던 것 같다. 😁"
   ]
  },
  {
   "cell_type": "markdown",
   "id": "6188b6ac",
   "metadata": {},
   "source": [
    "**[References]**"
   ]
  },
  {
   "cell_type": "markdown",
   "id": "b08afc0b",
   "metadata": {},
   "source": [
    "1. Transformer - 1\n",
    "* https://nlpinkorean.github.io/illustrated-transformer/\n",
    "2. Transformer - 2\n",
    "* https://wikidocs.net/31379\n",
    "3. Attention Is All You Need\n",
    "* https://arxiv.org/pdf/1706.03762.pdf\n",
    "4. Transformer 구현하기\n",
    "* https://paul-hyun.github.io/transformer-01/"
   ]
  }
 ],
 "metadata": {
  "kernelspec": {
   "display_name": "Python 3 (ipykernel)",
   "language": "python",
   "name": "python3"
  },
  "language_info": {
   "codemirror_mode": {
    "name": "ipython",
    "version": 3
   },
   "file_extension": ".py",
   "mimetype": "text/x-python",
   "name": "python",
   "nbconvert_exporter": "python",
   "pygments_lexer": "ipython3",
   "version": "3.9.7"
  }
 },
 "nbformat": 4,
 "nbformat_minor": 5
}
