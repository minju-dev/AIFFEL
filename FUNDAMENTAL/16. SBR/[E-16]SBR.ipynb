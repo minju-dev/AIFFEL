{
 "cells": [
  {
   "cell_type": "markdown",
   "id": "3cbf34ab",
   "metadata": {},
   "source": [
    "## Exploration 16. SBR 🎥🎬"
   ]
  },
  {
   "cell_type": "markdown",
   "id": "1b692453",
   "metadata": {},
   "source": [
    "<img src = 'https://step.recohut.com/codelabs/session-based-recommender-using-word2vec/img/ce65ffdac5db18bf.png'>"
   ]
  },
  {
   "cell_type": "markdown",
   "id": "340e3d3b",
   "metadata": {},
   "source": [
    "### Table of Contents"
   ]
  },
  {
   "cell_type": "markdown",
   "id": "6ca58648",
   "metadata": {},
   "source": [
    "### 1. Introduction"
   ]
  },
  {
   "cell_type": "markdown",
   "id": "61b03cae",
   "metadata": {},
   "source": [
    "* 1.1 What is GRU4REC?\n",
    "* 1.2 What is Session?\n",
    "* 1.3 What is UTC?\n",
    "* 1.4 Metrics used in the Recommendation System"
   ]
  },
  {
   "cell_type": "markdown",
   "id": "3447d372",
   "metadata": {},
   "source": [
    "### 2. Experiment Environment Set-up"
   ]
  },
  {
   "cell_type": "markdown",
   "id": "1a472a9f",
   "metadata": {},
   "source": [
    "* 2.1 Import Libraries\n",
    "* 2.2 Load Data"
   ]
  },
  {
   "cell_type": "markdown",
   "id": "cf1b136c",
   "metadata": {},
   "source": [
    "### 3. Data Preprocess"
   ]
  },
  {
   "cell_type": "markdown",
   "id": "12b67f28",
   "metadata": {},
   "source": [
    "* 3.1 Change Time Exploration\n",
    "* 3.2 Definition of SessionID\n",
    "* 3.3 Session Length\n",
    "* 3.4 Session Length Visualization\n",
    "* 3.5 Session Time"
   ]
  },
  {
   "cell_type": "markdown",
   "id": "cc7fb559",
   "metadata": {},
   "source": [
    "### 4. Data Cleansing"
   ]
  },
  {
   "cell_type": "markdown",
   "id": "51264f4b",
   "metadata": {},
   "source": [
    "* 4.1 Rating\n",
    "* 4.2 Train / Valid / Test split"
   ]
  },
  {
   "cell_type": "markdown",
   "id": "38769480",
   "metadata": {},
   "source": [
    "### 5. Composition of Mini-Batch"
   ]
  },
  {
   "cell_type": "markdown",
   "id": "6344c119",
   "metadata": {},
   "source": [
    "* 5.1 SessionDataset\n",
    "* 5.2 SessionDataLoader"
   ]
  },
  {
   "cell_type": "markdown",
   "id": "7eabd189",
   "metadata": {},
   "source": [
    "### 6. Modeling"
   ]
  },
  {
   "cell_type": "markdown",
   "id": "2f9754bc",
   "metadata": {},
   "source": [
    "* 6.1 Evaluation Metric\n",
    "* 6.2 Model Architecture"
   ]
  },
  {
   "cell_type": "markdown",
   "id": "7b44fd67",
   "metadata": {},
   "source": [
    "### 7. Model Training"
   ]
  },
  {
   "cell_type": "markdown",
   "id": "f8faa1ba",
   "metadata": {},
   "source": [
    "* 7.1 Training"
   ]
  },
  {
   "cell_type": "markdown",
   "id": "283d2f3e",
   "metadata": {},
   "source": [
    "### 8. Model Test"
   ]
  },
  {
   "cell_type": "markdown",
   "id": "a00d607e",
   "metadata": {},
   "source": [
    "* 8.1 Inference"
   ]
  },
  {
   "cell_type": "markdown",
   "id": "3c2a8767",
   "metadata": {},
   "source": [
    "### 9. Attempts to Improve Model Performance"
   ]
  },
  {
   "cell_type": "markdown",
   "id": "14e005b5",
   "metadata": {},
   "source": [
    "* 9.1 Change Batch Size\n",
    "* 9.2 Change Drop Rate\n",
    "* 9.3 Change Learning Rate\n",
    "* 9.4 Change Epochs"
   ]
  },
  {
   "cell_type": "markdown",
   "id": "a72d100a",
   "metadata": {},
   "source": [
    "### 10. Retrospection"
   ]
  },
  {
   "cell_type": "markdown",
   "id": "73bfa604",
   "metadata": {},
   "source": []
  },
  {
   "cell_type": "markdown",
   "id": "a3348c7e",
   "metadata": {},
   "source": [
    "***"
   ]
  },
  {
   "cell_type": "markdown",
   "id": "de7c17cd",
   "metadata": {},
   "source": [
    "### 1. Introduction"
   ]
  },
  {
   "cell_type": "markdown",
   "id": "b2070f84",
   "metadata": {},
   "source": [
    "### 1.1 What is GRU4REC?"
   ]
  },
  {
   "cell_type": "markdown",
   "id": "818b1d5c",
   "metadata": {},
   "source": [
    "* 대표적인 Session based Recommendation 모델\n",
    "* 해당 GRU 모델이, 추천 = RECommendation을 목적으로 한다고 하여 GRU4REC(GRU for Recommendation)라는 이름으로 불린다.\n",
    "* 알려진 바에 의하면, 세션 기반 추천에서 LSTM보다 GRU가 더 나은 성능을 보여줬다고 한다.\n",
    "* 모델의 자세한 구조는 [논문](https://arxiv.org/pdf/1511.06939v4.pdf) 참고\n",
    "\n",
    "\n",
    "* GRU4REC 모델은 \n",
    "  1. 세션을 시간 순서로 정렬하여 session parallel mini batch 형태로 만들어준다.\n",
    "  2. 아이템에 대하여 원-핫 인코딩을 하거나 원-핫 인코딩을 하지 않을 경우, embedding layer를 추가한다.\n",
    "  3. GRU layer와 출력을 위한 dense layer를 쌓는다.\n",
    "  4. 학습 시, mini batch가 교체될때마다 hidden state를 reset한다.\n",
    "  5. cost function은 'categorical_crossentropy', 'BPR loss', 'Top1 loss' 를 사용한다."
   ]
  },
  {
   "cell_type": "markdown",
   "id": "1abd41d0",
   "metadata": {},
   "source": [
    "### 1.2 What is Session?"
   ]
  },
  {
   "cell_type": "markdown",
   "id": "1114c031",
   "metadata": {},
   "source": [
    "* **Session-Based Recommendation** : 세션 데이터를 기반으로 **유저가 다음에 클릭 또는 구매할 아이템을 예측하는 추천** 시스템\n",
    "* **Session** : **일정 시간동안** 같은 사용자(정확하게 브라우저를 말한다)로 부터 들어오는 일련의 요구를 하나의 상태로 보고 그 상태를 일정하게 유지시키는 기술. 또한 여기서 **일정 시간이란 방문자가 웹 브라우저를 통해 웹 서버에 접속한 시점으로부터 웹 브라우저를 종료함으로써 연결을 끝내는 시점**을 말하며, 방문자가 웹서버에 접속해 있는 상태를 하나의 단위로 보고 세션이라고 칭한다."
   ]
  },
  {
   "cell_type": "markdown",
   "id": "fc98da55",
   "metadata": {},
   "source": [
    "### 1.3 What is UTC?"
   ]
  },
  {
   "attachments": {
    "%EC%A0%9C%EB%AA%A9%20%EC%97%86%EC%9D%8C-2.png": {
     "image/png": "[encoded data removed]"
    }
   },
   "cell_type": "markdown",
   "id": "3fcf4d5d",
   "metadata": {},
   "source": [
    "![%EC%A0%9C%EB%AA%A9%20%EC%97%86%EC%9D%8C-2.png](attachment:%EC%A0%9C%EB%AA%A9%20%EC%97%86%EC%9D%8C-2.png)\n",
    "<center>[협정 세계시로 변환] (출처 : 네이버)</center>"
   ]
  },
  {
   "cell_type": "markdown",
   "id": "802834d6",
   "metadata": {},
   "source": [
    "* UTC(Universal Time Coordinated, 협정 세계시) : 국제 사회가 사용하는 과학적 시간의 표준으로 1972년 1월 1일부터 시행된 협정세계시는 세슘원자의 진동수에 의거한 초의 길이가 그 기준으로 쓰인다."
   ]
  },
  {
   "cell_type": "markdown",
   "id": "207ec93e",
   "metadata": {},
   "source": [
    "### 1.4 Metrics used in the Recommendation System"
   ]
  },
  {
   "cell_type": "markdown",
   "id": "b3d574ce",
   "metadata": {},
   "source": [
    "* 기계학습, 딥러닝 분야에서는 정확도(accuracy), AUC score 등과 같이 모델의 성능을 측정하는 수많은 metric들이 존재한다.\n",
    "* 하지만 이러한 metric들은 추천시스템에 바로 적용하기에는 무리가 있다. \n",
    "* 추천시스템은 아래 두 가지 질문에 대답할 수 있는 metric을 찾아야하기 때문이다.\n",
    "  1. 추천 시스템이 사용자가 선호하는 아이템을 얼마나 상위권에 잘 올려놓았는가?\n",
    "  2. 사용자에게 있어 추천된 아이템 간의 상대적인 선호도가 잘 반영되었는가?"
   ]
  },
  {
   "cell_type": "markdown",
   "id": "7b07f18f",
   "metadata": {},
   "source": [
    "**[Rank-less Recommendation Metrics]**"
   ]
  },
  {
   "cell_type": "markdown",
   "id": "17732a7e",
   "metadata": {},
   "source": [
    "* 추천모델은 단순히 ‘맞았냐 안맞았냐’를 측정하기보단 ‘맞추되 얼마나 상위에 위치시킬 수 있는가?’가 매우 중요하다.\n",
    "* 추천모델의 핵심은 상위 k개의 추천안에 실제로 사용자가 좋아할만할 아이템을 넣어야한다는 것이다. \n",
    "* 따라서 흔히 쓰이는 `precision`, `recall`은 추천 task에서 `precision@k`, `recall@k`라는 변형된 모습으로 사용된다.\n",
    "\n",
    ">* **`Precision@k`**\n",
    "k개의 추천 중 실제로 사용자가 선호하는 (relevant) 아이템이 얼마나 존재하는지를 측정하는 지표. 분모는 추천한 아이템의 개수, 분자는 relevant한 아이템의 개수이다. 여기서 Precision의 의미는 “사용자에게 useful한 item을 얼마나 잘 추천해주었는가”이다.\n",
    "\n",
    ">* **`Recall@k`**\n",
    "전체 relevant한 아이템 중 추천된 아이템이 속한 비율이다. 분모는 전체 relevant한 아이템의 개수, 분자는 k개의 추천 중 relevant한 아이템의 개수이다. 여기서 recall의 의미는 “useful stuff에 대한 추천을 최대한 놓치지 않는 것”이다."
   ]
  },
  {
   "cell_type": "markdown",
   "id": "66cac749",
   "metadata": {},
   "source": [
    "**[Rank-aware Recommendation Metrics]**"
   ]
  },
  {
   "cell_type": "markdown",
   "id": "c434c949",
   "metadata": {},
   "source": [
    "* 위에서의 Rank-less metric의 경우 rank에 따른 상대적인 선호도를 제대로 반영하지 못한다는 단점이 있다.\n",
    "* 즉, 똑같은 relevant 아이템이라고 하더라도 이를 추천 결과의 첫 번째에서 추천하는 모델과 열 번째에서 추천하는 모델에는 분명히 성능차이가 존재한다고 할 수 있다.\n",
    "* 아래 metrics들은 추천된 상대적인 위치에 따라서 점수를 차등하여 주고 있는 점이 특징이다.\n",
    "\n",
    ">* MRR(Mean Reciprocal Rank)\n",
    "Reciprocal rank는 첫 번째로 등장하는 relevant한 아이템이 우리의 추천상 몇 번째에 위치하는지를 나타내는 지표이다. 하지만 그대로 몇 번째인지를 사용하면 앞에 나올 수록 좋은 모델이라는 것을 반대로 표현하게되니 역수를 취해주게 된다. 하지만 MRR은 추천 상의 몇 개의 relevant아이템이 나오든 첫 번째로 나오는 relevant 아이템만 신경쓴다는 단점을 가지고있다.\n",
    " <img src = 'https://miro.medium.com/max/700/1*0xdZ-NWJLlf3m4oyjh0K5g.png' height='500' width='500'>\n",
    "\n",
    ">* MAP(Mean Average Precision)\n",
    "\n",
    ">* nDCG(normalized Discounted Cumulative Gain)"
   ]
  },
  {
   "cell_type": "markdown",
   "id": "3c1ce1c1",
   "metadata": {},
   "source": [
    "### 2. Experiment Environment Set-up"
   ]
  },
  {
   "cell_type": "markdown",
   "id": "0ac2b728",
   "metadata": {},
   "source": [
    "### 2.1 Import Libraries"
   ]
  },
  {
   "cell_type": "code",
   "execution_count": 1,
   "id": "cba35046",
   "metadata": {},
   "outputs": [],
   "source": [
    "import os\n",
    "import tensorflow\n",
    "import numpy as np\n",
    "import pandas as pd\n",
    "import datetime as dt\n",
    "import missingno as msno\n",
    "\n",
    "import warnings\n",
    "warnings.filterwarnings('ignore')\n",
    "\n",
    "from pathlib import Path"
   ]
  },
  {
   "cell_type": "markdown",
   "id": "f76b1d5a",
   "metadata": {},
   "source": [
    "### 2.2 Load Data"
   ]
  },
  {
   "cell_type": "code",
   "execution_count": 2,
   "id": "49f278a1",
   "metadata": {},
   "outputs": [
    {
     "data": {
      "text/html": [
       "<div>\n",
       "<style scoped>\n",
       "    .dataframe tbody tr th:only-of-type {\n",
       "        vertical-align: middle;\n",
       "    }\n",
       "\n",
       "    .dataframe tbody tr th {\n",
       "        vertical-align: top;\n",
       "    }\n",
       "\n",
       "    .dataframe thead th {\n",
       "        text-align: right;\n",
       "    }\n",
       "</style>\n",
       "<table border=\"1\" class=\"dataframe\">\n",
       "  <thead>\n",
       "    <tr style=\"text-align: right;\">\n",
       "      <th></th>\n",
       "      <th>UserId</th>\n",
       "      <th>ItemId</th>\n",
       "      <th>Rating</th>\n",
       "      <th>Time</th>\n",
       "    </tr>\n",
       "  </thead>\n",
       "  <tbody>\n",
       "    <tr>\n",
       "      <th>31</th>\n",
       "      <td>1</td>\n",
       "      <td>3186</td>\n",
       "      <td>4</td>\n",
       "      <td>978300019</td>\n",
       "    </tr>\n",
       "    <tr>\n",
       "      <th>22</th>\n",
       "      <td>1</td>\n",
       "      <td>1270</td>\n",
       "      <td>5</td>\n",
       "      <td>978300055</td>\n",
       "    </tr>\n",
       "    <tr>\n",
       "      <th>27</th>\n",
       "      <td>1</td>\n",
       "      <td>1721</td>\n",
       "      <td>4</td>\n",
       "      <td>978300055</td>\n",
       "    </tr>\n",
       "    <tr>\n",
       "      <th>37</th>\n",
       "      <td>1</td>\n",
       "      <td>1022</td>\n",
       "      <td>5</td>\n",
       "      <td>978300055</td>\n",
       "    </tr>\n",
       "    <tr>\n",
       "      <th>24</th>\n",
       "      <td>1</td>\n",
       "      <td>2340</td>\n",
       "      <td>3</td>\n",
       "      <td>978300103</td>\n",
       "    </tr>\n",
       "    <tr>\n",
       "      <th>...</th>\n",
       "      <td>...</td>\n",
       "      <td>...</td>\n",
       "      <td>...</td>\n",
       "      <td>...</td>\n",
       "    </tr>\n",
       "    <tr>\n",
       "      <th>1000019</th>\n",
       "      <td>6040</td>\n",
       "      <td>2917</td>\n",
       "      <td>4</td>\n",
       "      <td>997454429</td>\n",
       "    </tr>\n",
       "    <tr>\n",
       "      <th>999988</th>\n",
       "      <td>6040</td>\n",
       "      <td>1921</td>\n",
       "      <td>4</td>\n",
       "      <td>997454464</td>\n",
       "    </tr>\n",
       "    <tr>\n",
       "      <th>1000172</th>\n",
       "      <td>6040</td>\n",
       "      <td>1784</td>\n",
       "      <td>3</td>\n",
       "      <td>997454464</td>\n",
       "    </tr>\n",
       "    <tr>\n",
       "      <th>1000167</th>\n",
       "      <td>6040</td>\n",
       "      <td>161</td>\n",
       "      <td>3</td>\n",
       "      <td>997454486</td>\n",
       "    </tr>\n",
       "    <tr>\n",
       "      <th>1000042</th>\n",
       "      <td>6040</td>\n",
       "      <td>1221</td>\n",
       "      <td>4</td>\n",
       "      <td>998315055</td>\n",
       "    </tr>\n",
       "  </tbody>\n",
       "</table>\n",
       "<p>1000209 rows × 4 columns</p>\n",
       "</div>"
      ],
      "text/plain": [
       "         UserId  ItemId  Rating       Time\n",
       "31            1    3186       4  978300019\n",
       "22            1    1270       5  978300055\n",
       "27            1    1721       4  978300055\n",
       "37            1    1022       5  978300055\n",
       "24            1    2340       3  978300103\n",
       "...         ...     ...     ...        ...\n",
       "1000019    6040    2917       4  997454429\n",
       "999988     6040    1921       4  997454464\n",
       "1000172    6040    1784       3  997454464\n",
       "1000167    6040     161       3  997454486\n",
       "1000042    6040    1221       4  998315055\n",
       "\n",
       "[1000209 rows x 4 columns]"
      ]
     },
     "execution_count": 2,
     "metadata": {},
     "output_type": "execute_result"
    }
   ],
   "source": [
    "data_path = Path(os.getenv('HOME')+'/aiffel/yoochoose/data/') \n",
    "train_path = data_path / 'ratings.dat'\n",
    "\n",
    "def load_data(data_path: Path, nrows=None):\n",
    "    data = pd.read_csv(data_path, sep='::', header=None, usecols=[0, 1, 2, 3], dtype={0: np.int32, 1: np.int32, 2: np.int32}, nrows=nrows)\n",
    "    data.columns = ['UserId', 'ItemId', 'Rating', 'Time']\n",
    "    return data\n",
    "\n",
    "data = load_data(train_path, None)\n",
    "data.sort_values(['UserId', 'Time'], inplace=True)  # data를 id와 시간 순서로 정렬\n",
    "data"
   ]
  },
  {
   "cell_type": "markdown",
   "id": "8b8da67a",
   "metadata": {},
   "source": [
    "* 이 데이터셋은 명확한 1회 세션의 SessionID를 포함하지 않고 있다.\n",
    "* Rating 정보가 포함되어 있다. 직전에 봤던 영화가 맘에 들었는지가 비슷한 영화를 더 고르게 하는 것과 상관이 있을 수도 있습니다. 따라서, Rating이 낮은 데이터를 어떻게 처리할지도 고민해야 한다.\n",
    "* Time 항목에는 UTC time 가 포함되어, 1970년 1월 1일부터 경과된 초 단위 시간이 기재되어 있다."
   ]
  },
  {
   "cell_type": "markdown",
   "id": "194dc5b0",
   "metadata": {},
   "source": [
    "### 3. Data Preprocess"
   ]
  },
  {
   "cell_type": "markdown",
   "id": "387906e9",
   "metadata": {},
   "source": [
    "* 로드한 데이터셋을  살펴보면서 항목별 기본 분석, session length, session time, cleaning 등의 작업을 진행한다.\n",
    "* 특히, 이 데이터셋에서는 Session이 아닌 UserID 단위로 데이터가 생성되어 있으므로, 이를 Session 단위로 어떻게 해석할지에 고려해본다."
   ]
  },
  {
   "cell_type": "markdown",
   "id": "d6b034ee",
   "metadata": {},
   "source": [
    "### 3.1 Change Time Exploration"
   ]
  },
  {
   "cell_type": "markdown",
   "id": "d8692e07",
   "metadata": {},
   "source": [
    "* Time 항목에는 UTC time이 포함되어, 1970년 1월 1일부터 경과된 초단위 시간이 기재되어 있다. 이를 보기 편하게 datetime 형식으로 바꾼다. "
   ]
  },
  {
   "cell_type": "code",
   "execution_count": 3,
   "id": "136128fe",
   "metadata": {},
   "outputs": [
    {
     "name": "stdout",
     "output_type": "stream",
     "text": [
      "1970-01-01 00:00:00\n"
     ]
    }
   ],
   "source": [
    "#Time 데이터(Second)를 Datetime으로 바꾸기\n",
    "\n",
    "from datetime import date\n",
    "start = '1970-01-01 00:00:00.000000'\n",
    "start = dt.datetime.strptime(start, '%Y-%m-%d %H:%M:%S.%f')\n",
    "print(start)"
   ]
  },
  {
   "cell_type": "code",
   "execution_count": 4,
   "id": "10087020",
   "metadata": {},
   "outputs": [
    {
     "data": {
      "text/plain": [
       "31        2000-12-31 22:00:19\n",
       "22        2000-12-31 22:00:55\n",
       "27        2000-12-31 22:00:55\n",
       "37        2000-12-31 22:00:55\n",
       "24        2000-12-31 22:01:43\n",
       "                  ...        \n",
       "1000019   2001-08-10 14:40:29\n",
       "999988    2001-08-10 14:41:04\n",
       "1000172   2001-08-10 14:41:04\n",
       "1000167   2001-08-10 14:41:26\n",
       "1000042   2001-08-20 13:44:15\n",
       "Name: Time, Length: 1000209, dtype: datetime64[ns]"
      ]
     },
     "execution_count": 4,
     "metadata": {},
     "output_type": "execute_result"
    }
   ],
   "source": [
    "from datetime import timedelta\n",
    "\n",
    "date = []\n",
    "for delta in data['Time'] :\n",
    "    date.append(start + timedelta(seconds = delta))\n",
    "    \n",
    "data['Time'] = date\n",
    "\n",
    "data['Time']"
   ]
  },
  {
   "cell_type": "code",
   "execution_count": 5,
   "id": "7e67a273",
   "metadata": {},
   "outputs": [
    {
     "data": {
      "text/html": [
       "<div>\n",
       "<style scoped>\n",
       "    .dataframe tbody tr th:only-of-type {\n",
       "        vertical-align: middle;\n",
       "    }\n",
       "\n",
       "    .dataframe tbody tr th {\n",
       "        vertical-align: top;\n",
       "    }\n",
       "\n",
       "    .dataframe thead th {\n",
       "        text-align: right;\n",
       "    }\n",
       "</style>\n",
       "<table border=\"1\" class=\"dataframe\">\n",
       "  <thead>\n",
       "    <tr style=\"text-align: right;\">\n",
       "      <th></th>\n",
       "      <th>UserId</th>\n",
       "      <th>ItemId</th>\n",
       "      <th>Rating</th>\n",
       "      <th>Time</th>\n",
       "    </tr>\n",
       "  </thead>\n",
       "  <tbody>\n",
       "    <tr>\n",
       "      <th>31</th>\n",
       "      <td>1</td>\n",
       "      <td>3186</td>\n",
       "      <td>4</td>\n",
       "      <td>2000-12-31 22:00:19</td>\n",
       "    </tr>\n",
       "    <tr>\n",
       "      <th>22</th>\n",
       "      <td>1</td>\n",
       "      <td>1270</td>\n",
       "      <td>5</td>\n",
       "      <td>2000-12-31 22:00:55</td>\n",
       "    </tr>\n",
       "    <tr>\n",
       "      <th>27</th>\n",
       "      <td>1</td>\n",
       "      <td>1721</td>\n",
       "      <td>4</td>\n",
       "      <td>2000-12-31 22:00:55</td>\n",
       "    </tr>\n",
       "    <tr>\n",
       "      <th>37</th>\n",
       "      <td>1</td>\n",
       "      <td>1022</td>\n",
       "      <td>5</td>\n",
       "      <td>2000-12-31 22:00:55</td>\n",
       "    </tr>\n",
       "    <tr>\n",
       "      <th>24</th>\n",
       "      <td>1</td>\n",
       "      <td>2340</td>\n",
       "      <td>3</td>\n",
       "      <td>2000-12-31 22:01:43</td>\n",
       "    </tr>\n",
       "  </tbody>\n",
       "</table>\n",
       "</div>"
      ],
      "text/plain": [
       "    UserId  ItemId  Rating                Time\n",
       "31       1    3186       4 2000-12-31 22:00:19\n",
       "22       1    1270       5 2000-12-31 22:00:55\n",
       "27       1    1721       4 2000-12-31 22:00:55\n",
       "37       1    1022       5 2000-12-31 22:00:55\n",
       "24       1    2340       3 2000-12-31 22:01:43"
      ]
     },
     "execution_count": 5,
     "metadata": {},
     "output_type": "execute_result"
    }
   ],
   "source": [
    "#data를 UserId와 Time으로 오름차순 정렬\n",
    "data.sort_values(['UserId', 'Time'], inplace= True)\n",
    "\n",
    "data.head()"
   ]
  },
  {
   "cell_type": "code",
   "execution_count": 6,
   "id": "7b62f00b",
   "metadata": {},
   "outputs": [
    {
     "name": "stdout",
     "output_type": "stream",
     "text": [
      "<class 'pandas.core.frame.DataFrame'>\n",
      "Int64Index: 1000209 entries, 31 to 1000042\n",
      "Data columns (total 4 columns):\n",
      " #   Column  Non-Null Count    Dtype         \n",
      "---  ------  --------------    -----         \n",
      " 0   UserId  1000209 non-null  int32         \n",
      " 1   ItemId  1000209 non-null  int32         \n",
      " 2   Rating  1000209 non-null  int32         \n",
      " 3   Time    1000209 non-null  datetime64[ns]\n",
      "dtypes: datetime64[ns](1), int32(3)\n",
      "memory usage: 26.7 MB\n"
     ]
    }
   ],
   "source": [
    "data.info()"
   ]
  },
  {
   "cell_type": "markdown",
   "id": "54e24185",
   "metadata": {},
   "source": [
    "### 3.2 Definition of SessionID"
   ]
  },
  {
   "cell_type": "markdown",
   "id": "080c57a7",
   "metadata": {},
   "source": [
    "* 이번에 사용하는 Data Set은 Session 대신 UserID 단위로 데이터가 생성되어 있다. \n",
    "* UserID가 SessionID 역할을 할 수 있도록 **Session의 기준을 설정**한다.\n",
    "* UserID로 구분하면 Time을 구분할 수 없고, Time으로 구분하면 User를 구분할 수 없다. \n",
    "* 따라서, UserID와 Time 두 가지를 사용해 하나의 Session으로 정의한다. (상단 Session 정의 참고)"
   ]
  },
  {
   "cell_type": "code",
   "execution_count": 7,
   "id": "e8277930",
   "metadata": {},
   "outputs": [
    {
     "data": {
      "text/html": [
       "<div>\n",
       "<style scoped>\n",
       "    .dataframe tbody tr th:only-of-type {\n",
       "        vertical-align: middle;\n",
       "    }\n",
       "\n",
       "    .dataframe tbody tr th {\n",
       "        vertical-align: top;\n",
       "    }\n",
       "\n",
       "    .dataframe thead th {\n",
       "        text-align: right;\n",
       "    }\n",
       "</style>\n",
       "<table border=\"1\" class=\"dataframe\">\n",
       "  <thead>\n",
       "    <tr style=\"text-align: right;\">\n",
       "      <th></th>\n",
       "      <th>index</th>\n",
       "      <th>UserId</th>\n",
       "      <th>Time</th>\n",
       "      <th>ItemId</th>\n",
       "    </tr>\n",
       "  </thead>\n",
       "  <tbody>\n",
       "    <tr>\n",
       "      <th>0</th>\n",
       "      <td>0</td>\n",
       "      <td>1</td>\n",
       "      <td>2000-12-31 22:00:19</td>\n",
       "      <td>1</td>\n",
       "    </tr>\n",
       "    <tr>\n",
       "      <th>1</th>\n",
       "      <td>1</td>\n",
       "      <td>1</td>\n",
       "      <td>2000-12-31 22:00:55</td>\n",
       "      <td>3</td>\n",
       "    </tr>\n",
       "    <tr>\n",
       "      <th>2</th>\n",
       "      <td>2</td>\n",
       "      <td>1</td>\n",
       "      <td>2000-12-31 22:01:43</td>\n",
       "      <td>1</td>\n",
       "    </tr>\n",
       "    <tr>\n",
       "      <th>3</th>\n",
       "      <td>3</td>\n",
       "      <td>1</td>\n",
       "      <td>2000-12-31 22:02:52</td>\n",
       "      <td>1</td>\n",
       "    </tr>\n",
       "    <tr>\n",
       "      <th>4</th>\n",
       "      <td>4</td>\n",
       "      <td>1</td>\n",
       "      <td>2000-12-31 22:04:35</td>\n",
       "      <td>1</td>\n",
       "    </tr>\n",
       "    <tr>\n",
       "      <th>...</th>\n",
       "      <td>...</td>\n",
       "      <td>...</td>\n",
       "      <td>...</td>\n",
       "      <td>...</td>\n",
       "    </tr>\n",
       "    <tr>\n",
       "      <th>471158</th>\n",
       "      <td>471158</td>\n",
       "      <td>6040</td>\n",
       "      <td>2001-08-10 14:39:58</td>\n",
       "      <td>1</td>\n",
       "    </tr>\n",
       "    <tr>\n",
       "      <th>471159</th>\n",
       "      <td>471159</td>\n",
       "      <td>6040</td>\n",
       "      <td>2001-08-10 14:40:29</td>\n",
       "      <td>1</td>\n",
       "    </tr>\n",
       "    <tr>\n",
       "      <th>471160</th>\n",
       "      <td>471160</td>\n",
       "      <td>6040</td>\n",
       "      <td>2001-08-10 14:41:04</td>\n",
       "      <td>2</td>\n",
       "    </tr>\n",
       "    <tr>\n",
       "      <th>471161</th>\n",
       "      <td>471161</td>\n",
       "      <td>6040</td>\n",
       "      <td>2001-08-10 14:41:26</td>\n",
       "      <td>1</td>\n",
       "    </tr>\n",
       "    <tr>\n",
       "      <th>471162</th>\n",
       "      <td>471162</td>\n",
       "      <td>6040</td>\n",
       "      <td>2001-08-20 13:44:15</td>\n",
       "      <td>1</td>\n",
       "    </tr>\n",
       "  </tbody>\n",
       "</table>\n",
       "<p>471163 rows × 4 columns</p>\n",
       "</div>"
      ],
      "text/plain": [
       "         index  UserId                Time  ItemId\n",
       "0            0       1 2000-12-31 22:00:19       1\n",
       "1            1       1 2000-12-31 22:00:55       3\n",
       "2            2       1 2000-12-31 22:01:43       1\n",
       "3            3       1 2000-12-31 22:02:52       1\n",
       "4            4       1 2000-12-31 22:04:35       1\n",
       "...        ...     ...                 ...     ...\n",
       "471158  471158    6040 2001-08-10 14:39:58       1\n",
       "471159  471159    6040 2001-08-10 14:40:29       1\n",
       "471160  471160    6040 2001-08-10 14:41:04       2\n",
       "471161  471161    6040 2001-08-10 14:41:26       1\n",
       "471162  471162    6040 2001-08-20 13:44:15       1\n",
       "\n",
       "[471163 rows x 4 columns]"
      ]
     },
     "execution_count": 7,
     "metadata": {},
     "output_type": "execute_result"
    }
   ],
   "source": [
    "# UserId와 Time을 기준으로 새로운 데이터프레임 생성\n",
    "df = data.groupby(['UserId', 'Time'])['ItemId'].count().reset_index()\n",
    "df.reset_index(inplace=True)\n",
    "df"
   ]
  },
  {
   "cell_type": "code",
   "execution_count": 8,
   "id": "218c7f2a",
   "metadata": {},
   "outputs": [
    {
     "data": {
      "text/html": [
       "<div>\n",
       "<style scoped>\n",
       "    .dataframe tbody tr th:only-of-type {\n",
       "        vertical-align: middle;\n",
       "    }\n",
       "\n",
       "    .dataframe tbody tr th {\n",
       "        vertical-align: top;\n",
       "    }\n",
       "\n",
       "    .dataframe thead th {\n",
       "        text-align: right;\n",
       "    }\n",
       "</style>\n",
       "<table border=\"1\" class=\"dataframe\">\n",
       "  <thead>\n",
       "    <tr style=\"text-align: right;\">\n",
       "      <th></th>\n",
       "      <th>UserId</th>\n",
       "      <th>ItemId</th>\n",
       "      <th>Rating</th>\n",
       "      <th>Time</th>\n",
       "      <th>SessionId</th>\n",
       "    </tr>\n",
       "  </thead>\n",
       "  <tbody>\n",
       "    <tr>\n",
       "      <th>0</th>\n",
       "      <td>1</td>\n",
       "      <td>3186</td>\n",
       "      <td>4</td>\n",
       "      <td>2000-12-31 22:00:19</td>\n",
       "      <td>0</td>\n",
       "    </tr>\n",
       "    <tr>\n",
       "      <th>1</th>\n",
       "      <td>1</td>\n",
       "      <td>1270</td>\n",
       "      <td>5</td>\n",
       "      <td>2000-12-31 22:00:55</td>\n",
       "      <td>1</td>\n",
       "    </tr>\n",
       "    <tr>\n",
       "      <th>2</th>\n",
       "      <td>1</td>\n",
       "      <td>1721</td>\n",
       "      <td>4</td>\n",
       "      <td>2000-12-31 22:00:55</td>\n",
       "      <td>1</td>\n",
       "    </tr>\n",
       "    <tr>\n",
       "      <th>3</th>\n",
       "      <td>1</td>\n",
       "      <td>1022</td>\n",
       "      <td>5</td>\n",
       "      <td>2000-12-31 22:00:55</td>\n",
       "      <td>1</td>\n",
       "    </tr>\n",
       "    <tr>\n",
       "      <th>4</th>\n",
       "      <td>1</td>\n",
       "      <td>2340</td>\n",
       "      <td>3</td>\n",
       "      <td>2000-12-31 22:01:43</td>\n",
       "      <td>2</td>\n",
       "    </tr>\n",
       "    <tr>\n",
       "      <th>...</th>\n",
       "      <td>...</td>\n",
       "      <td>...</td>\n",
       "      <td>...</td>\n",
       "      <td>...</td>\n",
       "      <td>...</td>\n",
       "    </tr>\n",
       "    <tr>\n",
       "      <th>1000204</th>\n",
       "      <td>6040</td>\n",
       "      <td>2917</td>\n",
       "      <td>4</td>\n",
       "      <td>2001-08-10 14:40:29</td>\n",
       "      <td>471159</td>\n",
       "    </tr>\n",
       "    <tr>\n",
       "      <th>1000205</th>\n",
       "      <td>6040</td>\n",
       "      <td>1921</td>\n",
       "      <td>4</td>\n",
       "      <td>2001-08-10 14:41:04</td>\n",
       "      <td>471160</td>\n",
       "    </tr>\n",
       "    <tr>\n",
       "      <th>1000206</th>\n",
       "      <td>6040</td>\n",
       "      <td>1784</td>\n",
       "      <td>3</td>\n",
       "      <td>2001-08-10 14:41:04</td>\n",
       "      <td>471160</td>\n",
       "    </tr>\n",
       "    <tr>\n",
       "      <th>1000207</th>\n",
       "      <td>6040</td>\n",
       "      <td>161</td>\n",
       "      <td>3</td>\n",
       "      <td>2001-08-10 14:41:26</td>\n",
       "      <td>471161</td>\n",
       "    </tr>\n",
       "    <tr>\n",
       "      <th>1000208</th>\n",
       "      <td>6040</td>\n",
       "      <td>1221</td>\n",
       "      <td>4</td>\n",
       "      <td>2001-08-20 13:44:15</td>\n",
       "      <td>471162</td>\n",
       "    </tr>\n",
       "  </tbody>\n",
       "</table>\n",
       "<p>1000209 rows × 5 columns</p>\n",
       "</div>"
      ],
      "text/plain": [
       "         UserId  ItemId  Rating                Time  SessionId\n",
       "0             1    3186       4 2000-12-31 22:00:19          0\n",
       "1             1    1270       5 2000-12-31 22:00:55          1\n",
       "2             1    1721       4 2000-12-31 22:00:55          1\n",
       "3             1    1022       5 2000-12-31 22:00:55          1\n",
       "4             1    2340       3 2000-12-31 22:01:43          2\n",
       "...         ...     ...     ...                 ...        ...\n",
       "1000204    6040    2917       4 2001-08-10 14:40:29     471159\n",
       "1000205    6040    1921       4 2001-08-10 14:41:04     471160\n",
       "1000206    6040    1784       3 2001-08-10 14:41:04     471160\n",
       "1000207    6040     161       3 2001-08-10 14:41:26     471161\n",
       "1000208    6040    1221       4 2001-08-20 13:44:15     471162\n",
       "\n",
       "[1000209 rows x 5 columns]"
      ]
     },
     "execution_count": 8,
     "metadata": {},
     "output_type": "execute_result"
    }
   ],
   "source": [
    "# SessionId 컬럼 추가\n",
    "data = pd.merge(data, df, on=['UserId', 'Time'])\n",
    "# 불필요한 칼럼 삭제\n",
    "data.drop(columns='ItemId_y', inplace=True)\n",
    "# 칼럼 명 수정\n",
    "data.columns = ['UserId', 'ItemId', 'Rating', 'Time', 'SessionId']\n",
    "data"
   ]
  },
  {
   "cell_type": "code",
   "execution_count": 9,
   "id": "11ac26f5",
   "metadata": {},
   "outputs": [
    {
     "data": {
      "text/plain": [
       "<AxesSubplot:>"
      ]
     },
     "execution_count": 9,
     "metadata": {},
     "output_type": "execute_result"
    },
    {
     "data": {
      "image/png": "[encoded data removed]",
      "text/plain": [
       "<Figure size 1800x720 with 2 Axes>"
      ]
     },
     "metadata": {
      "needs_background": "light"
     },
     "output_type": "display_data"
    }
   ],
   "source": [
    "msno.matrix(data)"
   ]
  },
  {
   "cell_type": "code",
   "execution_count": 10,
   "id": "24da6914",
   "metadata": {},
   "outputs": [
    {
     "name": "stdout",
     "output_type": "stream",
     "text": [
      "Number of Data : 1000209\n",
      "Number of Sessions : 471163\n",
      "Number of Movies : 3706\n",
      "Rating : [4 5 3 2 1]\n"
     ]
    }
   ],
   "source": [
    "print(f\"Number of Data : {len(data)}\")\n",
    "print(f\"Number of Sessions : {data['SessionId'].nunique()}\")\n",
    "print(f\"Number of Movies : {data['ItemId'].nunique()}\")\n",
    "print(f\"Rating : {data['Rating'].unique()}\")"
   ]
  },
  {
   "cell_type": "markdown",
   "id": "81c6e393",
   "metadata": {},
   "source": [
    "### 3.3 Session Length"
   ]
  },
  {
   "cell_type": "markdown",
   "id": "72fc2b82",
   "metadata": {},
   "source": [
    "* `session_length`란 같은 `SessionId`를 공유하는 데이터 row의 개수를 의미한다.\n",
    "* 위의 표를 보면 SessionId가 1인 데이터 row의 수는 3이므로 SessionId가 1일 때는 3으로 대응된다.\n",
    "* 여기서 `session_length`란 해당 세션의 사용자가 그 세션 동안 몇 번의 액션을 취했는지(몇 개의 영화에 평점을 남겼는지)의 의미가 된다."
   ]
  },
  {
   "cell_type": "code",
   "execution_count": 11,
   "id": "bd08ceff",
   "metadata": {},
   "outputs": [
    {
     "data": {
      "text/plain": [
       "SessionId\n",
       "0         1\n",
       "1         3\n",
       "2         1\n",
       "3         1\n",
       "4         1\n",
       "         ..\n",
       "471158    1\n",
       "471159    1\n",
       "471160    2\n",
       "471161    1\n",
       "471162    1\n",
       "Length: 471163, dtype: int64"
      ]
     },
     "execution_count": 11,
     "metadata": {},
     "output_type": "execute_result"
    }
   ],
   "source": [
    "session_length = data.groupby('SessionId').size()\n",
    "session_length"
   ]
  },
  {
   "cell_type": "code",
   "execution_count": 12,
   "id": "b7d1d4c0",
   "metadata": {},
   "outputs": [
    {
     "name": "stdout",
     "output_type": "stream",
     "text": [
      "Session_length Median : 2.0\n",
      "Session_length Mean : 2.1228513274599234\n",
      "Session_length Min : 1\n",
      "Session_length Max : 30\n"
     ]
    }
   ],
   "source": [
    "print('Session_length Median :', session_length.median())\n",
    "print('Session_length Mean :', session_length.mean())\n",
    "print('Session_length Min :', session_length.min())\n",
    "print('Session_length Max :', session_length.max())"
   ]
  },
  {
   "cell_type": "code",
   "execution_count": 13,
   "id": "51a9ac2b",
   "metadata": {},
   "outputs": [
    {
     "name": "stdout",
     "output_type": "stream",
     "text": [
      "99.9% of All Sessions : 10.0\n"
     ]
    }
   ],
   "source": [
    "print('99.9% of All Sessions :', session_length.quantile(0.999))"
   ]
  },
  {
   "cell_type": "code",
   "execution_count": 14,
   "id": "602a6b2c",
   "metadata": {},
   "outputs": [
    {
     "data": {
      "text/html": [
       "<div>\n",
       "<style scoped>\n",
       "    .dataframe tbody tr th:only-of-type {\n",
       "        vertical-align: middle;\n",
       "    }\n",
       "\n",
       "    .dataframe tbody tr th {\n",
       "        vertical-align: top;\n",
       "    }\n",
       "\n",
       "    .dataframe thead th {\n",
       "        text-align: right;\n",
       "    }\n",
       "</style>\n",
       "<table border=\"1\" class=\"dataframe\">\n",
       "  <thead>\n",
       "    <tr style=\"text-align: right;\">\n",
       "      <th></th>\n",
       "      <th>UserId</th>\n",
       "      <th>ItemId</th>\n",
       "      <th>Rating</th>\n",
       "      <th>Time</th>\n",
       "      <th>SessionId</th>\n",
       "    </tr>\n",
       "  </thead>\n",
       "  <tbody>\n",
       "    <tr>\n",
       "      <th>112347</th>\n",
       "      <td>731</td>\n",
       "      <td>3044</td>\n",
       "      <td>4</td>\n",
       "      <td>2000-11-29 20:06:42</td>\n",
       "      <td>55117</td>\n",
       "    </tr>\n",
       "    <tr>\n",
       "      <th>112348</th>\n",
       "      <td>731</td>\n",
       "      <td>1455</td>\n",
       "      <td>3</td>\n",
       "      <td>2000-11-29 20:06:42</td>\n",
       "      <td>55117</td>\n",
       "    </tr>\n",
       "    <tr>\n",
       "      <th>112349</th>\n",
       "      <td>731</td>\n",
       "      <td>1639</td>\n",
       "      <td>5</td>\n",
       "      <td>2000-11-29 20:06:42</td>\n",
       "      <td>55117</td>\n",
       "    </tr>\n",
       "    <tr>\n",
       "      <th>112350</th>\n",
       "      <td>731</td>\n",
       "      <td>3244</td>\n",
       "      <td>4</td>\n",
       "      <td>2000-11-29 20:06:42</td>\n",
       "      <td>55117</td>\n",
       "    </tr>\n",
       "    <tr>\n",
       "      <th>112351</th>\n",
       "      <td>731</td>\n",
       "      <td>1656</td>\n",
       "      <td>2</td>\n",
       "      <td>2000-11-29 20:06:42</td>\n",
       "      <td>55117</td>\n",
       "    </tr>\n",
       "    <tr>\n",
       "      <th>112352</th>\n",
       "      <td>731</td>\n",
       "      <td>3426</td>\n",
       "      <td>4</td>\n",
       "      <td>2000-11-29 20:06:42</td>\n",
       "      <td>55117</td>\n",
       "    </tr>\n",
       "    <tr>\n",
       "      <th>112353</th>\n",
       "      <td>731</td>\n",
       "      <td>1829</td>\n",
       "      <td>2</td>\n",
       "      <td>2000-11-29 20:06:42</td>\n",
       "      <td>55117</td>\n",
       "    </tr>\n",
       "    <tr>\n",
       "      <th>112354</th>\n",
       "      <td>731</td>\n",
       "      <td>2675</td>\n",
       "      <td>4</td>\n",
       "      <td>2000-11-29 20:06:42</td>\n",
       "      <td>55117</td>\n",
       "    </tr>\n",
       "    <tr>\n",
       "      <th>112355</th>\n",
       "      <td>731</td>\n",
       "      <td>802</td>\n",
       "      <td>3</td>\n",
       "      <td>2000-11-29 20:06:42</td>\n",
       "      <td>55117</td>\n",
       "    </tr>\n",
       "    <tr>\n",
       "      <th>112356</th>\n",
       "      <td>731</td>\n",
       "      <td>803</td>\n",
       "      <td>5</td>\n",
       "      <td>2000-11-29 20:06:42</td>\n",
       "      <td>55117</td>\n",
       "    </tr>\n",
       "    <tr>\n",
       "      <th>112357</th>\n",
       "      <td>731</td>\n",
       "      <td>1357</td>\n",
       "      <td>4</td>\n",
       "      <td>2000-11-29 20:06:42</td>\n",
       "      <td>55117</td>\n",
       "    </tr>\n",
       "    <tr>\n",
       "      <th>112358</th>\n",
       "      <td>731</td>\n",
       "      <td>838</td>\n",
       "      <td>5</td>\n",
       "      <td>2000-11-29 20:06:42</td>\n",
       "      <td>55117</td>\n",
       "    </tr>\n",
       "    <tr>\n",
       "      <th>112359</th>\n",
       "      <td>731</td>\n",
       "      <td>2171</td>\n",
       "      <td>4</td>\n",
       "      <td>2000-11-29 20:06:42</td>\n",
       "      <td>55117</td>\n",
       "    </tr>\n",
       "    <tr>\n",
       "      <th>112360</th>\n",
       "      <td>731</td>\n",
       "      <td>852</td>\n",
       "      <td>2</td>\n",
       "      <td>2000-11-29 20:06:42</td>\n",
       "      <td>55117</td>\n",
       "    </tr>\n",
       "    <tr>\n",
       "      <th>112361</th>\n",
       "      <td>731</td>\n",
       "      <td>2331</td>\n",
       "      <td>4</td>\n",
       "      <td>2000-11-29 20:06:42</td>\n",
       "      <td>55117</td>\n",
       "    </tr>\n",
       "    <tr>\n",
       "      <th>112362</th>\n",
       "      <td>731</td>\n",
       "      <td>1535</td>\n",
       "      <td>3</td>\n",
       "      <td>2000-11-29 20:06:42</td>\n",
       "      <td>55117</td>\n",
       "    </tr>\n",
       "    <tr>\n",
       "      <th>112363</th>\n",
       "      <td>731</td>\n",
       "      <td>1393</td>\n",
       "      <td>2</td>\n",
       "      <td>2000-11-29 20:06:42</td>\n",
       "      <td>55117</td>\n",
       "    </tr>\n",
       "    <tr>\n",
       "      <th>112364</th>\n",
       "      <td>731</td>\n",
       "      <td>1564</td>\n",
       "      <td>4</td>\n",
       "      <td>2000-11-29 20:06:42</td>\n",
       "      <td>55117</td>\n",
       "    </tr>\n",
       "    <tr>\n",
       "      <th>112365</th>\n",
       "      <td>731</td>\n",
       "      <td>892</td>\n",
       "      <td>5</td>\n",
       "      <td>2000-11-29 20:06:42</td>\n",
       "      <td>55117</td>\n",
       "    </tr>\n",
       "    <tr>\n",
       "      <th>112366</th>\n",
       "      <td>731</td>\n",
       "      <td>151</td>\n",
       "      <td>3</td>\n",
       "      <td>2000-11-29 20:06:42</td>\n",
       "      <td>55117</td>\n",
       "    </tr>\n",
       "    <tr>\n",
       "      <th>112367</th>\n",
       "      <td>731</td>\n",
       "      <td>2715</td>\n",
       "      <td>2</td>\n",
       "      <td>2000-11-29 20:06:42</td>\n",
       "      <td>55117</td>\n",
       "    </tr>\n",
       "    <tr>\n",
       "      <th>112368</th>\n",
       "      <td>731</td>\n",
       "      <td>2570</td>\n",
       "      <td>2</td>\n",
       "      <td>2000-11-29 20:06:42</td>\n",
       "      <td>55117</td>\n",
       "    </tr>\n",
       "    <tr>\n",
       "      <th>112369</th>\n",
       "      <td>731</td>\n",
       "      <td>39</td>\n",
       "      <td>5</td>\n",
       "      <td>2000-11-29 20:06:42</td>\n",
       "      <td>55117</td>\n",
       "    </tr>\n",
       "    <tr>\n",
       "      <th>112370</th>\n",
       "      <td>731</td>\n",
       "      <td>2919</td>\n",
       "      <td>4</td>\n",
       "      <td>2000-11-29 20:06:42</td>\n",
       "      <td>55117</td>\n",
       "    </tr>\n",
       "    <tr>\n",
       "      <th>112371</th>\n",
       "      <td>731</td>\n",
       "      <td>49</td>\n",
       "      <td>4</td>\n",
       "      <td>2000-11-29 20:06:42</td>\n",
       "      <td>55117</td>\n",
       "    </tr>\n",
       "    <tr>\n",
       "      <th>112372</th>\n",
       "      <td>731</td>\n",
       "      <td>58</td>\n",
       "      <td>4</td>\n",
       "      <td>2000-11-29 20:06:42</td>\n",
       "      <td>55117</td>\n",
       "    </tr>\n",
       "    <tr>\n",
       "      <th>112373</th>\n",
       "      <td>731</td>\n",
       "      <td>1210</td>\n",
       "      <td>3</td>\n",
       "      <td>2000-11-29 20:06:42</td>\n",
       "      <td>55117</td>\n",
       "    </tr>\n",
       "    <tr>\n",
       "      <th>112374</th>\n",
       "      <td>731</td>\n",
       "      <td>85</td>\n",
       "      <td>4</td>\n",
       "      <td>2000-11-29 20:06:42</td>\n",
       "      <td>55117</td>\n",
       "    </tr>\n",
       "    <tr>\n",
       "      <th>112375</th>\n",
       "      <td>731</td>\n",
       "      <td>2969</td>\n",
       "      <td>4</td>\n",
       "      <td>2000-11-29 20:06:42</td>\n",
       "      <td>55117</td>\n",
       "    </tr>\n",
       "    <tr>\n",
       "      <th>112376</th>\n",
       "      <td>731</td>\n",
       "      <td>1244</td>\n",
       "      <td>5</td>\n",
       "      <td>2000-11-29 20:06:42</td>\n",
       "      <td>55117</td>\n",
       "    </tr>\n",
       "  </tbody>\n",
       "</table>\n",
       "</div>"
      ],
      "text/plain": [
       "        UserId  ItemId  Rating                Time  SessionId\n",
       "112347     731    3044       4 2000-11-29 20:06:42      55117\n",
       "112348     731    1455       3 2000-11-29 20:06:42      55117\n",
       "112349     731    1639       5 2000-11-29 20:06:42      55117\n",
       "112350     731    3244       4 2000-11-29 20:06:42      55117\n",
       "112351     731    1656       2 2000-11-29 20:06:42      55117\n",
       "112352     731    3426       4 2000-11-29 20:06:42      55117\n",
       "112353     731    1829       2 2000-11-29 20:06:42      55117\n",
       "112354     731    2675       4 2000-11-29 20:06:42      55117\n",
       "112355     731     802       3 2000-11-29 20:06:42      55117\n",
       "112356     731     803       5 2000-11-29 20:06:42      55117\n",
       "112357     731    1357       4 2000-11-29 20:06:42      55117\n",
       "112358     731     838       5 2000-11-29 20:06:42      55117\n",
       "112359     731    2171       4 2000-11-29 20:06:42      55117\n",
       "112360     731     852       2 2000-11-29 20:06:42      55117\n",
       "112361     731    2331       4 2000-11-29 20:06:42      55117\n",
       "112362     731    1535       3 2000-11-29 20:06:42      55117\n",
       "112363     731    1393       2 2000-11-29 20:06:42      55117\n",
       "112364     731    1564       4 2000-11-29 20:06:42      55117\n",
       "112365     731     892       5 2000-11-29 20:06:42      55117\n",
       "112366     731     151       3 2000-11-29 20:06:42      55117\n",
       "112367     731    2715       2 2000-11-29 20:06:42      55117\n",
       "112368     731    2570       2 2000-11-29 20:06:42      55117\n",
       "112369     731      39       5 2000-11-29 20:06:42      55117\n",
       "112370     731    2919       4 2000-11-29 20:06:42      55117\n",
       "112371     731      49       4 2000-11-29 20:06:42      55117\n",
       "112372     731      58       4 2000-11-29 20:06:42      55117\n",
       "112373     731    1210       3 2000-11-29 20:06:42      55117\n",
       "112374     731      85       4 2000-11-29 20:06:42      55117\n",
       "112375     731    2969       4 2000-11-29 20:06:42      55117\n",
       "112376     731    1244       5 2000-11-29 20:06:42      55117"
      ]
     },
     "execution_count": 14,
     "metadata": {},
     "output_type": "execute_result"
    }
   ],
   "source": [
    "long_session = session_length[session_length==30].index[0]\n",
    "data[data['SessionId']==long_session]"
   ]
  },
  {
   "cell_type": "code",
   "execution_count": 15,
   "id": "a98ef548",
   "metadata": {},
   "outputs": [
    {
     "data": {
      "text/html": [
       "<div>\n",
       "<style scoped>\n",
       "    .dataframe tbody tr th:only-of-type {\n",
       "        vertical-align: middle;\n",
       "    }\n",
       "\n",
       "    .dataframe tbody tr th {\n",
       "        vertical-align: top;\n",
       "    }\n",
       "\n",
       "    .dataframe thead th {\n",
       "        text-align: right;\n",
       "    }\n",
       "</style>\n",
       "<table border=\"1\" class=\"dataframe\">\n",
       "  <thead>\n",
       "    <tr style=\"text-align: right;\">\n",
       "      <th></th>\n",
       "      <th>UserId</th>\n",
       "      <th>ItemId</th>\n",
       "      <th>Rating</th>\n",
       "      <th>Time</th>\n",
       "      <th>SessionId</th>\n",
       "    </tr>\n",
       "  </thead>\n",
       "  <tbody>\n",
       "    <tr>\n",
       "      <th>0</th>\n",
       "      <td>1</td>\n",
       "      <td>3186</td>\n",
       "      <td>4</td>\n",
       "      <td>2000-12-31 22:00:19</td>\n",
       "      <td>0</td>\n",
       "    </tr>\n",
       "    <tr>\n",
       "      <th>1</th>\n",
       "      <td>1</td>\n",
       "      <td>1270</td>\n",
       "      <td>5</td>\n",
       "      <td>2000-12-31 22:00:55</td>\n",
       "      <td>1</td>\n",
       "    </tr>\n",
       "    <tr>\n",
       "      <th>2</th>\n",
       "      <td>1</td>\n",
       "      <td>1721</td>\n",
       "      <td>4</td>\n",
       "      <td>2000-12-31 22:00:55</td>\n",
       "      <td>1</td>\n",
       "    </tr>\n",
       "    <tr>\n",
       "      <th>3</th>\n",
       "      <td>1</td>\n",
       "      <td>1022</td>\n",
       "      <td>5</td>\n",
       "      <td>2000-12-31 22:00:55</td>\n",
       "      <td>1</td>\n",
       "    </tr>\n",
       "    <tr>\n",
       "      <th>4</th>\n",
       "      <td>1</td>\n",
       "      <td>2340</td>\n",
       "      <td>3</td>\n",
       "      <td>2000-12-31 22:01:43</td>\n",
       "      <td>2</td>\n",
       "    </tr>\n",
       "    <tr>\n",
       "      <th>...</th>\n",
       "      <td>...</td>\n",
       "      <td>...</td>\n",
       "      <td>...</td>\n",
       "      <td>...</td>\n",
       "      <td>...</td>\n",
       "    </tr>\n",
       "    <tr>\n",
       "      <th>1000204</th>\n",
       "      <td>6040</td>\n",
       "      <td>2917</td>\n",
       "      <td>4</td>\n",
       "      <td>2001-08-10 14:40:29</td>\n",
       "      <td>471159</td>\n",
       "    </tr>\n",
       "    <tr>\n",
       "      <th>1000205</th>\n",
       "      <td>6040</td>\n",
       "      <td>1921</td>\n",
       "      <td>4</td>\n",
       "      <td>2001-08-10 14:41:04</td>\n",
       "      <td>471160</td>\n",
       "    </tr>\n",
       "    <tr>\n",
       "      <th>1000206</th>\n",
       "      <td>6040</td>\n",
       "      <td>1784</td>\n",
       "      <td>3</td>\n",
       "      <td>2001-08-10 14:41:04</td>\n",
       "      <td>471160</td>\n",
       "    </tr>\n",
       "    <tr>\n",
       "      <th>1000207</th>\n",
       "      <td>6040</td>\n",
       "      <td>161</td>\n",
       "      <td>3</td>\n",
       "      <td>2001-08-10 14:41:26</td>\n",
       "      <td>471161</td>\n",
       "    </tr>\n",
       "    <tr>\n",
       "      <th>1000208</th>\n",
       "      <td>6040</td>\n",
       "      <td>1221</td>\n",
       "      <td>4</td>\n",
       "      <td>2001-08-20 13:44:15</td>\n",
       "      <td>471162</td>\n",
       "    </tr>\n",
       "  </tbody>\n",
       "</table>\n",
       "<p>1000179 rows × 5 columns</p>\n",
       "</div>"
      ],
      "text/plain": [
       "         UserId  ItemId  Rating                Time  SessionId\n",
       "0             1    3186       4 2000-12-31 22:00:19          0\n",
       "1             1    1270       5 2000-12-31 22:00:55          1\n",
       "2             1    1721       4 2000-12-31 22:00:55          1\n",
       "3             1    1022       5 2000-12-31 22:00:55          1\n",
       "4             1    2340       3 2000-12-31 22:01:43          2\n",
       "...         ...     ...     ...                 ...        ...\n",
       "1000204    6040    2917       4 2001-08-10 14:40:29     471159\n",
       "1000205    6040    1921       4 2001-08-10 14:41:04     471160\n",
       "1000206    6040    1784       3 2001-08-10 14:41:04     471160\n",
       "1000207    6040     161       3 2001-08-10 14:41:26     471161\n",
       "1000208    6040    1221       4 2001-08-20 13:44:15     471162\n",
       "\n",
       "[1000179 rows x 5 columns]"
      ]
     },
     "execution_count": 15,
     "metadata": {},
     "output_type": "execute_result"
    }
   ],
   "source": [
    "# 한 SessionId가 동시간에 30개의 영화를 평가한 것은 제대로 된 평가라고 생각하지 않는다.\n",
    "# session_length==30 제거\n",
    "data = data.loc[data['SessionId'] != long_session]\n",
    "\n",
    "data"
   ]
  },
  {
   "cell_type": "markdown",
   "id": "0d9ae463",
   "metadata": {},
   "source": [
    "### 3.4 Session Length Visualization"
   ]
  },
  {
   "cell_type": "markdown",
   "id": "6e787ad3",
   "metadata": {},
   "source": [
    "* `session_length`를 시각화해본다."
   ]
  },
  {
   "cell_type": "code",
   "execution_count": 16,
   "id": "6d0abf36",
   "metadata": {},
   "outputs": [
    {
     "data": {
      "text/plain": [
       "1    0.480048\n",
       "2    0.713936\n",
       "3    0.847350\n",
       "4    0.919684\n",
       "5    0.958639\n",
       "6    0.979132\n",
       "7    0.989772\n",
       "8    0.994989\n",
       "9    0.997604\n",
       "dtype: float64"
      ]
     },
     "execution_count": 16,
     "metadata": {},
     "output_type": "execute_result"
    }
   ],
   "source": [
    "length_count = session_length.groupby(session_length).size()\n",
    "length_percent_cumsum = length_count.cumsum() / length_count.sum()\n",
    "length_percent_cumsum_999 = length_percent_cumsum[length_percent_cumsum < 0.999]\n",
    "\n",
    "length_percent_cumsum_999"
   ]
  },
  {
   "cell_type": "markdown",
   "id": "74250c68",
   "metadata": {},
   "source": [
    "* 전체 세션 길이의 분포 누적합 확인"
   ]
  },
  {
   "cell_type": "code",
   "execution_count": 17,
   "id": "b6d3e8be",
   "metadata": {},
   "outputs": [
    {
     "data": {
      "image/png": "[encoded data removed]",
      "text/plain": [
       "<Figure size 720x360 with 1 Axes>"
      ]
     },
     "metadata": {
      "needs_background": "light"
     },
     "output_type": "display_data"
    }
   ],
   "source": [
    "# 전체 분포 누적합 시각화\n",
    "import matplotlib.pyplot as plt\n",
    "\n",
    "plt.figure(figsize=(10, 5))\n",
    "plt.bar(x=length_percent_cumsum.index,\n",
    "        height=length_percent_cumsum, color='salmon')\n",
    "plt.xticks(length_percent_cumsum.index)\n",
    "plt.yticks(np.arange(0, 1.01, 0.05))\n",
    "plt.title('Cumsum Percentage (Entire)', size=20)\n",
    "plt.show()"
   ]
  },
  {
   "cell_type": "markdown",
   "id": "9377cb8a",
   "metadata": {},
   "source": [
    "* 세션 길이 기준 하위 99.9%까지의 분포 누적합을 시각화"
   ]
  },
  {
   "cell_type": "code",
   "execution_count": 18,
   "id": "7a595321",
   "metadata": {},
   "outputs": [
    {
     "data": {
      "image/png": "[encoded data removed]",
      "text/plain": [
       "<Figure size 720x576 with 1 Axes>"
      ]
     },
     "metadata": {
      "needs_background": "light"
     },
     "output_type": "display_data"
    }
   ],
   "source": [
    "import matplotlib.pyplot as plt\n",
    "\n",
    "plt.figure(figsize=(10, 8))\n",
    "plt.bar(x=length_percent_cumsum_999.index,\n",
    "        height=length_percent_cumsum_999, color='salmon')\n",
    "plt.xticks(length_percent_cumsum_999.index)\n",
    "plt.yticks(np.arange(0, 1.01, 0.05))\n",
    "plt.title('Cumsum Percentage Until 0.999', size=20)\n",
    "plt.show()"
   ]
  },
  {
   "cell_type": "markdown",
   "id": "d8576539",
   "metadata": {},
   "source": [
    "* 세션의 길이가 9 이하인 데이터들에 대해서만 그래프를 출력\n",
    "* 약 99% 데이터들의 세션 길이가 9 이하 임을 확인"
   ]
  },
  {
   "cell_type": "markdown",
   "id": "ba6b705a",
   "metadata": {},
   "source": [
    "### 3.5 Session Time"
   ]
  },
  {
   "cell_type": "markdown",
   "id": "8816458c",
   "metadata": {},
   "source": [
    "* 데이터의 시간 관련 정보를 확인한다."
   ]
  },
  {
   "cell_type": "code",
   "execution_count": 19,
   "id": "d52eb7d2",
   "metadata": {},
   "outputs": [
    {
     "name": "stdout",
     "output_type": "stream",
     "text": [
      "2000-04-25 23:05:32\n",
      "2003-02-28 17:49:50\n"
     ]
    }
   ],
   "source": [
    "oldest, latest = data['Time'].min(), data['Time'].max()   # Time 데이터의 초단위 최솟값, 최댓값\n",
    "print(oldest) \n",
    "print(latest)"
   ]
  },
  {
   "cell_type": "markdown",
   "id": "0231391d",
   "metadata": {},
   "source": [
    "* 해당 데이터는 약 3년치의 데이터들이 포함되어 있음"
   ]
  },
  {
   "cell_type": "code",
   "execution_count": 20,
   "id": "628d3c54",
   "metadata": {},
   "outputs": [
    {
     "name": "stdout",
     "output_type": "stream",
     "text": [
      "Number of 2000 Data : 904727\n"
     ]
    }
   ],
   "source": [
    "target_year = 2000\n",
    "time2000_counts = data[data['Time'].dt.year==target_year]\n",
    "print('Number of 2000 Data :', len(time2000_counts))"
   ]
  },
  {
   "cell_type": "code",
   "execution_count": 21,
   "id": "ec2094f8",
   "metadata": {},
   "outputs": [
    {
     "name": "stdout",
     "output_type": "stream",
     "text": [
      "Number of 2001 Data : 68058\n"
     ]
    }
   ],
   "source": [
    "target_year = 2001\n",
    "time2001_counts = data[data['Time'].dt.year==target_year]\n",
    "print('Number of 2001 Data :', len(time2001_counts))"
   ]
  },
  {
   "cell_type": "code",
   "execution_count": 22,
   "id": "bfae9a6d",
   "metadata": {},
   "outputs": [
    {
     "name": "stdout",
     "output_type": "stream",
     "text": [
      "Number of 2002 Data : 24046\n"
     ]
    }
   ],
   "source": [
    "target_year = 2002\n",
    "time2002_counts = data[data['Time'].dt.year==target_year]\n",
    "print('Number of 2002 Data :', len(time2002_counts))"
   ]
  },
  {
   "cell_type": "code",
   "execution_count": 23,
   "id": "36999cd3",
   "metadata": {},
   "outputs": [
    {
     "name": "stdout",
     "output_type": "stream",
     "text": [
      "Number of 2003 Data : 3348\n"
     ]
    }
   ],
   "source": [
    "target_year = 2003\n",
    "time2003_counts = data[data['Time'].dt.year==target_year]\n",
    "print('Number of 2003 Data :', len(time2003_counts))"
   ]
  },
  {
   "cell_type": "markdown",
   "id": "7796ec7e",
   "metadata": {},
   "source": [
    "* 2000년이 가장 많고 연도가 지날수록 데이터 수가 줄어드는 것을 볼 수 있음.\n",
    "* 영화의 경우 유행을 많이 타므로 최근 데이터 2년치를 사용한다."
   ]
  },
  {
   "cell_type": "code",
   "execution_count": 24,
   "id": "693e2a38",
   "metadata": {},
   "outputs": [
    {
     "data": {
      "text/html": [
       "<div>\n",
       "<style scoped>\n",
       "    .dataframe tbody tr th:only-of-type {\n",
       "        vertical-align: middle;\n",
       "    }\n",
       "\n",
       "    .dataframe tbody tr th {\n",
       "        vertical-align: top;\n",
       "    }\n",
       "\n",
       "    .dataframe thead th {\n",
       "        text-align: right;\n",
       "    }\n",
       "</style>\n",
       "<table border=\"1\" class=\"dataframe\">\n",
       "  <thead>\n",
       "    <tr style=\"text-align: right;\">\n",
       "      <th></th>\n",
       "      <th>UserId</th>\n",
       "      <th>ItemId</th>\n",
       "      <th>Rating</th>\n",
       "      <th>Time</th>\n",
       "      <th>SessionId</th>\n",
       "    </tr>\n",
       "  </thead>\n",
       "  <tbody>\n",
       "    <tr>\n",
       "      <th>2498</th>\n",
       "      <td>19</td>\n",
       "      <td>318</td>\n",
       "      <td>4</td>\n",
       "      <td>2001-07-08 01:43:18</td>\n",
       "      <td>1287</td>\n",
       "    </tr>\n",
       "    <tr>\n",
       "      <th>2499</th>\n",
       "      <td>19</td>\n",
       "      <td>1234</td>\n",
       "      <td>5</td>\n",
       "      <td>2001-07-08 01:43:56</td>\n",
       "      <td>1288</td>\n",
       "    </tr>\n",
       "    <tr>\n",
       "      <th>2513</th>\n",
       "      <td>20</td>\n",
       "      <td>1694</td>\n",
       "      <td>3</td>\n",
       "      <td>2001-12-29 23:37:51</td>\n",
       "      <td>1297</td>\n",
       "    </tr>\n",
       "    <tr>\n",
       "      <th>2514</th>\n",
       "      <td>20</td>\n",
       "      <td>1468</td>\n",
       "      <td>3</td>\n",
       "      <td>2001-12-29 23:37:51</td>\n",
       "      <td>1297</td>\n",
       "    </tr>\n",
       "    <tr>\n",
       "      <th>2515</th>\n",
       "      <td>20</td>\n",
       "      <td>3717</td>\n",
       "      <td>2</td>\n",
       "      <td>2001-12-29 23:37:51</td>\n",
       "      <td>1297</td>\n",
       "    </tr>\n",
       "    <tr>\n",
       "      <th>...</th>\n",
       "      <td>...</td>\n",
       "      <td>...</td>\n",
       "      <td>...</td>\n",
       "      <td>...</td>\n",
       "      <td>...</td>\n",
       "    </tr>\n",
       "    <tr>\n",
       "      <th>1000204</th>\n",
       "      <td>6040</td>\n",
       "      <td>2917</td>\n",
       "      <td>4</td>\n",
       "      <td>2001-08-10 14:40:29</td>\n",
       "      <td>471159</td>\n",
       "    </tr>\n",
       "    <tr>\n",
       "      <th>1000205</th>\n",
       "      <td>6040</td>\n",
       "      <td>1921</td>\n",
       "      <td>4</td>\n",
       "      <td>2001-08-10 14:41:04</td>\n",
       "      <td>471160</td>\n",
       "    </tr>\n",
       "    <tr>\n",
       "      <th>1000206</th>\n",
       "      <td>6040</td>\n",
       "      <td>1784</td>\n",
       "      <td>3</td>\n",
       "      <td>2001-08-10 14:41:04</td>\n",
       "      <td>471160</td>\n",
       "    </tr>\n",
       "    <tr>\n",
       "      <th>1000207</th>\n",
       "      <td>6040</td>\n",
       "      <td>161</td>\n",
       "      <td>3</td>\n",
       "      <td>2001-08-10 14:41:26</td>\n",
       "      <td>471161</td>\n",
       "    </tr>\n",
       "    <tr>\n",
       "      <th>1000208</th>\n",
       "      <td>6040</td>\n",
       "      <td>1221</td>\n",
       "      <td>4</td>\n",
       "      <td>2001-08-20 13:44:15</td>\n",
       "      <td>471162</td>\n",
       "    </tr>\n",
       "  </tbody>\n",
       "</table>\n",
       "<p>69349 rows × 5 columns</p>\n",
       "</div>"
      ],
      "text/plain": [
       "         UserId  ItemId  Rating                Time  SessionId\n",
       "2498         19     318       4 2001-07-08 01:43:18       1287\n",
       "2499         19    1234       5 2001-07-08 01:43:56       1288\n",
       "2513         20    1694       3 2001-12-29 23:37:51       1297\n",
       "2514         20    1468       3 2001-12-29 23:37:51       1297\n",
       "2515         20    3717       2 2001-12-29 23:37:51       1297\n",
       "...         ...     ...     ...                 ...        ...\n",
       "1000204    6040    2917       4 2001-08-10 14:40:29     471159\n",
       "1000205    6040    1921       4 2001-08-10 14:41:04     471160\n",
       "1000206    6040    1784       3 2001-08-10 14:41:04     471160\n",
       "1000207    6040     161       3 2001-08-10 14:41:26     471161\n",
       "1000208    6040    1221       4 2001-08-20 13:44:15     471162\n",
       "\n",
       "[69349 rows x 5 columns]"
      ]
     },
     "execution_count": 24,
     "metadata": {},
     "output_type": "execute_result"
    }
   ],
   "source": [
    "year_ago = latest - dt.timedelta(365*2)     # 최종 날짜로부터 365일*2(2년) 이전 날짜를 구한다.  \n",
    "data = data[data['Time'] > year_ago]   # 방금 구한 날짜 이후의 데이터만 모은다. \n",
    "data"
   ]
  },
  {
   "cell_type": "code",
   "execution_count": 25,
   "id": "e5b98673",
   "metadata": {},
   "outputs": [
    {
     "name": "stdout",
     "output_type": "stream",
     "text": [
      "2001-02-28 19:06:53\n",
      "2003-02-28 17:49:50\n"
     ]
    }
   ],
   "source": [
    "oldest, latest = data['Time'].min(), data['Time'].max() \n",
    "print(oldest) \n",
    "print(latest)"
   ]
  },
  {
   "cell_type": "markdown",
   "id": "1fd4dce6",
   "metadata": {},
   "source": [
    "### 4. Data Cleansing"
   ]
  },
  {
   "cell_type": "markdown",
   "id": "cd031743",
   "metadata": {},
   "source": [
    "### 4.1 Rating"
   ]
  },
  {
   "cell_type": "markdown",
   "id": "1041519b",
   "metadata": {},
   "source": [
    "* Rating의 정보를 확인한다.\n",
    "* Rating은 최고 5점으로 시청한 영화가 마음에 들었는지 여부를 판단한다.\n",
    "* Rating이 낮은 데이터(1, 2점)는 삭제를 한다."
   ]
  },
  {
   "cell_type": "code",
   "execution_count": 26,
   "id": "01ee36ac",
   "metadata": {},
   "outputs": [
    {
     "data": {
      "image/png": "[encoded data removed]",
      "text/plain": [
       "<Figure size 432x288 with 1 Axes>"
      ]
     },
     "metadata": {
      "needs_background": "light"
     },
     "output_type": "display_data"
    }
   ],
   "source": [
    "plt.hist(data['Rating'], density=True,bins=5, color='salmon')\n",
    "plt.title('Histogram of Rating')\n",
    "plt.axis([1, 5, 0, 0.5])\n",
    "plt.show()"
   ]
  },
  {
   "cell_type": "code",
   "execution_count": 27,
   "id": "1a569004",
   "metadata": {},
   "outputs": [
    {
     "name": "stdout",
     "output_type": "stream",
     "text": [
      "12427\n"
     ]
    }
   ],
   "source": [
    "# 1, 2등급의 데이터 개수\n",
    "low_Rating = data[data['Rating'] < 3]\n",
    "print(len(low_Rating))"
   ]
  },
  {
   "cell_type": "code",
   "execution_count": 28,
   "id": "147d0a59",
   "metadata": {},
   "outputs": [
    {
     "data": {
      "text/html": [
       "<div>\n",
       "<style scoped>\n",
       "    .dataframe tbody tr th:only-of-type {\n",
       "        vertical-align: middle;\n",
       "    }\n",
       "\n",
       "    .dataframe tbody tr th {\n",
       "        vertical-align: top;\n",
       "    }\n",
       "\n",
       "    .dataframe thead th {\n",
       "        text-align: right;\n",
       "    }\n",
       "</style>\n",
       "<table border=\"1\" class=\"dataframe\">\n",
       "  <thead>\n",
       "    <tr style=\"text-align: right;\">\n",
       "      <th></th>\n",
       "      <th>UserId</th>\n",
       "      <th>ItemId</th>\n",
       "      <th>Rating</th>\n",
       "      <th>Time</th>\n",
       "      <th>SessionId</th>\n",
       "    </tr>\n",
       "  </thead>\n",
       "  <tbody>\n",
       "    <tr>\n",
       "      <th>2498</th>\n",
       "      <td>19</td>\n",
       "      <td>318</td>\n",
       "      <td>4</td>\n",
       "      <td>2001-07-08 01:43:18</td>\n",
       "      <td>1287</td>\n",
       "    </tr>\n",
       "    <tr>\n",
       "      <th>2499</th>\n",
       "      <td>19</td>\n",
       "      <td>1234</td>\n",
       "      <td>5</td>\n",
       "      <td>2001-07-08 01:43:56</td>\n",
       "      <td>1288</td>\n",
       "    </tr>\n",
       "    <tr>\n",
       "      <th>2513</th>\n",
       "      <td>20</td>\n",
       "      <td>1694</td>\n",
       "      <td>3</td>\n",
       "      <td>2001-12-29 23:37:51</td>\n",
       "      <td>1297</td>\n",
       "    </tr>\n",
       "    <tr>\n",
       "      <th>2514</th>\n",
       "      <td>20</td>\n",
       "      <td>1468</td>\n",
       "      <td>3</td>\n",
       "      <td>2001-12-29 23:37:51</td>\n",
       "      <td>1297</td>\n",
       "    </tr>\n",
       "    <tr>\n",
       "      <th>2516</th>\n",
       "      <td>20</td>\n",
       "      <td>2858</td>\n",
       "      <td>4</td>\n",
       "      <td>2001-12-29 23:37:51</td>\n",
       "      <td>1297</td>\n",
       "    </tr>\n",
       "    <tr>\n",
       "      <th>...</th>\n",
       "      <td>...</td>\n",
       "      <td>...</td>\n",
       "      <td>...</td>\n",
       "      <td>...</td>\n",
       "      <td>...</td>\n",
       "    </tr>\n",
       "    <tr>\n",
       "      <th>1000204</th>\n",
       "      <td>6040</td>\n",
       "      <td>2917</td>\n",
       "      <td>4</td>\n",
       "      <td>2001-08-10 14:40:29</td>\n",
       "      <td>471159</td>\n",
       "    </tr>\n",
       "    <tr>\n",
       "      <th>1000205</th>\n",
       "      <td>6040</td>\n",
       "      <td>1921</td>\n",
       "      <td>4</td>\n",
       "      <td>2001-08-10 14:41:04</td>\n",
       "      <td>471160</td>\n",
       "    </tr>\n",
       "    <tr>\n",
       "      <th>1000206</th>\n",
       "      <td>6040</td>\n",
       "      <td>1784</td>\n",
       "      <td>3</td>\n",
       "      <td>2001-08-10 14:41:04</td>\n",
       "      <td>471160</td>\n",
       "    </tr>\n",
       "    <tr>\n",
       "      <th>1000207</th>\n",
       "      <td>6040</td>\n",
       "      <td>161</td>\n",
       "      <td>3</td>\n",
       "      <td>2001-08-10 14:41:26</td>\n",
       "      <td>471161</td>\n",
       "    </tr>\n",
       "    <tr>\n",
       "      <th>1000208</th>\n",
       "      <td>6040</td>\n",
       "      <td>1221</td>\n",
       "      <td>4</td>\n",
       "      <td>2001-08-20 13:44:15</td>\n",
       "      <td>471162</td>\n",
       "    </tr>\n",
       "  </tbody>\n",
       "</table>\n",
       "<p>56922 rows × 5 columns</p>\n",
       "</div>"
      ],
      "text/plain": [
       "         UserId  ItemId  Rating                Time  SessionId\n",
       "2498         19     318       4 2001-07-08 01:43:18       1287\n",
       "2499         19    1234       5 2001-07-08 01:43:56       1288\n",
       "2513         20    1694       3 2001-12-29 23:37:51       1297\n",
       "2514         20    1468       3 2001-12-29 23:37:51       1297\n",
       "2516         20    2858       4 2001-12-29 23:37:51       1297\n",
       "...         ...     ...     ...                 ...        ...\n",
       "1000204    6040    2917       4 2001-08-10 14:40:29     471159\n",
       "1000205    6040    1921       4 2001-08-10 14:41:04     471160\n",
       "1000206    6040    1784       3 2001-08-10 14:41:04     471160\n",
       "1000207    6040     161       3 2001-08-10 14:41:26     471161\n",
       "1000208    6040    1221       4 2001-08-20 13:44:15     471162\n",
       "\n",
       "[56922 rows x 5 columns]"
      ]
     },
     "execution_count": 28,
     "metadata": {},
     "output_type": "execute_result"
    }
   ],
   "source": [
    "# 1, 2등급 삭제\n",
    "data = data[data['Rating']>=3]\n",
    "data"
   ]
  },
  {
   "cell_type": "markdown",
   "id": "b58b4cda",
   "metadata": {},
   "source": [
    "### 4.2 Train / Valid / Test split"
   ]
  },
  {
   "cell_type": "markdown",
   "id": "226c089f",
   "metadata": {},
   "source": [
    "* last_time에서 약 3개월(100days) 전까지를 test set으로, last_time에서 약 6개월(200days) 전까지를 validation으로 나눈다. "
   ]
  },
  {
   "cell_type": "code",
   "execution_count": 29,
   "id": "973fb068",
   "metadata": {},
   "outputs": [],
   "source": [
    "def split_by_date(data: pd.DataFrame, n_days: int):\n",
    "    final_time = data['Time'].max()\n",
    "    session_last_time = data.groupby('SessionId')['Time'].max()\n",
    "    session_in_train = session_last_time[session_last_time < final_time - dt.timedelta(n_days)].index\n",
    "    session_in_test = session_last_time[session_last_time >= final_time - dt.timedelta(n_days)].index\n",
    "\n",
    "    before_date = data[data['SessionId'].isin(session_in_train)]\n",
    "    after_date = data[data['SessionId'].isin(session_in_test)]\n",
    "    after_date = after_date[after_date['ItemId'].isin(before_date['ItemId'])]\n",
    "    return before_date, after_date"
   ]
  },
  {
   "cell_type": "code",
   "execution_count": 30,
   "id": "0e9316e0",
   "metadata": {},
   "outputs": [],
   "source": [
    "# test dataset 분리\n",
    "tr, test = split_by_date(data, n_days = 100)"
   ]
  },
  {
   "cell_type": "code",
   "execution_count": 31,
   "id": "63852699",
   "metadata": {},
   "outputs": [],
   "source": [
    "# validation dataset 분리\n",
    "tr, val = split_by_date(tr, n_days = 100)"
   ]
  },
  {
   "cell_type": "code",
   "execution_count": 32,
   "id": "f6788e33",
   "metadata": {},
   "outputs": [],
   "source": [
    "# data에 대한 정보.\n",
    "def stats_info(data: pd.DataFrame, status: str):\n",
    "    print(f'* {status} Set Stats Info\\n'\n",
    "          f'\\t Events: {len(data)}\\n'\n",
    "          f'\\t Sessions: {data[\"SessionId\"].nunique()}\\n'\n",
    "          f'\\t Items: {data[\"ItemId\"].nunique()}\\n'\n",
    "          f'\\t First Time : {data[\"Time\"].min()}\\n'\n",
    "          f'\\t Last Time : {data[\"Time\"].max()}\\n')"
   ]
  },
  {
   "cell_type": "code",
   "execution_count": 33,
   "id": "f6d9b016",
   "metadata": {},
   "outputs": [
    {
     "name": "stdout",
     "output_type": "stream",
     "text": [
      "* train Set Stats Info\n",
      "\t Events: 48436\n",
      "\t Sessions: 33154\n",
      "\t Items: 3142\n",
      "\t First Time : 2001-02-28 19:06:53\n",
      "\t Last Time : 2002-08-12 13:53:29\n",
      "\n",
      "* valid Set Stats Info\n",
      "\t Events: 4333\n",
      "\t Sessions: 3123\n",
      "\t Items: 1698\n",
      "\t First Time : 2002-08-13 00:40:06\n",
      "\t Last Time : 2002-11-20 16:38:40\n",
      "\n",
      "* test Set Stats Info\n",
      "\t Events: 4093\n",
      "\t Sessions: 3052\n",
      "\t Items: 1601\n",
      "\t First Time : 2002-11-20 20:30:02\n",
      "\t Last Time : 2003-02-28 17:49:50\n",
      "\n"
     ]
    }
   ],
   "source": [
    "stats_info(tr, 'train')\n",
    "stats_info(val, 'valid')\n",
    "stats_info(test, 'test')"
   ]
  },
  {
   "cell_type": "code",
   "execution_count": 34,
   "id": "f76b29b7",
   "metadata": {},
   "outputs": [],
   "source": [
    "# train set에 없는 아이템이 val, test기간에 생길 수 있으므로 train data를 기준으로 인덱싱\n",
    "id2idx = {item_id : index for index, item_id in enumerate(tr['ItemId'].unique())}\n",
    "\n",
    "def indexing(df, id2idx):\n",
    "    df['item_idx'] = df['ItemId'].map(lambda x: id2idx.get(x, -1))  # id2idx에 없는 아이템은 모르는 값(-1) 처리\n",
    "    return df\n",
    "\n",
    "tr = indexing(tr, id2idx)\n",
    "val = indexing(val, id2idx)\n",
    "test = indexing(test, id2idx)"
   ]
  },
  {
   "cell_type": "code",
   "execution_count": 35,
   "id": "baf64a1e",
   "metadata": {},
   "outputs": [],
   "source": [
    "save_path = data_path / 'processed'\n",
    "save_path.mkdir(parents=True, exist_ok=True)\n",
    "\n",
    "tr.to_pickle(save_path / 'train.pkl')\n",
    "val.to_pickle(save_path / 'valid.pkl')\n",
    "test.to_pickle(save_path / 'test.pkl')"
   ]
  },
  {
   "cell_type": "markdown",
   "id": "5d36e440",
   "metadata": {},
   "source": [
    "### 5. Composition of Mini-Batch"
   ]
  },
  {
   "cell_type": "markdown",
   "id": "47a8a01d",
   "metadata": {},
   "source": [
    "* Session-Parallel Mini-Batch의 개념에 따라, 학습 속도의 저하가 최소화될 수 있도록 구성한다."
   ]
  },
  {
   "cell_type": "markdown",
   "id": "d9d54d57",
   "metadata": {},
   "source": [
    "### 5.1 SessionDataset"
   ]
  },
  {
   "cell_type": "code",
   "execution_count": 36,
   "id": "0323d02a",
   "metadata": {},
   "outputs": [],
   "source": [
    "class SessionDataset:\n",
    "    \"\"\"Credit to yhs-968/pyGRU4REC.\"\"\"\n",
    "\n",
    "    def __init__(self, data):\n",
    "        self.df = data\n",
    "        self.click_offsets = self.get_click_offsets()\n",
    "        self.session_idx = np.arange(self.df['SessionId'].nunique())  # indexing to SessionId\n",
    "\n",
    "    def get_click_offsets(self):\n",
    "        \"\"\"\n",
    "        Return the indexes of the first click of each session IDs,\n",
    "        \"\"\"\n",
    "        offsets = np.zeros(self.df['SessionId'].nunique() + 1, dtype=np.int32)\n",
    "        offsets[1:] = self.df.groupby('SessionId').size().cumsum()\n",
    "        return offsets"
   ]
  },
  {
   "cell_type": "code",
   "execution_count": 37,
   "id": "3c522c73",
   "metadata": {},
   "outputs": [
    {
     "data": {
      "text/html": [
       "<div>\n",
       "<style scoped>\n",
       "    .dataframe tbody tr th:only-of-type {\n",
       "        vertical-align: middle;\n",
       "    }\n",
       "\n",
       "    .dataframe tbody tr th {\n",
       "        vertical-align: top;\n",
       "    }\n",
       "\n",
       "    .dataframe thead th {\n",
       "        text-align: right;\n",
       "    }\n",
       "</style>\n",
       "<table border=\"1\" class=\"dataframe\">\n",
       "  <thead>\n",
       "    <tr style=\"text-align: right;\">\n",
       "      <th></th>\n",
       "      <th>UserId</th>\n",
       "      <th>ItemId</th>\n",
       "      <th>Rating</th>\n",
       "      <th>Time</th>\n",
       "      <th>SessionId</th>\n",
       "      <th>item_idx</th>\n",
       "    </tr>\n",
       "  </thead>\n",
       "  <tbody>\n",
       "    <tr>\n",
       "      <th>2498</th>\n",
       "      <td>19</td>\n",
       "      <td>318</td>\n",
       "      <td>4</td>\n",
       "      <td>2001-07-08 01:43:18</td>\n",
       "      <td>1287</td>\n",
       "      <td>0</td>\n",
       "    </tr>\n",
       "    <tr>\n",
       "      <th>2499</th>\n",
       "      <td>19</td>\n",
       "      <td>1234</td>\n",
       "      <td>5</td>\n",
       "      <td>2001-07-08 01:43:56</td>\n",
       "      <td>1288</td>\n",
       "      <td>1</td>\n",
       "    </tr>\n",
       "    <tr>\n",
       "      <th>2513</th>\n",
       "      <td>20</td>\n",
       "      <td>1694</td>\n",
       "      <td>3</td>\n",
       "      <td>2001-12-29 23:37:51</td>\n",
       "      <td>1297</td>\n",
       "      <td>2</td>\n",
       "    </tr>\n",
       "    <tr>\n",
       "      <th>2514</th>\n",
       "      <td>20</td>\n",
       "      <td>1468</td>\n",
       "      <td>3</td>\n",
       "      <td>2001-12-29 23:37:51</td>\n",
       "      <td>1297</td>\n",
       "      <td>3</td>\n",
       "    </tr>\n",
       "    <tr>\n",
       "      <th>2516</th>\n",
       "      <td>20</td>\n",
       "      <td>2858</td>\n",
       "      <td>4</td>\n",
       "      <td>2001-12-29 23:37:51</td>\n",
       "      <td>1297</td>\n",
       "      <td>4</td>\n",
       "    </tr>\n",
       "    <tr>\n",
       "      <th>2517</th>\n",
       "      <td>20</td>\n",
       "      <td>2641</td>\n",
       "      <td>4</td>\n",
       "      <td>2001-12-29 23:38:35</td>\n",
       "      <td>1298</td>\n",
       "      <td>5</td>\n",
       "    </tr>\n",
       "    <tr>\n",
       "      <th>2518</th>\n",
       "      <td>20</td>\n",
       "      <td>1375</td>\n",
       "      <td>3</td>\n",
       "      <td>2001-12-29 23:38:35</td>\n",
       "      <td>1298</td>\n",
       "      <td>6</td>\n",
       "    </tr>\n",
       "    <tr>\n",
       "      <th>2519</th>\n",
       "      <td>20</td>\n",
       "      <td>3753</td>\n",
       "      <td>5</td>\n",
       "      <td>2001-12-29 23:38:36</td>\n",
       "      <td>1299</td>\n",
       "      <td>7</td>\n",
       "    </tr>\n",
       "    <tr>\n",
       "      <th>2520</th>\n",
       "      <td>20</td>\n",
       "      <td>3527</td>\n",
       "      <td>4</td>\n",
       "      <td>2001-12-29 23:39:41</td>\n",
       "      <td>1300</td>\n",
       "      <td>8</td>\n",
       "    </tr>\n",
       "    <tr>\n",
       "      <th>2521</th>\n",
       "      <td>20</td>\n",
       "      <td>1527</td>\n",
       "      <td>5</td>\n",
       "      <td>2001-12-29 23:39:41</td>\n",
       "      <td>1300</td>\n",
       "      <td>9</td>\n",
       "    </tr>\n",
       "  </tbody>\n",
       "</table>\n",
       "</div>"
      ],
      "text/plain": [
       "      UserId  ItemId  Rating                Time  SessionId  item_idx\n",
       "2498      19     318       4 2001-07-08 01:43:18       1287         0\n",
       "2499      19    1234       5 2001-07-08 01:43:56       1288         1\n",
       "2513      20    1694       3 2001-12-29 23:37:51       1297         2\n",
       "2514      20    1468       3 2001-12-29 23:37:51       1297         3\n",
       "2516      20    2858       4 2001-12-29 23:37:51       1297         4\n",
       "2517      20    2641       4 2001-12-29 23:38:35       1298         5\n",
       "2518      20    1375       3 2001-12-29 23:38:35       1298         6\n",
       "2519      20    3753       5 2001-12-29 23:38:36       1299         7\n",
       "2520      20    3527       4 2001-12-29 23:39:41       1300         8\n",
       "2521      20    1527       5 2001-12-29 23:39:41       1300         9"
      ]
     },
     "execution_count": 37,
     "metadata": {},
     "output_type": "execute_result"
    }
   ],
   "source": [
    "tr_dataset = SessionDataset(tr)\n",
    "tr_dataset.df.head(10)"
   ]
  },
  {
   "cell_type": "code",
   "execution_count": 38,
   "id": "a7fa074c",
   "metadata": {},
   "outputs": [
    {
     "data": {
      "text/plain": [
       "array([    0,     1,     2, ..., 48434, 48435, 48436], dtype=int32)"
      ]
     },
     "execution_count": 38,
     "metadata": {},
     "output_type": "execute_result"
    }
   ],
   "source": [
    "tr_dataset.click_offsets"
   ]
  },
  {
   "cell_type": "code",
   "execution_count": 39,
   "id": "be50b909",
   "metadata": {},
   "outputs": [
    {
     "data": {
      "text/plain": [
       "array([    0,     1,     2, ..., 33151, 33152, 33153])"
      ]
     },
     "execution_count": 39,
     "metadata": {},
     "output_type": "execute_result"
    }
   ],
   "source": [
    "tr_dataset.session_idx"
   ]
  },
  {
   "cell_type": "markdown",
   "id": "5edc80a3",
   "metadata": {},
   "source": [
    "### 5.2 SessionDataLoader"
   ]
  },
  {
   "cell_type": "code",
   "execution_count": 40,
   "id": "c7332230",
   "metadata": {},
   "outputs": [],
   "source": [
    "class SessionDataLoader:\n",
    "    \"\"\"Credit to yhs-968/pyGRU4REC.\"\"\"\n",
    "\n",
    "    def __init__(self, dataset: SessionDataset, batch_size=50):\n",
    "        self.dataset = dataset\n",
    "        self.batch_size = batch_size\n",
    "\n",
    "    def __iter__(self):\n",
    "        \"\"\" Returns the iterator for producing session-parallel training mini-batches.\n",
    "        Yields:\n",
    "            input (B,):  Item indices that will be encoded as one-hot vectors later.\n",
    "            target (B,): a Variable that stores the target item indices\n",
    "            masks: Numpy array indicating the positions of the sessions to be terminated\n",
    "        \"\"\"\n",
    "\n",
    "        start, end, mask, last_session, finished = self.initialize() \n",
    "        \"\"\"\n",
    "        start : Index Where Session Start\n",
    "        end : Index Where Session End\n",
    "        mask : indicator for the sessions to be terminated\n",
    "        \"\"\"\n",
    "\n",
    "        while not finished:\n",
    "            min_len = (end - start).min() - 1  # Shortest Length Among Sessions\n",
    "            for i in range(min_len):\n",
    "                # Build inputs & targets\n",
    "                inp = self.dataset.df['item_idx'].values[start + i]\n",
    "                target = self.dataset.df['item_idx'].values[start + i + 1]\n",
    "                yield inp, target, mask\n",
    "\n",
    "            start, end, mask, last_session, finished = self.update_status(start, end, min_len, last_session, finished)\n",
    "\n",
    "    def initialize(self):\n",
    "        first_iters = np.arange(self.batch_size)    # 첫 배치에 사용할 세션 Index를 가져온다.\n",
    "        last_session = self.batch_size - 1    # 마지막으로 다루고 있는 세션 Index를 저장해둔다.\n",
    "        start = self.dataset.click_offsets[self.dataset.session_idx[first_iters]]       # data 상에서 session이 시작된 위치를 가져온다.\n",
    "        end = self.dataset.click_offsets[self.dataset.session_idx[first_iters] + 1]  # session이 끝난 위치 바로 다음 위치를 가져온다.\n",
    "        mask = np.array([])   # session의 모든 아이템을 다 돌은 경우 mask에 추가\n",
    "        finished = False         # data를 전부 돌았는지 기록하기 위한 변수\n",
    "        return start, end, mask, last_session, finished\n",
    "\n",
    "    def update_status(self, start: np.ndarray, end: np.ndarray, min_len: int, last_session: int, finished: bool):  \n",
    "        # 다음 배치 데이터를 생성하기 위해 상태를 update\n",
    "        \n",
    "        start += min_len   # __iter__에서 min_len 만큼 for문을 돌았으므로 start를 min_len 만큼 더해준다.\n",
    "        mask = np.arange(self.batch_size)[(end - start) == 1]  \n",
    "        # end는 다음 세션이 시작되는 위치인데 start와 한 칸 차이난다는 것은 session이 끝났다는 뜻. mask에 기록\n",
    "\n",
    "        for i, idx in enumerate(mask, start=1):  # mask에 추가된 세션 개수만큼 새로운 세션을 돈다.\n",
    "            new_session = last_session + i  \n",
    "            if new_session > self.dataset.session_idx[-1]:  # 만약 새로운 세션이 마지막 세션 index보다 크다면 모든 학습데이터를 돈 것\n",
    "                finished = True\n",
    "                break\n",
    "            # update the next starting/ending point\n",
    "            start[idx] = self.dataset.click_offsets[self.dataset.session_idx[new_session]]     # 종료된 세션 대신 새로운 세션의 시작점 기록\n",
    "            end[idx] = self.dataset.click_offsets[self.dataset.session_idx[new_session] + 1]\n",
    "\n",
    "        last_session += len(mask)  # 마지막 세션의 위치 기록\n",
    "        return start, end, mask, last_session, finished"
   ]
  },
  {
   "cell_type": "code",
   "execution_count": 41,
   "id": "0596942b",
   "metadata": {},
   "outputs": [
    {
     "data": {
      "text/html": [
       "<div>\n",
       "<style scoped>\n",
       "    .dataframe tbody tr th:only-of-type {\n",
       "        vertical-align: middle;\n",
       "    }\n",
       "\n",
       "    .dataframe tbody tr th {\n",
       "        vertical-align: top;\n",
       "    }\n",
       "\n",
       "    .dataframe thead th {\n",
       "        text-align: right;\n",
       "    }\n",
       "</style>\n",
       "<table border=\"1\" class=\"dataframe\">\n",
       "  <thead>\n",
       "    <tr style=\"text-align: right;\">\n",
       "      <th></th>\n",
       "      <th>UserId</th>\n",
       "      <th>ItemId</th>\n",
       "      <th>Rating</th>\n",
       "      <th>Time</th>\n",
       "      <th>SessionId</th>\n",
       "      <th>item_idx</th>\n",
       "    </tr>\n",
       "  </thead>\n",
       "  <tbody>\n",
       "    <tr>\n",
       "      <th>2498</th>\n",
       "      <td>19</td>\n",
       "      <td>318</td>\n",
       "      <td>4</td>\n",
       "      <td>2001-07-08 01:43:18</td>\n",
       "      <td>1287</td>\n",
       "      <td>0</td>\n",
       "    </tr>\n",
       "    <tr>\n",
       "      <th>2499</th>\n",
       "      <td>19</td>\n",
       "      <td>1234</td>\n",
       "      <td>5</td>\n",
       "      <td>2001-07-08 01:43:56</td>\n",
       "      <td>1288</td>\n",
       "      <td>1</td>\n",
       "    </tr>\n",
       "    <tr>\n",
       "      <th>2513</th>\n",
       "      <td>20</td>\n",
       "      <td>1694</td>\n",
       "      <td>3</td>\n",
       "      <td>2001-12-29 23:37:51</td>\n",
       "      <td>1297</td>\n",
       "      <td>2</td>\n",
       "    </tr>\n",
       "    <tr>\n",
       "      <th>2514</th>\n",
       "      <td>20</td>\n",
       "      <td>1468</td>\n",
       "      <td>3</td>\n",
       "      <td>2001-12-29 23:37:51</td>\n",
       "      <td>1297</td>\n",
       "      <td>3</td>\n",
       "    </tr>\n",
       "    <tr>\n",
       "      <th>2516</th>\n",
       "      <td>20</td>\n",
       "      <td>2858</td>\n",
       "      <td>4</td>\n",
       "      <td>2001-12-29 23:37:51</td>\n",
       "      <td>1297</td>\n",
       "      <td>4</td>\n",
       "    </tr>\n",
       "    <tr>\n",
       "      <th>2517</th>\n",
       "      <td>20</td>\n",
       "      <td>2641</td>\n",
       "      <td>4</td>\n",
       "      <td>2001-12-29 23:38:35</td>\n",
       "      <td>1298</td>\n",
       "      <td>5</td>\n",
       "    </tr>\n",
       "    <tr>\n",
       "      <th>2518</th>\n",
       "      <td>20</td>\n",
       "      <td>1375</td>\n",
       "      <td>3</td>\n",
       "      <td>2001-12-29 23:38:35</td>\n",
       "      <td>1298</td>\n",
       "      <td>6</td>\n",
       "    </tr>\n",
       "    <tr>\n",
       "      <th>2519</th>\n",
       "      <td>20</td>\n",
       "      <td>3753</td>\n",
       "      <td>5</td>\n",
       "      <td>2001-12-29 23:38:36</td>\n",
       "      <td>1299</td>\n",
       "      <td>7</td>\n",
       "    </tr>\n",
       "    <tr>\n",
       "      <th>2520</th>\n",
       "      <td>20</td>\n",
       "      <td>3527</td>\n",
       "      <td>4</td>\n",
       "      <td>2001-12-29 23:39:41</td>\n",
       "      <td>1300</td>\n",
       "      <td>8</td>\n",
       "    </tr>\n",
       "    <tr>\n",
       "      <th>2521</th>\n",
       "      <td>20</td>\n",
       "      <td>1527</td>\n",
       "      <td>5</td>\n",
       "      <td>2001-12-29 23:39:41</td>\n",
       "      <td>1300</td>\n",
       "      <td>9</td>\n",
       "    </tr>\n",
       "  </tbody>\n",
       "</table>\n",
       "</div>"
      ],
      "text/plain": [
       "      UserId  ItemId  Rating                Time  SessionId  item_idx\n",
       "2498      19     318       4 2001-07-08 01:43:18       1287         0\n",
       "2499      19    1234       5 2001-07-08 01:43:56       1288         1\n",
       "2513      20    1694       3 2001-12-29 23:37:51       1297         2\n",
       "2514      20    1468       3 2001-12-29 23:37:51       1297         3\n",
       "2516      20    2858       4 2001-12-29 23:37:51       1297         4\n",
       "2517      20    2641       4 2001-12-29 23:38:35       1298         5\n",
       "2518      20    1375       3 2001-12-29 23:38:35       1298         6\n",
       "2519      20    3753       5 2001-12-29 23:38:36       1299         7\n",
       "2520      20    3527       4 2001-12-29 23:39:41       1300         8\n",
       "2521      20    1527       5 2001-12-29 23:39:41       1300         9"
      ]
     },
     "execution_count": 41,
     "metadata": {},
     "output_type": "execute_result"
    }
   ],
   "source": [
    "tr_data_loader = SessionDataLoader(tr_dataset, batch_size=4)\n",
    "tr_dataset.df.head(10)"
   ]
  },
  {
   "cell_type": "code",
   "execution_count": 42,
   "id": "7dc899bb",
   "metadata": {},
   "outputs": [],
   "source": [
    "iter_ex = iter(tr_data_loader)"
   ]
  },
  {
   "cell_type": "code",
   "execution_count": 43,
   "id": "f1cf3ccb",
   "metadata": {},
   "outputs": [
    {
     "name": "stdout",
     "output_type": "stream",
     "text": [
      "Model Input Item Idx are : [16  8  2  5]\n",
      "Label Item Idx are :       [17  9  3  6]\n",
      "Previous Masked Input Idx are [0]\n"
     ]
    }
   ],
   "source": [
    "inputs, labels, mask =  next(iter_ex)\n",
    "print(f'Model Input Item Idx are : {inputs}')\n",
    "print(f'Label Item Idx are : {\"\":5} {labels}')\n",
    "print(f'Previous Masked Input Idx are {mask}')"
   ]
  },
  {
   "cell_type": "markdown",
   "id": "a3004c07",
   "metadata": {},
   "source": [
    "### 6. Modeling"
   ]
  },
  {
   "cell_type": "markdown",
   "id": "d597b781",
   "metadata": {},
   "source": [
    "### 6.1 Evaluation Metric"
   ]
  },
  {
   "cell_type": "code",
   "execution_count": 44,
   "id": "c8599dc0",
   "metadata": {},
   "outputs": [],
   "source": [
    "def mrr_k(pred, truth: int, k: int):\n",
    "    indexing = np.where(pred[:k] == truth)[0]\n",
    "    if len(indexing) > 0:\n",
    "        return 1 / (indexing[0] + 1)\n",
    "    else:\n",
    "        return 0\n",
    "\n",
    "\n",
    "def recall_k(pred, truth: int, k: int) -> int:\n",
    "    answer = truth in pred[:k]\n",
    "    return int(answer)"
   ]
  },
  {
   "cell_type": "markdown",
   "id": "8189427a",
   "metadata": {},
   "source": [
    "### 6.2 Model Architecture"
   ]
  },
  {
   "cell_type": "code",
   "execution_count": 45,
   "id": "e41141ee",
   "metadata": {},
   "outputs": [],
   "source": [
    "import numpy as np\n",
    "import tensorflow as tf\n",
    "from tensorflow.keras.layers import Input, Dense, Dropout, GRU\n",
    "from tensorflow.keras.losses import categorical_crossentropy\n",
    "from tensorflow.keras.models import Model\n",
    "from tensorflow.keras.optimizers import Adam\n",
    "from tensorflow.keras.utils import to_categorical\n",
    "from tqdm import tqdm"
   ]
  },
  {
   "cell_type": "code",
   "execution_count": 46,
   "id": "8b36ec2b",
   "metadata": {},
   "outputs": [],
   "source": [
    "def create_model(args):\n",
    "    inputs = Input(batch_shape=(args.batch_size, 1, args.num_items))\n",
    "    gru, _ = GRU(args.hsz, stateful=True, return_state=True, name='GRU')(inputs)\n",
    "    dropout = Dropout(args.drop_rate)(gru)\n",
    "    predictions = Dense(args.num_items, activation='softmax')(dropout)\n",
    "    model = Model(inputs=inputs, outputs=[predictions])\n",
    "    model.compile(loss=categorical_crossentropy, optimizer=Adam(args.lr), metrics=['accuracy'])\n",
    "    model.summary()\n",
    "    return model"
   ]
  },
  {
   "cell_type": "code",
   "execution_count": 47,
   "id": "621a8e8f",
   "metadata": {},
   "outputs": [],
   "source": [
    "class Args:\n",
    "    def __init__(self, tr, val, test, batch_size, hsz, drop_rate, lr, epochs, k):\n",
    "        self.tr = tr\n",
    "        self.val = val\n",
    "        self.test = test\n",
    "        self.num_items = tr['ItemId'].nunique()\n",
    "        self.num_sessions = tr['SessionId'].nunique()\n",
    "        self.batch_size = batch_size\n",
    "        self.hsz = hsz\n",
    "        self.drop_rate = drop_rate\n",
    "        self.lr = lr\n",
    "        self.epochs = epochs\n",
    "        self.k = k\n",
    "\n",
    "args = Args(tr, val, test, batch_size=256, hsz=50, drop_rate=0.1, lr=0.00001, epochs=30, k=10)"
   ]
  },
  {
   "cell_type": "code",
   "execution_count": 48,
   "id": "6870e285",
   "metadata": {},
   "outputs": [
    {
     "name": "stdout",
     "output_type": "stream",
     "text": [
      "Model: \"model\"\n",
      "_________________________________________________________________\n",
      "Layer (type)                 Output Shape              Param #   \n",
      "=================================================================\n",
      "input_1 (InputLayer)         [(256, 1, 3142)]          0         \n",
      "_________________________________________________________________\n",
      "GRU (GRU)                    [(256, 50), (256, 50)]    479100    \n",
      "_________________________________________________________________\n",
      "dropout (Dropout)            (256, 50)                 0         \n",
      "_________________________________________________________________\n",
      "dense (Dense)                (256, 3142)               160242    \n",
      "=================================================================\n",
      "Total params: 639,342\n",
      "Trainable params: 639,342\n",
      "Non-trainable params: 0\n",
      "_________________________________________________________________\n"
     ]
    }
   ],
   "source": [
    "model = create_model(args)"
   ]
  },
  {
   "cell_type": "markdown",
   "id": "02790279",
   "metadata": {},
   "source": [
    "### 7. Model Training"
   ]
  },
  {
   "cell_type": "markdown",
   "id": "f1fae165",
   "metadata": {},
   "source": [
    "### 7.1 Training"
   ]
  },
  {
   "cell_type": "code",
   "execution_count": 49,
   "id": "d70f0b19",
   "metadata": {},
   "outputs": [],
   "source": [
    "# train 셋으로 학습하면서 valid 셋으로 검증\n",
    "def train_model(model, args):\n",
    "    train_dataset = SessionDataset(args.tr)\n",
    "    train_loader = SessionDataLoader(train_dataset, batch_size=args.batch_size)\n",
    "\n",
    "    for epoch in range(1, args.epochs + 1):\n",
    "        total_step = len(args.tr) - args.tr['SessionId'].nunique()\n",
    "        tr_loader = tqdm(train_loader, total=total_step // args.batch_size, desc='Train', mininterval=1)\n",
    "        for feat, target, mask in tr_loader:\n",
    "            reset_hidden_states(model, mask)  # 종료된 session은 hidden_state를 초기화.\n",
    "\n",
    "            input_ohe = to_categorical(feat, num_classes=args.num_items)\n",
    "            input_ohe = np.expand_dims(input_ohe, axis=1)\n",
    "            target_ohe = to_categorical(target, num_classes=args.num_items)\n",
    "\n",
    "            result = model.train_on_batch(input_ohe, target_ohe)\n",
    "            tr_loader.set_postfix(train_loss=result[0], accuracy = result[1])\n",
    "\n",
    "        val_recall, val_mrr = get_metrics(args.val, model, args, args.k)  # valid set에 대해 검증\n",
    "\n",
    "        print(f\"\\t - Recall@{args.k} epoch {epoch}: {val_recall:3f}\")\n",
    "        print(f\"\\t - MRR@{args.k}    epoch {epoch}: {val_mrr:3f}\\n\")\n",
    "\n",
    "\n",
    "def reset_hidden_states(model, mask):\n",
    "    gru_layer = model.get_layer(name='GRU')  # model에서 gru layer를 가져온다.\n",
    "    hidden_states = gru_layer.states[0].numpy()  # gru_layer의 parameter를 가져온다.\n",
    "    for elt in mask:  # mask된 인덱스 즉, 종료된 세션의 인덱스를 돌면서\n",
    "        hidden_states[elt, :] = 0  # parameter를 초기화 한다.\n",
    "    gru_layer.reset_states(states=hidden_states)\n",
    "\n",
    "\n",
    "def get_metrics(data, model, args, k: int):  # valid셋과 test셋을 평가하는 코드\n",
    "                                             # train과 거의 같지만 mrr, recall을 구하는 라인이 있다.\n",
    "    dataset = SessionDataset(data)\n",
    "    loader = SessionDataLoader(dataset, batch_size=args.batch_size)\n",
    "    recall_list, mrr_list = [], []\n",
    "\n",
    "    total_step = len(data) - data['SessionId'].nunique()\n",
    "    for inputs, label, mask in tqdm(loader, total=total_step // args.batch_size, desc='Evaluation', mininterval=1):\n",
    "        reset_hidden_states(model, mask)\n",
    "        input_ohe = to_categorical(inputs, num_classes=args.num_items)\n",
    "        input_ohe = np.expand_dims(input_ohe, axis=1)\n",
    "\n",
    "        pred = model.predict(input_ohe, batch_size=args.batch_size)\n",
    "        pred_arg = tf.argsort(pred, direction='DESCENDING')  # softmax 값이 큰 순서대로 sorting 한다.\n",
    "\n",
    "        length = len(inputs)\n",
    "        recall_list.extend([recall_k(pred_arg[i], label[i], k) for i in range(length)])\n",
    "        mrr_list.extend([mrr_k(pred_arg[i], label[i], k) for i in range(length)])\n",
    "\n",
    "    recall, mrr = np.mean(recall_list), np.mean(mrr_list)\n",
    "    return recall, mrr"
   ]
  },
  {
   "cell_type": "code",
   "execution_count": 50,
   "id": "8721b1a9",
   "metadata": {},
   "outputs": [
    {
     "name": "stderr",
     "output_type": "stream",
     "text": [
      "Train:  98%|█████████▊| 58/59 [00:04<00:00, 12.22it/s, accuracy=0, train_loss=8.05]      \n",
      "Evaluation:  75%|███████▌  | 3/4 [00:04<00:01,  1.48s/it]\n"
     ]
    },
    {
     "name": "stdout",
     "output_type": "stream",
     "text": [
      "\t - Recall@20 epoch 1: 0.011719\n",
      "\t - MRR@20    epoch 1: 0.001173\n",
      "\n"
     ]
    },
    {
     "name": "stderr",
     "output_type": "stream",
     "text": [
      "Train:  98%|█████████▊| 58/59 [00:03<00:00, 16.68it/s, accuracy=0, train_loss=8.05]      \n",
      "Evaluation:  75%|███████▌  | 3/4 [00:04<00:01,  1.34s/it]\n"
     ]
    },
    {
     "name": "stdout",
     "output_type": "stream",
     "text": [
      "\t - Recall@20 epoch 2: 0.013021\n",
      "\t - MRR@20    epoch 2: 0.001479\n",
      "\n"
     ]
    },
    {
     "name": "stderr",
     "output_type": "stream",
     "text": [
      "Train:  98%|█████████▊| 58/59 [00:03<00:00, 16.72it/s, accuracy=0, train_loss=8.05]      \n",
      "Evaluation:  75%|███████▌  | 3/4 [00:04<00:01,  1.36s/it]\n"
     ]
    },
    {
     "name": "stdout",
     "output_type": "stream",
     "text": [
      "\t - Recall@20 epoch 3: 0.013021\n",
      "\t - MRR@20    epoch 3: 0.001816\n",
      "\n"
     ]
    },
    {
     "name": "stderr",
     "output_type": "stream",
     "text": [
      "Train:  98%|█████████▊| 58/59 [00:03<00:00, 16.85it/s, accuracy=0, train_loss=8.05]      \n",
      "Evaluation:  75%|███████▌  | 3/4 [00:04<00:01,  1.36s/it]\n"
     ]
    },
    {
     "name": "stdout",
     "output_type": "stream",
     "text": [
      "\t - Recall@20 epoch 4: 0.014323\n",
      "\t - MRR@20    epoch 4: 0.001931\n",
      "\n"
     ]
    },
    {
     "name": "stderr",
     "output_type": "stream",
     "text": [
      "Train:  98%|█████████▊| 58/59 [00:03<00:00, 16.49it/s, accuracy=0, train_loss=8.05]      \n",
      "Evaluation:  75%|███████▌  | 3/4 [00:04<00:01,  1.41s/it]\n"
     ]
    },
    {
     "name": "stdout",
     "output_type": "stream",
     "text": [
      "\t - Recall@20 epoch 5: 0.014323\n",
      "\t - MRR@20    epoch 5: 0.002250\n",
      "\n"
     ]
    },
    {
     "name": "stderr",
     "output_type": "stream",
     "text": [
      "Train:  98%|█████████▊| 58/59 [00:03<00:00, 16.86it/s, accuracy=0, train_loss=8.05]      \n",
      "Evaluation:  75%|███████▌  | 3/4 [00:04<00:01,  1.38s/it]\n"
     ]
    },
    {
     "name": "stdout",
     "output_type": "stream",
     "text": [
      "\t - Recall@20 epoch 6: 0.016927\n",
      "\t - MRR@20    epoch 6: 0.002538\n",
      "\n"
     ]
    },
    {
     "name": "stderr",
     "output_type": "stream",
     "text": [
      "Train:  98%|█████████▊| 58/59 [00:03<00:00, 16.92it/s, accuracy=0, train_loss=8.05]      \n",
      "Evaluation:  75%|███████▌  | 3/4 [00:04<00:01,  1.36s/it]\n"
     ]
    },
    {
     "name": "stdout",
     "output_type": "stream",
     "text": [
      "\t - Recall@20 epoch 7: 0.019531\n",
      "\t - MRR@20    epoch 7: 0.002844\n",
      "\n"
     ]
    },
    {
     "name": "stderr",
     "output_type": "stream",
     "text": [
      "Train:  98%|█████████▊| 58/59 [00:03<00:00, 16.87it/s, accuracy=0, train_loss=8.05]      \n",
      "Evaluation:  75%|███████▌  | 3/4 [00:04<00:01,  1.36s/it]\n"
     ]
    },
    {
     "name": "stdout",
     "output_type": "stream",
     "text": [
      "\t - Recall@20 epoch 8: 0.020833\n",
      "\t - MRR@20    epoch 8: 0.003048\n",
      "\n"
     ]
    },
    {
     "name": "stderr",
     "output_type": "stream",
     "text": [
      "Train:  98%|█████████▊| 58/59 [00:03<00:00, 16.07it/s, accuracy=0, train_loss=8.05]      \n",
      "Evaluation:  75%|███████▌  | 3/4 [00:03<00:01,  1.33s/it]\n"
     ]
    },
    {
     "name": "stdout",
     "output_type": "stream",
     "text": [
      "\t - Recall@20 epoch 9: 0.020833\n",
      "\t - MRR@20    epoch 9: 0.003777\n",
      "\n"
     ]
    },
    {
     "name": "stderr",
     "output_type": "stream",
     "text": [
      "Train:  98%|█████████▊| 58/59 [00:03<00:00, 17.52it/s, accuracy=0, train_loss=8.05]      \n",
      "Evaluation:  75%|███████▌  | 3/4 [00:04<00:01,  1.34s/it]\n"
     ]
    },
    {
     "name": "stdout",
     "output_type": "stream",
     "text": [
      "\t - Recall@20 epoch 10: 0.027344\n",
      "\t - MRR@20    epoch 10: 0.004059\n",
      "\n"
     ]
    },
    {
     "name": "stderr",
     "output_type": "stream",
     "text": [
      "Train:  98%|█████████▊| 58/59 [00:03<00:00, 16.83it/s, accuracy=0, train_loss=8.05]      \n",
      "Evaluation:  75%|███████▌  | 3/4 [00:04<00:01,  1.39s/it]\n"
     ]
    },
    {
     "name": "stdout",
     "output_type": "stream",
     "text": [
      "\t - Recall@20 epoch 11: 0.032552\n",
      "\t - MRR@20    epoch 11: 0.004429\n",
      "\n"
     ]
    },
    {
     "name": "stderr",
     "output_type": "stream",
     "text": [
      "Train:  98%|█████████▊| 58/59 [00:03<00:00, 16.86it/s, accuracy=0.00391, train_loss=8.05]\n",
      "Evaluation:  75%|███████▌  | 3/4 [00:03<00:01,  1.31s/it]\n"
     ]
    },
    {
     "name": "stdout",
     "output_type": "stream",
     "text": [
      "\t - Recall@20 epoch 12: 0.035156\n",
      "\t - MRR@20    epoch 12: 0.004493\n",
      "\n"
     ]
    },
    {
     "name": "stderr",
     "output_type": "stream",
     "text": [
      "Train:  98%|█████████▊| 58/59 [00:03<00:00, 16.22it/s, accuracy=0, train_loss=8.05]      \n",
      "Evaluation:  75%|███████▌  | 3/4 [00:04<00:01,  1.36s/it]\n"
     ]
    },
    {
     "name": "stdout",
     "output_type": "stream",
     "text": [
      "\t - Recall@20 epoch 13: 0.035156\n",
      "\t - MRR@20    epoch 13: 0.004322\n",
      "\n"
     ]
    },
    {
     "name": "stderr",
     "output_type": "stream",
     "text": [
      "Train:  98%|█████████▊| 58/59 [00:03<00:00, 17.46it/s, accuracy=0.00391, train_loss=8.05]\n",
      "Evaluation:  75%|███████▌  | 3/4 [00:04<00:01,  1.34s/it]\n"
     ]
    },
    {
     "name": "stdout",
     "output_type": "stream",
     "text": [
      "\t - Recall@20 epoch 14: 0.037760\n",
      "\t - MRR@20    epoch 14: 0.004501\n",
      "\n"
     ]
    },
    {
     "name": "stderr",
     "output_type": "stream",
     "text": [
      "Train:  98%|█████████▊| 58/59 [00:03<00:00, 16.77it/s, accuracy=0, train_loss=8.05]      \n",
      "Evaluation:  75%|███████▌  | 3/4 [00:04<00:01,  1.36s/it]\n"
     ]
    },
    {
     "name": "stdout",
     "output_type": "stream",
     "text": [
      "\t - Recall@20 epoch 15: 0.036458\n",
      "\t - MRR@20    epoch 15: 0.004137\n",
      "\n"
     ]
    },
    {
     "name": "stderr",
     "output_type": "stream",
     "text": [
      "Train:  98%|█████████▊| 58/59 [00:03<00:00, 17.51it/s, accuracy=0, train_loss=8.05]      \n",
      "Evaluation:  75%|███████▌  | 3/4 [00:03<00:01,  1.32s/it]\n"
     ]
    },
    {
     "name": "stdout",
     "output_type": "stream",
     "text": [
      "\t - Recall@20 epoch 16: 0.035156\n",
      "\t - MRR@20    epoch 16: 0.004207\n",
      "\n"
     ]
    },
    {
     "name": "stderr",
     "output_type": "stream",
     "text": [
      "Train:  98%|█████████▊| 58/59 [00:03<00:00, 16.42it/s, accuracy=0, train_loss=8.04]      \n",
      "Evaluation:  75%|███████▌  | 3/4 [00:04<00:01,  1.36s/it]\n"
     ]
    },
    {
     "name": "stdout",
     "output_type": "stream",
     "text": [
      "\t - Recall@20 epoch 17: 0.032552\n",
      "\t - MRR@20    epoch 17: 0.004561\n",
      "\n"
     ]
    },
    {
     "name": "stderr",
     "output_type": "stream",
     "text": [
      "Train:  98%|█████████▊| 58/59 [00:03<00:00, 17.33it/s, accuracy=0, train_loss=8.04]      \n",
      "Evaluation:  75%|███████▌  | 3/4 [00:04<00:01,  1.35s/it]\n"
     ]
    },
    {
     "name": "stdout",
     "output_type": "stream",
     "text": [
      "\t - Recall@20 epoch 18: 0.031250\n",
      "\t - MRR@20    epoch 18: 0.004681\n",
      "\n"
     ]
    },
    {
     "name": "stderr",
     "output_type": "stream",
     "text": [
      "Train:  98%|█████████▊| 58/59 [00:03<00:00, 17.08it/s, accuracy=0.00781, train_loss=8.04]\n",
      "Evaluation:  75%|███████▌  | 3/4 [00:03<00:01,  1.32s/it]\n"
     ]
    },
    {
     "name": "stdout",
     "output_type": "stream",
     "text": [
      "\t - Recall@20 epoch 19: 0.027344\n",
      "\t - MRR@20    epoch 19: 0.005278\n",
      "\n"
     ]
    },
    {
     "name": "stderr",
     "output_type": "stream",
     "text": [
      "Train:  98%|█████████▊| 58/59 [00:03<00:00, 17.20it/s, accuracy=0, train_loss=8.04]      \n",
      "Evaluation:  75%|███████▌  | 3/4 [00:03<00:01,  1.33s/it]\n"
     ]
    },
    {
     "name": "stdout",
     "output_type": "stream",
     "text": [
      "\t - Recall@20 epoch 20: 0.026042\n",
      "\t - MRR@20    epoch 20: 0.006078\n",
      "\n"
     ]
    },
    {
     "name": "stderr",
     "output_type": "stream",
     "text": [
      "Train:  98%|█████████▊| 58/59 [00:03<00:00, 17.46it/s, accuracy=0, train_loss=8.04]      \n",
      "Evaluation:  75%|███████▌  | 3/4 [00:04<00:01,  1.40s/it]\n"
     ]
    },
    {
     "name": "stdout",
     "output_type": "stream",
     "text": [
      "\t - Recall@20 epoch 21: 0.027344\n",
      "\t - MRR@20    epoch 21: 0.006364\n",
      "\n"
     ]
    },
    {
     "name": "stderr",
     "output_type": "stream",
     "text": [
      "Train:  98%|█████████▊| 58/59 [00:03<00:00, 16.95it/s, accuracy=0, train_loss=8.04]      \n",
      "Evaluation:  75%|███████▌  | 3/4 [00:04<00:01,  1.38s/it]\n"
     ]
    },
    {
     "name": "stdout",
     "output_type": "stream",
     "text": [
      "\t - Recall@20 epoch 22: 0.028646\n",
      "\t - MRR@20    epoch 22: 0.006260\n",
      "\n"
     ]
    },
    {
     "name": "stderr",
     "output_type": "stream",
     "text": [
      "Train:  98%|█████████▊| 58/59 [00:03<00:00, 16.91it/s, accuracy=0, train_loss=8.04]      \n",
      "Evaluation:  75%|███████▌  | 3/4 [00:03<00:01,  1.31s/it]\n"
     ]
    },
    {
     "name": "stdout",
     "output_type": "stream",
     "text": [
      "\t - Recall@20 epoch 23: 0.028646\n",
      "\t - MRR@20    epoch 23: 0.006264\n",
      "\n"
     ]
    },
    {
     "name": "stderr",
     "output_type": "stream",
     "text": [
      "Train:  98%|█████████▊| 58/59 [00:03<00:00, 17.13it/s, accuracy=0, train_loss=8.03]      \n",
      "Evaluation:  75%|███████▌  | 3/4 [00:03<00:01,  1.30s/it]\n"
     ]
    },
    {
     "name": "stdout",
     "output_type": "stream",
     "text": [
      "\t - Recall@20 epoch 24: 0.028646\n",
      "\t - MRR@20    epoch 24: 0.006452\n",
      "\n"
     ]
    },
    {
     "name": "stderr",
     "output_type": "stream",
     "text": [
      "Train:  98%|█████████▊| 58/59 [00:03<00:00, 16.06it/s, accuracy=0, train_loss=8.03]      \n",
      "Evaluation:  75%|███████▌  | 3/4 [00:04<00:01,  1.40s/it]\n"
     ]
    },
    {
     "name": "stdout",
     "output_type": "stream",
     "text": [
      "\t - Recall@20 epoch 25: 0.029948\n",
      "\t - MRR@20    epoch 25: 0.007872\n",
      "\n"
     ]
    },
    {
     "name": "stderr",
     "output_type": "stream",
     "text": [
      "Train:  98%|█████████▊| 58/59 [00:03<00:00, 16.81it/s, accuracy=0, train_loss=8.03]      \n",
      "Evaluation:  75%|███████▌  | 3/4 [00:03<00:01,  1.33s/it]\n"
     ]
    },
    {
     "name": "stdout",
     "output_type": "stream",
     "text": [
      "\t - Recall@20 epoch 26: 0.029948\n",
      "\t - MRR@20    epoch 26: 0.008143\n",
      "\n"
     ]
    },
    {
     "name": "stderr",
     "output_type": "stream",
     "text": [
      "Train:  98%|█████████▊| 58/59 [00:03<00:00, 17.52it/s, accuracy=0, train_loss=8.03]      \n",
      "Evaluation:  75%|███████▌  | 3/4 [00:03<00:01,  1.32s/it]\n"
     ]
    },
    {
     "name": "stdout",
     "output_type": "stream",
     "text": [
      "\t - Recall@20 epoch 27: 0.031250\n",
      "\t - MRR@20    epoch 27: 0.008823\n",
      "\n"
     ]
    },
    {
     "name": "stderr",
     "output_type": "stream",
     "text": [
      "Train:  98%|█████████▊| 58/59 [00:03<00:00, 15.95it/s, accuracy=0, train_loss=8.02]      \n",
      "Evaluation:  75%|███████▌  | 3/4 [00:03<00:01,  1.31s/it]\n"
     ]
    },
    {
     "name": "stdout",
     "output_type": "stream",
     "text": [
      "\t - Recall@20 epoch 28: 0.029948\n",
      "\t - MRR@20    epoch 28: 0.008694\n",
      "\n"
     ]
    },
    {
     "name": "stderr",
     "output_type": "stream",
     "text": [
      "Train:  98%|█████████▊| 58/59 [00:03<00:00, 16.31it/s, accuracy=0, train_loss=8.02]      \n",
      "Evaluation:  75%|███████▌  | 3/4 [00:04<00:01,  1.35s/it]\n"
     ]
    },
    {
     "name": "stdout",
     "output_type": "stream",
     "text": [
      "\t - Recall@20 epoch 29: 0.028646\n",
      "\t - MRR@20    epoch 29: 0.008600\n",
      "\n"
     ]
    },
    {
     "name": "stderr",
     "output_type": "stream",
     "text": [
      "Train:  98%|█████████▊| 58/59 [00:03<00:00, 17.43it/s, accuracy=0.00391, train_loss=8.01]\n",
      "Evaluation:  75%|███████▌  | 3/4 [00:04<00:01,  1.34s/it]"
     ]
    },
    {
     "name": "stdout",
     "output_type": "stream",
     "text": [
      "\t - Recall@20 epoch 30: 0.027344\n",
      "\t - MRR@20    epoch 30: 0.008476\n",
      "\n"
     ]
    },
    {
     "name": "stderr",
     "output_type": "stream",
     "text": [
      "\n"
     ]
    }
   ],
   "source": [
    "train_model(model, args)"
   ]
  },
  {
   "cell_type": "markdown",
   "id": "7b6023c3",
   "metadata": {},
   "source": [
    "### 8. Model Test"
   ]
  },
  {
   "cell_type": "markdown",
   "id": "3106e5b8",
   "metadata": {},
   "source": [
    "### 8.1 Inference"
   ]
  },
  {
   "cell_type": "code",
   "execution_count": 51,
   "id": "4959ba88",
   "metadata": {},
   "outputs": [
    {
     "name": "stderr",
     "output_type": "stream",
     "text": [
      "Evaluation:  75%|███████▌  | 3/4 [00:04<00:01,  1.38s/it]"
     ]
    },
    {
     "name": "stdout",
     "output_type": "stream",
     "text": [
      "\t - Recall@20: 0.053385\n",
      "\t - MRR@20: 0.008597\n",
      "\n"
     ]
    },
    {
     "name": "stderr",
     "output_type": "stream",
     "text": [
      "\n"
     ]
    }
   ],
   "source": [
    "def test_model(model, args, test):\n",
    "    test_recall, test_mrr = get_metrics(test, model, args, 20)\n",
    "    print(f\"\\t - Recall@{args.k}: {test_recall:3f}\")\n",
    "    print(f\"\\t - MRR@{args.k}: {test_mrr:3f}\\n\")\n",
    "\n",
    "test_model(model, args, test)"
   ]
  },
  {
   "cell_type": "markdown",
   "id": "9fc80664",
   "metadata": {},
   "source": [
    "### 9. Attempts to Improve Model Performance"
   ]
  },
  {
   "cell_type": "markdown",
   "id": "a51cfec5",
   "metadata": {},
   "source": [
    "* Basic Line으로 시도한 하이퍼파라미터 값은 아래와 같다.\n",
    "* `batch_size` = 1042, `hsz` = 50, `drop_rate`= 0.1, `lr` = 0.001, `epochs` = 10, `k` = 10\n",
    "* 다양한 하이퍼파라미터들 중 `batch_size`, `drop_rate`, `lr`, `epochs`. 4가지 변경을 통해 개선을 시도해본다."
   ]
  },
  {
   "cell_type": "markdown",
   "id": "d7dfea57",
   "metadata": {},
   "source": [
    "**[Initial value]**"
   ]
  },
  {
   "cell_type": "markdown",
   "id": "876c3206",
   "metadata": {},
   "source": [
    ">* batch_size = 2048\n",
    ">* drop_rate = 0.1\n",
    ">* Ir = 0.001\n",
    ">* epoch = 10"
   ]
  },
  {
   "cell_type": "markdown",
   "id": "baa4c29f",
   "metadata": {},
   "source": [
    "* 학습이 제대로 진행되지 않음.\n",
    "* Recall@10 : nan\n",
    "* MRR@10 : nan\n",
    "* `Attachment_1.Basic Line` 참조"
   ]
  },
  {
   "cell_type": "markdown",
   "id": "8adf51d6",
   "metadata": {},
   "source": [
    "### 9.1 Change Batch Size"
   ]
  },
  {
   "cell_type": "markdown",
   "id": "eb959bd8",
   "metadata": {},
   "source": [
    "* `batch_size`를 변경하여 결과를 확인해본다.\n",
    "* `batch_size` 외 다른 하이퍼파라미터는 Initial value와 동일하게 고정시킨다."
   ]
  },
  {
   "cell_type": "markdown",
   "id": "ed9a17ca",
   "metadata": {},
   "source": [
    "|Batch Size|Recall@10|MRR@10|\n",
    "| :--: | :--: | :--: |\n",
    "| 1024 | nan | nan |\n",
    "| 512 | 0.068359 | 0.013520 |\n",
    "| 256 | 0.084635 | 0.016861 |\n",
    "| 128 | 0.088170 | 0.020149 |\n",
    "| 64 | 0.093750 | 0.031603 |\n",
    "| 32 | 0.123047 | 0.040004 |\n",
    "| 16 | 0.125000 | 0.044584 |\n",
    "| 8 | **0.131731** | **0.056849** |"
   ]
  },
  {
   "cell_type": "markdown",
   "id": "cf99f7be",
   "metadata": {},
   "source": [
    "* 학습이 진행될수록 `train loss`가 더 낮아지는 것을 확인할 수 있었다.\n",
    "* `batch_size` = 8일 때, 모델의 성능이 가장 좋은 것을 확인할 수 있다.\n",
    "* 이후 시도들은 `batch_size` = 32, 16, 8인 경우로 나눠 진행한다."
   ]
  },
  {
   "cell_type": "markdown",
   "id": "f5c6790b",
   "metadata": {},
   "source": [
    "### 9.2 Change Drop Rate"
   ]
  },
  {
   "cell_type": "markdown",
   "id": "97a41bc6",
   "metadata": {},
   "source": [
    "* `drop_rate`를 변경하여 결과를 확인해본다.\n",
    "* `batch_size`와 `drop_rate` 외 다른 하이퍼파라미터는 Initial value와 동일하게 고정시킨다. (`batch_size` = 32, 16, 8의 경우만)"
   ]
  },
  {
   "cell_type": "markdown",
   "id": "c267e21b",
   "metadata": {},
   "source": [
    "|Batch Size|Drop Rate|Recall@10|MRR@10|\n",
    "| :--: | :--: | :--: | :--: |\n",
    "| 32 | 0.1 | **0.123047** | **0.040004** |\n",
    "| 32 | 0.2 | 0.115234 | 0.037378 |\n",
    "| 32 | 0.3 | 0.104492 | 0.039110 |\n",
    "| 32 | 0.4 | 0.110352 | 0.039674 |\n",
    "| 32 | 0.5 | 0.114258 | 0.035163 |\n",
    "| 16 | 0.1 | 0.125000 | 0.044584 |\n",
    "| 16 | 0.2 | 0.138462 | 0.052287 |\n",
    "| 16 | 0.3 | **0.140385** | **0.054475** |\n",
    "| 16 | 0.4 | 0.129808 | 0.050815 |\n",
    "| 16 | 0.5 | 0.131731 | 0.055275 |\n",
    "| 8 | 0.1 | 0.131731 | 0.056849 |\n",
    "| 8 | 0.2 | 0.131731 | 0.053678 |\n",
    "| 8 | 0.3 | 0.130769 | 0.056547 |\n",
    "| 8 | 0.4 | **0.146154** | **0.066567** |\n",
    "| 8 | 0.5 | 0.142308 | 0.061357 |"
   ]
  },
  {
   "cell_type": "markdown",
   "id": "d46c370f",
   "metadata": {},
   "source": [
    "* 학습이 진행될수록 `train loss`가 더 낮아지는 것을 확인할 수 있었다.\n",
    "* `batch_size` = 32인 경우에는 `drop_rate` =  0.1, `batch_size` = 16인 경우에는 `drop_rate` =  0.3, `batch_size` = 8인 경우에는 `drop_rate` =  0.4 일 때 가장 좋은 성능을 보였다."
   ]
  },
  {
   "cell_type": "markdown",
   "id": "5cae3e6f",
   "metadata": {},
   "source": [
    "### 9.3 Change Learning Rate"
   ]
  },
  {
   "cell_type": "markdown",
   "id": "c495c070",
   "metadata": {},
   "source": [
    "* `lr`를 변경하여 결과를 확인해본다.\n",
    "* 위에서 확인된 결과들을 반영하여 `batch_size` = 32, 16, 8, `drop_rate` = 0.1, 0.3, 0.4로 시도하며,\n",
    "* 그 외 다른 하이퍼파라미터는 Initial value와 동일하게 고정시킨다."
   ]
  },
  {
   "cell_type": "markdown",
   "id": "6a6d1aad",
   "metadata": {},
   "source": [
    "**[`batch_size` = 32]**"
   ]
  },
  {
   "cell_type": "markdown",
   "id": "5d1322b1",
   "metadata": {},
   "source": [
    "|Batch Size|Drop Rate|Learning Rate|Recall@10|MRR@10|\n",
    "| :--: | :--: | :--: | :--: | :--: |\n",
    "| **32** | **0.1** | **0.001** | **0.123047** | **0.040004** |\n",
    "| 32 | 0.3 | 0.001 | 0.104492 | 0.039110 |\n",
    "| 32 | 0.4 | 0.001 | 0.110352 | 0.039674 |\n",
    "| 32 | 0.1 | 0.0001 | 0.069336 | 0.011357 |\n",
    "| 32 | 0.3 | 0.0001 | 0.074219 | 0.010979 |\n",
    "| 32 | 0.4 | 0.0001 | 0.072266 | 0.011142 |\n",
    "| 32 | 0.1 | 0.00001 | 0.042969 | 0.006998 |\n",
    "| 32 | 0.3 | 0.00001 | 0.041016 | 0.009155 |\n",
    "| 32 | 0.4 | 0.00001 | 0.059570 | 0.012196 |"
   ]
  },
  {
   "cell_type": "markdown",
   "id": "1ec899ce",
   "metadata": {},
   "source": [
    "**[`batch_size` = 16]**"
   ]
  },
  {
   "cell_type": "markdown",
   "id": "903ab43f",
   "metadata": {},
   "source": [
    "|Batch Size|Drop Rate|Learning Rate|Recall@10|MRR@10|\n",
    "| :--: | :--: | :--: | :--: | :--: |\n",
    "| 16 | 0.1 | 0.001 | 0.125000 | 0.044584 |\n",
    "| **16** | **0.3** | **0.001** | **0.140385** | **0.054475** |\n",
    "| 16 | 0.4 | 0.001 | 0.129808 | 0.050815 |\n",
    "| 16 | 0.1 | 0.0001 | 0.073077 | 0.011766 |\n",
    "| 16 | 0.3 | 0.0001 | 0.075000 | 0.011946 |\n",
    "| 16 | 0.4 | 0.0001 | 0.071154 | 0.011140 |\n",
    "| 16 | 0.1 | 0.00001 | 0.053846 | 0.007774 |\n",
    "| 16 | 0.3 | 0.00001 | 0.068269 | 0.011776 |\n",
    "| 16 | 0.4 | 0.00001 | 0.069231 | 0.009773 |"
   ]
  },
  {
   "cell_type": "markdown",
   "id": "011327f9",
   "metadata": {},
   "source": [
    "**[`batch_size` = 8]**"
   ]
  },
  {
   "cell_type": "markdown",
   "id": "c7a7b593",
   "metadata": {},
   "source": [
    "|Batch Size|Drop Rate|Learning Rate|Recall@10|MRR@10|\n",
    "| :--: | :--: | :--: | :--: | :--: |\n",
    "| 8 | 0.1 | 0.001 | 0.131731 | 0.056849 |\n",
    "| 8 | 0.3 | 0.001 | 0.130769 | 0.056547 |\n",
    "| **8** | **0.4** | **0.001** | **0.146154** | **0.066567** |\n",
    "| 8 | 0.1 | 0.0001 | 0.076923 | 0.015236 |\n",
    "| 8 | 0.3 | 0.0001 | 0.075962 | 0.015285 |\n",
    "| 8 | 0.4 | 0.0001 | 0.075000 | 0.014159 |\n",
    "| 8 | 0.1 | 0.00001 | 0.066346 | 0.011699 |\n",
    "| 8 | 0.3 | 0.00001 | 0.060577 | 0.014750 |\n",
    "| 8 | 0.4 | 0.00001 | 0.059615 | 0.007622 |"
   ]
  },
  {
   "cell_type": "markdown",
   "id": "ae66a54d",
   "metadata": {},
   "source": [
    "* 학습이 진행될수록 `train loss`가 더 낮아지는 것을 확인할 수 있었다.\n",
    "* `batch_size` = 32인 경우에는 `drop_rate` =  0.1, `lr` = 0.001일 때, `batch_size` = 16인 경우에는 `drop_rate` =  0.3, `lr` = 0.001일 때, `batch_size` = 8인 경우에는 `drop_rate` =  0.4, `lr` = 0.001일 때가 가장 좋은 성능을 보였다."
   ]
  },
  {
   "cell_type": "markdown",
   "id": "b3ba3faf",
   "metadata": {},
   "source": [
    "### 9.4 Change Epochs"
   ]
  },
  {
   "cell_type": "markdown",
   "id": "e7b98004",
   "metadata": {},
   "source": [
    "* `epochs`를 변경하여 결과를 확인해본다.\n",
    "* 위에서 확인된 결과들을 바탕으로 3가지 경우에서 `epochs`를 늘려본다."
   ]
  },
  {
   "cell_type": "markdown",
   "id": "b8536e89",
   "metadata": {},
   "source": [
    "|Batch Size|Drop Rate|Learning Rate|Epochs|Recall@10|MRR@10|\n",
    "| :--: | :--: | :--: | :--: | :--: | :--: |\n",
    "| 32 | 0.1 | 0.001 | 5 | 0.071289 | 0.018190 |\n",
    "| 32 | 0.1 | 0.001 | 10 | 0.056849 | 0.040004 |\n",
    "| 32 | 0.1 | 0.001 | 15 | 0.128906 | 0.053002 |\n",
    "| 32 | 0.1 | 0.001 | 20 | 0.146484 | 0.062312 |\n",
    "| 16 | 0.3 | 0.001 | 5 | 0.074038 | 0.024525 |\n",
    "| 16 | 0.3 | 0.001 | 10 | 0.140385 | 0.054475 |\n",
    "| 16 | 0.3 | 0.001 | 15 | **0.16634**6 | 0.062244 |\n",
    "| 16 | 0.3 | 0.001 | 20 | 0.159615 | **0.069308** |\n",
    "| 8 | 0.4 | 0.001 | 5 | 0.107692 | 0.036774 |\n",
    "| 8 | 0.4 | 0.001 | 10 | 0.146154 | 0.066567 |\n",
    "| 8 | 0.4 | 0.001 | 15 | 0.152885 | 0.065509 |\n",
    "| 8 | 0.4 | 0.001 | 20 | 0.156731 | 0.069026 |"
   ]
  },
  {
   "cell_type": "markdown",
   "id": "4d8120b4",
   "metadata": {},
   "source": [
    "* 최종적으로 `batch_size` = , `drop_rate` =  , `lr` = , `epochs` =  일 때, 가장 좋은 성능을 보였다."
   ]
  },
  {
   "cell_type": "markdown",
   "id": "1af9f9ef",
   "metadata": {},
   "source": [
    "* 학습이 진행됨에 따라 `train loss`가 계속해서 감소하는 것이 확인되었다.\n",
    "* `epochs`를 더 늘려보아도 될 것 같다 판단되어 `epochs`가 배 이상으로 커지면 어떻게 되는지 확인해보았다."
   ]
  },
  {
   "cell_type": "markdown",
   "id": "c2b7d053",
   "metadata": {},
   "source": [
    "|Batch Size|Drop Rate|Learning Rate|Epochs|Recall@10|MRR@10|\n",
    "| :--: | :--: | :--: | :--: | :--: | :--: |\n",
    "| 16 | 0.3 | 0.001 | 50 | 0.153846 | 0.062743 |"
   ]
  },
  {
   "cell_type": "markdown",
   "id": "3e89f134",
   "metadata": {},
   "source": [
    "* 8.02에서 시작했던 `train loss`가  1.28까지 감소하는 것을 볼 수 있었다.\n",
    "* 그러나 오히려 평가 지표는 15, 20 epochs 일 때보다 더 좋지 않았다.\n",
    "* `epochs`가 늘어난다고 해서 평가 지표가 좋아지는 것은 아님을 확인할 수 있다. "
   ]
  },
  {
   "cell_type": "markdown",
   "id": "fe4886b1",
   "metadata": {},
   "source": [
    "### 9.4 Change Session Time"
   ]
  },
  {
   "cell_type": "markdown",
   "id": "b8f860ad",
   "metadata": {},
   "source": [
    "* 이때까지는 2년치 데이터를 대상으로 진행했다.\n",
    "* 3개월, 6개월치 데이터로 평가를 진행해본다."
   ]
  },
  {
   "cell_type": "markdown",
   "id": "ebf5d388",
   "metadata": {},
   "source": [
    "|Data Month|Batch Size|Drop Rate|Learning Rate|Epochs|Recall@10|MRR@10|\n",
    "| :--: | :--: | :--: | :--: | :--: | :--: | :--: |\n",
    "| 24 | 16 | 0.3 | 0.001 | 20 | 0.159615 | 0.069308 |\n",
    "| 6 | 16 | 0.3 | 0.001 | 20 | 0.058333 | 0.008237 |\n",
    "| 3 | 16 | 0.3 | 0.001 | 20 | 0.104167 | 0.026835 |"
   ]
  },
  {
   "cell_type": "markdown",
   "id": "105311e7",
   "metadata": {},
   "source": [
    "* 3개월 및 6개월치 데이터를 앞에서 성능이 가장 잘 나온 파라미터로 학습을 시켰을 때 위와 같은 결과가 나타났다.\n",
    "* 결과만 놓고 봤을 때 2년, 3개월, 6개월 순으로 성능이 잘 나타났다.\n",
    "* 하지만 하이퍼파라미터들이 2년치 데이터에 맞춰진 값들이다보니 3개월 및 6개월치 데이터에는 적절하지 않은 것 같다."
   ]
  },
  {
   "cell_type": "markdown",
   "id": "8e10eb8e",
   "metadata": {},
   "source": [
    "### 10. Retrospection"
   ]
  },
  {
   "cell_type": "markdown",
   "id": "2179773f",
   "metadata": {},
   "source": [
    "### 10.1 What was difficult"
   ]
  },
  {
   "cell_type": "markdown",
   "id": "ea64c345",
   "metadata": {},
   "source": [
    "* LMS에서는 평가지표(Recall, MRR) 값에 따른 성능 개선 관련 내용이 상세하게 나와 있지 않아 '성능이 개선되었다' 의 기준을 정확하게 이해하지는 못 했다.\n",
    "* 인덱스가 축범위를 벗어났다는 에러가 떠서 원인을 찾아보았으나 정확한 원인은 찾을 수 없었다."
   ]
  },
  {
   "cell_type": "markdown",
   "id": "5659cd76",
   "metadata": {},
   "source": [
    "### 10.2 What I found out"
   ]
  },
  {
   "cell_type": "markdown",
   "id": "d3db941a",
   "metadata": {},
   "source": [
    "* `cumsum()`는 누적 합을 도출하는 함수이다.\n",
    "* 추천 시스템에서 사용되는 다양한 성능평가 지표 (1. Introduction 참조)\n",
    "* Session의 정확한 의미 (1. Introduction 참조)"
   ]
  },
  {
   "cell_type": "markdown",
   "id": "813f052d",
   "metadata": {},
   "source": [
    "### 10.3 What I want to know more about"
   ]
  },
  {
   "cell_type": "markdown",
   "id": "0fda4bd2",
   "metadata": {},
   "source": [
    "* 이번에는 Classification Task로 보고 Cross-Entropy Loss를 사용해 모델을 구현했다.\n",
    "* 하지만 논문에서는 Ranking Loss를 사용했었다.\n",
    "* 논문에서 사용된 Loss를 사용해보고 싶었으나 시간 제약 상 진행하지 못했다.\n",
    "* 기회가 된다면 한 번 시도해보고 싶다.\n",
    "* https://github.com/hidasib/GRU4Rec\n",
    "* https://github.com/flowel1/gru4rec-keras/blob/master/Gru4Rec_Keras.ipynb"
   ]
  },
  {
   "cell_type": "markdown",
   "id": "6d088f28",
   "metadata": {},
   "source": [
    "### 10.4 Self-Resolution"
   ]
  },
  {
   "cell_type": "markdown",
   "id": "2c0ed14a",
   "metadata": {},
   "source": [
    "* 코드를 자세히 살펴보고 싶었으나,\n",
    "* 시간이 없어서 노드에서 진행된 그대로 진행을 했다.\n",
    "* Exploration은 끝냈지만 뭔가 더 공부해야 할 것 같은 느낌이 든다."
   ]
  },
  {
   "cell_type": "markdown",
   "id": "fdf1746b",
   "metadata": {},
   "source": [
    "**[References]**"
   ]
  },
  {
   "cell_type": "markdown",
   "id": "bfb39349",
   "metadata": {},
   "source": [
    "* https://88240.tistory.com/190\n",
    "* https://blog.naver.com/stu5073/222208516966\n",
    "* https://zzaebok.github.io/recommender_system/metrics/rec_metrics/"
   ]
  }
 ],
 "metadata": {
  "kernelspec": {
   "display_name": "Python 3 (ipykernel)",
   "language": "python",
   "name": "python3"
  },
  "language_info": {
   "codemirror_mode": {
    "name": "ipython",
    "version": 3
   },
   "file_extension": ".py",
   "mimetype": "text/x-python",
   "name": "python",
   "nbconvert_exporter": "python",
   "pygments_lexer": "ipython3",
   "version": "3.9.7"
  }
 },
 "nbformat": 4,
 "nbformat_minor": 5
}
